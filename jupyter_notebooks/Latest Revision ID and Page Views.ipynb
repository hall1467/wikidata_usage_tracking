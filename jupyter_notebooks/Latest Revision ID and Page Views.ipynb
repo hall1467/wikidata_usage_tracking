{
 "cells": [
  {
   "cell_type": "code",
   "execution_count": 4,
   "metadata": {
    "collapsed": false
   },
   "outputs": [],
   "source": [
    "library(dplyr)"
   ]
  },
  {
   "cell_type": "code",
   "execution_count": 5,
   "metadata": {
    "collapsed": false
   },
   "outputs": [],
   "source": [
    "library(jsonlite)"
   ]
  },
  {
   "cell_type": "code",
   "execution_count": 6,
   "metadata": {
    "collapsed": false
   },
   "outputs": [
    {
     "name": "stderr",
     "output_type": "stream",
     "text": [
      "opening file input connection.\n"
     ]
    },
    {
     "name": "stdout",
     "output_type": "stream",
     "text": [
      "\r",
      " Found 500 records...\r",
      " Found 1000 records...\r",
      " Found 1500 records...\r",
      " Found 2000 records...\r",
      " Found 2500 records...\r",
      " Found 3000 records...\r",
      " Found 3500 records...\r",
      " Found 4000 records...\r",
      " Found 4500 records...\r",
      " Found 5000 records...\r",
      " Found 5500 records...\r",
      " Found 6000 records...\r",
      " Found 6500 records...\r",
      " Found 7000 records...\r",
      " Found 7500 records...\r",
      " Found 8000 records...\r",
      " Found 8500 records...\r",
      " Found 9000 records...\r",
      " Found 9500 records...\r",
      " Found 10000 records...\r",
      " Found 10500 records...\r",
      " Found 11000 records...\r",
      " Found 11500 records...\r",
      " Found 12000 records...\r",
      " Found 12500 records...\r",
      " Found 13000 records...\r",
      " Found 13500 records...\r",
      " Found 14000 records...\r",
      " Found 14500 records...\r",
      " Found 15000 records...\r",
      " Found 15500 records...\r",
      " Found 16000 records...\r",
      " Found 16500 records...\r",
      " Found 17000 records...\r",
      " Found 17500 records...\r",
      " Found 18000 records...\r",
      " Found 18500 records...\r",
      " Found 19000 records...\r",
      " Found 19500 records...\r",
      " Found 20000 records...\r",
      " Found 20500 records...\r",
      " Found 21000 records...\r",
      " Found 21500 records...\r",
      " Found 22000 records...\r",
      " Found 22500 records...\r",
      " Found 23000 records...\r",
      " Found 23500 records...\r",
      " Found 24000 records...\r",
      " Found 24500 records...\r",
      " Found 25000 records...\r",
      " Found 25500 records...\r",
      " Found 26000 records...\r",
      " Found 26500 records...\r",
      " Found 27000 records...\r",
      " Found 27500 records...\r",
      " Found 28000 records...\r",
      " Found 28500 records...\r",
      " Found 29000 records...\r",
      " Found 29500 records...\r",
      " Found 30000 records...\r",
      " Found 30500 records...\r",
      " Found 31000 records...\r",
      " Found 31500 records...\r",
      " Found 32000 records...\r",
      " Found 32500 records...\r",
      " Found 33000 records...\r",
      " Found 33500 records...\r",
      " Found 34000 records...\r",
      " Found 34500 records...\r",
      " Found 35000 records...\r",
      " Found 35500 records...\r",
      " Found 36000 records...\r",
      " Found 36500 records...\r",
      " Found 37000 records...\r",
      " Found 37500 records...\r",
      " Found 38000 records...\r",
      " Found 38500 records...\r",
      " Found 39000 records...\r",
      " Found 39500 records...\r",
      " Found 40000 records...\r",
      " Found 40500 records...\r",
      " Found 41000 records...\r",
      " Found 41500 records...\r",
      " Found 42000 records...\r",
      " Found 42500 records...\r",
      " Found 43000 records...\r",
      " Found 43500 records...\r",
      " Found 44000 records...\r",
      " Found 44500 records...\r",
      " Found 45000 records...\r",
      " Found 45500 records...\r",
      " Found 46000 records...\r",
      " Found 46500 records...\r",
      " Found 47000 records...\r",
      " Found 47500 records...\r",
      " Found 48000 records...\r",
      " Found 48500 records...\r",
      " Found 49000 records...\r",
      " Found 49500 records...\r",
      " Found 50000 records...\r",
      " Found 50500 records...\r",
      " Found 51000 records...\r",
      " Found 51500 records...\r",
      " Found 52000 records...\r",
      " Found 52500 records...\r",
      " Found 53000 records...\r",
      " Found 53500 records...\r",
      " Found 54000 records...\r",
      " Found 54500 records...\r",
      " Found 55000 records...\r",
      " Found 55500 records...\r",
      " Found 56000 records...\r",
      " Found 56500 records...\r",
      " Found 57000 records...\r",
      " Found 57500 records...\r",
      " Found 58000 records...\r",
      " Found 58500 records...\r",
      " Found 59000 records...\r",
      " Found 59500 records...\r",
      " Found 60000 records...\r",
      " Found 60500 records...\r",
      " Found 61000 records...\r",
      " Found 61500 records...\r",
      " Found 62000 records...\r",
      " Found 62500 records...\r",
      " Found 63000 records...\r",
      " Found 63500 records...\r",
      " Found 64000 records...\r",
      " Found 64500 records...\r",
      " Found 65000 records...\r",
      " Found 65500 records...\r",
      " Found 66000 records...\r",
      " Found 66500 records...\r",
      " Found 67000 records...\r",
      " Found 67500 records...\r",
      " Found 68000 records...\r",
      " Found 68500 records...\r",
      " Found 69000 records...\r",
      " Found 69500 records...\r",
      " Found 70000 records...\r",
      " Found 70500 records...\r",
      " Found 71000 records...\r",
      " Found 71500 records...\r",
      " Found 72000 records...\r",
      " Found 72500 records...\r",
      " Found 73000 records...\r",
      " Found 73500 records...\r",
      " Found 74000 records...\r",
      " Found 74500 records...\r",
      " Found 75000 records...\r",
      " Found 75500 records...\r",
      " Found 76000 records...\r",
      " Found 76500 records...\r",
      " Found 77000 records...\r",
      " Found 77500 records...\r",
      " Found 78000 records...\r",
      " Found 78500 records...\r",
      " Found 79000 records...\r",
      " Found 79500 records...\r",
      " Found 80000 records...\r",
      " Found 80500 records...\r",
      " Found 81000 records...\r",
      " Found 81500 records...\r",
      " Found 82000 records...\r",
      " Found 82500 records...\r",
      " Found 83000 records...\r",
      " Found 83500 records...\r",
      " Found 84000 records...\r",
      " Found 84500 records...\r",
      " Found 85000 records...\r",
      " Found 85500 records...\r",
      " Found 86000 records...\r",
      " Found 86500 records...\r",
      " Found 87000 records...\r",
      " Found 87500 records...\r",
      " Found 88000 records...\r",
      " Found 88500 records...\r",
      " Found 89000 records...\r",
      " Found 89500 records...\r",
      " Found 90000 records...\r",
      " Found 90500 records...\r",
      " Found 91000 records...\r",
      " Found 91500 records...\r",
      " Found 92000 records...\r",
      " Found 92500 records...\r",
      " Found 93000 records...\r",
      " Found 93500 records...\r",
      " Found 94000 records...\r",
      " Found 94500 records...\r",
      " Found 95000 records...\r",
      " Found 95500 records...\r",
      " Found 96000 records...\r",
      " Found 96500 records...\r",
      " Found 97000 records...\r",
      " Found 97500 records...\r",
      " Found 98000 records...\r",
      " Found 98500 records...\r",
      " Found 99000 records...\r",
      " Found 99500 records...\r",
      " Found 1e+05 records...\r",
      " Imported 1e+05 records. Simplifying...\n"
     ]
    },
    {
     "name": "stderr",
     "output_type": "stream",
     "text": [
      "closing file input connection.\n"
     ]
    }
   ],
   "source": [
    "latest_revision_id_and_page_views <- jsonlite::stream_in(file(\"../results/ores_page_quality_formatted.json\"))"
   ]
  },
  {
   "cell_type": "code",
   "execution_count": 7,
   "metadata": {
    "collapsed": false
   },
   "outputs": [
    {
     "data": {
      "text/html": [
       "<table>\n",
       "<thead><tr><th scope=col>ordinal_score</th><th scope=col>page_namespace</th><th scope=col>score</th><th scope=col>entity_id</th><th scope=col>page_views</th><th scope=col>rev_id</th></tr></thead>\n",
       "<tbody>\n",
       "\t<tr><td>1        </td><td>0        </td><td>E        </td><td>Q13002753</td><td>   1     </td><td> 38217219</td></tr>\n",
       "\t<tr><td>1        </td><td>0        </td><td>E        </td><td>Q803233  </td><td>1108     </td><td>296711513</td></tr>\n",
       "\t<tr><td>3        </td><td>0        </td><td>C        </td><td>Q3695796 </td><td>   5     </td><td>468951768</td></tr>\n",
       "\t<tr><td>1        </td><td>0        </td><td>E        </td><td>Q16077220</td><td>  48     </td><td>204774656</td></tr>\n",
       "\t<tr><td>1        </td><td>0        </td><td>E        </td><td>Q24209288</td><td>   0     </td><td>505526802</td></tr>\n",
       "\t<tr><td>3        </td><td>0        </td><td>C        </td><td>Q5199102 </td><td> 100     </td><td>478999348</td></tr>\n",
       "</tbody>\n",
       "</table>\n"
      ],
      "text/latex": [
       "\\begin{tabular}{r|llllll}\n",
       " ordinal\\_score & page\\_namespace & score & entity\\_id & page\\_views & rev\\_id\\\\\n",
       "\\hline\n",
       "\t 1         & 0         & E         & Q13002753 &    1      &  38217219\\\\\n",
       "\t 1         & 0         & E         & Q803233   & 1108      & 296711513\\\\\n",
       "\t 3         & 0         & C         & Q3695796  &    5      & 468951768\\\\\n",
       "\t 1         & 0         & E         & Q16077220 &   48      & 204774656\\\\\n",
       "\t 1         & 0         & E         & Q24209288 &    0      & 505526802\\\\\n",
       "\t 3         & 0         & C         & Q5199102  &  100      & 478999348\\\\\n",
       "\\end{tabular}\n"
      ],
      "text/markdown": [
       "\n",
       "ordinal_score | page_namespace | score | entity_id | page_views | rev_id | \n",
       "|---|---|---|---|---|---|\n",
       "| 1         | 0         | E         | Q13002753 |    1      |  38217219 | \n",
       "| 1         | 0         | E         | Q803233   | 1108      | 296711513 | \n",
       "| 3         | 0         | C         | Q3695796  |    5      | 468951768 | \n",
       "| 1         | 0         | E         | Q16077220 |   48      | 204774656 | \n",
       "| 1         | 0         | E         | Q24209288 |    0      | 505526802 | \n",
       "| 3         | 0         | C         | Q5199102  |  100      | 478999348 | \n",
       "\n",
       "\n"
      ],
      "text/plain": [
       "  ordinal_score page_namespace score entity_id page_views rev_id   \n",
       "1 1             0              E     Q13002753    1        38217219\n",
       "2 1             0              E     Q803233   1108       296711513\n",
       "3 3             0              C     Q3695796     5       468951768\n",
       "4 1             0              E     Q16077220   48       204774656\n",
       "5 1             0              E     Q24209288    0       505526802\n",
       "6 3             0              C     Q5199102   100       478999348"
      ]
     },
     "metadata": {},
     "output_type": "display_data"
    }
   ],
   "source": [
    "head(latest_revision_id_and_page_views)"
   ]
  },
  {
   "cell_type": "code",
   "execution_count": 12,
   "metadata": {
    "collapsed": false
   },
   "outputs": [
    {
     "data": {
      "text/html": [
       "0.142502791863507"
      ],
      "text/latex": [
       "0.142502791863507"
      ],
      "text/markdown": [
       "0.142502791863507"
      ],
      "text/plain": [
       "[1] 0.1425028"
      ]
     },
     "metadata": {},
     "output_type": "display_data"
    }
   ],
   "source": [
    "cor(latest_revision_id_and_page_views$page_views,latest_revision_id_and_page_views$ordinal_score, method=\"spearman\")"
   ]
  },
  {
   "cell_type": "code",
   "execution_count": 13,
   "metadata": {
    "collapsed": true
   },
   "outputs": [],
   "source": [
    "latest_revision_id_and_page_views_model <- lm(latest_revision_id_and_page_views$page_views ~ latest_revision_id_and_page_views$score)"
   ]
  },
  {
   "cell_type": "code",
   "execution_count": 14,
   "metadata": {
    "collapsed": false
   },
   "outputs": [
    {
     "data": {
      "text/plain": [
       "\n",
       "Call:\n",
       "lm(formula = latest_revision_id_and_page_views$page_views ~ latest_revision_id_and_page_views$score)\n",
       "\n",
       "Residuals:\n",
       "       Min         1Q     Median         3Q        Max \n",
       "  -3576966      -6986      -2504      -2316 2037824717 \n",
       "\n",
       "Coefficients:\n",
       "                                         Estimate Std. Error t value Pr(>|t|)\n",
       "(Intercept)                               5030610    3226029   1.559    0.119\n",
       "latest_revision_id_and_page_views$scoreB -4945284    3228344  -1.532    0.126\n",
       "latest_revision_id_and_page_views$scoreC -4892041    3226376  -1.516    0.129\n",
       "latest_revision_id_and_page_views$scoreD -5023620    3226299  -1.557    0.119\n",
       "latest_revision_id_and_page_views$scoreE -5028102    3226147  -1.559    0.119\n",
       "\n",
       "Residual standard error: 6452000 on 99995 degrees of freedom\n",
       "Multiple R-squared:  9.174e-05,\tAdjusted R-squared:  5.174e-05 \n",
       "F-statistic: 2.294 on 4 and 99995 DF,  p-value: 0.05689\n"
      ]
     },
     "metadata": {},
     "output_type": "display_data"
    }
   ],
   "source": [
    "summary(latest_revision_id_and_page_views_model)"
   ]
  },
  {
   "cell_type": "markdown",
   "metadata": {
    "collapsed": true
   },
   "source": [
    "## Class A Items with Least Pages Views"
   ]
  },
  {
   "cell_type": "code",
   "execution_count": 18,
   "metadata": {
    "collapsed": false
   },
   "outputs": [],
   "source": [
    "class_a_latest_revision_id_and_page_views <- filter(latest_revision_id_and_page_views, score==\"A\")"
   ]
  },
  {
   "cell_type": "code",
   "execution_count": 19,
   "metadata": {
    "collapsed": true
   },
   "outputs": [],
   "source": [
    "sorted_ascend_class_a_latest_revision_id_and_page_views <- dplyr::arrange(class_a_latest_revision_id_and_page_views, page_views)"
   ]
  },
  {
   "cell_type": "code",
   "execution_count": 24,
   "metadata": {
    "collapsed": false
   },
   "outputs": [
    {
     "data": {
      "text/html": [
       "<table>\n",
       "<thead><tr><th scope=col>ordinal_score</th><th scope=col>page_namespace</th><th scope=col>score</th><th scope=col>entity_id</th><th scope=col>page_views</th><th scope=col>rev_id</th></tr></thead>\n",
       "<tbody>\n",
       "\t<tr><td>5        </td><td>0        </td><td>A        </td><td>Q5413    </td><td> 1453644 </td><td>501526168</td></tr>\n",
       "\t<tr><td>5        </td><td>0        </td><td>A        </td><td>Q110053  </td><td> 1501127 </td><td>503580490</td></tr>\n",
       "\t<tr><td>5        </td><td>0        </td><td>A        </td><td>Q1352    </td><td> 2927200 </td><td>503653606</td></tr>\n",
       "\t<tr><td>5        </td><td>0        </td><td>A        </td><td>Q9960    </td><td>14240469 </td><td>506814477</td></tr>\n",
       "</tbody>\n",
       "</table>\n"
      ],
      "text/latex": [
       "\\begin{tabular}{r|llllll}\n",
       " ordinal\\_score & page\\_namespace & score & entity\\_id & page\\_views & rev\\_id\\\\\n",
       "\\hline\n",
       "\t 5         & 0         & A         & Q5413     &  1453644  & 501526168\\\\\n",
       "\t 5         & 0         & A         & Q110053   &  1501127  & 503580490\\\\\n",
       "\t 5         & 0         & A         & Q1352     &  2927200  & 503653606\\\\\n",
       "\t 5         & 0         & A         & Q9960     & 14240469  & 506814477\\\\\n",
       "\\end{tabular}\n"
      ],
      "text/markdown": [
       "\n",
       "ordinal_score | page_namespace | score | entity_id | page_views | rev_id | \n",
       "|---|---|---|---|\n",
       "| 5         | 0         | A         | Q5413     |  1453644  | 501526168 | \n",
       "| 5         | 0         | A         | Q110053   |  1501127  | 503580490 | \n",
       "| 5         | 0         | A         | Q1352     |  2927200  | 503653606 | \n",
       "| 5         | 0         | A         | Q9960     | 14240469  | 506814477 | \n",
       "\n",
       "\n"
      ],
      "text/plain": [
       "  ordinal_score page_namespace score entity_id page_views rev_id   \n",
       "1 5             0              A     Q5413      1453644   501526168\n",
       "2 5             0              A     Q110053    1501127   503580490\n",
       "3 5             0              A     Q1352      2927200   503653606\n",
       "4 5             0              A     Q9960     14240469   506814477"
      ]
     },
     "metadata": {},
     "output_type": "display_data"
    }
   ],
   "source": [
    "head(sorted_ascend_class_a_latest_revision_id_and_page_views, n=10)"
   ]
  },
  {
   "cell_type": "markdown",
   "metadata": {},
   "source": [
    "## Class E Items with Most Pages Views"
   ]
  },
  {
   "cell_type": "code",
   "execution_count": null,
   "metadata": {
    "collapsed": true
   },
   "outputs": [],
   "source": []
  },
  {
   "cell_type": "code",
   "execution_count": 20,
   "metadata": {
    "collapsed": true
   },
   "outputs": [],
   "source": [
    "class_e_latest_revision_id_and_page_views <- filter(latest_revision_id_and_page_views, score==\"E\")"
   ]
  },
  {
   "cell_type": "code",
   "execution_count": 21,
   "metadata": {
    "collapsed": true
   },
   "outputs": [],
   "source": [
    "sorted_desc_class_e_latest_revision_id_and_page_views <- dplyr::arrange(class_e_latest_revision_id_and_page_views, desc(page_views))"
   ]
  },
  {
   "cell_type": "code",
   "execution_count": 25,
   "metadata": {
    "collapsed": false
   },
   "outputs": [
    {
     "data": {
      "text/html": [
       "<table>\n",
       "<thead><tr><th scope=col>ordinal_score</th><th scope=col>page_namespace</th><th scope=col>score</th><th scope=col>entity_id</th><th scope=col>page_views</th><th scope=col>rev_id</th></tr></thead>\n",
       "<tbody>\n",
       "\t<tr><td>1        </td><td>0        </td><td>E        </td><td>Q15619164</td><td>6375293  </td><td>501158407</td></tr>\n",
       "\t<tr><td>1        </td><td>0        </td><td>E        </td><td>Q28941050</td><td>1967477  </td><td>503007128</td></tr>\n",
       "\t<tr><td>1        </td><td>0        </td><td>E        </td><td>Q20267072</td><td>1885813  </td><td>474937898</td></tr>\n",
       "\t<tr><td>1        </td><td>0        </td><td>E        </td><td>Q6631527 </td><td>1064195  </td><td>496781292</td></tr>\n",
       "\t<tr><td>1        </td><td>0        </td><td>E        </td><td>Q3505519 </td><td> 852974  </td><td> 99534420</td></tr>\n",
       "\t<tr><td>1        </td><td>0        </td><td>E        </td><td>Q21704656</td><td> 784381  </td><td>282449952</td></tr>\n",
       "\t<tr><td>1        </td><td>0        </td><td>E        </td><td>Q24533253</td><td> 770739  </td><td>346076195</td></tr>\n",
       "\t<tr><td>1        </td><td>0        </td><td>E        </td><td>Q626217  </td><td> 696122  </td><td>466364425</td></tr>\n",
       "\t<tr><td>1        </td><td>0        </td><td>E        </td><td>Q519     </td><td> 661875  </td><td>473099278</td></tr>\n",
       "\t<tr><td>1        </td><td>0        </td><td>E        </td><td>Q9418169 </td><td> 634646  </td><td>443858630</td></tr>\n",
       "</tbody>\n",
       "</table>\n"
      ],
      "text/latex": [
       "\\begin{tabular}{r|llllll}\n",
       " ordinal\\_score & page\\_namespace & score & entity\\_id & page\\_views & rev\\_id\\\\\n",
       "\\hline\n",
       "\t 1         & 0         & E         & Q15619164 & 6375293   & 501158407\\\\\n",
       "\t 1         & 0         & E         & Q28941050 & 1967477   & 503007128\\\\\n",
       "\t 1         & 0         & E         & Q20267072 & 1885813   & 474937898\\\\\n",
       "\t 1         & 0         & E         & Q6631527  & 1064195   & 496781292\\\\\n",
       "\t 1         & 0         & E         & Q3505519  &  852974   &  99534420\\\\\n",
       "\t 1         & 0         & E         & Q21704656 &  784381   & 282449952\\\\\n",
       "\t 1         & 0         & E         & Q24533253 &  770739   & 346076195\\\\\n",
       "\t 1         & 0         & E         & Q626217   &  696122   & 466364425\\\\\n",
       "\t 1         & 0         & E         & Q519      &  661875   & 473099278\\\\\n",
       "\t 1         & 0         & E         & Q9418169  &  634646   & 443858630\\\\\n",
       "\\end{tabular}\n"
      ],
      "text/markdown": [
       "\n",
       "ordinal_score | page_namespace | score | entity_id | page_views | rev_id | \n",
       "|---|---|---|---|---|---|---|---|---|---|\n",
       "| 1         | 0         | E         | Q15619164 | 6375293   | 501158407 | \n",
       "| 1         | 0         | E         | Q28941050 | 1967477   | 503007128 | \n",
       "| 1         | 0         | E         | Q20267072 | 1885813   | 474937898 | \n",
       "| 1         | 0         | E         | Q6631527  | 1064195   | 496781292 | \n",
       "| 1         | 0         | E         | Q3505519  |  852974   |  99534420 | \n",
       "| 1         | 0         | E         | Q21704656 |  784381   | 282449952 | \n",
       "| 1         | 0         | E         | Q24533253 |  770739   | 346076195 | \n",
       "| 1         | 0         | E         | Q626217   |  696122   | 466364425 | \n",
       "| 1         | 0         | E         | Q519      |  661875   | 473099278 | \n",
       "| 1         | 0         | E         | Q9418169  |  634646   | 443858630 | \n",
       "\n",
       "\n"
      ],
      "text/plain": [
       "   ordinal_score page_namespace score entity_id page_views rev_id   \n",
       "1  1             0              E     Q15619164 6375293    501158407\n",
       "2  1             0              E     Q28941050 1967477    503007128\n",
       "3  1             0              E     Q20267072 1885813    474937898\n",
       "4  1             0              E     Q6631527  1064195    496781292\n",
       "5  1             0              E     Q3505519   852974     99534420\n",
       "6  1             0              E     Q21704656  784381    282449952\n",
       "7  1             0              E     Q24533253  770739    346076195\n",
       "8  1             0              E     Q626217    696122    466364425\n",
       "9  1             0              E     Q519       661875    473099278\n",
       "10 1             0              E     Q9418169   634646    443858630"
      ]
     },
     "metadata": {},
     "output_type": "display_data"
    }
   ],
   "source": [
    "head(sorted_desc_class_e_latest_revision_id_and_page_views, n=10)"
   ]
  },
  {
   "cell_type": "code",
   "execution_count": 26,
   "metadata": {
    "collapsed": false
   },
   "outputs": [
    {
     "data": {
      "text/html": [
       "54663"
      ],
      "text/latex": [
       "54663"
      ],
      "text/markdown": [
       "54663"
      ],
      "text/plain": [
       "[1] 54663"
      ]
     },
     "metadata": {},
     "output_type": "display_data"
    }
   ],
   "source": [
    "nrow(class_e_latest_revision_id_and_page_views)"
   ]
  },
  {
   "cell_type": "code",
   "execution_count": 27,
   "metadata": {
    "collapsed": false
   },
   "outputs": [
    {
     "data": {
      "text/html": [
       "23916"
      ],
      "text/latex": [
       "23916"
      ],
      "text/markdown": [
       "23916"
      ],
      "text/plain": [
       "[1] 23916"
      ]
     },
     "metadata": {},
     "output_type": "display_data"
    }
   ],
   "source": [
    "nrow(filter(latest_revision_id_and_page_views, score==\"D\"))"
   ]
  },
  {
   "cell_type": "code",
   "execution_count": 28,
   "metadata": {
    "collapsed": false
   },
   "outputs": [
    {
     "data": {
      "text/html": [
       "18631"
      ],
      "text/latex": [
       "18631"
      ],
      "text/markdown": [
       "18631"
      ],
      "text/plain": [
       "[1] 18631"
      ]
     },
     "metadata": {},
     "output_type": "display_data"
    }
   ],
   "source": [
    "nrow(filter(latest_revision_id_and_page_views, score==\"C\"))"
   ]
  },
  {
   "cell_type": "code",
   "execution_count": 29,
   "metadata": {
    "collapsed": false
   },
   "outputs": [
    {
     "data": {
      "text/html": [
       "2786"
      ],
      "text/latex": [
       "2786"
      ],
      "text/markdown": [
       "2786"
      ],
      "text/plain": [
       "[1] 2786"
      ]
     },
     "metadata": {},
     "output_type": "display_data"
    }
   ],
   "source": [
    "nrow(filter(latest_revision_id_and_page_views, score==\"B\"))"
   ]
  },
  {
   "cell_type": "code",
   "execution_count": null,
   "metadata": {
    "collapsed": true
   },
   "outputs": [],
   "source": []
  }
 ],
 "metadata": {
  "kernelspec": {
   "display_name": "R [r]",
   "language": "R",
   "name": "R [r]"
  },
  "language_info": {
   "codemirror_mode": "r",
   "file_extension": ".r",
   "mimetype": "text/x-r-source",
   "name": "R",
   "pygments_lexer": "r",
   "version": "3.3.2"
  }
 },
 "nbformat": 4,
 "nbformat_minor": 0
}
