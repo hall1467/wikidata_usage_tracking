{
 "cells": [
  {
   "cell_type": "code",
   "execution_count": 1,
   "metadata": {
    "collapsed": false
   },
   "outputs": [],
   "source": [
    "entity_views_and_edits <- read.table(\"../results/sql_queries/entity_views_and_aggregated_revisions/entity_views_and_aggregated_revisions_and_quality_scoring_20170701.tsv\", header=FALSE, sep=\"\\t\")"
   ]
  },
  {
   "cell_type": "code",
   "execution_count": 2,
   "metadata": {
    "collapsed": false
   },
   "outputs": [],
   "source": [
    "colnames(entity_views_and_edits) <- c('entity_id','number_of_revisions', 'page_views', 'prediction')"
   ]
  },
  {
   "cell_type": "code",
   "execution_count": 3,
   "metadata": {
    "collapsed": false,
    "scrolled": true
   },
   "outputs": [
    {
     "data": {
      "text/plain": [
       "    entity_id        number_of_revisions   page_views        prediction  \n",
       " Q1      :       1   Min.   :    1.0     Min.   :0.000e+00   A:    3969  \n",
       " Q100    :       1   1st Qu.:    6.0     1st Qu.:1.300e+01   B:  500819  \n",
       " Q1000   :       1   Median :   13.0     Median :1.370e+02   C: 5429662  \n",
       " Q10000  :       1   Mean   :   17.9     Mean   :2.461e+04   D: 4472790  \n",
       " Q100000 :       1   3rd Qu.:   23.0     3rd Qu.:1.000e+03   E:11743883  \n",
       " Q1000000:       1   Max.   :21863.0     Max.   :1.253e+10               \n",
       " (Other) :22151117                                                       "
      ]
     },
     "metadata": {},
     "output_type": "display_data"
    }
   ],
   "source": [
    "summary(entity_views_and_edits)"
   ]
  },
  {
   "cell_type": "code",
   "execution_count": 4,
   "metadata": {
    "collapsed": false,
    "scrolled": true
   },
   "outputs": [
    {
     "data": {
      "text/html": [
       "<table>\n",
       "<thead><tr><th scope=col>entity_id</th><th scope=col>number_of_revisions</th><th scope=col>page_views</th><th scope=col>prediction</th></tr></thead>\n",
       "<tbody>\n",
       "\t<tr><td>Q1000999 </td><td>33       </td><td>   736   </td><td>C        </td></tr>\n",
       "\t<tr><td>Q10015364</td><td>11       </td><td>     1   </td><td>E        </td></tr>\n",
       "\t<tr><td>Q10018576</td><td> 9       </td><td>    21   </td><td>E        </td></tr>\n",
       "\t<tr><td>Q10020348</td><td>24       </td><td>    11   </td><td>E        </td></tr>\n",
       "\t<tr><td>Q10020832</td><td>11       </td><td>    12   </td><td>E        </td></tr>\n",
       "\t<tr><td>Q10028220</td><td>13       </td><td>     6   </td><td>E        </td></tr>\n",
       "\t<tr><td>Q10028970</td><td>10       </td><td>    20   </td><td>E        </td></tr>\n",
       "\t<tr><td>Q10030496</td><td>11       </td><td>    85   </td><td>E        </td></tr>\n",
       "\t<tr><td>Q10031876</td><td>10       </td><td>    23   </td><td>E        </td></tr>\n",
       "\t<tr><td>Q10034266</td><td>10       </td><td>   223   </td><td>E        </td></tr>\n",
       "\t<tr><td>Q10040378</td><td>15       </td><td>     0   </td><td>E        </td></tr>\n",
       "\t<tr><td>Q10040620</td><td>10       </td><td>     9   </td><td>E        </td></tr>\n",
       "\t<tr><td>Q1004252 </td><td>14       </td><td>127383   </td><td>C        </td></tr>\n",
       "\t<tr><td>Q10043030</td><td>11       </td><td>    69   </td><td>E        </td></tr>\n",
       "\t<tr><td>Q10046128</td><td>15       </td><td>     9   </td><td>E        </td></tr>\n",
       "\t<tr><td>Q10046696</td><td>19       </td><td>   257   </td><td>E        </td></tr>\n",
       "\t<tr><td>Q10056136</td><td>10       </td><td>   167   </td><td>E        </td></tr>\n",
       "\t<tr><td>Q10063902</td><td>11       </td><td>    11   </td><td>E        </td></tr>\n",
       "\t<tr><td>Q10069140</td><td>14       </td><td>     0   </td><td>C        </td></tr>\n",
       "\t<tr><td>Q10069799</td><td>16       </td><td>     9   </td><td>E        </td></tr>\n",
       "\t<tr><td>Q10070916</td><td>15       </td><td>    28   </td><td>E        </td></tr>\n",
       "\t<tr><td>Q10071457</td><td>10       </td><td>     7   </td><td>E        </td></tr>\n",
       "\t<tr><td>Q10079726</td><td>15       </td><td>    47   </td><td>E        </td></tr>\n",
       "\t<tr><td>Q10080250</td><td>12       </td><td>     3   </td><td>E        </td></tr>\n",
       "\t<tr><td>Q10081695</td><td>16       </td><td>     0   </td><td>C        </td></tr>\n",
       "\t<tr><td>Q10086915</td><td>10       </td><td>    43   </td><td>E        </td></tr>\n",
       "\t<tr><td>Q10087567</td><td>17       </td><td>     9   </td><td>E        </td></tr>\n",
       "\t<tr><td>Q1008807 </td><td>10       </td><td>  1173   </td><td>E        </td></tr>\n",
       "\t<tr><td>Q10088852</td><td>21       </td><td>   192   </td><td>D        </td></tr>\n",
       "\t<tr><td>Q10089175</td><td>11       </td><td>    16   </td><td>E        </td></tr>\n",
       "\t<tr><td>⋮</td><td>⋮</td><td>⋮</td><td>⋮</td></tr>\n",
       "\t<tr><td>Q10178174</td><td> 12      </td><td>     2   </td><td>E        </td></tr>\n",
       "\t<tr><td>Q10179539</td><td> 12      </td><td>    21   </td><td>E        </td></tr>\n",
       "\t<tr><td>Q10180230</td><td> 12      </td><td>     0   </td><td>E        </td></tr>\n",
       "\t<tr><td>Q10185035</td><td> 12      </td><td>     0   </td><td>E        </td></tr>\n",
       "\t<tr><td>Q10185630</td><td> 17      </td><td>     5   </td><td>E        </td></tr>\n",
       "\t<tr><td>Q10189748</td><td> 11      </td><td>    14   </td><td>E        </td></tr>\n",
       "\t<tr><td>Q10190125</td><td> 14      </td><td>     1   </td><td>E        </td></tr>\n",
       "\t<tr><td>Q10191117</td><td> 12      </td><td>    69   </td><td>E        </td></tr>\n",
       "\t<tr><td>Q10193419</td><td> 16      </td><td>     2   </td><td>E        </td></tr>\n",
       "\t<tr><td>Q10197467</td><td> 10      </td><td>     5   </td><td>E        </td></tr>\n",
       "\t<tr><td>Q10199156</td><td> 12      </td><td>  3878   </td><td>E        </td></tr>\n",
       "\t<tr><td>Q10201621</td><td> 12      </td><td>   235   </td><td>E        </td></tr>\n",
       "\t<tr><td>Q1020294 </td><td> 15      </td><td>   289   </td><td>D        </td></tr>\n",
       "\t<tr><td>Q10203058</td><td> 12      </td><td>    42   </td><td>E        </td></tr>\n",
       "\t<tr><td>Q10205202</td><td> 15      </td><td>     0   </td><td>E        </td></tr>\n",
       "\t<tr><td>Q1020522 </td><td>116      </td><td> 37032   </td><td>B        </td></tr>\n",
       "\t<tr><td>Q10206574</td><td> 14      </td><td>    10   </td><td>E        </td></tr>\n",
       "\t<tr><td>Q10210050</td><td>  9      </td><td>    13   </td><td>E        </td></tr>\n",
       "\t<tr><td>Q10213854</td><td> 13      </td><td>    52   </td><td>E        </td></tr>\n",
       "\t<tr><td>Q10214898</td><td> 10      </td><td>     6   </td><td>E        </td></tr>\n",
       "\t<tr><td>Q10218644</td><td> 10      </td><td>    27   </td><td>E        </td></tr>\n",
       "\t<tr><td>Q10220002</td><td> 16      </td><td>295242   </td><td>C        </td></tr>\n",
       "\t<tr><td>Q10222472</td><td> 10      </td><td>    12   </td><td>E        </td></tr>\n",
       "\t<tr><td>Q10227947</td><td> 12      </td><td>   544   </td><td>E        </td></tr>\n",
       "\t<tr><td>Q10230571</td><td> 10      </td><td>    13   </td><td>E        </td></tr>\n",
       "\t<tr><td>Q10231920</td><td> 46      </td><td>  2167   </td><td>C        </td></tr>\n",
       "\t<tr><td>Q10233668</td><td>  8      </td><td>    21   </td><td>E        </td></tr>\n",
       "\t<tr><td>Q10234157</td><td> 18      </td><td>    40   </td><td>E        </td></tr>\n",
       "\t<tr><td>Q10235491</td><td> 11      </td><td>    22   </td><td>E        </td></tr>\n",
       "\t<tr><td>Q10235772</td><td> 11      </td><td>    33   </td><td>E        </td></tr>\n",
       "</tbody>\n",
       "</table>\n"
      ],
      "text/latex": [
       "\\begin{tabular}{r|llll}\n",
       " entity\\_id & number\\_of\\_revisions & page\\_views & prediction\\\\\n",
       "\\hline\n",
       "\t Q1000999  & 33        &    736    & C        \\\\\n",
       "\t Q10015364 & 11        &      1    & E        \\\\\n",
       "\t Q10018576 &  9        &     21    & E        \\\\\n",
       "\t Q10020348 & 24        &     11    & E        \\\\\n",
       "\t Q10020832 & 11        &     12    & E        \\\\\n",
       "\t Q10028220 & 13        &      6    & E        \\\\\n",
       "\t Q10028970 & 10        &     20    & E        \\\\\n",
       "\t Q10030496 & 11        &     85    & E        \\\\\n",
       "\t Q10031876 & 10        &     23    & E        \\\\\n",
       "\t Q10034266 & 10        &    223    & E        \\\\\n",
       "\t Q10040378 & 15        &      0    & E        \\\\\n",
       "\t Q10040620 & 10        &      9    & E        \\\\\n",
       "\t Q1004252  & 14        & 127383    & C        \\\\\n",
       "\t Q10043030 & 11        &     69    & E        \\\\\n",
       "\t Q10046128 & 15        &      9    & E        \\\\\n",
       "\t Q10046696 & 19        &    257    & E        \\\\\n",
       "\t Q10056136 & 10        &    167    & E        \\\\\n",
       "\t Q10063902 & 11        &     11    & E        \\\\\n",
       "\t Q10069140 & 14        &      0    & C        \\\\\n",
       "\t Q10069799 & 16        &      9    & E        \\\\\n",
       "\t Q10070916 & 15        &     28    & E        \\\\\n",
       "\t Q10071457 & 10        &      7    & E        \\\\\n",
       "\t Q10079726 & 15        &     47    & E        \\\\\n",
       "\t Q10080250 & 12        &      3    & E        \\\\\n",
       "\t Q10081695 & 16        &      0    & C        \\\\\n",
       "\t Q10086915 & 10        &     43    & E        \\\\\n",
       "\t Q10087567 & 17        &      9    & E        \\\\\n",
       "\t Q1008807  & 10        &   1173    & E        \\\\\n",
       "\t Q10088852 & 21        &    192    & D        \\\\\n",
       "\t Q10089175 & 11        &     16    & E        \\\\\n",
       "\t ⋮ & ⋮ & ⋮ & ⋮\\\\\n",
       "\t Q10178174 &  12       &      2    & E        \\\\\n",
       "\t Q10179539 &  12       &     21    & E        \\\\\n",
       "\t Q10180230 &  12       &      0    & E        \\\\\n",
       "\t Q10185035 &  12       &      0    & E        \\\\\n",
       "\t Q10185630 &  17       &      5    & E        \\\\\n",
       "\t Q10189748 &  11       &     14    & E        \\\\\n",
       "\t Q10190125 &  14       &      1    & E        \\\\\n",
       "\t Q10191117 &  12       &     69    & E        \\\\\n",
       "\t Q10193419 &  16       &      2    & E        \\\\\n",
       "\t Q10197467 &  10       &      5    & E        \\\\\n",
       "\t Q10199156 &  12       &   3878    & E        \\\\\n",
       "\t Q10201621 &  12       &    235    & E        \\\\\n",
       "\t Q1020294  &  15       &    289    & D        \\\\\n",
       "\t Q10203058 &  12       &     42    & E        \\\\\n",
       "\t Q10205202 &  15       &      0    & E        \\\\\n",
       "\t Q1020522  & 116       &  37032    & B        \\\\\n",
       "\t Q10206574 &  14       &     10    & E        \\\\\n",
       "\t Q10210050 &   9       &     13    & E        \\\\\n",
       "\t Q10213854 &  13       &     52    & E        \\\\\n",
       "\t Q10214898 &  10       &      6    & E        \\\\\n",
       "\t Q10218644 &  10       &     27    & E        \\\\\n",
       "\t Q10220002 &  16       & 295242    & C        \\\\\n",
       "\t Q10222472 &  10       &     12    & E        \\\\\n",
       "\t Q10227947 &  12       &    544    & E        \\\\\n",
       "\t Q10230571 &  10       &     13    & E        \\\\\n",
       "\t Q10231920 &  46       &   2167    & C        \\\\\n",
       "\t Q10233668 &   8       &     21    & E        \\\\\n",
       "\t Q10234157 &  18       &     40    & E        \\\\\n",
       "\t Q10235491 &  11       &     22    & E        \\\\\n",
       "\t Q10235772 &  11       &     33    & E        \\\\\n",
       "\\end{tabular}\n"
      ],
      "text/markdown": [
       "\n",
       "entity_id | number_of_revisions | page_views | prediction | \n",
       "|---|---|---|---|---|---|---|---|---|---|---|---|---|---|---|---|---|---|---|---|---|---|---|---|---|---|---|---|---|---|---|---|---|---|---|---|---|---|---|---|---|---|---|---|---|---|---|---|---|---|---|---|---|---|---|---|---|---|---|---|---|\n",
       "| Q1000999  | 33        |    736    | C         | \n",
       "| Q10015364 | 11        |      1    | E         | \n",
       "| Q10018576 |  9        |     21    | E         | \n",
       "| Q10020348 | 24        |     11    | E         | \n",
       "| Q10020832 | 11        |     12    | E         | \n",
       "| Q10028220 | 13        |      6    | E         | \n",
       "| Q10028970 | 10        |     20    | E         | \n",
       "| Q10030496 | 11        |     85    | E         | \n",
       "| Q10031876 | 10        |     23    | E         | \n",
       "| Q10034266 | 10        |    223    | E         | \n",
       "| Q10040378 | 15        |      0    | E         | \n",
       "| Q10040620 | 10        |      9    | E         | \n",
       "| Q1004252  | 14        | 127383    | C         | \n",
       "| Q10043030 | 11        |     69    | E         | \n",
       "| Q10046128 | 15        |      9    | E         | \n",
       "| Q10046696 | 19        |    257    | E         | \n",
       "| Q10056136 | 10        |    167    | E         | \n",
       "| Q10063902 | 11        |     11    | E         | \n",
       "| Q10069140 | 14        |      0    | C         | \n",
       "| Q10069799 | 16        |      9    | E         | \n",
       "| Q10070916 | 15        |     28    | E         | \n",
       "| Q10071457 | 10        |      7    | E         | \n",
       "| Q10079726 | 15        |     47    | E         | \n",
       "| Q10080250 | 12        |      3    | E         | \n",
       "| Q10081695 | 16        |      0    | C         | \n",
       "| Q10086915 | 10        |     43    | E         | \n",
       "| Q10087567 | 17        |      9    | E         | \n",
       "| Q1008807  | 10        |   1173    | E         | \n",
       "| Q10088852 | 21        |    192    | D         | \n",
       "| Q10089175 | 11        |     16    | E         | \n",
       "| ⋮ | ⋮ | ⋮ | ⋮ | \n",
       "| Q10178174 |  12       |      2    | E         | \n",
       "| Q10179539 |  12       |     21    | E         | \n",
       "| Q10180230 |  12       |      0    | E         | \n",
       "| Q10185035 |  12       |      0    | E         | \n",
       "| Q10185630 |  17       |      5    | E         | \n",
       "| Q10189748 |  11       |     14    | E         | \n",
       "| Q10190125 |  14       |      1    | E         | \n",
       "| Q10191117 |  12       |     69    | E         | \n",
       "| Q10193419 |  16       |      2    | E         | \n",
       "| Q10197467 |  10       |      5    | E         | \n",
       "| Q10199156 |  12       |   3878    | E         | \n",
       "| Q10201621 |  12       |    235    | E         | \n",
       "| Q1020294  |  15       |    289    | D         | \n",
       "| Q10203058 |  12       |     42    | E         | \n",
       "| Q10205202 |  15       |      0    | E         | \n",
       "| Q1020522  | 116       |  37032    | B         | \n",
       "| Q10206574 |  14       |     10    | E         | \n",
       "| Q10210050 |   9       |     13    | E         | \n",
       "| Q10213854 |  13       |     52    | E         | \n",
       "| Q10214898 |  10       |      6    | E         | \n",
       "| Q10218644 |  10       |     27    | E         | \n",
       "| Q10220002 |  16       | 295242    | C         | \n",
       "| Q10222472 |  10       |     12    | E         | \n",
       "| Q10227947 |  12       |    544    | E         | \n",
       "| Q10230571 |  10       |     13    | E         | \n",
       "| Q10231920 |  46       |   2167    | C         | \n",
       "| Q10233668 |   8       |     21    | E         | \n",
       "| Q10234157 |  18       |     40    | E         | \n",
       "| Q10235491 |  11       |     22    | E         | \n",
       "| Q10235772 |  11       |     33    | E         | \n",
       "\n",
       "\n"
      ],
      "text/plain": [
       "    entity_id number_of_revisions page_views prediction\n",
       "1   Q1000999  33                     736     C         \n",
       "2   Q10015364 11                       1     E         \n",
       "3   Q10018576  9                      21     E         \n",
       "4   Q10020348 24                      11     E         \n",
       "5   Q10020832 11                      12     E         \n",
       "6   Q10028220 13                       6     E         \n",
       "7   Q10028970 10                      20     E         \n",
       "8   Q10030496 11                      85     E         \n",
       "9   Q10031876 10                      23     E         \n",
       "10  Q10034266 10                     223     E         \n",
       "11  Q10040378 15                       0     E         \n",
       "12  Q10040620 10                       9     E         \n",
       "13  Q1004252  14                  127383     C         \n",
       "14  Q10043030 11                      69     E         \n",
       "15  Q10046128 15                       9     E         \n",
       "16  Q10046696 19                     257     E         \n",
       "17  Q10056136 10                     167     E         \n",
       "18  Q10063902 11                      11     E         \n",
       "19  Q10069140 14                       0     C         \n",
       "20  Q10069799 16                       9     E         \n",
       "21  Q10070916 15                      28     E         \n",
       "22  Q10071457 10                       7     E         \n",
       "23  Q10079726 15                      47     E         \n",
       "24  Q10080250 12                       3     E         \n",
       "25  Q10081695 16                       0     C         \n",
       "26  Q10086915 10                      43     E         \n",
       "27  Q10087567 17                       9     E         \n",
       "28  Q1008807  10                    1173     E         \n",
       "29  Q10088852 21                     192     D         \n",
       "30  Q10089175 11                      16     E         \n",
       "⋮   ⋮         ⋮                   ⋮          ⋮         \n",
       "71  Q10178174  12                      2     E         \n",
       "72  Q10179539  12                     21     E         \n",
       "73  Q10180230  12                      0     E         \n",
       "74  Q10185035  12                      0     E         \n",
       "75  Q10185630  17                      5     E         \n",
       "76  Q10189748  11                     14     E         \n",
       "77  Q10190125  14                      1     E         \n",
       "78  Q10191117  12                     69     E         \n",
       "79  Q10193419  16                      2     E         \n",
       "80  Q10197467  10                      5     E         \n",
       "81  Q10199156  12                   3878     E         \n",
       "82  Q10201621  12                    235     E         \n",
       "83  Q1020294   15                    289     D         \n",
       "84  Q10203058  12                     42     E         \n",
       "85  Q10205202  15                      0     E         \n",
       "86  Q1020522  116                  37032     B         \n",
       "87  Q10206574  14                     10     E         \n",
       "88  Q10210050   9                     13     E         \n",
       "89  Q10213854  13                     52     E         \n",
       "90  Q10214898  10                      6     E         \n",
       "91  Q10218644  10                     27     E         \n",
       "92  Q10220002  16                 295242     C         \n",
       "93  Q10222472  10                     12     E         \n",
       "94  Q10227947  12                    544     E         \n",
       "95  Q10230571  10                     13     E         \n",
       "96  Q10231920  46                   2167     C         \n",
       "97  Q10233668   8                     21     E         \n",
       "98  Q10234157  18                     40     E         \n",
       "99  Q10235491  11                     22     E         \n",
       "100 Q10235772  11                     33     E         "
      ]
     },
     "metadata": {},
     "output_type": "display_data"
    }
   ],
   "source": [
    "head(entity_views_and_edits, n=100)"
   ]
  },
  {
   "cell_type": "code",
   "execution_count": 5,
   "metadata": {
    "collapsed": false
   },
   "outputs": [
    {
     "data": {
      "text/html": [
       "0.184581139220765"
      ],
      "text/latex": [
       "0.184581139220765"
      ],
      "text/markdown": [
       "0.184581139220765"
      ],
      "text/plain": [
       "[1] 0.1845811"
      ]
     },
     "metadata": {},
     "output_type": "display_data"
    }
   ],
   "source": [
    "cor(entity_views_and_edits$page_views,entity_views_and_edits$number_of_revisions, method=\"spearman\")"
   ]
  },
  {
   "cell_type": "code",
   "execution_count": 6,
   "metadata": {
    "collapsed": false
   },
   "outputs": [],
   "source": [
    "entity_views_and_edits_model <- lm(entity_views_and_edits$page_views ~ entity_views_and_edits$number_of_revisions)"
   ]
  },
  {
   "cell_type": "code",
   "execution_count": 7,
   "metadata": {
    "collapsed": false
   },
   "outputs": [
    {
     "data": {
      "text/plain": [
       "\n",
       "Call:\n",
       "lm(formula = entity_views_and_edits$page_views ~ entity_views_and_edits$number_of_revisions)\n",
       "\n",
       "Residuals:\n",
       "       Min         1Q     Median         3Q        Max \n",
       "-2.051e+08 -6.302e+04  3.079e+04  9.651e+04  1.251e+10 \n",
       "\n",
       "Coefficients:\n",
       "                                             Estimate Std. Error t value\n",
       "(Intercept)                                -143454.88    1532.40  -93.61\n",
       "entity_views_and_edits$number_of_revisions    9388.76      54.26  173.05\n",
       "                                           Pr(>|t|)    \n",
       "(Intercept)                                  <2e-16 ***\n",
       "entity_views_and_edits$number_of_revisions   <2e-16 ***\n",
       "---\n",
       "Signif. codes:  0 ‘***’ 0.001 ‘**’ 0.01 ‘*’ 0.05 ‘.’ 0.1 ‘ ’ 1\n",
       "\n",
       "Residual standard error: 5579000 on 22151121 degrees of freedom\n",
       "Multiple R-squared:  0.00135,\tAdjusted R-squared:  0.00135 \n",
       "F-statistic: 2.995e+04 on 1 and 22151121 DF,  p-value: < 2.2e-16\n"
      ]
     },
     "metadata": {},
     "output_type": "display_data"
    }
   ],
   "source": [
    "summary(entity_views_and_edits_model)"
   ]
  },
  {
   "cell_type": "code",
   "execution_count": null,
   "metadata": {
    "collapsed": true
   },
   "outputs": [],
   "source": []
  },
  {
   "cell_type": "code",
   "execution_count": null,
   "metadata": {
    "collapsed": true
   },
   "outputs": [],
   "source": []
  }
 ],
 "metadata": {
  "anaconda-cloud": {},
  "kernelspec": {
   "display_name": "R [r]",
   "language": "R",
   "name": "R [r]"
  },
  "language_info": {
   "codemirror_mode": "r",
   "file_extension": ".r",
   "mimetype": "text/x-r-source",
   "name": "R",
   "pygments_lexer": "r",
   "version": "3.3.2"
  }
 },
 "nbformat": 4,
 "nbformat_minor": 0
}
