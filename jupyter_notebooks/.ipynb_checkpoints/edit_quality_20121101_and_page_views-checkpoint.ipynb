{
 "cells": [
  {
   "cell_type": "code",
   "execution_count": 19,
   "metadata": {
    "collapsed": false,
    "scrolled": true
   },
   "outputs": [],
   "source": [
    "library(dplyr)"
   ]
  },
  {
   "cell_type": "code",
   "execution_count": 20,
   "metadata": {
    "collapsed": false
   },
   "outputs": [],
   "source": [
    "quality_prediction_and_page_views <- read.table(\"../results/sql_queries/entity_views_and_aggregated_revisions/entity_views_and_aggregated_revisions_and_quality_scoring_prediction_converted_20130701.tsv\", header=FALSE, sep=\"\\t\")"
   ]
  },
  {
   "cell_type": "code",
   "execution_count": 21,
   "metadata": {
    "collapsed": false
   },
   "outputs": [],
   "source": [
    "colnames(quality_prediction_and_page_views) <- c('entity_id','number_of_revisions', 'page_views', 'prediction', 'ordinal_score')"
   ]
  },
  {
   "cell_type": "code",
   "execution_count": 22,
   "metadata": {
    "collapsed": false
   },
   "outputs": [
    {
     "data": {
      "text/html": [
       "<table>\n",
       "<thead><tr><th scope=col>entity_id</th><th scope=col>number_of_revisions</th><th scope=col>page_views</th><th scope=col>prediction</th><th scope=col>ordinal_score</th></tr></thead>\n",
       "<tbody>\n",
       "\t<tr><td>Q1000999 </td><td>33       </td><td>736      </td><td>E        </td><td>1        </td></tr>\n",
       "\t<tr><td>Q10015364</td><td>11       </td><td>  1      </td><td>E        </td><td>1        </td></tr>\n",
       "\t<tr><td>Q10018576</td><td> 9       </td><td> 21      </td><td>E        </td><td>1        </td></tr>\n",
       "\t<tr><td>Q10020348</td><td>24       </td><td> 11      </td><td>E        </td><td>1        </td></tr>\n",
       "\t<tr><td>Q10020832</td><td>11       </td><td> 12      </td><td>E        </td><td>1        </td></tr>\n",
       "\t<tr><td>Q10028220</td><td>13       </td><td>  6      </td><td>E        </td><td>1        </td></tr>\n",
       "</tbody>\n",
       "</table>\n"
      ],
      "text/latex": [
       "\\begin{tabular}{r|lllll}\n",
       " entity\\_id & number\\_of\\_revisions & page\\_views & prediction & ordinal\\_score\\\\\n",
       "\\hline\n",
       "\t Q1000999  & 33        & 736       & E         & 1        \\\\\n",
       "\t Q10015364 & 11        &   1       & E         & 1        \\\\\n",
       "\t Q10018576 &  9        &  21       & E         & 1        \\\\\n",
       "\t Q10020348 & 24        &  11       & E         & 1        \\\\\n",
       "\t Q10020832 & 11        &  12       & E         & 1        \\\\\n",
       "\t Q10028220 & 13        &   6       & E         & 1        \\\\\n",
       "\\end{tabular}\n"
      ],
      "text/markdown": [
       "\n",
       "entity_id | number_of_revisions | page_views | prediction | ordinal_score | \n",
       "|---|---|---|---|---|---|\n",
       "| Q1000999  | 33        | 736       | E         | 1         | \n",
       "| Q10015364 | 11        |   1       | E         | 1         | \n",
       "| Q10018576 |  9        |  21       | E         | 1         | \n",
       "| Q10020348 | 24        |  11       | E         | 1         | \n",
       "| Q10020832 | 11        |  12       | E         | 1         | \n",
       "| Q10028220 | 13        |   6       | E         | 1         | \n",
       "\n",
       "\n"
      ],
      "text/plain": [
       "  entity_id number_of_revisions page_views prediction ordinal_score\n",
       "1 Q1000999  33                  736        E          1            \n",
       "2 Q10015364 11                    1        E          1            \n",
       "3 Q10018576  9                   21        E          1            \n",
       "4 Q10020348 24                   11        E          1            \n",
       "5 Q10020832 11                   12        E          1            \n",
       "6 Q10028220 13                    6        E          1            "
      ]
     },
     "metadata": {},
     "output_type": "display_data"
    }
   ],
   "source": [
    "head(quality_prediction_and_page_views)"
   ]
  },
  {
   "cell_type": "code",
   "execution_count": 23,
   "metadata": {
    "collapsed": false
   },
   "outputs": [
    {
     "data": {
      "text/html": [
       "0.256714011897879"
      ],
      "text/latex": [
       "0.256714011897879"
      ],
      "text/markdown": [
       "0.256714011897879"
      ],
      "text/plain": [
       "[1] 0.256714"
      ]
     },
     "metadata": {},
     "output_type": "display_data"
    }
   ],
   "source": [
    "cor(quality_prediction_and_page_views$page_views,quality_prediction_and_page_views$ordinal_score, method=\"spearman\")"
   ]
  },
  {
   "cell_type": "code",
   "execution_count": 24,
   "metadata": {
    "collapsed": false
   },
   "outputs": [],
   "source": [
    "quality_prediction_and_page_views_model <- lm(quality_prediction_and_page_views$page_views ~ quality_prediction_and_page_views$ordinal_score)"
   ]
  },
  {
   "cell_type": "code",
   "execution_count": 25,
   "metadata": {
    "collapsed": false
   },
   "outputs": [
    {
     "data": {
      "text/plain": [
       "\n",
       "Call:\n",
       "lm(formula = quality_prediction_and_page_views$page_views ~ quality_prediction_and_page_views$ordinal_score)\n",
       "\n",
       "Residuals:\n",
       "       Min         1Q     Median         3Q        Max \n",
       "-3.937e+05 -2.239e+04 -2.213e+04 -2.081e+04  1.253e+10 \n",
       "\n",
       "Coefficients:\n",
       "                                                Estimate Std. Error t value\n",
       "(Intercept)                                       -89695       5555  -16.15\n",
       "quality_prediction_and_page_views$ordinal_score   112111       4410   25.42\n",
       "                                                Pr(>|t|)    \n",
       "(Intercept)                                       <2e-16 ***\n",
       "quality_prediction_and_page_views$ordinal_score   <2e-16 ***\n",
       "---\n",
       "Signif. codes:  0 ‘***’ 0.001 ‘**’ 0.01 ‘*’ 0.05 ‘.’ 0.1 ‘ ’ 1\n",
       "\n",
       "Residual standard error: 7304000 on 11668022 degrees of freedom\n",
       "Multiple R-squared:  5.538e-05,\tAdjusted R-squared:  5.529e-05 \n",
       "F-statistic: 646.2 on 1 and 11668022 DF,  p-value: < 2.2e-16\n"
      ]
     },
     "metadata": {},
     "output_type": "display_data"
    }
   ],
   "source": [
    "summary(quality_prediction_and_page_views_model)"
   ]
  },
  {
   "cell_type": "markdown",
   "metadata": {
    "collapsed": true
   },
   "source": [
    "## Class A Items with Least Pages Views"
   ]
  },
  {
   "cell_type": "code",
   "execution_count": 26,
   "metadata": {
    "collapsed": false
   },
   "outputs": [],
   "source": [
    "class_a_quality_prediction_and_page_views <- filter(quality_prediction_and_page_views, prediction==\"A\")"
   ]
  },
  {
   "cell_type": "code",
   "execution_count": 27,
   "metadata": {
    "collapsed": false
   },
   "outputs": [],
   "source": [
    "sorted_ascend_class_a_quality_prediction_and_page_views <- dplyr::arrange(class_a_quality_prediction_and_page_views, page_views)"
   ]
  },
  {
   "cell_type": "code",
   "execution_count": 28,
   "metadata": {
    "collapsed": false
   },
   "outputs": [
    {
     "data": {
      "text/html": [
       "<table>\n",
       "<thead><tr><th scope=col>entity_id</th><th scope=col>number_of_revisions</th><th scope=col>page_views</th><th scope=col>prediction</th><th scope=col>ordinal_score</th></tr></thead>\n",
       "<tbody>\n",
       "\t<tr><td>Q3152321 </td><td> 687     </td><td>    77136</td><td>A        </td><td>5        </td></tr>\n",
       "\t<tr><td>Q273461  </td><td>1176     </td><td>   241736</td><td>A        </td><td>5        </td></tr>\n",
       "\t<tr><td>Q159     </td><td>1945     </td><td>653480145</td><td>A        </td><td>5        </td></tr>\n",
       "</tbody>\n",
       "</table>\n"
      ],
      "text/latex": [
       "\\begin{tabular}{r|lllll}\n",
       " entity\\_id & number\\_of\\_revisions & page\\_views & prediction & ordinal\\_score\\\\\n",
       "\\hline\n",
       "\t Q3152321  &  687      &     77136 & A         & 5        \\\\\n",
       "\t Q273461   & 1176      &    241736 & A         & 5        \\\\\n",
       "\t Q159      & 1945      & 653480145 & A         & 5        \\\\\n",
       "\\end{tabular}\n"
      ],
      "text/markdown": [
       "\n",
       "entity_id | number_of_revisions | page_views | prediction | ordinal_score | \n",
       "|---|---|---|\n",
       "| Q3152321  |  687      |     77136 | A         | 5         | \n",
       "| Q273461   | 1176      |    241736 | A         | 5         | \n",
       "| Q159      | 1945      | 653480145 | A         | 5         | \n",
       "\n",
       "\n"
      ],
      "text/plain": [
       "  entity_id number_of_revisions page_views prediction ordinal_score\n",
       "1 Q3152321   687                    77136  A          5            \n",
       "2 Q273461   1176                   241736  A          5            \n",
       "3 Q159      1945                653480145  A          5            "
      ]
     },
     "metadata": {},
     "output_type": "display_data"
    }
   ],
   "source": [
    "head(sorted_ascend_class_a_quality_prediction_and_page_views, n=10)"
   ]
  },
  {
   "cell_type": "markdown",
   "metadata": {},
   "source": [
    "## Class E Items with Most Pages Views"
   ]
  },
  {
   "cell_type": "code",
   "execution_count": null,
   "metadata": {
    "collapsed": true
   },
   "outputs": [],
   "source": []
  },
  {
   "cell_type": "code",
   "execution_count": 29,
   "metadata": {
    "collapsed": false
   },
   "outputs": [],
   "source": [
    "class_e_quality_prediction_and_page_views <- filter(quality_prediction_and_page_views, prediction==\"E\")"
   ]
  },
  {
   "cell_type": "code",
   "execution_count": 30,
   "metadata": {
    "collapsed": false
   },
   "outputs": [],
   "source": [
    "sorted_desc_class_e_quality_prediction_and_page_views <- dplyr::arrange(class_e_quality_prediction_and_page_views, desc(page_views))"
   ]
  },
  {
   "cell_type": "code",
   "execution_count": 31,
   "metadata": {
    "collapsed": false
   },
   "outputs": [
    {
     "data": {
      "text/html": [
       "<table>\n",
       "<thead><tr><th scope=col>entity_id</th><th scope=col>number_of_revisions</th><th scope=col>page_views</th><th scope=col>prediction</th><th scope=col>ordinal_score</th></tr></thead>\n",
       "<tbody>\n",
       "\t<tr><td>Q2597810  </td><td>100       </td><td>2128920607</td><td>E         </td><td>1         </td></tr>\n",
       "\t<tr><td>Q623578   </td><td>135       </td><td>2097991400</td><td>E         </td><td>1         </td></tr>\n",
       "\t<tr><td>Q750403   </td><td>192       </td><td>2084693498</td><td>E         </td><td>1         </td></tr>\n",
       "\t<tr><td>Q1967876  </td><td>102       </td><td>2084215818</td><td>E         </td><td>1         </td></tr>\n",
       "\t<tr><td>Q150248   </td><td> 68       </td><td>2068796814</td><td>E         </td><td>1         </td></tr>\n",
       "\t<tr><td>Q1868372  </td><td> 45       </td><td>2056080224</td><td>E         </td><td>1         </td></tr>\n",
       "\t<tr><td>Q4584301  </td><td> 55       </td><td>2052339927</td><td>E         </td><td>1         </td></tr>\n",
       "\t<tr><td>Q105584   </td><td> 75       </td><td>2049926923</td><td>E         </td><td>1         </td></tr>\n",
       "\t<tr><td>Q40629    </td><td>195       </td><td>2049755644</td><td>E         </td><td>1         </td></tr>\n",
       "\t<tr><td>Q31165    </td><td> 67       </td><td>2048330818</td><td>E         </td><td>1         </td></tr>\n",
       "</tbody>\n",
       "</table>\n"
      ],
      "text/latex": [
       "\\begin{tabular}{r|lllll}\n",
       " entity\\_id & number\\_of\\_revisions & page\\_views & prediction & ordinal\\_score\\\\\n",
       "\\hline\n",
       "\t Q2597810   & 100        & 2128920607 & E          & 1         \\\\\n",
       "\t Q623578    & 135        & 2097991400 & E          & 1         \\\\\n",
       "\t Q750403    & 192        & 2084693498 & E          & 1         \\\\\n",
       "\t Q1967876   & 102        & 2084215818 & E          & 1         \\\\\n",
       "\t Q150248    &  68        & 2068796814 & E          & 1         \\\\\n",
       "\t Q1868372   &  45        & 2056080224 & E          & 1         \\\\\n",
       "\t Q4584301   &  55        & 2052339927 & E          & 1         \\\\\n",
       "\t Q105584    &  75        & 2049926923 & E          & 1         \\\\\n",
       "\t Q40629     & 195        & 2049755644 & E          & 1         \\\\\n",
       "\t Q31165     &  67        & 2048330818 & E          & 1         \\\\\n",
       "\\end{tabular}\n"
      ],
      "text/markdown": [
       "\n",
       "entity_id | number_of_revisions | page_views | prediction | ordinal_score | \n",
       "|---|---|---|---|---|---|---|---|---|---|\n",
       "| Q2597810   | 100        | 2128920607 | E          | 1          | \n",
       "| Q623578    | 135        | 2097991400 | E          | 1          | \n",
       "| Q750403    | 192        | 2084693498 | E          | 1          | \n",
       "| Q1967876   | 102        | 2084215818 | E          | 1          | \n",
       "| Q150248    |  68        | 2068796814 | E          | 1          | \n",
       "| Q1868372   |  45        | 2056080224 | E          | 1          | \n",
       "| Q4584301   |  55        | 2052339927 | E          | 1          | \n",
       "| Q105584    |  75        | 2049926923 | E          | 1          | \n",
       "| Q40629     | 195        | 2049755644 | E          | 1          | \n",
       "| Q31165     |  67        | 2048330818 | E          | 1          | \n",
       "\n",
       "\n"
      ],
      "text/plain": [
       "   entity_id number_of_revisions page_views prediction ordinal_score\n",
       "1  Q2597810  100                 2128920607 E          1            \n",
       "2  Q623578   135                 2097991400 E          1            \n",
       "3  Q750403   192                 2084693498 E          1            \n",
       "4  Q1967876  102                 2084215818 E          1            \n",
       "5  Q150248    68                 2068796814 E          1            \n",
       "6  Q1868372   45                 2056080224 E          1            \n",
       "7  Q4584301   55                 2052339927 E          1            \n",
       "8  Q105584    75                 2049926923 E          1            \n",
       "9  Q40629    195                 2049755644 E          1            \n",
       "10 Q31165     67                 2048330818 E          1            "
      ]
     },
     "metadata": {},
     "output_type": "display_data"
    }
   ],
   "source": [
    "head(sorted_desc_class_e_quality_prediction_and_page_views, n=10)"
   ]
  },
  {
   "cell_type": "code",
   "execution_count": 32,
   "metadata": {
    "collapsed": false
   },
   "outputs": [
    {
     "data": {
      "text/html": [
       "10345136"
      ],
      "text/latex": [
       "10345136"
      ],
      "text/markdown": [
       "10345136"
      ],
      "text/plain": [
       "[1] 10345136"
      ]
     },
     "metadata": {},
     "output_type": "display_data"
    }
   ],
   "source": [
    "nrow(class_e_quality_prediction_and_page_views)"
   ]
  },
  {
   "cell_type": "code",
   "execution_count": 33,
   "metadata": {
    "collapsed": false
   },
   "outputs": [
    {
     "data": {
      "text/html": [
       "755623"
      ],
      "text/latex": [
       "755623"
      ],
      "text/markdown": [
       "755623"
      ],
      "text/plain": [
       "[1] 755623"
      ]
     },
     "metadata": {},
     "output_type": "display_data"
    }
   ],
   "source": [
    "nrow(filter(quality_prediction_and_page_views, prediction==\"D\"))"
   ]
  },
  {
   "cell_type": "code",
   "execution_count": 34,
   "metadata": {
    "collapsed": false
   },
   "outputs": [
    {
     "data": {
      "text/html": [
       "562134"
      ],
      "text/latex": [
       "562134"
      ],
      "text/markdown": [
       "562134"
      ],
      "text/plain": [
       "[1] 562134"
      ]
     },
     "metadata": {},
     "output_type": "display_data"
    }
   ],
   "source": [
    "nrow(filter(quality_prediction_and_page_views, prediction==\"C\"))"
   ]
  },
  {
   "cell_type": "code",
   "execution_count": 35,
   "metadata": {
    "collapsed": false
   },
   "outputs": [
    {
     "data": {
      "text/html": [
       "5128"
      ],
      "text/latex": [
       "5128"
      ],
      "text/markdown": [
       "5128"
      ],
      "text/plain": [
       "[1] 5128"
      ]
     },
     "metadata": {},
     "output_type": "display_data"
    }
   ],
   "source": [
    "nrow(filter(quality_prediction_and_page_views, prediction==\"B\"))"
   ]
  },
  {
   "cell_type": "code",
   "execution_count": 36,
   "metadata": {
    "collapsed": false
   },
   "outputs": [
    {
     "data": {
      "text/html": [
       "3"
      ],
      "text/latex": [
       "3"
      ],
      "text/markdown": [
       "3"
      ],
      "text/plain": [
       "[1] 3"
      ]
     },
     "metadata": {},
     "output_type": "display_data"
    }
   ],
   "source": [
    "nrow(filter(quality_prediction_and_page_views, prediction==\"A\"))"
   ]
  },
  {
   "cell_type": "code",
   "execution_count": null,
   "metadata": {
    "collapsed": true
   },
   "outputs": [],
   "source": []
  }
 ],
 "metadata": {
  "anaconda-cloud": {},
  "kernelspec": {
   "display_name": "R [r]",
   "language": "R",
   "name": "R [r]"
  },
  "language_info": {
   "codemirror_mode": "r",
   "file_extension": ".r",
   "mimetype": "text/x-r-source",
   "name": "R",
   "pygments_lexer": "r",
   "version": "3.3.2"
  }
 },
 "nbformat": 4,
 "nbformat_minor": 0
}
