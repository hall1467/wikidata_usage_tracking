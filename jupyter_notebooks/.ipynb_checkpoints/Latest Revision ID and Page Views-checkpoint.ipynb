{
 "cells": [
  {
   "cell_type": "code",
   "execution_count": 2,
   "metadata": {
    "collapsed": false
   },
   "outputs": [],
   "source": [
    "library(jsonlite)"
   ]
  },
  {
   "cell_type": "code",
   "execution_count": 12,
   "metadata": {
    "collapsed": false
   },
   "outputs": [
    {
     "name": "stderr",
     "output_type": "stream",
     "text": [
      "opening file input connection.\n"
     ]
    },
    {
     "name": "stdout",
     "output_type": "stream",
     "text": [
      "\r",
      " Found 500 records...\r",
      " Found 1000 records...\r",
      " Found 1500 records...\r",
      " Found 2000 records...\r",
      " Found 2500 records...\r",
      " Found 3000 records...\r",
      " Found 3500 records...\r",
      " Found 4000 records...\r",
      " Found 4500 records...\r",
      " Found 5000 records...\r",
      " Found 5500 records...\r",
      " Found 6000 records...\r",
      " Found 6500 records...\r",
      " Found 7000 records...\r",
      " Found 7500 records...\r",
      " Found 8000 records...\r",
      " Found 8500 records...\r",
      " Found 9000 records...\r",
      " Found 9500 records...\r",
      " Found 10000 records...\r",
      " Found 10500 records...\r",
      " Found 11000 records...\r",
      " Found 11500 records...\r",
      " Found 12000 records...\r",
      " Found 12500 records...\r",
      " Found 13000 records...\r",
      " Found 13500 records...\r",
      " Found 14000 records...\r",
      " Found 14500 records...\r",
      " Found 15000 records...\r",
      " Found 15500 records...\r",
      " Found 16000 records...\r",
      " Found 16500 records...\r",
      " Found 17000 records...\r",
      " Found 17500 records...\r",
      " Found 18000 records...\r",
      " Found 18500 records...\r",
      " Found 19000 records...\r",
      " Found 19500 records...\r",
      " Found 20000 records...\r",
      " Found 20500 records...\r",
      " Found 21000 records...\r",
      " Found 21500 records...\r",
      " Found 22000 records...\r",
      " Found 22500 records...\r",
      " Found 23000 records...\r",
      " Found 23500 records...\r",
      " Found 24000 records...\r",
      " Found 24500 records...\r",
      " Found 25000 records...\r",
      " Found 25500 records...\r",
      " Found 26000 records...\r",
      " Found 26500 records...\r",
      " Found 27000 records...\r",
      " Found 27500 records...\r",
      " Found 28000 records...\r",
      " Found 28500 records...\r",
      " Found 29000 records...\r",
      " Found 29500 records...\r",
      " Found 30000 records...\r",
      " Found 30500 records...\r",
      " Found 31000 records...\r",
      " Found 31500 records...\r",
      " Found 32000 records...\r",
      " Found 32500 records...\r",
      " Found 33000 records...\r",
      " Found 33500 records...\r",
      " Found 34000 records...\r",
      " Found 34500 records...\r",
      " Found 35000 records...\r",
      " Found 35500 records...\r",
      " Found 36000 records...\r",
      " Found 36500 records...\r",
      " Found 37000 records...\r",
      " Found 37500 records...\r",
      " Found 38000 records...\r",
      " Found 38500 records...\r",
      " Found 39000 records...\r",
      " Found 39500 records...\r",
      " Found 40000 records...\r",
      " Found 40500 records...\r",
      " Found 41000 records...\r",
      " Found 41500 records...\r",
      " Found 42000 records...\r",
      " Found 42500 records...\r",
      " Found 43000 records...\r",
      " Found 43500 records...\r",
      " Found 44000 records...\r",
      " Found 44500 records...\r",
      " Found 45000 records...\r",
      " Found 45500 records...\r",
      " Found 46000 records...\r",
      " Found 46500 records...\r",
      " Found 47000 records...\r",
      " Found 47500 records...\r",
      " Found 48000 records...\r",
      " Found 48500 records...\r",
      " Found 49000 records...\r",
      " Found 49500 records...\r",
      " Found 50000 records...\r",
      " Found 50500 records...\r",
      " Found 51000 records...\r",
      " Found 51500 records...\r",
      " Found 52000 records...\r",
      " Found 52500 records...\r",
      " Found 53000 records...\r",
      " Found 53500 records...\r",
      " Found 54000 records...\r",
      " Found 54500 records...\r",
      " Found 55000 records...\r",
      " Found 55500 records...\r",
      " Found 56000 records...\r",
      " Found 56500 records...\r",
      " Found 57000 records...\r",
      " Found 57500 records...\r",
      " Found 58000 records...\r",
      " Found 58500 records...\r",
      " Found 59000 records...\r",
      " Found 59500 records...\r",
      " Found 60000 records...\r",
      " Found 60500 records...\r",
      " Found 61000 records...\r",
      " Found 61500 records...\r",
      " Found 62000 records...\r",
      " Found 62500 records...\r",
      " Found 63000 records...\r",
      " Found 63500 records...\r",
      " Found 64000 records...\r",
      " Found 64500 records...\r",
      " Found 65000 records...\r",
      " Found 65500 records...\r",
      " Found 66000 records...\r",
      " Found 66500 records...\r",
      " Found 67000 records...\r",
      " Found 67500 records...\r",
      " Found 68000 records...\r",
      " Found 68500 records...\r",
      " Found 69000 records...\r",
      " Found 69500 records...\r",
      " Found 70000 records...\r",
      " Found 70500 records...\r",
      " Found 71000 records...\r",
      " Found 71500 records...\r",
      " Found 72000 records...\r",
      " Found 72500 records...\r",
      " Found 73000 records...\r",
      " Found 73500 records...\r",
      " Found 74000 records...\r",
      " Found 74500 records...\r",
      " Found 75000 records...\r",
      " Found 75500 records...\r",
      " Found 76000 records...\r",
      " Found 76500 records...\r",
      " Found 77000 records...\r",
      " Found 77500 records...\r",
      " Found 78000 records...\r",
      " Found 78500 records...\r",
      " Found 79000 records...\r",
      " Found 79500 records...\r",
      " Found 80000 records...\r",
      " Found 80500 records...\r",
      " Found 81000 records...\r",
      " Found 81500 records...\r",
      " Found 82000 records...\r",
      " Found 82500 records...\r",
      " Found 83000 records...\r",
      " Found 83500 records...\r",
      " Found 84000 records...\r",
      " Found 84500 records...\r",
      " Found 85000 records...\r",
      " Found 85500 records...\r",
      " Found 86000 records...\r",
      " Found 86500 records...\r",
      " Found 87000 records...\r",
      " Found 87500 records...\r",
      " Found 88000 records...\r",
      " Found 88500 records...\r",
      " Found 89000 records...\r",
      " Found 89500 records...\r",
      " Found 90000 records...\r",
      " Found 90500 records...\r",
      " Found 91000 records...\r",
      " Found 91500 records...\r",
      " Found 92000 records...\r",
      " Found 92500 records...\r",
      " Found 93000 records...\r",
      " Found 93500 records...\r",
      " Found 94000 records...\r",
      " Found 94500 records...\r",
      " Found 95000 records...\r",
      " Found 95500 records...\r",
      " Found 96000 records...\r",
      " Found 96500 records...\r",
      " Found 97000 records...\r",
      " Found 97500 records...\r",
      " Found 98000 records...\r",
      " Found 98500 records...\r",
      " Found 99000 records...\r",
      " Found 99500 records...\r",
      " Found 1e+05 records...\r",
      " Imported 1e+05 records. Simplifying...\n"
     ]
    },
    {
     "name": "stderr",
     "output_type": "stream",
     "text": [
      "closing file input connection.\n"
     ]
    }
   ],
   "source": [
    "entity_views_and_edits_for_100000_random_wikidata_items <- jsonlite::stream_in(file(\"../results/quarry-19903-entity-views-and-edits-for-100000-random-wikidata-items-run188007.json-lines.json\"))"
   ]
  },
  {
   "cell_type": "code",
   "execution_count": 13,
   "metadata": {
    "collapsed": false
   },
   "outputs": [
    {
     "data": {
      "text/plain": [
       "  entity_id           page_views          revisions      \n",
       " Length:100000      Min.   :0.000e+00   Min.   :   1.00  \n",
       " Class :character   1st Qu.:1.300e+01   1st Qu.:   6.00  \n",
       " Mode  :character   Median :1.370e+02   Median :  13.00  \n",
       "                    Mean   :3.144e+04   Mean   :  18.61  \n",
       "                    3rd Qu.:1.002e+03   3rd Qu.:  24.00  \n",
       "                    Max.   :2.038e+09   Max.   :1658.00  "
      ]
     },
     "metadata": {},
     "output_type": "display_data"
    }
   ],
   "source": [
    "summary(entity_views_and_edits_for_100000_random_wikidata_items)"
   ]
  },
  {
   "cell_type": "code",
   "execution_count": 14,
   "metadata": {
    "collapsed": false
   },
   "outputs": [
    {
     "data": {
      "text/html": [
       "0.0213444305524145"
      ],
      "text/latex": [
       "0.0213444305524145"
      ],
      "text/markdown": [
       "0.0213444305524145"
      ],
      "text/plain": [
       "[1] 0.02134443"
      ]
     },
     "metadata": {},
     "output_type": "display_data"
    }
   ],
   "source": [
    "cor(entity_views_and_edits_for_100000_random_wikidata_items$page_views,entity_views_and_edits_for_100000_random_wikidata_items$revisions)"
   ]
  },
  {
   "cell_type": "code",
   "execution_count": 15,
   "metadata": {
    "collapsed": true
   },
   "outputs": [],
   "source": [
    "entity_views_and_edits_for_100000_random_wikidata_items_model <- lm(entity_views_and_edits_for_100000_random_wikidata_items$page_views ~ entity_views_and_edits_for_100000_random_wikidata_items$revisions)"
   ]
  },
  {
   "cell_type": "code",
   "execution_count": 19,
   "metadata": {
    "collapsed": false
   },
   "outputs": [
    {
     "data": {
      "text/plain": [
       "\n",
       "Call:\n",
       "lm(formula = entity_views_and_edits_for_100000_random_wikidata_items$page_views ~ \n",
       "    entity_views_and_edits_for_100000_random_wikidata_items$revisions)\n",
       "\n",
       "Residuals:\n",
       "       Min         1Q     Median         3Q        Max \n",
       " -10403443     -59074       4087      49761 2037315641 \n",
       "\n",
       "Coefficients:\n",
       "                                                                  Estimate\n",
       "(Intercept)                                                       -86284.1\n",
       "entity_views_and_edits_for_100000_random_wikidata_items$revisions   6327.0\n",
       "                                                                  Std. Error\n",
       "(Intercept)                                                          26836.3\n",
       "entity_views_and_edits_for_100000_random_wikidata_items$revisions      937.2\n",
       "                                                                  t value\n",
       "(Intercept)                                                        -3.215\n",
       "entity_views_and_edits_for_100000_random_wikidata_items$revisions   6.751\n",
       "                                                                  Pr(>|t|)    \n",
       "(Intercept)                                                         0.0013 ** \n",
       "entity_views_and_edits_for_100000_random_wikidata_items$revisions 1.47e-11 ***\n",
       "---\n",
       "Signif. codes:  0 ‘***’ 0.001 ‘**’ 0.01 ‘*’ 0.05 ‘.’ 0.1 ‘ ’ 1\n",
       "\n",
       "Residual standard error: 6451000 on 99998 degrees of freedom\n",
       "Multiple R-squared:  0.0004556,\tAdjusted R-squared:  0.0004456 \n",
       "F-statistic: 45.58 on 1 and 99998 DF,  p-value: 1.475e-11\n"
      ]
     },
     "metadata": {},
     "output_type": "display_data"
    }
   ],
   "source": [
    "summary(entity_views_and_edits_for_100000_random_wikidata_items_model)"
   ]
  },
  {
   "cell_type": "code",
   "execution_count": null,
   "metadata": {
    "collapsed": true
   },
   "outputs": [],
   "source": []
  }
 ],
 "metadata": {
  "kernelspec": {
   "display_name": "R [r]",
   "language": "R",
   "name": "R [r]"
  },
  "language_info": {
   "codemirror_mode": "r",
   "file_extension": ".r",
   "mimetype": "text/x-r-source",
   "name": "R",
   "pygments_lexer": "r",
   "version": "3.3.2"
  }
 },
 "nbformat": 4,
 "nbformat_minor": 0
}
