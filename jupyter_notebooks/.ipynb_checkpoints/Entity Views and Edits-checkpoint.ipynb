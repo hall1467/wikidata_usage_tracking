{
 "cells": [
  {
   "cell_type": "code",
   "execution_count": 1,
   "metadata": {
    "collapsed": false
   },
   "outputs": [],
   "source": [
    "entity_views_and_edits <- read.table(\"../results/sql_queries/entity_views_and_aggregated_revisions/entity_views_and_aggregated_revisions.tsv\", header=FALSE, sep=\"\\t\")"
   ]
  },
  {
   "cell_type": "code",
   "execution_count": 2,
   "metadata": {
    "collapsed": false
   },
   "outputs": [
    {
     "ename": "ERROR",
     "evalue": "Error in parse(text = x, srcfile = src): <text>:1:69: unexpected symbol\n1: colnames(entity_views_and_edits) <- c('entity_id','rev_id','page_id'FIX\n                                                                        ^\n",
     "output_type": "error",
     "traceback": [
      "Error in parse(text = x, srcfile = src): <text>:1:69: unexpected symbol\n1: colnames(entity_views_and_edits) <- c('entity_id','rev_id','page_id'FIX\n                                                                        ^\nTraceback:\n"
     ]
    }
   ],
   "source": [
    "colnames(entity_views_and_edits) <- c('entity_id','rev_id','number_of_revisions', 'page_views')"
   ]
  },
  {
   "cell_type": "code",
   "execution_count": null,
   "metadata": {
    "collapsed": false,
    "scrolled": true
   },
   "outputs": [],
   "source": [
    "summary(entity_views_and_edits)"
   ]
  },
  {
   "cell_type": "code",
   "execution_count": null,
   "metadata": {
    "collapsed": false,
    "scrolled": true
   },
   "outputs": [],
   "source": [
    "head(entity_views_and_edits_for_100000_random_wikidata_items, n=100)"
   ]
  },
  {
   "cell_type": "code",
   "execution_count": null,
   "metadata": {
    "collapsed": false
   },
   "outputs": [],
   "source": [
    "cor(entity_views_and_edits_for_100000_random_wikidata_items$page_views,entity_views_and_edits_for_100000_random_wikidata_items$revisions, method=\"spearman\")"
   ]
  },
  {
   "cell_type": "code",
   "execution_count": null,
   "metadata": {
    "collapsed": true
   },
   "outputs": [],
   "source": [
    "entity_views_and_edits_for_100000_random_wikidata_items_model <- lm(entity_views_and_edits_for_100000_random_wikidata_items$page_views ~ entity_views_and_edits_for_100000_random_wikidata_items$revisions)"
   ]
  },
  {
   "cell_type": "code",
   "execution_count": null,
   "metadata": {
    "collapsed": false
   },
   "outputs": [],
   "source": [
    "summary(entity_views_and_edits_for_100000_random_wikidata_items_model)"
   ]
  },
  {
   "cell_type": "code",
   "execution_count": null,
   "metadata": {
    "collapsed": true
   },
   "outputs": [],
   "source": []
  }
 ],
 "metadata": {
  "anaconda-cloud": {},
  "kernelspec": {
   "display_name": "R [r]",
   "language": "R",
   "name": "R [r]"
  },
  "language_info": {
   "codemirror_mode": "r",
   "file_extension": ".r",
   "mimetype": "text/x-r-source",
   "name": "R",
   "pygments_lexer": "r",
   "version": "3.3.2"
  }
 },
 "nbformat": 4,
 "nbformat_minor": 0
}
