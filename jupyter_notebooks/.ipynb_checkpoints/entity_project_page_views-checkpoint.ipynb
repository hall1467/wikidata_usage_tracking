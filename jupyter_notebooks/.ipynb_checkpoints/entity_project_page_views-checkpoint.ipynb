{
 "cells": [
  {
   "cell_type": "markdown",
   "metadata": {},
   "source": [
    "# Statistics for Entity Project Page Views"
   ]
  },
  {
   "cell_type": "code",
   "execution_count": 1,
   "metadata": {
    "collapsed": false
   },
   "outputs": [
    {
     "name": "stderr",
     "output_type": "stream",
     "text": [
      "\n",
      "Attaching package: ‘dplyr’\n",
      "\n",
      "The following objects are masked from ‘package:stats’:\n",
      "\n",
      "    filter, lag\n",
      "\n",
      "The following objects are masked from ‘package:base’:\n",
      "\n",
      "    intersect, setdiff, setequal, union\n",
      "\n"
     ]
    }
   ],
   "source": [
    "library(dplyr)"
   ]
  },
  {
   "cell_type": "code",
   "execution_count": 2,
   "metadata": {
    "collapsed": true
   },
   "outputs": [],
   "source": [
    "entity_project_page <- read.table(\"../results/entity_project_page_views.tsv\", header=FALSE, sep=\"\\t\")"
   ]
  },
  {
   "cell_type": "code",
   "execution_count": 3,
   "metadata": {
    "collapsed": true
   },
   "outputs": [],
   "source": [
    "entity_views <- read.table(\"../results/entity_views.tsv\", header=FALSE, sep=\"\\t\")"
   ]
  },
  {
   "cell_type": "code",
   "execution_count": 4,
   "metadata": {
    "collapsed": true
   },
   "outputs": [],
   "source": [
    "entity_project_page_views <- entity_project_page"
   ]
  },
  {
   "cell_type": "markdown",
   "metadata": {},
   "source": [
    "## Correlation between Usages and Views"
   ]
  },
  {
   "cell_type": "code",
   "execution_count": 5,
   "metadata": {
    "collapsed": false
   },
   "outputs": [],
   "source": [
    "colnames(entity_project_page_views) <- c('entity_id','project','page_id','page_views')"
   ]
  },
  {
   "cell_type": "code",
   "execution_count": 6,
   "metadata": {
    "collapsed": false
   },
   "outputs": [
    {
     "data": {
      "text/plain": [
       "     entity_id                project            page_id        \n",
       " Q54919   :  2451812   commonswiki:33551149   Min.   :       0  \n",
       " Q423048  :  1968766   ruwiki     :24499918   1st Qu.:  662198  \n",
       " Q2597810 :  1937505   zhwiki     : 8302855   Median : 2578039  \n",
       " Q131454  :  1924192   enwiki     : 7988037   Mean   : 8250467  \n",
       " Q13219454:  1924125   svwiki     : 5961984   3rd Qu.: 6896287  \n",
       " Q36578   :  1917354   frwiki     : 5685580   Max.   :58444341  \n",
       " (Other)  :148679703   (Other)    :74813934                     \n",
       "   page_views       \n",
       " Min.   :0.000e+00  \n",
       " 1st Qu.:5.000e+00  \n",
       " Median :5.700e+01  \n",
       " Mean   :4.160e+03  \n",
       " 3rd Qu.:5.160e+02  \n",
       " Max.   :8.888e+09  \n",
       "                    "
      ]
     },
     "metadata": {},
     "output_type": "display_data"
    }
   ],
   "source": [
    "summary(entity_project_page_views)"
   ]
  },
  {
   "cell_type": "code",
   "execution_count": 7,
   "metadata": {
    "collapsed": false
   },
   "outputs": [],
   "source": [
    "page_frequency_by_entity <- count(entity_project_page_views,entity_id)"
   ]
  },
  {
   "cell_type": "code",
   "execution_count": 8,
   "metadata": {
    "collapsed": false,
    "scrolled": true
   },
   "outputs": [
    {
     "data": {
      "text/plain": [
       "   entity_id              n            \n",
       " P1     :       1   Min.   :      1.0  \n",
       " P10    :       1   1st Qu.:      1.0  \n",
       " P100   :       1   Median :      1.0  \n",
       " P1000  :       1   Mean   :      7.2  \n",
       " P10000 :       1   3rd Qu.:      3.0  \n",
       " P1001  :       1   Max.   :2451812.0  \n",
       " (Other):22250015                      "
      ]
     },
     "metadata": {},
     "output_type": "display_data"
    }
   ],
   "source": [
    "summary(page_frequency_by_entity)"
   ]
  },
  {
   "cell_type": "code",
   "execution_count": 14,
   "metadata": {
    "collapsed": false
   },
   "outputs": [
    {
     "ename": "ERROR",
     "evalue": "Error in fix.by(by.x, x): 'by' must specify a uniquely valid column\n",
     "output_type": "error",
     "traceback": [
      "Error in fix.by(by.x, x): 'by' must specify a uniquely valid column\nTraceback:\n",
      "1. merge(entity_views, page_frequency_by_entity, by = \"entity_id\")",
      "2. merge.data.frame(entity_views, page_frequency_by_entity, by = \"entity_id\")",
      "3. fix.by(by.x, x)",
      "4. stop(ngettext(sum(bad), \"'by' must specify a uniquely valid column\", \n .     \"'by' must specify uniquely valid columns\"), domain = NA)"
     ]
    }
   ],
   "source": [
    "entity_views_usage_frequency <- merge(entity_views, page_frequency_by_entity, by = \"entity_id\")"
   ]
  },
  {
   "cell_type": "code",
   "execution_count": null,
   "metadata": {
    "collapsed": true
   },
   "outputs": [],
   "source": []
  },
  {
   "cell_type": "code",
   "execution_count": null,
   "metadata": {
    "collapsed": false
   },
   "outputs": [],
   "source": [
    "summary(entity_views_usage_frequency)"
   ]
  },
  {
   "cell_type": "code",
   "execution_count": null,
   "metadata": {
    "collapsed": true
   },
   "outputs": [],
   "source": []
  }
 ],
 "metadata": {
  "anaconda-cloud": {},
  "kernelspec": {
   "display_name": "R [r]",
   "language": "R",
   "name": "R [r]"
  },
  "language_info": {
   "codemirror_mode": "r",
   "file_extension": ".r",
   "mimetype": "text/x-r-source",
   "name": "R",
   "pygments_lexer": "r",
   "version": "3.3.2"
  }
 },
 "nbformat": 4,
 "nbformat_minor": 0
}
