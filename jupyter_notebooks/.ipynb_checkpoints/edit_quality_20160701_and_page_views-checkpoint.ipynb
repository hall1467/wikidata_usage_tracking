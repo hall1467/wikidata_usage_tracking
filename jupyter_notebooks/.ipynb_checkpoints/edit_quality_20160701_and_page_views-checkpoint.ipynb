{
 "cells": [
  {
   "cell_type": "code",
   "execution_count": 1,
   "metadata": {
    "collapsed": false,
    "scrolled": true
   },
   "outputs": [
    {
     "name": "stderr",
     "output_type": "stream",
     "text": [
      "\n",
      "Attaching package: ‘dplyr’\n",
      "\n",
      "The following objects are masked from ‘package:stats’:\n",
      "\n",
      "    filter, lag\n",
      "\n",
      "The following objects are masked from ‘package:base’:\n",
      "\n",
      "    intersect, setdiff, setequal, union\n",
      "\n"
     ]
    }
   ],
   "source": [
    "library(dplyr)"
   ]
  },
  {
   "cell_type": "code",
   "execution_count": 2,
   "metadata": {
    "collapsed": false
   },
   "outputs": [],
   "source": [
    "quality_prediction_and_page_views <- read.table(\"../results/sql_queries/entity_views_and_aggregated_revisions/entity_views_and_aggregated_revisions_and_quality_scoring_prediction_converted_20160701.tsv\", header=FALSE, sep=\"\\t\")"
   ]
  },
  {
   "cell_type": "code",
   "execution_count": 3,
   "metadata": {
    "collapsed": false
   },
   "outputs": [],
   "source": [
    "colnames(quality_prediction_and_page_views) <- c('entity_id','number_of_revisions', 'page_views', 'prediction', 'ordinal_score')"
   ]
  },
  {
   "cell_type": "code",
   "execution_count": 4,
   "metadata": {
    "collapsed": false
   },
   "outputs": [
    {
     "data": {
      "text/html": [
       "<table>\n",
       "<thead><tr><th scope=col>entity_id</th><th scope=col>number_of_revisions</th><th scope=col>page_views</th><th scope=col>prediction</th><th scope=col>ordinal_score</th></tr></thead>\n",
       "<tbody>\n",
       "\t<tr><td>Q1000999 </td><td>33       </td><td>736      </td><td>C        </td><td>3        </td></tr>\n",
       "\t<tr><td>Q10015364</td><td>11       </td><td>  1      </td><td>E        </td><td>1        </td></tr>\n",
       "\t<tr><td>Q10018576</td><td> 9       </td><td> 21      </td><td>E        </td><td>1        </td></tr>\n",
       "\t<tr><td>Q10020348</td><td>24       </td><td> 11      </td><td>E        </td><td>1        </td></tr>\n",
       "\t<tr><td>Q10020832</td><td>11       </td><td> 12      </td><td>E        </td><td>1        </td></tr>\n",
       "\t<tr><td>Q10028220</td><td>13       </td><td>  6      </td><td>E        </td><td>1        </td></tr>\n",
       "</tbody>\n",
       "</table>\n"
      ],
      "text/latex": [
       "\\begin{tabular}{r|lllll}\n",
       " entity\\_id & number\\_of\\_revisions & page\\_views & prediction & ordinal\\_score\\\\\n",
       "\\hline\n",
       "\t Q1000999  & 33        & 736       & C         & 3        \\\\\n",
       "\t Q10015364 & 11        &   1       & E         & 1        \\\\\n",
       "\t Q10018576 &  9        &  21       & E         & 1        \\\\\n",
       "\t Q10020348 & 24        &  11       & E         & 1        \\\\\n",
       "\t Q10020832 & 11        &  12       & E         & 1        \\\\\n",
       "\t Q10028220 & 13        &   6       & E         & 1        \\\\\n",
       "\\end{tabular}\n"
      ],
      "text/markdown": [
       "\n",
       "entity_id | number_of_revisions | page_views | prediction | ordinal_score | \n",
       "|---|---|---|---|---|---|\n",
       "| Q1000999  | 33        | 736       | C         | 3         | \n",
       "| Q10015364 | 11        |   1       | E         | 1         | \n",
       "| Q10018576 |  9        |  21       | E         | 1         | \n",
       "| Q10020348 | 24        |  11       | E         | 1         | \n",
       "| Q10020832 | 11        |  12       | E         | 1         | \n",
       "| Q10028220 | 13        |   6       | E         | 1         | \n",
       "\n",
       "\n"
      ],
      "text/plain": [
       "  entity_id number_of_revisions page_views prediction ordinal_score\n",
       "1 Q1000999  33                  736        C          3            \n",
       "2 Q10015364 11                    1        E          1            \n",
       "3 Q10018576  9                   21        E          1            \n",
       "4 Q10020348 24                   11        E          1            \n",
       "5 Q10020832 11                   12        E          1            \n",
       "6 Q10028220 13                    6        E          1            "
      ]
     },
     "metadata": {},
     "output_type": "display_data"
    }
   ],
   "source": [
    "head(quality_prediction_and_page_views)"
   ]
  },
  {
   "cell_type": "code",
   "execution_count": 5,
   "metadata": {
    "collapsed": false
   },
   "outputs": [
    {
     "data": {
      "text/html": [
       "0.119037594571619"
      ],
      "text/latex": [
       "0.119037594571619"
      ],
      "text/markdown": [
       "0.119037594571619"
      ],
      "text/plain": [
       "[1] 0.1190376"
      ]
     },
     "metadata": {},
     "output_type": "display_data"
    }
   ],
   "source": [
    "cor(quality_prediction_and_page_views$page_views,quality_prediction_and_page_views$ordinal_score, method=\"spearman\")"
   ]
  },
  {
   "cell_type": "code",
   "execution_count": 6,
   "metadata": {
    "collapsed": false
   },
   "outputs": [],
   "source": [
    "quality_prediction_and_page_views_model <- lm(quality_prediction_and_page_views$page_views ~ quality_prediction_and_page_views$ordinal_score)"
   ]
  },
  {
   "cell_type": "code",
   "execution_count": 7,
   "metadata": {
    "collapsed": false
   },
   "outputs": [
    {
     "data": {
      "text/plain": [
       "\n",
       "Call:\n",
       "lm(formula = quality_prediction_and_page_views$page_views ~ quality_prediction_and_page_views$ordinal_score)\n",
       "\n",
       "Residuals:\n",
       "       Min         1Q     Median         3Q        Max \n",
       "-1.379e+05 -3.778e+04 -2.773e+03 -2.523e+03  1.253e+10 \n",
       "\n",
       "Coefficients:\n",
       "                                                Estimate Std. Error t value\n",
       "(Intercept)                                       -32224       2824  -11.41\n",
       "quality_prediction_and_page_views$ordinal_score    35003       1475   23.73\n",
       "                                                Pr(>|t|)    \n",
       "(Intercept)                                       <2e-16 ***\n",
       "quality_prediction_and_page_views$ordinal_score   <2e-16 ***\n",
       "---\n",
       "Signif. codes:  0 ‘***’ 0.001 ‘**’ 0.01 ‘*’ 0.05 ‘.’ 0.1 ‘ ’ 1\n",
       "\n",
       "Residual standard error: 5879000 on 19974309 degrees of freedom\n",
       "Multiple R-squared:  2.819e-05,\tAdjusted R-squared:  2.814e-05 \n",
       "F-statistic: 563.1 on 1 and 19974309 DF,  p-value: < 2.2e-16\n"
      ]
     },
     "metadata": {},
     "output_type": "display_data"
    }
   ],
   "source": [
    "summary(quality_prediction_and_page_views_model)"
   ]
  },
  {
   "cell_type": "markdown",
   "metadata": {
    "collapsed": true
   },
   "source": [
    "## Class A Items with Least Pages Views"
   ]
  },
  {
   "cell_type": "code",
   "execution_count": 8,
   "metadata": {
    "collapsed": false
   },
   "outputs": [],
   "source": [
    "class_a_quality_prediction_and_page_views <- filter(quality_prediction_and_page_views, prediction==\"A\")"
   ]
  },
  {
   "cell_type": "code",
   "execution_count": 9,
   "metadata": {
    "collapsed": false
   },
   "outputs": [],
   "source": [
    "sorted_ascend_class_a_quality_prediction_and_page_views <- dplyr::arrange(class_a_quality_prediction_and_page_views, page_views)"
   ]
  },
  {
   "cell_type": "code",
   "execution_count": 10,
   "metadata": {
    "collapsed": false
   },
   "outputs": [
    {
     "data": {
      "text/html": [
       "<table>\n",
       "<thead><tr><th scope=col>entity_id</th><th scope=col>number_of_revisions</th><th scope=col>page_views</th><th scope=col>prediction</th><th scope=col>ordinal_score</th></tr></thead>\n",
       "<tbody>\n",
       "\t<tr><td>Q50039  </td><td>324     </td><td> 4934   </td><td>A       </td><td>5       </td></tr>\n",
       "\t<tr><td>Q3577919</td><td>265     </td><td> 6444   </td><td>A       </td><td>5       </td></tr>\n",
       "\t<tr><td>Q103572 </td><td>152     </td><td>10742   </td><td>A       </td><td>5       </td></tr>\n",
       "\t<tr><td>Q442048 </td><td>393     </td><td>22306   </td><td>A       </td><td>5       </td></tr>\n",
       "\t<tr><td>Q365982 </td><td>136     </td><td>34456   </td><td>A       </td><td>5       </td></tr>\n",
       "\t<tr><td>Q60954  </td><td>183     </td><td>42687   </td><td>A       </td><td>5       </td></tr>\n",
       "\t<tr><td>Q61761  </td><td>185     </td><td>54542   </td><td>A       </td><td>5       </td></tr>\n",
       "\t<tr><td>Q1868   </td><td>159     </td><td>55127   </td><td>A       </td><td>5       </td></tr>\n",
       "\t<tr><td>Q3152321</td><td>687     </td><td>77136   </td><td>A       </td><td>5       </td></tr>\n",
       "\t<tr><td>Q512062 </td><td>194     </td><td>85526   </td><td>A       </td><td>5       </td></tr>\n",
       "</tbody>\n",
       "</table>\n"
      ],
      "text/latex": [
       "\\begin{tabular}{r|lllll}\n",
       " entity\\_id & number\\_of\\_revisions & page\\_views & prediction & ordinal\\_score\\\\\n",
       "\\hline\n",
       "\t Q50039   & 324      &  4934    & A        & 5       \\\\\n",
       "\t Q3577919 & 265      &  6444    & A        & 5       \\\\\n",
       "\t Q103572  & 152      & 10742    & A        & 5       \\\\\n",
       "\t Q442048  & 393      & 22306    & A        & 5       \\\\\n",
       "\t Q365982  & 136      & 34456    & A        & 5       \\\\\n",
       "\t Q60954   & 183      & 42687    & A        & 5       \\\\\n",
       "\t Q61761   & 185      & 54542    & A        & 5       \\\\\n",
       "\t Q1868    & 159      & 55127    & A        & 5       \\\\\n",
       "\t Q3152321 & 687      & 77136    & A        & 5       \\\\\n",
       "\t Q512062  & 194      & 85526    & A        & 5       \\\\\n",
       "\\end{tabular}\n"
      ],
      "text/markdown": [
       "\n",
       "entity_id | number_of_revisions | page_views | prediction | ordinal_score | \n",
       "|---|---|---|---|---|---|---|---|---|---|\n",
       "| Q50039   | 324      |  4934    | A        | 5        | \n",
       "| Q3577919 | 265      |  6444    | A        | 5        | \n",
       "| Q103572  | 152      | 10742    | A        | 5        | \n",
       "| Q442048  | 393      | 22306    | A        | 5        | \n",
       "| Q365982  | 136      | 34456    | A        | 5        | \n",
       "| Q60954   | 183      | 42687    | A        | 5        | \n",
       "| Q61761   | 185      | 54542    | A        | 5        | \n",
       "| Q1868    | 159      | 55127    | A        | 5        | \n",
       "| Q3152321 | 687      | 77136    | A        | 5        | \n",
       "| Q512062  | 194      | 85526    | A        | 5        | \n",
       "\n",
       "\n"
      ],
      "text/plain": [
       "   entity_id number_of_revisions page_views prediction ordinal_score\n",
       "1  Q50039    324                  4934      A          5            \n",
       "2  Q3577919  265                  6444      A          5            \n",
       "3  Q103572   152                 10742      A          5            \n",
       "4  Q442048   393                 22306      A          5            \n",
       "5  Q365982   136                 34456      A          5            \n",
       "6  Q60954    183                 42687      A          5            \n",
       "7  Q61761    185                 54542      A          5            \n",
       "8  Q1868     159                 55127      A          5            \n",
       "9  Q3152321  687                 77136      A          5            \n",
       "10 Q512062   194                 85526      A          5            "
      ]
     },
     "metadata": {},
     "output_type": "display_data"
    }
   ],
   "source": [
    "head(sorted_ascend_class_a_quality_prediction_and_page_views, n=10)"
   ]
  },
  {
   "cell_type": "markdown",
   "metadata": {},
   "source": [
    "## Class E Items with Most Pages Views"
   ]
  },
  {
   "cell_type": "code",
   "execution_count": null,
   "metadata": {
    "collapsed": true
   },
   "outputs": [],
   "source": []
  },
  {
   "cell_type": "code",
   "execution_count": 11,
   "metadata": {
    "collapsed": false
   },
   "outputs": [],
   "source": [
    "class_e_quality_prediction_and_page_views <- filter(quality_prediction_and_page_views, prediction==\"E\")"
   ]
  },
  {
   "cell_type": "code",
   "execution_count": 12,
   "metadata": {
    "collapsed": false
   },
   "outputs": [],
   "source": [
    "sorted_desc_class_e_quality_prediction_and_page_views <- dplyr::arrange(class_e_quality_prediction_and_page_views, desc(page_views))"
   ]
  },
  {
   "cell_type": "code",
   "execution_count": 13,
   "metadata": {
    "collapsed": false
   },
   "outputs": [
    {
     "data": {
      "text/html": [
       "<table>\n",
       "<thead><tr><th scope=col>entity_id</th><th scope=col>number_of_revisions</th><th scope=col>page_views</th><th scope=col>prediction</th><th scope=col>ordinal_score</th></tr></thead>\n",
       "<tbody>\n",
       "\t<tr><td>Q6883832  </td><td>25        </td><td>2045602031</td><td>E         </td><td>1         </td></tr>\n",
       "\t<tr><td>Q4043051  </td><td>32        </td><td>2045595548</td><td>E         </td><td>1         </td></tr>\n",
       "\t<tr><td>Q4442644  </td><td> 9        </td><td>2045584646</td><td>E         </td><td>1         </td></tr>\n",
       "\t<tr><td>Q4101720  </td><td>22        </td><td>2045577388</td><td>E         </td><td>1         </td></tr>\n",
       "\t<tr><td>Q4299813  </td><td>13        </td><td>2045575479</td><td>E         </td><td>1         </td></tr>\n",
       "\t<tr><td>Q4380129  </td><td>15        </td><td>2045574094</td><td>E         </td><td>1         </td></tr>\n",
       "\t<tr><td>Q18241050 </td><td> 6        </td><td>2045553487</td><td>E         </td><td>1         </td></tr>\n",
       "\t<tr><td>Q19902884 </td><td>32        </td><td>1141733962</td><td>E         </td><td>1         </td></tr>\n",
       "\t<tr><td>Q22302160 </td><td>16        </td><td>1139176637</td><td>E         </td><td>1         </td></tr>\n",
       "\t<tr><td>Q21281405 </td><td>35        </td><td>1137553627</td><td>E         </td><td>1         </td></tr>\n",
       "</tbody>\n",
       "</table>\n"
      ],
      "text/latex": [
       "\\begin{tabular}{r|lllll}\n",
       " entity\\_id & number\\_of\\_revisions & page\\_views & prediction & ordinal\\_score\\\\\n",
       "\\hline\n",
       "\t Q6883832   & 25         & 2045602031 & E          & 1         \\\\\n",
       "\t Q4043051   & 32         & 2045595548 & E          & 1         \\\\\n",
       "\t Q4442644   &  9         & 2045584646 & E          & 1         \\\\\n",
       "\t Q4101720   & 22         & 2045577388 & E          & 1         \\\\\n",
       "\t Q4299813   & 13         & 2045575479 & E          & 1         \\\\\n",
       "\t Q4380129   & 15         & 2045574094 & E          & 1         \\\\\n",
       "\t Q18241050  &  6         & 2045553487 & E          & 1         \\\\\n",
       "\t Q19902884  & 32         & 1141733962 & E          & 1         \\\\\n",
       "\t Q22302160  & 16         & 1139176637 & E          & 1         \\\\\n",
       "\t Q21281405  & 35         & 1137553627 & E          & 1         \\\\\n",
       "\\end{tabular}\n"
      ],
      "text/markdown": [
       "\n",
       "entity_id | number_of_revisions | page_views | prediction | ordinal_score | \n",
       "|---|---|---|---|---|---|---|---|---|---|\n",
       "| Q6883832   | 25         | 2045602031 | E          | 1          | \n",
       "| Q4043051   | 32         | 2045595548 | E          | 1          | \n",
       "| Q4442644   |  9         | 2045584646 | E          | 1          | \n",
       "| Q4101720   | 22         | 2045577388 | E          | 1          | \n",
       "| Q4299813   | 13         | 2045575479 | E          | 1          | \n",
       "| Q4380129   | 15         | 2045574094 | E          | 1          | \n",
       "| Q18241050  |  6         | 2045553487 | E          | 1          | \n",
       "| Q19902884  | 32         | 1141733962 | E          | 1          | \n",
       "| Q22302160  | 16         | 1139176637 | E          | 1          | \n",
       "| Q21281405  | 35         | 1137553627 | E          | 1          | \n",
       "\n",
       "\n"
      ],
      "text/plain": [
       "   entity_id number_of_revisions page_views prediction ordinal_score\n",
       "1  Q6883832  25                  2045602031 E          1            \n",
       "2  Q4043051  32                  2045595548 E          1            \n",
       "3  Q4442644   9                  2045584646 E          1            \n",
       "4  Q4101720  22                  2045577388 E          1            \n",
       "5  Q4299813  13                  2045575479 E          1            \n",
       "6  Q4380129  15                  2045574094 E          1            \n",
       "7  Q18241050  6                  2045553487 E          1            \n",
       "8  Q19902884 32                  1141733962 E          1            \n",
       "9  Q22302160 16                  1139176637 E          1            \n",
       "10 Q21281405 35                  1137553627 E          1            "
      ]
     },
     "metadata": {},
     "output_type": "display_data"
    }
   ],
   "source": [
    "head(sorted_desc_class_e_quality_prediction_and_page_views, n=10)"
   ]
  },
  {
   "cell_type": "code",
   "execution_count": 14,
   "metadata": {
    "collapsed": false
   },
   "outputs": [
    {
     "data": {
      "text/html": [
       "11594372"
      ],
      "text/latex": [
       "11594372"
      ],
      "text/markdown": [
       "11594372"
      ],
      "text/plain": [
       "[1] 11594372"
      ]
     },
     "metadata": {},
     "output_type": "display_data"
    }
   ],
   "source": [
    "nrow(class_e_quality_prediction_and_page_views)"
   ]
  },
  {
   "cell_type": "code",
   "execution_count": 15,
   "metadata": {
    "collapsed": false
   },
   "outputs": [
    {
     "data": {
      "text/html": [
       "3233999"
      ],
      "text/latex": [
       "3233999"
      ],
      "text/markdown": [
       "3233999"
      ],
      "text/plain": [
       "[1] 3233999"
      ]
     },
     "metadata": {},
     "output_type": "display_data"
    }
   ],
   "source": [
    "nrow(filter(quality_prediction_and_page_views, prediction==\"D\"))"
   ]
  },
  {
   "cell_type": "code",
   "execution_count": 16,
   "metadata": {
    "collapsed": false
   },
   "outputs": [
    {
     "data": {
      "text/html": [
       "4809677"
      ],
      "text/latex": [
       "4809677"
      ],
      "text/markdown": [
       "4809677"
      ],
      "text/plain": [
       "[1] 4809677"
      ]
     },
     "metadata": {},
     "output_type": "display_data"
    }
   ],
   "source": [
    "nrow(filter(quality_prediction_and_page_views, prediction==\"C\"))"
   ]
  },
  {
   "cell_type": "code",
   "execution_count": 17,
   "metadata": {
    "collapsed": false
   },
   "outputs": [
    {
     "data": {
      "text/html": [
       "335630"
      ],
      "text/latex": [
       "335630"
      ],
      "text/markdown": [
       "335630"
      ],
      "text/plain": [
       "[1] 335630"
      ]
     },
     "metadata": {},
     "output_type": "display_data"
    }
   ],
   "source": [
    "nrow(filter(quality_prediction_and_page_views, prediction==\"B\"))"
   ]
  },
  {
   "cell_type": "code",
   "execution_count": 18,
   "metadata": {
    "collapsed": false
   },
   "outputs": [
    {
     "data": {
      "text/html": [
       "633"
      ],
      "text/latex": [
       "633"
      ],
      "text/markdown": [
       "633"
      ],
      "text/plain": [
       "[1] 633"
      ]
     },
     "metadata": {},
     "output_type": "display_data"
    }
   ],
   "source": [
    "nrow(filter(quality_prediction_and_page_views, prediction==\"A\"))"
   ]
  },
  {
   "cell_type": "code",
   "execution_count": null,
   "metadata": {
    "collapsed": true
   },
   "outputs": [],
   "source": []
  }
 ],
 "metadata": {
  "anaconda-cloud": {},
  "kernelspec": {
   "display_name": "R [r]",
   "language": "R",
   "name": "R [r]"
  },
  "language_info": {
   "codemirror_mode": "r",
   "file_extension": ".r",
   "mimetype": "text/x-r-source",
   "name": "R",
   "pygments_lexer": "r",
   "version": "3.3.2"
  }
 },
 "nbformat": 4,
 "nbformat_minor": 0
}
