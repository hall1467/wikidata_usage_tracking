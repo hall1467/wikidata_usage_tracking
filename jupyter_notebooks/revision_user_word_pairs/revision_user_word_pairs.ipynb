{
 "cells": [
  {
   "cell_type": "markdown",
   "metadata": {},
   "source": [
    "# Anon edits"
   ]
  },
  {
   "cell_type": "code",
   "execution_count": 1,
   "metadata": {
    "collapsed": false
   },
   "outputs": [],
   "source": [
    "revision_user_word_pairs <- read.delim(\"../../results/revision_user_word_pairs/anon_revision_user_word_pairs_structured_comment_delimiters_removed.tsv\", header=FALSE, sep=\"\\t\")"
   ]
  },
  {
   "cell_type": "code",
   "execution_count": 2,
   "metadata": {
    "collapsed": false
   },
   "outputs": [],
   "source": [
    "colnames(revision_user_word_pairs) <- c('edity_type','word', 'count')"
   ]
  },
  {
   "cell_type": "code",
   "execution_count": 3,
   "metadata": {
    "collapsed": false
   },
   "outputs": [],
   "source": [
    "attach(revision_user_word_pairs)"
   ]
  },
  {
   "cell_type": "code",
   "execution_count": 4,
   "metadata": {
    "collapsed": false
   },
   "outputs": [
    {
     "data": {
      "text/plain": [
       "     edity_type                                           word       \n",
       " anon_edit:708738   1.0.131.207wbsetaliases-add:1|th        :     1  \n",
       "                    1.0.131.207wbsetlabel-add:1|th          :     1  \n",
       "                    1.0.132.54wbsetlabel-add:1|en           :     1  \n",
       "                    1.0.134.89wbsetsitelink-add:1|newiki    :     1  \n",
       "                    1.0.138.134wbsetsitelink-add:1|kmwiki   :     1  \n",
       "                    1.0.138.134wbsetsitelink-remove:1|kmwiki:     1  \n",
       "                    (Other)                                 :708732  \n",
       "     count          \n",
       " Min.   :    1.000  \n",
       " 1st Qu.:    1.000  \n",
       " Median :    1.000  \n",
       " Mean   :    2.202  \n",
       " 3rd Qu.:    1.000  \n",
       " Max.   :12753.000  \n",
       "                    "
      ]
     },
     "metadata": {},
     "output_type": "display_data"
    }
   ],
   "source": [
    "summary(revision_user_word_pairs)"
   ]
  },
  {
   "cell_type": "code",
   "execution_count": 5,
   "metadata": {
    "collapsed": false
   },
   "outputs": [],
   "source": [
    "sorted_revision_user_word_pairs <- revision_user_word_pairs[order(-count),]"
   ]
  },
  {
   "cell_type": "code",
   "execution_count": 6,
   "metadata": {
    "collapsed": false
   },
   "outputs": [
    {
     "data": {
      "text/html": [
       "<table>\n",
       "<thead><tr><th></th><th scope=col>edity_type</th><th scope=col>word</th><th scope=col>count</th></tr></thead>\n",
       "<tbody>\n",
       "\t<tr><th scope=row>522011</th><td>anon_edit                                  </td><td>10.68.17.174wbcreateclaim-create:1|        </td><td>12753                                      </td></tr>\n",
       "\t<tr><th scope=row>513774</th><td>anon_edit                                  </td><td>76.20.25.243wbsetsitelink-add:1|scowiki    </td><td> 7094                                      </td></tr>\n",
       "\t<tr><th scope=row>310134</th><td>anon_edit                                  </td><td>112.203.160.147wbcreateclaim-create:2|     </td><td> 6113                                      </td></tr>\n",
       "\t<tr><th scope=row>63262</th><td>anon_edit                                  </td><td>27.119.40.146wbsetsitelink-add:1|kowiki    </td><td> 5156                                      </td></tr>\n",
       "\t<tr><th scope=row>313336</th><td>anon_edit                                  </td><td>185.54.115.189wbeditentity-update:0|       </td><td> 4702                                      </td></tr>\n",
       "\t<tr><th scope=row>153046</th><td>anon_edit                                  </td><td>89.122.248.53wblinktitles-connect:2|       </td><td> 4658                                      </td></tr>\n",
       "\t<tr><th scope=row>348632</th><td>anon_edit                                  </td><td>221.94.14.18wbsetsitelink-add:1|jawiki     </td><td> 4127                                      </td></tr>\n",
       "\t<tr><th scope=row>67379</th><td>anon_edit                                  </td><td>112.198.70.1wbsetclaim-create:2||1         </td><td> 3986                                      </td></tr>\n",
       "\t<tr><th scope=row>526816</th><td>anon_edit                                  </td><td>77.56.53.183wbsetsitelink-add:1|commonswiki</td><td> 3641                                      </td></tr>\n",
       "\t<tr><th scope=row>616681</th><td>anon_edit                                  </td><td>72.29.167.158wbcreateclaim-create:2|       </td><td> 3486                                      </td></tr>\n",
       "\t<tr><th scope=row>509651</th><td>anon_edit                                  </td><td>72.29.167.158wbsetreference                </td><td> 3485                                      </td></tr>\n",
       "\t<tr><th scope=row>362477</th><td>anon_edit                                  </td><td>150.254.210.213wbsetsitelink-add:1|plwiki  </td><td> 3322                                      </td></tr>\n",
       "\t<tr><th scope=row>685423</th><td>anon_edit                                  </td><td>92.249.181.99wbsetclaim-create:2||1        </td><td> 3321                                      </td></tr>\n",
       "\t<tr><th scope=row>62372</th><td>anon_edit                                  </td><td>50.53.1.33wbsetclaim-create:2||1           </td><td> 3290                                      </td></tr>\n",
       "\t<tr><th scope=row>554728</th><td>anon_edit                                  </td><td>50.126.125.240wbsetclaim-create:2||1       </td><td> 3114                                      </td></tr>\n",
       "\t<tr><th scope=row>400737</th><td>anon_edit                                  </td><td>82.117.201.26wbsetclaim-create:2||1        </td><td> 2849                                      </td></tr>\n",
       "\t<tr><th scope=row>467655</th><td>anon_edit                                  </td><td>98.255.199.36wbsetsitelink-add:1|scowiki   </td><td> 2671                                      </td></tr>\n",
       "\t<tr><th scope=row>403959</th><td>anon_edit                                  </td><td>87.170.223.74wbsetclaim-create:2||1        </td><td> 2262                                      </td></tr>\n",
       "\t<tr><th scope=row>29105</th><td>anon_edit                                  </td><td>10.68.17.61wbsetreference-add:2|           </td><td> 2214                                      </td></tr>\n",
       "\t<tr><th scope=row>355564</th><td>anon_edit                                  </td><td>150.254.210.213wbsetsitelink-set:1|plwiki  </td><td> 2162                                      </td></tr>\n",
       "\t<tr><th scope=row>389997</th><td>anon_edit                                  </td><td>112.198.98.164wbsetclaim-create:2||1       </td><td> 2095                                      </td></tr>\n",
       "\t<tr><th scope=row>435220</th><td>anon_edit                                  </td><td>114.183.56.228wbsetclaim-create:2||1       </td><td> 2047                                      </td></tr>\n",
       "\t<tr><th scope=row>659356</th><td>anon_edit                                  </td><td>112.198.70.58wbsetclaim-create:2||1        </td><td> 2040                                      </td></tr>\n",
       "\t<tr><th scope=row>363955</th><td>anon_edit                                  </td><td>37.134.214.154wbsetclaim-create:2||1       </td><td> 2022                                      </td></tr>\n",
       "\t<tr><th scope=row>8198</th><td>anon_edit                                  </td><td>78.66.239.141wbsetsitelink-add:1|sqwiki    </td><td> 2021                                      </td></tr>\n",
       "\t<tr><th scope=row>698459</th><td>anon_edit                                  </td><td>112.198.69.195wbsetclaim-create:2||1       </td><td> 1879                                      </td></tr>\n",
       "\t<tr><th scope=row>663492</th><td>anon_edit                                  </td><td>82.117.201.26wbsetclaim-create:1||1        </td><td> 1852                                      </td></tr>\n",
       "\t<tr><th scope=row>118267</th><td>anon_edit                                  </td><td>65.129.135.224wbsetsitelink-set:1|srwiki   </td><td> 1707                                      </td></tr>\n",
       "\t<tr><th scope=row>568374</th><td>anon_edit                                  </td><td>212.96.182.2wbsetsitelink-add:1|cswiki     </td><td> 1610                                      </td></tr>\n",
       "\t<tr><th scope=row>98194</th><td>anon_edit                                  </td><td>217.14.40.189wbsetlabel-add:1|ca           </td><td> 1601                                      </td></tr>\n",
       "\t<tr><th scope=row>⋮</th><td>⋮</td><td>⋮</td><td>⋮</td></tr>\n",
       "\t<tr><th scope=row>708702</th><td>anon_edit                                       </td><td>216.186.97.3wbsetclaim-update:2||1|2            </td><td>1                                               </td></tr>\n",
       "\t<tr><th scope=row>708703</th><td>anon_edit                                       </td><td>190.11.10.250wbsetlabeldescriptionaliases:3|en  </td><td>1                                               </td></tr>\n",
       "\t<tr><th scope=row>708704</th><td>anon_edit                                       </td><td>190.167.253.1wbsetlabel-add:1|it                </td><td>1                                               </td></tr>\n",
       "\t<tr><th scope=row>708705</th><td>anon_edit                                       </td><td>185.27.218.118wbsetlabel-set:1|ru               </td><td>1                                               </td></tr>\n",
       "\t<tr><th scope=row>708706</th><td>anon_edit                                       </td><td>97.89.11.181wbsetdescription-set:1|en           </td><td>1                                               </td></tr>\n",
       "\t<tr><th scope=row>708707</th><td>anon_edit                                       </td><td>80.82.146.18wbsetdescription-add:1|pl           </td><td>1                                               </td></tr>\n",
       "\t<tr><th scope=row>708708</th><td>anon_edit                                       </td><td>187.252.220.111wbsetlabeldescriptionaliases:3|en</td><td>1                                               </td></tr>\n",
       "\t<tr><th scope=row>708709</th><td>anon_edit                                       </td><td>172.243.4.115wbsetlabel-set:1|fi                </td><td>1                                               </td></tr>\n",
       "\t<tr><th scope=row>708710</th><td>anon_edit                                       </td><td>80.54.177.4wbsetsitelink-remove:0|ruwiki        </td><td>1                                               </td></tr>\n",
       "\t<tr><th scope=row>708711</th><td>anon_edit                                       </td><td>39.229.8.115wbsetlabel-add:1|id                 </td><td>1                                               </td></tr>\n",
       "\t<tr><th scope=row>708712</th><td>anon_edit                                       </td><td>89.250.166.234wbsetlabel-add:1|en               </td><td>1                                               </td></tr>\n",
       "\t<tr><th scope=row>708713</th><td>anon_edit                                       </td><td>176.57.53.150wbsetsitelink-add:1|ukwiki         </td><td>1                                               </td></tr>\n",
       "\t<tr><th scope=row>708715</th><td>anon_edit                                       </td><td>175.139.239.247wbsetdescription-set:1|en        </td><td>1                                               </td></tr>\n",
       "\t<tr><th scope=row>708717</th><td>anon_edit                                       </td><td>173.166.235.161wbsetaliases-add:1|en            </td><td>1                                               </td></tr>\n",
       "\t<tr><th scope=row>708718</th><td>anon_edit                                       </td><td>167.62.83.195wbsetclaim-update:2||1             </td><td>1                                               </td></tr>\n",
       "\t<tr><th scope=row>708719</th><td>anon_edit                                       </td><td>83.42.39.200wbsetlabel-set:1|es                 </td><td>1                                               </td></tr>\n",
       "\t<tr><th scope=row>708720</th><td>anon_edit                                       </td><td>78.53.66.168wbsetdescription-add:1|ru           </td><td>1                                               </td></tr>\n",
       "\t<tr><th scope=row>708722</th><td>anon_edit                                       </td><td>79.152.55.144wbsetdescription-add:1|ca          </td><td>1                                               </td></tr>\n",
       "\t<tr><th scope=row>708723</th><td>anon_edit                                       </td><td>175.138.41.223wbsetlabel-add:1|ms               </td><td>1                                               </td></tr>\n",
       "\t<tr><th scope=row>708725</th><td>anon_edit                                       </td><td>186.59.161.196wbsetclaim-update:2||1            </td><td>1                                               </td></tr>\n",
       "\t<tr><th scope=row>708728</th><td>anon_edit                                       </td><td>125.197.75.250wbsetlabel-set:1|en               </td><td>1                                               </td></tr>\n",
       "\t<tr><th scope=row>708729</th><td>anon_edit                                       </td><td>14.99.41.154wbsetdescription-add:1|hi           </td><td>1                                               </td></tr>\n",
       "\t<tr><th scope=row>708730</th><td>anon_edit                                       </td><td>212.49.88.107wbsetsitelink-remove:1|frwikivoyage</td><td>1                                               </td></tr>\n",
       "\t<tr><th scope=row>708731</th><td>anon_edit                                       </td><td>117.198.227.60wbsetdescription-add:1|hi         </td><td>1                                               </td></tr>\n",
       "\t<tr><th scope=row>708732</th><td>anon_edit                                       </td><td>122.90.98.170wbsetsitelink-add:1|sowiki         </td><td>1                                               </td></tr>\n",
       "\t<tr><th scope=row>708734</th><td>anon_edit                                       </td><td>82.61.59.20wbsetsitelink-add:1|itwiki           </td><td>1                                               </td></tr>\n",
       "\t<tr><th scope=row>708735</th><td>anon_edit                                       </td><td>190.198.88.233wbsetlabel-set:1|es               </td><td>1                                               </td></tr>\n",
       "\t<tr><th scope=row>708736</th><td>anon_edit                                       </td><td>83.109.85.112wbsetsitelink-add:1|nowiki         </td><td>1                                               </td></tr>\n",
       "\t<tr><th scope=row>708737</th><td>anon_edit                                       </td><td>182.0.125.240wbsetdescription-add:1|en          </td><td>1                                               </td></tr>\n",
       "\t<tr><th scope=row>708738</th><td>anon_edit                                       </td><td>113.23.66.147wbsetsitelink-remove:0|azwiki      </td><td>1                                               </td></tr>\n",
       "</tbody>\n",
       "</table>\n"
      ],
      "text/latex": [
       "\\begin{tabular}{r|lll}\n",
       "  & edity\\_type & word & count\\\\\n",
       "\\hline\n",
       "\t522011 & anon\\_edit                                           & 10.68.17.174wbcreateclaim-create:1\\textbar{}         & 12753                                                \\\\\n",
       "\t513774 & anon\\_edit                                           & 76.20.25.243wbsetsitelink-add:1\\textbar{}scowiki     &  7094                                                \\\\\n",
       "\t310134 & anon\\_edit                                           & 112.203.160.147wbcreateclaim-create:2\\textbar{}      &  6113                                                \\\\\n",
       "\t63262 & anon\\_edit                                           & 27.119.40.146wbsetsitelink-add:1\\textbar{}kowiki     &  5156                                                \\\\\n",
       "\t313336 & anon\\_edit                                           & 185.54.115.189wbeditentity-update:0\\textbar{}        &  4702                                                \\\\\n",
       "\t153046 & anon\\_edit                                           & 89.122.248.53wblinktitles-connect:2\\textbar{}        &  4658                                                \\\\\n",
       "\t348632 & anon\\_edit                                           & 221.94.14.18wbsetsitelink-add:1\\textbar{}jawiki      &  4127                                                \\\\\n",
       "\t67379 & anon\\_edit                                                     & 112.198.70.1wbsetclaim-create:2\\textbar{}\\textbar{}1          &  3986                                                          \\\\\n",
       "\t526816 & anon\\_edit                                           & 77.56.53.183wbsetsitelink-add:1\\textbar{}commonswiki &  3641                                                \\\\\n",
       "\t616681 & anon\\_edit                                           & 72.29.167.158wbcreateclaim-create:2\\textbar{}        &  3486                                                \\\\\n",
       "\t509651 & anon\\_edit                                 & 72.29.167.158wbsetreference                 &  3485                                      \\\\\n",
       "\t362477 & anon\\_edit                                           & 150.254.210.213wbsetsitelink-add:1\\textbar{}plwiki   &  3322                                                \\\\\n",
       "\t685423 & anon\\_edit                                                     & 92.249.181.99wbsetclaim-create:2\\textbar{}\\textbar{}1         &  3321                                                          \\\\\n",
       "\t62372 & anon\\_edit                                                     & 50.53.1.33wbsetclaim-create:2\\textbar{}\\textbar{}1            &  3290                                                          \\\\\n",
       "\t554728 & anon\\_edit                                                     & 50.126.125.240wbsetclaim-create:2\\textbar{}\\textbar{}1        &  3114                                                          \\\\\n",
       "\t400737 & anon\\_edit                                                     & 82.117.201.26wbsetclaim-create:2\\textbar{}\\textbar{}1         &  2849                                                          \\\\\n",
       "\t467655 & anon\\_edit                                           & 98.255.199.36wbsetsitelink-add:1\\textbar{}scowiki    &  2671                                                \\\\\n",
       "\t403959 & anon\\_edit                                                     & 87.170.223.74wbsetclaim-create:2\\textbar{}\\textbar{}1         &  2262                                                          \\\\\n",
       "\t29105 & anon\\_edit                                           & 10.68.17.61wbsetreference-add:2\\textbar{}            &  2214                                                \\\\\n",
       "\t355564 & anon\\_edit                                           & 150.254.210.213wbsetsitelink-set:1\\textbar{}plwiki   &  2162                                                \\\\\n",
       "\t389997 & anon\\_edit                                                     & 112.198.98.164wbsetclaim-create:2\\textbar{}\\textbar{}1        &  2095                                                          \\\\\n",
       "\t435220 & anon\\_edit                                                     & 114.183.56.228wbsetclaim-create:2\\textbar{}\\textbar{}1        &  2047                                                          \\\\\n",
       "\t659356 & anon\\_edit                                                     & 112.198.70.58wbsetclaim-create:2\\textbar{}\\textbar{}1         &  2040                                                          \\\\\n",
       "\t363955 & anon\\_edit                                                     & 37.134.214.154wbsetclaim-create:2\\textbar{}\\textbar{}1        &  2022                                                          \\\\\n",
       "\t8198 & anon\\_edit                                           & 78.66.239.141wbsetsitelink-add:1\\textbar{}sqwiki     &  2021                                                \\\\\n",
       "\t698459 & anon\\_edit                                                     & 112.198.69.195wbsetclaim-create:2\\textbar{}\\textbar{}1        &  1879                                                          \\\\\n",
       "\t663492 & anon\\_edit                                                     & 82.117.201.26wbsetclaim-create:1\\textbar{}\\textbar{}1         &  1852                                                          \\\\\n",
       "\t118267 & anon\\_edit                                           & 65.129.135.224wbsetsitelink-set:1\\textbar{}srwiki    &  1707                                                \\\\\n",
       "\t568374 & anon\\_edit                                           & 212.96.182.2wbsetsitelink-add:1\\textbar{}cswiki      &  1610                                                \\\\\n",
       "\t98194 & anon\\_edit                                           & 217.14.40.189wbsetlabel-add:1\\textbar{}ca            &  1601                                                \\\\\n",
       "\t⋮ & ⋮ & ⋮ & ⋮\\\\\n",
       "\t708702 & anon\\_edit                                                                    & 216.186.97.3wbsetclaim-update:2\\textbar{}\\textbar{}1\\textbar{}2             & 1                                                                             \\\\\n",
       "\t708703 & anon\\_edit                                                & 190.11.10.250wbsetlabeldescriptionaliases:3\\textbar{}en   & 1                                                         \\\\\n",
       "\t708704 & anon\\_edit                                                & 190.167.253.1wbsetlabel-add:1\\textbar{}it                 & 1                                                         \\\\\n",
       "\t708705 & anon\\_edit                                                & 185.27.218.118wbsetlabel-set:1\\textbar{}ru                & 1                                                         \\\\\n",
       "\t708706 & anon\\_edit                                                & 97.89.11.181wbsetdescription-set:1\\textbar{}en            & 1                                                         \\\\\n",
       "\t708707 & anon\\_edit                                                & 80.82.146.18wbsetdescription-add:1\\textbar{}pl            & 1                                                         \\\\\n",
       "\t708708 & anon\\_edit                                                & 187.252.220.111wbsetlabeldescriptionaliases:3\\textbar{}en & 1                                                         \\\\\n",
       "\t708709 & anon\\_edit                                                & 172.243.4.115wbsetlabel-set:1\\textbar{}fi                 & 1                                                         \\\\\n",
       "\t708710 & anon\\_edit                                                & 80.54.177.4wbsetsitelink-remove:0\\textbar{}ruwiki         & 1                                                         \\\\\n",
       "\t708711 & anon\\_edit                                                & 39.229.8.115wbsetlabel-add:1\\textbar{}id                  & 1                                                         \\\\\n",
       "\t708712 & anon\\_edit                                                & 89.250.166.234wbsetlabel-add:1\\textbar{}en                & 1                                                         \\\\\n",
       "\t708713 & anon\\_edit                                                & 176.57.53.150wbsetsitelink-add:1\\textbar{}ukwiki          & 1                                                         \\\\\n",
       "\t708715 & anon\\_edit                                                & 175.139.239.247wbsetdescription-set:1\\textbar{}en         & 1                                                         \\\\\n",
       "\t708717 & anon\\_edit                                                & 173.166.235.161wbsetaliases-add:1\\textbar{}en             & 1                                                         \\\\\n",
       "\t708718 & anon\\_edit                                                          & 167.62.83.195wbsetclaim-update:2\\textbar{}\\textbar{}1              & 1                                                                   \\\\\n",
       "\t708719 & anon\\_edit                                                & 83.42.39.200wbsetlabel-set:1\\textbar{}es                  & 1                                                         \\\\\n",
       "\t708720 & anon\\_edit                                                & 78.53.66.168wbsetdescription-add:1\\textbar{}ru            & 1                                                         \\\\\n",
       "\t708722 & anon\\_edit                                                & 79.152.55.144wbsetdescription-add:1\\textbar{}ca           & 1                                                         \\\\\n",
       "\t708723 & anon\\_edit                                                & 175.138.41.223wbsetlabel-add:1\\textbar{}ms                & 1                                                         \\\\\n",
       "\t708725 & anon\\_edit                                                          & 186.59.161.196wbsetclaim-update:2\\textbar{}\\textbar{}1             & 1                                                                   \\\\\n",
       "\t708728 & anon\\_edit                                                & 125.197.75.250wbsetlabel-set:1\\textbar{}en                & 1                                                         \\\\\n",
       "\t708729 & anon\\_edit                                                & 14.99.41.154wbsetdescription-add:1\\textbar{}hi            & 1                                                         \\\\\n",
       "\t708730 & anon\\_edit                                                & 212.49.88.107wbsetsitelink-remove:1\\textbar{}frwikivoyage & 1                                                         \\\\\n",
       "\t708731 & anon\\_edit                                                & 117.198.227.60wbsetdescription-add:1\\textbar{}hi          & 1                                                         \\\\\n",
       "\t708732 & anon\\_edit                                                & 122.90.98.170wbsetsitelink-add:1\\textbar{}sowiki          & 1                                                         \\\\\n",
       "\t708734 & anon\\_edit                                                & 82.61.59.20wbsetsitelink-add:1\\textbar{}itwiki            & 1                                                         \\\\\n",
       "\t708735 & anon\\_edit                                                & 190.198.88.233wbsetlabel-set:1\\textbar{}es                & 1                                                         \\\\\n",
       "\t708736 & anon\\_edit                                                & 83.109.85.112wbsetsitelink-add:1\\textbar{}nowiki          & 1                                                         \\\\\n",
       "\t708737 & anon\\_edit                                                & 182.0.125.240wbsetdescription-add:1\\textbar{}en           & 1                                                         \\\\\n",
       "\t708738 & anon\\_edit                                                & 113.23.66.147wbsetsitelink-remove:0\\textbar{}azwiki       & 1                                                         \\\\\n",
       "\\end{tabular}\n"
      ],
      "text/markdown": [
       "\n",
       "| <!--/--> | edity_type | word | count | \n",
       "|---|---|---|---|---|---|---|---|---|---|---|---|---|---|---|---|---|---|---|---|---|---|---|---|---|---|---|---|---|---|---|---|---|---|---|---|---|---|---|---|---|---|---|---|---|---|---|---|---|---|---|---|---|---|---|---|---|---|---|---|---|\n",
       "| 522011 | anon_edit                                   | 10.68.17.174wbcreateclaim-create:1|         | 12753                                       | \n",
       "| 513774 | anon_edit                                   | 76.20.25.243wbsetsitelink-add:1|scowiki     |  7094                                       | \n",
       "| 310134 | anon_edit                                   | 112.203.160.147wbcreateclaim-create:2|      |  6113                                       | \n",
       "| 63262 | anon_edit                                   | 27.119.40.146wbsetsitelink-add:1|kowiki     |  5156                                       | \n",
       "| 313336 | anon_edit                                   | 185.54.115.189wbeditentity-update:0|        |  4702                                       | \n",
       "| 153046 | anon_edit                                   | 89.122.248.53wblinktitles-connect:2|        |  4658                                       | \n",
       "| 348632 | anon_edit                                   | 221.94.14.18wbsetsitelink-add:1|jawiki      |  4127                                       | \n",
       "| 67379 | anon_edit                                   | 112.198.70.1wbsetclaim-create:2||1          |  3986                                       | \n",
       "| 526816 | anon_edit                                   | 77.56.53.183wbsetsitelink-add:1|commonswiki |  3641                                       | \n",
       "| 616681 | anon_edit                                   | 72.29.167.158wbcreateclaim-create:2|        |  3486                                       | \n",
       "| 509651 | anon_edit                                   | 72.29.167.158wbsetreference                 |  3485                                       | \n",
       "| 362477 | anon_edit                                   | 150.254.210.213wbsetsitelink-add:1|plwiki   |  3322                                       | \n",
       "| 685423 | anon_edit                                   | 92.249.181.99wbsetclaim-create:2||1         |  3321                                       | \n",
       "| 62372 | anon_edit                                   | 50.53.1.33wbsetclaim-create:2||1            |  3290                                       | \n",
       "| 554728 | anon_edit                                   | 50.126.125.240wbsetclaim-create:2||1        |  3114                                       | \n",
       "| 400737 | anon_edit                                   | 82.117.201.26wbsetclaim-create:2||1         |  2849                                       | \n",
       "| 467655 | anon_edit                                   | 98.255.199.36wbsetsitelink-add:1|scowiki    |  2671                                       | \n",
       "| 403959 | anon_edit                                   | 87.170.223.74wbsetclaim-create:2||1         |  2262                                       | \n",
       "| 29105 | anon_edit                                   | 10.68.17.61wbsetreference-add:2|            |  2214                                       | \n",
       "| 355564 | anon_edit                                   | 150.254.210.213wbsetsitelink-set:1|plwiki   |  2162                                       | \n",
       "| 389997 | anon_edit                                   | 112.198.98.164wbsetclaim-create:2||1        |  2095                                       | \n",
       "| 435220 | anon_edit                                   | 114.183.56.228wbsetclaim-create:2||1        |  2047                                       | \n",
       "| 659356 | anon_edit                                   | 112.198.70.58wbsetclaim-create:2||1         |  2040                                       | \n",
       "| 363955 | anon_edit                                   | 37.134.214.154wbsetclaim-create:2||1        |  2022                                       | \n",
       "| 8198 | anon_edit                                   | 78.66.239.141wbsetsitelink-add:1|sqwiki     |  2021                                       | \n",
       "| 698459 | anon_edit                                   | 112.198.69.195wbsetclaim-create:2||1        |  1879                                       | \n",
       "| 663492 | anon_edit                                   | 82.117.201.26wbsetclaim-create:1||1         |  1852                                       | \n",
       "| 118267 | anon_edit                                   | 65.129.135.224wbsetsitelink-set:1|srwiki    |  1707                                       | \n",
       "| 568374 | anon_edit                                   | 212.96.182.2wbsetsitelink-add:1|cswiki      |  1610                                       | \n",
       "| 98194 | anon_edit                                   | 217.14.40.189wbsetlabel-add:1|ca            |  1601                                       | \n",
       "| ⋮ | ⋮ | ⋮ | ⋮ | \n",
       "| 708702 | anon_edit                                        | 216.186.97.3wbsetclaim-update:2||1|2             | 1                                                | \n",
       "| 708703 | anon_edit                                        | 190.11.10.250wbsetlabeldescriptionaliases:3|en   | 1                                                | \n",
       "| 708704 | anon_edit                                        | 190.167.253.1wbsetlabel-add:1|it                 | 1                                                | \n",
       "| 708705 | anon_edit                                        | 185.27.218.118wbsetlabel-set:1|ru                | 1                                                | \n",
       "| 708706 | anon_edit                                        | 97.89.11.181wbsetdescription-set:1|en            | 1                                                | \n",
       "| 708707 | anon_edit                                        | 80.82.146.18wbsetdescription-add:1|pl            | 1                                                | \n",
       "| 708708 | anon_edit                                        | 187.252.220.111wbsetlabeldescriptionaliases:3|en | 1                                                | \n",
       "| 708709 | anon_edit                                        | 172.243.4.115wbsetlabel-set:1|fi                 | 1                                                | \n",
       "| 708710 | anon_edit                                        | 80.54.177.4wbsetsitelink-remove:0|ruwiki         | 1                                                | \n",
       "| 708711 | anon_edit                                        | 39.229.8.115wbsetlabel-add:1|id                  | 1                                                | \n",
       "| 708712 | anon_edit                                        | 89.250.166.234wbsetlabel-add:1|en                | 1                                                | \n",
       "| 708713 | anon_edit                                        | 176.57.53.150wbsetsitelink-add:1|ukwiki          | 1                                                | \n",
       "| 708715 | anon_edit                                        | 175.139.239.247wbsetdescription-set:1|en         | 1                                                | \n",
       "| 708717 | anon_edit                                        | 173.166.235.161wbsetaliases-add:1|en             | 1                                                | \n",
       "| 708718 | anon_edit                                        | 167.62.83.195wbsetclaim-update:2||1              | 1                                                | \n",
       "| 708719 | anon_edit                                        | 83.42.39.200wbsetlabel-set:1|es                  | 1                                                | \n",
       "| 708720 | anon_edit                                        | 78.53.66.168wbsetdescription-add:1|ru            | 1                                                | \n",
       "| 708722 | anon_edit                                        | 79.152.55.144wbsetdescription-add:1|ca           | 1                                                | \n",
       "| 708723 | anon_edit                                        | 175.138.41.223wbsetlabel-add:1|ms                | 1                                                | \n",
       "| 708725 | anon_edit                                        | 186.59.161.196wbsetclaim-update:2||1             | 1                                                | \n",
       "| 708728 | anon_edit                                        | 125.197.75.250wbsetlabel-set:1|en                | 1                                                | \n",
       "| 708729 | anon_edit                                        | 14.99.41.154wbsetdescription-add:1|hi            | 1                                                | \n",
       "| 708730 | anon_edit                                        | 212.49.88.107wbsetsitelink-remove:1|frwikivoyage | 1                                                | \n",
       "| 708731 | anon_edit                                        | 117.198.227.60wbsetdescription-add:1|hi          | 1                                                | \n",
       "| 708732 | anon_edit                                        | 122.90.98.170wbsetsitelink-add:1|sowiki          | 1                                                | \n",
       "| 708734 | anon_edit                                        | 82.61.59.20wbsetsitelink-add:1|itwiki            | 1                                                | \n",
       "| 708735 | anon_edit                                        | 190.198.88.233wbsetlabel-set:1|es                | 1                                                | \n",
       "| 708736 | anon_edit                                        | 83.109.85.112wbsetsitelink-add:1|nowiki          | 1                                                | \n",
       "| 708737 | anon_edit                                        | 182.0.125.240wbsetdescription-add:1|en           | 1                                                | \n",
       "| 708738 | anon_edit                                        | 113.23.66.147wbsetsitelink-remove:0|azwiki       | 1                                                | \n",
       "\n",
       "\n"
      ],
      "text/plain": [
       "       edity_type word                                             count\n",
       "522011 anon_edit  10.68.17.174wbcreateclaim-create:1|              12753\n",
       "513774 anon_edit  76.20.25.243wbsetsitelink-add:1|scowiki           7094\n",
       "310134 anon_edit  112.203.160.147wbcreateclaim-create:2|            6113\n",
       "63262  anon_edit  27.119.40.146wbsetsitelink-add:1|kowiki           5156\n",
       "313336 anon_edit  185.54.115.189wbeditentity-update:0|              4702\n",
       "153046 anon_edit  89.122.248.53wblinktitles-connect:2|              4658\n",
       "348632 anon_edit  221.94.14.18wbsetsitelink-add:1|jawiki            4127\n",
       "67379  anon_edit  112.198.70.1wbsetclaim-create:2||1                3986\n",
       "526816 anon_edit  77.56.53.183wbsetsitelink-add:1|commonswiki       3641\n",
       "616681 anon_edit  72.29.167.158wbcreateclaim-create:2|              3486\n",
       "509651 anon_edit  72.29.167.158wbsetreference                       3485\n",
       "362477 anon_edit  150.254.210.213wbsetsitelink-add:1|plwiki         3322\n",
       "685423 anon_edit  92.249.181.99wbsetclaim-create:2||1               3321\n",
       "62372  anon_edit  50.53.1.33wbsetclaim-create:2||1                  3290\n",
       "554728 anon_edit  50.126.125.240wbsetclaim-create:2||1              3114\n",
       "400737 anon_edit  82.117.201.26wbsetclaim-create:2||1               2849\n",
       "467655 anon_edit  98.255.199.36wbsetsitelink-add:1|scowiki          2671\n",
       "403959 anon_edit  87.170.223.74wbsetclaim-create:2||1               2262\n",
       "29105  anon_edit  10.68.17.61wbsetreference-add:2|                  2214\n",
       "355564 anon_edit  150.254.210.213wbsetsitelink-set:1|plwiki         2162\n",
       "389997 anon_edit  112.198.98.164wbsetclaim-create:2||1              2095\n",
       "435220 anon_edit  114.183.56.228wbsetclaim-create:2||1              2047\n",
       "659356 anon_edit  112.198.70.58wbsetclaim-create:2||1               2040\n",
       "363955 anon_edit  37.134.214.154wbsetclaim-create:2||1              2022\n",
       "8198   anon_edit  78.66.239.141wbsetsitelink-add:1|sqwiki           2021\n",
       "698459 anon_edit  112.198.69.195wbsetclaim-create:2||1              1879\n",
       "663492 anon_edit  82.117.201.26wbsetclaim-create:1||1               1852\n",
       "118267 anon_edit  65.129.135.224wbsetsitelink-set:1|srwiki          1707\n",
       "568374 anon_edit  212.96.182.2wbsetsitelink-add:1|cswiki            1610\n",
       "98194  anon_edit  217.14.40.189wbsetlabel-add:1|ca                  1601\n",
       "⋮      ⋮          ⋮                                                ⋮    \n",
       "708702 anon_edit  216.186.97.3wbsetclaim-update:2||1|2             1    \n",
       "708703 anon_edit  190.11.10.250wbsetlabeldescriptionaliases:3|en   1    \n",
       "708704 anon_edit  190.167.253.1wbsetlabel-add:1|it                 1    \n",
       "708705 anon_edit  185.27.218.118wbsetlabel-set:1|ru                1    \n",
       "708706 anon_edit  97.89.11.181wbsetdescription-set:1|en            1    \n",
       "708707 anon_edit  80.82.146.18wbsetdescription-add:1|pl            1    \n",
       "708708 anon_edit  187.252.220.111wbsetlabeldescriptionaliases:3|en 1    \n",
       "708709 anon_edit  172.243.4.115wbsetlabel-set:1|fi                 1    \n",
       "708710 anon_edit  80.54.177.4wbsetsitelink-remove:0|ruwiki         1    \n",
       "708711 anon_edit  39.229.8.115wbsetlabel-add:1|id                  1    \n",
       "708712 anon_edit  89.250.166.234wbsetlabel-add:1|en                1    \n",
       "708713 anon_edit  176.57.53.150wbsetsitelink-add:1|ukwiki          1    \n",
       "708715 anon_edit  175.139.239.247wbsetdescription-set:1|en         1    \n",
       "708717 anon_edit  173.166.235.161wbsetaliases-add:1|en             1    \n",
       "708718 anon_edit  167.62.83.195wbsetclaim-update:2||1              1    \n",
       "708719 anon_edit  83.42.39.200wbsetlabel-set:1|es                  1    \n",
       "708720 anon_edit  78.53.66.168wbsetdescription-add:1|ru            1    \n",
       "708722 anon_edit  79.152.55.144wbsetdescription-add:1|ca           1    \n",
       "708723 anon_edit  175.138.41.223wbsetlabel-add:1|ms                1    \n",
       "708725 anon_edit  186.59.161.196wbsetclaim-update:2||1             1    \n",
       "708728 anon_edit  125.197.75.250wbsetlabel-set:1|en                1    \n",
       "708729 anon_edit  14.99.41.154wbsetdescription-add:1|hi            1    \n",
       "708730 anon_edit  212.49.88.107wbsetsitelink-remove:1|frwikivoyage 1    \n",
       "708731 anon_edit  117.198.227.60wbsetdescription-add:1|hi          1    \n",
       "708732 anon_edit  122.90.98.170wbsetsitelink-add:1|sowiki          1    \n",
       "708734 anon_edit  82.61.59.20wbsetsitelink-add:1|itwiki            1    \n",
       "708735 anon_edit  190.198.88.233wbsetlabel-set:1|es                1    \n",
       "708736 anon_edit  83.109.85.112wbsetsitelink-add:1|nowiki          1    \n",
       "708737 anon_edit  182.0.125.240wbsetdescription-add:1|en           1    \n",
       "708738 anon_edit  113.23.66.147wbsetsitelink-remove:0|azwiki       1    "
      ]
     },
     "metadata": {},
     "output_type": "display_data"
    }
   ],
   "source": [
    "sorted_revision_user_word_pairs"
   ]
  },
  {
   "cell_type": "code",
   "execution_count": 7,
   "metadata": {
    "collapsed": true
   },
   "outputs": [],
   "source": [
    "rm(revision_user_word_pairs)\n",
    "rm(sorted_revision_user_word_pairs)"
   ]
  },
  {
   "cell_type": "markdown",
   "metadata": {
    "collapsed": true
   },
   "source": [
    "# Semi-automated edits"
   ]
  },
  {
   "cell_type": "code",
   "execution_count": 8,
   "metadata": {
    "collapsed": false
   },
   "outputs": [],
   "source": [
    "revision_user_word_pairs <- read.delim(\"../../results/revision_user_word_pairs/semi_automated_revision_user_word_pairs_structured_comment_delimiters_removed.tsv\", header=FALSE, sep=\"\\t\")"
   ]
  },
  {
   "cell_type": "code",
   "execution_count": 9,
   "metadata": {
    "collapsed": false
   },
   "outputs": [],
   "source": [
    "colnames(revision_user_word_pairs) <- c('edity_type','word', 'count')"
   ]
  },
  {
   "cell_type": "code",
   "execution_count": 10,
   "metadata": {
    "collapsed": false
   },
   "outputs": [
    {
     "name": "stderr",
     "output_type": "stream",
     "text": [
      "The following objects are masked from revision_user_word_pairs (pos = 3):\n",
      "\n",
      "    count, edity_type, word\n",
      "\n"
     ]
    }
   ],
   "source": [
    "attach(revision_user_word_pairs)"
   ]
  },
  {
   "cell_type": "code",
   "execution_count": 11,
   "metadata": {
    "collapsed": false
   },
   "outputs": [
    {
     "data": {
      "text/plain": [
       "               edity_type                                        word       \n",
       " semi_automated_edit:589396   1000037wbcreateclaim-create:1|       :     1  \n",
       "                              1000037wbmergeitems-from:0||q10293742:     1  \n",
       "                              1000037wbmergeitems-from:0||q11859748:     1  \n",
       "                              1000037wbmergeitems-from:0||q12948851:     1  \n",
       "                              1000037wbmergeitems-from:0||q13359837:     1  \n",
       "                              1000037wbmergeitems-from:0||q14760414:     1  \n",
       "                              (Other)                              :589390  \n",
       "     count        \n",
       " Min.   :      1  \n",
       " 1st Qu.:      1  \n",
       " Median :      1  \n",
       " Mean   :    115  \n",
       " 3rd Qu.:      1  \n",
       " Max.   :4407787  \n",
       "                  "
      ]
     },
     "metadata": {},
     "output_type": "display_data"
    }
   ],
   "source": [
    "summary(revision_user_word_pairs)"
   ]
  },
  {
   "cell_type": "code",
   "execution_count": 12,
   "metadata": {
    "collapsed": false
   },
   "outputs": [],
   "source": [
    "sorted_revision_user_word_pairs <- revision_user_word_pairs[order(-count),]"
   ]
  },
  {
   "cell_type": "code",
   "execution_count": 13,
   "metadata": {
    "collapsed": false
   },
   "outputs": [
    {
     "data": {
      "text/html": [
       "<table>\n",
       "<thead><tr><th></th><th scope=col>edity_type</th><th scope=col>word</th><th scope=col>count</th></tr></thead>\n",
       "<tbody>\n",
       "\t<tr><th scope=row>273354</th><td>semi_automated_edit            </td><td>609373wbcreateclaim-create:1|  </td><td>4407787                        </td></tr>\n",
       "\t<tr><th scope=row>284072</th><td>semi_automated_edit            </td><td>4731wbcreateclaim-create:1|    </td><td>1929358                        </td></tr>\n",
       "\t<tr><th scope=row>411528</th><td>semi_automated_edit            </td><td>4115wbcreateclaim-create:1|    </td><td>1633042                        </td></tr>\n",
       "\t<tr><th scope=row>227451</th><td>semi_automated_edit            </td><td>7150wbcreateclaim-create:1|    </td><td>1183464                        </td></tr>\n",
       "\t<tr><th scope=row>100515</th><td>semi_automated_edit            </td><td>1822wbcreateclaim-create:1|    </td><td>1142366                        </td></tr>\n",
       "\t<tr><th scope=row>559270</th><td>semi_automated_edit            </td><td>20423wbcreateclaim-create:1|   </td><td>1127981                        </td></tr>\n",
       "\t<tr><th scope=row>309113</th><td>semi_automated_edit            </td><td>48481wbsetlabel-add:1|fr       </td><td>1036604                        </td></tr>\n",
       "\t<tr><th scope=row>87986</th><td>semi_automated_edit            </td><td>53290wbcreateclaim-create:1|   </td><td> 962271                        </td></tr>\n",
       "\t<tr><th scope=row>477895</th><td>semi_automated_edit            </td><td>110062wbcreateclaim-create:1|  </td><td> 886413                        </td></tr>\n",
       "\t<tr><th scope=row>523226</th><td>semi_automated_edit            </td><td>428643wbcreateclaim-create:1|  </td><td> 867494                        </td></tr>\n",
       "\t<tr><th scope=row>359648</th><td>semi_automated_edit            </td><td>428643wbsetreference-add:2|    </td><td> 758295                        </td></tr>\n",
       "\t<tr><th scope=row>394464</th><td>semi_automated_edit            </td><td>1134wbcreateclaim-create:1|    </td><td> 732408                        </td></tr>\n",
       "\t<tr><th scope=row>581869</th><td>semi_automated_edit            </td><td>314752wbsetdescription-add:1|ar</td><td> 705601                        </td></tr>\n",
       "\t<tr><th scope=row>178889</th><td>semi_automated_edit            </td><td>889167wbcreateclaim-create:1|  </td><td> 688673                        </td></tr>\n",
       "\t<tr><th scope=row>167825</th><td>semi_automated_edit            </td><td>110062wbsetreference-add:2|    </td><td> 610015                        </td></tr>\n",
       "\t<tr><th scope=row>269727</th><td>semi_automated_edit            </td><td>768608wbsetdescription-add:1|hy</td><td> 575607                        </td></tr>\n",
       "\t<tr><th scope=row>331908</th><td>semi_automated_edit            </td><td>13330wbcreateclaim-create:1|   </td><td> 553888                        </td></tr>\n",
       "\t<tr><th scope=row>2337</th><td>semi_automated_edit            </td><td>4115wbsetreference-add:2|      </td><td> 553709                        </td></tr>\n",
       "\t<tr><th scope=row>532747</th><td>semi_automated_edit            </td><td>124251wbcreateclaim-create:1|  </td><td> 539397                        </td></tr>\n",
       "\t<tr><th scope=row>306818</th><td>semi_automated_edit            </td><td>35388wbsetreference-add:2|     </td><td> 537492                        </td></tr>\n",
       "\t<tr><th scope=row>184453</th><td>semi_automated_edit            </td><td>35388wbcreateclaim-create:1|   </td><td> 484632                        </td></tr>\n",
       "\t<tr><th scope=row>350858</th><td>semi_automated_edit            </td><td>16841wbsetlabel-add:1|hu       </td><td> 474444                        </td></tr>\n",
       "\t<tr><th scope=row>163390</th><td>semi_automated_edit            </td><td>609373wbsetlabel-add:1|en      </td><td> 474365                        </td></tr>\n",
       "\t<tr><th scope=row>373542</th><td>semi_automated_edit            </td><td>4935wbcreateclaim-create:1|    </td><td> 421887                        </td></tr>\n",
       "\t<tr><th scope=row>155179</th><td>semi_automated_edit            </td><td>444264wbcreateclaim-create:1|  </td><td> 418398                        </td></tr>\n",
       "\t<tr><th scope=row>321868</th><td>semi_automated_edit            </td><td>734026wbcreateclaim-create:1|  </td><td> 404883                        </td></tr>\n",
       "\t<tr><th scope=row>215407</th><td>semi_automated_edit            </td><td>1822wbsetdescription-add:1|el  </td><td> 395791                        </td></tr>\n",
       "\t<tr><th scope=row>128972</th><td>semi_automated_edit            </td><td>609373wbsetreference-add:2|    </td><td> 381339                        </td></tr>\n",
       "\t<tr><th scope=row>324980</th><td>semi_automated_edit            </td><td>53290wbsetreference-add:2|     </td><td> 373358                        </td></tr>\n",
       "\t<tr><th scope=row>205161</th><td>semi_automated_edit            </td><td>13330wbsetreference-add:2|     </td><td> 367194                        </td></tr>\n",
       "\t<tr><th scope=row>⋮</th><td>⋮</td><td>⋮</td><td>⋮</td></tr>\n",
       "\t<tr><th scope=row>589365</th><td>semi_automated_edit                  </td><td>11885wbmergeitems-from:0||q25652612  </td><td>1                                    </td></tr>\n",
       "\t<tr><th scope=row>589366</th><td>semi_automated_edit                  </td><td>66011wbmergeitems-from:0||q18087464  </td><td>1                                    </td></tr>\n",
       "\t<tr><th scope=row>589367</th><td>semi_automated_edit                  </td><td>7599wbmergeitems-from:0||q11764279   </td><td>1                                    </td></tr>\n",
       "\t<tr><th scope=row>589368</th><td>semi_automated_edit                  </td><td>11885wbmergeitems-from:0||q8943819   </td><td>1                                    </td></tr>\n",
       "\t<tr><th scope=row>589369</th><td>semi_automated_edit                  </td><td>196263wbmergeitems-from:0||q11151258 </td><td>1                                    </td></tr>\n",
       "\t<tr><th scope=row>589370</th><td>semi_automated_edit                  </td><td>197855wbmergeitems-from:0||q10984062 </td><td>1                                    </td></tr>\n",
       "\t<tr><th scope=row>589371</th><td>semi_automated_edit                  </td><td>178040wbmergeitems-from:0||q28863834 </td><td>1                                    </td></tr>\n",
       "\t<tr><th scope=row>589372</th><td>semi_automated_edit                  </td><td>4457wbmergeitems-from:0||q19162424   </td><td>1                                    </td></tr>\n",
       "\t<tr><th scope=row>589373</th><td>semi_automated_edit                  </td><td>5840wbmergeitems-from:0||q18171229   </td><td>1                                    </td></tr>\n",
       "\t<tr><th scope=row>589374</th><td>semi_automated_edit                  </td><td>5257wbmergeitems-from:0||q9542000    </td><td>1                                    </td></tr>\n",
       "\t<tr><th scope=row>589376</th><td>semi_automated_edit                  </td><td>28325wbmergeitems-from:0||q19564924  </td><td>1                                    </td></tr>\n",
       "\t<tr><th scope=row>589377</th><td>semi_automated_edit                  </td><td>1105067wbmergeitems-from:0||q18341798</td><td>1                                    </td></tr>\n",
       "\t<tr><th scope=row>589378</th><td>semi_automated_edit                  </td><td>109099wbmergeitems-from:0||q18349292 </td><td>1                                    </td></tr>\n",
       "\t<tr><th scope=row>589379</th><td>semi_automated_edit                  </td><td>7203wbmergeitems-from:0||q26109764   </td><td>1                                    </td></tr>\n",
       "\t<tr><th scope=row>589380</th><td>semi_automated_edit                  </td><td>178040wbmergeitems-from:0||q28447858 </td><td>1                                    </td></tr>\n",
       "\t<tr><th scope=row>589381</th><td>semi_automated_edit                  </td><td>658693wbmergeitems-to:0||q53102      </td><td>1                                    </td></tr>\n",
       "\t<tr><th scope=row>589382</th><td>semi_automated_edit                  </td><td>203574wbmergeitems-from:0||q9917508  </td><td>1                                    </td></tr>\n",
       "\t<tr><th scope=row>589384</th><td>semi_automated_edit                  </td><td>203574wbmergeitems-from:0||q10961249 </td><td>1                                    </td></tr>\n",
       "\t<tr><th scope=row>589385</th><td>semi_automated_edit                  </td><td>66011wbmergeitems-from:0||q9906314   </td><td>1                                    </td></tr>\n",
       "\t<tr><th scope=row>589386</th><td>semi_automated_edit                  </td><td>178040wbmergeitems-to:0||q28056476   </td><td>1                                    </td></tr>\n",
       "\t<tr><th scope=row>589387</th><td>semi_automated_edit                  </td><td>1105067wbmergeitems-from:0||q11165103</td><td>1                                    </td></tr>\n",
       "\t<tr><th scope=row>589388</th><td>semi_automated_edit                  </td><td>175070wbmergeitems-from:0||q17277669 </td><td>1                                    </td></tr>\n",
       "\t<tr><th scope=row>589389</th><td>semi_automated_edit                  </td><td>254390wbmergeitems-to:0||q3238057    </td><td>1                                    </td></tr>\n",
       "\t<tr><th scope=row>589390</th><td>semi_automated_edit                  </td><td>66011wbmergeitems-from:0||q10020156  </td><td>1                                    </td></tr>\n",
       "\t<tr><th scope=row>589391</th><td>semi_automated_edit                  </td><td>562006wbmergeitems-from:0||q4978201  </td><td>1                                    </td></tr>\n",
       "\t<tr><th scope=row>589392</th><td>semi_automated_edit                  </td><td>4420wbmergeitems-from:0||q12784263   </td><td>1                                    </td></tr>\n",
       "\t<tr><th scope=row>589393</th><td>semi_automated_edit                  </td><td>201849wbmergeitems-from:0||q13156265 </td><td>1                                    </td></tr>\n",
       "\t<tr><th scope=row>589394</th><td>semi_automated_edit                  </td><td>146880wbmergeitems-from:0||q19482391 </td><td>1                                    </td></tr>\n",
       "\t<tr><th scope=row>589395</th><td>semi_automated_edit                  </td><td>28325wbmergeitems-from:0||q10045267  </td><td>1                                    </td></tr>\n",
       "\t<tr><th scope=row>589396</th><td>semi_automated_edit                  </td><td>181395wbmergeitems-from:0||q22898961 </td><td>1                                    </td></tr>\n",
       "</tbody>\n",
       "</table>\n"
      ],
      "text/latex": [
       "\\begin{tabular}{r|lll}\n",
       "  & edity\\_type & word & count\\\\\n",
       "\\hline\n",
       "\t273354 & semi\\_automated\\_edit                   & 609373wbcreateclaim-create:1\\textbar{}   & 4407787                                  \\\\\n",
       "\t284072 & semi\\_automated\\_edit                   & 4731wbcreateclaim-create:1\\textbar{}     & 1929358                                  \\\\\n",
       "\t411528 & semi\\_automated\\_edit                   & 4115wbcreateclaim-create:1\\textbar{}     & 1633042                                  \\\\\n",
       "\t227451 & semi\\_automated\\_edit                   & 7150wbcreateclaim-create:1\\textbar{}     & 1183464                                  \\\\\n",
       "\t100515 & semi\\_automated\\_edit                   & 1822wbcreateclaim-create:1\\textbar{}     & 1142366                                  \\\\\n",
       "\t559270 & semi\\_automated\\_edit                   & 20423wbcreateclaim-create:1\\textbar{}    & 1127981                                  \\\\\n",
       "\t309113 & semi\\_automated\\_edit                   & 48481wbsetlabel-add:1\\textbar{}fr        & 1036604                                  \\\\\n",
       "\t87986 & semi\\_automated\\_edit                   & 53290wbcreateclaim-create:1\\textbar{}    &  962271                                  \\\\\n",
       "\t477895 & semi\\_automated\\_edit                   & 110062wbcreateclaim-create:1\\textbar{}   &  886413                                  \\\\\n",
       "\t523226 & semi\\_automated\\_edit                   & 428643wbcreateclaim-create:1\\textbar{}   &  867494                                  \\\\\n",
       "\t359648 & semi\\_automated\\_edit                   & 428643wbsetreference-add:2\\textbar{}     &  758295                                  \\\\\n",
       "\t394464 & semi\\_automated\\_edit                   & 1134wbcreateclaim-create:1\\textbar{}     &  732408                                  \\\\\n",
       "\t581869 & semi\\_automated\\_edit                   & 314752wbsetdescription-add:1\\textbar{}ar &  705601                                  \\\\\n",
       "\t178889 & semi\\_automated\\_edit                   & 889167wbcreateclaim-create:1\\textbar{}   &  688673                                  \\\\\n",
       "\t167825 & semi\\_automated\\_edit                   & 110062wbsetreference-add:2\\textbar{}     &  610015                                  \\\\\n",
       "\t269727 & semi\\_automated\\_edit                   & 768608wbsetdescription-add:1\\textbar{}hy &  575607                                  \\\\\n",
       "\t331908 & semi\\_automated\\_edit                   & 13330wbcreateclaim-create:1\\textbar{}    &  553888                                  \\\\\n",
       "\t2337 & semi\\_automated\\_edit                   & 4115wbsetreference-add:2\\textbar{}       &  553709                                  \\\\\n",
       "\t532747 & semi\\_automated\\_edit                   & 124251wbcreateclaim-create:1\\textbar{}   &  539397                                  \\\\\n",
       "\t306818 & semi\\_automated\\_edit                   & 35388wbsetreference-add:2\\textbar{}      &  537492                                  \\\\\n",
       "\t184453 & semi\\_automated\\_edit                   & 35388wbcreateclaim-create:1\\textbar{}    &  484632                                  \\\\\n",
       "\t350858 & semi\\_automated\\_edit                   & 16841wbsetlabel-add:1\\textbar{}hu        &  474444                                  \\\\\n",
       "\t163390 & semi\\_automated\\_edit                   & 609373wbsetlabel-add:1\\textbar{}en       &  474365                                  \\\\\n",
       "\t373542 & semi\\_automated\\_edit                   & 4935wbcreateclaim-create:1\\textbar{}     &  421887                                  \\\\\n",
       "\t155179 & semi\\_automated\\_edit                   & 444264wbcreateclaim-create:1\\textbar{}   &  418398                                  \\\\\n",
       "\t321868 & semi\\_automated\\_edit                   & 734026wbcreateclaim-create:1\\textbar{}   &  404883                                  \\\\\n",
       "\t215407 & semi\\_automated\\_edit                   & 1822wbsetdescription-add:1\\textbar{}el   &  395791                                  \\\\\n",
       "\t128972 & semi\\_automated\\_edit                   & 609373wbsetreference-add:2\\textbar{}     &  381339                                  \\\\\n",
       "\t324980 & semi\\_automated\\_edit                   & 53290wbsetreference-add:2\\textbar{}      &  373358                                  \\\\\n",
       "\t205161 & semi\\_automated\\_edit                   & 13330wbsetreference-add:2\\textbar{}      &  367194                                  \\\\\n",
       "\t⋮ & ⋮ & ⋮ & ⋮\\\\\n",
       "\t589365 & semi\\_automated\\_edit                                   & 11885wbmergeitems-from:0\\textbar{}\\textbar{}q25652612   & 1                                                        \\\\\n",
       "\t589366 & semi\\_automated\\_edit                                   & 66011wbmergeitems-from:0\\textbar{}\\textbar{}q18087464   & 1                                                        \\\\\n",
       "\t589367 & semi\\_automated\\_edit                                   & 7599wbmergeitems-from:0\\textbar{}\\textbar{}q11764279    & 1                                                        \\\\\n",
       "\t589368 & semi\\_automated\\_edit                                   & 11885wbmergeitems-from:0\\textbar{}\\textbar{}q8943819    & 1                                                        \\\\\n",
       "\t589369 & semi\\_automated\\_edit                                   & 196263wbmergeitems-from:0\\textbar{}\\textbar{}q11151258  & 1                                                        \\\\\n",
       "\t589370 & semi\\_automated\\_edit                                   & 197855wbmergeitems-from:0\\textbar{}\\textbar{}q10984062  & 1                                                        \\\\\n",
       "\t589371 & semi\\_automated\\_edit                                   & 178040wbmergeitems-from:0\\textbar{}\\textbar{}q28863834  & 1                                                        \\\\\n",
       "\t589372 & semi\\_automated\\_edit                                   & 4457wbmergeitems-from:0\\textbar{}\\textbar{}q19162424    & 1                                                        \\\\\n",
       "\t589373 & semi\\_automated\\_edit                                   & 5840wbmergeitems-from:0\\textbar{}\\textbar{}q18171229    & 1                                                        \\\\\n",
       "\t589374 & semi\\_automated\\_edit                                   & 5257wbmergeitems-from:0\\textbar{}\\textbar{}q9542000     & 1                                                        \\\\\n",
       "\t589376 & semi\\_automated\\_edit                                   & 28325wbmergeitems-from:0\\textbar{}\\textbar{}q19564924   & 1                                                        \\\\\n",
       "\t589377 & semi\\_automated\\_edit                                   & 1105067wbmergeitems-from:0\\textbar{}\\textbar{}q18341798 & 1                                                        \\\\\n",
       "\t589378 & semi\\_automated\\_edit                                   & 109099wbmergeitems-from:0\\textbar{}\\textbar{}q18349292  & 1                                                        \\\\\n",
       "\t589379 & semi\\_automated\\_edit                                   & 7203wbmergeitems-from:0\\textbar{}\\textbar{}q26109764    & 1                                                        \\\\\n",
       "\t589380 & semi\\_automated\\_edit                                   & 178040wbmergeitems-from:0\\textbar{}\\textbar{}q28447858  & 1                                                        \\\\\n",
       "\t589381 & semi\\_automated\\_edit                                   & 658693wbmergeitems-to:0\\textbar{}\\textbar{}q53102       & 1                                                        \\\\\n",
       "\t589382 & semi\\_automated\\_edit                                   & 203574wbmergeitems-from:0\\textbar{}\\textbar{}q9917508   & 1                                                        \\\\\n",
       "\t589384 & semi\\_automated\\_edit                                   & 203574wbmergeitems-from:0\\textbar{}\\textbar{}q10961249  & 1                                                        \\\\\n",
       "\t589385 & semi\\_automated\\_edit                                   & 66011wbmergeitems-from:0\\textbar{}\\textbar{}q9906314    & 1                                                        \\\\\n",
       "\t589386 & semi\\_automated\\_edit                                   & 178040wbmergeitems-to:0\\textbar{}\\textbar{}q28056476    & 1                                                        \\\\\n",
       "\t589387 & semi\\_automated\\_edit                                   & 1105067wbmergeitems-from:0\\textbar{}\\textbar{}q11165103 & 1                                                        \\\\\n",
       "\t589388 & semi\\_automated\\_edit                                   & 175070wbmergeitems-from:0\\textbar{}\\textbar{}q17277669  & 1                                                        \\\\\n",
       "\t589389 & semi\\_automated\\_edit                                   & 254390wbmergeitems-to:0\\textbar{}\\textbar{}q3238057     & 1                                                        \\\\\n",
       "\t589390 & semi\\_automated\\_edit                                   & 66011wbmergeitems-from:0\\textbar{}\\textbar{}q10020156   & 1                                                        \\\\\n",
       "\t589391 & semi\\_automated\\_edit                                   & 562006wbmergeitems-from:0\\textbar{}\\textbar{}q4978201   & 1                                                        \\\\\n",
       "\t589392 & semi\\_automated\\_edit                                   & 4420wbmergeitems-from:0\\textbar{}\\textbar{}q12784263    & 1                                                        \\\\\n",
       "\t589393 & semi\\_automated\\_edit                                   & 201849wbmergeitems-from:0\\textbar{}\\textbar{}q13156265  & 1                                                        \\\\\n",
       "\t589394 & semi\\_automated\\_edit                                   & 146880wbmergeitems-from:0\\textbar{}\\textbar{}q19482391  & 1                                                        \\\\\n",
       "\t589395 & semi\\_automated\\_edit                                   & 28325wbmergeitems-from:0\\textbar{}\\textbar{}q10045267   & 1                                                        \\\\\n",
       "\t589396 & semi\\_automated\\_edit                                   & 181395wbmergeitems-from:0\\textbar{}\\textbar{}q22898961  & 1                                                        \\\\\n",
       "\\end{tabular}\n"
      ],
      "text/markdown": [
       "\n",
       "| <!--/--> | edity_type | word | count | \n",
       "|---|---|---|---|---|---|---|---|---|---|---|---|---|---|---|---|---|---|---|---|---|---|---|---|---|---|---|---|---|---|---|---|---|---|---|---|---|---|---|---|---|---|---|---|---|---|---|---|---|---|---|---|---|---|---|---|---|---|---|---|---|\n",
       "| 273354 | semi_automated_edit             | 609373wbcreateclaim-create:1|   | 4407787                         | \n",
       "| 284072 | semi_automated_edit             | 4731wbcreateclaim-create:1|     | 1929358                         | \n",
       "| 411528 | semi_automated_edit             | 4115wbcreateclaim-create:1|     | 1633042                         | \n",
       "| 227451 | semi_automated_edit             | 7150wbcreateclaim-create:1|     | 1183464                         | \n",
       "| 100515 | semi_automated_edit             | 1822wbcreateclaim-create:1|     | 1142366                         | \n",
       "| 559270 | semi_automated_edit             | 20423wbcreateclaim-create:1|    | 1127981                         | \n",
       "| 309113 | semi_automated_edit             | 48481wbsetlabel-add:1|fr        | 1036604                         | \n",
       "| 87986 | semi_automated_edit             | 53290wbcreateclaim-create:1|    |  962271                         | \n",
       "| 477895 | semi_automated_edit             | 110062wbcreateclaim-create:1|   |  886413                         | \n",
       "| 523226 | semi_automated_edit             | 428643wbcreateclaim-create:1|   |  867494                         | \n",
       "| 359648 | semi_automated_edit             | 428643wbsetreference-add:2|     |  758295                         | \n",
       "| 394464 | semi_automated_edit             | 1134wbcreateclaim-create:1|     |  732408                         | \n",
       "| 581869 | semi_automated_edit             | 314752wbsetdescription-add:1|ar |  705601                         | \n",
       "| 178889 | semi_automated_edit             | 889167wbcreateclaim-create:1|   |  688673                         | \n",
       "| 167825 | semi_automated_edit             | 110062wbsetreference-add:2|     |  610015                         | \n",
       "| 269727 | semi_automated_edit             | 768608wbsetdescription-add:1|hy |  575607                         | \n",
       "| 331908 | semi_automated_edit             | 13330wbcreateclaim-create:1|    |  553888                         | \n",
       "| 2337 | semi_automated_edit             | 4115wbsetreference-add:2|       |  553709                         | \n",
       "| 532747 | semi_automated_edit             | 124251wbcreateclaim-create:1|   |  539397                         | \n",
       "| 306818 | semi_automated_edit             | 35388wbsetreference-add:2|      |  537492                         | \n",
       "| 184453 | semi_automated_edit             | 35388wbcreateclaim-create:1|    |  484632                         | \n",
       "| 350858 | semi_automated_edit             | 16841wbsetlabel-add:1|hu        |  474444                         | \n",
       "| 163390 | semi_automated_edit             | 609373wbsetlabel-add:1|en       |  474365                         | \n",
       "| 373542 | semi_automated_edit             | 4935wbcreateclaim-create:1|     |  421887                         | \n",
       "| 155179 | semi_automated_edit             | 444264wbcreateclaim-create:1|   |  418398                         | \n",
       "| 321868 | semi_automated_edit             | 734026wbcreateclaim-create:1|   |  404883                         | \n",
       "| 215407 | semi_automated_edit             | 1822wbsetdescription-add:1|el   |  395791                         | \n",
       "| 128972 | semi_automated_edit             | 609373wbsetreference-add:2|     |  381339                         | \n",
       "| 324980 | semi_automated_edit             | 53290wbsetreference-add:2|      |  373358                         | \n",
       "| 205161 | semi_automated_edit             | 13330wbsetreference-add:2|      |  367194                         | \n",
       "| ⋮ | ⋮ | ⋮ | ⋮ | \n",
       "| 589365 | semi_automated_edit                   | 11885wbmergeitems-from:0||q25652612   | 1                                     | \n",
       "| 589366 | semi_automated_edit                   | 66011wbmergeitems-from:0||q18087464   | 1                                     | \n",
       "| 589367 | semi_automated_edit                   | 7599wbmergeitems-from:0||q11764279    | 1                                     | \n",
       "| 589368 | semi_automated_edit                   | 11885wbmergeitems-from:0||q8943819    | 1                                     | \n",
       "| 589369 | semi_automated_edit                   | 196263wbmergeitems-from:0||q11151258  | 1                                     | \n",
       "| 589370 | semi_automated_edit                   | 197855wbmergeitems-from:0||q10984062  | 1                                     | \n",
       "| 589371 | semi_automated_edit                   | 178040wbmergeitems-from:0||q28863834  | 1                                     | \n",
       "| 589372 | semi_automated_edit                   | 4457wbmergeitems-from:0||q19162424    | 1                                     | \n",
       "| 589373 | semi_automated_edit                   | 5840wbmergeitems-from:0||q18171229    | 1                                     | \n",
       "| 589374 | semi_automated_edit                   | 5257wbmergeitems-from:0||q9542000     | 1                                     | \n",
       "| 589376 | semi_automated_edit                   | 28325wbmergeitems-from:0||q19564924   | 1                                     | \n",
       "| 589377 | semi_automated_edit                   | 1105067wbmergeitems-from:0||q18341798 | 1                                     | \n",
       "| 589378 | semi_automated_edit                   | 109099wbmergeitems-from:0||q18349292  | 1                                     | \n",
       "| 589379 | semi_automated_edit                   | 7203wbmergeitems-from:0||q26109764    | 1                                     | \n",
       "| 589380 | semi_automated_edit                   | 178040wbmergeitems-from:0||q28447858  | 1                                     | \n",
       "| 589381 | semi_automated_edit                   | 658693wbmergeitems-to:0||q53102       | 1                                     | \n",
       "| 589382 | semi_automated_edit                   | 203574wbmergeitems-from:0||q9917508   | 1                                     | \n",
       "| 589384 | semi_automated_edit                   | 203574wbmergeitems-from:0||q10961249  | 1                                     | \n",
       "| 589385 | semi_automated_edit                   | 66011wbmergeitems-from:0||q9906314    | 1                                     | \n",
       "| 589386 | semi_automated_edit                   | 178040wbmergeitems-to:0||q28056476    | 1                                     | \n",
       "| 589387 | semi_automated_edit                   | 1105067wbmergeitems-from:0||q11165103 | 1                                     | \n",
       "| 589388 | semi_automated_edit                   | 175070wbmergeitems-from:0||q17277669  | 1                                     | \n",
       "| 589389 | semi_automated_edit                   | 254390wbmergeitems-to:0||q3238057     | 1                                     | \n",
       "| 589390 | semi_automated_edit                   | 66011wbmergeitems-from:0||q10020156   | 1                                     | \n",
       "| 589391 | semi_automated_edit                   | 562006wbmergeitems-from:0||q4978201   | 1                                     | \n",
       "| 589392 | semi_automated_edit                   | 4420wbmergeitems-from:0||q12784263    | 1                                     | \n",
       "| 589393 | semi_automated_edit                   | 201849wbmergeitems-from:0||q13156265  | 1                                     | \n",
       "| 589394 | semi_automated_edit                   | 146880wbmergeitems-from:0||q19482391  | 1                                     | \n",
       "| 589395 | semi_automated_edit                   | 28325wbmergeitems-from:0||q10045267   | 1                                     | \n",
       "| 589396 | semi_automated_edit                   | 181395wbmergeitems-from:0||q22898961  | 1                                     | \n",
       "\n",
       "\n"
      ],
      "text/plain": [
       "       edity_type          word                                  count  \n",
       "273354 semi_automated_edit 609373wbcreateclaim-create:1|         4407787\n",
       "284072 semi_automated_edit 4731wbcreateclaim-create:1|           1929358\n",
       "411528 semi_automated_edit 4115wbcreateclaim-create:1|           1633042\n",
       "227451 semi_automated_edit 7150wbcreateclaim-create:1|           1183464\n",
       "100515 semi_automated_edit 1822wbcreateclaim-create:1|           1142366\n",
       "559270 semi_automated_edit 20423wbcreateclaim-create:1|          1127981\n",
       "309113 semi_automated_edit 48481wbsetlabel-add:1|fr              1036604\n",
       "87986  semi_automated_edit 53290wbcreateclaim-create:1|           962271\n",
       "477895 semi_automated_edit 110062wbcreateclaim-create:1|          886413\n",
       "523226 semi_automated_edit 428643wbcreateclaim-create:1|          867494\n",
       "359648 semi_automated_edit 428643wbsetreference-add:2|            758295\n",
       "394464 semi_automated_edit 1134wbcreateclaim-create:1|            732408\n",
       "581869 semi_automated_edit 314752wbsetdescription-add:1|ar        705601\n",
       "178889 semi_automated_edit 889167wbcreateclaim-create:1|          688673\n",
       "167825 semi_automated_edit 110062wbsetreference-add:2|            610015\n",
       "269727 semi_automated_edit 768608wbsetdescription-add:1|hy        575607\n",
       "331908 semi_automated_edit 13330wbcreateclaim-create:1|           553888\n",
       "2337   semi_automated_edit 4115wbsetreference-add:2|              553709\n",
       "532747 semi_automated_edit 124251wbcreateclaim-create:1|          539397\n",
       "306818 semi_automated_edit 35388wbsetreference-add:2|             537492\n",
       "184453 semi_automated_edit 35388wbcreateclaim-create:1|           484632\n",
       "350858 semi_automated_edit 16841wbsetlabel-add:1|hu               474444\n",
       "163390 semi_automated_edit 609373wbsetlabel-add:1|en              474365\n",
       "373542 semi_automated_edit 4935wbcreateclaim-create:1|            421887\n",
       "155179 semi_automated_edit 444264wbcreateclaim-create:1|          418398\n",
       "321868 semi_automated_edit 734026wbcreateclaim-create:1|          404883\n",
       "215407 semi_automated_edit 1822wbsetdescription-add:1|el          395791\n",
       "128972 semi_automated_edit 609373wbsetreference-add:2|            381339\n",
       "324980 semi_automated_edit 53290wbsetreference-add:2|             373358\n",
       "205161 semi_automated_edit 13330wbsetreference-add:2|             367194\n",
       "⋮      ⋮                   ⋮                                     ⋮      \n",
       "589365 semi_automated_edit 11885wbmergeitems-from:0||q25652612   1      \n",
       "589366 semi_automated_edit 66011wbmergeitems-from:0||q18087464   1      \n",
       "589367 semi_automated_edit 7599wbmergeitems-from:0||q11764279    1      \n",
       "589368 semi_automated_edit 11885wbmergeitems-from:0||q8943819    1      \n",
       "589369 semi_automated_edit 196263wbmergeitems-from:0||q11151258  1      \n",
       "589370 semi_automated_edit 197855wbmergeitems-from:0||q10984062  1      \n",
       "589371 semi_automated_edit 178040wbmergeitems-from:0||q28863834  1      \n",
       "589372 semi_automated_edit 4457wbmergeitems-from:0||q19162424    1      \n",
       "589373 semi_automated_edit 5840wbmergeitems-from:0||q18171229    1      \n",
       "589374 semi_automated_edit 5257wbmergeitems-from:0||q9542000     1      \n",
       "589376 semi_automated_edit 28325wbmergeitems-from:0||q19564924   1      \n",
       "589377 semi_automated_edit 1105067wbmergeitems-from:0||q18341798 1      \n",
       "589378 semi_automated_edit 109099wbmergeitems-from:0||q18349292  1      \n",
       "589379 semi_automated_edit 7203wbmergeitems-from:0||q26109764    1      \n",
       "589380 semi_automated_edit 178040wbmergeitems-from:0||q28447858  1      \n",
       "589381 semi_automated_edit 658693wbmergeitems-to:0||q53102       1      \n",
       "589382 semi_automated_edit 203574wbmergeitems-from:0||q9917508   1      \n",
       "589384 semi_automated_edit 203574wbmergeitems-from:0||q10961249  1      \n",
       "589385 semi_automated_edit 66011wbmergeitems-from:0||q9906314    1      \n",
       "589386 semi_automated_edit 178040wbmergeitems-to:0||q28056476    1      \n",
       "589387 semi_automated_edit 1105067wbmergeitems-from:0||q11165103 1      \n",
       "589388 semi_automated_edit 175070wbmergeitems-from:0||q17277669  1      \n",
       "589389 semi_automated_edit 254390wbmergeitems-to:0||q3238057     1      \n",
       "589390 semi_automated_edit 66011wbmergeitems-from:0||q10020156   1      \n",
       "589391 semi_automated_edit 562006wbmergeitems-from:0||q4978201   1      \n",
       "589392 semi_automated_edit 4420wbmergeitems-from:0||q12784263    1      \n",
       "589393 semi_automated_edit 201849wbmergeitems-from:0||q13156265  1      \n",
       "589394 semi_automated_edit 146880wbmergeitems-from:0||q19482391  1      \n",
       "589395 semi_automated_edit 28325wbmergeitems-from:0||q10045267   1      \n",
       "589396 semi_automated_edit 181395wbmergeitems-from:0||q22898961  1      "
      ]
     },
     "metadata": {},
     "output_type": "display_data"
    }
   ],
   "source": [
    "sorted_revision_user_word_pairs"
   ]
  },
  {
   "cell_type": "code",
   "execution_count": 14,
   "metadata": {
    "collapsed": true
   },
   "outputs": [],
   "source": [
    "rm(revision_user_word_pairs)\n",
    "rm(sorted_revision_user_word_pairs)"
   ]
  },
  {
   "cell_type": "markdown",
   "metadata": {
    "collapsed": true
   },
   "source": [
    "# Human edits"
   ]
  },
  {
   "cell_type": "code",
   "execution_count": null,
   "metadata": {
    "collapsed": false
   },
   "outputs": [],
   "source": [
    "revision_user_word_pairs <- read.delim(\"../../results/revision_user_word_pairs/human_revision_user_word_pairs_structured_comment_delimiters_removed.tsv\", header=FALSE, sep=\"\\t\", quote=\"\")"
   ]
  },
  {
   "cell_type": "code",
   "execution_count": null,
   "metadata": {
    "collapsed": false
   },
   "outputs": [],
   "source": [
    "colnames(revision_user_word_pairs) <- c('edity_type','word', 'count')"
   ]
  },
  {
   "cell_type": "code",
   "execution_count": null,
   "metadata": {
    "collapsed": false
   },
   "outputs": [],
   "source": [
    "attach(revision_user_word_pairs)"
   ]
  },
  {
   "cell_type": "code",
   "execution_count": null,
   "metadata": {
    "collapsed": false
   },
   "outputs": [],
   "source": [
    "summary(revision_user_word_pairs)"
   ]
  },
  {
   "cell_type": "code",
   "execution_count": null,
   "metadata": {
    "collapsed": false
   },
   "outputs": [],
   "source": [
    "sorted_revision_user_word_pairs <- revision_user_word_pairs[order(-count),]"
   ]
  },
  {
   "cell_type": "code",
   "execution_count": null,
   "metadata": {
    "collapsed": false
   },
   "outputs": [],
   "source": [
    "sorted_revision_user_word_pairs"
   ]
  },
  {
   "cell_type": "code",
   "execution_count": null,
   "metadata": {
    "collapsed": true
   },
   "outputs": [],
   "source": [
    "rm(revision_user_word_pairs)\n",
    "rm(sorted_revision_user_word_pairs)"
   ]
  },
  {
   "cell_type": "markdown",
   "metadata": {
    "collapsed": true
   },
   "source": [
    "# Bot edits"
   ]
  },
  {
   "cell_type": "code",
   "execution_count": null,
   "metadata": {
    "collapsed": false
   },
   "outputs": [],
   "source": [
    "revision_user_word_pairs <- read.delim(\"../../results/revision_user_word_pairs/bot_revision_user_word_pairs_structured_comment_delimiters_removed.tsv\", header=FALSE, sep=\"\\t\", quote=\"\")"
   ]
  },
  {
   "cell_type": "code",
   "execution_count": null,
   "metadata": {
    "collapsed": false
   },
   "outputs": [],
   "source": [
    "colnames(revision_user_word_pairs) <- c('edity_type','word', 'count')"
   ]
  },
  {
   "cell_type": "code",
   "execution_count": null,
   "metadata": {
    "collapsed": false
   },
   "outputs": [],
   "source": [
    "attach(revision_user_word_pairs)"
   ]
  },
  {
   "cell_type": "code",
   "execution_count": null,
   "metadata": {
    "collapsed": false
   },
   "outputs": [],
   "source": [
    "summary(revision_user_word_pairs)"
   ]
  },
  {
   "cell_type": "code",
   "execution_count": null,
   "metadata": {
    "collapsed": false
   },
   "outputs": [],
   "source": [
    "sorted_revision_user_word_pairs <- revision_user_word_pairs[order(-count),]"
   ]
  },
  {
   "cell_type": "code",
   "execution_count": null,
   "metadata": {
    "collapsed": false
   },
   "outputs": [],
   "source": [
    "sorted_revision_user_word_pairs"
   ]
  },
  {
   "cell_type": "code",
   "execution_count": null,
   "metadata": {
    "collapsed": true
   },
   "outputs": [],
   "source": [
    "rm(revision_user_word_pairs)\n",
    "rm(sorted_revision_user_word_pairs)"
   ]
  }
 ],
 "metadata": {
  "anaconda-cloud": {},
  "kernelspec": {
   "display_name": "R [r]",
   "language": "R",
   "name": "R [r]"
  },
  "language_info": {
   "codemirror_mode": "r",
   "file_extension": ".r",
   "mimetype": "text/x-r-source",
   "name": "R",
   "pygments_lexer": "r",
   "version": "3.3.2"
  }
 },
 "nbformat": 4,
 "nbformat_minor": 0
}
