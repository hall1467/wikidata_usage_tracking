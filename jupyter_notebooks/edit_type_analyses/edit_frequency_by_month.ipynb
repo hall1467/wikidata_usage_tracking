{
 "cells": [
  {
   "cell_type": "code",
   "execution_count": 1,
   "metadata": {
    "collapsed": false
   },
   "outputs": [],
   "source": [
    "library(data.table)"
   ]
  },
  {
   "cell_type": "code",
   "execution_count": 2,
   "metadata": {
    "collapsed": true
   },
   "outputs": [],
   "source": [
    "library(ggplot2)"
   ]
  },
  {
   "cell_type": "code",
   "execution_count": 3,
   "metadata": {
    "collapsed": false
   },
   "outputs": [
    {
     "name": "stderr",
     "output_type": "stream",
     "text": [
      "\n",
      "Attaching package: ‘dplyr’\n",
      "\n",
      "The following objects are masked from ‘package:data.table’:\n",
      "\n",
      "    between, first, last\n",
      "\n",
      "The following objects are masked from ‘package:stats’:\n",
      "\n",
      "    filter, lag\n",
      "\n",
      "The following objects are masked from ‘package:base’:\n",
      "\n",
      "    intersect, setdiff, setequal, union\n",
      "\n"
     ]
    }
   ],
   "source": [
    "library(dplyr)"
   ]
  },
  {
   "cell_type": "code",
   "execution_count": 4,
   "metadata": {
    "collapsed": true
   },
   "outputs": [],
   "source": [
    "options(scipen=999)"
   ]
  },
  {
   "cell_type": "markdown",
   "metadata": {},
   "source": [
    "# Sampling registered user revisions to plot out time difference between edits"
   ]
  },
  {
   "cell_type": "code",
   "execution_count": 5,
   "metadata": {
    "collapsed": false
   },
   "outputs": [],
   "source": [
    "sample_human_revision_session_data <- data.table(read.table(\"~/Desktop/human_events.tsv\", header=TRUE, sep=\"\\t\"))"
   ]
  },
  {
   "cell_type": "code",
   "execution_count": 6,
   "metadata": {
    "collapsed": false
   },
   "outputs": [],
   "source": [
    "sample_human_revision_session_data$updated_timestamp <- as.POSIXct(as.character(sample_human_revision_session_data$timestamp), format='%Y%m%d%H%M%S', origin='1970-01-01')"
   ]
  },
  {
   "cell_type": "code",
   "execution_count": 7,
   "metadata": {
    "collapsed": false
   },
   "outputs": [],
   "source": [
    "sample_human_revision_session_data$updated_previous_timestamp <- as.POSIXct(as.character(sample_human_revision_session_data$prev_timestamp), format='%Y%m%d%H%M%S', origin='1970-01-01')"
   ]
  },
  {
   "cell_type": "code",
   "execution_count": 8,
   "metadata": {
    "collapsed": true
   },
   "outputs": [],
   "source": [
    "sample_human_revision_session_data$time_difference <- as.numeric(sample_human_revision_session_data$updated_timestamp - sample_human_revision_session_data$updated_previous_timestamp)"
   ]
  },
  {
   "cell_type": "code",
   "execution_count": 9,
   "metadata": {
    "collapsed": false
   },
   "outputs": [
    {
     "name": "stderr",
     "output_type": "stream",
     "text": [
      "Warning message in eval(expr, envir, enclos):\n",
      "“NaNs produced”"
     ]
    }
   ],
   "source": [
    "sample_human_revision_session_data$log_time_difference <- log10(sample_human_revision_session_data$time_difference + 1)"
   ]
  },
  {
   "cell_type": "code",
   "execution_count": 10,
   "metadata": {
    "collapsed": false
   },
   "outputs": [],
   "source": [
    "attach(sample_human_revision_session_data)"
   ]
  },
  {
   "cell_type": "code",
   "execution_count": 20,
   "metadata": {
    "collapsed": false
   },
   "outputs": [],
   "source": [
    "sample_human_revision_session_data_mean = summarize(group_by(sample_human_revision_session_data[prev_timestamp != 'NULL' & session_events >= 10 & time_difference >= 0,], user, session_start), edit_in_session = n(), mean_time_difference = mean(time_difference))"
   ]
  },
  {
   "cell_type": "code",
   "execution_count": 21,
   "metadata": {
    "collapsed": false
   },
   "outputs": [
    {
     "data": {
      "text/html": [
       "<table>\n",
       "<thead><tr><th scope=col>user</th><th scope=col>session_start</th><th scope=col>edit_in_session</th><th scope=col>mean_time_difference</th></tr></thead>\n",
       "<tbody>\n",
       "\t<tr><td>1             </td><td>20140727151034</td><td>12            </td><td>117.2500      </td></tr>\n",
       "\t<tr><td>1             </td><td>20141122224009</td><td> 9            </td><td>391.4444      </td></tr>\n",
       "\t<tr><td>1             </td><td>20150304141053</td><td>23            </td><td>963.2174      </td></tr>\n",
       "\t<tr><td>1             </td><td>20150304231604</td><td>16            </td><td>832.3125      </td></tr>\n",
       "\t<tr><td>1             </td><td>20150305231129</td><td>19            </td><td>485.1579      </td></tr>\n",
       "\t<tr><td>1             </td><td>20150308203934</td><td>25            </td><td>422.0000      </td></tr>\n",
       "</tbody>\n",
       "</table>\n"
      ],
      "text/latex": [
       "\\begin{tabular}{r|llll}\n",
       " user & session\\_start & edit\\_in\\_session & mean\\_time\\_difference\\\\\n",
       "\\hline\n",
       "\t 1              & 20140727151034 & 12             & 117.2500      \\\\\n",
       "\t 1              & 20141122224009 &  9             & 391.4444      \\\\\n",
       "\t 1              & 20150304141053 & 23             & 963.2174      \\\\\n",
       "\t 1              & 20150304231604 & 16             & 832.3125      \\\\\n",
       "\t 1              & 20150305231129 & 19             & 485.1579      \\\\\n",
       "\t 1              & 20150308203934 & 25             & 422.0000      \\\\\n",
       "\\end{tabular}\n"
      ],
      "text/markdown": [
       "\n",
       "user | session_start | edit_in_session | mean_time_difference | \n",
       "|---|---|---|---|---|---|\n",
       "| 1              | 20140727151034 | 12             | 117.2500       | \n",
       "| 1              | 20141122224009 |  9             | 391.4444       | \n",
       "| 1              | 20150304141053 | 23             | 963.2174       | \n",
       "| 1              | 20150304231604 | 16             | 832.3125       | \n",
       "| 1              | 20150305231129 | 19             | 485.1579       | \n",
       "| 1              | 20150308203934 | 25             | 422.0000       | \n",
       "\n",
       "\n"
      ],
      "text/plain": [
       "  user session_start  edit_in_session mean_time_difference\n",
       "1 1    20140727151034 12              117.2500            \n",
       "2 1    20141122224009  9              391.4444            \n",
       "3 1    20150304141053 23              963.2174            \n",
       "4 1    20150304231604 16              832.3125            \n",
       "5 1    20150305231129 19              485.1579            \n",
       "6 1    20150308203934 25              422.0000            "
      ]
     },
     "metadata": {},
     "output_type": "display_data"
    }
   ],
   "source": [
    "head(sample_human_revision_session_data_mean)"
   ]
  },
  {
   "cell_type": "code",
   "execution_count": 22,
   "metadata": {
    "collapsed": false
   },
   "outputs": [
    {
     "ename": "ERROR",
     "evalue": "Error in `:=`(group, \"group1\"): Check that is.data.table(DT) == TRUE. Otherwise, := and `:=`(...) are defined for use in j, once only and in particular ways. See help(\":=\").\n",
     "output_type": "error",
     "traceback": [
      "Error in `:=`(group, \"group1\"): Check that is.data.table(DT) == TRUE. Otherwise, := and `:=`(...) are defined for use in j, once only and in particular ways. See help(\":=\").\nTraceback:\n",
      "1. sample_human_revision_session_data_mean[mean_time_difference < \n .     10, `:=`(group, \"group1\")]",
      "2. `[.grouped_df`(sample_human_revision_session_data_mean, mean_time_difference < \n .     10, `:=`(group, \"group1\"))",
      "3. NextMethod()",
      "4. `[.tbl_df`(sample_human_revision_session_data_mean, mean_time_difference < \n .     10, `:=`(group, \"group1\"))",
      "5. check_names_df(j, x)",
      "6. `:=`(group, \"group1\")",
      "7. stop(\"Check that is.data.table(DT) == TRUE. Otherwise, := and `:=`(...) are defined for use in j, once only and in particular ways. See help(\\\":=\\\").\")"
     ]
    }
   ],
   "source": [
    "sample_human_revision_session_data_mean[mean_time_difference < 10, group := \"group1\"]"
   ]
  },
  {
   "cell_type": "code",
   "execution_count": null,
   "metadata": {
    "collapsed": true
   },
   "outputs": [],
   "source": []
  }
 ],
 "metadata": {
  "anaconda-cloud": {},
  "kernelspec": {
   "display_name": "R [r]",
   "language": "R",
   "name": "R [r]"
  },
  "language_info": {
   "codemirror_mode": "r",
   "file_extension": ".r",
   "mimetype": "text/x-r-source",
   "name": "R",
   "pygments_lexer": "r",
   "version": "3.3.2"
  }
 },
 "nbformat": 4,
 "nbformat_minor": 0
}
