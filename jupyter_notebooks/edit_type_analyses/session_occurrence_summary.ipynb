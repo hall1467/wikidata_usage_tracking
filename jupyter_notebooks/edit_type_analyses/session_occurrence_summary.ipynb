{
 "cells": [
  {
   "cell_type": "code",
   "execution_count": 1,
   "metadata": {
    "collapsed": false
   },
   "outputs": [],
   "source": [
    "library(plyr)"
   ]
  },
  {
   "cell_type": "code",
   "execution_count": 2,
   "metadata": {
    "collapsed": false
   },
   "outputs": [],
   "source": [
    "session_occurrence_data <- read.table(\"../../python_analysis_scripts/data_edit_analyses/r_and_r/session_data_no_nulls.tsv\", header=TRUE, sep=\"\\t\")"
   ]
  },
  {
   "cell_type": "code",
   "execution_count": 3,
   "metadata": {
    "collapsed": false
   },
   "outputs": [
    {
     "data": {
      "text/plain": [
       "      user             start                end                index       \n",
       " Min.   :      0   Min.   :2.004e+13   Min.   :2.004e+13   Min.   :   0.0  \n",
       " 1st Qu.:  45583   1st Qu.:2.014e+13   1st Qu.:2.014e+13   1st Qu.:  45.0  \n",
       " Median : 150272   Median :2.015e+13   Median :2.015e+13   Median : 202.0  \n",
       " Mean   : 473468   Mean   :2.015e+13   Mean   :2.015e+13   Mean   : 493.1  \n",
       " 3rd Qu.: 456868   3rd Qu.:2.016e+13   3rd Qu.:2.016e+13   3rd Qu.: 620.0  \n",
       " Max.   :2824759   Max.   :2.017e+13   Max.   :2.017e+13   Max.   :8914.0  \n",
       "     events       \n",
       " Min.   :      1  \n",
       " 1st Qu.:      1  \n",
       " Median :      2  \n",
       " Mean   :     95  \n",
       " 3rd Qu.:      4  \n",
       " Max.   :5921330  "
      ]
     },
     "metadata": {},
     "output_type": "display_data"
    }
   ],
   "source": [
    "summary(session_occurrence_data)"
   ]
  },
  {
   "cell_type": "code",
   "execution_count": 4,
   "metadata": {
    "collapsed": false
   },
   "outputs": [
    {
     "data": {
      "text/html": [
       "<table>\n",
       "<thead><tr><th scope=col>user</th><th scope=col>start</th><th scope=col>end</th><th scope=col>index</th><th scope=col>events</th></tr></thead>\n",
       "<tbody>\n",
       "\t<tr><td>0           </td><td>2.004072e+13</td><td>2.004072e+13</td><td>0           </td><td>1           </td></tr>\n",
       "\t<tr><td>0           </td><td>2.004073e+13</td><td>2.004073e+13</td><td>1           </td><td>1           </td></tr>\n",
       "\t<tr><td>0           </td><td>2.004073e+13</td><td>2.004073e+13</td><td>2           </td><td>2           </td></tr>\n",
       "\t<tr><td>0           </td><td>2.004073e+13</td><td>2.004073e+13</td><td>3           </td><td>3           </td></tr>\n",
       "\t<tr><td>0           </td><td>2.004073e+13</td><td>2.004073e+13</td><td>4           </td><td>7           </td></tr>\n",
       "\t<tr><td>0           </td><td>2.004073e+13</td><td>2.004073e+13</td><td>5           </td><td>6           </td></tr>\n",
       "</tbody>\n",
       "</table>\n"
      ],
      "text/latex": [
       "\\begin{tabular}{r|lllll}\n",
       " user & start & end & index & events\\\\\n",
       "\\hline\n",
       "\t 0            & 2.004072e+13 & 2.004072e+13 & 0            & 1           \\\\\n",
       "\t 0            & 2.004073e+13 & 2.004073e+13 & 1            & 1           \\\\\n",
       "\t 0            & 2.004073e+13 & 2.004073e+13 & 2            & 2           \\\\\n",
       "\t 0            & 2.004073e+13 & 2.004073e+13 & 3            & 3           \\\\\n",
       "\t 0            & 2.004073e+13 & 2.004073e+13 & 4            & 7           \\\\\n",
       "\t 0            & 2.004073e+13 & 2.004073e+13 & 5            & 6           \\\\\n",
       "\\end{tabular}\n"
      ],
      "text/markdown": [
       "\n",
       "user | start | end | index | events | \n",
       "|---|---|---|---|---|---|\n",
       "| 0            | 2.004072e+13 | 2.004072e+13 | 0            | 1            | \n",
       "| 0            | 2.004073e+13 | 2.004073e+13 | 1            | 1            | \n",
       "| 0            | 2.004073e+13 | 2.004073e+13 | 2            | 2            | \n",
       "| 0            | 2.004073e+13 | 2.004073e+13 | 3            | 3            | \n",
       "| 0            | 2.004073e+13 | 2.004073e+13 | 4            | 7            | \n",
       "| 0            | 2.004073e+13 | 2.004073e+13 | 5            | 6            | \n",
       "\n",
       "\n"
      ],
      "text/plain": [
       "  user start        end          index events\n",
       "1 0    2.004072e+13 2.004072e+13 0     1     \n",
       "2 0    2.004073e+13 2.004073e+13 1     1     \n",
       "3 0    2.004073e+13 2.004073e+13 2     2     \n",
       "4 0    2.004073e+13 2.004073e+13 3     3     \n",
       "5 0    2.004073e+13 2.004073e+13 4     7     \n",
       "6 0    2.004073e+13 2.004073e+13 5     6     "
      ]
     },
     "metadata": {},
     "output_type": "display_data"
    }
   ],
   "source": [
    "head(session_occurrence_data)"
   ]
  },
  {
   "cell_type": "code",
   "execution_count": 5,
   "metadata": {
    "collapsed": false
   },
   "outputs": [
    {
     "data": {
      "text/plain": [
       "   Min. 1st Qu.  Median    Mean 3rd Qu.    Max. \n",
       "      0   45580  150300  473500  456900 2825000 "
      ]
     },
     "metadata": {},
     "output_type": "display_data"
    }
   ],
   "source": [
    "summary(session_occurrence_data$user)"
   ]
  },
  {
   "cell_type": "code",
   "execution_count": 6,
   "metadata": {
    "collapsed": false
   },
   "outputs": [
    {
     "data": {
      "text/plain": [
       "   Min. 1st Qu.  Median    Mean 3rd Qu.    Max. \n",
       "   1.00    1.00    1.00   28.17    4.00 8915.00 "
      ]
     },
     "metadata": {},
     "output_type": "display_data"
    }
   ],
   "source": [
    "summary(count(session_occurrence_data$user)$freq)"
   ]
  },
  {
   "cell_type": "code",
   "execution_count": null,
   "metadata": {
    "collapsed": true
   },
   "outputs": [],
   "source": []
  }
 ],
 "metadata": {
  "anaconda-cloud": {},
  "kernelspec": {
   "display_name": "R [r]",
   "language": "R",
   "name": "R [r]"
  },
  "language_info": {
   "codemirror_mode": "r",
   "file_extension": ".r",
   "mimetype": "text/x-r-source",
   "name": "R",
   "pygments_lexer": "r",
   "version": "3.3.2"
  }
 },
 "nbformat": 4,
 "nbformat_minor": 0
}
