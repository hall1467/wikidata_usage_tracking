{
 "cells": [
  {
   "cell_type": "code",
   "execution_count": 1,
   "metadata": {
    "collapsed": false,
    "scrolled": true
   },
   "outputs": [
    {
     "name": "stderr",
     "output_type": "stream",
     "text": [
      "\n",
      "Attaching package: ‘dplyr’\n",
      "\n",
      "The following objects are masked from ‘package:stats’:\n",
      "\n",
      "    filter, lag\n",
      "\n",
      "The following objects are masked from ‘package:base’:\n",
      "\n",
      "    intersect, setdiff, setequal, union\n",
      "\n"
     ]
    }
   ],
   "source": [
    "library(dplyr)"
   ]
  },
  {
   "cell_type": "code",
   "execution_count": 2,
   "metadata": {
    "collapsed": false
   },
   "outputs": [],
   "source": [
    "quality_prediction_and_page_views <- read.table(\"../results/sql_queries/entity_views_and_aggregated_revisions/entity_views_and_aggregated_revisions_and_quality_scoring_prediction_converted_20150701.tsv\", header=FALSE, sep=\"\\t\")"
   ]
  },
  {
   "cell_type": "code",
   "execution_count": 3,
   "metadata": {
    "collapsed": false
   },
   "outputs": [],
   "source": [
    "colnames(quality_prediction_and_page_views) <- c('entity_id','number_of_revisions', 'page_views', 'prediction', 'ordinal_score')"
   ]
  },
  {
   "cell_type": "code",
   "execution_count": 4,
   "metadata": {
    "collapsed": false
   },
   "outputs": [
    {
     "data": {
      "text/html": [
       "<table>\n",
       "<thead><tr><th scope=col>entity_id</th><th scope=col>number_of_revisions</th><th scope=col>page_views</th><th scope=col>prediction</th><th scope=col>ordinal_score</th></tr></thead>\n",
       "<tbody>\n",
       "\t<tr><td>Q1000999 </td><td>33       </td><td>736      </td><td>D        </td><td>2        </td></tr>\n",
       "\t<tr><td>Q10015364</td><td>11       </td><td>  1      </td><td>E        </td><td>1        </td></tr>\n",
       "\t<tr><td>Q10018576</td><td> 9       </td><td> 21      </td><td>E        </td><td>1        </td></tr>\n",
       "\t<tr><td>Q10020348</td><td>24       </td><td> 11      </td><td>E        </td><td>1        </td></tr>\n",
       "\t<tr><td>Q10020832</td><td>11       </td><td> 12      </td><td>E        </td><td>1        </td></tr>\n",
       "\t<tr><td>Q10028220</td><td>13       </td><td>  6      </td><td>E        </td><td>1        </td></tr>\n",
       "</tbody>\n",
       "</table>\n"
      ],
      "text/latex": [
       "\\begin{tabular}{r|lllll}\n",
       " entity\\_id & number\\_of\\_revisions & page\\_views & prediction & ordinal\\_score\\\\\n",
       "\\hline\n",
       "\t Q1000999  & 33        & 736       & D         & 2        \\\\\n",
       "\t Q10015364 & 11        &   1       & E         & 1        \\\\\n",
       "\t Q10018576 &  9        &  21       & E         & 1        \\\\\n",
       "\t Q10020348 & 24        &  11       & E         & 1        \\\\\n",
       "\t Q10020832 & 11        &  12       & E         & 1        \\\\\n",
       "\t Q10028220 & 13        &   6       & E         & 1        \\\\\n",
       "\\end{tabular}\n"
      ],
      "text/markdown": [
       "\n",
       "entity_id | number_of_revisions | page_views | prediction | ordinal_score | \n",
       "|---|---|---|---|---|---|\n",
       "| Q1000999  | 33        | 736       | D         | 2         | \n",
       "| Q10015364 | 11        |   1       | E         | 1         | \n",
       "| Q10018576 |  9        |  21       | E         | 1         | \n",
       "| Q10020348 | 24        |  11       | E         | 1         | \n",
       "| Q10020832 | 11        |  12       | E         | 1         | \n",
       "| Q10028220 | 13        |   6       | E         | 1         | \n",
       "\n",
       "\n"
      ],
      "text/plain": [
       "  entity_id number_of_revisions page_views prediction ordinal_score\n",
       "1 Q1000999  33                  736        D          2            \n",
       "2 Q10015364 11                    1        E          1            \n",
       "3 Q10018576  9                   21        E          1            \n",
       "4 Q10020348 24                   11        E          1            \n",
       "5 Q10020832 11                   12        E          1            \n",
       "6 Q10028220 13                    6        E          1            "
      ]
     },
     "metadata": {},
     "output_type": "display_data"
    }
   ],
   "source": [
    "head(quality_prediction_and_page_views)"
   ]
  },
  {
   "cell_type": "code",
   "execution_count": 5,
   "metadata": {
    "collapsed": false
   },
   "outputs": [
    {
     "data": {
      "text/html": [
       "0.125866968879605"
      ],
      "text/latex": [
       "0.125866968879605"
      ],
      "text/markdown": [
       "0.125866968879605"
      ],
      "text/plain": [
       "[1] 0.125867"
      ]
     },
     "metadata": {},
     "output_type": "display_data"
    }
   ],
   "source": [
    "cor(quality_prediction_and_page_views$page_views,quality_prediction_and_page_views$ordinal_score, method=\"spearman\")"
   ]
  },
  {
   "cell_type": "code",
   "execution_count": 6,
   "metadata": {
    "collapsed": false
   },
   "outputs": [],
   "source": [
    "quality_prediction_and_page_views_model <- lm(quality_prediction_and_page_views$page_views ~ quality_prediction_and_page_views$ordinal_score)"
   ]
  },
  {
   "cell_type": "code",
   "execution_count": 7,
   "metadata": {
    "collapsed": false
   },
   "outputs": [
    {
     "data": {
      "text/plain": [
       "\n",
       "Call:\n",
       "lm(formula = quality_prediction_and_page_views$page_views ~ quality_prediction_and_page_views$ordinal_score)\n",
       "\n",
       "Residuals:\n",
       "       Min         1Q     Median         3Q        Max \n",
       "-2.346e+05 -6.026e+04 -9.840e+02 -5.440e+02  1.253e+10 \n",
       "\n",
       "Coefficients:\n",
       "                                                Estimate Std. Error t value\n",
       "(Intercept)                                       -58602       3429  -17.09\n",
       "quality_prediction_and_page_views$ordinal_score    59621       2061   28.93\n",
       "                                                Pr(>|t|)    \n",
       "(Intercept)                                       <2e-16 ***\n",
       "quality_prediction_and_page_views$ordinal_score   <2e-16 ***\n",
       "---\n",
       "Signif. codes:  0 ‘***’ 0.001 ‘**’ 0.01 ‘*’ 0.05 ‘.’ 0.1 ‘ ’ 1\n",
       "\n",
       "Residual standard error: 6279000 on 17178162 degrees of freedom\n",
       "Multiple R-squared:  4.873e-05,\tAdjusted R-squared:  4.867e-05 \n",
       "F-statistic: 837.1 on 1 and 17178162 DF,  p-value: < 2.2e-16\n"
      ]
     },
     "metadata": {},
     "output_type": "display_data"
    }
   ],
   "source": [
    "summary(quality_prediction_and_page_views_model)"
   ]
  },
  {
   "cell_type": "markdown",
   "metadata": {
    "collapsed": true
   },
   "source": [
    "## Class A Items with Least Pages Views"
   ]
  },
  {
   "cell_type": "code",
   "execution_count": 8,
   "metadata": {
    "collapsed": false
   },
   "outputs": [],
   "source": [
    "class_a_quality_prediction_and_page_views <- filter(quality_prediction_and_page_views, prediction==\"A\")"
   ]
  },
  {
   "cell_type": "code",
   "execution_count": 9,
   "metadata": {
    "collapsed": false
   },
   "outputs": [],
   "source": [
    "sorted_ascend_class_a_quality_prediction_and_page_views <- dplyr::arrange(class_a_quality_prediction_and_page_views, page_views)"
   ]
  },
  {
   "cell_type": "code",
   "execution_count": 10,
   "metadata": {
    "collapsed": false
   },
   "outputs": [
    {
     "data": {
      "text/html": [
       "<table>\n",
       "<thead><tr><th scope=col>entity_id</th><th scope=col>number_of_revisions</th><th scope=col>page_views</th><th scope=col>prediction</th><th scope=col>ordinal_score</th></tr></thead>\n",
       "<tbody>\n",
       "\t<tr><td>Q50039  </td><td> 324    </td><td>  4934  </td><td>A       </td><td>5       </td></tr>\n",
       "\t<tr><td>Q3577919</td><td> 265    </td><td>  6444  </td><td>A       </td><td>5       </td></tr>\n",
       "\t<tr><td>Q3152321</td><td> 687    </td><td> 77136  </td><td>A       </td><td>5       </td></tr>\n",
       "\t<tr><td>Q51861  </td><td> 163    </td><td>113735  </td><td>A       </td><td>5       </td></tr>\n",
       "\t<tr><td>Q104192 </td><td> 490    </td><td>141510  </td><td>A       </td><td>5       </td></tr>\n",
       "\t<tr><td>Q273461 </td><td>1176    </td><td>241736  </td><td>A       </td><td>5       </td></tr>\n",
       "\t<tr><td>Q4605   </td><td> 347    </td><td>683931  </td><td>A       </td><td>5       </td></tr>\n",
       "\t<tr><td>Q156907 </td><td> 250    </td><td>699568  </td><td>A       </td><td>5       </td></tr>\n",
       "\t<tr><td>Q45909  </td><td> 727    </td><td>796460  </td><td>A       </td><td>5       </td></tr>\n",
       "\t<tr><td>Q434    </td><td> 381    </td><td>888587  </td><td>A       </td><td>5       </td></tr>\n",
       "</tbody>\n",
       "</table>\n"
      ],
      "text/latex": [
       "\\begin{tabular}{r|lllll}\n",
       " entity\\_id & number\\_of\\_revisions & page\\_views & prediction & ordinal\\_score\\\\\n",
       "\\hline\n",
       "\t Q50039   &  324     &   4934   & A        & 5       \\\\\n",
       "\t Q3577919 &  265     &   6444   & A        & 5       \\\\\n",
       "\t Q3152321 &  687     &  77136   & A        & 5       \\\\\n",
       "\t Q51861   &  163     & 113735   & A        & 5       \\\\\n",
       "\t Q104192  &  490     & 141510   & A        & 5       \\\\\n",
       "\t Q273461  & 1176     & 241736   & A        & 5       \\\\\n",
       "\t Q4605    &  347     & 683931   & A        & 5       \\\\\n",
       "\t Q156907  &  250     & 699568   & A        & 5       \\\\\n",
       "\t Q45909   &  727     & 796460   & A        & 5       \\\\\n",
       "\t Q434     &  381     & 888587   & A        & 5       \\\\\n",
       "\\end{tabular}\n"
      ],
      "text/markdown": [
       "\n",
       "entity_id | number_of_revisions | page_views | prediction | ordinal_score | \n",
       "|---|---|---|---|---|---|---|---|---|---|\n",
       "| Q50039   |  324     |   4934   | A        | 5        | \n",
       "| Q3577919 |  265     |   6444   | A        | 5        | \n",
       "| Q3152321 |  687     |  77136   | A        | 5        | \n",
       "| Q51861   |  163     | 113735   | A        | 5        | \n",
       "| Q104192  |  490     | 141510   | A        | 5        | \n",
       "| Q273461  | 1176     | 241736   | A        | 5        | \n",
       "| Q4605    |  347     | 683931   | A        | 5        | \n",
       "| Q156907  |  250     | 699568   | A        | 5        | \n",
       "| Q45909   |  727     | 796460   | A        | 5        | \n",
       "| Q434     |  381     | 888587   | A        | 5        | \n",
       "\n",
       "\n"
      ],
      "text/plain": [
       "   entity_id number_of_revisions page_views prediction ordinal_score\n",
       "1  Q50039     324                  4934     A          5            \n",
       "2  Q3577919   265                  6444     A          5            \n",
       "3  Q3152321   687                 77136     A          5            \n",
       "4  Q51861     163                113735     A          5            \n",
       "5  Q104192    490                141510     A          5            \n",
       "6  Q273461   1176                241736     A          5            \n",
       "7  Q4605      347                683931     A          5            \n",
       "8  Q156907    250                699568     A          5            \n",
       "9  Q45909     727                796460     A          5            \n",
       "10 Q434       381                888587     A          5            "
      ]
     },
     "metadata": {},
     "output_type": "display_data"
    }
   ],
   "source": [
    "head(sorted_ascend_class_a_quality_prediction_and_page_views, n=10)"
   ]
  },
  {
   "cell_type": "markdown",
   "metadata": {},
   "source": [
    "## Class E Items with Most Pages Views"
   ]
  },
  {
   "cell_type": "code",
   "execution_count": null,
   "metadata": {
    "collapsed": true
   },
   "outputs": [],
   "source": []
  },
  {
   "cell_type": "code",
   "execution_count": 11,
   "metadata": {
    "collapsed": false
   },
   "outputs": [],
   "source": [
    "class_e_quality_prediction_and_page_views <- filter(quality_prediction_and_page_views, prediction==\"E\")"
   ]
  },
  {
   "cell_type": "code",
   "execution_count": 12,
   "metadata": {
    "collapsed": false
   },
   "outputs": [],
   "source": [
    "sorted_desc_class_e_quality_prediction_and_page_views <- dplyr::arrange(class_e_quality_prediction_and_page_views, desc(page_views))"
   ]
  },
  {
   "cell_type": "code",
   "execution_count": 13,
   "metadata": {
    "collapsed": false
   },
   "outputs": [
    {
     "data": {
      "text/html": [
       "<table>\n",
       "<thead><tr><th scope=col>entity_id</th><th scope=col>number_of_revisions</th><th scope=col>page_views</th><th scope=col>prediction</th><th scope=col>ordinal_score</th></tr></thead>\n",
       "<tbody>\n",
       "\t<tr><td>Q1868372  </td><td>45        </td><td>2056080224</td><td>E         </td><td>1         </td></tr>\n",
       "\t<tr><td>Q1002972  </td><td>30        </td><td>2045659200</td><td>E         </td><td>1         </td></tr>\n",
       "\t<tr><td>Q372827   </td><td>36        </td><td>2045652543</td><td>E         </td><td>1         </td></tr>\n",
       "\t<tr><td>Q4299858  </td><td>22        </td><td>2045645431</td><td>E         </td><td>1         </td></tr>\n",
       "\t<tr><td>Q6883832  </td><td>25        </td><td>2045602031</td><td>E         </td><td>1         </td></tr>\n",
       "\t<tr><td>Q4043051  </td><td>32        </td><td>2045595548</td><td>E         </td><td>1         </td></tr>\n",
       "\t<tr><td>Q4442644  </td><td> 9        </td><td>2045584646</td><td>E         </td><td>1         </td></tr>\n",
       "\t<tr><td>Q4101720  </td><td>22        </td><td>2045577388</td><td>E         </td><td>1         </td></tr>\n",
       "\t<tr><td>Q4299813  </td><td>13        </td><td>2045575479</td><td>E         </td><td>1         </td></tr>\n",
       "\t<tr><td>Q4380129  </td><td>15        </td><td>2045574094</td><td>E         </td><td>1         </td></tr>\n",
       "</tbody>\n",
       "</table>\n"
      ],
      "text/latex": [
       "\\begin{tabular}{r|lllll}\n",
       " entity\\_id & number\\_of\\_revisions & page\\_views & prediction & ordinal\\_score\\\\\n",
       "\\hline\n",
       "\t Q1868372   & 45         & 2056080224 & E          & 1         \\\\\n",
       "\t Q1002972   & 30         & 2045659200 & E          & 1         \\\\\n",
       "\t Q372827    & 36         & 2045652543 & E          & 1         \\\\\n",
       "\t Q4299858   & 22         & 2045645431 & E          & 1         \\\\\n",
       "\t Q6883832   & 25         & 2045602031 & E          & 1         \\\\\n",
       "\t Q4043051   & 32         & 2045595548 & E          & 1         \\\\\n",
       "\t Q4442644   &  9         & 2045584646 & E          & 1         \\\\\n",
       "\t Q4101720   & 22         & 2045577388 & E          & 1         \\\\\n",
       "\t Q4299813   & 13         & 2045575479 & E          & 1         \\\\\n",
       "\t Q4380129   & 15         & 2045574094 & E          & 1         \\\\\n",
       "\\end{tabular}\n"
      ],
      "text/markdown": [
       "\n",
       "entity_id | number_of_revisions | page_views | prediction | ordinal_score | \n",
       "|---|---|---|---|---|---|---|---|---|---|\n",
       "| Q1868372   | 45         | 2056080224 | E          | 1          | \n",
       "| Q1002972   | 30         | 2045659200 | E          | 1          | \n",
       "| Q372827    | 36         | 2045652543 | E          | 1          | \n",
       "| Q4299858   | 22         | 2045645431 | E          | 1          | \n",
       "| Q6883832   | 25         | 2045602031 | E          | 1          | \n",
       "| Q4043051   | 32         | 2045595548 | E          | 1          | \n",
       "| Q4442644   |  9         | 2045584646 | E          | 1          | \n",
       "| Q4101720   | 22         | 2045577388 | E          | 1          | \n",
       "| Q4299813   | 13         | 2045575479 | E          | 1          | \n",
       "| Q4380129   | 15         | 2045574094 | E          | 1          | \n",
       "\n",
       "\n"
      ],
      "text/plain": [
       "   entity_id number_of_revisions page_views prediction ordinal_score\n",
       "1  Q1868372  45                  2056080224 E          1            \n",
       "2  Q1002972  30                  2045659200 E          1            \n",
       "3  Q372827   36                  2045652543 E          1            \n",
       "4  Q4299858  22                  2045645431 E          1            \n",
       "5  Q6883832  25                  2045602031 E          1            \n",
       "6  Q4043051  32                  2045595548 E          1            \n",
       "7  Q4442644   9                  2045584646 E          1            \n",
       "8  Q4101720  22                  2045577388 E          1            \n",
       "9  Q4299813  13                  2045575479 E          1            \n",
       "10 Q4380129  15                  2045574094 E          1            "
      ]
     },
     "metadata": {},
     "output_type": "display_data"
    }
   ],
   "source": [
    "head(sorted_desc_class_e_quality_prediction_and_page_views, n=10)"
   ]
  },
  {
   "cell_type": "code",
   "execution_count": 14,
   "metadata": {
    "collapsed": false
   },
   "outputs": [
    {
     "data": {
      "text/html": [
       "11140301"
      ],
      "text/latex": [
       "11140301"
      ],
      "text/markdown": [
       "11140301"
      ],
      "text/plain": [
       "[1] 11140301"
      ]
     },
     "metadata": {},
     "output_type": "display_data"
    }
   ],
   "source": [
    "nrow(class_e_quality_prediction_and_page_views)"
   ]
  },
  {
   "cell_type": "code",
   "execution_count": 15,
   "metadata": {
    "collapsed": false
   },
   "outputs": [
    {
     "data": {
      "text/html": [
       "3677094"
      ],
      "text/latex": [
       "3677094"
      ],
      "text/markdown": [
       "3677094"
      ],
      "text/plain": [
       "[1] 3677094"
      ]
     },
     "metadata": {},
     "output_type": "display_data"
    }
   ],
   "source": [
    "nrow(filter(quality_prediction_and_page_views, prediction==\"D\"))"
   ]
  },
  {
   "cell_type": "code",
   "execution_count": 16,
   "metadata": {
    "collapsed": false
   },
   "outputs": [
    {
     "data": {
      "text/html": [
       "2293871"
      ],
      "text/latex": [
       "2293871"
      ],
      "text/markdown": [
       "2293871"
      ],
      "text/plain": [
       "[1] 2293871"
      ]
     },
     "metadata": {},
     "output_type": "display_data"
    }
   ],
   "source": [
    "nrow(filter(quality_prediction_and_page_views, prediction==\"C\"))"
   ]
  },
  {
   "cell_type": "code",
   "execution_count": 17,
   "metadata": {
    "collapsed": false
   },
   "outputs": [
    {
     "data": {
      "text/html": [
       "66715"
      ],
      "text/latex": [
       "66715"
      ],
      "text/markdown": [
       "66715"
      ],
      "text/plain": [
       "[1] 66715"
      ]
     },
     "metadata": {},
     "output_type": "display_data"
    }
   ],
   "source": [
    "nrow(filter(quality_prediction_and_page_views, prediction==\"B\"))"
   ]
  },
  {
   "cell_type": "code",
   "execution_count": 18,
   "metadata": {
    "collapsed": false
   },
   "outputs": [
    {
     "data": {
      "text/html": [
       "183"
      ],
      "text/latex": [
       "183"
      ],
      "text/markdown": [
       "183"
      ],
      "text/plain": [
       "[1] 183"
      ]
     },
     "metadata": {},
     "output_type": "display_data"
    }
   ],
   "source": [
    "nrow(filter(quality_prediction_and_page_views, prediction==\"A\"))"
   ]
  },
  {
   "cell_type": "code",
   "execution_count": null,
   "metadata": {
    "collapsed": true
   },
   "outputs": [],
   "source": []
  }
 ],
 "metadata": {
  "anaconda-cloud": {},
  "kernelspec": {
   "display_name": "R [r]",
   "language": "R",
   "name": "R [r]"
  },
  "language_info": {
   "codemirror_mode": "r",
   "file_extension": ".r",
   "mimetype": "text/x-r-source",
   "name": "R",
   "pygments_lexer": "r",
   "version": "3.3.2"
  }
 },
 "nbformat": 4,
 "nbformat_minor": 0
}
