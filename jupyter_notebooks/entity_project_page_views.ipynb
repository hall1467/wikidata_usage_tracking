{
 "cells": [
  {
   "cell_type": "markdown",
   "metadata": {},
   "source": [
    "# Statistics for Entity Project Page Views"
   ]
  },
  {
   "cell_type": "code",
   "execution_count": 1,
   "metadata": {
    "collapsed": false
   },
   "outputs": [
    {
     "name": "stderr",
     "output_type": "stream",
     "text": [
      "\n",
      "Attaching package: ‘dplyr’\n",
      "\n",
      "The following objects are masked from ‘package:stats’:\n",
      "\n",
      "    filter, lag\n",
      "\n",
      "The following objects are masked from ‘package:base’:\n",
      "\n",
      "    intersect, setdiff, setequal, union\n",
      "\n"
     ]
    }
   ],
   "source": [
    "library(dplyr)"
   ]
  },
  {
   "cell_type": "code",
   "execution_count": 2,
   "metadata": {
    "collapsed": true
   },
   "outputs": [],
   "source": [
    "entity_project_page <- read.table(\"../results/entity_project_page_views.tsv\", header=FALSE, sep=\"\\t\")"
   ]
  },
  {
   "cell_type": "code",
   "execution_count": 3,
   "metadata": {
    "collapsed": true
   },
   "outputs": [],
   "source": [
    "entity_views <- read.table(\"../results/entity_views.tsv\", header=FALSE, sep=\"\\t\")"
   ]
  },
  {
   "cell_type": "code",
   "execution_count": 4,
   "metadata": {
    "collapsed": true
   },
   "outputs": [],
   "source": [
    "entity_project_page_views <- entity_project_page"
   ]
  },
  {
   "cell_type": "markdown",
   "metadata": {},
   "source": [
    "## Correlation between Usages and Views"
   ]
  },
  {
   "cell_type": "code",
   "execution_count": 5,
   "metadata": {
    "collapsed": false
   },
   "outputs": [],
   "source": [
    "colnames(entity_project_page_views) <- c('entity_id','project','page_id','page_views')"
   ]
  },
  {
   "cell_type": "code",
   "execution_count": 6,
   "metadata": {
    "collapsed": false
   },
   "outputs": [
    {
     "data": {
      "text/plain": [
       "     entity_id                project            page_id        \n",
       " Q54919   :  2451812   commonswiki:33551149   Min.   :       0  \n",
       " Q423048  :  1968766   ruwiki     :24499918   1st Qu.:  662198  \n",
       " Q2597810 :  1937505   zhwiki     : 8302855   Median : 2578039  \n",
       " Q131454  :  1924192   enwiki     : 7988037   Mean   : 8250467  \n",
       " Q13219454:  1924125   svwiki     : 5961984   3rd Qu.: 6896287  \n",
       " Q36578   :  1917354   frwiki     : 5685580   Max.   :58444341  \n",
       " (Other)  :148679703   (Other)    :74813934                     \n",
       "   page_views       \n",
       " Min.   :0.000e+00  \n",
       " 1st Qu.:5.000e+00  \n",
       " Median :5.700e+01  \n",
       " Mean   :4.160e+03  \n",
       " 3rd Qu.:5.160e+02  \n",
       " Max.   :8.888e+09  \n",
       "                    "
      ]
     },
     "metadata": {},
     "output_type": "display_data"
    }
   ],
   "source": [
    "summary(entity_project_page_views)"
   ]
  },
  {
   "cell_type": "code",
   "execution_count": 7,
   "metadata": {
    "collapsed": false
   },
   "outputs": [],
   "source": [
    "page_frequency_by_entity <- count(entity_project_page_views,entity_id)"
   ]
  },
  {
   "cell_type": "code",
   "execution_count": 8,
   "metadata": {
    "collapsed": true
   },
   "outputs": [],
   "source": [
    "colnames(page_frequency_by_entity) <- c('entity_id','page_usages')"
   ]
  },
  {
   "cell_type": "code",
   "execution_count": 9,
   "metadata": {
    "collapsed": false,
    "scrolled": true
   },
   "outputs": [
    {
     "data": {
      "text/plain": [
       "   entity_id         page_usages       \n",
       " P1     :       1   Min.   :      1.0  \n",
       " P10    :       1   1st Qu.:      1.0  \n",
       " P100   :       1   Median :      1.0  \n",
       " P1000  :       1   Mean   :      7.2  \n",
       " P10000 :       1   3rd Qu.:      3.0  \n",
       " P1001  :       1   Max.   :2451812.0  \n",
       " (Other):22250015                      "
      ]
     },
     "metadata": {},
     "output_type": "display_data"
    }
   ],
   "source": [
    "summary(page_frequency_by_entity)"
   ]
  },
  {
   "cell_type": "code",
   "execution_count": 10,
   "metadata": {
    "collapsed": true
   },
   "outputs": [],
   "source": [
    "colnames(entity_views) <- c('entity_id','page_views')"
   ]
  },
  {
   "cell_type": "code",
   "execution_count": 11,
   "metadata": {
    "collapsed": false
   },
   "outputs": [],
   "source": [
    "entity_views_usage_frequency <- merge(entity_views, page_frequency_by_entity, by = \"entity_id\")"
   ]
  },
  {
   "cell_type": "code",
   "execution_count": 12,
   "metadata": {
    "collapsed": false
   },
   "outputs": [
    {
     "data": {
      "text/plain": [
       "   entity_id          page_views         page_usages       \n",
       " P1     :       1   Min.   :0.000e+00   Min.   :      1.0  \n",
       " P10    :       1   1st Qu.:1.300e+01   1st Qu.:      1.0  \n",
       " P100   :       1   Median :1.360e+02   Median :      1.0  \n",
       " P1000  :       1   Mean   :3.006e+04   Mean   :      7.2  \n",
       " P10000 :       1   3rd Qu.:9.970e+02   3rd Qu.:      3.0  \n",
       " P1001  :       1   Max.   :1.253e+10   Max.   :2451812.0  \n",
       " (Other):22250015                                          "
      ]
     },
     "metadata": {},
     "output_type": "display_data"
    }
   ],
   "source": [
    "summary(entity_views_usage_frequency)"
   ]
  },
  {
   "cell_type": "code",
   "execution_count": 13,
   "metadata": {
    "collapsed": true
   },
   "outputs": [],
   "source": [
    "colnames(entity_views_usage_frequency) <- c('entity_id','page_views','page_usages')"
   ]
  },
  {
   "cell_type": "code",
   "execution_count": 14,
   "metadata": {
    "collapsed": false
   },
   "outputs": [
    {
     "data": {
      "text/html": [
       "<table>\n",
       "<thead><tr><th scope=col>entity_id</th><th scope=col>page_views</th><th scope=col>page_usages</th></tr></thead>\n",
       "<tbody>\n",
       "\t<tr><td>P1     </td><td>   1345</td><td>  11   </td></tr>\n",
       "\t<tr><td>P10    </td><td>  26612</td><td> 424   </td></tr>\n",
       "\t<tr><td>P100   </td><td>   1727</td><td>   9   </td></tr>\n",
       "\t<tr><td>P1000  </td><td>  45259</td><td> 287   </td></tr>\n",
       "\t<tr><td>P10000 </td><td>    331</td><td>   2   </td></tr>\n",
       "\t<tr><td>P1001  </td><td>6911712</td><td>1006   </td></tr>\n",
       "</tbody>\n",
       "</table>\n"
      ],
      "text/latex": [
       "\\begin{tabular}{r|lll}\n",
       " entity\\_id & page\\_views & page\\_usages\\\\\n",
       "\\hline\n",
       "\t P1      &    1345 &   11   \\\\\n",
       "\t P10     &   26612 &  424   \\\\\n",
       "\t P100    &    1727 &    9   \\\\\n",
       "\t P1000   &   45259 &  287   \\\\\n",
       "\t P10000  &     331 &    2   \\\\\n",
       "\t P1001   & 6911712 & 1006   \\\\\n",
       "\\end{tabular}\n"
      ],
      "text/markdown": [
       "\n",
       "entity_id | page_views | page_usages | \n",
       "|---|---|---|---|---|---|\n",
       "| P1      |    1345 |   11    | \n",
       "| P10     |   26612 |  424    | \n",
       "| P100    |    1727 |    9    | \n",
       "| P1000   |   45259 |  287    | \n",
       "| P10000  |     331 |    2    | \n",
       "| P1001   | 6911712 | 1006    | \n",
       "\n",
       "\n"
      ],
      "text/plain": [
       "  entity_id page_views page_usages\n",
       "1 P1           1345      11       \n",
       "2 P10         26612     424       \n",
       "3 P100         1727       9       \n",
       "4 P1000       45259     287       \n",
       "5 P10000        331       2       \n",
       "6 P1001     6911712    1006       "
      ]
     },
     "metadata": {},
     "output_type": "display_data"
    }
   ],
   "source": [
    "head(entity_views_usage_frequency)"
   ]
  },
  {
   "cell_type": "code",
   "execution_count": 15,
   "metadata": {
    "collapsed": false
   },
   "outputs": [
    {
     "data": {
      "text/html": [
       "0.21667257177004"
      ],
      "text/latex": [
       "0.21667257177004"
      ],
      "text/markdown": [
       "0.21667257177004"
      ],
      "text/plain": [
       "[1] 0.2166726"
      ]
     },
     "metadata": {},
     "output_type": "display_data"
    }
   ],
   "source": [
    "cor(entity_views_usage_frequency$page_views,entity_views_usage_frequency$page_usages, method=\"spearman\")"
   ]
  },
  {
   "cell_type": "code",
   "execution_count": 16,
   "metadata": {
    "collapsed": false
   },
   "outputs": [],
   "source": [
    "page_view_and_usage_model <- lm(entity_views_usage_frequency$page_views ~ entity_views_usage_frequency$page_usages)"
   ]
  },
  {
   "cell_type": "code",
   "execution_count": 17,
   "metadata": {
    "collapsed": false
   },
   "outputs": [
    {
     "data": {
      "text/plain": [
       "\n",
       "Call:\n",
       "lm(formula = entity_views_usage_frequency$page_views ~ entity_views_usage_frequency$page_usages)\n",
       "\n",
       "Residuals:\n",
       "       Min         1Q     Median         3Q        Max \n",
       "-3.983e+09 -1.900e+04 -1.688e+04 -1.656e+04  1.253e+10 \n",
       "\n",
       "Coefficients:\n",
       "                                          Estimate Std. Error t value Pr(>|t|)\n",
       "(Intercept)                              14768.502   1189.421   12.42   <2e-16\n",
       "entity_views_usage_frequency$page_usages  2116.537      0.803 2635.88   <2e-16\n",
       "                                            \n",
       "(Intercept)                              ***\n",
       "entity_views_usage_frequency$page_usages ***\n",
       "---\n",
       "Signif. codes:  0 ‘***’ 0.001 ‘**’ 0.01 ‘*’ 0.05 ‘.’ 0.1 ‘ ’ 1\n",
       "\n",
       "Residual standard error: 5610000 on 22250019 degrees of freedom\n",
       "Multiple R-squared:  0.238,\tAdjusted R-squared:  0.238 \n",
       "F-statistic: 6.948e+06 on 1 and 22250019 DF,  p-value: < 2.2e-16\n"
      ]
     },
     "metadata": {},
     "output_type": "display_data"
    }
   ],
   "source": [
    "summary(page_view_and_usage_model)"
   ]
  },
  {
   "cell_type": "code",
   "execution_count": null,
   "metadata": {
    "collapsed": true
   },
   "outputs": [],
   "source": [
    "entity_view_means <- aggregate(entity_project_page_views$page_views, by=list(entity_project_page_views$entity_id), FUN=mean)"
   ]
  },
  {
   "cell_type": "code",
   "execution_count": null,
   "metadata": {
    "collapsed": false,
    "scrolled": true
   },
   "outputs": [],
   "source": [
    "summary(entity_view_means)"
   ]
  },
  {
   "cell_type": "code",
   "execution_count": null,
   "metadata": {
    "collapsed": false
   },
   "outputs": [],
   "source": [
    "colnames(entity_view_means) <- c('entity_id','page_view_mean')"
   ]
  },
  {
   "cell_type": "code",
   "execution_count": null,
   "metadata": {
    "collapsed": true
   },
   "outputs": [],
   "source": [
    "entity_view_means_and_usages <- merge(page_frequency_by_entity, entity_view_means, by = \"entity_id\")"
   ]
  },
  {
   "cell_type": "code",
   "execution_count": null,
   "metadata": {
    "collapsed": true
   },
   "outputs": [],
   "source": [
    "rm(page_frequency_by_entity)"
   ]
  },
  {
   "cell_type": "code",
   "execution_count": null,
   "metadata": {
    "collapsed": true
   },
   "outputs": [],
   "source": [
    "rm(entity_view_means)"
   ]
  },
  {
   "cell_type": "code",
   "execution_count": null,
   "metadata": {
    "collapsed": false
   },
   "outputs": [],
   "source": [
    "head(entity_view_means_and_usages)"
   ]
  },
  {
   "cell_type": "code",
   "execution_count": null,
   "metadata": {
    "collapsed": false
   },
   "outputs": [],
   "source": [
    "cor(entity_view_means_and_usages$page_usages,entity_view_means_and_usages$page_view_mean, method=\"spearman\")"
   ]
  },
  {
   "cell_type": "code",
   "execution_count": null,
   "metadata": {
    "collapsed": true
   },
   "outputs": [],
   "source": [
    "entity_view_means_and_usages_model <- lm(entity_view_means_and_usages$page_usages ~ entity_view_means_and_usages$page_view_mean)"
   ]
  },
  {
   "cell_type": "code",
   "execution_count": null,
   "metadata": {
    "collapsed": false
   },
   "outputs": [],
   "source": [
    "summary(entity_view_means_and_usages_model)"
   ]
  },
  {
   "cell_type": "markdown",
   "metadata": {
    "collapsed": true
   },
   "source": [
    "### Sorted by highest view means"
   ]
  },
  {
   "cell_type": "code",
   "execution_count": null,
   "metadata": {
    "collapsed": true
   },
   "outputs": [],
   "source": [
    "sorted_by_highest_view_means <- dplyr::arrange(entity_view_means_and_usages, desc(page_view_mean))"
   ]
  },
  {
   "cell_type": "code",
   "execution_count": null,
   "metadata": {
    "collapsed": false
   },
   "outputs": [],
   "source": [
    "head(sorted_by_highest_view_means, n=10)"
   ]
  },
  {
   "cell_type": "markdown",
   "metadata": {},
   "source": [
    "### Sorted by lowest view means"
   ]
  },
  {
   "cell_type": "code",
   "execution_count": null,
   "metadata": {
    "collapsed": true
   },
   "outputs": [],
   "source": [
    "view_means_of_zero <-filter(entity_view_means_and_usages, page_view_mean == 0)"
   ]
  },
  {
   "cell_type": "code",
   "execution_count": null,
   "metadata": {
    "collapsed": true
   },
   "outputs": [],
   "source": [
    "view_means_of_zero_sorted_by_page_usages <- dplyr::arrange(view_means_of_zero, desc(page_usages))"
   ]
  },
  {
   "cell_type": "code",
   "execution_count": null,
   "metadata": {
    "collapsed": false
   },
   "outputs": [],
   "source": [
    "head(view_means_of_zero_sorted_by_page_usages, n=10)"
   ]
  },
  {
   "cell_type": "markdown",
   "metadata": {},
   "source": [
    "## Entities used once versus more than once "
   ]
  },
  {
   "cell_type": "code",
   "execution_count": null,
   "metadata": {
    "collapsed": true
   },
   "outputs": [],
   "source": [
    "used_once <- filter(entity_view_means_and_usages, page_usages == 1 ) "
   ]
  },
  {
   "cell_type": "code",
   "execution_count": null,
   "metadata": {
    "collapsed": true
   },
   "outputs": [],
   "source": [
    "used_more_than_once <- filter(entity_view_means_and_usages, page_usages > 0 ) "
   ]
  },
  {
   "cell_type": "code",
   "execution_count": null,
   "metadata": {
    "collapsed": false,
    "scrolled": true
   },
   "outputs": [],
   "source": [
    "mean(used_once$page_view_mean)"
   ]
  },
  {
   "cell_type": "code",
   "execution_count": null,
   "metadata": {
    "collapsed": false
   },
   "outputs": [],
   "source": [
    "mean(used_more_than_once$page_view_mean)"
   ]
  },
  {
   "cell_type": "code",
   "execution_count": null,
   "metadata": {
    "collapsed": true
   },
   "outputs": [],
   "source": []
  }
 ],
 "metadata": {
  "anaconda-cloud": {},
  "kernelspec": {
   "display_name": "R [r]",
   "language": "R",
   "name": "R [r]"
  },
  "language_info": {
   "codemirror_mode": "r",
   "file_extension": ".r",
   "mimetype": "text/x-r-source",
   "name": "R",
   "pygments_lexer": "r",
   "version": "3.3.2"
  }
 },
 "nbformat": 4,
 "nbformat_minor": 0
}
