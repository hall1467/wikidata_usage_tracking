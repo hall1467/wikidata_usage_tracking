{
 "cells": [
  {
   "cell_type": "markdown",
   "metadata": {},
   "source": [
    "# Statistics for Entity Project Page Views"
   ]
  },
  {
   "cell_type": "code",
   "execution_count": 1,
   "metadata": {
    "collapsed": false
   },
   "outputs": [
    {
     "name": "stderr",
     "output_type": "stream",
     "text": [
      "\n",
      "Attaching package: ‘dplyr’\n",
      "\n",
      "The following objects are masked from ‘package:stats’:\n",
      "\n",
      "    filter, lag\n",
      "\n",
      "The following objects are masked from ‘package:base’:\n",
      "\n",
      "    intersect, setdiff, setequal, union\n",
      "\n"
     ]
    }
   ],
   "source": [
    "library(dplyr)"
   ]
  },
  {
   "cell_type": "code",
   "execution_count": 2,
   "metadata": {
    "collapsed": true
   },
   "outputs": [],
   "source": [
    "entity_project_page <- read.table(\"../results/entity_project_page_views.tsv\", header=FALSE, sep=\"\\t\")"
   ]
  },
  {
   "cell_type": "code",
   "execution_count": 3,
   "metadata": {
    "collapsed": true
   },
   "outputs": [],
   "source": [
    "entity_views <- read.table(\"../results/entity_views.tsv\", header=FALSE, sep=\"\\t\")"
   ]
  },
  {
   "cell_type": "code",
   "execution_count": 4,
   "metadata": {
    "collapsed": true
   },
   "outputs": [],
   "source": [
    "entity_project_page_views <- entity_project_page"
   ]
  },
  {
   "cell_type": "markdown",
   "metadata": {},
   "source": [
    "## Correlation between Usages and Views"
   ]
  },
  {
   "cell_type": "code",
   "execution_count": 5,
   "metadata": {
    "collapsed": false
   },
   "outputs": [],
   "source": [
    "colnames(entity_project_page_views) <- c('entity_id','project','page_id','page_views')"
   ]
  },
  {
   "cell_type": "code",
   "execution_count": 6,
   "metadata": {
    "collapsed": false
   },
   "outputs": [
    {
     "data": {
      "text/plain": [
       "     entity_id                project            page_id        \n",
       " Q54919   :  2451812   commonswiki:33551149   Min.   :       0  \n",
       " Q423048  :  1968766   ruwiki     :24499918   1st Qu.:  662198  \n",
       " Q2597810 :  1937505   zhwiki     : 8302855   Median : 2578039  \n",
       " Q131454  :  1924192   enwiki     : 7988037   Mean   : 8250467  \n",
       " Q13219454:  1924125   svwiki     : 5961984   3rd Qu.: 6896287  \n",
       " Q36578   :  1917354   frwiki     : 5685580   Max.   :58444341  \n",
       " (Other)  :148679703   (Other)    :74813934                     \n",
       "   page_views       \n",
       " Min.   :0.000e+00  \n",
       " 1st Qu.:5.000e+00  \n",
       " Median :5.700e+01  \n",
       " Mean   :4.160e+03  \n",
       " 3rd Qu.:5.160e+02  \n",
       " Max.   :8.888e+09  \n",
       "                    "
      ]
     },
     "metadata": {},
     "output_type": "display_data"
    }
   ],
   "source": [
    "summary(entity_project_page_views)"
   ]
  },
  {
   "cell_type": "code",
   "execution_count": 7,
   "metadata": {
    "collapsed": false
   },
   "outputs": [],
   "source": [
    "page_frequency_by_entity <- count(entity_project_page_views,entity_id)"
   ]
  },
  {
   "cell_type": "code",
   "execution_count": 8,
   "metadata": {
    "collapsed": true
   },
   "outputs": [],
   "source": [
    "colnames(page_frequency_by_entity) <- c('entity_id','page_usages')"
   ]
  },
  {
   "cell_type": "code",
   "execution_count": 9,
   "metadata": {
    "collapsed": false,
    "scrolled": true
   },
   "outputs": [
    {
     "data": {
      "text/plain": [
       "   entity_id         page_usages       \n",
       " P1     :       1   Min.   :      1.0  \n",
       " P10    :       1   1st Qu.:      1.0  \n",
       " P100   :       1   Median :      1.0  \n",
       " P1000  :       1   Mean   :      7.2  \n",
       " P10000 :       1   3rd Qu.:      3.0  \n",
       " P1001  :       1   Max.   :2451812.0  \n",
       " (Other):22250015                      "
      ]
     },
     "metadata": {},
     "output_type": "display_data"
    }
   ],
   "source": [
    "summary(page_frequency_by_entity)"
   ]
  },
  {
   "cell_type": "code",
   "execution_count": 10,
   "metadata": {
    "collapsed": true
   },
   "outputs": [],
   "source": [
    "colnames(entity_views) <- c('entity_id','page_views')"
   ]
  },
  {
   "cell_type": "code",
   "execution_count": 11,
   "metadata": {
    "collapsed": false
   },
   "outputs": [],
   "source": [
    "entity_views_usage_frequency <- merge(entity_views, page_frequency_by_entity, by = \"entity_id\")"
   ]
  },
  {
   "cell_type": "code",
   "execution_count": 12,
   "metadata": {
    "collapsed": false
   },
   "outputs": [
    {
     "data": {
      "text/plain": [
       "   entity_id          page_views         page_usages       \n",
       " P1     :       1   Min.   :0.000e+00   Min.   :      1.0  \n",
       " P10    :       1   1st Qu.:1.300e+01   1st Qu.:      1.0  \n",
       " P100   :       1   Median :1.360e+02   Median :      1.0  \n",
       " P1000  :       1   Mean   :3.006e+04   Mean   :      7.2  \n",
       " P10000 :       1   3rd Qu.:9.970e+02   3rd Qu.:      3.0  \n",
       " P1001  :       1   Max.   :1.253e+10   Max.   :2451812.0  \n",
       " (Other):22250015                                          "
      ]
     },
     "metadata": {},
     "output_type": "display_data"
    }
   ],
   "source": [
    "summary(entity_views_usage_frequency)"
   ]
  },
  {
   "cell_type": "code",
   "execution_count": 13,
   "metadata": {
    "collapsed": true
   },
   "outputs": [],
   "source": [
    "colnames(entity_views_usage_frequency) <- c('entity_id','page_views','page_usages')"
   ]
  },
  {
   "cell_type": "code",
   "execution_count": 14,
   "metadata": {
    "collapsed": false
   },
   "outputs": [
    {
     "data": {
      "text/html": [
       "<table>\n",
       "<thead><tr><th scope=col>entity_id</th><th scope=col>page_views</th><th scope=col>page_usages</th></tr></thead>\n",
       "<tbody>\n",
       "\t<tr><td>P1     </td><td>   1345</td><td>  11   </td></tr>\n",
       "\t<tr><td>P10    </td><td>  26612</td><td> 424   </td></tr>\n",
       "\t<tr><td>P100   </td><td>   1727</td><td>   9   </td></tr>\n",
       "\t<tr><td>P1000  </td><td>  45259</td><td> 287   </td></tr>\n",
       "\t<tr><td>P10000 </td><td>    331</td><td>   2   </td></tr>\n",
       "\t<tr><td>P1001  </td><td>6911712</td><td>1006   </td></tr>\n",
       "</tbody>\n",
       "</table>\n"
      ],
      "text/latex": [
       "\\begin{tabular}{r|lll}\n",
       " entity\\_id & page\\_views & page\\_usages\\\\\n",
       "\\hline\n",
       "\t P1      &    1345 &   11   \\\\\n",
       "\t P10     &   26612 &  424   \\\\\n",
       "\t P100    &    1727 &    9   \\\\\n",
       "\t P1000   &   45259 &  287   \\\\\n",
       "\t P10000  &     331 &    2   \\\\\n",
       "\t P1001   & 6911712 & 1006   \\\\\n",
       "\\end{tabular}\n"
      ],
      "text/markdown": [
       "\n",
       "entity_id | page_views | page_usages | \n",
       "|---|---|---|---|---|---|\n",
       "| P1      |    1345 |   11    | \n",
       "| P10     |   26612 |  424    | \n",
       "| P100    |    1727 |    9    | \n",
       "| P1000   |   45259 |  287    | \n",
       "| P10000  |     331 |    2    | \n",
       "| P1001   | 6911712 | 1006    | \n",
       "\n",
       "\n"
      ],
      "text/plain": [
       "  entity_id page_views page_usages\n",
       "1 P1           1345      11       \n",
       "2 P10         26612     424       \n",
       "3 P100         1727       9       \n",
       "4 P1000       45259     287       \n",
       "5 P10000        331       2       \n",
       "6 P1001     6911712    1006       "
      ]
     },
     "metadata": {},
     "output_type": "display_data"
    }
   ],
   "source": [
    "head(entity_views_usage_frequency)"
   ]
  },
  {
   "cell_type": "code",
   "execution_count": 15,
   "metadata": {
    "collapsed": false
   },
   "outputs": [
    {
     "data": {
      "text/html": [
       "0.21667257177004"
      ],
      "text/latex": [
       "0.21667257177004"
      ],
      "text/markdown": [
       "0.21667257177004"
      ],
      "text/plain": [
       "[1] 0.2166726"
      ]
     },
     "metadata": {},
     "output_type": "display_data"
    }
   ],
   "source": [
    "cor(entity_views_usage_frequency$page_views,entity_views_usage_frequency$page_usages, method=\"spearman\")"
   ]
  },
  {
   "cell_type": "code",
   "execution_count": 16,
   "metadata": {
    "collapsed": false
   },
   "outputs": [],
   "source": [
    "page_view_and_usage_model <- lm(entity_views_usage_frequency$page_views ~ entity_views_usage_frequency$page_usages)"
   ]
  },
  {
   "cell_type": "code",
   "execution_count": 17,
   "metadata": {
    "collapsed": false
   },
   "outputs": [
    {
     "data": {
      "text/plain": [
       "\n",
       "Call:\n",
       "lm(formula = entity_views_usage_frequency$page_views ~ entity_views_usage_frequency$page_usages)\n",
       "\n",
       "Residuals:\n",
       "       Min         1Q     Median         3Q        Max \n",
       "-3.983e+09 -1.900e+04 -1.688e+04 -1.656e+04  1.253e+10 \n",
       "\n",
       "Coefficients:\n",
       "                                          Estimate Std. Error t value Pr(>|t|)\n",
       "(Intercept)                              14768.502   1189.421   12.42   <2e-16\n",
       "entity_views_usage_frequency$page_usages  2116.537      0.803 2635.88   <2e-16\n",
       "                                            \n",
       "(Intercept)                              ***\n",
       "entity_views_usage_frequency$page_usages ***\n",
       "---\n",
       "Signif. codes:  0 ‘***’ 0.001 ‘**’ 0.01 ‘*’ 0.05 ‘.’ 0.1 ‘ ’ 1\n",
       "\n",
       "Residual standard error: 5610000 on 22250019 degrees of freedom\n",
       "Multiple R-squared:  0.238,\tAdjusted R-squared:  0.238 \n",
       "F-statistic: 6.948e+06 on 1 and 22250019 DF,  p-value: < 2.2e-16\n"
      ]
     },
     "metadata": {},
     "output_type": "display_data"
    }
   ],
   "source": [
    "summary(page_view_and_usage_model)"
   ]
  },
  {
   "cell_type": "code",
   "execution_count": 18,
   "metadata": {
    "collapsed": true
   },
   "outputs": [],
   "source": [
    "entity_view_means <- aggregate(entity_project_page_views$page_views, by=list(entity_project_page_views$entity_id), FUN=mean)"
   ]
  },
  {
   "cell_type": "code",
   "execution_count": 19,
   "metadata": {
    "collapsed": false,
    "scrolled": true
   },
   "outputs": [
    {
     "data": {
      "text/plain": [
       "    Group.1               x           \n",
       " P1     :       1   Min.   :       0  \n",
       " P10    :       1   1st Qu.:       9  \n",
       " P100   :       1   Median :      83  \n",
       " P1000  :       1   Mean   :    1527  \n",
       " P10000 :       1   3rd Qu.:     560  \n",
       " P1001  :       1   Max.   :20441060  \n",
       " (Other):22250015                     "
      ]
     },
     "metadata": {},
     "output_type": "display_data"
    }
   ],
   "source": [
    "summary(entity_view_means)"
   ]
  },
  {
   "cell_type": "code",
   "execution_count": 20,
   "metadata": {
    "collapsed": false
   },
   "outputs": [],
   "source": [
    "colnames(entity_view_means) <- c('entity_id','page_view_mean')"
   ]
  },
  {
   "cell_type": "code",
   "execution_count": 21,
   "metadata": {
    "collapsed": true
   },
   "outputs": [],
   "source": [
    "entity_view_means_and_usages <- merge(page_frequency_by_entity, entity_view_means, by = \"entity_id\")"
   ]
  },
  {
   "cell_type": "code",
   "execution_count": 22,
   "metadata": {
    "collapsed": true
   },
   "outputs": [],
   "source": [
    "rm(page_frequency_by_entity)"
   ]
  },
  {
   "cell_type": "code",
   "execution_count": 23,
   "metadata": {
    "collapsed": true
   },
   "outputs": [],
   "source": [
    "rm(entity_view_means)"
   ]
  },
  {
   "cell_type": "code",
   "execution_count": 24,
   "metadata": {
    "collapsed": false
   },
   "outputs": [
    {
     "data": {
      "text/html": [
       "<table>\n",
       "<thead><tr><th scope=col>entity_id</th><th scope=col>page_usages</th><th scope=col>page_view_mean</th></tr></thead>\n",
       "<tbody>\n",
       "\t<tr><td>P1        </td><td>  11      </td><td> 122.27273</td></tr>\n",
       "\t<tr><td>P10       </td><td> 424      </td><td>  62.76415</td></tr>\n",
       "\t<tr><td>P100      </td><td>   9      </td><td> 191.88889</td></tr>\n",
       "\t<tr><td>P1000     </td><td> 287      </td><td> 157.69686</td></tr>\n",
       "\t<tr><td>P10000    </td><td>   2      </td><td> 165.50000</td></tr>\n",
       "\t<tr><td>P1001     </td><td>1006      </td><td>6870.48907</td></tr>\n",
       "</tbody>\n",
       "</table>\n"
      ],
      "text/latex": [
       "\\begin{tabular}{r|lll}\n",
       " entity\\_id & page\\_usages & page\\_view\\_mean\\\\\n",
       "\\hline\n",
       "\t P1         &   11       &  122.27273\\\\\n",
       "\t P10        &  424       &   62.76415\\\\\n",
       "\t P100       &    9       &  191.88889\\\\\n",
       "\t P1000      &  287       &  157.69686\\\\\n",
       "\t P10000     &    2       &  165.50000\\\\\n",
       "\t P1001      & 1006       & 6870.48907\\\\\n",
       "\\end{tabular}\n"
      ],
      "text/markdown": [
       "\n",
       "entity_id | page_usages | page_view_mean | \n",
       "|---|---|---|---|---|---|\n",
       "| P1         |   11       |  122.27273 | \n",
       "| P10        |  424       |   62.76415 | \n",
       "| P100       |    9       |  191.88889 | \n",
       "| P1000      |  287       |  157.69686 | \n",
       "| P10000     |    2       |  165.50000 | \n",
       "| P1001      | 1006       | 6870.48907 | \n",
       "\n",
       "\n"
      ],
      "text/plain": [
       "  entity_id page_usages page_view_mean\n",
       "1 P1          11         122.27273    \n",
       "2 P10        424          62.76415    \n",
       "3 P100         9         191.88889    \n",
       "4 P1000      287         157.69686    \n",
       "5 P10000       2         165.50000    \n",
       "6 P1001     1006        6870.48907    "
      ]
     },
     "metadata": {},
     "output_type": "display_data"
    }
   ],
   "source": [
    "head(entity_view_means_and_usages)"
   ]
  },
  {
   "cell_type": "code",
   "execution_count": 25,
   "metadata": {
    "collapsed": false
   },
   "outputs": [
    {
     "data": {
      "text/html": [
       "-0.00367723166229254"
      ],
      "text/latex": [
       "-0.00367723166229254"
      ],
      "text/markdown": [
       "-0.00367723166229254"
      ],
      "text/plain": [
       "[1] -0.003677232"
      ]
     },
     "metadata": {},
     "output_type": "display_data"
    }
   ],
   "source": [
    "cor(entity_view_means_and_usages$page_usages,entity_view_means_and_usages$page_view_mean, method=\"spearman\")"
   ]
  },
  {
   "cell_type": "code",
   "execution_count": 26,
   "metadata": {
    "collapsed": true
   },
   "outputs": [],
   "source": [
    "entity_view_means_and_usages_model <- lm(entity_view_means_and_usages$page_usages ~ entity_view_means_and_usages$page_view_mean)"
   ]
  },
  {
   "cell_type": "code",
   "execution_count": 27,
   "metadata": {
    "collapsed": false
   },
   "outputs": [
    {
     "data": {
      "text/plain": [
       "\n",
       "Call:\n",
       "lm(formula = entity_view_means_and_usages$page_usages ~ entity_view_means_and_usages$page_view_mean)\n",
       "\n",
       "Residuals:\n",
       "    Min      1Q  Median      3Q     Max \n",
       "  -2585      -6      -6      -4 2451805 \n",
       "\n",
       "Coefficients:\n",
       "                                             Estimate Std. Error t value\n",
       "(Intercept)                                 6.989e+00  3.170e-01  22.045\n",
       "entity_view_means_and_usages$page_view_mean 1.561e-04  2.844e-05   5.488\n",
       "                                            Pr(>|t|)    \n",
       "(Intercept)                                  < 2e-16 ***\n",
       "entity_view_means_and_usages$page_view_mean 4.06e-08 ***\n",
       "---\n",
       "Signif. codes:  0 ‘***’ 0.001 ‘**’ 0.01 ‘*’ 0.05 ‘.’ 0.1 ‘ ’ 1\n",
       "\n",
       "Residual standard error: 1481 on 22250019 degrees of freedom\n",
       "Multiple R-squared:  1.354e-06,\tAdjusted R-squared:  1.309e-06 \n",
       "F-statistic: 30.12 on 1 and 22250019 DF,  p-value: 4.06e-08\n"
      ]
     },
     "metadata": {},
     "output_type": "display_data"
    }
   ],
   "source": [
    "summary(entity_view_means_and_usages_model)"
   ]
  },
  {
   "cell_type": "markdown",
   "metadata": {
    "collapsed": true
   },
   "source": [
    "### Sorted by highest view means"
   ]
  },
  {
   "cell_type": "code",
   "execution_count": 28,
   "metadata": {
    "collapsed": true
   },
   "outputs": [],
   "source": [
    "sorted_by_highest_view_means <- dplyr::arrange(entity_view_means_and_usages, desc(page_view_mean))"
   ]
  },
  {
   "cell_type": "code",
   "execution_count": 29,
   "metadata": {
    "collapsed": false
   },
   "outputs": [
    {
     "data": {
      "text/html": [
       "<table>\n",
       "<thead><tr><th scope=col>entity_id</th><th scope=col>page_usages</th><th scope=col>page_view_mean</th></tr></thead>\n",
       "<tbody>\n",
       "\t<tr><td>Q5296    </td><td>613      </td><td>20441060 </td></tr>\n",
       "\t<tr><td>Q4652632 </td><td>  5      </td><td> 8667144 </td></tr>\n",
       "\t<tr><td>Q8042151 </td><td>  5      </td><td> 8018726 </td></tr>\n",
       "\t<tr><td>Q22713189</td><td>  1      </td><td> 4983678 </td></tr>\n",
       "\t<tr><td>Q26769076</td><td>  2      </td><td> 4659126 </td></tr>\n",
       "\t<tr><td>Q25136249</td><td>  3      </td><td> 4328533 </td></tr>\n",
       "\t<tr><td>Q5589097 </td><td>  1      </td><td> 4306323 </td></tr>\n",
       "\t<tr><td>Q25999140</td><td>  2      </td><td> 3983256 </td></tr>\n",
       "\t<tr><td>Q3546230 </td><td>  1      </td><td> 3974205 </td></tr>\n",
       "\t<tr><td>Q26832572</td><td>  1      </td><td> 3847138 </td></tr>\n",
       "</tbody>\n",
       "</table>\n"
      ],
      "text/latex": [
       "\\begin{tabular}{r|lll}\n",
       " entity\\_id & page\\_usages & page\\_view\\_mean\\\\\n",
       "\\hline\n",
       "\t Q5296     & 613       & 20441060 \\\\\n",
       "\t Q4652632  &   5       &  8667144 \\\\\n",
       "\t Q8042151  &   5       &  8018726 \\\\\n",
       "\t Q22713189 &   1       &  4983678 \\\\\n",
       "\t Q26769076 &   2       &  4659126 \\\\\n",
       "\t Q25136249 &   3       &  4328533 \\\\\n",
       "\t Q5589097  &   1       &  4306323 \\\\\n",
       "\t Q25999140 &   2       &  3983256 \\\\\n",
       "\t Q3546230  &   1       &  3974205 \\\\\n",
       "\t Q26832572 &   1       &  3847138 \\\\\n",
       "\\end{tabular}\n"
      ],
      "text/markdown": [
       "\n",
       "entity_id | page_usages | page_view_mean | \n",
       "|---|---|---|---|---|---|---|---|---|---|\n",
       "| Q5296     | 613       | 20441060  | \n",
       "| Q4652632  |   5       |  8667144  | \n",
       "| Q8042151  |   5       |  8018726  | \n",
       "| Q22713189 |   1       |  4983678  | \n",
       "| Q26769076 |   2       |  4659126  | \n",
       "| Q25136249 |   3       |  4328533  | \n",
       "| Q5589097  |   1       |  4306323  | \n",
       "| Q25999140 |   2       |  3983256  | \n",
       "| Q3546230  |   1       |  3974205  | \n",
       "| Q26832572 |   1       |  3847138  | \n",
       "\n",
       "\n"
      ],
      "text/plain": [
       "   entity_id page_usages page_view_mean\n",
       "1  Q5296     613         20441060      \n",
       "2  Q4652632    5          8667144      \n",
       "3  Q8042151    5          8018726      \n",
       "4  Q22713189   1          4983678      \n",
       "5  Q26769076   2          4659126      \n",
       "6  Q25136249   3          4328533      \n",
       "7  Q5589097    1          4306323      \n",
       "8  Q25999140   2          3983256      \n",
       "9  Q3546230    1          3974205      \n",
       "10 Q26832572   1          3847138      "
      ]
     },
     "metadata": {},
     "output_type": "display_data"
    }
   ],
   "source": [
    "head(sorted_by_highest_view_means, n=10)"
   ]
  },
  {
   "cell_type": "markdown",
   "metadata": {},
   "source": [
    "### Sorted by lowest view means"
   ]
  },
  {
   "cell_type": "code",
   "execution_count": 30,
   "metadata": {
    "collapsed": true
   },
   "outputs": [],
   "source": [
    "view_means_of_zero <-filter(entity_view_means_and_usages, page_view_mean == 0)"
   ]
  },
  {
   "cell_type": "code",
   "execution_count": 31,
   "metadata": {
    "collapsed": true
   },
   "outputs": [],
   "source": [
    "view_means_of_zero_sorted_by_page_usages <- dplyr::arrange(view_means_of_zero, desc(page_usages))"
   ]
  },
  {
   "cell_type": "code",
   "execution_count": 32,
   "metadata": {
    "collapsed": false
   },
   "outputs": [
    {
     "data": {
      "text/html": [
       "<table>\n",
       "<thead><tr><th scope=col>entity_id</th><th scope=col>page_usages</th><th scope=col>page_view_mean</th></tr></thead>\n",
       "<tbody>\n",
       "\t<tr><td>Q14334317</td><td>6        </td><td>0        </td></tr>\n",
       "\t<tr><td>Q14960107</td><td>6        </td><td>0        </td></tr>\n",
       "\t<tr><td>Q14963100</td><td>6        </td><td>0        </td></tr>\n",
       "\t<tr><td>Q14964406</td><td>6        </td><td>0        </td></tr>\n",
       "\t<tr><td>Q14967290</td><td>6        </td><td>0        </td></tr>\n",
       "\t<tr><td>Q14967382</td><td>6        </td><td>0        </td></tr>\n",
       "\t<tr><td>Q14969075</td><td>6        </td><td>0        </td></tr>\n",
       "\t<tr><td>Q14970322</td><td>6        </td><td>0        </td></tr>\n",
       "\t<tr><td>Q14970334</td><td>6        </td><td>0        </td></tr>\n",
       "\t<tr><td>Q14970538</td><td>6        </td><td>0        </td></tr>\n",
       "</tbody>\n",
       "</table>\n"
      ],
      "text/latex": [
       "\\begin{tabular}{r|lll}\n",
       " entity\\_id & page\\_usages & page\\_view\\_mean\\\\\n",
       "\\hline\n",
       "\t Q14334317 & 6         & 0        \\\\\n",
       "\t Q14960107 & 6         & 0        \\\\\n",
       "\t Q14963100 & 6         & 0        \\\\\n",
       "\t Q14964406 & 6         & 0        \\\\\n",
       "\t Q14967290 & 6         & 0        \\\\\n",
       "\t Q14967382 & 6         & 0        \\\\\n",
       "\t Q14969075 & 6         & 0        \\\\\n",
       "\t Q14970322 & 6         & 0        \\\\\n",
       "\t Q14970334 & 6         & 0        \\\\\n",
       "\t Q14970538 & 6         & 0        \\\\\n",
       "\\end{tabular}\n"
      ],
      "text/markdown": [
       "\n",
       "entity_id | page_usages | page_view_mean | \n",
       "|---|---|---|---|---|---|---|---|---|---|\n",
       "| Q14334317 | 6         | 0         | \n",
       "| Q14960107 | 6         | 0         | \n",
       "| Q14963100 | 6         | 0         | \n",
       "| Q14964406 | 6         | 0         | \n",
       "| Q14967290 | 6         | 0         | \n",
       "| Q14967382 | 6         | 0         | \n",
       "| Q14969075 | 6         | 0         | \n",
       "| Q14970322 | 6         | 0         | \n",
       "| Q14970334 | 6         | 0         | \n",
       "| Q14970538 | 6         | 0         | \n",
       "\n",
       "\n"
      ],
      "text/plain": [
       "   entity_id page_usages page_view_mean\n",
       "1  Q14334317 6           0             \n",
       "2  Q14960107 6           0             \n",
       "3  Q14963100 6           0             \n",
       "4  Q14964406 6           0             \n",
       "5  Q14967290 6           0             \n",
       "6  Q14967382 6           0             \n",
       "7  Q14969075 6           0             \n",
       "8  Q14970322 6           0             \n",
       "9  Q14970334 6           0             \n",
       "10 Q14970538 6           0             "
      ]
     },
     "metadata": {},
     "output_type": "display_data"
    }
   ],
   "source": [
    "head(view_means_of_zero_sorted_by_page_usages, n=10)"
   ]
  },
  {
   "cell_type": "markdown",
   "metadata": {},
   "source": [
    "## Entities used once versus more than once "
   ]
  },
  {
   "cell_type": "code",
   "execution_count": 33,
   "metadata": {
    "collapsed": true
   },
   "outputs": [],
   "source": [
    "used_once <- filter(entity_view_means_and_usages, page_usages == 1 ) "
   ]
  },
  {
   "cell_type": "code",
   "execution_count": 34,
   "metadata": {
    "collapsed": true
   },
   "outputs": [],
   "source": [
    "used_more_than_once <- filter(entity_view_means_and_usages, page_usages > 0 ) "
   ]
  },
  {
   "cell_type": "code",
   "execution_count": 35,
   "metadata": {
    "collapsed": false,
    "scrolled": true
   },
   "outputs": [
    {
     "data": {
      "text/html": [
       "1348.70934476564"
      ],
      "text/latex": [
       "1348.70934476564"
      ],
      "text/markdown": [
       "1348.70934476564"
      ],
      "text/plain": [
       "[1] 1348.709"
      ]
     },
     "metadata": {},
     "output_type": "display_data"
    }
   ],
   "source": [
    "mean(used_once$page_view_mean)"
   ]
  },
  {
   "cell_type": "code",
   "execution_count": 36,
   "metadata": {
    "collapsed": false
   },
   "outputs": [
    {
     "data": {
      "text/html": [
       "1527.05339518629"
      ],
      "text/latex": [
       "1527.05339518629"
      ],
      "text/markdown": [
       "1527.05339518629"
      ],
      "text/plain": [
       "[1] 1527.053"
      ]
     },
     "metadata": {},
     "output_type": "display_data"
    }
   ],
   "source": [
    "mean(used_more_than_once$page_view_mean)"
   ]
  },
  {
   "cell_type": "markdown",
   "metadata": {},
   "source": [
    "# Determining if used and valuable properties are just in Wikidata"
   ]
  },
  {
   "cell_type": "code",
   "execution_count": 37,
   "metadata": {
    "collapsed": true
   },
   "outputs": [],
   "source": [
    "property_project_page_views <- filter(entity_project_page_views, substr(entity_id,1,1) == \"P\")"
   ]
  },
  {
   "cell_type": "code",
   "execution_count": 38,
   "metadata": {
    "collapsed": false
   },
   "outputs": [],
   "source": [
    "property_project_page_views_for_client_wikidata <- filter(property_project_page_views, project == \"wikidatawiki\")"
   ]
  },
  {
   "cell_type": "code",
   "execution_count": 39,
   "metadata": {
    "collapsed": false
   },
   "outputs": [
    {
     "data": {
      "text/html": [
       "<table>\n",
       "<thead><tr><th scope=col>entity_id</th><th scope=col>project</th><th scope=col>page_id</th><th scope=col>page_views</th></tr></thead>\n",
       "<tbody>\n",
       "\t<tr><td>P1          </td><td>wikidatawiki</td><td>   18303    </td><td>254         </td></tr>\n",
       "\t<tr><td>P1          </td><td>wikidatawiki</td><td> 3960194    </td><td> 80         </td></tr>\n",
       "\t<tr><td>P1          </td><td>wikidatawiki</td><td> 6403593    </td><td>128         </td></tr>\n",
       "\t<tr><td>P1          </td><td>wikidatawiki</td><td>21116203    </td><td>330         </td></tr>\n",
       "\t<tr><td>P1          </td><td>wikidatawiki</td><td>21278095    </td><td>  1         </td></tr>\n",
       "\t<tr><td>P1          </td><td>wikidatawiki</td><td>21587519    </td><td>  9         </td></tr>\n",
       "</tbody>\n",
       "</table>\n"
      ],
      "text/latex": [
       "\\begin{tabular}{r|llll}\n",
       " entity\\_id & project & page\\_id & page\\_views\\\\\n",
       "\\hline\n",
       "\t P1           & wikidatawiki &    18303     & 254         \\\\\n",
       "\t P1           & wikidatawiki &  3960194     &  80         \\\\\n",
       "\t P1           & wikidatawiki &  6403593     & 128         \\\\\n",
       "\t P1           & wikidatawiki & 21116203     & 330         \\\\\n",
       "\t P1           & wikidatawiki & 21278095     &   1         \\\\\n",
       "\t P1           & wikidatawiki & 21587519     &   9         \\\\\n",
       "\\end{tabular}\n"
      ],
      "text/markdown": [
       "\n",
       "entity_id | project | page_id | page_views | \n",
       "|---|---|---|---|---|---|\n",
       "| P1           | wikidatawiki |    18303     | 254          | \n",
       "| P1           | wikidatawiki |  3960194     |  80          | \n",
       "| P1           | wikidatawiki |  6403593     | 128          | \n",
       "| P1           | wikidatawiki | 21116203     | 330          | \n",
       "| P1           | wikidatawiki | 21278095     |   1          | \n",
       "| P1           | wikidatawiki | 21587519     |   9          | \n",
       "\n",
       "\n"
      ],
      "text/plain": [
       "  entity_id project      page_id  page_views\n",
       "1 P1        wikidatawiki    18303 254       \n",
       "2 P1        wikidatawiki  3960194  80       \n",
       "3 P1        wikidatawiki  6403593 128       \n",
       "4 P1        wikidatawiki 21116203 330       \n",
       "5 P1        wikidatawiki 21278095   1       \n",
       "6 P1        wikidatawiki 21587519   9       "
      ]
     },
     "metadata": {},
     "output_type": "display_data"
    }
   ],
   "source": [
    "head(property_project_page_views_for_client_wikidata)"
   ]
  },
  {
   "cell_type": "code",
   "execution_count": 40,
   "metadata": {
    "collapsed": false
   },
   "outputs": [
    {
     "data": {
      "text/html": [
       "24342469"
      ],
      "text/latex": [
       "24342469"
      ],
      "text/markdown": [
       "24342469"
      ],
      "text/plain": [
       "[1] 24342469"
      ]
     },
     "metadata": {},
     "output_type": "display_data"
    }
   ],
   "source": [
    "nrow(property_project_page_views)"
   ]
  },
  {
   "cell_type": "code",
   "execution_count": 41,
   "metadata": {
    "collapsed": false
   },
   "outputs": [
    {
     "data": {
      "text/html": [
       "403671"
      ],
      "text/latex": [
       "403671"
      ],
      "text/markdown": [
       "403671"
      ],
      "text/plain": [
       "[1] 403671"
      ]
     },
     "metadata": {},
     "output_type": "display_data"
    }
   ],
   "source": [
    "nrow(property_project_page_views_for_client_wikidata)"
   ]
  },
  {
   "cell_type": "code",
   "execution_count": 42,
   "metadata": {
    "collapsed": false
   },
   "outputs": [
    {
     "data": {
      "text/html": [
       "0.0165829932863425"
      ],
      "text/latex": [
       "0.0165829932863425"
      ],
      "text/markdown": [
       "0.0165829932863425"
      ],
      "text/plain": [
       "[1] 0.01658299"
      ]
     },
     "metadata": {},
     "output_type": "display_data"
    }
   ],
   "source": [
    "nrow(property_project_page_views_for_client_wikidata)/nrow(property_project_page_views)"
   ]
  },
  {
   "cell_type": "code",
   "execution_count": 43,
   "metadata": {
    "collapsed": false
   },
   "outputs": [],
   "source": [
    "page_frequency_by_property <- count(property_project_page_views,entity_id)"
   ]
  },
  {
   "cell_type": "code",
   "execution_count": 44,
   "metadata": {
    "collapsed": true
   },
   "outputs": [],
   "source": [
    "wikidata_page_frequency_by_property <- count(property_project_page_views_for_client_wikidata, entity_id)"
   ]
  },
  {
   "cell_type": "code",
   "execution_count": 45,
   "metadata": {
    "collapsed": false
   },
   "outputs": [],
   "source": [
    "colnames(page_frequency_by_property) <- c('property_id','page_usages')"
   ]
  },
  {
   "cell_type": "code",
   "execution_count": 46,
   "metadata": {
    "collapsed": true
   },
   "outputs": [],
   "source": [
    "colnames(wikidata_page_frequency_by_property) <- c('property_id','wikidata_page_usages')"
   ]
  },
  {
   "cell_type": "code",
   "execution_count": 47,
   "metadata": {
    "collapsed": false
   },
   "outputs": [],
   "source": [
    "page_frequency_by_property_merged <- merge(wikidata_page_frequency_by_property,page_frequency_by_property)"
   ]
  },
  {
   "cell_type": "code",
   "execution_count": 48,
   "metadata": {
    "collapsed": false
   },
   "outputs": [],
   "source": [
    "page_frequency_by_property_merged$wikidata_average <- page_frequency_by_property_merged$wikidata_page_usages/page_frequency_by_property_merged$page_usages"
   ]
  },
  {
   "cell_type": "code",
   "execution_count": 49,
   "metadata": {
    "collapsed": false
   },
   "outputs": [
    {
     "data": {
      "text/html": [
       "<table>\n",
       "<thead><tr><th scope=col>property_id</th><th scope=col>wikidata_page_usages</th><th scope=col>page_usages</th><th scope=col>wikidata_average</th></tr></thead>\n",
       "<tbody>\n",
       "\t<tr><td>P1       </td><td>  7      </td><td>  11     </td><td>0.6363636</td></tr>\n",
       "\t<tr><td>P10      </td><td>327      </td><td> 424     </td><td>0.7712264</td></tr>\n",
       "\t<tr><td>P100     </td><td>  8      </td><td>   9     </td><td>0.8888889</td></tr>\n",
       "\t<tr><td>P1000    </td><td>284      </td><td> 287     </td><td>0.9895470</td></tr>\n",
       "\t<tr><td>P10000   </td><td>  2      </td><td>   2     </td><td>1.0000000</td></tr>\n",
       "\t<tr><td>P1001    </td><td>344      </td><td>1006     </td><td>0.3419483</td></tr>\n",
       "</tbody>\n",
       "</table>\n"
      ],
      "text/latex": [
       "\\begin{tabular}{r|llll}\n",
       " property\\_id & wikidata\\_page\\_usages & page\\_usages & wikidata\\_average\\\\\n",
       "\\hline\n",
       "\t P1        &   7       &   11      & 0.6363636\\\\\n",
       "\t P10       & 327       &  424      & 0.7712264\\\\\n",
       "\t P100      &   8       &    9      & 0.8888889\\\\\n",
       "\t P1000     & 284       &  287      & 0.9895470\\\\\n",
       "\t P10000    &   2       &    2      & 1.0000000\\\\\n",
       "\t P1001     & 344       & 1006      & 0.3419483\\\\\n",
       "\\end{tabular}\n"
      ],
      "text/markdown": [
       "\n",
       "property_id | wikidata_page_usages | page_usages | wikidata_average | \n",
       "|---|---|---|---|---|---|\n",
       "| P1        |   7       |   11      | 0.6363636 | \n",
       "| P10       | 327       |  424      | 0.7712264 | \n",
       "| P100      |   8       |    9      | 0.8888889 | \n",
       "| P1000     | 284       |  287      | 0.9895470 | \n",
       "| P10000    |   2       |    2      | 1.0000000 | \n",
       "| P1001     | 344       | 1006      | 0.3419483 | \n",
       "\n",
       "\n"
      ],
      "text/plain": [
       "  property_id wikidata_page_usages page_usages wikidata_average\n",
       "1 P1            7                    11        0.6363636       \n",
       "2 P10         327                   424        0.7712264       \n",
       "3 P100          8                     9        0.8888889       \n",
       "4 P1000       284                   287        0.9895470       \n",
       "5 P10000        2                     2        1.0000000       \n",
       "6 P1001       344                  1006        0.3419483       "
      ]
     },
     "metadata": {},
     "output_type": "display_data"
    }
   ],
   "source": [
    "head(page_frequency_by_property_merged)"
   ]
  },
  {
   "cell_type": "code",
   "execution_count": 50,
   "metadata": {
    "collapsed": false,
    "scrolled": true
   },
   "outputs": [
    {
     "data": {
      "text/plain": [
       "     Min.   1st Qu.    Median      Mean   3rd Qu.      Max. \n",
       "0.0001314 0.5000000 0.8333000 0.6814000 0.9500000 1.0000000 "
      ]
     },
     "metadata": {},
     "output_type": "display_data"
    }
   ],
   "source": [
    "summary(page_frequency_by_property_merged$wikidata_average)"
   ]
  },
  {
   "cell_type": "code",
   "execution_count": 51,
   "metadata": {
    "collapsed": false
   },
   "outputs": [
    {
     "data": {
      "image/png": "[encoded data removed]",
      "text/plain": [
       "Plot with title “Histogram of page_frequency_by_property_merged$wikidata_average”"
      ]
     },
     "metadata": {},
     "output_type": "display_data"
    }
   ],
   "source": [
    "hist(page_frequency_by_property_merged$wikidata_average)"
   ]
  },
  {
   "cell_type": "code",
   "execution_count": 52,
   "metadata": {
    "collapsed": true
   },
   "outputs": [],
   "source": [
    "page_frequency_by_property_merged_sorted_by_wikidata_average <- dplyr::arrange(page_frequency_by_property_merged, wikidata_average)"
   ]
  },
  {
   "cell_type": "code",
   "execution_count": 53,
   "metadata": {
    "collapsed": false
   },
   "outputs": [
    {
     "data": {
      "text/html": [
       "<table>\n",
       "<thead><tr><th scope=col>property_id</th><th scope=col>wikidata_page_usages</th><th scope=col>page_usages</th><th scope=col>wikidata_average</th></tr></thead>\n",
       "<tbody>\n",
       "\t<tr><td>P2046       </td><td> 69         </td><td> 525134     </td><td>0.0001313950</td></tr>\n",
       "\t<tr><td>P1543       </td><td>  7         </td><td>  46125     </td><td>0.0001517615</td></tr>\n",
       "\t<tr><td>P2044       </td><td> 54         </td><td> 275801     </td><td>0.0001957933</td></tr>\n",
       "\t<tr><td>P1705       </td><td>123         </td><td> 504353     </td><td>0.0002438768</td></tr>\n",
       "\t<tr><td>P1688       </td><td> 25         </td><td>  81811     </td><td>0.0003055824</td></tr>\n",
       "\t<tr><td>P281        </td><td>315         </td><td> 723276     </td><td>0.0004355184</td></tr>\n",
       "\t<tr><td>P1249       </td><td>198         </td><td> 422683     </td><td>0.0004684362</td></tr>\n",
       "\t<tr><td>P473        </td><td>244         </td><td> 485486     </td><td>0.0005025892</td></tr>\n",
       "\t<tr><td>P1566       </td><td>118         </td><td> 234685     </td><td>0.0005028016</td></tr>\n",
       "\t<tr><td>P884        </td><td> 19         </td><td>  34500     </td><td>0.0005507246</td></tr>\n",
       "\t<tr><td>P41         </td><td>309         </td><td> 496982     </td><td>0.0006217529</td></tr>\n",
       "\t<tr><td>P856        </td><td>728         </td><td>1169632     </td><td>0.0006224180</td></tr>\n",
       "\t<tr><td>P421        </td><td>298         </td><td> 457017     </td><td>0.0006520545</td></tr>\n",
       "\t<tr><td>P373        </td><td>873         </td><td>1331718     </td><td>0.0006555442</td></tr>\n",
       "\t<tr><td>P764        </td><td>169         </td><td> 254720     </td><td>0.0006634736</td></tr>\n",
       "\t<tr><td>P6          </td><td>318         </td><td> 473915     </td><td>0.0006710064</td></tr>\n",
       "\t<tr><td>P1448       </td><td>197         </td><td> 284185     </td><td>0.0006932104</td></tr>\n",
       "\t<tr><td>P721        </td><td>175         </td><td> 243768     </td><td>0.0007178957</td></tr>\n",
       "\t<tr><td>P3610       </td><td>  2         </td><td>   2637     </td><td>0.0007584376</td></tr>\n",
       "\t<tr><td>P806        </td><td>172         </td><td> 196229     </td><td>0.0008765269</td></tr>\n",
       "\t<tr><td>P300        </td><td>229         </td><td> 254487     </td><td>0.0008998495</td></tr>\n",
       "\t<tr><td>P395        </td><td>240         </td><td> 252940     </td><td>0.0009488416</td></tr>\n",
       "\t<tr><td>P1082       </td><td>502         </td><td> 506976     </td><td>0.0009901849</td></tr>\n",
       "\t<tr><td>P2216       </td><td>  7         </td><td>   6659     </td><td>0.0010512089</td></tr>\n",
       "\t<tr><td>P1559       </td><td>356         </td><td> 326371     </td><td>0.0010907832</td></tr>\n",
       "</tbody>\n",
       "</table>\n"
      ],
      "text/latex": [
       "\\begin{tabular}{r|llll}\n",
       " property\\_id & wikidata\\_page\\_usages & page\\_usages & wikidata\\_average\\\\\n",
       "\\hline\n",
       "\t P2046        &  69          &  525134      & 0.0001313950\\\\\n",
       "\t P1543        &   7          &   46125      & 0.0001517615\\\\\n",
       "\t P2044        &  54          &  275801      & 0.0001957933\\\\\n",
       "\t P1705        & 123          &  504353      & 0.0002438768\\\\\n",
       "\t P1688        &  25          &   81811      & 0.0003055824\\\\\n",
       "\t P281         & 315          &  723276      & 0.0004355184\\\\\n",
       "\t P1249        & 198          &  422683      & 0.0004684362\\\\\n",
       "\t P473         & 244          &  485486      & 0.0005025892\\\\\n",
       "\t P1566        & 118          &  234685      & 0.0005028016\\\\\n",
       "\t P884         &  19          &   34500      & 0.0005507246\\\\\n",
       "\t P41          & 309          &  496982      & 0.0006217529\\\\\n",
       "\t P856         & 728          & 1169632      & 0.0006224180\\\\\n",
       "\t P421         & 298          &  457017      & 0.0006520545\\\\\n",
       "\t P373         & 873          & 1331718      & 0.0006555442\\\\\n",
       "\t P764         & 169          &  254720      & 0.0006634736\\\\\n",
       "\t P6           & 318          &  473915      & 0.0006710064\\\\\n",
       "\t P1448        & 197          &  284185      & 0.0006932104\\\\\n",
       "\t P721         & 175          &  243768      & 0.0007178957\\\\\n",
       "\t P3610        &   2          &    2637      & 0.0007584376\\\\\n",
       "\t P806         & 172          &  196229      & 0.0008765269\\\\\n",
       "\t P300         & 229          &  254487      & 0.0008998495\\\\\n",
       "\t P395         & 240          &  252940      & 0.0009488416\\\\\n",
       "\t P1082        & 502          &  506976      & 0.0009901849\\\\\n",
       "\t P2216        &   7          &    6659      & 0.0010512089\\\\\n",
       "\t P1559        & 356          &  326371      & 0.0010907832\\\\\n",
       "\\end{tabular}\n"
      ],
      "text/markdown": [
       "\n",
       "property_id | wikidata_page_usages | page_usages | wikidata_average | \n",
       "|---|---|---|---|---|---|---|---|---|---|---|---|---|---|---|---|---|---|---|---|---|---|---|---|---|\n",
       "| P2046        |  69          |  525134      | 0.0001313950 | \n",
       "| P1543        |   7          |   46125      | 0.0001517615 | \n",
       "| P2044        |  54          |  275801      | 0.0001957933 | \n",
       "| P1705        | 123          |  504353      | 0.0002438768 | \n",
       "| P1688        |  25          |   81811      | 0.0003055824 | \n",
       "| P281         | 315          |  723276      | 0.0004355184 | \n",
       "| P1249        | 198          |  422683      | 0.0004684362 | \n",
       "| P473         | 244          |  485486      | 0.0005025892 | \n",
       "| P1566        | 118          |  234685      | 0.0005028016 | \n",
       "| P884         |  19          |   34500      | 0.0005507246 | \n",
       "| P41          | 309          |  496982      | 0.0006217529 | \n",
       "| P856         | 728          | 1169632      | 0.0006224180 | \n",
       "| P421         | 298          |  457017      | 0.0006520545 | \n",
       "| P373         | 873          | 1331718      | 0.0006555442 | \n",
       "| P764         | 169          |  254720      | 0.0006634736 | \n",
       "| P6           | 318          |  473915      | 0.0006710064 | \n",
       "| P1448        | 197          |  284185      | 0.0006932104 | \n",
       "| P721         | 175          |  243768      | 0.0007178957 | \n",
       "| P3610        |   2          |    2637      | 0.0007584376 | \n",
       "| P806         | 172          |  196229      | 0.0008765269 | \n",
       "| P300         | 229          |  254487      | 0.0008998495 | \n",
       "| P395         | 240          |  252940      | 0.0009488416 | \n",
       "| P1082        | 502          |  506976      | 0.0009901849 | \n",
       "| P2216        |   7          |    6659      | 0.0010512089 | \n",
       "| P1559        | 356          |  326371      | 0.0010907832 | \n",
       "\n",
       "\n"
      ],
      "text/plain": [
       "   property_id wikidata_page_usages page_usages wikidata_average\n",
       "1  P2046        69                   525134     0.0001313950    \n",
       "2  P1543         7                    46125     0.0001517615    \n",
       "3  P2044        54                   275801     0.0001957933    \n",
       "4  P1705       123                   504353     0.0002438768    \n",
       "5  P1688        25                    81811     0.0003055824    \n",
       "6  P281        315                   723276     0.0004355184    \n",
       "7  P1249       198                   422683     0.0004684362    \n",
       "8  P473        244                   485486     0.0005025892    \n",
       "9  P1566       118                   234685     0.0005028016    \n",
       "10 P884         19                    34500     0.0005507246    \n",
       "11 P41         309                   496982     0.0006217529    \n",
       "12 P856        728                  1169632     0.0006224180    \n",
       "13 P421        298                   457017     0.0006520545    \n",
       "14 P373        873                  1331718     0.0006555442    \n",
       "15 P764        169                   254720     0.0006634736    \n",
       "16 P6          318                   473915     0.0006710064    \n",
       "17 P1448       197                   284185     0.0006932104    \n",
       "18 P721        175                   243768     0.0007178957    \n",
       "19 P3610         2                     2637     0.0007584376    \n",
       "20 P806        172                   196229     0.0008765269    \n",
       "21 P300        229                   254487     0.0008998495    \n",
       "22 P395        240                   252940     0.0009488416    \n",
       "23 P1082       502                   506976     0.0009901849    \n",
       "24 P2216         7                     6659     0.0010512089    \n",
       "25 P1559       356                   326371     0.0010907832    "
      ]
     },
     "metadata": {},
     "output_type": "display_data"
    }
   ],
   "source": [
    "head(page_frequency_by_property_merged_sorted_by_wikidata_average, n=25)"
   ]
  },
  {
   "cell_type": "code",
   "execution_count": 54,
   "metadata": {
    "collapsed": false
   },
   "outputs": [
    {
     "data": {
      "text/html": [
       "<table>\n",
       "<thead><tr><th scope=col>entity_id</th><th scope=col>project</th><th scope=col>page_id</th><th scope=col>page_views</th></tr></thead>\n",
       "<tbody>\n",
       "\t<tr><td>P1          </td><td>wikidatawiki</td><td>   18303    </td><td>254         </td></tr>\n",
       "\t<tr><td>P1          </td><td>wikidatawiki</td><td> 3960194    </td><td> 80         </td></tr>\n",
       "\t<tr><td>P1          </td><td>wikidatawiki</td><td> 6403593    </td><td>128         </td></tr>\n",
       "\t<tr><td>P1          </td><td>wikidatawiki</td><td>21116203    </td><td>330         </td></tr>\n",
       "\t<tr><td>P1          </td><td>wikidatawiki</td><td>21278095    </td><td>  1         </td></tr>\n",
       "\t<tr><td>P1          </td><td>wikidatawiki</td><td>21587519    </td><td>  9         </td></tr>\n",
       "</tbody>\n",
       "</table>\n"
      ],
      "text/latex": [
       "\\begin{tabular}{r|llll}\n",
       " entity\\_id & project & page\\_id & page\\_views\\\\\n",
       "\\hline\n",
       "\t P1           & wikidatawiki &    18303     & 254         \\\\\n",
       "\t P1           & wikidatawiki &  3960194     &  80         \\\\\n",
       "\t P1           & wikidatawiki &  6403593     & 128         \\\\\n",
       "\t P1           & wikidatawiki & 21116203     & 330         \\\\\n",
       "\t P1           & wikidatawiki & 21278095     &   1         \\\\\n",
       "\t P1           & wikidatawiki & 21587519     &   9         \\\\\n",
       "\\end{tabular}\n"
      ],
      "text/markdown": [
       "\n",
       "entity_id | project | page_id | page_views | \n",
       "|---|---|---|---|---|---|\n",
       "| P1           | wikidatawiki |    18303     | 254          | \n",
       "| P1           | wikidatawiki |  3960194     |  80          | \n",
       "| P1           | wikidatawiki |  6403593     | 128          | \n",
       "| P1           | wikidatawiki | 21116203     | 330          | \n",
       "| P1           | wikidatawiki | 21278095     |   1          | \n",
       "| P1           | wikidatawiki | 21587519     |   9          | \n",
       "\n",
       "\n"
      ],
      "text/plain": [
       "  entity_id project      page_id  page_views\n",
       "1 P1        wikidatawiki    18303 254       \n",
       "2 P1        wikidatawiki  3960194  80       \n",
       "3 P1        wikidatawiki  6403593 128       \n",
       "4 P1        wikidatawiki 21116203 330       \n",
       "5 P1        wikidatawiki 21278095   1       \n",
       "6 P1        wikidatawiki 21587519   9       "
      ]
     },
     "metadata": {},
     "output_type": "display_data"
    }
   ],
   "source": [
    "head(property_project_page_views_for_client_wikidata)"
   ]
  },
  {
   "cell_type": "code",
   "execution_count": 55,
   "metadata": {
    "collapsed": false
   },
   "outputs": [],
   "source": [
    "property_project_page_views_for_client_wikidata_summed <- aggregate(property_project_page_views_for_client_wikidata$page_views, by=list(property_project_page_views_for_client_wikidata$entity_id), FUN=sum)"
   ]
  },
  {
   "cell_type": "code",
   "execution_count": 70,
   "metadata": {
    "collapsed": true
   },
   "outputs": [],
   "source": [
    "property_project_page_views_summed <- aggregate(property_project_page_views$page_views, by=list(property_project_page_views$entity_id), FUN=sum)"
   ]
  },
  {
   "cell_type": "code",
   "execution_count": 73,
   "metadata": {
    "collapsed": true
   },
   "outputs": [],
   "source": [
    "colnames(property_project_page_views_summed) <- c('property_id','page_views')"
   ]
  },
  {
   "cell_type": "code",
   "execution_count": 74,
   "metadata": {
    "collapsed": false
   },
   "outputs": [
    {
     "data": {
      "text/html": [
       "<table>\n",
       "<thead><tr><th scope=col>property_id</th><th scope=col>page_views</th></tr></thead>\n",
       "<tbody>\n",
       "\t<tr><td>P1     </td><td>   1345</td></tr>\n",
       "\t<tr><td>P10    </td><td>  26612</td></tr>\n",
       "\t<tr><td>P100   </td><td>   1727</td></tr>\n",
       "\t<tr><td>P1000  </td><td>  45259</td></tr>\n",
       "\t<tr><td>P10000 </td><td>    331</td></tr>\n",
       "\t<tr><td>P1001  </td><td>6911712</td></tr>\n",
       "</tbody>\n",
       "</table>\n"
      ],
      "text/latex": [
       "\\begin{tabular}{r|ll}\n",
       " property\\_id & page\\_views\\\\\n",
       "\\hline\n",
       "\t P1      &    1345\\\\\n",
       "\t P10     &   26612\\\\\n",
       "\t P100    &    1727\\\\\n",
       "\t P1000   &   45259\\\\\n",
       "\t P10000  &     331\\\\\n",
       "\t P1001   & 6911712\\\\\n",
       "\\end{tabular}\n"
      ],
      "text/markdown": [
       "\n",
       "property_id | page_views | \n",
       "|---|---|---|---|---|---|\n",
       "| P1      |    1345 | \n",
       "| P10     |   26612 | \n",
       "| P100    |    1727 | \n",
       "| P1000   |   45259 | \n",
       "| P10000  |     331 | \n",
       "| P1001   | 6911712 | \n",
       "\n",
       "\n"
      ],
      "text/plain": [
       "  property_id page_views\n",
       "1 P1             1345   \n",
       "2 P10           26612   \n",
       "3 P100           1727   \n",
       "4 P1000         45259   \n",
       "5 P10000          331   \n",
       "6 P1001       6911712   "
      ]
     },
     "metadata": {},
     "output_type": "display_data"
    }
   ],
   "source": [
    "head(property_project_page_views_summed)"
   ]
  },
  {
   "cell_type": "code",
   "execution_count": 75,
   "metadata": {
    "collapsed": false
   },
   "outputs": [],
   "source": [
    "colnames(property_project_page_views_for_client_wikidata_summed) <- c('property_id','wikidata_page_views')"
   ]
  },
  {
   "cell_type": "code",
   "execution_count": 76,
   "metadata": {
    "collapsed": false
   },
   "outputs": [
    {
     "data": {
      "text/html": [
       "<table>\n",
       "<thead><tr><th scope=col>property_id</th><th scope=col>wikidata_page_views</th></tr></thead>\n",
       "<tbody>\n",
       "\t<tr><td>P1    </td><td>  806 </td></tr>\n",
       "\t<tr><td>P10   </td><td>22135 </td></tr>\n",
       "\t<tr><td>P100  </td><td> 1645 </td></tr>\n",
       "\t<tr><td>P1000 </td><td>45011 </td></tr>\n",
       "\t<tr><td>P10000</td><td>  331 </td></tr>\n",
       "\t<tr><td>P1001 </td><td>91660 </td></tr>\n",
       "</tbody>\n",
       "</table>\n"
      ],
      "text/latex": [
       "\\begin{tabular}{r|ll}\n",
       " property\\_id & wikidata\\_page\\_views\\\\\n",
       "\\hline\n",
       "\t P1     &   806 \\\\\n",
       "\t P10    & 22135 \\\\\n",
       "\t P100   &  1645 \\\\\n",
       "\t P1000  & 45011 \\\\\n",
       "\t P10000 &   331 \\\\\n",
       "\t P1001  & 91660 \\\\\n",
       "\\end{tabular}\n"
      ],
      "text/markdown": [
       "\n",
       "property_id | wikidata_page_views | \n",
       "|---|---|---|---|---|---|\n",
       "| P1     |   806  | \n",
       "| P10    | 22135  | \n",
       "| P100   |  1645  | \n",
       "| P1000  | 45011  | \n",
       "| P10000 |   331  | \n",
       "| P1001  | 91660  | \n",
       "\n",
       "\n"
      ],
      "text/plain": [
       "  property_id wikidata_page_views\n",
       "1 P1            806              \n",
       "2 P10         22135              \n",
       "3 P100         1645              \n",
       "4 P1000       45011              \n",
       "5 P10000        331              \n",
       "6 P1001       91660              "
      ]
     },
     "metadata": {},
     "output_type": "display_data"
    }
   ],
   "source": [
    "head(property_project_page_views_for_client_wikidata_summed)"
   ]
  },
  {
   "cell_type": "code",
   "execution_count": 94,
   "metadata": {
    "collapsed": true
   },
   "outputs": [],
   "source": [
    "property_summed_views <- merge(property_project_page_views_for_client_wikidata_summed,property_project_page_views_summed)"
   ]
  },
  {
   "cell_type": "code",
   "execution_count": 100,
   "metadata": {
    "collapsed": false
   },
   "outputs": [],
   "source": [
    "property_summed_views$non_wikidata_page_views <- property_summed_views$page_views - property_summed_views$wikidata_page_views"
   ]
  },
  {
   "cell_type": "code",
   "execution_count": 101,
   "metadata": {
    "collapsed": true
   },
   "outputs": [],
   "source": [
    "page_frequency_by_property_merged_and_summed_views <- merge(property_summed_views,page_frequency_by_property_merged)"
   ]
  },
  {
   "cell_type": "code",
   "execution_count": 102,
   "metadata": {
    "collapsed": false
   },
   "outputs": [
    {
     "data": {
      "text/html": [
       "3937"
      ],
      "text/latex": [
       "3937"
      ],
      "text/markdown": [
       "3937"
      ],
      "text/plain": [
       "[1] 3937"
      ]
     },
     "metadata": {},
     "output_type": "display_data"
    }
   ],
   "source": [
    "nrow(page_frequency_by_property_merged_and_summed_views)"
   ]
  },
  {
   "cell_type": "code",
   "execution_count": 105,
   "metadata": {
    "collapsed": false
   },
   "outputs": [],
   "source": [
    "page_frequency_by_property_merged_and_summed_views_sorted_by_page_views <- dplyr::arrange(page_frequency_by_property_merged_and_summed_views, desc(non_wikidata_page_views))"
   ]
  },
  {
   "cell_type": "code",
   "execution_count": 107,
   "metadata": {
    "collapsed": true
   },
   "outputs": [],
   "source": [
    "page_frequency_by_property_merged_and_summed_views_sorted_by_page_views$non_wikidata_page_usages <- page_frequency_by_property_merged_and_summed_views_sorted_by_page_views$page_usages - page_frequency_by_property_merged_and_summed_views_sorted_by_page_views$wikidata_page_usages"
   ]
  },
  {
   "cell_type": "code",
   "execution_count": 108,
   "metadata": {
    "collapsed": false
   },
   "outputs": [
    {
     "data": {
      "text/html": [
       "<table>\n",
       "<thead><tr><th scope=col>property_id</th><th scope=col>wikidata_page_views</th><th scope=col>page_views</th><th scope=col>non_wikidata_page_views</th><th scope=col>wikidata_page_usages</th><th scope=col>page_usages</th><th scope=col>wikidata_average</th><th scope=col>non_wikidata_page_usages</th></tr></thead>\n",
       "<tbody>\n",
       "\t<tr><td>P373        </td><td> 160205     </td><td>6531371917  </td><td>6531211712  </td><td> 873        </td><td>1331718     </td><td>0.0006555442</td><td>1330845     </td></tr>\n",
       "\t<tr><td>P18         </td><td> 217294     </td><td>5304100266  </td><td>5303882972  </td><td>1207        </td><td> 764223     </td><td>0.0015793819</td><td> 763016     </td></tr>\n",
       "\t<tr><td>P856        </td><td> 137822     </td><td>5143708396  </td><td>5143570574  </td><td> 728        </td><td>1169632     </td><td>0.0006224180</td><td>1168904     </td></tr>\n",
       "\t<tr><td>P570        </td><td> 196788     </td><td>3230549347  </td><td>3230352559  </td><td> 899        </td><td> 280091     </td><td>0.0032096711</td><td> 279192     </td></tr>\n",
       "\t<tr><td>P31         </td><td>1140181     </td><td>3153325528  </td><td>3152185347  </td><td>6965        </td><td> 280795     </td><td>0.0248045727</td><td> 273830     </td></tr>\n",
       "\t<tr><td>P345        </td><td> 360345     </td><td>3064724376  </td><td>3064364031  </td><td> 589        </td><td> 218339     </td><td>0.0026976399</td><td> 217750     </td></tr>\n",
       "\t<tr><td>P19         </td><td> 140107     </td><td>2851053904  </td><td>2850913797  </td><td>1284        </td><td> 431216     </td><td>0.0029776261</td><td> 429932     </td></tr>\n",
       "\t<tr><td>P1559       </td><td> 168314     </td><td>2571114971  </td><td>2570946657  </td><td> 356        </td><td> 326371     </td><td>0.0010907832</td><td> 326015     </td></tr>\n",
       "\t<tr><td>P166        </td><td> 141820     </td><td>2545366245  </td><td>2545224425  </td><td> 685        </td><td> 317367     </td><td>0.0021583845</td><td> 316682     </td></tr>\n",
       "\t<tr><td>P20         </td><td>  61667     </td><td>2497532842  </td><td>2497471175  </td><td> 456        </td><td> 350254     </td><td>0.0013019123</td><td> 349798     </td></tr>\n",
       "\t<tr><td>P569        </td><td> 247705     </td><td>2412197025  </td><td>2411949320  </td><td>1815        </td><td> 186015     </td><td>0.0097572776</td><td> 184200     </td></tr>\n",
       "\t<tr><td>P27         </td><td> 158169     </td><td>2342197161  </td><td>2342038992  </td><td> 639        </td><td> 323306     </td><td>0.0019764557</td><td> 322667     </td></tr>\n",
       "\t<tr><td>P106        </td><td> 469781     </td><td>2267267026  </td><td>2266797245  </td><td>1229        </td><td> 241340     </td><td>0.0050924008</td><td> 240111     </td></tr>\n",
       "\t<tr><td>P136        </td><td> 142007     </td><td>2176414324  </td><td>2176272317  </td><td> 664        </td><td> 148045     </td><td>0.0044851228</td><td> 147381     </td></tr>\n",
       "\t<tr><td>P1477       </td><td> 107933     </td><td>2155338581  </td><td>2155230648  </td><td> 320        </td><td> 185736     </td><td>0.0017228755</td><td> 185416     </td></tr>\n",
       "\t<tr><td>P1688       </td><td>   2865     </td><td>1990985741  </td><td>1990982876  </td><td>  25        </td><td>  81811     </td><td>0.0003055824</td><td>  81786     </td></tr>\n",
       "\t<tr><td>P2002       </td><td>  41099     </td><td>1865346376  </td><td>1865305277  </td><td>  56        </td><td>  35698     </td><td>0.0015687153</td><td>  35642     </td></tr>\n",
       "\t<tr><td>P1705       </td><td> 101347     </td><td>1598287470  </td><td>1598186123  </td><td> 123        </td><td> 504353     </td><td>0.0002438768</td><td> 504230     </td></tr>\n",
       "\t<tr><td>P109        </td><td>  45577     </td><td>1596657126  </td><td>1596611549  </td><td> 367        </td><td> 252415     </td><td>0.0014539548</td><td> 252048     </td></tr>\n",
       "\t<tr><td>P2031       </td><td>  23607     </td><td>1389214814  </td><td>1389191207  </td><td>  97        </td><td>  84790     </td><td>0.0011440028</td><td>  84693     </td></tr>\n",
       "\t<tr><td>P571        </td><td> 196500     </td><td>1287164598  </td><td>1286968098  </td><td> 740        </td><td> 550523     </td><td>0.0013441764</td><td> 549783     </td></tr>\n",
       "\t<tr><td>P17         </td><td> 513001     </td><td>1196731863  </td><td>1196218862  </td><td>2438        </td><td> 671831     </td><td>0.0036288888</td><td> 669393     </td></tr>\n",
       "\t<tr><td>P2047       </td><td>  39951     </td><td>1050788774  </td><td>1050748823  </td><td> 198        </td><td> 115325     </td><td>0.0017168871</td><td> 115127     </td></tr>\n",
       "\t<tr><td>P155        </td><td>  91431     </td><td> 940212904  </td><td> 940121473  </td><td> 510        </td><td>  54187     </td><td>0.0094118516</td><td>  53677     </td></tr>\n",
       "\t<tr><td>P156        </td><td>  97391     </td><td> 938740046  </td><td> 938642655  </td><td> 520        </td><td>  54136     </td><td>0.0096054382</td><td>  53616     </td></tr>\n",
       "</tbody>\n",
       "</table>\n"
      ],
      "text/latex": [
       "\\begin{tabular}{r|llllllll}\n",
       " property\\_id & wikidata\\_page\\_views & page\\_views & non\\_wikidata\\_page\\_views & wikidata\\_page\\_usages & page\\_usages & wikidata\\_average & non\\_wikidata\\_page\\_usages\\\\\n",
       "\\hline\n",
       "\t P373         &  160205      & 6531371917   & 6531211712   &  873         & 1331718      & 0.0006555442 & 1330845     \\\\\n",
       "\t P18          &  217294      & 5304100266   & 5303882972   & 1207         &  764223      & 0.0015793819 &  763016     \\\\\n",
       "\t P856         &  137822      & 5143708396   & 5143570574   &  728         & 1169632      & 0.0006224180 & 1168904     \\\\\n",
       "\t P570         &  196788      & 3230549347   & 3230352559   &  899         &  280091      & 0.0032096711 &  279192     \\\\\n",
       "\t P31          & 1140181      & 3153325528   & 3152185347   & 6965         &  280795      & 0.0248045727 &  273830     \\\\\n",
       "\t P345         &  360345      & 3064724376   & 3064364031   &  589         &  218339      & 0.0026976399 &  217750     \\\\\n",
       "\t P19          &  140107      & 2851053904   & 2850913797   & 1284         &  431216      & 0.0029776261 &  429932     \\\\\n",
       "\t P1559        &  168314      & 2571114971   & 2570946657   &  356         &  326371      & 0.0010907832 &  326015     \\\\\n",
       "\t P166         &  141820      & 2545366245   & 2545224425   &  685         &  317367      & 0.0021583845 &  316682     \\\\\n",
       "\t P20          &   61667      & 2497532842   & 2497471175   &  456         &  350254      & 0.0013019123 &  349798     \\\\\n",
       "\t P569         &  247705      & 2412197025   & 2411949320   & 1815         &  186015      & 0.0097572776 &  184200     \\\\\n",
       "\t P27          &  158169      & 2342197161   & 2342038992   &  639         &  323306      & 0.0019764557 &  322667     \\\\\n",
       "\t P106         &  469781      & 2267267026   & 2266797245   & 1229         &  241340      & 0.0050924008 &  240111     \\\\\n",
       "\t P136         &  142007      & 2176414324   & 2176272317   &  664         &  148045      & 0.0044851228 &  147381     \\\\\n",
       "\t P1477        &  107933      & 2155338581   & 2155230648   &  320         &  185736      & 0.0017228755 &  185416     \\\\\n",
       "\t P1688        &    2865      & 1990985741   & 1990982876   &   25         &   81811      & 0.0003055824 &   81786     \\\\\n",
       "\t P2002        &   41099      & 1865346376   & 1865305277   &   56         &   35698      & 0.0015687153 &   35642     \\\\\n",
       "\t P1705        &  101347      & 1598287470   & 1598186123   &  123         &  504353      & 0.0002438768 &  504230     \\\\\n",
       "\t P109         &   45577      & 1596657126   & 1596611549   &  367         &  252415      & 0.0014539548 &  252048     \\\\\n",
       "\t P2031        &   23607      & 1389214814   & 1389191207   &   97         &   84790      & 0.0011440028 &   84693     \\\\\n",
       "\t P571         &  196500      & 1287164598   & 1286968098   &  740         &  550523      & 0.0013441764 &  549783     \\\\\n",
       "\t P17          &  513001      & 1196731863   & 1196218862   & 2438         &  671831      & 0.0036288888 &  669393     \\\\\n",
       "\t P2047        &   39951      & 1050788774   & 1050748823   &  198         &  115325      & 0.0017168871 &  115127     \\\\\n",
       "\t P155         &   91431      &  940212904   &  940121473   &  510         &   54187      & 0.0094118516 &   53677     \\\\\n",
       "\t P156         &   97391      &  938740046   &  938642655   &  520         &   54136      & 0.0096054382 &   53616     \\\\\n",
       "\\end{tabular}\n"
      ],
      "text/markdown": [
       "\n",
       "property_id | wikidata_page_views | page_views | non_wikidata_page_views | wikidata_page_usages | page_usages | wikidata_average | non_wikidata_page_usages | \n",
       "|---|---|---|---|---|---|---|---|---|---|---|---|---|---|---|---|---|---|---|---|---|---|---|---|---|\n",
       "| P373         |  160205      | 6531371917   | 6531211712   |  873         | 1331718      | 0.0006555442 | 1330845      | \n",
       "| P18          |  217294      | 5304100266   | 5303882972   | 1207         |  764223      | 0.0015793819 |  763016      | \n",
       "| P856         |  137822      | 5143708396   | 5143570574   |  728         | 1169632      | 0.0006224180 | 1168904      | \n",
       "| P570         |  196788      | 3230549347   | 3230352559   |  899         |  280091      | 0.0032096711 |  279192      | \n",
       "| P31          | 1140181      | 3153325528   | 3152185347   | 6965         |  280795      | 0.0248045727 |  273830      | \n",
       "| P345         |  360345      | 3064724376   | 3064364031   |  589         |  218339      | 0.0026976399 |  217750      | \n",
       "| P19          |  140107      | 2851053904   | 2850913797   | 1284         |  431216      | 0.0029776261 |  429932      | \n",
       "| P1559        |  168314      | 2571114971   | 2570946657   |  356         |  326371      | 0.0010907832 |  326015      | \n",
       "| P166         |  141820      | 2545366245   | 2545224425   |  685         |  317367      | 0.0021583845 |  316682      | \n",
       "| P20          |   61667      | 2497532842   | 2497471175   |  456         |  350254      | 0.0013019123 |  349798      | \n",
       "| P569         |  247705      | 2412197025   | 2411949320   | 1815         |  186015      | 0.0097572776 |  184200      | \n",
       "| P27          |  158169      | 2342197161   | 2342038992   |  639         |  323306      | 0.0019764557 |  322667      | \n",
       "| P106         |  469781      | 2267267026   | 2266797245   | 1229         |  241340      | 0.0050924008 |  240111      | \n",
       "| P136         |  142007      | 2176414324   | 2176272317   |  664         |  148045      | 0.0044851228 |  147381      | \n",
       "| P1477        |  107933      | 2155338581   | 2155230648   |  320         |  185736      | 0.0017228755 |  185416      | \n",
       "| P1688        |    2865      | 1990985741   | 1990982876   |   25         |   81811      | 0.0003055824 |   81786      | \n",
       "| P2002        |   41099      | 1865346376   | 1865305277   |   56         |   35698      | 0.0015687153 |   35642      | \n",
       "| P1705        |  101347      | 1598287470   | 1598186123   |  123         |  504353      | 0.0002438768 |  504230      | \n",
       "| P109         |   45577      | 1596657126   | 1596611549   |  367         |  252415      | 0.0014539548 |  252048      | \n",
       "| P2031        |   23607      | 1389214814   | 1389191207   |   97         |   84790      | 0.0011440028 |   84693      | \n",
       "| P571         |  196500      | 1287164598   | 1286968098   |  740         |  550523      | 0.0013441764 |  549783      | \n",
       "| P17          |  513001      | 1196731863   | 1196218862   | 2438         |  671831      | 0.0036288888 |  669393      | \n",
       "| P2047        |   39951      | 1050788774   | 1050748823   |  198         |  115325      | 0.0017168871 |  115127      | \n",
       "| P155         |   91431      |  940212904   |  940121473   |  510         |   54187      | 0.0094118516 |   53677      | \n",
       "| P156         |   97391      |  938740046   |  938642655   |  520         |   54136      | 0.0096054382 |   53616      | \n",
       "\n",
       "\n"
      ],
      "text/plain": [
       "   property_id wikidata_page_views page_views non_wikidata_page_views\n",
       "1  P373         160205             6531371917 6531211712             \n",
       "2  P18          217294             5304100266 5303882972             \n",
       "3  P856         137822             5143708396 5143570574             \n",
       "4  P570         196788             3230549347 3230352559             \n",
       "5  P31         1140181             3153325528 3152185347             \n",
       "6  P345         360345             3064724376 3064364031             \n",
       "7  P19          140107             2851053904 2850913797             \n",
       "8  P1559        168314             2571114971 2570946657             \n",
       "9  P166         141820             2545366245 2545224425             \n",
       "10 P20           61667             2497532842 2497471175             \n",
       "11 P569         247705             2412197025 2411949320             \n",
       "12 P27          158169             2342197161 2342038992             \n",
       "13 P106         469781             2267267026 2266797245             \n",
       "14 P136         142007             2176414324 2176272317             \n",
       "15 P1477        107933             2155338581 2155230648             \n",
       "16 P1688          2865             1990985741 1990982876             \n",
       "17 P2002         41099             1865346376 1865305277             \n",
       "18 P1705        101347             1598287470 1598186123             \n",
       "19 P109          45577             1596657126 1596611549             \n",
       "20 P2031         23607             1389214814 1389191207             \n",
       "21 P571         196500             1287164598 1286968098             \n",
       "22 P17          513001             1196731863 1196218862             \n",
       "23 P2047         39951             1050788774 1050748823             \n",
       "24 P155          91431              940212904  940121473             \n",
       "25 P156          97391              938740046  938642655             \n",
       "   wikidata_page_usages page_usages wikidata_average non_wikidata_page_usages\n",
       "1   873                 1331718     0.0006555442     1330845                 \n",
       "2  1207                  764223     0.0015793819      763016                 \n",
       "3   728                 1169632     0.0006224180     1168904                 \n",
       "4   899                  280091     0.0032096711      279192                 \n",
       "5  6965                  280795     0.0248045727      273830                 \n",
       "6   589                  218339     0.0026976399      217750                 \n",
       "7  1284                  431216     0.0029776261      429932                 \n",
       "8   356                  326371     0.0010907832      326015                 \n",
       "9   685                  317367     0.0021583845      316682                 \n",
       "10  456                  350254     0.0013019123      349798                 \n",
       "11 1815                  186015     0.0097572776      184200                 \n",
       "12  639                  323306     0.0019764557      322667                 \n",
       "13 1229                  241340     0.0050924008      240111                 \n",
       "14  664                  148045     0.0044851228      147381                 \n",
       "15  320                  185736     0.0017228755      185416                 \n",
       "16   25                   81811     0.0003055824       81786                 \n",
       "17   56                   35698     0.0015687153       35642                 \n",
       "18  123                  504353     0.0002438768      504230                 \n",
       "19  367                  252415     0.0014539548      252048                 \n",
       "20   97                   84790     0.0011440028       84693                 \n",
       "21  740                  550523     0.0013441764      549783                 \n",
       "22 2438                  671831     0.0036288888      669393                 \n",
       "23  198                  115325     0.0017168871      115127                 \n",
       "24  510                   54187     0.0094118516       53677                 \n",
       "25  520                   54136     0.0096054382       53616                 "
      ]
     },
     "metadata": {},
     "output_type": "display_data"
    }
   ],
   "source": [
    "head(page_frequency_by_property_merged_and_summed_views_sorted_by_page_views, n=25)"
   ]
  },
  {
   "cell_type": "code",
   "execution_count": null,
   "metadata": {
    "collapsed": true
   },
   "outputs": [],
   "source": []
  }
 ],
 "metadata": {
  "anaconda-cloud": {},
  "kernelspec": {
   "display_name": "R [r]",
   "language": "R",
   "name": "R [r]"
  },
  "language_info": {
   "codemirror_mode": "r",
   "file_extension": ".r",
   "mimetype": "text/x-r-source",
   "name": "R",
   "pygments_lexer": "r",
   "version": "3.3.2"
  }
 },
 "nbformat": 4,
 "nbformat_minor": 0
}
