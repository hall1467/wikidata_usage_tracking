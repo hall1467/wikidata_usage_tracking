{
 "cells": [
  {
   "cell_type": "markdown",
   "metadata": {},
   "source": [
    "# Statistics for Entity Project Page Views"
   ]
  },
  {
   "cell_type": "code",
   "execution_count": 1,
   "metadata": {
    "collapsed": false
   },
   "outputs": [
    {
     "name": "stderr",
     "output_type": "stream",
     "text": [
      "\n",
      "Attaching package: ‘dplyr’\n",
      "\n",
      "The following objects are masked from ‘package:stats’:\n",
      "\n",
      "    filter, lag\n",
      "\n",
      "The following objects are masked from ‘package:base’:\n",
      "\n",
      "    intersect, setdiff, setequal, union\n",
      "\n"
     ]
    }
   ],
   "source": [
    "library(dplyr)"
   ]
  },
  {
   "cell_type": "code",
   "execution_count": 2,
   "metadata": {
    "collapsed": true
   },
   "outputs": [],
   "source": [
    "entity_project_page <- read.table(\"../results/entity_project_page_views.tsv\", header=FALSE, sep=\"\\t\")"
   ]
  },
  {
   "cell_type": "code",
   "execution_count": 3,
   "metadata": {
    "collapsed": true
   },
   "outputs": [],
   "source": [
    "entity_views <- read.table(\"../results/entity_views.tsv\", header=FALSE, sep=\"\\t\")"
   ]
  },
  {
   "cell_type": "code",
   "execution_count": 4,
   "metadata": {
    "collapsed": true
   },
   "outputs": [],
   "source": [
    "entity_project_page_views <- entity_project_page"
   ]
  },
  {
   "cell_type": "markdown",
   "metadata": {},
   "source": [
    "## Correlation between Usages and Views"
   ]
  },
  {
   "cell_type": "code",
   "execution_count": 5,
   "metadata": {
    "collapsed": false
   },
   "outputs": [],
   "source": [
    "colnames(entity_project_page_views) <- c('entity_id','project','page_id','page_views')"
   ]
  },
  {
   "cell_type": "code",
   "execution_count": 6,
   "metadata": {
    "collapsed": false
   },
   "outputs": [
    {
     "data": {
      "text/plain": [
       "     entity_id                project            page_id        \n",
       " Q54919   :  2451812   commonswiki:33551149   Min.   :       0  \n",
       " Q423048  :  1968766   ruwiki     :24499918   1st Qu.:  662198  \n",
       " Q2597810 :  1937505   zhwiki     : 8302855   Median : 2578039  \n",
       " Q131454  :  1924192   enwiki     : 7988037   Mean   : 8250467  \n",
       " Q13219454:  1924125   svwiki     : 5961984   3rd Qu.: 6896287  \n",
       " Q36578   :  1917354   frwiki     : 5685580   Max.   :58444341  \n",
       " (Other)  :148679703   (Other)    :74813934                     \n",
       "   page_views       \n",
       " Min.   :0.000e+00  \n",
       " 1st Qu.:5.000e+00  \n",
       " Median :5.700e+01  \n",
       " Mean   :4.160e+03  \n",
       " 3rd Qu.:5.160e+02  \n",
       " Max.   :8.888e+09  \n",
       "                    "
      ]
     },
     "metadata": {},
     "output_type": "display_data"
    }
   ],
   "source": [
    "summary(entity_project_page_views)"
   ]
  },
  {
   "cell_type": "code",
   "execution_count": 7,
   "metadata": {
    "collapsed": false
   },
   "outputs": [],
   "source": [
    "page_frequency_by_entity <- count(entity_project_page_views,entity_id)"
   ]
  },
  {
   "cell_type": "code",
   "execution_count": 8,
   "metadata": {
    "collapsed": true
   },
   "outputs": [],
   "source": [
    "colnames(page_frequency_by_entity) <- c('entity_id','page_usages')"
   ]
  },
  {
   "cell_type": "code",
   "execution_count": 9,
   "metadata": {
    "collapsed": false,
    "scrolled": true
   },
   "outputs": [
    {
     "data": {
      "text/plain": [
       "   entity_id         page_usages       \n",
       " P1     :       1   Min.   :      1.0  \n",
       " P10    :       1   1st Qu.:      1.0  \n",
       " P100   :       1   Median :      1.0  \n",
       " P1000  :       1   Mean   :      7.2  \n",
       " P10000 :       1   3rd Qu.:      3.0  \n",
       " P1001  :       1   Max.   :2451812.0  \n",
       " (Other):22250015                      "
      ]
     },
     "metadata": {},
     "output_type": "display_data"
    }
   ],
   "source": [
    "summary(page_frequency_by_entity)"
   ]
  },
  {
   "cell_type": "code",
   "execution_count": 10,
   "metadata": {
    "collapsed": true
   },
   "outputs": [],
   "source": [
    "colnames(entity_views) <- c('entity_id','page_views')"
   ]
  },
  {
   "cell_type": "code",
   "execution_count": 11,
   "metadata": {
    "collapsed": false
   },
   "outputs": [],
   "source": [
    "entity_views_usage_frequency <- merge(entity_views, page_frequency_by_entity, by = \"entity_id\")"
   ]
  },
  {
   "cell_type": "code",
   "execution_count": 12,
   "metadata": {
    "collapsed": false
   },
   "outputs": [
    {
     "data": {
      "text/plain": [
       "   entity_id          page_views         page_usages       \n",
       " P1     :       1   Min.   :0.000e+00   Min.   :      1.0  \n",
       " P10    :       1   1st Qu.:1.300e+01   1st Qu.:      1.0  \n",
       " P100   :       1   Median :1.360e+02   Median :      1.0  \n",
       " P1000  :       1   Mean   :3.006e+04   Mean   :      7.2  \n",
       " P10000 :       1   3rd Qu.:9.970e+02   3rd Qu.:      3.0  \n",
       " P1001  :       1   Max.   :1.253e+10   Max.   :2451812.0  \n",
       " (Other):22250015                                          "
      ]
     },
     "metadata": {},
     "output_type": "display_data"
    }
   ],
   "source": [
    "summary(entity_views_usage_frequency)"
   ]
  },
  {
   "cell_type": "code",
   "execution_count": 13,
   "metadata": {
    "collapsed": true
   },
   "outputs": [],
   "source": [
    "colnames(entity_views_usage_frequency) <- c('entity_id','page_views','page_usages')"
   ]
  },
  {
   "cell_type": "code",
   "execution_count": 14,
   "metadata": {
    "collapsed": false
   },
   "outputs": [
    {
     "data": {
      "text/html": [
       "<table>\n",
       "<thead><tr><th scope=col>entity_id</th><th scope=col>page_views</th><th scope=col>page_usages</th></tr></thead>\n",
       "<tbody>\n",
       "\t<tr><td>P1     </td><td>   1345</td><td>  11   </td></tr>\n",
       "\t<tr><td>P10    </td><td>  26612</td><td> 424   </td></tr>\n",
       "\t<tr><td>P100   </td><td>   1727</td><td>   9   </td></tr>\n",
       "\t<tr><td>P1000  </td><td>  45259</td><td> 287   </td></tr>\n",
       "\t<tr><td>P10000 </td><td>    331</td><td>   2   </td></tr>\n",
       "\t<tr><td>P1001  </td><td>6911712</td><td>1006   </td></tr>\n",
       "</tbody>\n",
       "</table>\n"
      ],
      "text/latex": [
       "\\begin{tabular}{r|lll}\n",
       " entity\\_id & page\\_views & page\\_usages\\\\\n",
       "\\hline\n",
       "\t P1      &    1345 &   11   \\\\\n",
       "\t P10     &   26612 &  424   \\\\\n",
       "\t P100    &    1727 &    9   \\\\\n",
       "\t P1000   &   45259 &  287   \\\\\n",
       "\t P10000  &     331 &    2   \\\\\n",
       "\t P1001   & 6911712 & 1006   \\\\\n",
       "\\end{tabular}\n"
      ],
      "text/markdown": [
       "\n",
       "entity_id | page_views | page_usages | \n",
       "|---|---|---|---|---|---|\n",
       "| P1      |    1345 |   11    | \n",
       "| P10     |   26612 |  424    | \n",
       "| P100    |    1727 |    9    | \n",
       "| P1000   |   45259 |  287    | \n",
       "| P10000  |     331 |    2    | \n",
       "| P1001   | 6911712 | 1006    | \n",
       "\n",
       "\n"
      ],
      "text/plain": [
       "  entity_id page_views page_usages\n",
       "1 P1           1345      11       \n",
       "2 P10         26612     424       \n",
       "3 P100         1727       9       \n",
       "4 P1000       45259     287       \n",
       "5 P10000        331       2       \n",
       "6 P1001     6911712    1006       "
      ]
     },
     "metadata": {},
     "output_type": "display_data"
    }
   ],
   "source": [
    "head(entity_views_usage_frequency)"
   ]
  },
  {
   "cell_type": "code",
   "execution_count": 15,
   "metadata": {
    "collapsed": false
   },
   "outputs": [
    {
     "data": {
      "text/html": [
       "0.21667257177004"
      ],
      "text/latex": [
       "0.21667257177004"
      ],
      "text/markdown": [
       "0.21667257177004"
      ],
      "text/plain": [
       "[1] 0.2166726"
      ]
     },
     "metadata": {},
     "output_type": "display_data"
    }
   ],
   "source": [
    "cor(entity_views_usage_frequency$page_views,entity_views_usage_frequency$page_usages, method=\"spearman\")"
   ]
  },
  {
   "cell_type": "code",
   "execution_count": 16,
   "metadata": {
    "collapsed": false
   },
   "outputs": [],
   "source": [
    "page_view_and_usage_model <- lm(entity_views_usage_frequency$page_views ~ entity_views_usage_frequency$page_usages)"
   ]
  },
  {
   "cell_type": "code",
   "execution_count": 17,
   "metadata": {
    "collapsed": false
   },
   "outputs": [
    {
     "data": {
      "text/plain": [
       "\n",
       "Call:\n",
       "lm(formula = entity_views_usage_frequency$page_views ~ entity_views_usage_frequency$page_usages)\n",
       "\n",
       "Residuals:\n",
       "       Min         1Q     Median         3Q        Max \n",
       "-3.983e+09 -1.900e+04 -1.688e+04 -1.656e+04  1.253e+10 \n",
       "\n",
       "Coefficients:\n",
       "                                          Estimate Std. Error t value Pr(>|t|)\n",
       "(Intercept)                              14768.502   1189.421   12.42   <2e-16\n",
       "entity_views_usage_frequency$page_usages  2116.537      0.803 2635.88   <2e-16\n",
       "                                            \n",
       "(Intercept)                              ***\n",
       "entity_views_usage_frequency$page_usages ***\n",
       "---\n",
       "Signif. codes:  0 ‘***’ 0.001 ‘**’ 0.01 ‘*’ 0.05 ‘.’ 0.1 ‘ ’ 1\n",
       "\n",
       "Residual standard error: 5610000 on 22250019 degrees of freedom\n",
       "Multiple R-squared:  0.238,\tAdjusted R-squared:  0.238 \n",
       "F-statistic: 6.948e+06 on 1 and 22250019 DF,  p-value: < 2.2e-16\n"
      ]
     },
     "metadata": {},
     "output_type": "display_data"
    }
   ],
   "source": [
    "summary(page_view_and_usage_model)"
   ]
  },
  {
   "cell_type": "code",
   "execution_count": 18,
   "metadata": {
    "collapsed": true
   },
   "outputs": [],
   "source": [
    "entity_view_means <- aggregate(entity_project_page_views$page_views, by=list(entity_project_page_views$entity_id), FUN=mean)"
   ]
  },
  {
   "cell_type": "code",
   "execution_count": 19,
   "metadata": {
    "collapsed": false,
    "scrolled": true
   },
   "outputs": [
    {
     "data": {
      "text/plain": [
       "    Group.1               x           \n",
       " P1     :       1   Min.   :       0  \n",
       " P10    :       1   1st Qu.:       9  \n",
       " P100   :       1   Median :      83  \n",
       " P1000  :       1   Mean   :    1527  \n",
       " P10000 :       1   3rd Qu.:     560  \n",
       " P1001  :       1   Max.   :20441060  \n",
       " (Other):22250015                     "
      ]
     },
     "metadata": {},
     "output_type": "display_data"
    }
   ],
   "source": [
    "summary(entity_view_means)"
   ]
  },
  {
   "cell_type": "code",
   "execution_count": 20,
   "metadata": {
    "collapsed": false
   },
   "outputs": [],
   "source": [
    "colnames(entity_view_means) <- c('entity_id','page_view_mean')"
   ]
  },
  {
   "cell_type": "code",
   "execution_count": 21,
   "metadata": {
    "collapsed": true
   },
   "outputs": [],
   "source": [
    "entity_view_means_and_usages <- merge(page_frequency_by_entity, entity_view_means, by = \"entity_id\")"
   ]
  },
  {
   "cell_type": "code",
   "execution_count": 22,
   "metadata": {
    "collapsed": true
   },
   "outputs": [],
   "source": [
    "rm(page_frequency_by_entity)"
   ]
  },
  {
   "cell_type": "code",
   "execution_count": 23,
   "metadata": {
    "collapsed": true
   },
   "outputs": [],
   "source": [
    "rm(entity_view_means)"
   ]
  },
  {
   "cell_type": "code",
   "execution_count": 24,
   "metadata": {
    "collapsed": false
   },
   "outputs": [
    {
     "data": {
      "text/html": [
       "<table>\n",
       "<thead><tr><th scope=col>entity_id</th><th scope=col>page_usages</th><th scope=col>page_view_mean</th></tr></thead>\n",
       "<tbody>\n",
       "\t<tr><td>P1        </td><td>  11      </td><td> 122.27273</td></tr>\n",
       "\t<tr><td>P10       </td><td> 424      </td><td>  62.76415</td></tr>\n",
       "\t<tr><td>P100      </td><td>   9      </td><td> 191.88889</td></tr>\n",
       "\t<tr><td>P1000     </td><td> 287      </td><td> 157.69686</td></tr>\n",
       "\t<tr><td>P10000    </td><td>   2      </td><td> 165.50000</td></tr>\n",
       "\t<tr><td>P1001     </td><td>1006      </td><td>6870.48907</td></tr>\n",
       "</tbody>\n",
       "</table>\n"
      ],
      "text/latex": [
       "\\begin{tabular}{r|lll}\n",
       " entity\\_id & page\\_usages & page\\_view\\_mean\\\\\n",
       "\\hline\n",
       "\t P1         &   11       &  122.27273\\\\\n",
       "\t P10        &  424       &   62.76415\\\\\n",
       "\t P100       &    9       &  191.88889\\\\\n",
       "\t P1000      &  287       &  157.69686\\\\\n",
       "\t P10000     &    2       &  165.50000\\\\\n",
       "\t P1001      & 1006       & 6870.48907\\\\\n",
       "\\end{tabular}\n"
      ],
      "text/markdown": [
       "\n",
       "entity_id | page_usages | page_view_mean | \n",
       "|---|---|---|---|---|---|\n",
       "| P1         |   11       |  122.27273 | \n",
       "| P10        |  424       |   62.76415 | \n",
       "| P100       |    9       |  191.88889 | \n",
       "| P1000      |  287       |  157.69686 | \n",
       "| P10000     |    2       |  165.50000 | \n",
       "| P1001      | 1006       | 6870.48907 | \n",
       "\n",
       "\n"
      ],
      "text/plain": [
       "  entity_id page_usages page_view_mean\n",
       "1 P1          11         122.27273    \n",
       "2 P10        424          62.76415    \n",
       "3 P100         9         191.88889    \n",
       "4 P1000      287         157.69686    \n",
       "5 P10000       2         165.50000    \n",
       "6 P1001     1006        6870.48907    "
      ]
     },
     "metadata": {},
     "output_type": "display_data"
    }
   ],
   "source": [
    "head(entity_view_means_and_usages)"
   ]
  },
  {
   "cell_type": "code",
   "execution_count": 25,
   "metadata": {
    "collapsed": false
   },
   "outputs": [
    {
     "data": {
      "text/html": [
       "-0.00367723166229254"
      ],
      "text/latex": [
       "-0.00367723166229254"
      ],
      "text/markdown": [
       "-0.00367723166229254"
      ],
      "text/plain": [
       "[1] -0.003677232"
      ]
     },
     "metadata": {},
     "output_type": "display_data"
    }
   ],
   "source": [
    "cor(entity_view_means_and_usages$page_usages,entity_view_means_and_usages$page_view_mean, method=\"spearman\")"
   ]
  },
  {
   "cell_type": "code",
   "execution_count": 26,
   "metadata": {
    "collapsed": true
   },
   "outputs": [],
   "source": [
    "entity_view_means_and_usages_model <- lm(entity_view_means_and_usages$page_usages ~ entity_view_means_and_usages$page_view_mean)"
   ]
  },
  {
   "cell_type": "code",
   "execution_count": 27,
   "metadata": {
    "collapsed": false
   },
   "outputs": [
    {
     "data": {
      "text/plain": [
       "\n",
       "Call:\n",
       "lm(formula = entity_view_means_and_usages$page_usages ~ entity_view_means_and_usages$page_view_mean)\n",
       "\n",
       "Residuals:\n",
       "    Min      1Q  Median      3Q     Max \n",
       "  -2585      -6      -6      -4 2451805 \n",
       "\n",
       "Coefficients:\n",
       "                                             Estimate Std. Error t value\n",
       "(Intercept)                                 6.989e+00  3.170e-01  22.045\n",
       "entity_view_means_and_usages$page_view_mean 1.561e-04  2.844e-05   5.488\n",
       "                                            Pr(>|t|)    \n",
       "(Intercept)                                  < 2e-16 ***\n",
       "entity_view_means_and_usages$page_view_mean 4.06e-08 ***\n",
       "---\n",
       "Signif. codes:  0 ‘***’ 0.001 ‘**’ 0.01 ‘*’ 0.05 ‘.’ 0.1 ‘ ’ 1\n",
       "\n",
       "Residual standard error: 1481 on 22250019 degrees of freedom\n",
       "Multiple R-squared:  1.354e-06,\tAdjusted R-squared:  1.309e-06 \n",
       "F-statistic: 30.12 on 1 and 22250019 DF,  p-value: 4.06e-08\n"
      ]
     },
     "metadata": {},
     "output_type": "display_data"
    }
   ],
   "source": [
    "summary(entity_view_means_and_usages_model)"
   ]
  },
  {
   "cell_type": "markdown",
   "metadata": {
    "collapsed": true
   },
   "source": [
    "### Sorted by highest view means"
   ]
  },
  {
   "cell_type": "code",
   "execution_count": 28,
   "metadata": {
    "collapsed": true
   },
   "outputs": [],
   "source": [
    "sorted_by_highest_view_means <- dplyr::arrange(entity_view_means_and_usages, desc(page_view_mean))"
   ]
  },
  {
   "cell_type": "code",
   "execution_count": 29,
   "metadata": {
    "collapsed": false
   },
   "outputs": [
    {
     "data": {
      "text/html": [
       "<table>\n",
       "<thead><tr><th scope=col>entity_id</th><th scope=col>page_usages</th><th scope=col>page_view_mean</th></tr></thead>\n",
       "<tbody>\n",
       "\t<tr><td>Q5296    </td><td>613      </td><td>20441060 </td></tr>\n",
       "\t<tr><td>Q4652632 </td><td>  5      </td><td> 8667144 </td></tr>\n",
       "\t<tr><td>Q8042151 </td><td>  5      </td><td> 8018726 </td></tr>\n",
       "\t<tr><td>Q22713189</td><td>  1      </td><td> 4983678 </td></tr>\n",
       "\t<tr><td>Q26769076</td><td>  2      </td><td> 4659126 </td></tr>\n",
       "\t<tr><td>Q25136249</td><td>  3      </td><td> 4328533 </td></tr>\n",
       "\t<tr><td>Q5589097 </td><td>  1      </td><td> 4306323 </td></tr>\n",
       "\t<tr><td>Q25999140</td><td>  2      </td><td> 3983256 </td></tr>\n",
       "\t<tr><td>Q3546230 </td><td>  1      </td><td> 3974205 </td></tr>\n",
       "\t<tr><td>Q26832572</td><td>  1      </td><td> 3847138 </td></tr>\n",
       "</tbody>\n",
       "</table>\n"
      ],
      "text/latex": [
       "\\begin{tabular}{r|lll}\n",
       " entity\\_id & page\\_usages & page\\_view\\_mean\\\\\n",
       "\\hline\n",
       "\t Q5296     & 613       & 20441060 \\\\\n",
       "\t Q4652632  &   5       &  8667144 \\\\\n",
       "\t Q8042151  &   5       &  8018726 \\\\\n",
       "\t Q22713189 &   1       &  4983678 \\\\\n",
       "\t Q26769076 &   2       &  4659126 \\\\\n",
       "\t Q25136249 &   3       &  4328533 \\\\\n",
       "\t Q5589097  &   1       &  4306323 \\\\\n",
       "\t Q25999140 &   2       &  3983256 \\\\\n",
       "\t Q3546230  &   1       &  3974205 \\\\\n",
       "\t Q26832572 &   1       &  3847138 \\\\\n",
       "\\end{tabular}\n"
      ],
      "text/markdown": [
       "\n",
       "entity_id | page_usages | page_view_mean | \n",
       "|---|---|---|---|---|---|---|---|---|---|\n",
       "| Q5296     | 613       | 20441060  | \n",
       "| Q4652632  |   5       |  8667144  | \n",
       "| Q8042151  |   5       |  8018726  | \n",
       "| Q22713189 |   1       |  4983678  | \n",
       "| Q26769076 |   2       |  4659126  | \n",
       "| Q25136249 |   3       |  4328533  | \n",
       "| Q5589097  |   1       |  4306323  | \n",
       "| Q25999140 |   2       |  3983256  | \n",
       "| Q3546230  |   1       |  3974205  | \n",
       "| Q26832572 |   1       |  3847138  | \n",
       "\n",
       "\n"
      ],
      "text/plain": [
       "   entity_id page_usages page_view_mean\n",
       "1  Q5296     613         20441060      \n",
       "2  Q4652632    5          8667144      \n",
       "3  Q8042151    5          8018726      \n",
       "4  Q22713189   1          4983678      \n",
       "5  Q26769076   2          4659126      \n",
       "6  Q25136249   3          4328533      \n",
       "7  Q5589097    1          4306323      \n",
       "8  Q25999140   2          3983256      \n",
       "9  Q3546230    1          3974205      \n",
       "10 Q26832572   1          3847138      "
      ]
     },
     "metadata": {},
     "output_type": "display_data"
    }
   ],
   "source": [
    "head(sorted_by_highest_view_means, n=10)"
   ]
  },
  {
   "cell_type": "markdown",
   "metadata": {},
   "source": [
    "### Sorted by lowest view means"
   ]
  },
  {
   "cell_type": "code",
   "execution_count": 30,
   "metadata": {
    "collapsed": true
   },
   "outputs": [],
   "source": [
    "view_means_of_zero <-filter(entity_view_means_and_usages, page_view_mean == 0)"
   ]
  },
  {
   "cell_type": "code",
   "execution_count": 31,
   "metadata": {
    "collapsed": true
   },
   "outputs": [],
   "source": [
    "view_means_of_zero_sorted_by_page_usages <- dplyr::arrange(view_means_of_zero, desc(page_usages))"
   ]
  },
  {
   "cell_type": "code",
   "execution_count": 32,
   "metadata": {
    "collapsed": false
   },
   "outputs": [
    {
     "data": {
      "text/html": [
       "<table>\n",
       "<thead><tr><th scope=col>entity_id</th><th scope=col>page_usages</th><th scope=col>page_view_mean</th></tr></thead>\n",
       "<tbody>\n",
       "\t<tr><td>Q14334317</td><td>6        </td><td>0        </td></tr>\n",
       "\t<tr><td>Q14960107</td><td>6        </td><td>0        </td></tr>\n",
       "\t<tr><td>Q14963100</td><td>6        </td><td>0        </td></tr>\n",
       "\t<tr><td>Q14964406</td><td>6        </td><td>0        </td></tr>\n",
       "\t<tr><td>Q14967290</td><td>6        </td><td>0        </td></tr>\n",
       "\t<tr><td>Q14967382</td><td>6        </td><td>0        </td></tr>\n",
       "\t<tr><td>Q14969075</td><td>6        </td><td>0        </td></tr>\n",
       "\t<tr><td>Q14970322</td><td>6        </td><td>0        </td></tr>\n",
       "\t<tr><td>Q14970334</td><td>6        </td><td>0        </td></tr>\n",
       "\t<tr><td>Q14970538</td><td>6        </td><td>0        </td></tr>\n",
       "</tbody>\n",
       "</table>\n"
      ],
      "text/latex": [
       "\\begin{tabular}{r|lll}\n",
       " entity\\_id & page\\_usages & page\\_view\\_mean\\\\\n",
       "\\hline\n",
       "\t Q14334317 & 6         & 0        \\\\\n",
       "\t Q14960107 & 6         & 0        \\\\\n",
       "\t Q14963100 & 6         & 0        \\\\\n",
       "\t Q14964406 & 6         & 0        \\\\\n",
       "\t Q14967290 & 6         & 0        \\\\\n",
       "\t Q14967382 & 6         & 0        \\\\\n",
       "\t Q14969075 & 6         & 0        \\\\\n",
       "\t Q14970322 & 6         & 0        \\\\\n",
       "\t Q14970334 & 6         & 0        \\\\\n",
       "\t Q14970538 & 6         & 0        \\\\\n",
       "\\end{tabular}\n"
      ],
      "text/markdown": [
       "\n",
       "entity_id | page_usages | page_view_mean | \n",
       "|---|---|---|---|---|---|---|---|---|---|\n",
       "| Q14334317 | 6         | 0         | \n",
       "| Q14960107 | 6         | 0         | \n",
       "| Q14963100 | 6         | 0         | \n",
       "| Q14964406 | 6         | 0         | \n",
       "| Q14967290 | 6         | 0         | \n",
       "| Q14967382 | 6         | 0         | \n",
       "| Q14969075 | 6         | 0         | \n",
       "| Q14970322 | 6         | 0         | \n",
       "| Q14970334 | 6         | 0         | \n",
       "| Q14970538 | 6         | 0         | \n",
       "\n",
       "\n"
      ],
      "text/plain": [
       "   entity_id page_usages page_view_mean\n",
       "1  Q14334317 6           0             \n",
       "2  Q14960107 6           0             \n",
       "3  Q14963100 6           0             \n",
       "4  Q14964406 6           0             \n",
       "5  Q14967290 6           0             \n",
       "6  Q14967382 6           0             \n",
       "7  Q14969075 6           0             \n",
       "8  Q14970322 6           0             \n",
       "9  Q14970334 6           0             \n",
       "10 Q14970538 6           0             "
      ]
     },
     "metadata": {},
     "output_type": "display_data"
    }
   ],
   "source": [
    "head(view_means_of_zero_sorted_by_page_usages, n=10)"
   ]
  },
  {
   "cell_type": "markdown",
   "metadata": {},
   "source": [
    "## Entities used once versus more than once "
   ]
  },
  {
   "cell_type": "code",
   "execution_count": 33,
   "metadata": {
    "collapsed": true
   },
   "outputs": [],
   "source": [
    "used_once <- filter(entity_view_means_and_usages, page_usages == 1 ) "
   ]
  },
  {
   "cell_type": "code",
   "execution_count": 34,
   "metadata": {
    "collapsed": true
   },
   "outputs": [],
   "source": [
    "used_more_than_once <- filter(entity_view_means_and_usages, page_usages > 0 ) "
   ]
  },
  {
   "cell_type": "code",
   "execution_count": 35,
   "metadata": {
    "collapsed": false,
    "scrolled": true
   },
   "outputs": [
    {
     "data": {
      "text/html": [
       "1348.70934476564"
      ],
      "text/latex": [
       "1348.70934476564"
      ],
      "text/markdown": [
       "1348.70934476564"
      ],
      "text/plain": [
       "[1] 1348.709"
      ]
     },
     "metadata": {},
     "output_type": "display_data"
    }
   ],
   "source": [
    "mean(used_once$page_view_mean)"
   ]
  },
  {
   "cell_type": "code",
   "execution_count": 36,
   "metadata": {
    "collapsed": false
   },
   "outputs": [
    {
     "data": {
      "text/html": [
       "1527.05339518629"
      ],
      "text/latex": [
       "1527.05339518629"
      ],
      "text/markdown": [
       "1527.05339518629"
      ],
      "text/plain": [
       "[1] 1527.053"
      ]
     },
     "metadata": {},
     "output_type": "display_data"
    }
   ],
   "source": [
    "mean(used_more_than_once$page_view_mean)"
   ]
  },
  {
   "cell_type": "code",
   "execution_count": null,
   "metadata": {
    "collapsed": true
   },
   "outputs": [],
   "source": []
  }
 ],
 "metadata": {
  "anaconda-cloud": {},
  "kernelspec": {
   "display_name": "R [r]",
   "language": "R",
   "name": "R [r]"
  },
  "language_info": {
   "codemirror_mode": "r",
   "file_extension": ".r",
   "mimetype": "text/x-r-source",
   "name": "R",
   "pygments_lexer": "r",
   "version": "3.3.2"
  }
 },
 "nbformat": 4,
 "nbformat_minor": 0
}
