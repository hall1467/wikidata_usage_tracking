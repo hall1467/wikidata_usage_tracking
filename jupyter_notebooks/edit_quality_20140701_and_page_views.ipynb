{
 "cells": [
  {
   "cell_type": "code",
   "execution_count": 1,
   "metadata": {
    "collapsed": false,
    "scrolled": true
   },
   "outputs": [
    {
     "name": "stderr",
     "output_type": "stream",
     "text": [
      "\n",
      "Attaching package: ‘dplyr’\n",
      "\n",
      "The following objects are masked from ‘package:stats’:\n",
      "\n",
      "    filter, lag\n",
      "\n",
      "The following objects are masked from ‘package:base’:\n",
      "\n",
      "    intersect, setdiff, setequal, union\n",
      "\n"
     ]
    }
   ],
   "source": [
    "library(dplyr)"
   ]
  },
  {
   "cell_type": "code",
   "execution_count": 2,
   "metadata": {
    "collapsed": false
   },
   "outputs": [],
   "source": [
    "quality_prediction_and_page_views <- read.table(\"../results/sql_queries/entity_views_and_aggregated_revisions/entity_views_and_aggregated_revisions_and_quality_scoring_prediction_converted_20140701.tsv\", header=FALSE, sep=\"\\t\")"
   ]
  },
  {
   "cell_type": "code",
   "execution_count": 3,
   "metadata": {
    "collapsed": false
   },
   "outputs": [],
   "source": [
    "colnames(quality_prediction_and_page_views) <- c('entity_id','number_of_revisions', 'page_views', 'prediction', 'ordinal_score')"
   ]
  },
  {
   "cell_type": "code",
   "execution_count": 4,
   "metadata": {
    "collapsed": false
   },
   "outputs": [
    {
     "data": {
      "text/html": [
       "<table>\n",
       "<thead><tr><th scope=col>entity_id</th><th scope=col>number_of_revisions</th><th scope=col>page_views</th><th scope=col>prediction</th><th scope=col>ordinal_score</th></tr></thead>\n",
       "<tbody>\n",
       "\t<tr><td>Q1000999 </td><td>33       </td><td>736      </td><td>E        </td><td>1        </td></tr>\n",
       "\t<tr><td>Q10015364</td><td>11       </td><td>  1      </td><td>E        </td><td>1        </td></tr>\n",
       "\t<tr><td>Q10018576</td><td> 9       </td><td> 21      </td><td>E        </td><td>1        </td></tr>\n",
       "\t<tr><td>Q10020348</td><td>24       </td><td> 11      </td><td>E        </td><td>1        </td></tr>\n",
       "\t<tr><td>Q10020832</td><td>11       </td><td> 12      </td><td>E        </td><td>1        </td></tr>\n",
       "\t<tr><td>Q10028220</td><td>13       </td><td>  6      </td><td>E        </td><td>1        </td></tr>\n",
       "</tbody>\n",
       "</table>\n"
      ],
      "text/latex": [
       "\\begin{tabular}{r|lllll}\n",
       " entity\\_id & number\\_of\\_revisions & page\\_views & prediction & ordinal\\_score\\\\\n",
       "\\hline\n",
       "\t Q1000999  & 33        & 736       & E         & 1        \\\\\n",
       "\t Q10015364 & 11        &   1       & E         & 1        \\\\\n",
       "\t Q10018576 &  9        &  21       & E         & 1        \\\\\n",
       "\t Q10020348 & 24        &  11       & E         & 1        \\\\\n",
       "\t Q10020832 & 11        &  12       & E         & 1        \\\\\n",
       "\t Q10028220 & 13        &   6       & E         & 1        \\\\\n",
       "\\end{tabular}\n"
      ],
      "text/markdown": [
       "\n",
       "entity_id | number_of_revisions | page_views | prediction | ordinal_score | \n",
       "|---|---|---|---|---|---|\n",
       "| Q1000999  | 33        | 736       | E         | 1         | \n",
       "| Q10015364 | 11        |   1       | E         | 1         | \n",
       "| Q10018576 |  9        |  21       | E         | 1         | \n",
       "| Q10020348 | 24        |  11       | E         | 1         | \n",
       "| Q10020832 | 11        |  12       | E         | 1         | \n",
       "| Q10028220 | 13        |   6       | E         | 1         | \n",
       "\n",
       "\n"
      ],
      "text/plain": [
       "  entity_id number_of_revisions page_views prediction ordinal_score\n",
       "1 Q1000999  33                  736        E          1            \n",
       "2 Q10015364 11                    1        E          1            \n",
       "3 Q10018576  9                   21        E          1            \n",
       "4 Q10020348 24                   11        E          1            \n",
       "5 Q10020832 11                   12        E          1            \n",
       "6 Q10028220 13                    6        E          1            "
      ]
     },
     "metadata": {},
     "output_type": "display_data"
    }
   ],
   "source": [
    "head(quality_prediction_and_page_views)"
   ]
  },
  {
   "cell_type": "code",
   "execution_count": 5,
   "metadata": {
    "collapsed": false
   },
   "outputs": [
    {
     "data": {
      "text/html": [
       "0.168980299425223"
      ],
      "text/latex": [
       "0.168980299425223"
      ],
      "text/markdown": [
       "0.168980299425223"
      ],
      "text/plain": [
       "[1] 0.1689803"
      ]
     },
     "metadata": {},
     "output_type": "display_data"
    }
   ],
   "source": [
    "cor(quality_prediction_and_page_views$page_views,quality_prediction_and_page_views$ordinal_score, method=\"spearman\")"
   ]
  },
  {
   "cell_type": "code",
   "execution_count": 6,
   "metadata": {
    "collapsed": false
   },
   "outputs": [],
   "source": [
    "quality_prediction_and_page_views_model <- lm(quality_prediction_and_page_views$page_views ~ quality_prediction_and_page_views$ordinal_score)"
   ]
  },
  {
   "cell_type": "code",
   "execution_count": 7,
   "metadata": {
    "collapsed": false
   },
   "outputs": [
    {
     "data": {
      "text/plain": [
       "\n",
       "Call:\n",
       "lm(formula = quality_prediction_and_page_views$page_views ~ quality_prediction_and_page_views$ordinal_score)\n",
       "\n",
       "Residuals:\n",
       "       Min         1Q     Median         3Q        Max \n",
       "-3.936e+05 -5.303e+03 -5.201e+03 -4.388e+03  1.253e+10 \n",
       "\n",
       "Coefficients:\n",
       "                                                Estimate Std. Error t value\n",
       "(Intercept)                                       -92988       4024  -23.11\n",
       "quality_prediction_and_page_views$ordinal_score    98295       2818   34.89\n",
       "                                                Pr(>|t|)    \n",
       "(Intercept)                                       <2e-16 ***\n",
       "quality_prediction_and_page_views$ordinal_score   <2e-16 ***\n",
       "---\n",
       "Signif. codes:  0 ‘***’ 0.001 ‘**’ 0.01 ‘*’ 0.05 ‘.’ 0.1 ‘ ’ 1\n",
       "\n",
       "Residual standard error: 6646000 on 14863161 degrees of freedom\n",
       "Multiple R-squared:  8.188e-05,\tAdjusted R-squared:  8.181e-05 \n",
       "F-statistic:  1217 on 1 and 14863161 DF,  p-value: < 2.2e-16\n"
      ]
     },
     "metadata": {},
     "output_type": "display_data"
    }
   ],
   "source": [
    "summary(quality_prediction_and_page_views_model)"
   ]
  },
  {
   "cell_type": "markdown",
   "metadata": {
    "collapsed": true
   },
   "source": [
    "## Class A Items with Least Pages Views"
   ]
  },
  {
   "cell_type": "code",
   "execution_count": 8,
   "metadata": {
    "collapsed": false
   },
   "outputs": [],
   "source": [
    "class_a_quality_prediction_and_page_views <- filter(quality_prediction_and_page_views, prediction==\"A\")"
   ]
  },
  {
   "cell_type": "code",
   "execution_count": 9,
   "metadata": {
    "collapsed": false
   },
   "outputs": [],
   "source": [
    "sorted_ascend_class_a_quality_prediction_and_page_views <- dplyr::arrange(class_a_quality_prediction_and_page_views, page_views)"
   ]
  },
  {
   "cell_type": "code",
   "execution_count": 10,
   "metadata": {
    "collapsed": false
   },
   "outputs": [
    {
     "data": {
      "text/html": [
       "<table>\n",
       "<thead><tr><th scope=col>entity_id</th><th scope=col>number_of_revisions</th><th scope=col>page_views</th><th scope=col>prediction</th><th scope=col>ordinal_score</th></tr></thead>\n",
       "<tbody>\n",
       "\t<tr><td>Q50039  </td><td> 324    </td><td>   4934 </td><td>A       </td><td>5       </td></tr>\n",
       "\t<tr><td>Q3577919</td><td> 265    </td><td>   6444 </td><td>A       </td><td>5       </td></tr>\n",
       "\t<tr><td>Q3152321</td><td> 687    </td><td>  77136 </td><td>A       </td><td>5       </td></tr>\n",
       "\t<tr><td>Q273461 </td><td>1176    </td><td> 241736 </td><td>A       </td><td>5       </td></tr>\n",
       "\t<tr><td>Q42     </td><td>1227    </td><td>1526156 </td><td>A       </td><td>5       </td></tr>\n",
       "\t<tr><td>Q2513   </td><td> 375    </td><td>2480599 </td><td>A       </td><td>5       </td></tr>\n",
       "\t<tr><td>Q7416   </td><td> 467    </td><td>6327804 </td><td>A       </td><td>5       </td></tr>\n",
       "\t<tr><td>Q991    </td><td> 710    </td><td>6707373 </td><td>A       </td><td>5       </td></tr>\n",
       "\t<tr><td>Q5592   </td><td> 661    </td><td>7190367 </td><td>A       </td><td>5       </td></tr>\n",
       "\t<tr><td>Q153    </td><td> 604    </td><td>7390506 </td><td>A       </td><td>5       </td></tr>\n",
       "</tbody>\n",
       "</table>\n"
      ],
      "text/latex": [
       "\\begin{tabular}{r|lllll}\n",
       " entity\\_id & number\\_of\\_revisions & page\\_views & prediction & ordinal\\_score\\\\\n",
       "\\hline\n",
       "\t Q50039   &  324     &    4934  & A        & 5       \\\\\n",
       "\t Q3577919 &  265     &    6444  & A        & 5       \\\\\n",
       "\t Q3152321 &  687     &   77136  & A        & 5       \\\\\n",
       "\t Q273461  & 1176     &  241736  & A        & 5       \\\\\n",
       "\t Q42      & 1227     & 1526156  & A        & 5       \\\\\n",
       "\t Q2513    &  375     & 2480599  & A        & 5       \\\\\n",
       "\t Q7416    &  467     & 6327804  & A        & 5       \\\\\n",
       "\t Q991     &  710     & 6707373  & A        & 5       \\\\\n",
       "\t Q5592    &  661     & 7190367  & A        & 5       \\\\\n",
       "\t Q153     &  604     & 7390506  & A        & 5       \\\\\n",
       "\\end{tabular}\n"
      ],
      "text/markdown": [
       "\n",
       "entity_id | number_of_revisions | page_views | prediction | ordinal_score | \n",
       "|---|---|---|---|---|---|---|---|---|---|\n",
       "| Q50039   |  324     |    4934  | A        | 5        | \n",
       "| Q3577919 |  265     |    6444  | A        | 5        | \n",
       "| Q3152321 |  687     |   77136  | A        | 5        | \n",
       "| Q273461  | 1176     |  241736  | A        | 5        | \n",
       "| Q42      | 1227     | 1526156  | A        | 5        | \n",
       "| Q2513    |  375     | 2480599  | A        | 5        | \n",
       "| Q7416    |  467     | 6327804  | A        | 5        | \n",
       "| Q991     |  710     | 6707373  | A        | 5        | \n",
       "| Q5592    |  661     | 7190367  | A        | 5        | \n",
       "| Q153     |  604     | 7390506  | A        | 5        | \n",
       "\n",
       "\n"
      ],
      "text/plain": [
       "   entity_id number_of_revisions page_views prediction ordinal_score\n",
       "1  Q50039     324                   4934    A          5            \n",
       "2  Q3577919   265                   6444    A          5            \n",
       "3  Q3152321   687                  77136    A          5            \n",
       "4  Q273461   1176                 241736    A          5            \n",
       "5  Q42       1227                1526156    A          5            \n",
       "6  Q2513      375                2480599    A          5            \n",
       "7  Q7416      467                6327804    A          5            \n",
       "8  Q991       710                6707373    A          5            \n",
       "9  Q5592      661                7190367    A          5            \n",
       "10 Q153       604                7390506    A          5            "
      ]
     },
     "metadata": {},
     "output_type": "display_data"
    }
   ],
   "source": [
    "head(sorted_ascend_class_a_quality_prediction_and_page_views, n=10)"
   ]
  },
  {
   "cell_type": "markdown",
   "metadata": {},
   "source": [
    "## Class E Items with Most Pages Views"
   ]
  },
  {
   "cell_type": "code",
   "execution_count": null,
   "metadata": {
    "collapsed": true
   },
   "outputs": [],
   "source": []
  },
  {
   "cell_type": "code",
   "execution_count": 11,
   "metadata": {
    "collapsed": false
   },
   "outputs": [],
   "source": [
    "class_e_quality_prediction_and_page_views <- filter(quality_prediction_and_page_views, prediction==\"E\")"
   ]
  },
  {
   "cell_type": "code",
   "execution_count": 12,
   "metadata": {
    "collapsed": false
   },
   "outputs": [],
   "source": [
    "sorted_desc_class_e_quality_prediction_and_page_views <- dplyr::arrange(class_e_quality_prediction_and_page_views, desc(page_views))"
   ]
  },
  {
   "cell_type": "code",
   "execution_count": 13,
   "metadata": {
    "collapsed": false
   },
   "outputs": [
    {
     "data": {
      "text/html": [
       "<table>\n",
       "<thead><tr><th scope=col>entity_id</th><th scope=col>number_of_revisions</th><th scope=col>page_views</th><th scope=col>prediction</th><th scope=col>ordinal_score</th></tr></thead>\n",
       "<tbody>\n",
       "\t<tr><td>Q1868372  </td><td>45        </td><td>2056080224</td><td>E         </td><td>1         </td></tr>\n",
       "\t<tr><td>Q156376   </td><td>83        </td><td>2046132338</td><td>E         </td><td>1         </td></tr>\n",
       "\t<tr><td>Q183718   </td><td>64        </td><td>2045831558</td><td>E         </td><td>1         </td></tr>\n",
       "\t<tr><td>Q2638147  </td><td>25        </td><td>2045739408</td><td>E         </td><td>1         </td></tr>\n",
       "\t<tr><td>Q7315186  </td><td>34        </td><td>2045708263</td><td>E         </td><td>1         </td></tr>\n",
       "\t<tr><td>Q219523   </td><td>73        </td><td>2045690113</td><td>E         </td><td>1         </td></tr>\n",
       "\t<tr><td>Q1002972  </td><td>30        </td><td>2045659200</td><td>E         </td><td>1         </td></tr>\n",
       "\t<tr><td>Q372827   </td><td>36        </td><td>2045652543</td><td>E         </td><td>1         </td></tr>\n",
       "\t<tr><td>Q4299858  </td><td>22        </td><td>2045645431</td><td>E         </td><td>1         </td></tr>\n",
       "\t<tr><td>Q6883832  </td><td>25        </td><td>2045602031</td><td>E         </td><td>1         </td></tr>\n",
       "</tbody>\n",
       "</table>\n"
      ],
      "text/latex": [
       "\\begin{tabular}{r|lllll}\n",
       " entity\\_id & number\\_of\\_revisions & page\\_views & prediction & ordinal\\_score\\\\\n",
       "\\hline\n",
       "\t Q1868372   & 45         & 2056080224 & E          & 1         \\\\\n",
       "\t Q156376    & 83         & 2046132338 & E          & 1         \\\\\n",
       "\t Q183718    & 64         & 2045831558 & E          & 1         \\\\\n",
       "\t Q2638147   & 25         & 2045739408 & E          & 1         \\\\\n",
       "\t Q7315186   & 34         & 2045708263 & E          & 1         \\\\\n",
       "\t Q219523    & 73         & 2045690113 & E          & 1         \\\\\n",
       "\t Q1002972   & 30         & 2045659200 & E          & 1         \\\\\n",
       "\t Q372827    & 36         & 2045652543 & E          & 1         \\\\\n",
       "\t Q4299858   & 22         & 2045645431 & E          & 1         \\\\\n",
       "\t Q6883832   & 25         & 2045602031 & E          & 1         \\\\\n",
       "\\end{tabular}\n"
      ],
      "text/markdown": [
       "\n",
       "entity_id | number_of_revisions | page_views | prediction | ordinal_score | \n",
       "|---|---|---|---|---|---|---|---|---|---|\n",
       "| Q1868372   | 45         | 2056080224 | E          | 1          | \n",
       "| Q156376    | 83         | 2046132338 | E          | 1          | \n",
       "| Q183718    | 64         | 2045831558 | E          | 1          | \n",
       "| Q2638147   | 25         | 2045739408 | E          | 1          | \n",
       "| Q7315186   | 34         | 2045708263 | E          | 1          | \n",
       "| Q219523    | 73         | 2045690113 | E          | 1          | \n",
       "| Q1002972   | 30         | 2045659200 | E          | 1          | \n",
       "| Q372827    | 36         | 2045652543 | E          | 1          | \n",
       "| Q4299858   | 22         | 2045645431 | E          | 1          | \n",
       "| Q6883832   | 25         | 2045602031 | E          | 1          | \n",
       "\n",
       "\n"
      ],
      "text/plain": [
       "   entity_id number_of_revisions page_views prediction ordinal_score\n",
       "1  Q1868372  45                  2056080224 E          1            \n",
       "2  Q156376   83                  2046132338 E          1            \n",
       "3  Q183718   64                  2045831558 E          1            \n",
       "4  Q2638147  25                  2045739408 E          1            \n",
       "5  Q7315186  34                  2045708263 E          1            \n",
       "6  Q219523   73                  2045690113 E          1            \n",
       "7  Q1002972  30                  2045659200 E          1            \n",
       "8  Q372827   36                  2045652543 E          1            \n",
       "9  Q4299858  22                  2045645431 E          1            \n",
       "10 Q6883832  25                  2045602031 E          1            "
      ]
     },
     "metadata": {},
     "output_type": "display_data"
    }
   ],
   "source": [
    "head(sorted_desc_class_e_quality_prediction_and_page_views, n=10)"
   ]
  },
  {
   "cell_type": "code",
   "execution_count": 14,
   "metadata": {
    "collapsed": false
   },
   "outputs": [
    {
     "data": {
      "text/html": [
       "11775438"
      ],
      "text/latex": [
       "11775438"
      ],
      "text/markdown": [
       "11775438"
      ],
      "text/plain": [
       "[1] 11775438"
      ]
     },
     "metadata": {},
     "output_type": "display_data"
    }
   ],
   "source": [
    "nrow(class_e_quality_prediction_and_page_views)"
   ]
  },
  {
   "cell_type": "code",
   "execution_count": 15,
   "metadata": {
    "collapsed": false
   },
   "outputs": [
    {
     "data": {
      "text/html": [
       "1880999"
      ],
      "text/latex": [
       "1880999"
      ],
      "text/markdown": [
       "1880999"
      ],
      "text/plain": [
       "[1] 1880999"
      ]
     },
     "metadata": {},
     "output_type": "display_data"
    }
   ],
   "source": [
    "nrow(filter(quality_prediction_and_page_views, prediction==\"D\"))"
   ]
  },
  {
   "cell_type": "code",
   "execution_count": 16,
   "metadata": {
    "collapsed": false
   },
   "outputs": [
    {
     "data": {
      "text/html": [
       "1184954"
      ],
      "text/latex": [
       "1184954"
      ],
      "text/markdown": [
       "1184954"
      ],
      "text/plain": [
       "[1] 1184954"
      ]
     },
     "metadata": {},
     "output_type": "display_data"
    }
   ],
   "source": [
    "nrow(filter(quality_prediction_and_page_views, prediction==\"C\"))"
   ]
  },
  {
   "cell_type": "code",
   "execution_count": 17,
   "metadata": {
    "collapsed": false
   },
   "outputs": [
    {
     "data": {
      "text/html": [
       "21735"
      ],
      "text/latex": [
       "21735"
      ],
      "text/markdown": [
       "21735"
      ],
      "text/plain": [
       "[1] 21735"
      ]
     },
     "metadata": {},
     "output_type": "display_data"
    }
   ],
   "source": [
    "nrow(filter(quality_prediction_and_page_views, prediction==\"B\"))"
   ]
  },
  {
   "cell_type": "code",
   "execution_count": 18,
   "metadata": {
    "collapsed": false
   },
   "outputs": [
    {
     "data": {
      "text/html": [
       "37"
      ],
      "text/latex": [
       "37"
      ],
      "text/markdown": [
       "37"
      ],
      "text/plain": [
       "[1] 37"
      ]
     },
     "metadata": {},
     "output_type": "display_data"
    }
   ],
   "source": [
    "nrow(filter(quality_prediction_and_page_views, prediction==\"A\"))"
   ]
  },
  {
   "cell_type": "code",
   "execution_count": null,
   "metadata": {
    "collapsed": true
   },
   "outputs": [],
   "source": []
  }
 ],
 "metadata": {
  "anaconda-cloud": {},
  "kernelspec": {
   "display_name": "R [r]",
   "language": "R",
   "name": "R [r]"
  },
  "language_info": {
   "codemirror_mode": "r",
   "file_extension": ".r",
   "mimetype": "text/x-r-source",
   "name": "R",
   "pygments_lexer": "r",
   "version": "3.3.2"
  }
 },
 "nbformat": 4,
 "nbformat_minor": 0
}
