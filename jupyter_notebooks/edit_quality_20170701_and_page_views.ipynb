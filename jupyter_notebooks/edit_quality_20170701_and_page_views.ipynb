{
 "cells": [
  {
   "cell_type": "code",
   "execution_count": 2,
   "metadata": {
    "collapsed": false,
    "scrolled": true
   },
   "outputs": [
    {
     "name": "stderr",
     "output_type": "stream",
     "text": [
      "\n",
      "Attaching package: ‘dplyr’\n",
      "\n",
      "The following objects are masked from ‘package:stats’:\n",
      "\n",
      "    filter, lag\n",
      "\n",
      "The following objects are masked from ‘package:base’:\n",
      "\n",
      "    intersect, setdiff, setequal, union\n",
      "\n"
     ]
    }
   ],
   "source": [
    "library(dplyr)"
   ]
  },
  {
   "cell_type": "code",
   "execution_count": 3,
   "metadata": {
    "collapsed": false
   },
   "outputs": [],
   "source": [
    "quality_prediction_and_page_views <- read.table(\"../results/sql_queries/entity_views_and_aggregated_revisions/entity_views_and_aggregated_revisions_and_quality_scoring_prediction_converted_20170701.tsv\", header=FALSE, sep=\"\\t\")"
   ]
  },
  {
   "cell_type": "code",
   "execution_count": 4,
   "metadata": {
    "collapsed": false
   },
   "outputs": [],
   "source": [
    "colnames(quality_prediction_and_page_views) <- c('entity_id','number_of_revisions', 'page_views', 'prediction', 'ordinal_score')"
   ]
  },
  {
   "cell_type": "code",
   "execution_count": 5,
   "metadata": {
    "collapsed": false
   },
   "outputs": [
    {
     "data": {
      "text/html": [
       "<table>\n",
       "<thead><tr><th scope=col>entity_id</th><th scope=col>number_of_revisions</th><th scope=col>page_views</th><th scope=col>prediction</th><th scope=col>ordinal_score</th></tr></thead>\n",
       "<tbody>\n",
       "\t<tr><td>Q1000999 </td><td>33       </td><td>736      </td><td>C        </td><td>3        </td></tr>\n",
       "\t<tr><td>Q10015364</td><td>11       </td><td>  1      </td><td>E        </td><td>1        </td></tr>\n",
       "\t<tr><td>Q10018576</td><td> 9       </td><td> 21      </td><td>E        </td><td>1        </td></tr>\n",
       "\t<tr><td>Q10020348</td><td>24       </td><td> 11      </td><td>E        </td><td>1        </td></tr>\n",
       "\t<tr><td>Q10020832</td><td>11       </td><td> 12      </td><td>E        </td><td>1        </td></tr>\n",
       "\t<tr><td>Q10028220</td><td>13       </td><td>  6      </td><td>E        </td><td>1        </td></tr>\n",
       "</tbody>\n",
       "</table>\n"
      ],
      "text/latex": [
       "\\begin{tabular}{r|lllll}\n",
       " entity\\_id & number\\_of\\_revisions & page\\_views & prediction & ordinal\\_score\\\\\n",
       "\\hline\n",
       "\t Q1000999  & 33        & 736       & C         & 3        \\\\\n",
       "\t Q10015364 & 11        &   1       & E         & 1        \\\\\n",
       "\t Q10018576 &  9        &  21       & E         & 1        \\\\\n",
       "\t Q10020348 & 24        &  11       & E         & 1        \\\\\n",
       "\t Q10020832 & 11        &  12       & E         & 1        \\\\\n",
       "\t Q10028220 & 13        &   6       & E         & 1        \\\\\n",
       "\\end{tabular}\n"
      ],
      "text/markdown": [
       "\n",
       "entity_id | number_of_revisions | page_views | prediction | ordinal_score | \n",
       "|---|---|---|---|---|---|\n",
       "| Q1000999  | 33        | 736       | C         | 3         | \n",
       "| Q10015364 | 11        |   1       | E         | 1         | \n",
       "| Q10018576 |  9        |  21       | E         | 1         | \n",
       "| Q10020348 | 24        |  11       | E         | 1         | \n",
       "| Q10020832 | 11        |  12       | E         | 1         | \n",
       "| Q10028220 | 13        |   6       | E         | 1         | \n",
       "\n",
       "\n"
      ],
      "text/plain": [
       "  entity_id number_of_revisions page_views prediction ordinal_score\n",
       "1 Q1000999  33                  736        C          3            \n",
       "2 Q10015364 11                    1        E          1            \n",
       "3 Q10018576  9                   21        E          1            \n",
       "4 Q10020348 24                   11        E          1            \n",
       "5 Q10020832 11                   12        E          1            \n",
       "6 Q10028220 13                    6        E          1            "
      ]
     },
     "metadata": {},
     "output_type": "display_data"
    }
   ],
   "source": [
    "head(quality_prediction_and_page_views)"
   ]
  },
  {
   "cell_type": "code",
   "execution_count": 6,
   "metadata": {
    "collapsed": false
   },
   "outputs": [
    {
     "data": {
      "text/html": [
       "0.138832780574458"
      ],
      "text/latex": [
       "0.138832780574458"
      ],
      "text/markdown": [
       "0.138832780574458"
      ],
      "text/plain": [
       "[1] 0.1388328"
      ]
     },
     "metadata": {},
     "output_type": "display_data"
    }
   ],
   "source": [
    "cor(quality_prediction_and_page_views$page_views,quality_prediction_and_page_views$ordinal_score, method=\"spearman\")"
   ]
  },
  {
   "cell_type": "code",
   "execution_count": 7,
   "metadata": {
    "collapsed": false
   },
   "outputs": [],
   "source": [
    "quality_prediction_and_page_views_model <- lm(quality_prediction_and_page_views$page_views ~ quality_prediction_and_page_views$ordinal_score)"
   ]
  },
  {
   "cell_type": "code",
   "execution_count": 8,
   "metadata": {
    "collapsed": false
   },
   "outputs": [
    {
     "data": {
      "text/plain": [
       "\n",
       "Call:\n",
       "lm(formula = quality_prediction_and_page_views$page_views ~ quality_prediction_and_page_views$ordinal_score)\n",
       "\n",
       "Residuals:\n",
       "       Min         1Q     Median         3Q        Max \n",
       "-1.313e+05 -3.261e+04  8.080e+02  9.490e+02  1.253e+10 \n",
       "\n",
       "Coefficients:\n",
       "                                                Estimate Std. Error t value\n",
       "(Intercept)                                       -34220       2606  -13.13\n",
       "quality_prediction_and_page_views$ordinal_score    33414       1318   25.36\n",
       "                                                Pr(>|t|)    \n",
       "(Intercept)                                       <2e-16 ***\n",
       "quality_prediction_and_page_views$ordinal_score   <2e-16 ***\n",
       "---\n",
       "Signif. codes:  0 ‘***’ 0.001 ‘**’ 0.01 ‘*’ 0.05 ‘.’ 0.1 ‘ ’ 1\n",
       "\n",
       "Residual standard error: 5582000 on 22151121 degrees of freedom\n",
       "Multiple R-squared:  2.902e-05,\tAdjusted R-squared:  2.898e-05 \n",
       "F-statistic: 642.9 on 1 and 22151121 DF,  p-value: < 2.2e-16\n"
      ]
     },
     "metadata": {},
     "output_type": "display_data"
    }
   ],
   "source": [
    "summary(quality_prediction_and_page_views_model)"
   ]
  },
  {
   "cell_type": "markdown",
   "metadata": {
    "collapsed": true
   },
   "source": [
    "## Class A Items with Least Pages Views"
   ]
  },
  {
   "cell_type": "code",
   "execution_count": 9,
   "metadata": {
    "collapsed": false
   },
   "outputs": [],
   "source": [
    "class_a_quality_prediction_and_page_views <- filter(quality_prediction_and_page_views, prediction==\"A\")"
   ]
  },
  {
   "cell_type": "code",
   "execution_count": 10,
   "metadata": {
    "collapsed": false
   },
   "outputs": [],
   "source": [
    "sorted_ascend_class_a_quality_prediction_and_page_views <- dplyr::arrange(class_a_quality_prediction_and_page_views, page_views)"
   ]
  },
  {
   "cell_type": "code",
   "execution_count": 11,
   "metadata": {
    "collapsed": false
   },
   "outputs": [
    {
     "data": {
      "text/html": [
       "<table>\n",
       "<thead><tr><th scope=col>entity_id</th><th scope=col>number_of_revisions</th><th scope=col>page_views</th><th scope=col>prediction</th><th scope=col>ordinal_score</th></tr></thead>\n",
       "<tbody>\n",
       "\t<tr><td>Q8210649</td><td> 82     </td><td>1549    </td><td>A       </td><td>5       </td></tr>\n",
       "\t<tr><td>Q708515 </td><td> 99     </td><td>2365    </td><td>A       </td><td>5       </td></tr>\n",
       "\t<tr><td>Q2914608</td><td> 96     </td><td>2680    </td><td>A       </td><td>5       </td></tr>\n",
       "\t<tr><td>Q1366473</td><td>119     </td><td>2732    </td><td>A       </td><td>5       </td></tr>\n",
       "\t<tr><td>Q158881 </td><td>102     </td><td>2783    </td><td>A       </td><td>5       </td></tr>\n",
       "\t<tr><td>Q732221 </td><td> 93     </td><td>3505    </td><td>A       </td><td>5       </td></tr>\n",
       "\t<tr><td>Q895898 </td><td>126     </td><td>3577    </td><td>A       </td><td>5       </td></tr>\n",
       "\t<tr><td>Q159145 </td><td> 93     </td><td>3644    </td><td>A       </td><td>5       </td></tr>\n",
       "\t<tr><td>Q63782  </td><td> 93     </td><td>3791    </td><td>A       </td><td>5       </td></tr>\n",
       "\t<tr><td>Q3273285</td><td> 91     </td><td>3817    </td><td>A       </td><td>5       </td></tr>\n",
       "</tbody>\n",
       "</table>\n"
      ],
      "text/latex": [
       "\\begin{tabular}{r|lllll}\n",
       " entity\\_id & number\\_of\\_revisions & page\\_views & prediction & ordinal\\_score\\\\\n",
       "\\hline\n",
       "\t Q8210649 &  82      & 1549     & A        & 5       \\\\\n",
       "\t Q708515  &  99      & 2365     & A        & 5       \\\\\n",
       "\t Q2914608 &  96      & 2680     & A        & 5       \\\\\n",
       "\t Q1366473 & 119      & 2732     & A        & 5       \\\\\n",
       "\t Q158881  & 102      & 2783     & A        & 5       \\\\\n",
       "\t Q732221  &  93      & 3505     & A        & 5       \\\\\n",
       "\t Q895898  & 126      & 3577     & A        & 5       \\\\\n",
       "\t Q159145  &  93      & 3644     & A        & 5       \\\\\n",
       "\t Q63782   &  93      & 3791     & A        & 5       \\\\\n",
       "\t Q3273285 &  91      & 3817     & A        & 5       \\\\\n",
       "\\end{tabular}\n"
      ],
      "text/markdown": [
       "\n",
       "entity_id | number_of_revisions | page_views | prediction | ordinal_score | \n",
       "|---|---|---|---|---|---|---|---|---|---|\n",
       "| Q8210649 |  82      | 1549     | A        | 5        | \n",
       "| Q708515  |  99      | 2365     | A        | 5        | \n",
       "| Q2914608 |  96      | 2680     | A        | 5        | \n",
       "| Q1366473 | 119      | 2732     | A        | 5        | \n",
       "| Q158881  | 102      | 2783     | A        | 5        | \n",
       "| Q732221  |  93      | 3505     | A        | 5        | \n",
       "| Q895898  | 126      | 3577     | A        | 5        | \n",
       "| Q159145  |  93      | 3644     | A        | 5        | \n",
       "| Q63782   |  93      | 3791     | A        | 5        | \n",
       "| Q3273285 |  91      | 3817     | A        | 5        | \n",
       "\n",
       "\n"
      ],
      "text/plain": [
       "   entity_id number_of_revisions page_views prediction ordinal_score\n",
       "1  Q8210649   82                 1549       A          5            \n",
       "2  Q708515    99                 2365       A          5            \n",
       "3  Q2914608   96                 2680       A          5            \n",
       "4  Q1366473  119                 2732       A          5            \n",
       "5  Q158881   102                 2783       A          5            \n",
       "6  Q732221    93                 3505       A          5            \n",
       "7  Q895898   126                 3577       A          5            \n",
       "8  Q159145    93                 3644       A          5            \n",
       "9  Q63782     93                 3791       A          5            \n",
       "10 Q3273285   91                 3817       A          5            "
      ]
     },
     "metadata": {},
     "output_type": "display_data"
    }
   ],
   "source": [
    "head(sorted_ascend_class_a_quality_prediction_and_page_views, n=10)"
   ]
  },
  {
   "cell_type": "markdown",
   "metadata": {},
   "source": [
    "## Class E Items with Most Pages Views"
   ]
  },
  {
   "cell_type": "code",
   "execution_count": null,
   "metadata": {
    "collapsed": true
   },
   "outputs": [],
   "source": []
  },
  {
   "cell_type": "code",
   "execution_count": 12,
   "metadata": {
    "collapsed": false
   },
   "outputs": [],
   "source": [
    "class_e_quality_prediction_and_page_views <- filter(quality_prediction_and_page_views, prediction==\"E\")"
   ]
  },
  {
   "cell_type": "code",
   "execution_count": 13,
   "metadata": {
    "collapsed": false
   },
   "outputs": [],
   "source": [
    "sorted_desc_class_e_quality_prediction_and_page_views <- dplyr::arrange(class_e_quality_prediction_and_page_views, desc(page_views))"
   ]
  },
  {
   "cell_type": "code",
   "execution_count": 14,
   "metadata": {
    "collapsed": false
   },
   "outputs": [
    {
     "data": {
      "text/html": [
       "<table>\n",
       "<thead><tr><th scope=col>entity_id</th><th scope=col>number_of_revisions</th><th scope=col>page_views</th><th scope=col>prediction</th><th scope=col>ordinal_score</th></tr></thead>\n",
       "<tbody>\n",
       "\t<tr><td>Q6883832  </td><td>25        </td><td>2045602031</td><td>E         </td><td>1         </td></tr>\n",
       "\t<tr><td>Q4043051  </td><td>32        </td><td>2045595548</td><td>E         </td><td>1         </td></tr>\n",
       "\t<tr><td>Q4442644  </td><td> 9        </td><td>2045584646</td><td>E         </td><td>1         </td></tr>\n",
       "\t<tr><td>Q4299813  </td><td>13        </td><td>2045575479</td><td>E         </td><td>1         </td></tr>\n",
       "\t<tr><td>Q4380129  </td><td>15        </td><td>2045574094</td><td>E         </td><td>1         </td></tr>\n",
       "\t<tr><td>Q18241050 </td><td> 6        </td><td>2045553487</td><td>E         </td><td>1         </td></tr>\n",
       "\t<tr><td>Q19902884 </td><td>32        </td><td>1141733962</td><td>E         </td><td>1         </td></tr>\n",
       "\t<tr><td>Q22302160 </td><td>16        </td><td>1139176637</td><td>E         </td><td>1         </td></tr>\n",
       "\t<tr><td>Q6007395  </td><td>12        </td><td> 225642217</td><td>E         </td><td>1         </td></tr>\n",
       "\t<tr><td>Q23312670 </td><td> 4        </td><td> 106919685</td><td>E         </td><td>1         </td></tr>\n",
       "</tbody>\n",
       "</table>\n"
      ],
      "text/latex": [
       "\\begin{tabular}{r|lllll}\n",
       " entity\\_id & number\\_of\\_revisions & page\\_views & prediction & ordinal\\_score\\\\\n",
       "\\hline\n",
       "\t Q6883832   & 25         & 2045602031 & E          & 1         \\\\\n",
       "\t Q4043051   & 32         & 2045595548 & E          & 1         \\\\\n",
       "\t Q4442644   &  9         & 2045584646 & E          & 1         \\\\\n",
       "\t Q4299813   & 13         & 2045575479 & E          & 1         \\\\\n",
       "\t Q4380129   & 15         & 2045574094 & E          & 1         \\\\\n",
       "\t Q18241050  &  6         & 2045553487 & E          & 1         \\\\\n",
       "\t Q19902884  & 32         & 1141733962 & E          & 1         \\\\\n",
       "\t Q22302160  & 16         & 1139176637 & E          & 1         \\\\\n",
       "\t Q6007395   & 12         &  225642217 & E          & 1         \\\\\n",
       "\t Q23312670  &  4         &  106919685 & E          & 1         \\\\\n",
       "\\end{tabular}\n"
      ],
      "text/markdown": [
       "\n",
       "entity_id | number_of_revisions | page_views | prediction | ordinal_score | \n",
       "|---|---|---|---|---|---|---|---|---|---|\n",
       "| Q6883832   | 25         | 2045602031 | E          | 1          | \n",
       "| Q4043051   | 32         | 2045595548 | E          | 1          | \n",
       "| Q4442644   |  9         | 2045584646 | E          | 1          | \n",
       "| Q4299813   | 13         | 2045575479 | E          | 1          | \n",
       "| Q4380129   | 15         | 2045574094 | E          | 1          | \n",
       "| Q18241050  |  6         | 2045553487 | E          | 1          | \n",
       "| Q19902884  | 32         | 1141733962 | E          | 1          | \n",
       "| Q22302160  | 16         | 1139176637 | E          | 1          | \n",
       "| Q6007395   | 12         |  225642217 | E          | 1          | \n",
       "| Q23312670  |  4         |  106919685 | E          | 1          | \n",
       "\n",
       "\n"
      ],
      "text/plain": [
       "   entity_id number_of_revisions page_views prediction ordinal_score\n",
       "1  Q6883832  25                  2045602031 E          1            \n",
       "2  Q4043051  32                  2045595548 E          1            \n",
       "3  Q4442644   9                  2045584646 E          1            \n",
       "4  Q4299813  13                  2045575479 E          1            \n",
       "5  Q4380129  15                  2045574094 E          1            \n",
       "6  Q18241050  6                  2045553487 E          1            \n",
       "7  Q19902884 32                  1141733962 E          1            \n",
       "8  Q22302160 16                  1139176637 E          1            \n",
       "9  Q6007395  12                   225642217 E          1            \n",
       "10 Q23312670  4                   106919685 E          1            "
      ]
     },
     "metadata": {},
     "output_type": "display_data"
    }
   ],
   "source": [
    "head(sorted_desc_class_e_quality_prediction_and_page_views, n=10)"
   ]
  },
  {
   "cell_type": "code",
   "execution_count": 15,
   "metadata": {
    "collapsed": false
   },
   "outputs": [
    {
     "data": {
      "text/html": [
       "11743883"
      ],
      "text/latex": [
       "11743883"
      ],
      "text/markdown": [
       "11743883"
      ],
      "text/plain": [
       "[1] 11743883"
      ]
     },
     "metadata": {},
     "output_type": "display_data"
    }
   ],
   "source": [
    "nrow(class_e_quality_prediction_and_page_views)"
   ]
  },
  {
   "cell_type": "code",
   "execution_count": 16,
   "metadata": {
    "collapsed": false
   },
   "outputs": [
    {
     "data": {
      "text/html": [
       "4472790"
      ],
      "text/latex": [
       "4472790"
      ],
      "text/markdown": [
       "4472790"
      ],
      "text/plain": [
       "[1] 4472790"
      ]
     },
     "metadata": {},
     "output_type": "display_data"
    }
   ],
   "source": [
    "nrow(filter(quality_prediction_and_page_views, prediction==\"D\"))"
   ]
  },
  {
   "cell_type": "code",
   "execution_count": 17,
   "metadata": {
    "collapsed": false
   },
   "outputs": [
    {
     "data": {
      "text/html": [
       "5429662"
      ],
      "text/latex": [
       "5429662"
      ],
      "text/markdown": [
       "5429662"
      ],
      "text/plain": [
       "[1] 5429662"
      ]
     },
     "metadata": {},
     "output_type": "display_data"
    }
   ],
   "source": [
    "nrow(filter(quality_prediction_and_page_views, prediction==\"C\"))"
   ]
  },
  {
   "cell_type": "code",
   "execution_count": 18,
   "metadata": {
    "collapsed": false
   },
   "outputs": [
    {
     "data": {
      "text/html": [
       "500819"
      ],
      "text/latex": [
       "500819"
      ],
      "text/markdown": [
       "500819"
      ],
      "text/plain": [
       "[1] 500819"
      ]
     },
     "metadata": {},
     "output_type": "display_data"
    }
   ],
   "source": [
    "nrow(filter(quality_prediction_and_page_views, prediction==\"B\"))"
   ]
  },
  {
   "cell_type": "code",
   "execution_count": 19,
   "metadata": {
    "collapsed": false
   },
   "outputs": [
    {
     "data": {
      "text/html": [
       "3969"
      ],
      "text/latex": [
       "3969"
      ],
      "text/markdown": [
       "3969"
      ],
      "text/plain": [
       "[1] 3969"
      ]
     },
     "metadata": {},
     "output_type": "display_data"
    }
   ],
   "source": [
    "nrow(filter(quality_prediction_and_page_views, prediction==\"A\"))"
   ]
  },
  {
   "cell_type": "code",
   "execution_count": 20,
   "metadata": {
    "collapsed": false
   },
   "outputs": [
    {
     "data": {
      "text/html": [
       "0.735876791230356"
      ],
      "text/latex": [
       "0.735876791230356"
      ],
      "text/markdown": [
       "0.735876791230356"
      ],
      "text/plain": [
       "[1] 0.7358768"
      ]
     },
     "metadata": {},
     "output_type": "display_data"
    }
   ],
   "source": [
    "# Correlation between quality and number of revisions\n",
    "\n",
    "cor(quality_prediction_and_page_views$number_of_revisions,quality_prediction_and_page_views$ordinal_score, method=\"spearman\")"
   ]
  },
  {
   "cell_type": "code",
   "execution_count": 21,
   "metadata": {
    "collapsed": false
   },
   "outputs": [],
   "source": [
    "quality_prediction_and_number_of_revisions_model <- lm(quality_prediction_and_page_views$number_of_revisions ~ quality_prediction_and_page_views$ordinal_score)"
   ]
  },
  {
   "cell_type": "code",
   "execution_count": 22,
   "metadata": {
    "collapsed": false
   },
   "outputs": [
    {
     "data": {
      "text/plain": [
       "\n",
       "Call:\n",
       "lm(formula = quality_prediction_and_page_views$number_of_revisions ~ \n",
       "    quality_prediction_and_page_views$ordinal_score)\n",
       "\n",
       "Residuals:\n",
       "    Min      1Q  Median      3Q     Max \n",
       "  -50.2    -6.3    -2.5     4.5 21841.5 \n",
       "\n",
       "Coefficients:\n",
       "                                                 Estimate Std. Error t value\n",
       "(Intercept)                                     -8.263949   0.008064   -1025\n",
       "quality_prediction_and_page_views$ordinal_score 14.860422   0.004078    3644\n",
       "                                                Pr(>|t|)    \n",
       "(Intercept)                                       <2e-16 ***\n",
       "quality_prediction_and_page_views$ordinal_score   <2e-16 ***\n",
       "---\n",
       "Signif. codes:  0 ‘***’ 0.001 ‘**’ 0.01 ‘*’ 0.05 ‘.’ 0.1 ‘ ’ 1\n",
       "\n",
       "Residual standard error: 17.27 on 22151121 degrees of freedom\n",
       "Multiple R-squared:  0.3748,\tAdjusted R-squared:  0.3748 \n",
       "F-statistic: 1.328e+07 on 1 and 22151121 DF,  p-value: < 2.2e-16\n"
      ]
     },
     "metadata": {},
     "output_type": "display_data"
    }
   ],
   "source": [
    "summary(quality_prediction_and_number_of_revisions_model)"
   ]
  }
 ],
 "metadata": {
  "anaconda-cloud": {},
  "kernelspec": {
   "display_name": "R [r]",
   "language": "R",
   "name": "R [r]"
  },
  "language_info": {
   "codemirror_mode": "r",
   "file_extension": ".r",
   "mimetype": "text/x-r-source",
   "name": "R",
   "pygments_lexer": "r",
   "version": "3.3.2"
  }
 },
 "nbformat": 4,
 "nbformat_minor": 0
}
