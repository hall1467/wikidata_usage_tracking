{
 "cells": [
  {
   "cell_type": "code",
   "execution_count": 1,
   "metadata": {
    "collapsed": true
   },
   "outputs": [],
   "source": [
    "library(data.table)"
   ]
  },
  {
   "cell_type": "code",
   "execution_count": 2,
   "metadata": {
    "collapsed": false,
    "scrolled": true
   },
   "outputs": [],
   "source": [
    "library(ggplot2)"
   ]
  },
  {
   "cell_type": "code",
   "execution_count": 3,
   "metadata": {
    "collapsed": true
   },
   "outputs": [],
   "source": [
    "i = 1:55"
   ]
  },
  {
   "cell_type": "code",
   "execution_count": 4,
   "metadata": {
    "collapsed": true
   },
   "outputs": [],
   "source": [
    "n = 55"
   ]
  },
  {
   "cell_type": "markdown",
   "metadata": {},
   "source": [
    "# Hypothesis 1"
   ]
  },
  {
   "cell_type": "code",
   "execution_count": 5,
   "metadata": {
    "collapsed": false
   },
   "outputs": [],
   "source": [
    "entity_edits_and_misalignment_hypothesis_1 <- read.table(\"../../../results/entity_categorization/hypothesis_1.tsv\", header=TRUE, sep=\"\\t\")"
   ]
  },
  {
   "cell_type": "code",
   "execution_count": 6,
   "metadata": {
    "collapsed": false
   },
   "outputs": [],
   "source": [
    "entity_edits_and_misalignment_hypothesis_1 <- data.table(entity_edits_and_misalignment_hypothesis_1)"
   ]
  },
  {
   "cell_type": "code",
   "execution_count": 7,
   "metadata": {
    "collapsed": false
   },
   "outputs": [
    {
     "data": {
      "text/plain": [
       "   file_date      misaligned_bot_edits misaligned_semi_automated_edits\n",
       " Min.   :201211   Min.   :       14    Min.   :      0                \n",
       " 1st Qu.:201379   1st Qu.: 20182186    1st Qu.:  48618                \n",
       " Median :201502   Median : 64803256    Median :  86236                \n",
       " Mean   :201474   Mean   : 56596780    Mean   :1707310                \n",
       " 3rd Qu.:201604   3rd Qu.: 87711870    3rd Qu.:1410480                \n",
       " Max.   :201706   Max.   :108827703    Max.   :9818368                \n",
       " misaligned_non_bot_edits misaligned_anon_edits aligned_bot_edits \n",
       " Min.   :   29761         Min.   :    80        Min.   :     659  \n",
       " 1st Qu.: 2852764         1st Qu.: 78362        1st Qu.:46599929  \n",
       " Median : 8294521         Median :115674        Median :49892103  \n",
       " Mean   : 8160646         Mean   : 97202        Mean   :44972212  \n",
       " 3rd Qu.:13453100         3rd Qu.:124596        3rd Qu.:54805652  \n",
       " Max.   :17299276         Max.   :146177        Max.   :61373079  \n",
       " aligned_semi_automated_edits aligned_non_bot_edits aligned_anon_edits\n",
       " Min.   :      0              Min.   : 192611       Min.   :   358    \n",
       " 1st Qu.:  21355              1st Qu.:2135222       1st Qu.: 67110    \n",
       " Median :  41308              Median :7254205       Median : 75072    \n",
       " Mean   :1283877              Mean   :5713213       Mean   : 69109    \n",
       " 3rd Qu.:2220929              3rd Qu.:8769063       3rd Qu.: 81074    \n",
       " Max.   :7170079              Max.   :9278559       Max.   :106114    "
      ]
     },
     "metadata": {},
     "output_type": "display_data"
    }
   ],
   "source": [
    "summary(entity_edits_and_misalignment_hypothesis_1)"
   ]
  },
  {
   "cell_type": "code",
   "execution_count": 8,
   "metadata": {
    "collapsed": true
   },
   "outputs": [],
   "source": [
    "# Remove last entry since edit data from last month is only for (part of?) first day\n",
    "sorted_entity_edits_and_misalignment_hypothesis_1 <- dplyr::arrange(entity_edits_and_misalignment_hypothesis_1, file_date)[1:55,]"
   ]
  },
  {
   "cell_type": "code",
   "execution_count": 9,
   "metadata": {
    "collapsed": false,
    "scrolled": true
   },
   "outputs": [
    {
     "data": {
      "text/html": [
       "<table>\n",
       "<thead><tr><th scope=col>file_date</th><th scope=col>misaligned_bot_edits</th><th scope=col>misaligned_semi_automated_edits</th><th scope=col>misaligned_non_bot_edits</th><th scope=col>misaligned_anon_edits</th><th scope=col>aligned_bot_edits</th><th scope=col>aligned_semi_automated_edits</th><th scope=col>aligned_non_bot_edits</th><th scope=col>aligned_anon_edits</th></tr></thead>\n",
       "<tbody>\n",
       "\t<tr><td>201211  </td><td>     14 </td><td>    0   </td><td> 29761  </td><td>  80    </td><td>     659</td><td>    0   </td><td>192611  </td><td>  358   </td></tr>\n",
       "\t<tr><td>201212  </td><td>   3858 </td><td>17008   </td><td>177019  </td><td> 964    </td><td>  165578</td><td>10849   </td><td>204287  </td><td> 1894   </td></tr>\n",
       "\t<tr><td>201301  </td><td> 165717 </td><td>30952   </td><td>215493  </td><td>1395    </td><td> 1859019</td><td>19610   </td><td>318293  </td><td> 3374   </td></tr>\n",
       "\t<tr><td>201302  </td><td> 435901 </td><td>36192   </td><td>297242  </td><td>2137    </td><td> 3743399</td><td>21588   </td><td>405059  </td><td> 4520   </td></tr>\n",
       "\t<tr><td>201303  </td><td> 698671 </td><td>39736   </td><td>423950  </td><td>3407    </td><td> 5636283</td><td>22996   </td><td>546782  </td><td> 7851   </td></tr>\n",
       "\t<tr><td>201304  </td><td>2005176 </td><td>39645   </td><td>610425  </td><td>8503    </td><td>11749258</td><td>20469   </td><td>733087  </td><td>16009   </td></tr>\n",
       "</tbody>\n",
       "</table>\n"
      ],
      "text/latex": [
       "\\begin{tabular}{r|lllllllll}\n",
       " file\\_date & misaligned\\_bot\\_edits & misaligned\\_semi\\_automated\\_edits & misaligned\\_non\\_bot\\_edits & misaligned\\_anon\\_edits & aligned\\_bot\\_edits & aligned\\_semi\\_automated\\_edits & aligned\\_non\\_bot\\_edits & aligned\\_anon\\_edits\\\\\n",
       "\\hline\n",
       "\t 201211   &      14  &     0    &  29761   &   80     &      659 &     0    & 192611   &   358   \\\\\n",
       "\t 201212   &    3858  & 17008    & 177019   &  964     &   165578 & 10849    & 204287   &  1894   \\\\\n",
       "\t 201301   &  165717  & 30952    & 215493   & 1395     &  1859019 & 19610    & 318293   &  3374   \\\\\n",
       "\t 201302   &  435901  & 36192    & 297242   & 2137     &  3743399 & 21588    & 405059   &  4520   \\\\\n",
       "\t 201303   &  698671  & 39736    & 423950   & 3407     &  5636283 & 22996    & 546782   &  7851   \\\\\n",
       "\t 201304   & 2005176  & 39645    & 610425   & 8503     & 11749258 & 20469    & 733087   & 16009   \\\\\n",
       "\\end{tabular}\n"
      ],
      "text/markdown": [
       "\n",
       "file_date | misaligned_bot_edits | misaligned_semi_automated_edits | misaligned_non_bot_edits | misaligned_anon_edits | aligned_bot_edits | aligned_semi_automated_edits | aligned_non_bot_edits | aligned_anon_edits | \n",
       "|---|---|---|---|---|---|\n",
       "| 201211   |      14  |     0    |  29761   |   80     |      659 |     0    | 192611   |   358    | \n",
       "| 201212   |    3858  | 17008    | 177019   |  964     |   165578 | 10849    | 204287   |  1894    | \n",
       "| 201301   |  165717  | 30952    | 215493   | 1395     |  1859019 | 19610    | 318293   |  3374    | \n",
       "| 201302   |  435901  | 36192    | 297242   | 2137     |  3743399 | 21588    | 405059   |  4520    | \n",
       "| 201303   |  698671  | 39736    | 423950   | 3407     |  5636283 | 22996    | 546782   |  7851    | \n",
       "| 201304   | 2005176  | 39645    | 610425   | 8503     | 11749258 | 20469    | 733087   | 16009    | \n",
       "\n",
       "\n"
      ],
      "text/plain": [
       "  file_date misaligned_bot_edits misaligned_semi_automated_edits\n",
       "1 201211         14                  0                          \n",
       "2 201212       3858              17008                          \n",
       "3 201301     165717              30952                          \n",
       "4 201302     435901              36192                          \n",
       "5 201303     698671              39736                          \n",
       "6 201304    2005176              39645                          \n",
       "  misaligned_non_bot_edits misaligned_anon_edits aligned_bot_edits\n",
       "1  29761                     80                       659         \n",
       "2 177019                    964                    165578         \n",
       "3 215493                   1395                   1859019         \n",
       "4 297242                   2137                   3743399         \n",
       "5 423950                   3407                   5636283         \n",
       "6 610425                   8503                  11749258         \n",
       "  aligned_semi_automated_edits aligned_non_bot_edits aligned_anon_edits\n",
       "1     0                        192611                  358             \n",
       "2 10849                        204287                 1894             \n",
       "3 19610                        318293                 3374             \n",
       "4 21588                        405059                 4520             \n",
       "5 22996                        546782                 7851             \n",
       "6 20469                        733087                16009             "
      ]
     },
     "metadata": {},
     "output_type": "display_data"
    }
   ],
   "source": [
    "head(sorted_entity_edits_and_misalignment_hypothesis_1)"
   ]
  },
  {
   "cell_type": "code",
   "execution_count": 10,
   "metadata": {
    "collapsed": false
   },
   "outputs": [],
   "source": [
    "misaligned_automated_edits = data.table(i = i, n = n)"
   ]
  },
  {
   "cell_type": "code",
   "execution_count": 11,
   "metadata": {
    "collapsed": false
   },
   "outputs": [],
   "source": [
    "attach(sorted_entity_edits_and_misalignment_hypothesis_1)"
   ]
  },
  {
   "cell_type": "code",
   "execution_count": 12,
   "metadata": {
    "collapsed": false
   },
   "outputs": [],
   "source": [
    "misaligned_automated_edits$p <- ((misaligned_bot_edits + misaligned_semi_automated_edits)/(misaligned_bot_edits + misaligned_semi_automated_edits + misaligned_non_bot_edits + misaligned_anon_edits))"
   ]
  },
  {
   "cell_type": "code",
   "execution_count": 13,
   "metadata": {
    "collapsed": true
   },
   "outputs": [],
   "source": [
    "detach(sorted_entity_edits_and_misalignment_hypothesis_1)"
   ]
  },
  {
   "cell_type": "code",
   "execution_count": 15,
   "metadata": {
    "collapsed": false
   },
   "outputs": [],
   "source": [
    "misaligned_automated_edits$se = sqrt((misaligned_automated_edits$p*(1-misaligned_automated_edits$p))/n)"
   ]
  },
  {
   "cell_type": "code",
   "execution_count": 16,
   "metadata": {
    "collapsed": false
   },
   "outputs": [],
   "source": [
    "aligned_automated_edits = data.table(i = i, n = n)"
   ]
  },
  {
   "cell_type": "code",
   "execution_count": null,
   "metadata": {
    "collapsed": true
   },
   "outputs": [],
   "source": [
    "attach(sorted_entity_edits_and_misalignment_hypothesis_1)"
   ]
  },
  {
   "cell_type": "code",
   "execution_count": null,
   "metadata": {
    "collapsed": false
   },
   "outputs": [],
   "source": [
    "misaligned_automated_edits$p <- ((aligned_bot_edits + aligned_semi_automated_edits)/(aligned_bot_edits + aligned_semi_automated_edits + aligned_non_bot_edits + aligned_anon_edits))"
   ]
  },
  {
   "cell_type": "code",
   "execution_count": null,
   "metadata": {
    "collapsed": true
   },
   "outputs": [],
   "source": [
    "detach(sorted_entity_edits_and_misalignment_hypothesis_1)"
   ]
  },
  {
   "cell_type": "code",
   "execution_count": null,
   "metadata": {
    "collapsed": false
   },
   "outputs": [],
   "source": [
    "aligned_automated_edits$se = sqrt((p*(1-p))/n)"
   ]
  },
  {
   "cell_type": "code",
   "execution_count": null,
   "metadata": {
    "collapsed": false
   },
   "outputs": [],
   "source": [
    "misaligned_automated_edits$group = \"misaligned_automated\"\n",
    "aligned_automated_edits$group = \"aligned_automated\""
   ]
  },
  {
   "cell_type": "code",
   "execution_count": null,
   "metadata": {
    "collapsed": false
   },
   "outputs": [],
   "source": [
    "grouped_hypothesis_1.dt = rbind(misaligned_automated_edits, aligned_automated_edits)"
   ]
  },
  {
   "cell_type": "code",
   "execution_count": null,
   "metadata": {
    "collapsed": true
   },
   "outputs": [],
   "source": [
    "grouped_hypothesis_1.dt$group = factor(grouped_hypothesis_1.dt$group)"
   ]
  },
  {
   "cell_type": "code",
   "execution_count": null,
   "metadata": {
    "collapsed": false
   },
   "outputs": [],
   "source": [
    "#remove\n",
    "head(grouped_hypothesis_1.dt)"
   ]
  },
  {
   "cell_type": "code",
   "execution_count": null,
   "metadata": {
    "collapsed": false
   },
   "outputs": [],
   "source": [
    "ggplot(grouped_hypothesis_1.dt, aes(x=i, y=p, color=group, linetype=group)) + geom_line() + geom_errorbar(aes(ymin=p-se, ymax=p+se), linetype=1)"
   ]
  },
  {
   "cell_type": "markdown",
   "metadata": {},
   "source": [
    "# Hypothesis 2"
   ]
  },
  {
   "cell_type": "code",
   "execution_count": null,
   "metadata": {
    "collapsed": false
   },
   "outputs": [],
   "source": [
    "entity_edits_and_misalignment_hypothesis_2 <- read.table(\"../../../results/entity_categorization/hypothesis_2.tsv\", header=TRUE, sep=\"\\t\")"
   ]
  },
  {
   "cell_type": "code",
   "execution_count": null,
   "metadata": {
    "collapsed": false
   },
   "outputs": [],
   "source": [
    "entity_edits_and_misalignment_hypothesis_2 <- data.table(entity_edits_and_misalignment_hypothesis_2)"
   ]
  },
  {
   "cell_type": "code",
   "execution_count": null,
   "metadata": {
    "collapsed": false
   },
   "outputs": [],
   "source": [
    "summary(entity_edits_and_misalignment_hypothesis_2)"
   ]
  },
  {
   "cell_type": "code",
   "execution_count": null,
   "metadata": {
    "collapsed": true
   },
   "outputs": [],
   "source": [
    "# Remove last entry since edit data from last month is only for (part of?) first day\n",
    "sorted_entity_edits_and_misalignment_hypothesis_2 <- dplyr::arrange(entity_edits_and_misalignment_hypothesis_2, file_date)[1:55,]"
   ]
  },
  {
   "cell_type": "code",
   "execution_count": null,
   "metadata": {
    "collapsed": false,
    "scrolled": true
   },
   "outputs": [],
   "source": [
    "head(sorted_entity_edits_and_misalignment_hypothesis_2)"
   ]
  },
  {
   "cell_type": "code",
   "execution_count": null,
   "metadata": {
    "collapsed": false
   },
   "outputs": [],
   "source": [
    "aligned_higher_quality_human_edits = data.table(i = i, n = n)"
   ]
  },
  {
   "cell_type": "code",
   "execution_count": null,
   "metadata": {
    "collapsed": false
   },
   "outputs": [],
   "source": [
    "aligned_higher_quality_human_edits$p <- (sorted_entity_edits_and_misalignment_hypothesis_2$higher_quality_human_edits/(sorted_entity_edits_and_misalignment_hypothesis_2$higher_quality_human_edits + sorted_entity_edits_and_misalignment_hypothesis_2$higher_quality_automated_edits))"
   ]
  },
  {
   "cell_type": "code",
   "execution_count": null,
   "metadata": {
    "collapsed": false
   },
   "outputs": [],
   "source": [
    "aligned_higher_quality_human_edits$se = sqrt((p*(1-p))/n)"
   ]
  },
  {
   "cell_type": "code",
   "execution_count": null,
   "metadata": {
    "collapsed": false
   },
   "outputs": [],
   "source": [
    "aligned_lower_quality_human_edits = data.table(i = i, n = n)"
   ]
  },
  {
   "cell_type": "code",
   "execution_count": null,
   "metadata": {
    "collapsed": false
   },
   "outputs": [],
   "source": [
    "aligned_lower_quality_human_edits$p <- (sorted_entity_edits_and_misalignment_hypothesis_2$lower_quality_human_edits/(sorted_entity_edits_and_misalignment_hypothesis_2$lower_quality_human_edits + sorted_entity_edits_and_misalignment_hypothesis_2$lower_quality_automated_edits))"
   ]
  },
  {
   "cell_type": "code",
   "execution_count": null,
   "metadata": {
    "collapsed": false
   },
   "outputs": [],
   "source": [
    "aligned_lower_quality_human_edits$se = sqrt((p*(1-p))/n)"
   ]
  },
  {
   "cell_type": "code",
   "execution_count": null,
   "metadata": {
    "collapsed": false
   },
   "outputs": [],
   "source": [
    "aligned_higher_quality_human_edits$group = \"aligned_higher_quality_human_edits\"\n",
    "aligned_lower_quality_human_edits$group = \"aligned_lower_quality_human_edits\""
   ]
  },
  {
   "cell_type": "code",
   "execution_count": null,
   "metadata": {
    "collapsed": false
   },
   "outputs": [],
   "source": [
    "grouped_hypothesis_2.dt = rbind(aligned_higher_quality_human_edits, aligned_lower_quality_human_edits)"
   ]
  },
  {
   "cell_type": "code",
   "execution_count": null,
   "metadata": {
    "collapsed": true
   },
   "outputs": [],
   "source": [
    "grouped_hypothesis_2.dt$group = factor(grouped_hypothesis_2.dt$group)"
   ]
  },
  {
   "cell_type": "code",
   "execution_count": null,
   "metadata": {
    "collapsed": false
   },
   "outputs": [],
   "source": [
    "ggplot(grouped_hypothesis_2.dt, aes(x=i, y=p, color=group, linetype=group)) + geom_line() + geom_errorbar(aes(ymin=p-se, ymax=p+se), linetype=1)"
   ]
  },
  {
   "cell_type": "markdown",
   "metadata": {},
   "source": [
    "# Hypothesis 3"
   ]
  },
  {
   "cell_type": "code",
   "execution_count": null,
   "metadata": {
    "collapsed": false
   },
   "outputs": [],
   "source": [
    "entity_edits_and_misalignment_hypothesis_3 <- read.table(\"../../../results/entity_categorization/hypothesis_3.tsv\", header=TRUE, sep=\"\\t\")"
   ]
  },
  {
   "cell_type": "code",
   "execution_count": null,
   "metadata": {
    "collapsed": false
   },
   "outputs": [],
   "source": [
    "entity_edits_and_misalignment_hypothesis_3 <- data.table(entity_edits_and_misalignment_hypothesis_3)"
   ]
  },
  {
   "cell_type": "code",
   "execution_count": null,
   "metadata": {
    "collapsed": false
   },
   "outputs": [],
   "source": [
    "summary(entity_edits_and_misalignment_hypothesis_3)"
   ]
  },
  {
   "cell_type": "code",
   "execution_count": null,
   "metadata": {
    "collapsed": true
   },
   "outputs": [],
   "source": [
    "# Remove last entry since edit data from last month is only for (part of?) first day\n",
    "sorted_entity_edits_and_misalignment_hypothesis_3 <- dplyr::arrange(entity_edits_and_misalignment_hypothesis_3, file_date)[1:55,]"
   ]
  },
  {
   "cell_type": "code",
   "execution_count": null,
   "metadata": {
    "collapsed": false,
    "scrolled": true
   },
   "outputs": [],
   "source": [
    "head(sorted_entity_edits_and_misalignment_hypothesis_3)"
   ]
  },
  {
   "cell_type": "code",
   "execution_count": null,
   "metadata": {
    "collapsed": false
   },
   "outputs": [],
   "source": [
    "misaligned_higher_quality_human_edits = data.table(i = i, n = n)"
   ]
  },
  {
   "cell_type": "code",
   "execution_count": null,
   "metadata": {
    "collapsed": false
   },
   "outputs": [],
   "source": [
    "misaligned_higher_quality_human_edits$p <- (sorted_entity_edits_and_misalignment_hypothesis_3$higher_quality_human_edits/(sorted_entity_edits_and_misalignment_hypothesis_3$higher_quality_human_edits + sorted_entity_edits_and_misalignment_hypothesis_3$higher_quality_automated_edits))"
   ]
  },
  {
   "cell_type": "code",
   "execution_count": null,
   "metadata": {
    "collapsed": false
   },
   "outputs": [],
   "source": [
    "misaligned_higher_quality_human_edits$se = sqrt((p*(1-p))/n)"
   ]
  },
  {
   "cell_type": "code",
   "execution_count": null,
   "metadata": {
    "collapsed": false
   },
   "outputs": [],
   "source": [
    "misaligned_lower_quality_human_edits = data.table(i = i, n = n)"
   ]
  },
  {
   "cell_type": "code",
   "execution_count": null,
   "metadata": {
    "collapsed": false
   },
   "outputs": [],
   "source": [
    "misaligned_lower_quality_human_edits$p <- (sorted_entity_edits_and_misalignment_hypothesis_3$lower_quality_human_edits/(sorted_entity_edits_and_misalignment_hypothesis_3$lower_quality_human_edits + sorted_entity_edits_and_misalignment_hypothesis_3$lower_quality_automated_edits))"
   ]
  },
  {
   "cell_type": "code",
   "execution_count": null,
   "metadata": {
    "collapsed": false
   },
   "outputs": [],
   "source": [
    "misaligned_lower_quality_human_edits$se = sqrt((p*(1-p))/n)"
   ]
  },
  {
   "cell_type": "code",
   "execution_count": null,
   "metadata": {
    "collapsed": false
   },
   "outputs": [],
   "source": [
    "misaligned_higher_quality_human_edits$group = \"misaligned_higher_quality_human_edits\"\n",
    "misaligned_lower_quality_human_edits$group = \"misaligned_lower_quality_human_edits\""
   ]
  },
  {
   "cell_type": "code",
   "execution_count": null,
   "metadata": {
    "collapsed": false
   },
   "outputs": [],
   "source": [
    "grouped_hypothesis_3.dt = rbind(misaligned_higher_quality_human_edits, misaligned_lower_quality_human_edits)"
   ]
  },
  {
   "cell_type": "code",
   "execution_count": null,
   "metadata": {
    "collapsed": true
   },
   "outputs": [],
   "source": [
    "grouped_hypothesis_3.dt$group = factor(grouped_hypothesis_3.dt$group)"
   ]
  },
  {
   "cell_type": "code",
   "execution_count": null,
   "metadata": {
    "collapsed": false
   },
   "outputs": [],
   "source": [
    "ggplot(grouped_hypothesis_3.dt, aes(x=i, y=p, color=group, linetype=group)) + geom_line() + geom_errorbar(aes(ymin=p-se, ymax=p+se), linetype=1)"
   ]
  },
  {
   "cell_type": "markdown",
   "metadata": {
    "collapsed": true
   },
   "source": [
    "# Hypotheses 4 and 5"
   ]
  },
  {
   "cell_type": "code",
   "execution_count": null,
   "metadata": {
    "collapsed": false
   },
   "outputs": [],
   "source": [
    "grouped_hypothesis_4.dt = rbind(misaligned_higher_quality_human_edits, aligned_higher_quality_human_edits)"
   ]
  },
  {
   "cell_type": "code",
   "execution_count": null,
   "metadata": {
    "collapsed": true
   },
   "outputs": [],
   "source": [
    "grouped_hypothesis_4.dt$group = factor(grouped_hypothesis_4.dt$group)"
   ]
  },
  {
   "cell_type": "code",
   "execution_count": null,
   "metadata": {
    "collapsed": false
   },
   "outputs": [],
   "source": [
    "ggplot(grouped_hypothesis_4.dt, aes(x=i, y=p, color=group, linetype=group)) + geom_line() + geom_errorbar(aes(ymin=p-se, ymax=p+se), linetype=1)"
   ]
  },
  {
   "cell_type": "code",
   "execution_count": null,
   "metadata": {
    "collapsed": false
   },
   "outputs": [],
   "source": [
    "grouped_hypothesis_5.dt = rbind(misaligned_lower_quality_human_edits, aligned_lower_quality_human_edits)"
   ]
  },
  {
   "cell_type": "code",
   "execution_count": null,
   "metadata": {
    "collapsed": true
   },
   "outputs": [],
   "source": [
    "grouped_hypothesis_5.dt$group = factor(grouped_hypothesis_5.dt$group)"
   ]
  },
  {
   "cell_type": "code",
   "execution_count": null,
   "metadata": {
    "collapsed": false
   },
   "outputs": [],
   "source": [
    "ggplot(grouped_hypothesis_5.dt, aes(x=i, y=p, color=group, linetype=group)) + geom_line() + geom_errorbar(aes(ymin=p-se, ymax=p+se), linetype=1)"
   ]
  },
  {
   "cell_type": "code",
   "execution_count": null,
   "metadata": {
    "collapsed": true
   },
   "outputs": [],
   "source": []
  }
 ],
 "metadata": {
  "anaconda-cloud": {},
  "kernelspec": {
   "display_name": "R [r]",
   "language": "R",
   "name": "R [r]"
  },
  "language_info": {
   "codemirror_mode": "r",
   "file_extension": ".r",
   "mimetype": "text/x-r-source",
   "name": "R",
   "pygments_lexer": "r",
   "version": "3.3.2"
  }
 },
 "nbformat": 4,
 "nbformat_minor": 0
}
