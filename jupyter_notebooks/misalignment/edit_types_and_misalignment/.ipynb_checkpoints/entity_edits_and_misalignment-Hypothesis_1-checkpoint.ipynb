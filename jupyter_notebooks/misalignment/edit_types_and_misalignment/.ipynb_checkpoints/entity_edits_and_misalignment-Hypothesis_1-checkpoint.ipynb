{
 "cells": [
  {
   "cell_type": "code",
   "execution_count": 17,
   "metadata": {
    "collapsed": true
   },
   "outputs": [],
   "source": [
    "library(data.table)"
   ]
  },
  {
   "cell_type": "code",
   "execution_count": 18,
   "metadata": {
    "collapsed": false,
    "scrolled": true
   },
   "outputs": [],
   "source": [
    "library(ggplot2)"
   ]
  },
  {
   "cell_type": "code",
   "execution_count": 19,
   "metadata": {
    "collapsed": true
   },
   "outputs": [],
   "source": [
    "i = 1:55"
   ]
  },
  {
   "cell_type": "code",
   "execution_count": 20,
   "metadata": {
    "collapsed": true
   },
   "outputs": [],
   "source": [
    "n = 55"
   ]
  },
  {
   "cell_type": "markdown",
   "metadata": {},
   "source": [
    "# Hypothesis 1"
   ]
  },
  {
   "cell_type": "code",
   "execution_count": 21,
   "metadata": {
    "collapsed": false
   },
   "outputs": [],
   "source": [
    "entity_edits_and_misalignment_hypothesis_1 <- read.table(\"../../../results/entity_categorization/hypothesis_1.tsv\", header=TRUE, sep=\"\\t\")"
   ]
  },
  {
   "cell_type": "code",
   "execution_count": 22,
   "metadata": {
    "collapsed": false
   },
   "outputs": [],
   "source": [
    "entity_edits_and_misalignment_hypothesis_1 <- data.table(entity_edits_and_misalignment_hypothesis_1)"
   ]
  },
  {
   "cell_type": "code",
   "execution_count": 23,
   "metadata": {
    "collapsed": false
   },
   "outputs": [
    {
     "data": {
      "text/plain": [
       "   file_date      misaligned_bot_edits misaligned_semi_automated_edits\n",
       " Min.   :201211   Min.   :       14    Min.   :      0                \n",
       " 1st Qu.:201379   1st Qu.: 20182186    1st Qu.:  48618                \n",
       " Median :201502   Median : 64803256    Median :  86236                \n",
       " Mean   :201474   Mean   : 56596780    Mean   :1707310                \n",
       " 3rd Qu.:201604   3rd Qu.: 87711870    3rd Qu.:1410480                \n",
       " Max.   :201706   Max.   :108827703    Max.   :9818368                \n",
       " misaligned_non_bot_edits misaligned_anon_edits aligned_bot_edits \n",
       " Min.   :   29761         Min.   :    80        Min.   :     659  \n",
       " 1st Qu.: 2852764         1st Qu.: 78362        1st Qu.:46599929  \n",
       " Median : 8294521         Median :115674        Median :49892103  \n",
       " Mean   : 8160646         Mean   : 97202        Mean   :44972212  \n",
       " 3rd Qu.:13453100         3rd Qu.:124596        3rd Qu.:54805652  \n",
       " Max.   :17299276         Max.   :146177        Max.   :61373079  \n",
       " aligned_semi_automated_edits aligned_non_bot_edits aligned_anon_edits\n",
       " Min.   :      0              Min.   : 192611       Min.   :   358    \n",
       " 1st Qu.:  21355              1st Qu.:2135222       1st Qu.: 67110    \n",
       " Median :  41308              Median :7254205       Median : 75072    \n",
       " Mean   :1283877              Mean   :5713213       Mean   : 69109    \n",
       " 3rd Qu.:2220929              3rd Qu.:8769063       3rd Qu.: 81074    \n",
       " Max.   :7170079              Max.   :9278559       Max.   :106114    "
      ]
     },
     "metadata": {},
     "output_type": "display_data"
    }
   ],
   "source": [
    "summary(entity_edits_and_misalignment_hypothesis_1)"
   ]
  },
  {
   "cell_type": "code",
   "execution_count": 24,
   "metadata": {
    "collapsed": true
   },
   "outputs": [],
   "source": [
    "# Remove last entry since edit data from last month is only for (part of?) first day\n",
    "sorted_entity_edits_and_misalignment_hypothesis_1 <- dplyr::arrange(entity_edits_and_misalignment_hypothesis_1, file_date)[1:55,]"
   ]
  },
  {
   "cell_type": "code",
   "execution_count": 25,
   "metadata": {
    "collapsed": false,
    "scrolled": true
   },
   "outputs": [
    {
     "data": {
      "text/html": [
       "<table>\n",
       "<thead><tr><th scope=col>file_date</th><th scope=col>misaligned_bot_edits</th><th scope=col>misaligned_semi_automated_edits</th><th scope=col>misaligned_non_bot_edits</th><th scope=col>misaligned_anon_edits</th><th scope=col>aligned_bot_edits</th><th scope=col>aligned_semi_automated_edits</th><th scope=col>aligned_non_bot_edits</th><th scope=col>aligned_anon_edits</th></tr></thead>\n",
       "<tbody>\n",
       "\t<tr><td>201211  </td><td>     14 </td><td>    0   </td><td> 29761  </td><td>  80    </td><td>     659</td><td>    0   </td><td>192611  </td><td>  358   </td></tr>\n",
       "\t<tr><td>201212  </td><td>   3858 </td><td>17008   </td><td>177019  </td><td> 964    </td><td>  165578</td><td>10849   </td><td>204287  </td><td> 1894   </td></tr>\n",
       "\t<tr><td>201301  </td><td> 165717 </td><td>30952   </td><td>215493  </td><td>1395    </td><td> 1859019</td><td>19610   </td><td>318293  </td><td> 3374   </td></tr>\n",
       "\t<tr><td>201302  </td><td> 435901 </td><td>36192   </td><td>297242  </td><td>2137    </td><td> 3743399</td><td>21588   </td><td>405059  </td><td> 4520   </td></tr>\n",
       "\t<tr><td>201303  </td><td> 698671 </td><td>39736   </td><td>423950  </td><td>3407    </td><td> 5636283</td><td>22996   </td><td>546782  </td><td> 7851   </td></tr>\n",
       "\t<tr><td>201304  </td><td>2005176 </td><td>39645   </td><td>610425  </td><td>8503    </td><td>11749258</td><td>20469   </td><td>733087  </td><td>16009   </td></tr>\n",
       "</tbody>\n",
       "</table>\n"
      ],
      "text/latex": [
       "\\begin{tabular}{r|lllllllll}\n",
       " file\\_date & misaligned\\_bot\\_edits & misaligned\\_semi\\_automated\\_edits & misaligned\\_non\\_bot\\_edits & misaligned\\_anon\\_edits & aligned\\_bot\\_edits & aligned\\_semi\\_automated\\_edits & aligned\\_non\\_bot\\_edits & aligned\\_anon\\_edits\\\\\n",
       "\\hline\n",
       "\t 201211   &      14  &     0    &  29761   &   80     &      659 &     0    & 192611   &   358   \\\\\n",
       "\t 201212   &    3858  & 17008    & 177019   &  964     &   165578 & 10849    & 204287   &  1894   \\\\\n",
       "\t 201301   &  165717  & 30952    & 215493   & 1395     &  1859019 & 19610    & 318293   &  3374   \\\\\n",
       "\t 201302   &  435901  & 36192    & 297242   & 2137     &  3743399 & 21588    & 405059   &  4520   \\\\\n",
       "\t 201303   &  698671  & 39736    & 423950   & 3407     &  5636283 & 22996    & 546782   &  7851   \\\\\n",
       "\t 201304   & 2005176  & 39645    & 610425   & 8503     & 11749258 & 20469    & 733087   & 16009   \\\\\n",
       "\\end{tabular}\n"
      ],
      "text/markdown": [
       "\n",
       "file_date | misaligned_bot_edits | misaligned_semi_automated_edits | misaligned_non_bot_edits | misaligned_anon_edits | aligned_bot_edits | aligned_semi_automated_edits | aligned_non_bot_edits | aligned_anon_edits | \n",
       "|---|---|---|---|---|---|\n",
       "| 201211   |      14  |     0    |  29761   |   80     |      659 |     0    | 192611   |   358    | \n",
       "| 201212   |    3858  | 17008    | 177019   |  964     |   165578 | 10849    | 204287   |  1894    | \n",
       "| 201301   |  165717  | 30952    | 215493   | 1395     |  1859019 | 19610    | 318293   |  3374    | \n",
       "| 201302   |  435901  | 36192    | 297242   | 2137     |  3743399 | 21588    | 405059   |  4520    | \n",
       "| 201303   |  698671  | 39736    | 423950   | 3407     |  5636283 | 22996    | 546782   |  7851    | \n",
       "| 201304   | 2005176  | 39645    | 610425   | 8503     | 11749258 | 20469    | 733087   | 16009    | \n",
       "\n",
       "\n"
      ],
      "text/plain": [
       "  file_date misaligned_bot_edits misaligned_semi_automated_edits\n",
       "1 201211         14                  0                          \n",
       "2 201212       3858              17008                          \n",
       "3 201301     165717              30952                          \n",
       "4 201302     435901              36192                          \n",
       "5 201303     698671              39736                          \n",
       "6 201304    2005176              39645                          \n",
       "  misaligned_non_bot_edits misaligned_anon_edits aligned_bot_edits\n",
       "1  29761                     80                       659         \n",
       "2 177019                    964                    165578         \n",
       "3 215493                   1395                   1859019         \n",
       "4 297242                   2137                   3743399         \n",
       "5 423950                   3407                   5636283         \n",
       "6 610425                   8503                  11749258         \n",
       "  aligned_semi_automated_edits aligned_non_bot_edits aligned_anon_edits\n",
       "1     0                        192611                  358             \n",
       "2 10849                        204287                 1894             \n",
       "3 19610                        318293                 3374             \n",
       "4 21588                        405059                 4520             \n",
       "5 22996                        546782                 7851             \n",
       "6 20469                        733087                16009             "
      ]
     },
     "metadata": {},
     "output_type": "display_data"
    }
   ],
   "source": [
    "head(sorted_entity_edits_and_misalignment_hypothesis_1)"
   ]
  },
  {
   "cell_type": "code",
   "execution_count": 26,
   "metadata": {
    "collapsed": false
   },
   "outputs": [],
   "source": [
    "misaligned_automated_edits = data.table(i = i, n = n)"
   ]
  },
  {
   "cell_type": "code",
   "execution_count": 27,
   "metadata": {
    "collapsed": false
   },
   "outputs": [],
   "source": [
    "attach(sorted_entity_edits_and_misalignment_hypothesis_1)"
   ]
  },
  {
   "cell_type": "code",
   "execution_count": 28,
   "metadata": {
    "collapsed": false
   },
   "outputs": [],
   "source": [
    "misaligned_automated_edits$p <- ((misaligned_bot_edits + misaligned_semi_automated_edits)/(misaligned_bot_edits + misaligned_semi_automated_edits + misaligned_non_bot_edits + misaligned_anon_edits))"
   ]
  },
  {
   "cell_type": "code",
   "execution_count": 29,
   "metadata": {
    "collapsed": true
   },
   "outputs": [],
   "source": [
    "detach(sorted_entity_edits_and_misalignment_hypothesis_1)"
   ]
  },
  {
   "cell_type": "code",
   "execution_count": 30,
   "metadata": {
    "collapsed": false
   },
   "outputs": [],
   "source": [
    "misaligned_automated_edits$se = sqrt((misaligned_automated_edits$p*(1-misaligned_automated_edits$p))/n)"
   ]
  },
  {
   "cell_type": "code",
   "execution_count": 31,
   "metadata": {
    "collapsed": false
   },
   "outputs": [],
   "source": [
    "aligned_automated_edits = data.table(i = i, n = n)"
   ]
  },
  {
   "cell_type": "code",
   "execution_count": 32,
   "metadata": {
    "collapsed": true
   },
   "outputs": [],
   "source": [
    "attach(sorted_entity_edits_and_misalignment_hypothesis_1)"
   ]
  },
  {
   "cell_type": "code",
   "execution_count": 33,
   "metadata": {
    "collapsed": false
   },
   "outputs": [],
   "source": [
    "aligned_automated_edits$p <- ((aligned_bot_edits + aligned_semi_automated_edits)/(aligned_bot_edits + aligned_semi_automated_edits + aligned_non_bot_edits + aligned_anon_edits))"
   ]
  },
  {
   "cell_type": "code",
   "execution_count": 34,
   "metadata": {
    "collapsed": true
   },
   "outputs": [],
   "source": [
    "detach(sorted_entity_edits_and_misalignment_hypothesis_1)"
   ]
  },
  {
   "cell_type": "code",
   "execution_count": 35,
   "metadata": {
    "collapsed": false
   },
   "outputs": [],
   "source": [
    "aligned_automated_edits$se = sqrt((aligned_automated_edits$p*(1-aligned_automated_edits$p))/n)"
   ]
  },
  {
   "cell_type": "code",
   "execution_count": 36,
   "metadata": {
    "collapsed": false
   },
   "outputs": [],
   "source": [
    "misaligned_automated_edits$group = \"misaligned_automated\"\n",
    "aligned_automated_edits$group = \"aligned_automated\""
   ]
  },
  {
   "cell_type": "code",
   "execution_count": 37,
   "metadata": {
    "collapsed": false
   },
   "outputs": [],
   "source": [
    "grouped_hypothesis_1.dt = rbind(misaligned_automated_edits, aligned_automated_edits)"
   ]
  },
  {
   "cell_type": "code",
   "execution_count": 38,
   "metadata": {
    "collapsed": true
   },
   "outputs": [],
   "source": [
    "grouped_hypothesis_1.dt$group = factor(grouped_hypothesis_1.dt$group)"
   ]
  },
  {
   "cell_type": "code",
   "execution_count": 39,
   "metadata": {
    "collapsed": false
   },
   "outputs": [
    {
     "data": {
      "text/html": [
       "<table>\n",
       "<thead><tr><th scope=col>i</th><th scope=col>n</th><th scope=col>p</th><th scope=col>se</th><th scope=col>group</th></tr></thead>\n",
       "<tbody>\n",
       "\t<tr><td>1                   </td><td>55                  </td><td>0.0004689332        </td><td>0.002919257         </td><td>misaligned_automated</td></tr>\n",
       "\t<tr><td>2                   </td><td>55                  </td><td>0.1049338946        </td><td>0.041324167         </td><td>misaligned_automated</td></tr>\n",
       "\t<tr><td>3                   </td><td>55                  </td><td>0.4755547603        </td><td>0.067339362         </td><td>misaligned_automated</td></tr>\n",
       "\t<tr><td>4                   </td><td>55                  </td><td>0.6119379576        </td><td>0.065708709         </td><td>misaligned_automated</td></tr>\n",
       "\t<tr><td>5                   </td><td>55                  </td><td>0.6334103644        </td><td>0.064975754         </td><td>misaligned_automated</td></tr>\n",
       "\t<tr><td>6                   </td><td>55                  </td><td>0.7676477776        </td><td>0.056947291         </td><td>misaligned_automated</td></tr>\n",
       "</tbody>\n",
       "</table>\n"
      ],
      "text/latex": [
       "\\begin{tabular}{r|lllll}\n",
       " i & n & p & se & group\\\\\n",
       "\\hline\n",
       "\t 1                      & 55                     & 0.0004689332           & 0.002919257            & misaligned\\_automated\\\\\n",
       "\t 2                      & 55                     & 0.1049338946           & 0.041324167            & misaligned\\_automated\\\\\n",
       "\t 3                      & 55                     & 0.4755547603           & 0.067339362            & misaligned\\_automated\\\\\n",
       "\t 4                      & 55                     & 0.6119379576           & 0.065708709            & misaligned\\_automated\\\\\n",
       "\t 5                      & 55                     & 0.6334103644           & 0.064975754            & misaligned\\_automated\\\\\n",
       "\t 6                      & 55                     & 0.7676477776           & 0.056947291            & misaligned\\_automated\\\\\n",
       "\\end{tabular}\n"
      ],
      "text/markdown": [
       "\n",
       "i | n | p | se | group | \n",
       "|---|---|---|---|---|---|\n",
       "| 1                    | 55                   | 0.0004689332         | 0.002919257          | misaligned_automated | \n",
       "| 2                    | 55                   | 0.1049338946         | 0.041324167          | misaligned_automated | \n",
       "| 3                    | 55                   | 0.4755547603         | 0.067339362          | misaligned_automated | \n",
       "| 4                    | 55                   | 0.6119379576         | 0.065708709          | misaligned_automated | \n",
       "| 5                    | 55                   | 0.6334103644         | 0.064975754          | misaligned_automated | \n",
       "| 6                    | 55                   | 0.7676477776         | 0.056947291          | misaligned_automated | \n",
       "\n",
       "\n"
      ],
      "text/plain": [
       "  i n  p            se          group               \n",
       "1 1 55 0.0004689332 0.002919257 misaligned_automated\n",
       "2 2 55 0.1049338946 0.041324167 misaligned_automated\n",
       "3 3 55 0.4755547603 0.067339362 misaligned_automated\n",
       "4 4 55 0.6119379576 0.065708709 misaligned_automated\n",
       "5 5 55 0.6334103644 0.064975754 misaligned_automated\n",
       "6 6 55 0.7676477776 0.056947291 misaligned_automated"
      ]
     },
     "metadata": {},
     "output_type": "display_data"
    }
   ],
   "source": [
    "#remove\n",
    "head(grouped_hypothesis_1.dt)"
   ]
  },
  {
   "cell_type": "code",
   "execution_count": 40,
   "metadata": {
    "collapsed": false
   },
   "outputs": [
    {
     "data": {},
     "metadata": {},
     "output_type": "display_data"
    },
    {
     "data": {
      "image/png": "[encoded data removed]",
      "text/plain": [
       "plot without title"
      ]
     },
     "metadata": {},
     "output_type": "display_data"
    }
   ],
   "source": [
    "ggplot(grouped_hypothesis_1.dt, aes(x=i, y=p, color=group, linetype=group)) + geom_line() + geom_errorbar(aes(ymin=p-se, ymax=p+se), linetype=1)"
   ]
  },
  {
   "cell_type": "markdown",
   "metadata": {},
   "source": [
    "# Hypothesis 2"
   ]
  },
  {
   "cell_type": "code",
   "execution_count": 41,
   "metadata": {
    "collapsed": false
   },
   "outputs": [],
   "source": [
    "entity_edits_and_misalignment_hypothesis_2 <- read.table(\"../../../results/entity_categorization/hypothesis_2.tsv\", header=TRUE, sep=\"\\t\")"
   ]
  },
  {
   "cell_type": "code",
   "execution_count": 42,
   "metadata": {
    "collapsed": false
   },
   "outputs": [],
   "source": [
    "entity_edits_and_misalignment_hypothesis_2 <- data.table(entity_edits_and_misalignment_hypothesis_2)"
   ]
  },
  {
   "cell_type": "code",
   "execution_count": 43,
   "metadata": {
    "collapsed": false
   },
   "outputs": [
    {
     "data": {
      "text/plain": [
       "   file_date         lower_quality_bot_edits\n",
       " Min.   :      659   Min.   :       0       \n",
       " 1st Qu.: 52299989   1st Qu.:   46336       \n",
       " Median : 64918516   Median :  105845       \n",
       " Mean   : 63910811   Mean   : 2246255       \n",
       " 3rd Qu.: 86891862   3rd Qu.: 3266440       \n",
       " Max.   :105371030   Max.   :12722715       \n",
       " lower_quality_semi_automated_editslower_quality_non_bot_edits\n",
       " Min.   :  192611                                             \n",
       " 1st Qu.: 3495647                                             \n",
       " Median :11558427                                             \n",
       " Mean   :12209667                                             \n",
       " 3rd Qu.:20958094                                             \n",
       " Max.   :27038158                                             \n",
       " lower_quality_anon_edits higher_quality_bot_edits\n",
       " Min.   :   358           Min.   :      0         \n",
       " 1st Qu.:135500           1st Qu.:   5846         \n",
       " Median :283982           Median : 134104         \n",
       " Mean   :238804           Mean   :1100312         \n",
       " 3rd Qu.:335249           3rd Qu.:2178969         \n",
       " Max.   :417599           Max.   :4231461         \n",
       " higher_quality_semi_automated_edits higher_quality_non_bot_edits\n",
       " Min.   :     0                      Min.   :      0             \n",
       " 1st Qu.:   136                      1st Qu.:  12832             \n",
       " Median :  1278                      Median : 107901             \n",
       " Mean   : 83292                      Mean   : 647687             \n",
       " 3rd Qu.: 96954                      3rd Qu.:1155716             \n",
       " Max.   :529444                      Max.   :2554760             \n",
       " higher_quality_anon_edits\n",
       " Min.   :     0.0         \n",
       " 1st Qu.:   468.5         \n",
       " Median :  7546.0         \n",
       " Mean   : 33674.7         \n",
       " 3rd Qu.: 63867.0         \n",
       " Max.   :131902.0         "
      ]
     },
     "metadata": {},
     "output_type": "display_data"
    }
   ],
   "source": [
    "summary(entity_edits_and_misalignment_hypothesis_2)"
   ]
  },
  {
   "cell_type": "code",
   "execution_count": 44,
   "metadata": {
    "collapsed": true
   },
   "outputs": [],
   "source": [
    "# Remove last entry since edit data from last month is only for (part of?) first day\n",
    "sorted_entity_edits_and_misalignment_hypothesis_2 <- dplyr::arrange(entity_edits_and_misalignment_hypothesis_2, file_date)[1:55,]"
   ]
  },
  {
   "cell_type": "code",
   "execution_count": 45,
   "metadata": {
    "collapsed": false,
    "scrolled": true
   },
   "outputs": [
    {
     "data": {
      "text/html": [
       "<table>\n",
       "<thead><tr><th scope=col>file_date</th><th scope=col>lower_quality_bot_edits</th><th scope=col>lower_quality_semi_automated_editslower_quality_non_bot_edits</th><th scope=col>lower_quality_anon_edits</th><th scope=col>higher_quality_bot_edits</th><th scope=col>higher_quality_semi_automated_edits</th><th scope=col>higher_quality_non_bot_edits</th><th scope=col>higher_quality_anon_edits</th></tr></thead>\n",
       "<tbody>\n",
       "\t<tr><td>     659</td><td>    0   </td><td>192611  </td><td>  358   </td><td>0       </td><td>0       </td><td>0       </td><td>0       </td></tr>\n",
       "\t<tr><td>  165586</td><td>10894   </td><td>206207  </td><td> 1907   </td><td>0       </td><td>0       </td><td>0       </td><td>0       </td></tr>\n",
       "\t<tr><td> 1859035</td><td>19679   </td><td>321638  </td><td> 3421   </td><td>0       </td><td>0       </td><td>0       </td><td>0       </td></tr>\n",
       "\t<tr><td> 3743435</td><td>21714   </td><td>411489  </td><td> 4606   </td><td>0       </td><td>0       </td><td>0       </td><td>0       </td></tr>\n",
       "\t<tr><td> 5636693</td><td>23330   </td><td>566874  </td><td> 8094   </td><td>0       </td><td>0       </td><td>0       </td><td>0       </td></tr>\n",
       "\t<tr><td>11826141</td><td>23742   </td><td>889442  </td><td>18125   </td><td>0       </td><td>0       </td><td>0       </td><td>0       </td></tr>\n",
       "</tbody>\n",
       "</table>\n"
      ],
      "text/latex": [
       "\\begin{tabular}{r|llllllll}\n",
       " file\\_date & lower\\_quality\\_bot\\_edits & lower\\_quality\\_semi\\_automated\\_editslower\\_quality\\_non\\_bot\\_edits & lower\\_quality\\_anon\\_edits & higher\\_quality\\_bot\\_edits & higher\\_quality\\_semi\\_automated\\_edits & higher\\_quality\\_non\\_bot\\_edits & higher\\_quality\\_anon\\_edits\\\\\n",
       "\\hline\n",
       "\t      659 &     0    & 192611   &   358    & 0        & 0        & 0        & 0       \\\\\n",
       "\t   165586 & 10894    & 206207   &  1907    & 0        & 0        & 0        & 0       \\\\\n",
       "\t  1859035 & 19679    & 321638   &  3421    & 0        & 0        & 0        & 0       \\\\\n",
       "\t  3743435 & 21714    & 411489   &  4606    & 0        & 0        & 0        & 0       \\\\\n",
       "\t  5636693 & 23330    & 566874   &  8094    & 0        & 0        & 0        & 0       \\\\\n",
       "\t 11826141 & 23742    & 889442   & 18125    & 0        & 0        & 0        & 0       \\\\\n",
       "\\end{tabular}\n"
      ],
      "text/markdown": [
       "\n",
       "file_date | lower_quality_bot_edits | lower_quality_semi_automated_editslower_quality_non_bot_edits | lower_quality_anon_edits | higher_quality_bot_edits | higher_quality_semi_automated_edits | higher_quality_non_bot_edits | higher_quality_anon_edits | \n",
       "|---|---|---|---|---|---|\n",
       "|      659 |     0    | 192611   |   358    | 0        | 0        | 0        | 0        | \n",
       "|   165586 | 10894    | 206207   |  1907    | 0        | 0        | 0        | 0        | \n",
       "|  1859035 | 19679    | 321638   |  3421    | 0        | 0        | 0        | 0        | \n",
       "|  3743435 | 21714    | 411489   |  4606    | 0        | 0        | 0        | 0        | \n",
       "|  5636693 | 23330    | 566874   |  8094    | 0        | 0        | 0        | 0        | \n",
       "| 11826141 | 23742    | 889442   | 18125    | 0        | 0        | 0        | 0        | \n",
       "\n",
       "\n"
      ],
      "text/plain": [
       "  file_date lower_quality_bot_edits\n",
       "1      659      0                  \n",
       "2   165586  10894                  \n",
       "3  1859035  19679                  \n",
       "4  3743435  21714                  \n",
       "5  5636693  23330                  \n",
       "6 11826141  23742                  \n",
       "  lower_quality_semi_automated_editslower_quality_non_bot_edits\n",
       "1 192611                                                       \n",
       "2 206207                                                       \n",
       "3 321638                                                       \n",
       "4 411489                                                       \n",
       "5 566874                                                       \n",
       "6 889442                                                       \n",
       "  lower_quality_anon_edits higher_quality_bot_edits\n",
       "1   358                    0                       \n",
       "2  1907                    0                       \n",
       "3  3421                    0                       \n",
       "4  4606                    0                       \n",
       "5  8094                    0                       \n",
       "6 18125                    0                       \n",
       "  higher_quality_semi_automated_edits higher_quality_non_bot_edits\n",
       "1 0                                   0                           \n",
       "2 0                                   0                           \n",
       "3 0                                   0                           \n",
       "4 0                                   0                           \n",
       "5 0                                   0                           \n",
       "6 0                                   0                           \n",
       "  higher_quality_anon_edits\n",
       "1 0                        \n",
       "2 0                        \n",
       "3 0                        \n",
       "4 0                        \n",
       "5 0                        \n",
       "6 0                        "
      ]
     },
     "metadata": {},
     "output_type": "display_data"
    }
   ],
   "source": [
    "head(sorted_entity_edits_and_misalignment_hypothesis_2)"
   ]
  },
  {
   "cell_type": "code",
   "execution_count": 52,
   "metadata": {
    "collapsed": false
   },
   "outputs": [],
   "source": [
    "aligned_higher_quality_human_edits = data.table(i = i, n = n)"
   ]
  },
  {
   "cell_type": "code",
   "execution_count": 53,
   "metadata": {
    "collapsed": true
   },
   "outputs": [],
   "source": [
    "attach(sorted_entity_edits_and_misalignment_hypothesis_1)"
   ]
  },
  {
   "cell_type": "code",
   "execution_count": 54,
   "metadata": {
    "collapsed": false
   },
   "outputs": [
    {
     "ename": "ERROR",
     "evalue": "Error in eval(expr, envir, enclos): object 'higher_quality_non_bot_edits' not found\n",
     "output_type": "error",
     "traceback": [
      "Error in eval(expr, envir, enclos): object 'higher_quality_non_bot_edits' not found\nTraceback:\n"
     ]
    }
   ],
   "source": [
    "aligned_higher_quality_human_edits$p <- ((higher_quality_non_bot_edits + higher_quality_anon_edits)/(higher_quality_non_bot_edits + higher_quality_anon_edits + higher_quality_bot_edits + higher_quality_semi_automated_edits))"
   ]
  },
  {
   "cell_type": "code",
   "execution_count": 55,
   "metadata": {
    "collapsed": true
   },
   "outputs": [],
   "source": [
    "detach(sorted_entity_edits_and_misalignment_hypothesis_1)"
   ]
  },
  {
   "cell_type": "code",
   "execution_count": 56,
   "metadata": {
    "collapsed": false
   },
   "outputs": [],
   "source": [
    "aligned_higher_quality_human_edits$se = sqrt((aligned_higher_quality_human_edits$p*(1-aligned_higher_quality_human_edits$p))/n)"
   ]
  },
  {
   "cell_type": "code",
   "execution_count": null,
   "metadata": {
    "collapsed": false
   },
   "outputs": [],
   "source": [
    "aligned_lower_quality_human_edits = data.table(i = i, n = n)"
   ]
  },
  {
   "cell_type": "code",
   "execution_count": 61,
   "metadata": {
    "collapsed": true
   },
   "outputs": [],
   "source": [
    "attach(sorted_entity_edits_and_misalignment_hypothesis_1)"
   ]
  },
  {
   "cell_type": "code",
   "execution_count": 64,
   "metadata": {
    "collapsed": false
   },
   "outputs": [
    {
     "ename": "ERROR",
     "evalue": "Error in eval(expr, envir, enclos): object 'lower_quality_non_bot_edits' not found\n",
     "output_type": "error",
     "traceback": [
      "Error in eval(expr, envir, enclos): object 'lower_quality_non_bot_edits' not found\nTraceback:\n"
     ]
    }
   ],
   "source": [
    "aligned_lower_quality_human_edits$p <- ((lower_quality_non_bot_edits + lower_quality_anon_edits)/(lower_quality_non_bot_edits + lower_quality_anon_edits + lower_quality_bot_edits + lower_quality_semi_automated_edits))"
   ]
  },
  {
   "cell_type": "code",
   "execution_count": 65,
   "metadata": {
    "collapsed": false
   },
   "outputs": [
    {
     "ename": "ERROR",
     "evalue": "Error in detach(sorted_entity_edits_and_misalignment_hypothesis_1): invalid 'name' argument\n",
     "output_type": "error",
     "traceback": [
      "Error in detach(sorted_entity_edits_and_misalignment_hypothesis_1): invalid 'name' argument\nTraceback:\n",
      "1. detach(sorted_entity_edits_and_misalignment_hypothesis_1)",
      "2. stop(\"invalid 'name' argument\")"
     ]
    }
   ],
   "source": [
    "detach(sorted_entity_edits_and_misalignment_hypothesis_1)"
   ]
  },
  {
   "cell_type": "code",
   "execution_count": 66,
   "metadata": {
    "collapsed": false
   },
   "outputs": [
    {
     "ename": "ERROR",
     "evalue": "Error in eval(expr, envir, enclos): object 'aligned_lower_quality_human_edits' not found\n",
     "output_type": "error",
     "traceback": [
      "Error in eval(expr, envir, enclos): object 'aligned_lower_quality_human_edits' not found\nTraceback:\n"
     ]
    }
   ],
   "source": [
    "aligned_lower_quality_human_edits$se = sqrt((aligned_lower_quality_human_edits$p*(1-aligned_lower_quality_human_edits$p))/n)"
   ]
  },
  {
   "cell_type": "code",
   "execution_count": 67,
   "metadata": {
    "collapsed": false
   },
   "outputs": [
    {
     "ename": "ERROR",
     "evalue": "Error in aligned_lower_quality_human_edits$group = \"aligned_lower_quality_human_edits\": object 'aligned_lower_quality_human_edits' not found\n",
     "output_type": "error",
     "traceback": [
      "Error in aligned_lower_quality_human_edits$group = \"aligned_lower_quality_human_edits\": object 'aligned_lower_quality_human_edits' not found\nTraceback:\n"
     ]
    }
   ],
   "source": [
    "aligned_higher_quality_human_edits$group = \"aligned_higher_quality_human_edits\"\n",
    "aligned_lower_quality_human_edits$group = \"aligned_lower_quality_human_edits\""
   ]
  },
  {
   "cell_type": "code",
   "execution_count": null,
   "metadata": {
    "collapsed": false
   },
   "outputs": [],
   "source": [
    "grouped_hypothesis_2.dt = rbind(aligned_higher_quality_human_edits, aligned_lower_quality_human_edits)"
   ]
  },
  {
   "cell_type": "code",
   "execution_count": null,
   "metadata": {
    "collapsed": true
   },
   "outputs": [],
   "source": [
    "grouped_hypothesis_2.dt$group = factor(grouped_hypothesis_2.dt$group)"
   ]
  },
  {
   "cell_type": "code",
   "execution_count": null,
   "metadata": {
    "collapsed": false
   },
   "outputs": [],
   "source": [
    "ggplot(grouped_hypothesis_2.dt, aes(x=i, y=p, color=group, linetype=group)) + geom_line() + geom_errorbar(aes(ymin=p-se, ymax=p+se), linetype=1)"
   ]
  },
  {
   "cell_type": "markdown",
   "metadata": {},
   "source": [
    "# Hypothesis 3"
   ]
  },
  {
   "cell_type": "code",
   "execution_count": 68,
   "metadata": {
    "collapsed": false
   },
   "outputs": [],
   "source": [
    "entity_edits_and_misalignment_hypothesis_3 <- read.table(\"../../../results/entity_categorization/hypothesis_3.tsv\", header=TRUE, sep=\"\\t\")"
   ]
  },
  {
   "cell_type": "code",
   "execution_count": 69,
   "metadata": {
    "collapsed": false
   },
   "outputs": [],
   "source": [
    "entity_edits_and_misalignment_hypothesis_3 <- data.table(entity_edits_and_misalignment_hypothesis_3)"
   ]
  },
  {
   "cell_type": "code",
   "execution_count": 70,
   "metadata": {
    "collapsed": false
   },
   "outputs": [
    {
     "data": {
      "text/plain": [
       "   file_date      lower_quality_bot_edits lower_quality_semi_automated_edits\n",
       " Min.   :201211   Min.   :       41       Min.   :       0                  \n",
       " 1st Qu.:201379   1st Qu.: 29258527       1st Qu.:   64331                  \n",
       " Median :201502   Median : 86781551       Median :  142746                  \n",
       " Mean   :201474   Mean   : 79318474       Mean   : 2801436                  \n",
       " 3rd Qu.:201604   3rd Qu.:124385598       3rd Qu.: 3169511                  \n",
       " Max.   :201706   Max.   :154729481       Max.   :15928110                  \n",
       " lower_quality_non_bot_edits lower_quality_anon_edits higher_quality_bot_edits\n",
       " Min.   :   71386            Min.   :   149           Min.   :       0        \n",
       " 1st Qu.: 4479178            1st Qu.:232141           1st Qu.:  668225        \n",
       " Median :15193706            Median :490520           Median : 2079058        \n",
       " Mean   :17645501            Mean   :460805           Mean   : 7010006        \n",
       " 3rd Qu.:30622042            3rd Qu.:687993           3rd Qu.:13910866        \n",
       " Max.   :42194011            Max.   :924221           Max.   :24047260        \n",
       " higher_quality_semi_automated_edits higher_quality_non_bot_edits\n",
       " Min.   :      0                     Min.   :      0             \n",
       " 1st Qu.:   4004                     1st Qu.: 135222             \n",
       " Median :   9922                     Median : 490164             \n",
       " Mean   : 298120                     Mean   :1239049             \n",
       " 3rd Qu.: 190294                     3rd Qu.:2320949             \n",
       " Max.   :1937610                     Max.   :4381015             \n",
       " higher_quality_anon_edits\n",
       " Min.   :    0            \n",
       " 1st Qu.: 2598            \n",
       " Median :15538            \n",
       " Mean   :26027            \n",
       " 3rd Qu.:45751            \n",
       " Max.   :89423            "
      ]
     },
     "metadata": {},
     "output_type": "display_data"
    }
   ],
   "source": [
    "summary(entity_edits_and_misalignment_hypothesis_3)"
   ]
  },
  {
   "cell_type": "code",
   "execution_count": 71,
   "metadata": {
    "collapsed": true
   },
   "outputs": [],
   "source": [
    "# Remove last entry since edit data from last month is only for (part of?) first day\n",
    "sorted_entity_edits_and_misalignment_hypothesis_3 <- dplyr::arrange(entity_edits_and_misalignment_hypothesis_3, file_date)[1:55,]"
   ]
  },
  {
   "cell_type": "code",
   "execution_count": 79,
   "metadata": {
    "collapsed": false,
    "scrolled": true
   },
   "outputs": [
    {
     "data": {
      "text/html": [
       "<table>\n",
       "<thead><tr><th scope=col>file_date</th><th scope=col>lower_quality_bot_edits</th><th scope=col>lower_quality_semi_automated_edits</th><th scope=col>lower_quality_non_bot_edits</th><th scope=col>lower_quality_anon_edits</th><th scope=col>higher_quality_bot_edits</th><th scope=col>higher_quality_semi_automated_edits</th><th scope=col>higher_quality_non_bot_edits</th><th scope=col>higher_quality_anon_edits</th></tr></thead>\n",
       "<tbody>\n",
       "\t<tr><td>201211 </td><td>     41</td><td>    0  </td><td>  71386</td><td>  149  </td><td> 0     </td><td>0      </td><td>  0    </td><td>0      </td></tr>\n",
       "\t<tr><td>201212 </td><td>  18743</td><td>18905  </td><td> 259315</td><td> 1389  </td><td> 0     </td><td>0      </td><td>  0    </td><td>0      </td></tr>\n",
       "\t<tr><td>201301 </td><td> 257643</td><td>33873  </td><td> 314756</td><td> 2090  </td><td> 0     </td><td>0      </td><td>  0    </td><td>0      </td></tr>\n",
       "\t<tr><td>201302 </td><td> 658404</td><td>39454  </td><td> 408842</td><td> 2971  </td><td> 0     </td><td>0      </td><td>  0    </td><td>0      </td></tr>\n",
       "\t<tr><td>201303 </td><td>1029258</td><td>43822  </td><td> 600789</td><td> 7601  </td><td> 0     </td><td>1      </td><td>388    </td><td>3      </td></tr>\n",
       "\t<tr><td>201304 </td><td>2907170</td><td>51540  </td><td>1087357</td><td>29196  </td><td>11     </td><td>2      </td><td>470    </td><td>4      </td></tr>\n",
       "</tbody>\n",
       "</table>\n"
      ],
      "text/latex": [
       "\\begin{tabular}{r|lllllllll}\n",
       " file\\_date & lower\\_quality\\_bot\\_edits & lower\\_quality\\_semi\\_automated\\_edits & lower\\_quality\\_non\\_bot\\_edits & lower\\_quality\\_anon\\_edits & higher\\_quality\\_bot\\_edits & higher\\_quality\\_semi\\_automated\\_edits & higher\\_quality\\_non\\_bot\\_edits & higher\\_quality\\_anon\\_edits\\\\\n",
       "\\hline\n",
       "\t 201211  &      41 &     0   &   71386 &   149   &  0      & 0       &   0     & 0      \\\\\n",
       "\t 201212  &   18743 & 18905   &  259315 &  1389   &  0      & 0       &   0     & 0      \\\\\n",
       "\t 201301  &  257643 & 33873   &  314756 &  2090   &  0      & 0       &   0     & 0      \\\\\n",
       "\t 201302  &  658404 & 39454   &  408842 &  2971   &  0      & 0       &   0     & 0      \\\\\n",
       "\t 201303  & 1029258 & 43822   &  600789 &  7601   &  0      & 1       & 388     & 3      \\\\\n",
       "\t 201304  & 2907170 & 51540   & 1087357 & 29196   & 11      & 2       & 470     & 4      \\\\\n",
       "\\end{tabular}\n"
      ],
      "text/markdown": [
       "\n",
       "file_date | lower_quality_bot_edits | lower_quality_semi_automated_edits | lower_quality_non_bot_edits | lower_quality_anon_edits | higher_quality_bot_edits | higher_quality_semi_automated_edits | higher_quality_non_bot_edits | higher_quality_anon_edits | \n",
       "|---|---|---|---|---|---|\n",
       "| 201211  |      41 |     0   |   71386 |   149   |  0      | 0       |   0     | 0       | \n",
       "| 201212  |   18743 | 18905   |  259315 |  1389   |  0      | 0       |   0     | 0       | \n",
       "| 201301  |  257643 | 33873   |  314756 |  2090   |  0      | 0       |   0     | 0       | \n",
       "| 201302  |  658404 | 39454   |  408842 |  2971   |  0      | 0       |   0     | 0       | \n",
       "| 201303  | 1029258 | 43822   |  600789 |  7601   |  0      | 1       | 388     | 3       | \n",
       "| 201304  | 2907170 | 51540   | 1087357 | 29196   | 11      | 2       | 470     | 4       | \n",
       "\n",
       "\n"
      ],
      "text/plain": [
       "  file_date lower_quality_bot_edits lower_quality_semi_automated_edits\n",
       "1 201211         41                     0                             \n",
       "2 201212      18743                 18905                             \n",
       "3 201301     257643                 33873                             \n",
       "4 201302     658404                 39454                             \n",
       "5 201303    1029258                 43822                             \n",
       "6 201304    2907170                 51540                             \n",
       "  lower_quality_non_bot_edits lower_quality_anon_edits higher_quality_bot_edits\n",
       "1   71386                       149                     0                      \n",
       "2  259315                      1389                     0                      \n",
       "3  314756                      2090                     0                      \n",
       "4  408842                      2971                     0                      \n",
       "5  600789                      7601                     0                      \n",
       "6 1087357                     29196                    11                      \n",
       "  higher_quality_semi_automated_edits higher_quality_non_bot_edits\n",
       "1 0                                     0                         \n",
       "2 0                                     0                         \n",
       "3 0                                     0                         \n",
       "4 0                                     0                         \n",
       "5 1                                   388                         \n",
       "6 2                                   470                         \n",
       "  higher_quality_anon_edits\n",
       "1 0                        \n",
       "2 0                        \n",
       "3 0                        \n",
       "4 0                        \n",
       "5 3                        \n",
       "6 4                        "
      ]
     },
     "metadata": {},
     "output_type": "display_data"
    }
   ],
   "source": [
    "head(sorted_entity_edits_and_misalignment_hypothesis_3)"
   ]
  },
  {
   "cell_type": "code",
   "execution_count": 80,
   "metadata": {
    "collapsed": false
   },
   "outputs": [],
   "source": [
    "misaligned_higher_quality_human_edits = data.table(i = i, n = n)"
   ]
  },
  {
   "cell_type": "code",
   "execution_count": 81,
   "metadata": {
    "collapsed": true
   },
   "outputs": [],
   "source": [
    "attach(sorted_entity_edits_and_misalignment_hypothesis_3)"
   ]
  },
  {
   "cell_type": "code",
   "execution_count": 82,
   "metadata": {
    "collapsed": false
   },
   "outputs": [],
   "source": [
    "misaligned_higher_quality_human_edits$p <- ((higher_quality_non_bot_edits+higher_quality_anon_edits)/(higher_quality_bot_edits + higher_quality_semi_automated_edits + higher_quality_non_bot_edits + higher_quality_anon_edits))"
   ]
  },
  {
   "cell_type": "code",
   "execution_count": 83,
   "metadata": {
    "collapsed": true
   },
   "outputs": [],
   "source": [
    "detach(sorted_entity_edits_and_misalignment_hypothesis_3)"
   ]
  },
  {
   "cell_type": "code",
   "execution_count": 84,
   "metadata": {
    "collapsed": false
   },
   "outputs": [],
   "source": [
    "misaligned_higher_quality_human_edits$se = sqrt((misaligned_higher_quality_human_edits$p*(1-misaligned_higher_quality_human_edits$p))/n)"
   ]
  },
  {
   "cell_type": "code",
   "execution_count": 85,
   "metadata": {
    "collapsed": false
   },
   "outputs": [],
   "source": [
    "misaligned_lower_quality_human_edits = data.table(i = i, n = n)"
   ]
  },
  {
   "cell_type": "code",
   "execution_count": null,
   "metadata": {
    "collapsed": true
   },
   "outputs": [],
   "source": []
  },
  {
   "cell_type": "code",
   "execution_count": null,
   "metadata": {
    "collapsed": false
   },
   "outputs": [],
   "source": [
    "misaligned_lower_quality_human_edits$p <- (sorted_entity_edits_and_misalignment_hypothesis_3$lower_quality_human_edits/(sorted_entity_edits_and_misalignment_hypothesis_3$lower_quality_human_edits + sorted_entity_edits_and_misalignment_hypothesis_3$lower_quality_automated_edits))"
   ]
  },
  {
   "cell_type": "code",
   "execution_count": null,
   "metadata": {
    "collapsed": true
   },
   "outputs": [],
   "source": []
  },
  {
   "cell_type": "code",
   "execution_count": 77,
   "metadata": {
    "collapsed": false
   },
   "outputs": [
    {
     "ename": "ERROR",
     "evalue": "Error in eval(expr, envir, enclos): object 'misaligned_lower_quality_human_edits' not found\n",
     "output_type": "error",
     "traceback": [
      "Error in eval(expr, envir, enclos): object 'misaligned_lower_quality_human_edits' not found\nTraceback:\n"
     ]
    }
   ],
   "source": [
    "misaligned_lower_quality_human_edits$se = sqrt((misaligned_lower_quality_human_edits$p*(1-misaligned_lower_quality_human_edits$p))/n)"
   ]
  },
  {
   "cell_type": "code",
   "execution_count": null,
   "metadata": {
    "collapsed": false
   },
   "outputs": [],
   "source": [
    "misaligned_higher_quality_human_edits$group = \"misaligned_higher_quality_human_edits\"\n",
    "misaligned_lower_quality_human_edits$group = \"misaligned_lower_quality_human_edits\""
   ]
  },
  {
   "cell_type": "code",
   "execution_count": null,
   "metadata": {
    "collapsed": false
   },
   "outputs": [],
   "source": [
    "grouped_hypothesis_3.dt = rbind(misaligned_higher_quality_human_edits, misaligned_lower_quality_human_edits)"
   ]
  },
  {
   "cell_type": "code",
   "execution_count": null,
   "metadata": {
    "collapsed": true
   },
   "outputs": [],
   "source": [
    "grouped_hypothesis_3.dt$group = factor(grouped_hypothesis_3.dt$group)"
   ]
  },
  {
   "cell_type": "code",
   "execution_count": null,
   "metadata": {
    "collapsed": false
   },
   "outputs": [],
   "source": [
    "ggplot(grouped_hypothesis_3.dt, aes(x=i, y=p, color=group, linetype=group)) + geom_line() + geom_errorbar(aes(ymin=p-se, ymax=p+se), linetype=1)"
   ]
  },
  {
   "cell_type": "markdown",
   "metadata": {
    "collapsed": true
   },
   "source": [
    "# Hypotheses 4 and 5"
   ]
  },
  {
   "cell_type": "code",
   "execution_count": null,
   "metadata": {
    "collapsed": false
   },
   "outputs": [],
   "source": [
    "grouped_hypothesis_4.dt = rbind(misaligned_higher_quality_human_edits, aligned_higher_quality_human_edits)"
   ]
  },
  {
   "cell_type": "code",
   "execution_count": null,
   "metadata": {
    "collapsed": true
   },
   "outputs": [],
   "source": [
    "grouped_hypothesis_4.dt$group = factor(grouped_hypothesis_4.dt$group)"
   ]
  },
  {
   "cell_type": "code",
   "execution_count": null,
   "metadata": {
    "collapsed": false
   },
   "outputs": [],
   "source": [
    "ggplot(grouped_hypothesis_4.dt, aes(x=i, y=p, color=group, linetype=group)) + geom_line() + geom_errorbar(aes(ymin=p-se, ymax=p+se), linetype=1)"
   ]
  },
  {
   "cell_type": "code",
   "execution_count": null,
   "metadata": {
    "collapsed": false
   },
   "outputs": [],
   "source": [
    "grouped_hypothesis_5.dt = rbind(misaligned_lower_quality_human_edits, aligned_lower_quality_human_edits)"
   ]
  },
  {
   "cell_type": "code",
   "execution_count": null,
   "metadata": {
    "collapsed": true
   },
   "outputs": [],
   "source": [
    "grouped_hypothesis_5.dt$group = factor(grouped_hypothesis_5.dt$group)"
   ]
  },
  {
   "cell_type": "code",
   "execution_count": null,
   "metadata": {
    "collapsed": false
   },
   "outputs": [],
   "source": [
    "ggplot(grouped_hypothesis_5.dt, aes(x=i, y=p, color=group, linetype=group)) + geom_line() + geom_errorbar(aes(ymin=p-se, ymax=p+se), linetype=1)"
   ]
  },
  {
   "cell_type": "code",
   "execution_count": null,
   "metadata": {
    "collapsed": true
   },
   "outputs": [],
   "source": []
  }
 ],
 "metadata": {
  "anaconda-cloud": {},
  "kernelspec": {
   "display_name": "R [r]",
   "language": "R",
   "name": "R [r]"
  },
  "language_info": {
   "codemirror_mode": "r",
   "file_extension": ".r",
   "mimetype": "text/x-r-source",
   "name": "R",
   "pygments_lexer": "r",
   "version": "3.3.2"
  }
 },
 "nbformat": 4,
 "nbformat_minor": 0
}
