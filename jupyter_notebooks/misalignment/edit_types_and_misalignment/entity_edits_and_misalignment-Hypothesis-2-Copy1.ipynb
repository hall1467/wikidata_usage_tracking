{
 "cells": [
  {
   "cell_type": "code",
   "execution_count": 1,
   "metadata": {
    "collapsed": true
   },
   "outputs": [],
   "source": [
    "library(data.table)"
   ]
  },
  {
   "cell_type": "code",
   "execution_count": 2,
   "metadata": {
    "collapsed": false,
    "scrolled": true
   },
   "outputs": [],
   "source": [
    "library(ggplot2)"
   ]
  },
  {
   "cell_type": "code",
   "execution_count": 3,
   "metadata": {
    "collapsed": true
   },
   "outputs": [],
   "source": [
    "i = 1:55"
   ]
  },
  {
   "cell_type": "code",
   "execution_count": 4,
   "metadata": {
    "collapsed": true
   },
   "outputs": [],
   "source": [
    "n = 55"
   ]
  },
  {
   "cell_type": "markdown",
   "metadata": {},
   "source": [
    "# Hypothesis 2"
   ]
  },
  {
   "cell_type": "code",
   "execution_count": 5,
   "metadata": {
    "collapsed": false
   },
   "outputs": [],
   "source": [
    "entity_edits_and_misalignment_hypothesis_2 <- read.table(\"../../../results/entity_categorization/hypothesis_2.tsv\", header=TRUE, sep=\"\\t\")"
   ]
  },
  {
   "cell_type": "code",
   "execution_count": 6,
   "metadata": {
    "collapsed": false
   },
   "outputs": [],
   "source": [
    "entity_edits_and_misalignment_hypothesis_2 <- data.table(entity_edits_and_misalignment_hypothesis_2)"
   ]
  },
  {
   "cell_type": "code",
   "execution_count": 7,
   "metadata": {
    "collapsed": false
   },
   "outputs": [
    {
     "data": {
      "text/plain": [
       "   file_date         lower_quality_bot_edits\n",
       " Min.   :      659   Min.   :       0       \n",
       " 1st Qu.: 52299989   1st Qu.:   46336       \n",
       " Median : 64918516   Median :  105845       \n",
       " Mean   : 63910811   Mean   : 2246255       \n",
       " 3rd Qu.: 86891862   3rd Qu.: 3266440       \n",
       " Max.   :105371030   Max.   :12722715       \n",
       " lower_quality_semi_automated_editslower_quality_non_bot_edits\n",
       " Min.   :  192611                                             \n",
       " 1st Qu.: 3495647                                             \n",
       " Median :11558427                                             \n",
       " Mean   :12209667                                             \n",
       " 3rd Qu.:20958094                                             \n",
       " Max.   :27038158                                             \n",
       " lower_quality_anon_edits higher_quality_bot_edits\n",
       " Min.   :   358           Min.   :      0         \n",
       " 1st Qu.:135500           1st Qu.:   5846         \n",
       " Median :283982           Median : 134104         \n",
       " Mean   :238804           Mean   :1100312         \n",
       " 3rd Qu.:335249           3rd Qu.:2178969         \n",
       " Max.   :417599           Max.   :4231461         \n",
       " higher_quality_semi_automated_edits higher_quality_non_bot_edits\n",
       " Min.   :     0                      Min.   :      0             \n",
       " 1st Qu.:   136                      1st Qu.:  12832             \n",
       " Median :  1278                      Median : 107901             \n",
       " Mean   : 83292                      Mean   : 647687             \n",
       " 3rd Qu.: 96954                      3rd Qu.:1155716             \n",
       " Max.   :529444                      Max.   :2554760             \n",
       " higher_quality_anon_edits\n",
       " Min.   :     0.0         \n",
       " 1st Qu.:   468.5         \n",
       " Median :  7546.0         \n",
       " Mean   : 33674.7         \n",
       " 3rd Qu.: 63867.0         \n",
       " Max.   :131902.0         "
      ]
     },
     "metadata": {},
     "output_type": "display_data"
    }
   ],
   "source": [
    "summary(entity_edits_and_misalignment_hypothesis_2)"
   ]
  },
  {
   "cell_type": "code",
   "execution_count": 8,
   "metadata": {
    "collapsed": true
   },
   "outputs": [],
   "source": [
    "# Remove last entry since edit data from last month is only for (part of?) first day\n",
    "sorted_entity_edits_and_misalignment_hypothesis_2 <- dplyr::arrange(entity_edits_and_misalignment_hypothesis_2, file_date)[1:55,]"
   ]
  },
  {
   "cell_type": "code",
   "execution_count": 9,
   "metadata": {
    "collapsed": false,
    "scrolled": true
   },
   "outputs": [
    {
     "data": {
      "text/html": [
       "<table>\n",
       "<thead><tr><th scope=col>file_date</th><th scope=col>lower_quality_bot_edits</th><th scope=col>lower_quality_semi_automated_editslower_quality_non_bot_edits</th><th scope=col>lower_quality_anon_edits</th><th scope=col>higher_quality_bot_edits</th><th scope=col>higher_quality_semi_automated_edits</th><th scope=col>higher_quality_non_bot_edits</th><th scope=col>higher_quality_anon_edits</th></tr></thead>\n",
       "<tbody>\n",
       "\t<tr><td>     659</td><td>    0   </td><td>192611  </td><td>  358   </td><td>0       </td><td>0       </td><td>0       </td><td>0       </td></tr>\n",
       "\t<tr><td>  165586</td><td>10894   </td><td>206207  </td><td> 1907   </td><td>0       </td><td>0       </td><td>0       </td><td>0       </td></tr>\n",
       "\t<tr><td> 1859035</td><td>19679   </td><td>321638  </td><td> 3421   </td><td>0       </td><td>0       </td><td>0       </td><td>0       </td></tr>\n",
       "\t<tr><td> 3743435</td><td>21714   </td><td>411489  </td><td> 4606   </td><td>0       </td><td>0       </td><td>0       </td><td>0       </td></tr>\n",
       "\t<tr><td> 5636693</td><td>23330   </td><td>566874  </td><td> 8094   </td><td>0       </td><td>0       </td><td>0       </td><td>0       </td></tr>\n",
       "\t<tr><td>11826141</td><td>23742   </td><td>889442  </td><td>18125   </td><td>0       </td><td>0       </td><td>0       </td><td>0       </td></tr>\n",
       "</tbody>\n",
       "</table>\n"
      ],
      "text/latex": [
       "\\begin{tabular}{r|llllllll}\n",
       " file\\_date & lower\\_quality\\_bot\\_edits & lower\\_quality\\_semi\\_automated\\_editslower\\_quality\\_non\\_bot\\_edits & lower\\_quality\\_anon\\_edits & higher\\_quality\\_bot\\_edits & higher\\_quality\\_semi\\_automated\\_edits & higher\\_quality\\_non\\_bot\\_edits & higher\\_quality\\_anon\\_edits\\\\\n",
       "\\hline\n",
       "\t      659 &     0    & 192611   &   358    & 0        & 0        & 0        & 0       \\\\\n",
       "\t   165586 & 10894    & 206207   &  1907    & 0        & 0        & 0        & 0       \\\\\n",
       "\t  1859035 & 19679    & 321638   &  3421    & 0        & 0        & 0        & 0       \\\\\n",
       "\t  3743435 & 21714    & 411489   &  4606    & 0        & 0        & 0        & 0       \\\\\n",
       "\t  5636693 & 23330    & 566874   &  8094    & 0        & 0        & 0        & 0       \\\\\n",
       "\t 11826141 & 23742    & 889442   & 18125    & 0        & 0        & 0        & 0       \\\\\n",
       "\\end{tabular}\n"
      ],
      "text/markdown": [
       "\n",
       "file_date | lower_quality_bot_edits | lower_quality_semi_automated_editslower_quality_non_bot_edits | lower_quality_anon_edits | higher_quality_bot_edits | higher_quality_semi_automated_edits | higher_quality_non_bot_edits | higher_quality_anon_edits | \n",
       "|---|---|---|---|---|---|\n",
       "|      659 |     0    | 192611   |   358    | 0        | 0        | 0        | 0        | \n",
       "|   165586 | 10894    | 206207   |  1907    | 0        | 0        | 0        | 0        | \n",
       "|  1859035 | 19679    | 321638   |  3421    | 0        | 0        | 0        | 0        | \n",
       "|  3743435 | 21714    | 411489   |  4606    | 0        | 0        | 0        | 0        | \n",
       "|  5636693 | 23330    | 566874   |  8094    | 0        | 0        | 0        | 0        | \n",
       "| 11826141 | 23742    | 889442   | 18125    | 0        | 0        | 0        | 0        | \n",
       "\n",
       "\n"
      ],
      "text/plain": [
       "  file_date lower_quality_bot_edits\n",
       "1      659      0                  \n",
       "2   165586  10894                  \n",
       "3  1859035  19679                  \n",
       "4  3743435  21714                  \n",
       "5  5636693  23330                  \n",
       "6 11826141  23742                  \n",
       "  lower_quality_semi_automated_editslower_quality_non_bot_edits\n",
       "1 192611                                                       \n",
       "2 206207                                                       \n",
       "3 321638                                                       \n",
       "4 411489                                                       \n",
       "5 566874                                                       \n",
       "6 889442                                                       \n",
       "  lower_quality_anon_edits higher_quality_bot_edits\n",
       "1   358                    0                       \n",
       "2  1907                    0                       \n",
       "3  3421                    0                       \n",
       "4  4606                    0                       \n",
       "5  8094                    0                       \n",
       "6 18125                    0                       \n",
       "  higher_quality_semi_automated_edits higher_quality_non_bot_edits\n",
       "1 0                                   0                           \n",
       "2 0                                   0                           \n",
       "3 0                                   0                           \n",
       "4 0                                   0                           \n",
       "5 0                                   0                           \n",
       "6 0                                   0                           \n",
       "  higher_quality_anon_edits\n",
       "1 0                        \n",
       "2 0                        \n",
       "3 0                        \n",
       "4 0                        \n",
       "5 0                        \n",
       "6 0                        "
      ]
     },
     "metadata": {},
     "output_type": "display_data"
    }
   ],
   "source": [
    "head(sorted_entity_edits_and_misalignment_hypothesis_2)"
   ]
  },
  {
   "cell_type": "code",
   "execution_count": 10,
   "metadata": {
    "collapsed": false
   },
   "outputs": [],
   "source": [
    "hypothesis_2_misaligned_higher_quality_human_edits = data.table(i = i, n = n)"
   ]
  },
  {
   "cell_type": "code",
   "execution_count": 11,
   "metadata": {
    "collapsed": false
   },
   "outputs": [],
   "source": [
    "hypothesis_2_misaligned_lower_quality_human_edits = data.table(i = i, n = n)"
   ]
  },
  {
   "cell_type": "code",
   "execution_count": 12,
   "metadata": {
    "collapsed": true
   },
   "outputs": [],
   "source": [
    "attach(sorted_entity_edits_and_misalignment_hypothesis_2)"
   ]
  },
  {
   "cell_type": "code",
   "execution_count": 13,
   "metadata": {
    "collapsed": false
   },
   "outputs": [],
   "source": [
    "hypothesis_2_misaligned_higher_quality_human_edits$p <- ((higher_quality_non_bot_edits+higher_quality_anon_edits)/(higher_quality_bot_edits + higher_quality_semi_automated_edits + higher_quality_non_bot_edits + higher_quality_anon_edits))"
   ]
  },
  {
   "cell_type": "code",
   "execution_count": 14,
   "metadata": {
    "collapsed": false
   },
   "outputs": [
    {
     "ename": "ERROR",
     "evalue": "Error in eval(expr, envir, enclos): object 'lower_quality_non_bot_edits' not found\n",
     "output_type": "error",
     "traceback": [
      "Error in eval(expr, envir, enclos): object 'lower_quality_non_bot_edits' not found\nTraceback:\n"
     ]
    }
   ],
   "source": [
    "hypothesis_2_misaligned_lower_quality_human_edits$p <- ((lower_quality_non_bot_edits+lower_quality_anon_edits)/(lower_quality_bot_edits + lower_quality_semi_automated_edits + lower_quality_non_bot_edits + lower_quality_anon_edits))"
   ]
  },
  {
   "cell_type": "code",
   "execution_count": null,
   "metadata": {
    "collapsed": true
   },
   "outputs": [],
   "source": [
    "detach(sorted_entity_edits_and_misalignment_hypothesis_2)"
   ]
  },
  {
   "cell_type": "code",
   "execution_count": null,
   "metadata": {
    "collapsed": false
   },
   "outputs": [],
   "source": [
    "hypothesis_2_misaligned_higher_quality_human_edits$se = sqrt((hypothesis_2_misaligned_higher_quality_human_edits$p*(1-hypothesis_2_misaligned_higher_quality_human_edits$p))/n)"
   ]
  },
  {
   "cell_type": "code",
   "execution_count": null,
   "metadata": {
    "collapsed": false
   },
   "outputs": [],
   "source": [
    "hypothesis_2_misaligned_lower_quality_human_edits$se = sqrt((hypothesis_2_misaligned_lower_quality_human_edits$p*(1-hypothesis_2_misaligned_lower_quality_human_edits$p))/n)"
   ]
  },
  {
   "cell_type": "code",
   "execution_count": null,
   "metadata": {
    "collapsed": false
   },
   "outputs": [],
   "source": [
    "hypothesis_2_misaligned_higher_quality_human_edits$group = \"misaligned_higher_quality_human_edits\"\n",
    "hypothesis_2_misaligned_lower_quality_human_edits$group = \"misaligned_lower_quality_human_edits\""
   ]
  },
  {
   "cell_type": "code",
   "execution_count": null,
   "metadata": {
    "collapsed": false
   },
   "outputs": [],
   "source": [
    "grouped_hypothesis_2.dt = rbind(hypothesis_2_misaligned_higher_quality_human_edits, hypothesis_2_misaligned_lower_quality_human_edits)"
   ]
  },
  {
   "cell_type": "code",
   "execution_count": null,
   "metadata": {
    "collapsed": true
   },
   "outputs": [],
   "source": [
    "grouped_hypothesis_2.dt$group = factor(grouped_hypothesis_2.dt$group)"
   ]
  },
  {
   "cell_type": "code",
   "execution_count": null,
   "metadata": {
    "collapsed": false
   },
   "outputs": [],
   "source": [
    "ggplot(grouped_hypothesis_2.dt, aes(x=i, y=p, color=group, linetype=group)) + geom_line() + geom_errorbar(aes(ymin=p-se, ymax=p+se), linetype=1)"
   ]
  },
  {
   "cell_type": "markdown",
   "metadata": {},
   "source": [
    "# Hypothesis 2a"
   ]
  },
  {
   "cell_type": "code",
   "execution_count": null,
   "metadata": {
    "collapsed": false
   },
   "outputs": [],
   "source": [
    "hypothesis_2a_misaligned_higher_quality_non_bot_edits = data.table(i = i, n = n)"
   ]
  },
  {
   "cell_type": "code",
   "execution_count": null,
   "metadata": {
    "collapsed": false
   },
   "outputs": [],
   "source": [
    "hypothesis_2a_misaligned_lower_quality_non_bot_edits = data.table(i = i, n = n)"
   ]
  },
  {
   "cell_type": "code",
   "execution_count": null,
   "metadata": {
    "collapsed": true
   },
   "outputs": [],
   "source": [
    "attach(sorted_entity_edits_and_misalignment_hypothesis_2)"
   ]
  },
  {
   "cell_type": "code",
   "execution_count": null,
   "metadata": {
    "collapsed": false
   },
   "outputs": [],
   "source": [
    "hypothesis_2a_misaligned_higher_quality_non_bot_edits$p <- ((higher_quality_non_bot_edits)/(higher_quality_bot_edits + higher_quality_semi_automated_edits + higher_quality_non_bot_edits + higher_quality_anon_edits))"
   ]
  },
  {
   "cell_type": "code",
   "execution_count": null,
   "metadata": {
    "collapsed": false
   },
   "outputs": [],
   "source": [
    "hypothesis_2a_misaligned_lower_quality_non_bot_edits$p <- ((lower_quality_non_bot_edits)/(lower_quality_bot_edits + lower_quality_semi_automated_edits + lower_quality_non_bot_edits + lower_quality_anon_edits))"
   ]
  },
  {
   "cell_type": "code",
   "execution_count": null,
   "metadata": {
    "collapsed": true
   },
   "outputs": [],
   "source": [
    "detach(sorted_entity_edits_and_misalignment_hypothesis_3)"
   ]
  },
  {
   "cell_type": "code",
   "execution_count": null,
   "metadata": {
    "collapsed": false
   },
   "outputs": [],
   "source": [
    "hypothesis_2a_misaligned_higher_quality_non_bot_edits$se = sqrt((hypothesis_2a_misaligned_higher_quality_non_bot_edits$p*(1-hypothesis_2a_misaligned_higher_quality_non_bot_edits$p))/n)"
   ]
  },
  {
   "cell_type": "code",
   "execution_count": null,
   "metadata": {
    "collapsed": false
   },
   "outputs": [],
   "source": [
    "hypothesis_2a_misaligned_lower_quality_non_bot_edits$se = sqrt((hypothesis_2a_misaligned_lower_quality_non_bot_edits$p*(1-hypothesis_2a_misaligned_lower_quality_non_bot_edits$p))/n)"
   ]
  },
  {
   "cell_type": "code",
   "execution_count": null,
   "metadata": {
    "collapsed": false
   },
   "outputs": [],
   "source": [
    "hypothesis_2a_misaligned_higher_quality_non_bot_edits$group = \"misaligned_higher_quality_human_edits\"\n",
    "hypothesis_2a_misaligned_lower_quality_non_bot_edits$group = \"misaligned_lower_quality_human_edits\""
   ]
  },
  {
   "cell_type": "code",
   "execution_count": null,
   "metadata": {
    "collapsed": false
   },
   "outputs": [],
   "source": [
    "grouped_hypothesis_2a.dt = rbind(hypothesis_2a_misaligned_higher_quality_non_bot_edits, hypothesis_2a_misaligned_lower_quality_non_bot_edits)"
   ]
  },
  {
   "cell_type": "code",
   "execution_count": null,
   "metadata": {
    "collapsed": true
   },
   "outputs": [],
   "source": [
    "grouped_hypothesis_2a.dt$group = factor(grouped_hypothesis_2a.dt$group)"
   ]
  },
  {
   "cell_type": "code",
   "execution_count": null,
   "metadata": {
    "collapsed": false
   },
   "outputs": [],
   "source": [
    "ggplot(grouped_hypothesis_2a.dt, aes(x=i, y=p, color=group, linetype=group)) + geom_line() + geom_errorbar(aes(ymin=p-se, ymax=p+se), linetype=1)"
   ]
  },
  {
   "cell_type": "markdown",
   "metadata": {},
   "source": [
    "# Hypothesis 3b"
   ]
  },
  {
   "cell_type": "code",
   "execution_count": null,
   "metadata": {
    "collapsed": false
   },
   "outputs": [],
   "source": [
    "hypothesis_2b_misaligned_higher_quality_anon_edits = data.table(i = i, n = n)"
   ]
  },
  {
   "cell_type": "code",
   "execution_count": null,
   "metadata": {
    "collapsed": false
   },
   "outputs": [],
   "source": [
    "hypothesis_2b_misaligned_lower_quality_anon_edits = data.table(i = i, n = n)"
   ]
  },
  {
   "cell_type": "code",
   "execution_count": null,
   "metadata": {
    "collapsed": false
   },
   "outputs": [],
   "source": [
    "attach(sorted_entity_edits_and_misalignment_hypothesis_2)"
   ]
  },
  {
   "cell_type": "code",
   "execution_count": null,
   "metadata": {
    "collapsed": false
   },
   "outputs": [],
   "source": [
    "hypothesis_2b_misaligned_higher_quality_anon_edits$p <- ((higher_quality_anon_edits)/(higher_quality_bot_edits + higher_quality_semi_automated_edits + higher_quality_non_bot_edits + higher_quality_anon_edits))"
   ]
  },
  {
   "cell_type": "code",
   "execution_count": null,
   "metadata": {
    "collapsed": false
   },
   "outputs": [],
   "source": [
    "hypothesis_2b_misaligned_lower_quality_anon_edits$p <- ((lower_quality_anon_edits)/(lower_quality_bot_edits + lower_quality_semi_automated_edits + lower_quality_non_bot_edits + lower_quality_anon_edits))"
   ]
  },
  {
   "cell_type": "code",
   "execution_count": null,
   "metadata": {
    "collapsed": true
   },
   "outputs": [],
   "source": [
    "detach(sorted_entity_edits_and_misalignment_hypothesis_2)"
   ]
  },
  {
   "cell_type": "code",
   "execution_count": null,
   "metadata": {
    "collapsed": false
   },
   "outputs": [],
   "source": [
    "hypothesis_2b_misaligned_higher_quality_anon_edits$se = sqrt((hypothesis_2b_misaligned_higher_quality_anon_edits$p*(1-hypothesis_2b_misaligned_higher_quality_anon_edits$p))/n)"
   ]
  },
  {
   "cell_type": "code",
   "execution_count": null,
   "metadata": {
    "collapsed": false
   },
   "outputs": [],
   "source": [
    "hypothesis_2b_misaligned_lower_quality_anon_edits$se = sqrt((hypothesis_2b_misaligned_lower_quality_anon_edits$p*(1-hypothesis_2b_misaligned_lower_quality_anon_edits$p))/n)"
   ]
  },
  {
   "cell_type": "code",
   "execution_count": null,
   "metadata": {
    "collapsed": false
   },
   "outputs": [],
   "source": [
    "hypothesis_2b_misaligned_higher_quality_anon_edits$group = \"misaligned_higher_quality_human_edits\"\n",
    "hypothesis_2b_misaligned_lower_quality_anon_edits$group = \"misaligned_lower_quality_human_edits\""
   ]
  },
  {
   "cell_type": "code",
   "execution_count": null,
   "metadata": {
    "collapsed": false
   },
   "outputs": [],
   "source": [
    "grouped_hypothesis_2b.dt = rbind(hypothesis_2b_misaligned_higher_quality_anon_edits, hypothesis_2b_misaligned_lower_quality_anon_edits)"
   ]
  },
  {
   "cell_type": "code",
   "execution_count": null,
   "metadata": {
    "collapsed": true
   },
   "outputs": [],
   "source": [
    "grouped_hypothesis_2b.dt$group = factor(grouped_hypothesis_2b.dt$group)"
   ]
  },
  {
   "cell_type": "code",
   "execution_count": null,
   "metadata": {
    "collapsed": false
   },
   "outputs": [],
   "source": [
    "ggplot(grouped_hypothesis_2b.dt, aes(x=i, y=p, color=group, linetype=group)) + geom_line() + geom_errorbar(aes(ymin=p-se, ymax=p+se), linetype=1)"
   ]
  }
 ],
 "metadata": {
  "anaconda-cloud": {},
  "kernelspec": {
   "display_name": "R [r]",
   "language": "R",
   "name": "R [r]"
  },
  "language_info": {
   "codemirror_mode": "r",
   "file_extension": ".r",
   "mimetype": "text/x-r-source",
   "name": "R",
   "pygments_lexer": "r",
   "version": "3.3.2"
  }
 },
 "nbformat": 4,
 "nbformat_minor": 0
}
