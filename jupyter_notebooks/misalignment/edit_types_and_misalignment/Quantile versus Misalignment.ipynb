{
 "cells": [
  {
   "cell_type": "code",
   "execution_count": 3,
   "metadata": {
    "collapsed": true
   },
   "outputs": [],
   "source": [
    "library(data.table)"
   ]
  },
  {
   "cell_type": "code",
   "execution_count": 4,
   "metadata": {
    "collapsed": true
   },
   "outputs": [],
   "source": [
    "library(ggplot2)"
   ]
  },
  {
   "cell_type": "code",
   "execution_count": 17,
   "metadata": {
    "collapsed": false
   },
   "outputs": [
    {
     "data": {
      "text/plain": [
       "    page_title            yyyy            mm     weighted_sum   \n",
       " Q1      :       1   Min.   :2014   Min.   :5   Min.   :0.0000  \n",
       " Q100    :       1   1st Qu.:2014   1st Qu.:5   1st Qu.:0.0000  \n",
       " Q1000   :       1   Median :2014   Median :5   Median :1.0075  \n",
       " Q10000  :       1   Mean   :2014   Mean   :5   Mean   :0.8812  \n",
       " Q100000 :       1   3rd Qu.:2014   3rd Qu.:5   3rd Qu.:1.1893  \n",
       " Q1000000:       1   Max.   :2014   Max.   :5   Max.   :4.9556  \n",
       " (Other) :22149764                                              \n",
       "   page_views       \n",
       " Min.   :0.000e+00  \n",
       " 1st Qu.:1.300e+01  \n",
       " Median :1.370e+02  \n",
       " Mean   :2.461e+04  \n",
       " 3rd Qu.:1.000e+03  \n",
       " Max.   :1.253e+10  \n",
       "                    "
      ]
     },
     "metadata": {},
     "output_type": "display_data"
    }
   ],
   "source": [
    "quality_and_page_views_may_2014 <- read.table(\"../../../results/misalignment_edit_types_tables_and_queries/input_for_RMSE_sub_18\", header=FALSE, sep=\"\\t\")\n",
    "colnames(quality_and_page_views_may_2014) <- c('page_title','yyyy','mm', 'weighted_sum', 'page_views')\n",
    "summary(quality_and_page_views_may_2014)\n",
    "\n",
    "quality_and_page_views_may_2014$expected_quality_quantile = ecdf(quality_and_page_views_may_2014$page_views)(quality_and_page_views_may_2014$page_view)\n",
    "weighted_sum_distribution = ecdf(quality_and_page_views_may_2014$weighted_sum)\n",
    "quality_and_page_views_may_2014$expected_quality = quantile(weighted_sum_distribution, probs=quality_and_page_views_may_2014$expected_quality_quantile)\n",
    "quality_and_page_views_may_2014$quality_difference = quality_and_page_views_may_2014$weighted_sum - quality_and_page_views_may_2014$expected_quality\n",
    "\n",
    "quantiles_and_page_views = quantile(quality_and_page_views_may_2014$page_views, probs=seq(0,1,.05))\n",
    "\n",
    "quality_and_page_views_may_2014$group = 1\n",
    "quality_and_page_views_may_2014[quality_and_page_views_may_2014$page_views <= quantiles_and_page_views[21],]$group = 1\n",
    "quality_and_page_views_may_2014[quality_and_page_views_may_2014$page_views <= quantiles_and_page_views[20],]$group = .95\n",
    "quality_and_page_views_may_2014[quality_and_page_views_may_2014$page_views <= quantiles_and_page_views[19],]$group = .9\n",
    "quality_and_page_views_may_2014[quality_and_page_views_may_2014$page_views <= quantiles_and_page_views[18],]$group = .85\n",
    "quality_and_page_views_may_2014[quality_and_page_views_may_2014$page_views <= quantiles_and_page_views[17],]$group = .8\n",
    "quality_and_page_views_may_2014[quality_and_page_views_may_2014$page_views <= quantiles_and_page_views[16],]$group = .75\n",
    "quality_and_page_views_may_2014[quality_and_page_views_may_2014$page_views <= quantiles_and_page_views[15],]$group = .7\n",
    "quality_and_page_views_may_2014[quality_and_page_views_may_2014$page_views <= quantiles_and_page_views[14],]$group = .65\n",
    "quality_and_page_views_may_2014[quality_and_page_views_may_2014$page_views <= quantiles_and_page_views[13],]$group = .6\n",
    "quality_and_page_views_may_2014[quality_and_page_views_may_2014$page_views <= quantiles_and_page_views[12],]$group = .55\n",
    "quality_and_page_views_may_2014[quality_and_page_views_may_2014$page_views <= quantiles_and_page_views[11],]$group = .5\n",
    "quality_and_page_views_may_2014[quality_and_page_views_may_2014$page_views <= quantiles_and_page_views[10],]$group = .45\n",
    "quality_and_page_views_may_2014[quality_and_page_views_may_2014$page_views <= quantiles_and_page_views[9],]$group = .4\n",
    "quality_and_page_views_may_2014[quality_and_page_views_may_2014$page_views <= quantiles_and_page_views[8],]$group = .35\n",
    "quality_and_page_views_may_2014[quality_and_page_views_may_2014$page_views <= quantiles_and_page_views[7],]$group = .3\n",
    "quality_and_page_views_may_2014[quality_and_page_views_may_2014$page_views <= quantiles_and_page_views[6],]$group = .25\n",
    "quality_and_page_views_may_2014[quality_and_page_views_may_2014$page_views <= quantiles_and_page_views[5],]$group = .2\n",
    "quality_and_page_views_may_2014[quality_and_page_views_may_2014$page_views <= quantiles_and_page_views[4],]$group = .15\n",
    "quality_and_page_views_may_2014[quality_and_page_views_may_2014$page_views <= quantiles_and_page_views[3],]$group = .1\n",
    "quality_and_page_views_may_2014[quality_and_page_views_may_2014$page_views <= quantiles_and_page_views[2],]$group = .05\n",
    "\n",
    "quality_and_page_views_may_2014$group = factor(quality_and_page_views_may_2014$group)\n",
    "\n",
    "quality_and_page_views_may_2014$group = factor(quality_and_page_views_may_2014$group)\n",
    "\n",
    "by_output_mean = by(quality_and_page_views_may_2014, quality_and_page_views_may_2014$group, function(quality_and_page_views){\n",
    "\n",
    "    mean_quality_difference = mean(quality_and_page_views$quality_difference)\n",
    "    \n",
    "    return(mean_quality_difference)\n",
    "})\n",
    "\n",
    "\n",
    "\n",
    "page_view_quantile = c(\n",
    "              '0.05',\n",
    "              '0.1',\n",
    "              '0.15',\n",
    "              '0.2', \n",
    "              '0.25', \n",
    "              '0.3', \n",
    "              '0.35', \n",
    "              '0.4', \n",
    "              '0.45', \n",
    "              '0.5', \n",
    "              '0.55', \n",
    "              '0.6', \n",
    "              '0.65', \n",
    "              '0.7', \n",
    "              '0.75', \n",
    "              '0.8', \n",
    "              '0.85', \n",
    "              '0.9', \n",
    "              '0.95', \n",
    "              '1')\n",
    "\n",
    "\n",
    "ME = c(  \n",
    "         by_output_mean[['0.05']],\n",
    "         by_output_mean[['0.1']],\n",
    "         by_output_mean[['0.15']],\n",
    "         by_output_mean[['0.2']],\n",
    "         by_output_mean[['0.25']],\n",
    "         by_output_mean[['0.3']],\n",
    "         by_output_mean[['0.35']],\n",
    "         by_output_mean[['0.4']],\n",
    "         by_output_mean[['0.45']],\n",
    "         by_output_mean[['0.5']],\n",
    "         by_output_mean[['0.55']],\n",
    "         by_output_mean[['0.6']],\n",
    "         by_output_mean[['0.65']],\n",
    "         by_output_mean[['0.7']],\n",
    "         by_output_mean[['0.75']],\n",
    "         by_output_mean[['0.8']],\n",
    "         by_output_mean[['0.85']],\n",
    "         by_output_mean[['0.9']],\n",
    "         by_output_mean[['0.95']],\n",
    "         by_output_mean[['1']])\n",
    "         \n",
    "page_view_quantiles_and_error_2014 = data.frame(page_view_quantile,ME)\n",
    "quality_and_page_views_may_2014 = NULL"
   ]
  },
  {
   "cell_type": "code",
   "execution_count": 20,
   "metadata": {
    "collapsed": false
   },
   "outputs": [
    {
     "data": {
      "text/plain": [
       "    page_title            yyyy            mm     weighted_sum  \n",
       " Q1      :       1   Min.   :2015   Min.   :5   Min.   :0.000  \n",
       " Q100    :       1   1st Qu.:2015   1st Qu.:5   1st Qu.:0.000  \n",
       " Q1000   :       1   Median :2015   Median :5   Median :1.067  \n",
       " Q10000  :       1   Mean   :2015   Mean   :5   Mean   :1.154  \n",
       " Q100000 :       1   3rd Qu.:2015   3rd Qu.:5   3rd Qu.:1.770  \n",
       " Q1000000:       1   Max.   :2015   Max.   :5   Max.   :5.000  \n",
       " (Other) :22149764                                             \n",
       "   page_views       \n",
       " Min.   :0.000e+00  \n",
       " 1st Qu.:1.300e+01  \n",
       " Median :1.370e+02  \n",
       " Mean   :2.461e+04  \n",
       " 3rd Qu.:1.000e+03  \n",
       " Max.   :1.253e+10  \n",
       "                    "
      ]
     },
     "metadata": {},
     "output_type": "display_data"
    }
   ],
   "source": [
    "quality_and_page_views_may_2015 <- read.table(\"../../../results/misalignment_edit_types_tables_and_queries/input_for_RMSE_sub_30\", header=FALSE, sep=\"\\t\")\n",
    "colnames(quality_and_page_views_may_2015) <- c('page_title','yyyy','mm', 'weighted_sum', 'page_views')\n",
    "summary(quality_and_page_views_may_2015)\n",
    "\n",
    "quality_and_page_views_may_2015$expected_quality_quantile = ecdf(quality_and_page_views_may_2015$page_views)(quality_and_page_views_may_2015$page_view)\n",
    "weighted_sum_distribution = ecdf(quality_and_page_views_may_2015$weighted_sum)\n",
    "quality_and_page_views_may_2015$expected_quality = quantile(weighted_sum_distribution, probs=quality_and_page_views_may_2015$expected_quality_quantile)\n",
    "quality_and_page_views_may_2015$quality_difference = quality_and_page_views_may_2015$weighted_sum - quality_and_page_views_may_2015$expected_quality\n",
    "\n",
    "quantiles_and_page_views = quantile(quality_and_page_views_may_2015$page_views, probs=seq(0,1,.05))\n",
    "\n",
    "quality_and_page_views_may_2015$group = 1\n",
    "quality_and_page_views_may_2015[quality_and_page_views_may_2015$page_views <= quantiles_and_page_views[21],]$group = 1\n",
    "quality_and_page_views_may_2015[quality_and_page_views_may_2015$page_views <= quantiles_and_page_views[20],]$group = .95\n",
    "quality_and_page_views_may_2015[quality_and_page_views_may_2015$page_views <= quantiles_and_page_views[19],]$group = .9\n",
    "quality_and_page_views_may_2015[quality_and_page_views_may_2015$page_views <= quantiles_and_page_views[18],]$group = .85\n",
    "quality_and_page_views_may_2015[quality_and_page_views_may_2015$page_views <= quantiles_and_page_views[17],]$group = .8\n",
    "quality_and_page_views_may_2015[quality_and_page_views_may_2015$page_views <= quantiles_and_page_views[16],]$group = .75\n",
    "quality_and_page_views_may_2015[quality_and_page_views_may_2015$page_views <= quantiles_and_page_views[15],]$group = .7\n",
    "quality_and_page_views_may_2015[quality_and_page_views_may_2015$page_views <= quantiles_and_page_views[14],]$group = .65\n",
    "quality_and_page_views_may_2015[quality_and_page_views_may_2015$page_views <= quantiles_and_page_views[13],]$group = .6\n",
    "quality_and_page_views_may_2015[quality_and_page_views_may_2015$page_views <= quantiles_and_page_views[12],]$group = .55\n",
    "quality_and_page_views_may_2015[quality_and_page_views_may_2015$page_views <= quantiles_and_page_views[11],]$group = .5\n",
    "quality_and_page_views_may_2015[quality_and_page_views_may_2015$page_views <= quantiles_and_page_views[10],]$group = .45\n",
    "quality_and_page_views_may_2015[quality_and_page_views_may_2015$page_views <= quantiles_and_page_views[9],]$group = .4\n",
    "quality_and_page_views_may_2015[quality_and_page_views_may_2015$page_views <= quantiles_and_page_views[8],]$group = .35\n",
    "quality_and_page_views_may_2015[quality_and_page_views_may_2015$page_views <= quantiles_and_page_views[7],]$group = .3\n",
    "quality_and_page_views_may_2015[quality_and_page_views_may_2015$page_views <= quantiles_and_page_views[6],]$group = .25\n",
    "quality_and_page_views_may_2015[quality_and_page_views_may_2015$page_views <= quantiles_and_page_views[5],]$group = .2\n",
    "quality_and_page_views_may_2015[quality_and_page_views_may_2015$page_views <= quantiles_and_page_views[4],]$group = .15\n",
    "quality_and_page_views_may_2015[quality_and_page_views_may_2015$page_views <= quantiles_and_page_views[3],]$group = .1\n",
    "quality_and_page_views_may_2015[quality_and_page_views_may_2015$page_views <= quantiles_and_page_views[2],]$group = .05\n",
    "\n",
    "quality_and_page_views_may_2015$group = factor(quality_and_page_views_may_2015$group)\n",
    "\n",
    "quality_and_page_views_may_2015$group = factor(quality_and_page_views_may_2015$group)\n",
    "\n",
    "by_output_mean = by(quality_and_page_views_may_2015, quality_and_page_views_may_2015$group, function(quality_and_page_views){\n",
    "\n",
    "    mean_quality_difference = mean(quality_and_page_views$quality_difference)\n",
    "    \n",
    "    return(mean_quality_difference)\n",
    "})\n",
    "\n",
    "\n",
    "\n",
    "page_view_quantile = c(\n",
    "              '0.05',\n",
    "              '0.1',\n",
    "              '0.15',\n",
    "              '0.2', \n",
    "              '0.25', \n",
    "              '0.3', \n",
    "              '0.35', \n",
    "              '0.4', \n",
    "              '0.45', \n",
    "              '0.5', \n",
    "              '0.55', \n",
    "              '0.6', \n",
    "              '0.65', \n",
    "              '0.7', \n",
    "              '0.75', \n",
    "              '0.8', \n",
    "              '0.85', \n",
    "              '0.9', \n",
    "              '0.95', \n",
    "              '1')\n",
    "\n",
    "\n",
    "ME = c(  \n",
    "         by_output_mean[['0.05']],\n",
    "         by_output_mean[['0.1']],\n",
    "         by_output_mean[['0.15']],\n",
    "         by_output_mean[['0.2']],\n",
    "         by_output_mean[['0.25']],\n",
    "         by_output_mean[['0.3']],\n",
    "         by_output_mean[['0.35']],\n",
    "         by_output_mean[['0.4']],\n",
    "         by_output_mean[['0.45']],\n",
    "         by_output_mean[['0.5']],\n",
    "         by_output_mean[['0.55']],\n",
    "         by_output_mean[['0.6']],\n",
    "         by_output_mean[['0.65']],\n",
    "         by_output_mean[['0.7']],\n",
    "         by_output_mean[['0.75']],\n",
    "         by_output_mean[['0.8']],\n",
    "         by_output_mean[['0.85']],\n",
    "         by_output_mean[['0.9']],\n",
    "         by_output_mean[['0.95']],\n",
    "         by_output_mean[['1']])\n",
    "         \n",
    "page_view_quantiles_and_error_2015 = data.frame(page_view_quantile,ME)\n",
    "# quality_and_page_views_may_2015 = NULL"
   ]
  },
  {
   "cell_type": "code",
   "execution_count": 21,
   "metadata": {
    "collapsed": false
   },
   "outputs": [
    {
     "data": {
      "text/html": [
       "<dl class=dl-horizontal>\n",
       "\t<dt>0%</dt>\n",
       "\t\t<dd>0</dd>\n",
       "\t<dt>5%</dt>\n",
       "\t\t<dd>1</dd>\n",
       "\t<dt>10%</dt>\n",
       "\t\t<dd>2</dd>\n",
       "\t<dt>15%</dt>\n",
       "\t\t<dd>4</dd>\n",
       "\t<dt>20%</dt>\n",
       "\t\t<dd>7</dd>\n",
       "\t<dt>25%</dt>\n",
       "\t\t<dd>13</dd>\n",
       "</dl>\n"
      ],
      "text/latex": [
       "\\begin{description*}\n",
       "\\item[0\\textbackslash{}\\%] 0\n",
       "\\item[5\\textbackslash{}\\%] 1\n",
       "\\item[10\\textbackslash{}\\%] 2\n",
       "\\item[15\\textbackslash{}\\%] 4\n",
       "\\item[20\\textbackslash{}\\%] 7\n",
       "\\item[25\\textbackslash{}\\%] 13\n",
       "\\end{description*}\n"
      ],
      "text/markdown": [
       "0%\n",
       ":   05%\n",
       ":   110%\n",
       ":   215%\n",
       ":   420%\n",
       ":   725%\n",
       ":   13\n",
       "\n"
      ],
      "text/plain": [
       " 0%  5% 10% 15% 20% 25% \n",
       "  0   1   2   4   7  13 "
      ]
     },
     "metadata": {},
     "output_type": "display_data"
    },
    {
     "data": {
      "text/html": [
       "5518629"
      ],
      "text/latex": [
       "5518629"
      ],
      "text/markdown": [
       "5518629"
      ],
      "text/plain": [
       "[1] 5518629"
      ]
     },
     "metadata": {},
     "output_type": "display_data"
    },
    {
     "data": {
      "text/html": [
       "22149770"
      ],
      "text/latex": [
       "22149770"
      ],
      "text/markdown": [
       "22149770"
      ],
      "text/plain": [
       "[1] 22149770"
      ]
     },
     "metadata": {},
     "output_type": "display_data"
    }
   ],
   "source": [
    "head(quantiles_and_page_views)\n",
    "nrow(quality_and_page_views_may_2015[quality_and_page_views_may_2015$page_views < 13,])\n",
    "nrow(quality_and_page_views_may_2015)"
   ]
  },
  {
   "cell_type": "code",
   "execution_count": 18,
   "metadata": {
    "collapsed": false
   },
   "outputs": [
    {
     "data": {
      "text/plain": [
       "    page_title            yyyy            mm     weighted_sum  \n",
       " Q1      :       1   Min.   :2016   Min.   :5   Min.   :0.000  \n",
       " Q100    :       1   1st Qu.:2016   1st Qu.:5   1st Qu.:1.011  \n",
       " Q1000   :       1   Median :2016   Median :5   Median :1.191  \n",
       " Q10000  :       1   Mean   :2016   Mean   :5   Mean   :1.494  \n",
       " Q100000 :       1   3rd Qu.:2016   3rd Qu.:5   3rd Qu.:2.063  \n",
       " Q1000000:       1   Max.   :2016   Max.   :5   Max.   :5.000  \n",
       " (Other) :22149764                                             \n",
       "   page_views       \n",
       " Min.   :0.000e+00  \n",
       " 1st Qu.:1.300e+01  \n",
       " Median :1.370e+02  \n",
       " Mean   :2.461e+04  \n",
       " 3rd Qu.:1.000e+03  \n",
       " Max.   :1.253e+10  \n",
       "                    "
      ]
     },
     "metadata": {},
     "output_type": "display_data"
    }
   ],
   "source": [
    "quality_and_page_views_may_2016 <- read.table(\"../../../results/misalignment_edit_types_tables_and_queries/input_for_RMSE_sub_42\", header=FALSE, sep=\"\\t\")\n",
    "colnames(quality_and_page_views_may_2016) <- c('page_title','yyyy','mm', 'weighted_sum', 'page_views')\n",
    "summary(quality_and_page_views_may_2016)\n",
    "\n",
    "quality_and_page_views_may_2016$expected_quality_quantile = ecdf(quality_and_page_views_may_2016$page_views)(quality_and_page_views_may_2016$page_view)\n",
    "weighted_sum_distribution = ecdf(quality_and_page_views_may_2016$weighted_sum)\n",
    "quality_and_page_views_may_2016$expected_quality = quantile(weighted_sum_distribution, probs=quality_and_page_views_may_2016$expected_quality_quantile)\n",
    "quality_and_page_views_may_2016$quality_difference = quality_and_page_views_may_2016$weighted_sum - quality_and_page_views_may_2016$expected_quality\n",
    "\n",
    "quantiles_and_page_views = quantile(quality_and_page_views_may_2016$page_views, probs=seq(0,1,.05))\n",
    "\n",
    "quality_and_page_views_may_2016$group = 1\n",
    "quality_and_page_views_may_2016[quality_and_page_views_may_2016$page_views <= quantiles_and_page_views[21],]$group = 1\n",
    "quality_and_page_views_may_2016[quality_and_page_views_may_2016$page_views <= quantiles_and_page_views[20],]$group = .95\n",
    "quality_and_page_views_may_2016[quality_and_page_views_may_2016$page_views <= quantiles_and_page_views[19],]$group = .9\n",
    "quality_and_page_views_may_2016[quality_and_page_views_may_2016$page_views <= quantiles_and_page_views[18],]$group = .85\n",
    "quality_and_page_views_may_2016[quality_and_page_views_may_2016$page_views <= quantiles_and_page_views[17],]$group = .8\n",
    "quality_and_page_views_may_2016[quality_and_page_views_may_2016$page_views <= quantiles_and_page_views[16],]$group = .75\n",
    "quality_and_page_views_may_2016[quality_and_page_views_may_2016$page_views <= quantiles_and_page_views[15],]$group = .7\n",
    "quality_and_page_views_may_2016[quality_and_page_views_may_2016$page_views <= quantiles_and_page_views[14],]$group = .65\n",
    "quality_and_page_views_may_2016[quality_and_page_views_may_2016$page_views <= quantiles_and_page_views[13],]$group = .6\n",
    "quality_and_page_views_may_2016[quality_and_page_views_may_2016$page_views <= quantiles_and_page_views[12],]$group = .55\n",
    "quality_and_page_views_may_2016[quality_and_page_views_may_2016$page_views <= quantiles_and_page_views[11],]$group = .5\n",
    "quality_and_page_views_may_2016[quality_and_page_views_may_2016$page_views <= quantiles_and_page_views[10],]$group = .45\n",
    "quality_and_page_views_may_2016[quality_and_page_views_may_2016$page_views <= quantiles_and_page_views[9],]$group = .4\n",
    "quality_and_page_views_may_2016[quality_and_page_views_may_2016$page_views <= quantiles_and_page_views[8],]$group = .35\n",
    "quality_and_page_views_may_2016[quality_and_page_views_may_2016$page_views <= quantiles_and_page_views[7],]$group = .3\n",
    "quality_and_page_views_may_2016[quality_and_page_views_may_2016$page_views <= quantiles_and_page_views[6],]$group = .25\n",
    "quality_and_page_views_may_2016[quality_and_page_views_may_2016$page_views <= quantiles_and_page_views[5],]$group = .2\n",
    "quality_and_page_views_may_2016[quality_and_page_views_may_2016$page_views <= quantiles_and_page_views[4],]$group = .15\n",
    "quality_and_page_views_may_2016[quality_and_page_views_may_2016$page_views <= quantiles_and_page_views[3],]$group = .1\n",
    "quality_and_page_views_may_2016[quality_and_page_views_may_2016$page_views <= quantiles_and_page_views[2],]$group = .05\n",
    "\n",
    "quality_and_page_views_may_2016$group = factor(quality_and_page_views_may_2016$group)\n",
    "\n",
    "quality_and_page_views_may_2016$group = factor(quality_and_page_views_may_2016$group)\n",
    "\n",
    "by_output_mean = by(quality_and_page_views_may_2016, quality_and_page_views_may_2016$group, function(quality_and_page_views){\n",
    "\n",
    "    mean_quality_difference = mean(quality_and_page_views$quality_difference)\n",
    "    \n",
    "    return(mean_quality_difference)\n",
    "})\n",
    "\n",
    "\n",
    "\n",
    "page_view_quantile = c(\n",
    "              '0.05',\n",
    "              '0.1',\n",
    "              '0.15',\n",
    "              '0.2', \n",
    "              '0.25', \n",
    "              '0.3', \n",
    "              '0.35', \n",
    "              '0.4', \n",
    "              '0.45', \n",
    "              '0.5', \n",
    "              '0.55', \n",
    "              '0.6', \n",
    "              '0.65', \n",
    "              '0.7', \n",
    "              '0.75', \n",
    "              '0.8', \n",
    "              '0.85', \n",
    "              '0.9', \n",
    "              '0.95', \n",
    "              '1')\n",
    "\n",
    "\n",
    "ME = c(  \n",
    "         by_output_mean[['0.05']],\n",
    "         by_output_mean[['0.1']],\n",
    "         by_output_mean[['0.15']],\n",
    "         by_output_mean[['0.2']],\n",
    "         by_output_mean[['0.25']],\n",
    "         by_output_mean[['0.3']],\n",
    "         by_output_mean[['0.35']],\n",
    "         by_output_mean[['0.4']],\n",
    "         by_output_mean[['0.45']],\n",
    "         by_output_mean[['0.5']],\n",
    "         by_output_mean[['0.55']],\n",
    "         by_output_mean[['0.6']],\n",
    "         by_output_mean[['0.65']],\n",
    "         by_output_mean[['0.7']],\n",
    "         by_output_mean[['0.75']],\n",
    "         by_output_mean[['0.8']],\n",
    "         by_output_mean[['0.85']],\n",
    "         by_output_mean[['0.9']],\n",
    "         by_output_mean[['0.95']],\n",
    "         by_output_mean[['1']])\n",
    "         \n",
    "page_view_quantiles_and_error_2016 = data.frame(page_view_quantile,ME)\n",
    "quality_and_page_views_may_2016 = NULL"
   ]
  },
  {
   "cell_type": "code",
   "execution_count": 19,
   "metadata": {
    "collapsed": false
   },
   "outputs": [
    {
     "data": {
      "text/plain": [
       "    page_title            yyyy            mm     weighted_sum  \n",
       " Q1      :       1   Min.   :2017   Min.   :5   Min.   :1.003  \n",
       " Q100    :       1   1st Qu.:2017   1st Qu.:5   1st Qu.:1.098  \n",
       " Q1000   :       1   Median :2017   Median :5   Median :1.379  \n",
       " Q10000  :       1   Mean   :2017   Mean   :5   Mean   :1.783  \n",
       " Q100000 :       1   3rd Qu.:2017   3rd Qu.:5   3rd Qu.:2.466  \n",
       " Q1000000:       1   Max.   :2017   Max.   :5   Max.   :5.000  \n",
       " (Other) :22149764                                             \n",
       "   page_views       \n",
       " Min.   :0.000e+00  \n",
       " 1st Qu.:1.300e+01  \n",
       " Median :1.370e+02  \n",
       " Mean   :2.461e+04  \n",
       " 3rd Qu.:1.000e+03  \n",
       " Max.   :1.253e+10  \n",
       "                    "
      ]
     },
     "metadata": {},
     "output_type": "display_data"
    }
   ],
   "source": [
    "quality_and_page_views_may_2017 <- read.table(\"../../../results/misalignment_edit_types_tables_and_queries/input_for_RMSE_sub_54\", header=FALSE, sep=\"\\t\")\n",
    "colnames(quality_and_page_views_may_2017) <- c('page_title','yyyy','mm', 'weighted_sum', 'page_views')\n",
    "summary(quality_and_page_views_may_2017)\n",
    "\n",
    "quality_and_page_views_may_2017$expected_quality_quantile = ecdf(quality_and_page_views_may_2017$page_views)(quality_and_page_views_may_2017$page_view)\n",
    "weighted_sum_distribution = ecdf(quality_and_page_views_may_2017$weighted_sum)\n",
    "quality_and_page_views_may_2017$expected_quality = quantile(weighted_sum_distribution, probs=quality_and_page_views_may_2017$expected_quality_quantile)\n",
    "quality_and_page_views_may_2017$quality_difference = quality_and_page_views_may_2017$weighted_sum - quality_and_page_views_may_2017$expected_quality\n",
    "\n",
    "quantiles_and_page_views = quantile(quality_and_page_views_may_2017$page_views, probs=seq(0,1,.05))\n",
    "\n",
    "quality_and_page_views_may_2017$group = 1\n",
    "quality_and_page_views_may_2017[quality_and_page_views_may_2017$page_views <= quantiles_and_page_views[21],]$group = 1\n",
    "quality_and_page_views_may_2017[quality_and_page_views_may_2017$page_views <= quantiles_and_page_views[20],]$group = .95\n",
    "quality_and_page_views_may_2017[quality_and_page_views_may_2017$page_views <= quantiles_and_page_views[19],]$group = .9\n",
    "quality_and_page_views_may_2017[quality_and_page_views_may_2017$page_views <= quantiles_and_page_views[18],]$group = .85\n",
    "quality_and_page_views_may_2017[quality_and_page_views_may_2017$page_views <= quantiles_and_page_views[17],]$group = .8\n",
    "quality_and_page_views_may_2017[quality_and_page_views_may_2017$page_views <= quantiles_and_page_views[16],]$group = .75\n",
    "quality_and_page_views_may_2017[quality_and_page_views_may_2017$page_views <= quantiles_and_page_views[15],]$group = .7\n",
    "quality_and_page_views_may_2017[quality_and_page_views_may_2017$page_views <= quantiles_and_page_views[14],]$group = .65\n",
    "quality_and_page_views_may_2017[quality_and_page_views_may_2017$page_views <= quantiles_and_page_views[13],]$group = .6\n",
    "quality_and_page_views_may_2017[quality_and_page_views_may_2017$page_views <= quantiles_and_page_views[12],]$group = .55\n",
    "quality_and_page_views_may_2017[quality_and_page_views_may_2017$page_views <= quantiles_and_page_views[11],]$group = .5\n",
    "quality_and_page_views_may_2017[quality_and_page_views_may_2017$page_views <= quantiles_and_page_views[10],]$group = .45\n",
    "quality_and_page_views_may_2017[quality_and_page_views_may_2017$page_views <= quantiles_and_page_views[9],]$group = .4\n",
    "quality_and_page_views_may_2017[quality_and_page_views_may_2017$page_views <= quantiles_and_page_views[8],]$group = .35\n",
    "quality_and_page_views_may_2017[quality_and_page_views_may_2017$page_views <= quantiles_and_page_views[7],]$group = .3\n",
    "quality_and_page_views_may_2017[quality_and_page_views_may_2017$page_views <= quantiles_and_page_views[6],]$group = .25\n",
    "quality_and_page_views_may_2017[quality_and_page_views_may_2017$page_views <= quantiles_and_page_views[5],]$group = .2\n",
    "quality_and_page_views_may_2017[quality_and_page_views_may_2017$page_views <= quantiles_and_page_views[4],]$group = .15\n",
    "quality_and_page_views_may_2017[quality_and_page_views_may_2017$page_views <= quantiles_and_page_views[3],]$group = .1\n",
    "quality_and_page_views_may_2017[quality_and_page_views_may_2017$page_views <= quantiles_and_page_views[2],]$group = .05\n",
    "\n",
    "quality_and_page_views_may_2017$group = factor(quality_and_page_views_may_2017$group)\n",
    "\n",
    "quality_and_page_views_may_2017$group = factor(quality_and_page_views_may_2017$group)\n",
    "\n",
    "by_output_mean = by(quality_and_page_views_may_2017, quality_and_page_views_may_2017$group, function(quality_and_page_views){\n",
    "\n",
    "    mean_quality_difference = mean(quality_and_page_views$quality_difference)\n",
    "    \n",
    "    return(mean_quality_difference)\n",
    "})\n",
    "\n",
    "\n",
    "\n",
    "page_view_quantile = c(\n",
    "              '0.05',\n",
    "              '0.1',\n",
    "              '0.15',\n",
    "              '0.2', \n",
    "              '0.25', \n",
    "              '0.3', \n",
    "              '0.35', \n",
    "              '0.4', \n",
    "              '0.45', \n",
    "              '0.5', \n",
    "              '0.55', \n",
    "              '0.6', \n",
    "              '0.65', \n",
    "              '0.7', \n",
    "              '0.75', \n",
    "              '0.8', \n",
    "              '0.85', \n",
    "              '0.9', \n",
    "              '0.95', \n",
    "              '1')\n",
    "\n",
    "\n",
    "ME = c(  \n",
    "         by_output_mean[['0.05']],\n",
    "         by_output_mean[['0.1']],\n",
    "         by_output_mean[['0.15']],\n",
    "         by_output_mean[['0.2']],\n",
    "         by_output_mean[['0.25']],\n",
    "         by_output_mean[['0.3']],\n",
    "         by_output_mean[['0.35']],\n",
    "         by_output_mean[['0.4']],\n",
    "         by_output_mean[['0.45']],\n",
    "         by_output_mean[['0.5']],\n",
    "         by_output_mean[['0.55']],\n",
    "         by_output_mean[['0.6']],\n",
    "         by_output_mean[['0.65']],\n",
    "         by_output_mean[['0.7']],\n",
    "         by_output_mean[['0.75']],\n",
    "         by_output_mean[['0.8']],\n",
    "         by_output_mean[['0.85']],\n",
    "         by_output_mean[['0.9']],\n",
    "         by_output_mean[['0.95']],\n",
    "         by_output_mean[['1']])\n",
    "         \n",
    "page_view_quantiles_and_error_2017 = data.frame(page_view_quantile,ME)\n",
    "quality_and_page_views_may_2017 = NULL"
   ]
  },
  {
   "cell_type": "code",
   "execution_count": 20,
   "metadata": {
    "collapsed": false
   },
   "outputs": [
    {
     "data": {
      "text/html": [
       "<table>\n",
       "<thead><tr><th scope=col>page_view_quantile</th><th scope=col>ME</th></tr></thead>\n",
       "<tbody>\n",
       "\t<tr><td>0.05     </td><td>0.6015994</td></tr>\n",
       "\t<tr><td>0.1      </td><td>0.6350494</td></tr>\n",
       "\t<tr><td>0.15     </td><td>0.7851589</td></tr>\n",
       "\t<tr><td>0.2      </td><td>0.8308841</td></tr>\n",
       "\t<tr><td>0.25     </td><td>0.7799593</td></tr>\n",
       "\t<tr><td>0.3      </td><td>0.5593515</td></tr>\n",
       "</tbody>\n",
       "</table>\n"
      ],
      "text/latex": [
       "\\begin{tabular}{r|ll}\n",
       " page\\_view\\_quantile & ME\\\\\n",
       "\\hline\n",
       "\t 0.05      & 0.6015994\\\\\n",
       "\t 0.1       & 0.6350494\\\\\n",
       "\t 0.15      & 0.7851589\\\\\n",
       "\t 0.2       & 0.8308841\\\\\n",
       "\t 0.25      & 0.7799593\\\\\n",
       "\t 0.3       & 0.5593515\\\\\n",
       "\\end{tabular}\n"
      ],
      "text/markdown": [
       "\n",
       "page_view_quantile | ME | \n",
       "|---|---|---|---|---|---|\n",
       "| 0.05      | 0.6015994 | \n",
       "| 0.1       | 0.6350494 | \n",
       "| 0.15      | 0.7851589 | \n",
       "| 0.2       | 0.8308841 | \n",
       "| 0.25      | 0.7799593 | \n",
       "| 0.3       | 0.5593515 | \n",
       "\n",
       "\n"
      ],
      "text/plain": [
       "  page_view_quantile ME       \n",
       "1 0.05               0.6015994\n",
       "2 0.1                0.6350494\n",
       "3 0.15               0.7851589\n",
       "4 0.2                0.8308841\n",
       "5 0.25               0.7799593\n",
       "6 0.3                0.5593515"
      ]
     },
     "metadata": {},
     "output_type": "display_data"
    }
   ],
   "source": [
    "head(page_view_quantiles_and_error_2017)"
   ]
  },
  {
   "cell_type": "code",
   "execution_count": 24,
   "metadata": {
    "collapsed": false
   },
   "outputs": [
    {
     "data": {
      "text/html": [
       "80"
      ],
      "text/latex": [
       "80"
      ],
      "text/markdown": [
       "80"
      ],
      "text/plain": [
       "[1] 80"
      ]
     },
     "metadata": {},
     "output_type": "display_data"
    }
   ],
   "source": [
    "page_view_quantiles_and_error_2014$group = \"2014\"\n",
    "page_view_quantiles_and_error_2015$group = \"2015\"\n",
    "page_view_quantiles_and_error_2016$group = \"2016\"\n",
    "page_view_quantiles_and_error_2017$group = \"2017\"\n",
    "\n",
    "page_view_quantiles_and_error = \n",
    "    rbind(rbind(rbind(page_view_quantiles_and_error_2014,\n",
    "                      page_view_quantiles_and_error_2015),\n",
    "                      page_view_quantiles_and_error_2016),\n",
    "                      page_view_quantiles_and_error_2017)\n",
    "\n",
    "page_view_quantiles_and_error$group = factor(page_view_quantiles_and_error$group)\n",
    "\n",
    "nrow(page_view_quantiles_and_error)"
   ]
  },
  {
   "cell_type": "code",
   "execution_count": 27,
   "metadata": {
    "collapsed": false
   },
   "outputs": [
    {
     "name": "stderr",
     "output_type": "stream",
     "text": [
      "Loading required package: viridisLite\n"
     ]
    }
   ],
   "source": [
    "library(viridis)"
   ]
  },
  {
   "cell_type": "code",
   "execution_count": 3,
   "metadata": {
    "collapsed": false
   },
   "outputs": [
    {
     "ename": "ERROR",
     "evalue": "Error in ggplot(page_view_quantiles_and_error, aes(x = page_view_quantile, : object 'page_view_quantiles_and_error' not found\n",
     "output_type": "error",
     "traceback": [
      "Error in ggplot(page_view_quantiles_and_error, aes(x = page_view_quantile, : object 'page_view_quantiles_and_error' not found\nTraceback:\n",
      "1. ggplot(page_view_quantiles_and_error, aes(x = page_view_quantile, \n .     y = ME, color = group, linetype = group, group = group))"
     ]
    }
   ],
   "source": [
    "ggplot(page_view_quantiles_and_error,\n",
    "       aes(x=page_view_quantile, y=ME, color=group, linetype=group, group = group)) + geom_point() + \n",
    "ggtitle(\"Item Expected Quality Quantile versus Mean Quality Difference\") + geom_line() +\n",
    "scale_color_viridis(discrete=TRUE) + labs(y = \"mean quality difference (actual - expected)\")"
   ]
  },
  {
   "cell_type": "code",
   "execution_count": null,
   "metadata": {
    "collapsed": true
   },
   "outputs": [],
   "source": []
  },
  {
   "cell_type": "code",
   "execution_count": null,
   "metadata": {
    "collapsed": true
   },
   "outputs": [],
   "source": []
  },
  {
   "cell_type": "code",
   "execution_count": 12,
   "metadata": {
    "collapsed": false
   },
   "outputs": [
    {
     "data": {
      "text/plain": [
       "quality_and_page_views_may_2017$group: 0.05\n",
       "[1] 1762587\n",
       "------------------------------------------------------------ \n",
       "quality_and_page_views_may_2017$group: 0.1\n",
       "[1] 752529\n",
       "------------------------------------------------------------ \n",
       "quality_and_page_views_may_2017$group: 0.15\n",
       "[1] 1029916\n",
       "------------------------------------------------------------ \n",
       "quality_and_page_views_may_2017$group: 0.2\n",
       "[1] 1005621\n",
       "------------------------------------------------------------ \n",
       "quality_and_page_views_may_2017$group: 0.25\n",
       "[1] 1106260\n",
       "------------------------------------------------------------ \n",
       "quality_and_page_views_may_2017$group: 0.3\n",
       "[1] 1016050\n",
       "------------------------------------------------------------ \n",
       "quality_and_page_views_may_2017$group: 0.35\n",
       "[1] 1109347\n",
       "------------------------------------------------------------ \n",
       "quality_and_page_views_may_2017$group: 0.4\n",
       "[1] 1115781\n",
       "------------------------------------------------------------ \n",
       "quality_and_page_views_may_2017$group: 0.45\n",
       "[1] 1093332\n",
       "------------------------------------------------------------ \n",
       "quality_and_page_views_may_2017$group: 0.5\n",
       "[1] 1100568\n",
       "------------------------------------------------------------ \n",
       "quality_and_page_views_may_2017$group: 0.55\n",
       "[1] 1102804\n",
       "------------------------------------------------------------ \n",
       "quality_and_page_views_may_2017$group: 0.6\n",
       "[1] 1095578\n",
       "------------------------------------------------------------ \n",
       "quality_and_page_views_may_2017$group: 0.65\n",
       "[1] 1107055\n",
       "------------------------------------------------------------ \n",
       "quality_and_page_views_may_2017$group: 0.7\n",
       "[1] 1111273\n",
       "------------------------------------------------------------ \n",
       "quality_and_page_views_may_2017$group: 0.75\n",
       "[1] 1105474\n",
       "------------------------------------------------------------ \n",
       "quality_and_page_views_may_2017$group: 0.8\n",
       "[1] 1106907\n",
       "------------------------------------------------------------ \n",
       "quality_and_page_views_may_2017$group: 0.85\n",
       "[1] 1106586\n",
       "------------------------------------------------------------ \n",
       "quality_and_page_views_may_2017$group: 0.9\n",
       "[1] 1107250\n",
       "------------------------------------------------------------ \n",
       "quality_and_page_views_may_2017$group: 0.95\n",
       "[1] 1107402\n",
       "------------------------------------------------------------ \n",
       "quality_and_page_views_may_2017$group: 1\n",
       "[1] 1107449"
      ]
     },
     "metadata": {},
     "output_type": "display_data"
    }
   ],
   "source": [
    "by(quality_and_page_views_may_2017, quality_and_page_views_may_2017$group, function(quality_and_page_views){\n",
    "    \n",
    "    return(nrow(quality_and_page_views))\n",
    "})"
   ]
  },
  {
   "cell_type": "code",
   "execution_count": null,
   "metadata": {
    "collapsed": true
   },
   "outputs": [],
   "source": []
  }
 ],
 "metadata": {
  "anaconda-cloud": {},
  "kernelspec": {
   "display_name": "R [r]",
   "language": "R",
   "name": "R [r]"
  },
  "language_info": {
   "codemirror_mode": "r",
   "file_extension": ".r",
   "mimetype": "text/x-r-source",
   "name": "R",
   "pygments_lexer": "r",
   "version": "3.3.2"
  }
 },
 "nbformat": 4,
 "nbformat_minor": 0
}
