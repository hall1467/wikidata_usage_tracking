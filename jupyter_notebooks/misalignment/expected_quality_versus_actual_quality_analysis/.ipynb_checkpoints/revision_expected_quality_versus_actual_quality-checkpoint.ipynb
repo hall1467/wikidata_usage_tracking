{
 "cells": [
  {
   "cell_type": "code",
   "execution_count": 1,
   "metadata": {
    "collapsed": true
   },
   "outputs": [],
   "source": [
    "library(data.table)"
   ]
  },
  {
   "cell_type": "code",
   "execution_count": 2,
   "metadata": {
    "collapsed": true
   },
   "outputs": [],
   "source": [
    "library(plyr)"
   ]
  },
  {
   "cell_type": "code",
   "execution_count": 3,
   "metadata": {
    "collapsed": true
   },
   "outputs": [],
   "source": [
    "library(ggplot2)"
   ]
  },
  {
   "cell_type": "code",
   "execution_count": 4,
   "metadata": {
    "collapsed": true
   },
   "outputs": [],
   "source": [
    "revisions_weighted_sums_and_page_views_2013_2014 <- read.table(\"../../../results/misalignment_edit_types_tables_and_queries/revision_edit_and_agent_type_may_2013_to_2014_million_sampled_with_weighted_score_extracted.tsv\", header=TRUE, sep=\"\\t\")"
   ]
  },
  {
   "cell_type": "code",
   "execution_count": 5,
   "metadata": {
    "collapsed": true
   },
   "outputs": [],
   "source": [
    "revisions_weighted_sums_and_page_views_2014_2015 <- read.table(\"../../../results/misalignment_edit_types_tables_and_queries/revision_edit_and_agent_type_may_2014_to_2015_million_sampled_with_weighted_score_extracted.tsv\", header=TRUE, sep=\"\\t\")"
   ]
  },
  {
   "cell_type": "code",
   "execution_count": 6,
   "metadata": {
    "collapsed": false
   },
   "outputs": [],
   "source": [
    "revisions_weighted_sums_and_page_views_2015_2016 <- read.table(\"../../../results/misalignment_edit_types_tables_and_queries/revision_edit_and_agent_type_may_2015_to_2016_million_sampled_with_weighted_score_extracted.tsv\", header=TRUE, sep=\"\\t\")"
   ]
  },
  {
   "cell_type": "code",
   "execution_count": 7,
   "metadata": {
    "collapsed": false
   },
   "outputs": [],
   "source": [
    "revisions_weighted_sums_and_page_views_2016_2017 <- read.table(\"../../../results/misalignment_edit_types_tables_and_queries/revision_edit_and_agent_type_may_2016_to_2017_million_sampled_with_weighted_score_extracted.tsv\", header=TRUE, sep=\"\\t\")"
   ]
  },
  {
   "cell_type": "code",
   "execution_count": 8,
   "metadata": {
    "collapsed": false
   },
   "outputs": [
    {
     "data": {
      "text/plain": [
       "   namespace            page_title           edit_type     \n",
       " Min.   :  0.00000   Q4115189:    53   claim      :396115  \n",
       " 1st Qu.:  0.00000   Q273461 :    15   reference  :236147  \n",
       " Median :  0.00000   Q183    :    14   NULL       :197499  \n",
       " Mean   :  0.05751   Q511968 :    14   label      : 74886  \n",
       " 3rd Qu.:  0.00000   Q40030  :    13   description: 59157  \n",
       " Max.   :120.00000   Q6714402:    11   sitelink   : 31155  \n",
       "                     (Other) :999302   (Other)    :  4463  \n",
       "               agent_type       page_views            rev_id         \n",
       " anon_bot_like_edit :   226   Min.   :0.000e+00   Min.   : 33066196  \n",
       " anon_edit          :  4812   1st Qu.:4.500e+01   1st Qu.: 56035193  \n",
       " bot_edit           :892580   Median :5.060e+02   Median : 78478398  \n",
       " human_bot_like_edit:   693   Mean   :3.769e+05   Mean   : 78624701  \n",
       " human_edit         : 89554   3rd Qu.:4.253e+03   3rd Qu.:101361246  \n",
       " semi_automated_edit: 11557   Max.   :1.253e+10   Max.   :124126530  \n",
       "                                                                     \n",
       "  weighted_sum  \n",
       " Min.   :1.003  \n",
       " 1st Qu.:1.083  \n",
       " Median :1.203  \n",
       " Mean   :1.534  \n",
       " 3rd Qu.:1.942  \n",
       " Max.   :4.759  \n",
       "                "
      ]
     },
     "metadata": {},
     "output_type": "display_data"
    },
    {
     "data": {
      "text/plain": [
       "   namespace             page_title           edit_type     \n",
       " Min.   :  0.00000   Q4115189 :    41   claim      :375088  \n",
       " 1st Qu.:  0.00000   Q16943273:    38   NULL       :274988  \n",
       " Median :  0.00000   Q12652   :    25   reference  :112439  \n",
       " Mean   :  0.04672   Q979470  :    25   label      :102093  \n",
       " 3rd Qu.:  0.00000   Q1270623 :    24   description: 92720  \n",
       " Max.   :120.00000   Q16987   :    22   sitelink   : 32229  \n",
       "                     (Other)  :998880   (Other)    :  9498  \n",
       "               agent_type       page_views            rev_id         \n",
       " anon_bot_like_edit :    36   Min.   :0.000e+00   Min.   :124126897  \n",
       " anon_edit          :  5518   1st Qu.:3.300e+01   1st Qu.:145026396  \n",
       " bot_edit           :728107   Median :3.900e+02   Median :167475330  \n",
       " human_bot_like_edit:  1332   Mean   :2.636e+05   Mean   :167704982  \n",
       " human_edit         : 92186   3rd Qu.:2.887e+03   3rd Qu.:189339311  \n",
       " semi_automated_edit:171876   Max.   :1.253e+10   Max.   :213661247  \n",
       "                                                                     \n",
       "  weighted_sum  \n",
       " Min.   :1.003  \n",
       " 1st Qu.:1.124  \n",
       " Median :1.481  \n",
       " Mean   :1.762  \n",
       " 3rd Qu.:2.220  \n",
       " Max.   :4.906  \n",
       "                "
      ]
     },
     "metadata": {},
     "output_type": "display_data"
    },
    {
     "data": {
      "text/plain": [
       "   namespace             page_title           edit_type     \n",
       " Min.   :  0.00000   Q21521425:    81   claim      :276336  \n",
       " 1st Qu.:  0.00000   Q21481859:    56   description:216577  \n",
       " Median :  0.00000   Q22676705:    46   NULL       :200075  \n",
       " Mean   :  0.06945   Q16943273:    33   reference  :151112  \n",
       " 3rd Qu.:  0.00000   Q4115189 :    30   label      : 96226  \n",
       " Max.   :120.00000   Q21521431:    17   sitelink   : 32201  \n",
       "                     (Other)  :998481   (Other)    : 26217  \n",
       "               agent_type       page_views            rev_id         \n",
       " anon_bot_like_edit :    49   Min.   :0.000e+00   Min.   :213661559  \n",
       " anon_edit          :  5282   1st Qu.:1.200e+01   1st Qu.:241158816  \n",
       " bot_edit           :684758   Median :1.900e+02   Median :269479266  \n",
       " human_bot_like_edit:  1614   Mean   :2.694e+05   Mean   :269996853  \n",
       " human_edit         : 93297   3rd Qu.:1.919e+03   3rd Qu.:298421725  \n",
       " semi_automated_edit:213744   Max.   :1.253e+10   Max.   :328006161  \n",
       "                                                                     \n",
       "  weighted_sum  \n",
       " Min.   :1.003  \n",
       " 1st Qu.:1.175  \n",
       " Median :1.976  \n",
       " Mean   :2.022  \n",
       " 3rd Qu.:2.950  \n",
       " Max.   :4.997  \n",
       "                "
      ]
     },
     "metadata": {},
     "output_type": "display_data"
    },
    {
     "data": {
      "text/plain": [
       "   namespace             page_title           edit_type     \n",
       " Min.   :  0.00000   Q4115189 :    73   claim      :286785  \n",
       " 1st Qu.:  0.00000   Q16943273:    35   NULL       :243932  \n",
       " Median :  0.00000   Q2289941 :    29   description:163555  \n",
       " Mean   :  0.09163   Q670933  :    28   reference  :121802  \n",
       " 3rd Qu.:  0.00000   Q707063  :    28   label      :107075  \n",
       " Max.   :120.00000   Q28564101:    27   qualifier  : 37773  \n",
       "                     (Other)  :997658   (Other)    : 36956  \n",
       "               agent_type       page_views            rev_id         \n",
       " anon_bot_like_edit :     2   Min.   :0.000e+00   Min.   :328006265  \n",
       " anon_edit          :  4733   1st Qu.:2.300e+01   1st Qu.:359403690  \n",
       " bot_edit           :553932   Median :3.220e+02   Median :395790002  \n",
       " human_bot_like_edit:  3078   Mean   :3.324e+05   Mean   :401584644  \n",
       " human_edit         :121040   3rd Qu.:2.965e+03   3rd Qu.:447017485  \n",
       " semi_automated_edit:315093   Max.   :1.253e+10   Max.   :480380485  \n",
       "                                                                     \n",
       "  weighted_sum  \n",
       " Min.   :1.003  \n",
       " 1st Qu.:1.195  \n",
       " Median :2.001  \n",
       " Mean   :2.113  \n",
       " 3rd Qu.:2.972  \n",
       " Max.   :4.997  \n",
       "                "
      ]
     },
     "metadata": {},
     "output_type": "display_data"
    }
   ],
   "source": [
    "summary(revisions_weighted_sums_and_page_views_2013_2014)\n",
    "summary(revisions_weighted_sums_and_page_views_2014_2015)\n",
    "summary(revisions_weighted_sums_and_page_views_2015_2016)\n",
    "summary(revisions_weighted_sums_and_page_views_2016_2017)\n"
   ]
  },
  {
   "cell_type": "code",
   "execution_count": 9,
   "metadata": {
    "collapsed": false
   },
   "outputs": [
    {
     "name": "stderr",
     "output_type": "stream",
     "text": [
      "Warning message in file(file, \"rt\"):\n",
      "“cannot open file '../../../results/misalignment_edit_types_tables_and_queries/input_for_RMSE_sub_6': No such file or directory”"
     ]
    },
    {
     "ename": "ERROR",
     "evalue": "Error in file(file, \"rt\"): cannot open the connection\n",
     "output_type": "error",
     "traceback": [
      "Error in file(file, \"rt\"): cannot open the connection\nTraceback:\n",
      "1. read.table(\"../../../results/misalignment_edit_types_tables_and_queries/input_for_RMSE_sub_6\", \n .     header = FALSE, sep = \"\\t\")",
      "2. file(file, \"rt\")"
     ]
    }
   ],
   "source": [
    "quality_and_page_views_may_2014 <- read.table(\"../../../results/misalignment_edit_types_tables_and_queries/input_for_RMSE_sub_06\", header=FALSE, sep=\"\\t\")"
   ]
  },
  {
   "cell_type": "code",
   "execution_count": null,
   "metadata": {
    "collapsed": true
   },
   "outputs": [],
   "source": [
    "colnames(quality_and_page_views_may_2014) <- c('page_title','yyyy','mm', 'weighted_sum', 'page_views')"
   ]
  },
  {
   "cell_type": "code",
   "execution_count": null,
   "metadata": {
    "collapsed": false
   },
   "outputs": [],
   "source": [
    "# 2013-2014\n",
    "\n",
    "quality_and_page_views_may_2014$expected_quality_quantile = ecdf(quality_and_page_views_may_2014$page_views)(quality_and_page_views_may_2014$page_view)\n",
    "weighted_sum_distribution = ecdf(quality_and_page_views_may_2014$weighted_sum)\n",
    "quality_and_page_views_may_2014$expected_quality = quantile(weighted_sum_distribution, probs=quality_and_page_views_may_2014$expected_quality_quantile)\n",
    "\n",
    "revisions_weighted_sums_and_page_views_2013_2014 = merge(revisions_weighted_sums_and_page_views_2013_2014, quality_and_page_views_may_2014, by = \"page_title\")\n",
    "revisions_weighted_sums_and_page_views_2013_2014 = revisions_weighted_sums_and_page_views_2013_2014[c(\"page_title\", \"namespace\", \"edit_type\", \"agent_type\", \"rev_id\", \"weighted_sum.x\",\"expected_quality\",\"expected_quality_quantile\",\"page_views.y\",\"yyyy\",\"mm\")]\n",
    "colnames(revisions_weighted_sums_and_page_views_2013_2014) <- c(\"page_title\", \"namespace\", \"edit_type\", \"agent_type\", \"rev_id\", \"weighted_sum\",\"expected_quality\",\"expected_quality_quantile\",\"page_views\",\"yyyy\",\"mm\")\n",
    "revisions_weighted_sums_and_page_views_2013_2014$quality_difference = revisions_weighted_sums_and_page_views_2013_2014$weighted_sum - revisions_weighted_sums_and_page_views_2013_2014$expected_quality\n",
    "\n",
    "quality_and_page_views_may_2014 = NULL"
   ]
  },
  {
   "cell_type": "code",
   "execution_count": null,
   "metadata": {
    "collapsed": true
   },
   "outputs": [],
   "source": [
    "quality_and_page_views_may_2015 <- read.table(\"../../../results/misalignment_edit_types_tables_and_queries/input_for_RMSE_sub_18\", header=FALSE, sep=\"\\t\")"
   ]
  },
  {
   "cell_type": "code",
   "execution_count": null,
   "metadata": {
    "collapsed": true
   },
   "outputs": [],
   "source": [
    "colnames(quality_and_page_views_may_2015) <- c('page_title','yyyy','mm', 'weighted_sum', 'page_views')"
   ]
  },
  {
   "cell_type": "code",
   "execution_count": null,
   "metadata": {
    "collapsed": true
   },
   "outputs": [],
   "source": [
    "# 2014-2015\n",
    "\n",
    "quality_and_page_views_may_2015$expected_quality_quantile = ecdf(quality_and_page_views_may_2015$page_views)(quality_and_page_views_may_2015$page_view)\n",
    "weighted_sum_distribution = ecdf(quality_and_page_views_may_2015$weighted_sum)\n",
    "quality_and_page_views_may_2015$expected_quality = quantile(weighted_sum_distribution, probs=quality_and_page_views_may_2015$expected_quality_quantile)\n",
    "\n",
    "revisions_weighted_sums_and_page_views_2014_2015 = merge(revisions_weighted_sums_and_page_views_2014_2015, quality_and_page_views_may_2015, by = \"page_title\")\n",
    "revisions_weighted_sums_and_page_views_2014_2015 = revisions_weighted_sums_and_page_views_2014_2015[c(\"page_title\", \"namespace\", \"edit_type\", \"agent_type\", \"rev_id\", \"weighted_sum.x\",\"expected_quality\",\"expected_quality_quantile\",\"page_views.y\",\"yyyy\",\"mm\")]\n",
    "colnames(revisions_weighted_sums_and_page_views_2014_2015) <- c(\"page_title\", \"namespace\", \"edit_type\", \"agent_type\", \"rev_id\", \"weighted_sum\",\"expected_quality\",\"expected_quality_quantile\",\"page_views\",\"yyyy\",\"mm\")\n",
    "revisions_weighted_sums_and_page_views_2014_2015$quality_difference = revisions_weighted_sums_and_page_views_2014_2015$weighted_sum - revisions_weighted_sums_and_page_views_2014_2015$expected_quality\n",
    "\n",
    "quality_and_page_views_may_2015 = NULL"
   ]
  },
  {
   "cell_type": "code",
   "execution_count": null,
   "metadata": {
    "collapsed": true
   },
   "outputs": [],
   "source": [
    "quality_and_page_views_may_2016 <- read.table(\"../../../results/misalignment_edit_types_tables_and_queries/input_for_RMSE_sub_30\", header=FALSE, sep=\"\\t\")"
   ]
  },
  {
   "cell_type": "code",
   "execution_count": null,
   "metadata": {
    "collapsed": true
   },
   "outputs": [],
   "source": [
    "colnames(quality_and_page_views_may_2016) <- c('page_title','yyyy','mm', 'weighted_sum', 'page_views')"
   ]
  },
  {
   "cell_type": "code",
   "execution_count": null,
   "metadata": {
    "collapsed": true
   },
   "outputs": [],
   "source": [
    "# 2015-2016\n",
    "\n",
    "quality_and_page_views_may_2016$expected_quality_quantile = ecdf(quality_and_page_views_may_2016$page_views)(quality_and_page_views_may_2016$page_view)\n",
    "weighted_sum_distribution = ecdf(quality_and_page_views_may_2016$weighted_sum)\n",
    "quality_and_page_views_may_2016$expected_quality = quantile(weighted_sum_distribution, probs=quality_and_page_views_may_2016$expected_quality_quantile)\n",
    "\n",
    "revisions_weighted_sums_and_page_views_2015_2016 = merge(revisions_weighted_sums_and_page_views_2015_2016, quality_and_page_views_may_2016, by = \"page_title\")\n",
    "revisions_weighted_sums_and_page_views_2015_2016 = revisions_weighted_sums_and_page_views_2015_2016[c(\"page_title\", \"namespace\", \"edit_type\", \"agent_type\", \"rev_id\", \"weighted_sum.x\",\"expected_quality\",\"expected_quality_quantile\",\"page_views.y\",\"yyyy\",\"mm\")]\n",
    "colnames(revisions_weighted_sums_and_page_views_2015_2016) <- c(\"page_title\", \"namespace\", \"edit_type\", \"agent_type\", \"rev_id\", \"weighted_sum\",\"expected_quality\",\"expected_quality_quantile\",\"page_views\",\"yyyy\",\"mm\")\n",
    "revisions_weighted_sums_and_page_views_2015_2016$quality_difference = revisions_weighted_sums_and_page_views_2015_2016$weighted_sum - revisions_weighted_sums_and_page_views_2015_2016$expected_quality\n",
    "\n",
    "quality_and_page_views_may_2016 = NULL"
   ]
  },
  {
   "cell_type": "code",
   "execution_count": null,
   "metadata": {
    "collapsed": true
   },
   "outputs": [],
   "source": [
    "quality_and_page_views_may_2017 <- read.table(\"../../../results/misalignment_edit_types_tables_and_queries/input_for_RMSE_sub_42\", header=FALSE, sep=\"\\t\")"
   ]
  },
  {
   "cell_type": "code",
   "execution_count": null,
   "metadata": {
    "collapsed": true
   },
   "outputs": [],
   "source": [
    "colnames(quality_and_page_views_may_2017) <- c('page_title','yyyy','mm', 'weighted_sum', 'page_views')"
   ]
  },
  {
   "cell_type": "code",
   "execution_count": null,
   "metadata": {
    "collapsed": false
   },
   "outputs": [],
   "source": [
    "# 2016-2017\n",
    "\n",
    "quality_and_page_views_may_2017$expected_quality_quantile = ecdf(quality_and_page_views_may_2017$page_views)(quality_and_page_views_may_2017$page_view)\n",
    "weighted_sum_distribution = ecdf(quality_and_page_views_may_2017$weighted_sum)\n",
    "quality_and_page_views_may_2017$expected_quality = quantile(weighted_sum_distribution, probs=quality_and_page_views_may_2017$expected_quality_quantile)\n",
    "summary(quality_and_page_views_may_2017$weighted_sum - quality_and_page_views_may_2017$expected_quality)\n",
    "revisions_weighted_sums_and_page_views_2016_2017 = merge(revisions_weighted_sums_and_page_views_2016_2017, quality_and_page_views_may_2017, by = \"page_title\")\n",
    "revisions_weighted_sums_and_page_views_2016_2017 = revisions_weighted_sums_and_page_views_2016_2017[c(\"page_title\", \"namespace\", \"edit_type\", \"agent_type\", \"rev_id\", \"weighted_sum.x\",\"expected_quality\",\"expected_quality_quantile\",\"page_views.y\",\"yyyy\",\"mm\")]\n",
    "colnames(revisions_weighted_sums_and_page_views_2016_2017) <- c(\"page_title\", \"namespace\", \"edit_type\", \"agent_type\", \"rev_id\", \"weighted_sum\",\"expected_quality\",\"expected_quality_quantile\",\"page_views\",\"yyyy\",\"mm\")\n",
    "revisions_weighted_sums_and_page_views_2016_2017$quality_difference = revisions_weighted_sums_and_page_views_2016_2017$weighted_sum - revisions_weighted_sums_and_page_views_2016_2017$expected_quality\n",
    "\n",
    "quality_and_page_views_may_2017 = NULL"
   ]
  },
  {
   "cell_type": "code",
   "execution_count": null,
   "metadata": {
    "collapsed": true
   },
   "outputs": [],
   "source": [
    "revisions_weighted_sums_and_page_views_2013_2014$group = \"2013-2014\"\n",
    "revisions_weighted_sums_and_page_views_2014_2015$group = \"2014-2015\"\n",
    "revisions_weighted_sums_and_page_views_2015_2016$group = \"2015-2016\"\n",
    "revisions_weighted_sums_and_page_views_2016_2017$group = \"2016-2017\""
   ]
  },
  {
   "cell_type": "code",
   "execution_count": null,
   "metadata": {
    "collapsed": false
   },
   "outputs": [],
   "source": [
    "revisions_weighted_sums_and_page_views = \n",
    "    rbind(rbind(rbind(revisions_weighted_sums_and_page_views_2013_2014,\n",
    "                      revisions_weighted_sums_and_page_views_2014_2015),\n",
    "                      revisions_weighted_sums_and_page_views_2015_2016),\n",
    "                      revisions_weighted_sums_and_page_views_2016_2017)"
   ]
  },
  {
   "cell_type": "code",
   "execution_count": null,
   "metadata": {
    "collapsed": true
   },
   "outputs": [],
   "source": [
    "revisions_weighted_sums_and_page_views$group = factor(revisions_weighted_sums_and_page_views$group)"
   ]
  },
  {
   "cell_type": "code",
   "execution_count": null,
   "metadata": {
    "collapsed": false
   },
   "outputs": [],
   "source": [
    "nrow(revisions_weighted_sums_and_page_views)"
   ]
  },
  {
   "cell_type": "code",
   "execution_count": null,
   "metadata": {
    "collapsed": false
   },
   "outputs": [],
   "source": [
    "summary(revisions_weighted_sums_and_page_views_2013_2014$quality_difference)\n",
    "summary(revisions_weighted_sums_and_page_views_2014_2015$quality_difference)\n",
    "summary(revisions_weighted_sums_and_page_views_2015_2016$quality_difference)\n",
    "summary(revisions_weighted_sums_and_page_views_2016_2017$quality_difference)"
   ]
  },
  {
   "cell_type": "code",
   "execution_count": null,
   "metadata": {
    "collapsed": false
   },
   "outputs": [],
   "source": [
    "ggplot(revisions_weighted_sums_and_page_views, \n",
    "       aes(x=quality_difference, color=group)) + geom_density()"
   ]
  },
  {
   "cell_type": "code",
   "execution_count": null,
   "metadata": {
    "collapsed": false
   },
   "outputs": [],
   "source": [
    "summary(revisions_weighted_sums_and_page_views_2013_2014[revisions_weighted_sums_and_page_views_2013_2014$edit_type == 'aliases',]$quality_difference)\n",
    "summary(revisions_weighted_sums_and_page_views_2014_2015[revisions_weighted_sums_and_page_views_2014_2015$edit_type == 'aliases',]$quality_difference)\n",
    "summary(revisions_weighted_sums_and_page_views_2015_2016[revisions_weighted_sums_and_page_views_2015_2016$edit_type == 'aliases',]$quality_difference)\n",
    "summary(revisions_weighted_sums_and_page_views_2016_2017[revisions_weighted_sums_and_page_views_2016_2017$edit_type == 'aliases',]$quality_difference)"
   ]
  },
  {
   "cell_type": "code",
   "execution_count": null,
   "metadata": {
    "collapsed": false
   },
   "outputs": [],
   "source": [
    "ggplot(revisions_weighted_sums_and_page_views[revisions_weighted_sums_and_page_views$edit_type == 'aliases',], \n",
    "       aes(x=quality_difference, color=group)) + geom_density()"
   ]
  },
  {
   "cell_type": "code",
   "execution_count": null,
   "metadata": {
    "collapsed": false
   },
   "outputs": [],
   "source": [
    "summary(revisions_weighted_sums_and_page_views_2013_2014[revisions_weighted_sums_and_page_views_2013_2014$edit_type == 'claim',]$quality_difference)\n",
    "summary(revisions_weighted_sums_and_page_views_2014_2015[revisions_weighted_sums_and_page_views_2014_2015$edit_type == 'claim',]$quality_difference)\n",
    "summary(revisions_weighted_sums_and_page_views_2015_2016[revisions_weighted_sums_and_page_views_2015_2016$edit_type == 'claim',]$quality_difference)\n",
    "summary(revisions_weighted_sums_and_page_views_2016_2017[revisions_weighted_sums_and_page_views_2016_2017$edit_type == 'claim',]$quality_difference)"
   ]
  },
  {
   "cell_type": "code",
   "execution_count": null,
   "metadata": {
    "collapsed": false
   },
   "outputs": [],
   "source": [
    "ggplot(revisions_weighted_sums_and_page_views[revisions_weighted_sums_and_page_views$edit_type == 'claim',], \n",
    "       aes(x=quality_difference, color=group)) + geom_density()"
   ]
  },
  {
   "cell_type": "code",
   "execution_count": null,
   "metadata": {
    "collapsed": false
   },
   "outputs": [],
   "source": [
    "summary(revisions_weighted_sums_and_page_views_2013_2014[revisions_weighted_sums_and_page_views_2013_2014$edit_type == 'description',]$quality_difference)\n",
    "summary(revisions_weighted_sums_and_page_views_2014_2015[revisions_weighted_sums_and_page_views_2014_2015$edit_type == 'description',]$quality_difference)\n",
    "summary(revisions_weighted_sums_and_page_views_2015_2016[revisions_weighted_sums_and_page_views_2015_2016$edit_type == 'description',]$quality_difference)\n",
    "summary(revisions_weighted_sums_and_page_views_2016_2017[revisions_weighted_sums_and_page_views_2016_2017$edit_type == 'description',]$quality_difference)"
   ]
  },
  {
   "cell_type": "code",
   "execution_count": null,
   "metadata": {
    "collapsed": false
   },
   "outputs": [],
   "source": [
    "ggplot(revisions_weighted_sums_and_page_views[revisions_weighted_sums_and_page_views$edit_type == 'description',], \n",
    "       aes(x=quality_difference, color=group)) + geom_density()"
   ]
  },
  {
   "cell_type": "code",
   "execution_count": null,
   "metadata": {
    "collapsed": false
   },
   "outputs": [],
   "source": [
    "summary(revisions_weighted_sums_and_page_views_2013_2014[revisions_weighted_sums_and_page_views_2013_2014$edit_type == 'label',]$quality_difference)\n",
    "summary(revisions_weighted_sums_and_page_views_2014_2015[revisions_weighted_sums_and_page_views_2014_2015$edit_type == 'label',]$quality_difference)\n",
    "summary(revisions_weighted_sums_and_page_views_2015_2016[revisions_weighted_sums_and_page_views_2015_2016$edit_type == 'label',]$quality_difference)\n",
    "summary(revisions_weighted_sums_and_page_views_2016_2017[revisions_weighted_sums_and_page_views_2016_2017$edit_type == 'label',]$quality_difference)"
   ]
  },
  {
   "cell_type": "code",
   "execution_count": null,
   "metadata": {
    "collapsed": false
   },
   "outputs": [],
   "source": [
    "ggplot(revisions_weighted_sums_and_page_views[revisions_weighted_sums_and_page_views$edit_type == 'label',], \n",
    "       aes(x=quality_difference, color=group)) + geom_density()"
   ]
  },
  {
   "cell_type": "code",
   "execution_count": null,
   "metadata": {
    "collapsed": false
   },
   "outputs": [],
   "source": [
    "summary(revisions_weighted_sums_and_page_views_2013_2014[revisions_weighted_sums_and_page_views_2013_2014$edit_type == 'NULL',]$quality_difference)\n",
    "summary(revisions_weighted_sums_and_page_views_2014_2015[revisions_weighted_sums_and_page_views_2014_2015$edit_type == 'NULL',]$quality_difference)\n",
    "summary(revisions_weighted_sums_and_page_views_2015_2016[revisions_weighted_sums_and_page_views_2015_2016$edit_type == 'NULL',]$quality_difference)\n",
    "summary(revisions_weighted_sums_and_page_views_2016_2017[revisions_weighted_sums_and_page_views_2016_2017$edit_type == 'NULL',]$quality_difference)"
   ]
  },
  {
   "cell_type": "code",
   "execution_count": null,
   "metadata": {
    "collapsed": false
   },
   "outputs": [],
   "source": [
    "ggplot(revisions_weighted_sums_and_page_views[revisions_weighted_sums_and_page_views$edit_type == 'NULL',], \n",
    "       aes(x=quality_difference, color=group)) + geom_density()"
   ]
  },
  {
   "cell_type": "code",
   "execution_count": null,
   "metadata": {
    "collapsed": false
   },
   "outputs": [],
   "source": [
    "summary(revisions_weighted_sums_and_page_views_2013_2014[revisions_weighted_sums_and_page_views_2013_2014$edit_type == 'sitelink',]$quality_difference)\n",
    "summary(revisions_weighted_sums_and_page_views_2014_2015[revisions_weighted_sums_and_page_views_2014_2015$edit_type == 'sitelink',]$quality_difference)\n",
    "summary(revisions_weighted_sums_and_page_views_2015_2016[revisions_weighted_sums_and_page_views_2015_2016$edit_type == 'sitelink',]$quality_difference)\n",
    "summary(revisions_weighted_sums_and_page_views_2016_2017[revisions_weighted_sums_and_page_views_2016_2017$edit_type == 'sitelink',]$quality_difference)"
   ]
  },
  {
   "cell_type": "code",
   "execution_count": null,
   "metadata": {
    "collapsed": false
   },
   "outputs": [],
   "source": [
    "ggplot(revisions_weighted_sums_and_page_views[revisions_weighted_sums_and_page_views$edit_type == 'sitelink',], \n",
    "       aes(x=quality_difference, color=group)) + geom_density()"
   ]
  },
  {
   "cell_type": "code",
   "execution_count": null,
   "metadata": {
    "collapsed": false
   },
   "outputs": [],
   "source": [
    "summary(revisions_weighted_sums_and_page_views_2013_2014[revisions_weighted_sums_and_page_views_2013_2014$edit_type == 'reference',]$quality_difference)\n",
    "summary(revisions_weighted_sums_and_page_views_2014_2015[revisions_weighted_sums_and_page_views_2014_2015$edit_type == 'reference',]$quality_difference)\n",
    "summary(revisions_weighted_sums_and_page_views_2015_2016[revisions_weighted_sums_and_page_views_2015_2016$edit_type == 'reference',]$quality_difference)\n",
    "summary(revisions_weighted_sums_and_page_views_2016_2017[revisions_weighted_sums_and_page_views_2016_2017$edit_type == 'reference',]$quality_difference)"
   ]
  },
  {
   "cell_type": "code",
   "execution_count": null,
   "metadata": {
    "collapsed": false
   },
   "outputs": [],
   "source": [
    "ggplot(revisions_weighted_sums_and_page_views[revisions_weighted_sums_and_page_views$edit_type == 'reference',], \n",
    "       aes(x=quality_difference, color=group)) + geom_density()"
   ]
  },
  {
   "cell_type": "code",
   "execution_count": null,
   "metadata": {
    "collapsed": false
   },
   "outputs": [],
   "source": [
    "summary(revisions_weighted_sums_and_page_views_2013_2014[revisions_weighted_sums_and_page_views_2013_2014$edit_type == 'qualifier',]$quality_difference)\n",
    "summary(revisions_weighted_sums_and_page_views_2014_2015[revisions_weighted_sums_and_page_views_2014_2015$edit_type == 'qualifier',]$quality_difference)\n",
    "summary(revisions_weighted_sums_and_page_views_2015_2016[revisions_weighted_sums_and_page_views_2015_2016$edit_type == 'qualifier',]$quality_difference)\n",
    "summary(revisions_weighted_sums_and_page_views_2016_2017[revisions_weighted_sums_and_page_views_2016_2017$edit_type == 'qualifier',]$quality_difference)"
   ]
  },
  {
   "cell_type": "code",
   "execution_count": null,
   "metadata": {
    "collapsed": false
   },
   "outputs": [],
   "source": [
    "ggplot(revisions_weighted_sums_and_page_views[revisions_weighted_sums_and_page_views$edit_type == 'qualifier',], \n",
    "       aes(x=quality_difference, color=group)) + geom_density()"
   ]
  },
  {
   "cell_type": "code",
   "execution_count": null,
   "metadata": {
    "collapsed": false
   },
   "outputs": [],
   "source": [
    "summary(revisions_weighted_sums_and_page_views_2013_2014[revisions_weighted_sums_and_page_views_2013_2014$agent_type == 'bot_edit',]$quality_difference)\n",
    "summary(revisions_weighted_sums_and_page_views_2014_2015[revisions_weighted_sums_and_page_views_2014_2015$agent_type == 'bot_edit',]$quality_difference)\n",
    "summary(revisions_weighted_sums_and_page_views_2015_2016[revisions_weighted_sums_and_page_views_2015_2016$agent_type == 'bot_edit',]$quality_difference)\n",
    "summary(revisions_weighted_sums_and_page_views_2016_2017[revisions_weighted_sums_and_page_views_2016_2017$agent_type == 'bot_edit',]$quality_difference)"
   ]
  },
  {
   "cell_type": "code",
   "execution_count": null,
   "metadata": {
    "collapsed": false
   },
   "outputs": [],
   "source": [
    "ggplot(revisions_weighted_sums_and_page_views[revisions_weighted_sums_and_page_views$agent_type == 'bot_edit',], \n",
    "       aes(x=quality_difference, color=group)) + geom_density()"
   ]
  },
  {
   "cell_type": "code",
   "execution_count": null,
   "metadata": {
    "collapsed": false
   },
   "outputs": [],
   "source": [
    "summary(revisions_weighted_sums_and_page_views_2013_2014[revisions_weighted_sums_and_page_views_2013_2014$agent_type == 'human_bot_like_edit',]$quality_difference)\n",
    "summary(revisions_weighted_sums_and_page_views_2014_2015[revisions_weighted_sums_and_page_views_2014_2015$agent_type == 'human_bot_like_edit',]$quality_difference)\n",
    "summary(revisions_weighted_sums_and_page_views_2015_2016[revisions_weighted_sums_and_page_views_2015_2016$agent_type == 'human_bot_like_edit',]$quality_difference)\n",
    "summary(revisions_weighted_sums_and_page_views_2016_2017[revisions_weighted_sums_and_page_views_2016_2017$agent_type == 'human_bot_like_edit',]$quality_difference)"
   ]
  },
  {
   "cell_type": "code",
   "execution_count": null,
   "metadata": {
    "collapsed": false
   },
   "outputs": [],
   "source": [
    "ggplot(revisions_weighted_sums_and_page_views[revisions_weighted_sums_and_page_views$agent_type == 'human_bot_like_edit',], \n",
    "       aes(x=quality_difference, color=group)) + geom_density()"
   ]
  },
  {
   "cell_type": "code",
   "execution_count": null,
   "metadata": {
    "collapsed": false
   },
   "outputs": [],
   "source": [
    "summary(revisions_weighted_sums_and_page_views_2013_2014[revisions_weighted_sums_and_page_views_2013_2014$agent_type == 'anon_bot_like_edit',]$quality_difference)\n",
    "summary(revisions_weighted_sums_and_page_views_2014_2015[revisions_weighted_sums_and_page_views_2014_2015$agent_type == 'anon_bot_like_edit',]$quality_difference)\n",
    "summary(revisions_weighted_sums_and_page_views_2015_2016[revisions_weighted_sums_and_page_views_2015_2016$agent_type == 'anon_bot_like_edit',]$quality_difference)\n",
    "summary(revisions_weighted_sums_and_page_views_2016_2017[revisions_weighted_sums_and_page_views_2016_2017$agent_type == 'anon_bot_like_edit',]$quality_difference)"
   ]
  },
  {
   "cell_type": "code",
   "execution_count": null,
   "metadata": {
    "collapsed": false
   },
   "outputs": [],
   "source": [
    "ggplot(revisions_weighted_sums_and_page_views[revisions_weighted_sums_and_page_views$agent_type == 'anon_bot_like_edit',], \n",
    "       aes(x=quality_difference, color=group)) + geom_density()"
   ]
  },
  {
   "cell_type": "code",
   "execution_count": null,
   "metadata": {
    "collapsed": false
   },
   "outputs": [],
   "source": [
    "summary(revisions_weighted_sums_and_page_views_2013_2014[revisions_weighted_sums_and_page_views_2013_2014$agent_type == 'semi_automated_edit',]$quality_difference)\n",
    "summary(revisions_weighted_sums_and_page_views_2014_2015[revisions_weighted_sums_and_page_views_2014_2015$agent_type == 'semi_automated_edit',]$quality_difference)\n",
    "summary(revisions_weighted_sums_and_page_views_2015_2016[revisions_weighted_sums_and_page_views_2015_2016$agent_type == 'semi_automated_edit',]$quality_difference)\n",
    "summary(revisions_weighted_sums_and_page_views_2016_2017[revisions_weighted_sums_and_page_views_2016_2017$agent_type == 'semi_automated_edit',]$quality_difference)"
   ]
  },
  {
   "cell_type": "code",
   "execution_count": null,
   "metadata": {
    "collapsed": false
   },
   "outputs": [],
   "source": [
    "ggplot(revisions_weighted_sums_and_page_views[revisions_weighted_sums_and_page_views$agent_type == 'semi_automated_edit',], \n",
    "       aes(x=quality_difference, color=group)) + geom_density()"
   ]
  },
  {
   "cell_type": "code",
   "execution_count": null,
   "metadata": {
    "collapsed": false
   },
   "outputs": [],
   "source": [
    "summary(revisions_weighted_sums_and_page_views_2013_2014[revisions_weighted_sums_and_page_views_2013_2014$agent_type == 'human_edit',]$quality_difference)\n",
    "summary(revisions_weighted_sums_and_page_views_2014_2015[revisions_weighted_sums_and_page_views_2014_2015$agent_type == 'human_edit',]$quality_difference)\n",
    "summary(revisions_weighted_sums_and_page_views_2015_2016[revisions_weighted_sums_and_page_views_2015_2016$agent_type == 'human_edit',]$quality_difference)\n",
    "summary(revisions_weighted_sums_and_page_views_2016_2017[revisions_weighted_sums_and_page_views_2016_2017$agent_type == 'human_edit',]$quality_difference)"
   ]
  },
  {
   "cell_type": "code",
   "execution_count": null,
   "metadata": {
    "collapsed": false
   },
   "outputs": [],
   "source": [
    "ggplot(revisions_weighted_sums_and_page_views[revisions_weighted_sums_and_page_views$agent_type == 'human_edit',], \n",
    "       aes(x=quality_difference, color=group)) + geom_density()"
   ]
  },
  {
   "cell_type": "code",
   "execution_count": null,
   "metadata": {
    "collapsed": false
   },
   "outputs": [],
   "source": [
    "summary(revisions_weighted_sums_and_page_views_2013_2014[revisions_weighted_sums_and_page_views_2013_2014$agent_type == 'anon_edit',]$quality_difference)\n",
    "summary(revisions_weighted_sums_and_page_views_2014_2015[revisions_weighted_sums_and_page_views_2014_2015$agent_type == 'anon_edit',]$quality_difference)\n",
    "summary(revisions_weighted_sums_and_page_views_2015_2016[revisions_weighted_sums_and_page_views_2015_2016$agent_type == 'anon_edit',]$quality_difference)\n",
    "summary(revisions_weighted_sums_and_page_views_2016_2017[revisions_weighted_sums_and_page_views_2016_2017$agent_type == 'anon_edit',]$quality_difference)"
   ]
  },
  {
   "cell_type": "code",
   "execution_count": null,
   "metadata": {
    "collapsed": false
   },
   "outputs": [],
   "source": [
    "ggplot(revisions_weighted_sums_and_page_views[revisions_weighted_sums_and_page_views$agent_type == 'anon_edit',], \n",
    "       aes(x=quality_difference, color=group)) + geom_density()"
   ]
  },
  {
   "cell_type": "code",
   "execution_count": null,
   "metadata": {
    "collapsed": true
   },
   "outputs": [],
   "source": []
  },
  {
   "cell_type": "code",
   "execution_count": null,
   "metadata": {
    "collapsed": true
   },
   "outputs": [],
   "source": []
  },
  {
   "cell_type": "code",
   "execution_count": null,
   "metadata": {
    "collapsed": false
   },
   "outputs": [],
   "source": [
    "print(\"Summaries for futher 2016-2017 breakdowns\")\n",
    "\n",
    "# bot automated edits\n",
    "print(\"bot edits, sitelink\")\n",
    "summary(revisions_weighted_sums_and_page_views_2016_2017[revisions_weighted_sums_and_page_views_2016_2017$edit_type == 'sitelink' &\n",
    "                                                                       revisions_weighted_sums_and_page_views_2016_2017$agent_type == 'bot_edit'\n",
    "                                                                      ,]$quality_difference)\n",
    "print(\"bot edits, aliases\")\n",
    "summary(revisions_weighted_sums_and_page_views_2016_2017[revisions_weighted_sums_and_page_views_2016_2017$edit_type == 'aliases' &\n",
    "                                                                       revisions_weighted_sums_and_page_views_2016_2017$agent_type == 'bot_edit'\n",
    "                                                                      ,]$quality_difference)\n",
    "print(\"bot edits, label\")\n",
    "summary(revisions_weighted_sums_and_page_views_2016_2017[revisions_weighted_sums_and_page_views_2016_2017$edit_type == 'label' &\n",
    "                                                                       revisions_weighted_sums_and_page_views_2016_2017$agent_type == 'bot_edit'\n",
    "                                                                      ,]$quality_difference)\n",
    "print(\"bot edits, description\")\n",
    "summary(revisions_weighted_sums_and_page_views_2016_2017[revisions_weighted_sums_and_page_views_2016_2017$edit_type == 'description' &\n",
    "                                                                       revisions_weighted_sums_and_page_views_2016_2017$agent_type == 'bot_edit'\n",
    "                                                                      ,]$quality_difference)\n",
    "print(\"bot edits, reference\")\n",
    "summary(revisions_weighted_sums_and_page_views_2016_2017[revisions_weighted_sums_and_page_views_2016_2017$edit_type == 'reference' &\n",
    "                                                                       revisions_weighted_sums_and_page_views_2016_2017$agent_type == 'bot_edit'\n",
    "                                                                      ,]$quality_difference)\n",
    "print(\"bot edits, qualifier\")\n",
    "summary(revisions_weighted_sums_and_page_views_2016_2017[revisions_weighted_sums_and_page_views_2016_2017$edit_type == 'qualifier' &\n",
    "                                                                       revisions_weighted_sums_and_page_views_2016_2017$agent_type == 'bot_edit'\n",
    "                                                                      ,]$quality_difference)\n",
    "print(\"bot edits, claim\")\n",
    "summary(revisions_weighted_sums_and_page_views_2016_2017[revisions_weighted_sums_and_page_views_2016_2017$edit_type == 'claim' &\n",
    "                                                                       revisions_weighted_sums_and_page_views_2016_2017$agent_type == 'bot_edit'\n",
    "                                                                      ,]$quality_difference)\n",
    "print(\"bot edits, NULL\")\n",
    "summary(revisions_weighted_sums_and_page_views_2016_2017[revisions_weighted_sums_and_page_views_2016_2017$edit_type == 'NULL' &\n",
    "                                                                       revisions_weighted_sums_and_page_views_2016_2017$agent_type == 'bot_edit'\n",
    "                                                                      ,]$quality_difference)\n",
    "\n",
    "# human_bot_like edits\n",
    "print(\"human_bot_like edits, sitelink\")\n",
    "summary(revisions_weighted_sums_and_page_views_2016_2017[revisions_weighted_sums_and_page_views_2016_2017$edit_type == 'sitelink' &\n",
    "                                                                       revisions_weighted_sums_and_page_views_2016_2017$agent_type == 'human_bot_like_edit'\n",
    "                                                                      ,]$quality_difference)\n",
    "print(\"human_bot_like edits, aliases\")\n",
    "summary(revisions_weighted_sums_and_page_views_2016_2017[revisions_weighted_sums_and_page_views_2016_2017$edit_type == 'aliases' &\n",
    "                                                                       revisions_weighted_sums_and_page_views_2016_2017$agent_type == 'human_bot_like_edit'\n",
    "                                                                      ,]$quality_difference)\n",
    "print(\"human_bot_like edits, label\")\n",
    "summary(revisions_weighted_sums_and_page_views_2016_2017[revisions_weighted_sums_and_page_views_2016_2017$edit_type == 'label' &\n",
    "                                                                       revisions_weighted_sums_and_page_views_2016_2017$agent_type == 'human_bot_like_edit'\n",
    "                                                                      ,]$quality_difference)\n",
    "print(\"human_bot_like edits, description\")\n",
    "summary(revisions_weighted_sums_and_page_views_2016_2017[revisions_weighted_sums_and_page_views_2016_2017$edit_type == 'description' &\n",
    "                                                                       revisions_weighted_sums_and_page_views_2016_2017$agent_type == 'human_bot_like_edit'\n",
    "                                                                      ,]$quality_difference)\n",
    "print(\"human_bot_like edits, reference\")\n",
    "summary(revisions_weighted_sums_and_page_views_2016_2017[revisions_weighted_sums_and_page_views_2016_2017$edit_type == 'reference' &\n",
    "                                                                       revisions_weighted_sums_and_page_views_2016_2017$agent_type == 'human_bot_like_edit'\n",
    "                                                                      ,]$quality_difference)\n",
    "print(\"human_bot_like edits, qualifier\")\n",
    "summary(revisions_weighted_sums_and_page_views_2016_2017[revisions_weighted_sums_and_page_views_2016_2017$edit_type == 'qualifier' &\n",
    "                                                                       revisions_weighted_sums_and_page_views_2016_2017$agent_type == 'human_bot_like_edit'\n",
    "                                                                      ,]$quality_difference)\n",
    "print(\"human_bot_like edits, claim\")\n",
    "summary(revisions_weighted_sums_and_page_views_2016_2017[revisions_weighted_sums_and_page_views_2016_2017$edit_type == 'claim' &\n",
    "                                                                       revisions_weighted_sums_and_page_views_2016_2017$agent_type == 'human_bot_like_edit'\n",
    "                                                                      ,]$quality_difference)\n",
    "print(\"human_bot_like edits, NULL\")\n",
    "summary(revisions_weighted_sums_and_page_views_2016_2017[revisions_weighted_sums_and_page_views_2016_2017$edit_type == 'NULL' &\n",
    "                                                                       revisions_weighted_sums_and_page_views_2016_2017$agent_type == 'human_bot_like_edit'\n",
    "                                                                      ,]$quality_difference)\n",
    "\n",
    "# anon_bot_like edits\n",
    "print(\"anon_bot_like edits, sitelink\")\n",
    "summary(revisions_weighted_sums_and_page_views_2016_2017[revisions_weighted_sums_and_page_views_2016_2017$edit_type == 'sitelink' &\n",
    "                                                                       revisions_weighted_sums_and_page_views_2016_2017$agent_type == 'anon_bot_like_edit'\n",
    "                                                                      ,]$quality_difference)\n",
    "print(\"anon_bot_like edits, aliases\")\n",
    "summary(revisions_weighted_sums_and_page_views_2016_2017[revisions_weighted_sums_and_page_views_2016_2017$edit_type == 'aliases' &\n",
    "                                                                       revisions_weighted_sums_and_page_views_2016_2017$agent_type == 'anon_bot_like_edit'\n",
    "                                                                      ,]$quality_difference)\n",
    "print(\"anon_bot_like edits, label\")\n",
    "summary(revisions_weighted_sums_and_page_views_2016_2017[revisions_weighted_sums_and_page_views_2016_2017$edit_type == 'label' &\n",
    "                                                                       revisions_weighted_sums_and_page_views_2016_2017$agent_type == 'anon_bot_like_edit'\n",
    "                                                                      ,]$quality_difference)\n",
    "print(\"anon_bot_like edits, description\")\n",
    "summary(revisions_weighted_sums_and_page_views_2016_2017[revisions_weighted_sums_and_page_views_2016_2017$edit_type == 'description' &\n",
    "                                                                       revisions_weighted_sums_and_page_views_2016_2017$agent_type == 'anon_bot_like_edit'\n",
    "                                                                      ,]$quality_difference)\n",
    "print(\"anon_bot_like edits, reference\")\n",
    "summary(revisions_weighted_sums_and_page_views_2016_2017[revisions_weighted_sums_and_page_views_2016_2017$edit_type == 'reference' &\n",
    "                                                                       revisions_weighted_sums_and_page_views_2016_2017$agent_type == 'anon_bot_like_edit'\n",
    "                                                                      ,]$quality_difference)\n",
    "print(\"anon_bot_like edits, qualifier\")\n",
    "summary(revisions_weighted_sums_and_page_views_2016_2017[revisions_weighted_sums_and_page_views_2016_2017$edit_type == 'qualifier' &\n",
    "                                                                       revisions_weighted_sums_and_page_views_2016_2017$agent_type == 'anon_bot_like_edit'\n",
    "                                                                      ,]$quality_difference)\n",
    "print(\"anon_bot_like edits, claim\")\n",
    "summary(revisions_weighted_sums_and_page_views_2016_2017[revisions_weighted_sums_and_page_views_2016_2017$edit_type == 'claim' &\n",
    "                                                                       revisions_weighted_sums_and_page_views_2016_2017$agent_type == 'anon_bot_like_edit'\n",
    "                                                                      ,]$quality_difference)\n",
    "print(\"anon_bot_like edits, NULL\")\n",
    "summary(revisions_weighted_sums_and_page_views_2016_2017[revisions_weighted_sums_and_page_views_2016_2017$edit_type == 'NULL' &\n",
    "                                                                       revisions_weighted_sums_and_page_views_2016_2017$agent_type == 'anon_bot_like_edit'\n",
    "                                                                      ,]$quality_difference)\n",
    "\n",
    "# semi automated edits\n",
    "print(\"semi automated edits, sitelink\")\n",
    "summary(revisions_weighted_sums_and_page_views_2016_2017[revisions_weighted_sums_and_page_views_2016_2017$edit_type == 'sitelink' &\n",
    "                                                                       revisions_weighted_sums_and_page_views_2016_2017$agent_type == 'semi_automated_edit'\n",
    "                                                                      ,]$quality_difference)\n",
    "print(\"semi automated edits, aliases\")\n",
    "summary(revisions_weighted_sums_and_page_views_2016_2017[revisions_weighted_sums_and_page_views_2016_2017$edit_type == 'aliases' &\n",
    "                                                                       revisions_weighted_sums_and_page_views_2016_2017$agent_type == 'semi_automated_edit'\n",
    "                                                                      ,]$quality_difference)\n",
    "print(\"semi automated edits, label\")\n",
    "summary(revisions_weighted_sums_and_page_views_2016_2017[revisions_weighted_sums_and_page_views_2016_2017$edit_type == 'label' &\n",
    "                                                                       revisions_weighted_sums_and_page_views_2016_2017$agent_type == 'semi_automated_edit'\n",
    "                                                                      ,]$quality_difference)\n",
    "print(\"semi automated edits, description\")\n",
    "summary(revisions_weighted_sums_and_page_views_2016_2017[revisions_weighted_sums_and_page_views_2016_2017$edit_type == 'description' &\n",
    "                                                                       revisions_weighted_sums_and_page_views_2016_2017$agent_type == 'semi_automated_edit'\n",
    "                                                                      ,]$quality_difference)\n",
    "print(\"semi automated edits, reference\")\n",
    "summary(revisions_weighted_sums_and_page_views_2016_2017[revisions_weighted_sums_and_page_views_2016_2017$edit_type == 'reference' &\n",
    "                                                                       revisions_weighted_sums_and_page_views_2016_2017$agent_type == 'semi_automated_edit'\n",
    "                                                                      ,]$quality_difference)\n",
    "print(\"semi automated edits, qualifier\")\n",
    "summary(revisions_weighted_sums_and_page_views_2016_2017[revisions_weighted_sums_and_page_views_2016_2017$edit_type == 'qualifier' &\n",
    "                                                                       revisions_weighted_sums_and_page_views_2016_2017$agent_type == 'semi_automated_edit'\n",
    "                                                                      ,]$quality_difference)\n",
    "print(\"semi automated edits, claim\")\n",
    "summary(revisions_weighted_sums_and_page_views_2016_2017[revisions_weighted_sums_and_page_views_2016_2017$edit_type == 'claim' &\n",
    "                                                                       revisions_weighted_sums_and_page_views_2016_2017$agent_type == 'semi_automated_edit'\n",
    "                                                                      ,]$quality_difference)\n",
    "print(\"semi automated edits, NULL\")\n",
    "summary(revisions_weighted_sums_and_page_views_2016_2017[revisions_weighted_sums_and_page_views_2016_2017$edit_type == 'NULL' &\n",
    "                                                                       revisions_weighted_sums_and_page_views_2016_2017$agent_type == 'semi_automated_edit'\n",
    "                                                                      ,]$quality_difference)\n",
    "\n",
    "# human edits\n",
    "print(\"human edits, sitelink\")\n",
    "summary(revisions_weighted_sums_and_page_views_2016_2017[revisions_weighted_sums_and_page_views_2016_2017$edit_type == 'sitelink' &\n",
    "                                                                       revisions_weighted_sums_and_page_views_2016_2017$agent_type == 'human_edit'\n",
    "                                                                      ,]$quality_difference)\n",
    "print(\"human edits, aliases\")\n",
    "summary(revisions_weighted_sums_and_page_views_2016_2017[revisions_weighted_sums_and_page_views_2016_2017$edit_type == 'aliases' &\n",
    "                                                                       revisions_weighted_sums_and_page_views_2016_2017$agent_type == 'human_edit'\n",
    "                                                                      ,]$quality_difference)\n",
    "print(\"human edits, label\")\n",
    "summary(revisions_weighted_sums_and_page_views_2016_2017[revisions_weighted_sums_and_page_views_2016_2017$edit_type == 'label' &\n",
    "                                                                       revisions_weighted_sums_and_page_views_2016_2017$agent_type == 'human_edit'\n",
    "                                                                      ,]$quality_difference)\n",
    "print(\"human edits, description\")\n",
    "summary(revisions_weighted_sums_and_page_views_2016_2017[revisions_weighted_sums_and_page_views_2016_2017$edit_type == 'description' &\n",
    "                                                                       revisions_weighted_sums_and_page_views_2016_2017$agent_type == 'human_edit'\n",
    "                                                                      ,]$quality_difference)\n",
    "print(\"human edits, reference\")\n",
    "summary(revisions_weighted_sums_and_page_views_2016_2017[revisions_weighted_sums_and_page_views_2016_2017$edit_type == 'reference' &\n",
    "                                                                       revisions_weighted_sums_and_page_views_2016_2017$agent_type == 'human_edit'\n",
    "                                                                      ,]$quality_difference)\n",
    "print(\"human edits, qualifier\")\n",
    "summary(revisions_weighted_sums_and_page_views_2016_2017[revisions_weighted_sums_and_page_views_2016_2017$edit_type == 'qualifier' &\n",
    "                                                                       revisions_weighted_sums_and_page_views_2016_2017$agent_type == 'human_edit'\n",
    "                                                                      ,]$quality_difference)\n",
    "print(\"human edits, claim\")\n",
    "summary(revisions_weighted_sums_and_page_views_2016_2017[revisions_weighted_sums_and_page_views_2016_2017$edit_type == 'claim' &\n",
    "                                                                       revisions_weighted_sums_and_page_views_2016_2017$agent_type == 'human_edit'\n",
    "                                                                      ,]$quality_difference)\n",
    "print(\"human edits, NULL\")\n",
    "summary(revisions_weighted_sums_and_page_views_2016_2017[revisions_weighted_sums_and_page_views_2016_2017$edit_type == 'NULL' &\n",
    "                                                                       revisions_weighted_sums_and_page_views_2016_2017$agent_type == 'human_edit'\n",
    "                                                                      ,]$quality_difference)\n",
    "\n",
    "\n",
    "# anon edits\n",
    "print(\"anon edits, sitelink\")\n",
    "summary(revisions_weighted_sums_and_page_views_2016_2017[revisions_weighted_sums_and_page_views_2016_2017$edit_type == 'sitelink' &\n",
    "                                                                       revisions_weighted_sums_and_page_views_2016_2017$agent_type == 'anon_edit'\n",
    "                                                                      ,]$quality_difference)\n",
    "print(\"anon edits, aliases\")\n",
    "summary(revisions_weighted_sums_and_page_views_2016_2017[revisions_weighted_sums_and_page_views_2016_2017$edit_type == 'aliases' &\n",
    "                                                                       revisions_weighted_sums_and_page_views_2016_2017$agent_type == 'anon_edit'\n",
    "                                                                      ,]$quality_difference)\n",
    "print(\"anon edits, label\")\n",
    "summary(revisions_weighted_sums_and_page_views_2016_2017[revisions_weighted_sums_and_page_views_2016_2017$edit_type == 'label' &\n",
    "                                                                       revisions_weighted_sums_and_page_views_2016_2017$agent_type == 'anon_edit'\n",
    "                                                                      ,]$quality_difference)\n",
    "print(\"anon edits, description\")\n",
    "summary(revisions_weighted_sums_and_page_views_2016_2017[revisions_weighted_sums_and_page_views_2016_2017$edit_type == 'description' &\n",
    "                                                                       revisions_weighted_sums_and_page_views_2016_2017$agent_type == 'anon_edit'\n",
    "                                                                      ,]$quality_difference)\n",
    "print(\"anon edits, reference\")\n",
    "summary(revisions_weighted_sums_and_page_views_2016_2017[revisions_weighted_sums_and_page_views_2016_2017$edit_type == 'reference' &\n",
    "                                                                       revisions_weighted_sums_and_page_views_2016_2017$agent_type == 'anon_edit'\n",
    "                                                                      ,]$quality_difference)\n",
    "print(\"anon edits, qualifier\")\n",
    "summary(revisions_weighted_sums_and_page_views_2016_2017[revisions_weighted_sums_and_page_views_2016_2017$edit_type == 'qualifier' &\n",
    "                                                                       revisions_weighted_sums_and_page_views_2016_2017$agent_type == 'anon_edit'\n",
    "                                                                      ,]$quality_difference)\n",
    "print(\"anon edits, claim\")\n",
    "summary(revisions_weighted_sums_and_page_views_2016_2017[revisions_weighted_sums_and_page_views_2016_2017$edit_type == 'claim' &\n",
    "                                                                       revisions_weighted_sums_and_page_views_2016_2017$agent_type == 'anon_edit'\n",
    "                                                                      ,]$quality_difference)\n",
    "print(\"anon edits, NULL\")\n",
    "summary(revisions_weighted_sums_and_page_views_2016_2017[revisions_weighted_sums_and_page_views_2016_2017$edit_type == 'NULL' &\n",
    "                                                                       revisions_weighted_sums_and_page_views_2016_2017$agent_type == 'anon_edit'\n",
    "                                                                      ,]$quality_difference)\n"
   ]
  },
  {
   "cell_type": "code",
   "execution_count": null,
   "metadata": {
    "collapsed": true
   },
   "outputs": [],
   "source": []
  },
  {
   "cell_type": "code",
   "execution_count": null,
   "metadata": {
    "collapsed": true
   },
   "outputs": [],
   "source": []
  },
  {
   "cell_type": "code",
   "execution_count": null,
   "metadata": {
    "collapsed": true
   },
   "outputs": [],
   "source": []
  },
  {
   "cell_type": "markdown",
   "metadata": {},
   "source": [
    "# Breakdown plots by agent type and edit type"
   ]
  },
  {
   "cell_type": "markdown",
   "metadata": {},
   "source": [
    "## Bot edits"
   ]
  },
  {
   "cell_type": "code",
   "execution_count": null,
   "metadata": {
    "collapsed": false,
    "scrolled": true
   },
   "outputs": [],
   "source": [
    "ggplot(revisions_weighted_sums_and_page_views[revisions_weighted_sums_and_page_views$edit_type == 'sitelink' &\n",
    "                                                                       revisions_weighted_sums_and_page_views$agent_type == 'bot_edit',], \n",
    "       aes(x=quality_difference, color=group)) + geom_density()"
   ]
  },
  {
   "cell_type": "code",
   "execution_count": null,
   "metadata": {
    "collapsed": false
   },
   "outputs": [],
   "source": [
    "ggplot(revisions_weighted_sums_and_page_views[revisions_weighted_sums_and_page_views$edit_type == 'aliases' &\n",
    "                                                                       revisions_weighted_sums_and_page_views$agent_type == 'bot_edit',], \n",
    "       aes(x=quality_difference, color=group)) + geom_density()"
   ]
  },
  {
   "cell_type": "code",
   "execution_count": null,
   "metadata": {
    "collapsed": false
   },
   "outputs": [],
   "source": [
    "ggplot(revisions_weighted_sums_and_page_views[revisions_weighted_sums_and_page_views$edit_type == 'label' &\n",
    "                                                                       revisions_weighted_sums_and_page_views$agent_type == 'bot_edit',], \n",
    "       aes(x=quality_difference, color=group)) + geom_density()"
   ]
  },
  {
   "cell_type": "code",
   "execution_count": null,
   "metadata": {
    "collapsed": false
   },
   "outputs": [],
   "source": [
    "ggplot(revisions_weighted_sums_and_page_views[revisions_weighted_sums_and_page_views$edit_type == 'description' &\n",
    "                                                                       revisions_weighted_sums_and_page_views$agent_type == 'bot_edit',], \n",
    "       aes(x=quality_difference, color=group)) + geom_density()"
   ]
  },
  {
   "cell_type": "code",
   "execution_count": null,
   "metadata": {
    "collapsed": false
   },
   "outputs": [],
   "source": [
    "ggplot(revisions_weighted_sums_and_page_views[revisions_weighted_sums_and_page_views$edit_type == 'sitelink' &\n",
    "                                                                       revisions_weighted_sums_and_page_views$agent_type == 'bot_edit',], \n",
    "       aes(x=quality_difference, color=group)) + geom_density()"
   ]
  },
  {
   "cell_type": "code",
   "execution_count": null,
   "metadata": {
    "collapsed": false
   },
   "outputs": [],
   "source": [
    "ggplot(revisions_weighted_sums_and_page_views[revisions_weighted_sums_and_page_views$edit_type == 'qualifier' &\n",
    "                                                                       revisions_weighted_sums_and_page_views$agent_type == 'bot_edit',], \n",
    "       aes(x=quality_difference, color=group)) + geom_density()"
   ]
  },
  {
   "cell_type": "code",
   "execution_count": null,
   "metadata": {
    "collapsed": false
   },
   "outputs": [],
   "source": [
    "ggplot(revisions_weighted_sums_and_page_views[revisions_weighted_sums_and_page_views$edit_type == 'claim' &\n",
    "                                                                       revisions_weighted_sums_and_page_views$agent_type == 'bot_edit',], \n",
    "       aes(x=quality_difference, color=group)) + geom_density()"
   ]
  },
  {
   "cell_type": "code",
   "execution_count": null,
   "metadata": {
    "collapsed": false,
    "scrolled": true
   },
   "outputs": [],
   "source": [
    "ggplot(revisions_weighted_sums_and_page_views[revisions_weighted_sums_and_page_views$edit_type == 'NULL' &\n",
    "                                                                       revisions_weighted_sums_and_page_views$agent_type == 'bot_edit',], \n",
    "       aes(x=quality_difference, color=group)) + geom_density()"
   ]
  },
  {
   "cell_type": "markdown",
   "metadata": {},
   "source": [
    "## Human Bot-Like edits"
   ]
  },
  {
   "cell_type": "code",
   "execution_count": null,
   "metadata": {
    "collapsed": false,
    "scrolled": true
   },
   "outputs": [],
   "source": [
    "ggplot(revisions_weighted_sums_and_page_views[revisions_weighted_sums_and_page_views$edit_type == 'sitelink' &\n",
    "                                                                       revisions_weighted_sums_and_page_views$agent_type == 'human_bot_like_edit',], \n",
    "       aes(x=quality_difference, color=group)) + geom_density()"
   ]
  },
  {
   "cell_type": "code",
   "execution_count": null,
   "metadata": {
    "collapsed": false
   },
   "outputs": [],
   "source": [
    "ggplot(revisions_weighted_sums_and_page_views[revisions_weighted_sums_and_page_views$edit_type == 'aliases' &\n",
    "                                                                       revisions_weighted_sums_and_page_views$agent_type == 'human_bot_like_edit',], \n",
    "       aes(x=quality_difference, color=group)) + geom_density()"
   ]
  },
  {
   "cell_type": "code",
   "execution_count": null,
   "metadata": {
    "collapsed": false
   },
   "outputs": [],
   "source": [
    "ggplot(revisions_weighted_sums_and_page_views[revisions_weighted_sums_and_page_views$edit_type == 'label' &\n",
    "                                                                       revisions_weighted_sums_and_page_views$agent_type == 'human_bot_like_edit',], \n",
    "       aes(x=quality_difference, color=group)) + geom_density()"
   ]
  },
  {
   "cell_type": "code",
   "execution_count": null,
   "metadata": {
    "collapsed": false
   },
   "outputs": [],
   "source": [
    "ggplot(revisions_weighted_sums_and_page_views[revisions_weighted_sums_and_page_views$edit_type == 'description' &\n",
    "                                                                       revisions_weighted_sums_and_page_views$agent_type == 'human_bot_like_edit',], \n",
    "       aes(x=quality_difference, color=group)) + geom_density()"
   ]
  },
  {
   "cell_type": "code",
   "execution_count": null,
   "metadata": {
    "collapsed": false
   },
   "outputs": [],
   "source": [
    "ggplot(revisions_weighted_sums_and_page_views[revisions_weighted_sums_and_page_views$edit_type == 'sitelink' &\n",
    "                                                                       revisions_weighted_sums_and_page_views$agent_type == 'human_bot_like_edit',], \n",
    "       aes(x=quality_difference, color=group)) + geom_density()"
   ]
  },
  {
   "cell_type": "code",
   "execution_count": null,
   "metadata": {
    "collapsed": false
   },
   "outputs": [],
   "source": [
    "ggplot(revisions_weighted_sums_and_page_views[revisions_weighted_sums_and_page_views$edit_type == 'qualifier' &\n",
    "                                                                       revisions_weighted_sums_and_page_views$agent_type == 'human_bot_like_edit',], \n",
    "       aes(x=quality_difference, color=group)) + geom_density()"
   ]
  },
  {
   "cell_type": "code",
   "execution_count": null,
   "metadata": {
    "collapsed": false
   },
   "outputs": [],
   "source": [
    "ggplot(revisions_weighted_sums_and_page_views[revisions_weighted_sums_and_page_views$edit_type == 'claim' &\n",
    "                                                                       revisions_weighted_sums_and_page_views$agent_type == 'human_bot_like_edit',], \n",
    "       aes(x=quality_difference, color=group)) + geom_density()"
   ]
  },
  {
   "cell_type": "code",
   "execution_count": null,
   "metadata": {
    "collapsed": false,
    "scrolled": true
   },
   "outputs": [],
   "source": [
    "ggplot(revisions_weighted_sums_and_page_views[revisions_weighted_sums_and_page_views$edit_type == 'NULL' &\n",
    "                                                                       revisions_weighted_sums_and_page_views$agent_type == 'human_bot_like_edit',], \n",
    "       aes(x=quality_difference, color=group)) + geom_density()"
   ]
  },
  {
   "cell_type": "markdown",
   "metadata": {},
   "source": [
    "## Anon Bot-Like edits"
   ]
  },
  {
   "cell_type": "code",
   "execution_count": null,
   "metadata": {
    "collapsed": false,
    "scrolled": true
   },
   "outputs": [],
   "source": [
    "ggplot(revisions_weighted_sums_and_page_views[revisions_weighted_sums_and_page_views$edit_type == 'sitelink' &\n",
    "                                                                       revisions_weighted_sums_and_page_views$agent_type == 'anon_bot_like_edit',], \n",
    "       aes(x=quality_difference, color=group)) + geom_density()"
   ]
  },
  {
   "cell_type": "code",
   "execution_count": null,
   "metadata": {
    "collapsed": false
   },
   "outputs": [],
   "source": [
    "ggplot(revisions_weighted_sums_and_page_views[revisions_weighted_sums_and_page_views$edit_type == 'aliases' &\n",
    "                                                                       revisions_weighted_sums_and_page_views$agent_type == 'anon_bot_like_edit',], \n",
    "       aes(x=quality_difference, color=group)) + geom_density()"
   ]
  },
  {
   "cell_type": "code",
   "execution_count": null,
   "metadata": {
    "collapsed": false
   },
   "outputs": [],
   "source": [
    "ggplot(revisions_weighted_sums_and_page_views[revisions_weighted_sums_and_page_views$edit_type == 'label' &\n",
    "                                                                       revisions_weighted_sums_and_page_views$agent_type == 'anon_bot_like_edit',], \n",
    "       aes(x=quality_difference, color=group)) + geom_density()"
   ]
  },
  {
   "cell_type": "code",
   "execution_count": null,
   "metadata": {
    "collapsed": false
   },
   "outputs": [],
   "source": [
    "ggplot(revisions_weighted_sums_and_page_views[revisions_weighted_sums_and_page_views$edit_type == 'description' &\n",
    "                                                                       revisions_weighted_sums_and_page_views$agent_type == 'anon_bot_like_edit',], \n",
    "       aes(x=quality_difference, color=group)) + geom_density()"
   ]
  },
  {
   "cell_type": "code",
   "execution_count": null,
   "metadata": {
    "collapsed": false
   },
   "outputs": [],
   "source": [
    "ggplot(revisions_weighted_sums_and_page_views[revisions_weighted_sums_and_page_views$edit_type == 'sitelink' &\n",
    "                                                                       revisions_weighted_sums_and_page_views$agent_type == 'anon_bot_like_edit',], \n",
    "       aes(x=quality_difference, color=group)) + geom_density()"
   ]
  },
  {
   "cell_type": "code",
   "execution_count": null,
   "metadata": {
    "collapsed": false
   },
   "outputs": [],
   "source": [
    "ggplot(revisions_weighted_sums_and_page_views[revisions_weighted_sums_and_page_views$edit_type == 'qualifier' &\n",
    "                                                                       revisions_weighted_sums_and_page_views$agent_type == 'anon_bot_like_edit',], \n",
    "       aes(x=quality_difference, color=group)) + geom_density()"
   ]
  },
  {
   "cell_type": "code",
   "execution_count": null,
   "metadata": {
    "collapsed": false
   },
   "outputs": [],
   "source": [
    "ggplot(revisions_weighted_sums_and_page_views[revisions_weighted_sums_and_page_views$edit_type == 'claim' &\n",
    "                                                                       revisions_weighted_sums_and_page_views$agent_type == 'anon_bot_like_edit',], \n",
    "       aes(x=quality_difference, color=group)) + geom_density()"
   ]
  },
  {
   "cell_type": "code",
   "execution_count": null,
   "metadata": {
    "collapsed": false,
    "scrolled": true
   },
   "outputs": [],
   "source": [
    "ggplot(revisions_weighted_sums_and_page_views[revisions_weighted_sums_and_page_views$edit_type == 'NULL' &\n",
    "                                                                       revisions_weighted_sums_and_page_views$agent_type == 'anon_bot_like_edit',], \n",
    "       aes(x=quality_difference, color=group)) + geom_density()"
   ]
  },
  {
   "cell_type": "markdown",
   "metadata": {},
   "source": [
    "## Semi-automated edits"
   ]
  },
  {
   "cell_type": "code",
   "execution_count": null,
   "metadata": {
    "collapsed": false,
    "scrolled": true
   },
   "outputs": [],
   "source": [
    "ggplot(revisions_weighted_sums_and_page_views[revisions_weighted_sums_and_page_views$edit_type == 'sitelink' &\n",
    "                                                                       revisions_weighted_sums_and_page_views$agent_type == 'semi_automated_edit',], \n",
    "       aes(x=quality_difference, color=group)) + geom_density()"
   ]
  },
  {
   "cell_type": "code",
   "execution_count": null,
   "metadata": {
    "collapsed": false
   },
   "outputs": [],
   "source": [
    "ggplot(revisions_weighted_sums_and_page_views[revisions_weighted_sums_and_page_views$edit_type == 'aliases' &\n",
    "                                                                       revisions_weighted_sums_and_page_views$agent_type == 'semi_automated_edit',], \n",
    "       aes(x=quality_difference, color=group)) + geom_density()"
   ]
  },
  {
   "cell_type": "code",
   "execution_count": null,
   "metadata": {
    "collapsed": false
   },
   "outputs": [],
   "source": [
    "ggplot(revisions_weighted_sums_and_page_views[revisions_weighted_sums_and_page_views$edit_type == 'label' &\n",
    "                                                                       revisions_weighted_sums_and_page_views$agent_type == 'semi_automated_edit',], \n",
    "       aes(x=quality_difference, color=group)) + geom_density()"
   ]
  },
  {
   "cell_type": "code",
   "execution_count": null,
   "metadata": {
    "collapsed": false
   },
   "outputs": [],
   "source": [
    "ggplot(revisions_weighted_sums_and_page_views[revisions_weighted_sums_and_page_views$edit_type == 'description' &\n",
    "                                                                       revisions_weighted_sums_and_page_views$agent_type == 'semi_automated_edit',], \n",
    "       aes(x=quality_difference, color=group)) + geom_density()"
   ]
  },
  {
   "cell_type": "code",
   "execution_count": null,
   "metadata": {
    "collapsed": false
   },
   "outputs": [],
   "source": [
    "ggplot(revisions_weighted_sums_and_page_views[revisions_weighted_sums_and_page_views$edit_type == 'reference' &\n",
    "                                                                       revisions_weighted_sums_and_page_views$agent_type == 'semi_automated_edit',], \n",
    "       aes(x=quality_difference, color=group)) + geom_density()"
   ]
  },
  {
   "cell_type": "code",
   "execution_count": null,
   "metadata": {
    "collapsed": false
   },
   "outputs": [],
   "source": [
    "ggplot(revisions_weighted_sums_and_page_views[revisions_weighted_sums_and_page_views$edit_type == 'qualifier' &\n",
    "                                                                       revisions_weighted_sums_and_page_views$agent_type == 'semi_automated_edit',], \n",
    "       aes(x=quality_difference, color=group)) + geom_density()"
   ]
  },
  {
   "cell_type": "code",
   "execution_count": null,
   "metadata": {
    "collapsed": false
   },
   "outputs": [],
   "source": [
    "ggplot(revisions_weighted_sums_and_page_views[revisions_weighted_sums_and_page_views$edit_type == 'claim' &\n",
    "                                                                       revisions_weighted_sums_and_page_views$agent_type == 'semi_automated_edit',], \n",
    "       aes(x=quality_difference, color=group)) + geom_density()"
   ]
  },
  {
   "cell_type": "code",
   "execution_count": null,
   "metadata": {
    "collapsed": false
   },
   "outputs": [],
   "source": [
    "ggplot(revisions_weighted_sums_and_page_views[revisions_weighted_sums_and_page_views$edit_type == 'NULL' &\n",
    "                                                                       revisions_weighted_sums_and_page_views$agent_type == 'semi_automated_edit',], \n",
    "       aes(x=quality_difference, color=group)) + geom_density()"
   ]
  },
  {
   "cell_type": "markdown",
   "metadata": {},
   "source": [
    "## Human edits"
   ]
  },
  {
   "cell_type": "code",
   "execution_count": null,
   "metadata": {
    "collapsed": false,
    "scrolled": true
   },
   "outputs": [],
   "source": [
    "ggplot(revisions_weighted_sums_and_page_views[revisions_weighted_sums_and_page_views$edit_type == 'sitelink' &\n",
    "                                                                       revisions_weighted_sums_and_page_views$agent_type == 'human_edit',], \n",
    "       aes(x=quality_difference, color=group)) + geom_density()"
   ]
  },
  {
   "cell_type": "code",
   "execution_count": null,
   "metadata": {
    "collapsed": false
   },
   "outputs": [],
   "source": [
    "ggplot(revisions_weighted_sums_and_page_views[revisions_weighted_sums_and_page_views$edit_type == 'aliases' &\n",
    "                                                                       revisions_weighted_sums_and_page_views$agent_type == 'human_edit',], \n",
    "       aes(x=quality_difference, color=group)) + geom_density()"
   ]
  },
  {
   "cell_type": "code",
   "execution_count": null,
   "metadata": {
    "collapsed": false
   },
   "outputs": [],
   "source": [
    "ggplot(revisions_weighted_sums_and_page_views[revisions_weighted_sums_and_page_views$edit_type == 'label' &\n",
    "                                                                       revisions_weighted_sums_and_page_views$agent_type == 'human_edit',], \n",
    "       aes(x=quality_difference, color=group)) + geom_density()"
   ]
  },
  {
   "cell_type": "code",
   "execution_count": null,
   "metadata": {
    "collapsed": false
   },
   "outputs": [],
   "source": [
    "ggplot(revisions_weighted_sums_and_page_views[revisions_weighted_sums_and_page_views$edit_type == 'description' &\n",
    "                                                                       revisions_weighted_sums_and_page_views$agent_type == 'human_edit',], \n",
    "       aes(x=quality_difference, color=group)) + geom_density()"
   ]
  },
  {
   "cell_type": "code",
   "execution_count": null,
   "metadata": {
    "collapsed": false
   },
   "outputs": [],
   "source": [
    "ggplot(revisions_weighted_sums_and_page_views[revisions_weighted_sums_and_page_views$edit_type == 'reference' &\n",
    "                                                                       revisions_weighted_sums_and_page_views$agent_type == 'human_edit',], \n",
    "       aes(x=quality_difference, color=group)) + geom_density()"
   ]
  },
  {
   "cell_type": "code",
   "execution_count": null,
   "metadata": {
    "collapsed": false
   },
   "outputs": [],
   "source": [
    "ggplot(revisions_weighted_sums_and_page_views[revisions_weighted_sums_and_page_views$edit_type == 'qualifier' &\n",
    "                                                                       revisions_weighted_sums_and_page_views$agent_type == 'human_edit',], \n",
    "       aes(x=quality_difference, color=group)) + geom_density()"
   ]
  },
  {
   "cell_type": "code",
   "execution_count": null,
   "metadata": {
    "collapsed": false
   },
   "outputs": [],
   "source": [
    "ggplot(revisions_weighted_sums_and_page_views[revisions_weighted_sums_and_page_views$edit_type == 'claim' &\n",
    "                                                                       revisions_weighted_sums_and_page_views$agent_type == 'human_edit',], \n",
    "       aes(x=quality_difference, color=group)) + geom_density()"
   ]
  },
  {
   "cell_type": "code",
   "execution_count": null,
   "metadata": {
    "collapsed": false
   },
   "outputs": [],
   "source": [
    "ggplot(revisions_weighted_sums_and_page_views[revisions_weighted_sums_and_page_views$edit_type == 'NULL' &\n",
    "                                                                       revisions_weighted_sums_and_page_views$agent_type == 'human_edit',], \n",
    "       aes(x=quality_difference, color=group)) + geom_density()"
   ]
  },
  {
   "cell_type": "markdown",
   "metadata": {},
   "source": [
    "## Anon edits"
   ]
  },
  {
   "cell_type": "code",
   "execution_count": null,
   "metadata": {
    "collapsed": false,
    "scrolled": true
   },
   "outputs": [],
   "source": [
    "ggplot(revisions_weighted_sums_and_page_views[revisions_weighted_sums_and_page_views$edit_type == 'sitelink' &\n",
    "                                                                       revisions_weighted_sums_and_page_views$agent_type == 'anon_edit',], \n",
    "       aes(x=quality_difference, color=group)) + geom_density()"
   ]
  },
  {
   "cell_type": "code",
   "execution_count": null,
   "metadata": {
    "collapsed": false
   },
   "outputs": [],
   "source": [
    "ggplot(revisions_weighted_sums_and_page_views[revisions_weighted_sums_and_page_views$edit_type == 'aliases' &\n",
    "                                                                       revisions_weighted_sums_and_page_views$agent_type == 'anon_edit',], \n",
    "       aes(x=quality_difference, color=group)) + geom_density()"
   ]
  },
  {
   "cell_type": "code",
   "execution_count": null,
   "metadata": {
    "collapsed": false
   },
   "outputs": [],
   "source": [
    "ggplot(revisions_weighted_sums_and_page_views[revisions_weighted_sums_and_page_views$edit_type == 'label' &\n",
    "                                                                       revisions_weighted_sums_and_page_views$agent_type == 'anon_edit',], \n",
    "       aes(x=quality_difference, color=group)) + geom_density()"
   ]
  },
  {
   "cell_type": "code",
   "execution_count": null,
   "metadata": {
    "collapsed": false
   },
   "outputs": [],
   "source": [
    "ggplot(revisions_weighted_sums_and_page_views[revisions_weighted_sums_and_page_views$edit_type == 'description' &\n",
    "                                                                       revisions_weighted_sums_and_page_views$agent_type == 'anon_edit',], \n",
    "       aes(x=quality_difference, color=group)) + geom_density()"
   ]
  },
  {
   "cell_type": "code",
   "execution_count": null,
   "metadata": {
    "collapsed": false
   },
   "outputs": [],
   "source": [
    "ggplot(revisions_weighted_sums_and_page_views[revisions_weighted_sums_and_page_views$edit_type == 'reference' &\n",
    "                                                                       revisions_weighted_sums_and_page_views$agent_type == 'anon_edit',], \n",
    "       aes(x=quality_difference, color=group)) + geom_density()"
   ]
  },
  {
   "cell_type": "code",
   "execution_count": null,
   "metadata": {
    "collapsed": false
   },
   "outputs": [],
   "source": [
    "ggplot(revisions_weighted_sums_and_page_views[revisions_weighted_sums_and_page_views$edit_type == 'qualifier' &\n",
    "                                                                       revisions_weighted_sums_and_page_views$agent_type == 'anon_edit',], \n",
    "       aes(x=quality_difference, color=group)) + geom_density()"
   ]
  },
  {
   "cell_type": "code",
   "execution_count": null,
   "metadata": {
    "collapsed": false
   },
   "outputs": [],
   "source": [
    "ggplot(revisions_weighted_sums_and_page_views[revisions_weighted_sums_and_page_views$edit_type == 'claim' &\n",
    "                                                                       revisions_weighted_sums_and_page_views$agent_type == 'anon_edit',], \n",
    "       aes(x=quality_difference, color=group)) + geom_density()"
   ]
  },
  {
   "cell_type": "code",
   "execution_count": null,
   "metadata": {
    "collapsed": false
   },
   "outputs": [],
   "source": [
    "ggplot(revisions_weighted_sums_and_page_views[revisions_weighted_sums_and_page_views$edit_type == 'NULL' &\n",
    "                                                                       revisions_weighted_sums_and_page_views$agent_type == 'anon_edit',], \n",
    "       aes(x=quality_difference, color=group)) + geom_density()"
   ]
  },
  {
   "cell_type": "code",
   "execution_count": null,
   "metadata": {
    "collapsed": true
   },
   "outputs": [],
   "source": []
  },
  {
   "cell_type": "code",
   "execution_count": null,
   "metadata": {
    "collapsed": false
   },
   "outputs": [],
   "source": [
    "# install.packages(\"viridis\"\n",
    "#                 )"
   ]
  },
  {
   "cell_type": "code",
   "execution_count": null,
   "metadata": {
    "collapsed": false
   },
   "outputs": [],
   "source": [
    "library(viridis)"
   ]
  },
  {
   "cell_type": "code",
   "execution_count": null,
   "metadata": {
    "collapsed": false
   },
   "outputs": [],
   "source": [
    "bot_claim_edits_2013_2014 = revisions_weighted_sums_and_page_views_2013_2014[revisions_weighted_sums_and_page_views_2013_2014$edit_type == 'claim' &\n",
    "                                                                       revisions_weighted_sums_and_page_views_2013_2014$agent_type == 'bot_edit'\n",
    "                                                                      ,]$quality_difference;\n",
    "human_claim_edits_2013_2014 = revisions_weighted_sums_and_page_views_2013_2014[revisions_weighted_sums_and_page_views_2013_2014$edit_type == 'claim' &\n",
    "                                                                       revisions_weighted_sums_and_page_views_2013_2014$agent_type == 'human_edit'\n",
    "                                                                      ,]$quality_difference;\n",
    "length(bot_claim_edits_2013_2014)\n",
    "length(human_claim_edits_2013_2014)\n",
    "\n",
    "\n",
    "bot_claim_edits_2014_2015 = revisions_weighted_sums_and_page_views_2014_2015[revisions_weighted_sums_and_page_views_2014_2015$edit_type == 'claim' &\n",
    "                                                                       revisions_weighted_sums_and_page_views_2014_2015$agent_type == 'bot_edit'\n",
    "                                                                      ,]$quality_difference;\n",
    "human_claim_edits_2014_2015 = revisions_weighted_sums_and_page_views_2014_2015[revisions_weighted_sums_and_page_views_2014_2015$edit_type == 'claim' &\n",
    "                                                                       revisions_weighted_sums_and_page_views_2014_2015$agent_type == 'human_edit'\n",
    "                                                                      ,]$quality_difference;\n",
    "length(bot_claim_edits_2014_2015)\n",
    "length(human_claim_edits_2014_2015)\n",
    "\n",
    "bot_claim_edits_2015_2016 = revisions_weighted_sums_and_page_views_2015_2016[revisions_weighted_sums_and_page_views_2015_2016$edit_type == 'claim' &\n",
    "                                                                       revisions_weighted_sums_and_page_views_2015_2016$agent_type == 'bot_edit'\n",
    "                                                                      ,]$quality_difference;\n",
    "human_claim_edits_2015_2016 = revisions_weighted_sums_and_page_views_2015_2016[revisions_weighted_sums_and_page_views_2015_2016$edit_type == 'claim' &\n",
    "                                                                       revisions_weighted_sums_and_page_views_2015_2016$agent_type == 'human_edit'\n",
    "                                                                      ,]$quality_difference;\n",
    "length(bot_claim_edits_2015_2016)\n",
    "length(human_claim_edits_2015_2016)\n",
    "\n",
    "bot_claim_edits_2016_2017 = revisions_weighted_sums_and_page_views_2016_2017[revisions_weighted_sums_and_page_views_2016_2017$edit_type == 'claim' &\n",
    "                                                                       revisions_weighted_sums_and_page_views_2016_2017$agent_type == 'bot_edit'\n",
    "                                                                      ,]$quality_difference;\n",
    "human_claim_edits_2016_2017 = revisions_weighted_sums_and_page_views_2016_2017[revisions_weighted_sums_and_page_views_2016_2017$edit_type == 'claim' &\n",
    "                                                                       revisions_weighted_sums_and_page_views_2016_2017$agent_type == 'human_edit'\n",
    "                                                                      ,]$quality_difference;\n",
    "length(bot_claim_edits_2016_2017)\n",
    "length(human_claim_edits_2016_2017)"
   ]
  },
  {
   "cell_type": "code",
   "execution_count": null,
   "metadata": {
    "collapsed": false
   },
   "outputs": [],
   "source": [
    "wilcox.test(bot_claim_edits_2013_2014, human_claim_edits_2013_2014, alternative = \"two.sided\")\n",
    "wilcox.test(bot_claim_edits_2014_2015, human_claim_edits_2014_2015, alternative = \"two.sided\")\n",
    "wilcox.test(bot_claim_edits_2015_2016, human_claim_edits_2015_2016, alternative = \"two.sided\")\n",
    "wilcox.test(bot_claim_edits_2016_2017, human_claim_edits_2016_2017, alternative = \"two.sided\")"
   ]
  },
  {
   "cell_type": "code",
   "execution_count": null,
   "metadata": {
    "collapsed": false
   },
   "outputs": [],
   "source": [
    "# Where on the expected quality scale are bots doing their work\n",
    "\n",
    "page_view_quantile_increments_2016_2017 = quantile(revisions_weighted_sums_and_page_views_2016_2017$page_views, probs=seq(0,1,.05))"
   ]
  },
  {
   "cell_type": "code",
   "execution_count": null,
   "metadata": {
    "collapsed": false
   },
   "outputs": [],
   "source": [
    "revisions_weighted_sums_and_page_views_2016_2017$group = 1\n",
    "revisions_weighted_sums_and_page_views_2016_2017[revisions_weighted_sums_and_page_views_2016_2017$page_views < page_view_quantile_increments_2016_2017[21],]$group = 1\n",
    "revisions_weighted_sums_and_page_views_2016_2017[revisions_weighted_sums_and_page_views_2016_2017$page_views < page_view_quantile_increments_2016_2017[20],]$group = .95\n",
    "revisions_weighted_sums_and_page_views_2016_2017[revisions_weighted_sums_and_page_views_2016_2017$page_views < page_view_quantile_increments_2016_2017[19],]$group = .9\n",
    "revisions_weighted_sums_and_page_views_2016_2017[revisions_weighted_sums_and_page_views_2016_2017$page_views < page_view_quantile_increments_2016_2017[18],]$group = .85\n",
    "revisions_weighted_sums_and_page_views_2016_2017[revisions_weighted_sums_and_page_views_2016_2017$page_views < page_view_quantile_increments_2016_2017[17],]$group = .8\n",
    "revisions_weighted_sums_and_page_views_2016_2017[revisions_weighted_sums_and_page_views_2016_2017$page_views < page_view_quantile_increments_2016_2017[16],]$group = .75\n",
    "revisions_weighted_sums_and_page_views_2016_2017[revisions_weighted_sums_and_page_views_2016_2017$page_views < page_view_quantile_increments_2016_2017[15],]$group = .7\n",
    "revisions_weighted_sums_and_page_views_2016_2017[revisions_weighted_sums_and_page_views_2016_2017$page_views < page_view_quantile_increments_2016_2017[14],]$group = .65\n",
    "revisions_weighted_sums_and_page_views_2016_2017[revisions_weighted_sums_and_page_views_2016_2017$page_views < page_view_quantile_increments_2016_2017[13],]$group = .6\n",
    "revisions_weighted_sums_and_page_views_2016_2017[revisions_weighted_sums_and_page_views_2016_2017$page_views < page_view_quantile_increments_2016_2017[12],]$group = .55\n",
    "revisions_weighted_sums_and_page_views_2016_2017[revisions_weighted_sums_and_page_views_2016_2017$page_views < page_view_quantile_increments_2016_2017[11],]$group = .5\n",
    "revisions_weighted_sums_and_page_views_2016_2017[revisions_weighted_sums_and_page_views_2016_2017$page_views < page_view_quantile_increments_2016_2017[10],]$group = .45\n",
    "revisions_weighted_sums_and_page_views_2016_2017[revisions_weighted_sums_and_page_views_2016_2017$page_views < page_view_quantile_increments_2016_2017[9],]$group = .4\n",
    "revisions_weighted_sums_and_page_views_2016_2017[revisions_weighted_sums_and_page_views_2016_2017$page_views < page_view_quantile_increments_2016_2017[8],]$group = .35\n",
    "revisions_weighted_sums_and_page_views_2016_2017[revisions_weighted_sums_and_page_views_2016_2017$page_views < page_view_quantile_increments_2016_2017[7],]$group = .3\n",
    "revisions_weighted_sums_and_page_views_2016_2017[revisions_weighted_sums_and_page_views_2016_2017$page_views < page_view_quantile_increments_2016_2017[6],]$group = .25\n",
    "revisions_weighted_sums_and_page_views_2016_2017[revisions_weighted_sums_and_page_views_2016_2017$page_views < page_view_quantile_increments_2016_2017[5],]$group = .2\n",
    "revisions_weighted_sums_and_page_views_2016_2017[revisions_weighted_sums_and_page_views_2016_2017$page_views < page_view_quantile_increments_2016_2017[4],]$group = .15\n",
    "revisions_weighted_sums_and_page_views_2016_2017[revisions_weighted_sums_and_page_views_2016_2017$page_views < page_view_quantile_increments_2016_2017[3],]$group = .1\n",
    "revisions_weighted_sums_and_page_views_2016_2017[revisions_weighted_sums_and_page_views_2016_2017$page_views < page_view_quantile_increments_2016_2017[2],]$group = .05\n",
    "\n",
    "revisions_weighted_sums_and_page_views_2016_2017$group = factor(revisions_weighted_sums_and_page_views_2016_2017$group)\n",
    "\n"
   ]
  },
  {
   "cell_type": "code",
   "execution_count": null,
   "metadata": {
    "collapsed": false
   },
   "outputs": [],
   "source": [
    "bot_edit_proportion_by_quantile =  by(revisions_weighted_sums_and_page_views_2016_2017, revisions_weighted_sums_and_page_views_2016_2017$group, function(quality_and_page_views){\n",
    "    \n",
    "    return(nrow(quality_and_page_views[quality_and_page_views$agent_type == 'bot_edit',]))\n",
    "})\n",
    "\n",
    "human_bot_like_edit_proportion_by_quantile =  by(revisions_weighted_sums_and_page_views_2016_2017, revisions_weighted_sums_and_page_views_2016_2017$group, function(quality_and_page_views){\n",
    "    \n",
    "    return(nrow(quality_and_page_views[quality_and_page_views$agent_type == 'human_bot_like_edit',]))\n",
    "})\n",
    "\n",
    "anon_bot_like_edit_proportion_by_quantile =  by(revisions_weighted_sums_and_page_views_2016_2017, revisions_weighted_sums_and_page_views_2016_2017$group, function(quality_and_page_views){\n",
    "    \n",
    "    return(nrow(quality_and_page_views[quality_and_page_views$agent_type == 'anon_bot_like_edit',]))\n",
    "})\n",
    "\n",
    "human_edit_proportion_by_quantile =  by(revisions_weighted_sums_and_page_views_2016_2017, revisions_weighted_sums_and_page_views_2016_2017$group, function(quality_and_page_views){\n",
    "    \n",
    "    return(nrow(quality_and_page_views[quality_and_page_views$agent_type == 'human_edit',]))\n",
    "})\n",
    "\n",
    "semi_automated_edit_proportion_by_quantile =  by(revisions_weighted_sums_and_page_views_2016_2017, revisions_weighted_sums_and_page_views_2016_2017$group, function(quality_and_page_views){\n",
    "    \n",
    "    return(nrow(quality_and_page_views[quality_and_page_views$agent_type == 'semi_automated_edit',]))\n",
    "})\n",
    "\n",
    "anon_edit_proportion_by_quantile =  by(revisions_weighted_sums_and_page_views_2016_2017, revisions_weighted_sums_and_page_views_2016_2017$group, function(quality_and_page_views){\n",
    "    \n",
    "    return(nrow(quality_and_page_views[quality_and_page_views$agent_type == 'anon_edit',]))\n",
    "})"
   ]
  },
  {
   "cell_type": "code",
   "execution_count": null,
   "metadata": {
    "collapsed": false
   },
   "outputs": [],
   "source": [
    "\n",
    "page_view_quantile = c(\n",
    "              '0.05',\n",
    "              '0.1',\n",
    "              '0.15',\n",
    "              '0.2', \n",
    "              '0.25', \n",
    "              '0.3', \n",
    "              '0.35', \n",
    "              '0.4', \n",
    "              '0.45', \n",
    "              '0.5', \n",
    "              '0.55', \n",
    "              '0.6', \n",
    "              '0.65', \n",
    "              '0.7', \n",
    "              '0.75', \n",
    "              '0.8', \n",
    "              '0.85', \n",
    "              '0.9', \n",
    "              '0.95', \n",
    "              '1')\n",
    "\n",
    "bot_edit_proportion = c(\n",
    "         bot_edit_proportion_by_quantile[['0.05']],\n",
    "         bot_edit_proportion_by_quantile[['0.1']],\n",
    "         bot_edit_proportion_by_quantile[['0.15']],\n",
    "         bot_edit_proportion_by_quantile[['0.2']],\n",
    "         bot_edit_proportion_by_quantile[['0.25']],\n",
    "         bot_edit_proportion_by_quantile[['0.3']],\n",
    "         bot_edit_proportion_by_quantile[['0.35']],\n",
    "         bot_edit_proportion_by_quantile[['0.4']],\n",
    "         bot_edit_proportion_by_quantile[['0.45']],\n",
    "         bot_edit_proportion_by_quantile[['0.5']],\n",
    "         bot_edit_proportion_by_quantile[['0.55']],\n",
    "         bot_edit_proportion_by_quantile[['0.6']],\n",
    "         bot_edit_proportion_by_quantile[['0.65']],\n",
    "         bot_edit_proportion_by_quantile[['0.7']],\n",
    "         bot_edit_proportion_by_quantile[['0.75']],\n",
    "         bot_edit_proportion_by_quantile[['0.8']],\n",
    "         bot_edit_proportion_by_quantile[['0.85']],\n",
    "         bot_edit_proportion_by_quantile[['0.9']],\n",
    "         bot_edit_proportion_by_quantile[['0.95']],\n",
    "         bot_edit_proportion_by_quantile[['1']])\n",
    "\n",
    "\n",
    "page_view_quantiles_and_bot_edit_proportions = data.frame(page_view_quantile)\n",
    "page_view_quantiles_and_bot_edit_proportions$proportion = bot_edit_proportion\n",
    "page_view_quantiles_and_bot_edit_proportions$group = \"bot\"\n",
    "\n",
    "human_bot_like_edit_proportion = c(\n",
    "         human_bot_like_edit_proportion_by_quantile[['0.05']],\n",
    "         human_bot_like_edit_proportion_by_quantile[['0.1']],\n",
    "         human_bot_like_edit_proportion_by_quantile[['0.15']],\n",
    "         human_bot_like_edit_proportion_by_quantile[['0.2']],\n",
    "         human_bot_like_edit_proportion_by_quantile[['0.25']],\n",
    "         human_bot_like_edit_proportion_by_quantile[['0.3']],\n",
    "         human_bot_like_edit_proportion_by_quantile[['0.35']],\n",
    "         human_bot_like_edit_proportion_by_quantile[['0.4']],\n",
    "         human_bot_like_edit_proportion_by_quantile[['0.45']],\n",
    "         human_bot_like_edit_proportion_by_quantile[['0.5']],\n",
    "         human_bot_like_edit_proportion_by_quantile[['0.55']],\n",
    "         human_bot_like_edit_proportion_by_quantile[['0.6']],\n",
    "         human_bot_like_edit_proportion_by_quantile[['0.65']],\n",
    "         human_bot_like_edit_proportion_by_quantile[['0.7']],\n",
    "         human_bot_like_edit_proportion_by_quantile[['0.75']],\n",
    "         human_bot_like_edit_proportion_by_quantile[['0.8']],\n",
    "         human_bot_like_edit_proportion_by_quantile[['0.85']],\n",
    "         human_bot_like_edit_proportion_by_quantile[['0.9']],\n",
    "         human_bot_like_edit_proportion_by_quantile[['0.95']],\n",
    "         human_bot_like_edit_proportion_by_quantile[['1']])\n",
    "\n",
    "\n",
    "page_view_quantiles_and_human_bot_like_edit_proportions = data.frame(page_view_quantile)\n",
    "page_view_quantiles_and_human_bot_like_edit_proportions$proportion = human_bot_like_edit_proportion\n",
    "page_view_quantiles_and_human_bot_like_edit_proportions$group = \"human_bot_like\"\n",
    "\n",
    "anon_bot_like_edit_proportion = c(\n",
    "         anon_bot_like_edit_proportion_by_quantile[['0.05']],\n",
    "         anon_bot_like_edit_proportion_by_quantile[['0.1']],\n",
    "         anon_bot_like_edit_proportion_by_quantile[['0.15']],\n",
    "         anon_bot_like_edit_proportion_by_quantile[['0.2']],\n",
    "         anon_bot_like_edit_proportion_by_quantile[['0.25']],\n",
    "         anon_bot_like_edit_proportion_by_quantile[['0.3']],\n",
    "         anon_bot_like_edit_proportion_by_quantile[['0.35']],\n",
    "         anon_bot_like_edit_proportion_by_quantile[['0.4']],\n",
    "         anon_bot_like_edit_proportion_by_quantile[['0.45']],\n",
    "         anon_bot_like_edit_proportion_by_quantile[['0.5']],\n",
    "         anon_bot_like_edit_proportion_by_quantile[['0.55']],\n",
    "         anon_bot_like_edit_proportion_by_quantile[['0.6']],\n",
    "         anon_bot_like_edit_proportion_by_quantile[['0.65']],\n",
    "         anon_bot_like_edit_proportion_by_quantile[['0.7']],\n",
    "         anon_bot_like_edit_proportion_by_quantile[['0.75']],\n",
    "         anon_bot_like_edit_proportion_by_quantile[['0.8']],\n",
    "         anon_bot_like_edit_proportion_by_quantile[['0.85']],\n",
    "         anon_bot_like_edit_proportion_by_quantile[['0.9']],\n",
    "         anon_bot_like_edit_proportion_by_quantile[['0.95']],\n",
    "         anon_bot_like_edit_proportion_by_quantile[['1']])\n",
    "\n",
    "\n",
    "page_view_quantiles_and_anon_bot_like_edit_proportions = data.frame(page_view_quantile)\n",
    "page_view_quantiles_and_anon_bot_like_edit_proportions$proportion = anon_bot_like_edit_proportion\n",
    "page_view_quantiles_and_anon_bot_like_edit_proportions$group = \"anon_bot_like\"\n",
    "\n",
    "human_edit_proportion = c(  \n",
    "         human_edit_proportion_by_quantile[['0.05']],\n",
    "         human_edit_proportion_by_quantile[['0.1']],\n",
    "         human_edit_proportion_by_quantile[['0.15']],\n",
    "         human_edit_proportion_by_quantile[['0.2']],\n",
    "         human_edit_proportion_by_quantile[['0.25']],\n",
    "         human_edit_proportion_by_quantile[['0.3']],\n",
    "         human_edit_proportion_by_quantile[['0.35']],\n",
    "         human_edit_proportion_by_quantile[['0.4']],\n",
    "         human_edit_proportion_by_quantile[['0.45']],\n",
    "         human_edit_proportion_by_quantile[['0.5']],\n",
    "         human_edit_proportion_by_quantile[['0.55']],\n",
    "         human_edit_proportion_by_quantile[['0.6']],\n",
    "         human_edit_proportion_by_quantile[['0.65']],\n",
    "         human_edit_proportion_by_quantile[['0.7']],\n",
    "         human_edit_proportion_by_quantile[['0.75']],\n",
    "         human_edit_proportion_by_quantile[['0.8']],\n",
    "         human_edit_proportion_by_quantile[['0.85']],\n",
    "         human_edit_proportion_by_quantile[['0.9']],\n",
    "         human_edit_proportion_by_quantile[['0.95']],\n",
    "         human_edit_proportion_by_quantile[['1']])\n",
    "\n",
    "page_view_quantiles_and_human_edit_proportions = data.frame(page_view_quantile)\n",
    "page_view_quantiles_and_human_edit_proportions$proportion = human_edit_proportion\n",
    "page_view_quantiles_and_human_edit_proportions$group = \"human\"\n",
    "\n",
    "semi_automated_edit_proportion = c(  \n",
    "         semi_automated_edit_proportion_by_quantile[['0.05']],\n",
    "         semi_automated_edit_proportion_by_quantile[['0.1']],\n",
    "         semi_automated_edit_proportion_by_quantile[['0.15']],\n",
    "         semi_automated_edit_proportion_by_quantile[['0.2']],\n",
    "         semi_automated_edit_proportion_by_quantile[['0.25']],\n",
    "         semi_automated_edit_proportion_by_quantile[['0.3']],\n",
    "         semi_automated_edit_proportion_by_quantile[['0.35']],\n",
    "         semi_automated_edit_proportion_by_quantile[['0.4']],\n",
    "         semi_automated_edit_proportion_by_quantile[['0.45']],\n",
    "         semi_automated_edit_proportion_by_quantile[['0.5']],\n",
    "         semi_automated_edit_proportion_by_quantile[['0.55']],\n",
    "         semi_automated_edit_proportion_by_quantile[['0.6']],\n",
    "         semi_automated_edit_proportion_by_quantile[['0.65']],\n",
    "         semi_automated_edit_proportion_by_quantile[['0.7']],\n",
    "         semi_automated_edit_proportion_by_quantile[['0.75']],\n",
    "         semi_automated_edit_proportion_by_quantile[['0.8']],\n",
    "         semi_automated_edit_proportion_by_quantile[['0.85']],\n",
    "         semi_automated_edit_proportion_by_quantile[['0.9']],\n",
    "         semi_automated_edit_proportion_by_quantile[['0.95']],\n",
    "         semi_automated_edit_proportion_by_quantile[['1']])\n",
    "\n",
    "page_view_quantiles_and_semi_automated_edit_proportions = data.frame(page_view_quantile)\n",
    "page_view_quantiles_and_semi_automated_edit_proportions$proportion = semi_automated_edit_proportion\n",
    "page_view_quantiles_and_semi_automated_edit_proportions$group = \"semi_automated\"\n",
    "\n",
    "anon_edit_proportion = c(  \n",
    "         anon_edit_proportion_by_quantile[['0.05']],\n",
    "         anon_edit_proportion_by_quantile[['0.1']],\n",
    "         anon_edit_proportion_by_quantile[['0.15']],\n",
    "         anon_edit_proportion_by_quantile[['0.2']],\n",
    "         anon_edit_proportion_by_quantile[['0.25']],\n",
    "         anon_edit_proportion_by_quantile[['0.3']],\n",
    "         anon_edit_proportion_by_quantile[['0.35']],\n",
    "         anon_edit_proportion_by_quantile[['0.4']],\n",
    "         anon_edit_proportion_by_quantile[['0.45']],\n",
    "         anon_edit_proportion_by_quantile[['0.5']],\n",
    "         anon_edit_proportion_by_quantile[['0.55']],\n",
    "         anon_edit_proportion_by_quantile[['0.6']],\n",
    "         anon_edit_proportion_by_quantile[['0.65']],\n",
    "         anon_edit_proportion_by_quantile[['0.7']],\n",
    "         anon_edit_proportion_by_quantile[['0.75']],\n",
    "         anon_edit_proportion_by_quantile[['0.8']],\n",
    "         anon_edit_proportion_by_quantile[['0.85']],\n",
    "         anon_edit_proportion_by_quantile[['0.9']],\n",
    "         anon_edit_proportion_by_quantile[['0.95']],\n",
    "         anon_edit_proportion_by_quantile[['1']])\n",
    "\n",
    "\n",
    "page_view_quantiles_and_anon_edit_proportions = data.frame(page_view_quantile)\n",
    "page_view_quantiles_and_anon_edit_proportions$proportion = anon_edit_proportion\n",
    "page_view_quantiles_and_anon_edit_proportions$group = \"anon\"\n",
    "\n",
    "\n",
    "page_view_quantiles_and_proportions = rbind(rbind(rbind(rbind(\n",
    "    page_view_quantiles_and_bot_edit_proportions,\n",
    "    page_view_quantiles_and_human_bot_like_edit_proportions),\n",
    "    page_view_quantiles_and_human_edit_proportions),\n",
    "    page_view_quantiles_and_semi_automated_edit_proportions),\n",
    "    page_view_quantiles_and_anon_edit_proportions)\n",
    "    \n",
    "                                            \n",
    "#                                             page_view_quantiles_and_anon_bot_like_edit_proportions),\n",
    "                                                  \n",
    "head(page_view_quantiles_and_proportions)"
   ]
  },
  {
   "cell_type": "code",
   "execution_count": null,
   "metadata": {
    "collapsed": false
   },
   "outputs": [],
   "source": [
    "ggplot(page_view_quantiles_and_proportions,\n",
    "       aes(x=page_view_quantile, y=proportion, color=group, linetype=group)) + geom_point() + \n",
    "ggtitle(\"2016-2017 Expected Quality Quantile versus Quantile Edit Proportion\") +\n",
    "scale_color_viridis(discrete=TRUE) + labs(y = \"edit count\")"
   ]
  },
  {
   "cell_type": "code",
   "execution_count": null,
   "metadata": {
    "collapsed": false
   },
   "outputs": [],
   "source": [
    "\n",
    " \n",
    "\n",
    "ggplot(revisions_weighted_sums_and_page_views_2016_2017,\n",
    "       aes(x=expected_quality_quantile, color=agent_type, linetype=agent_type)) + geom_density() + \n",
    "ggtitle(\"2016-2017 Expected Quality Quantile versus Quantile Edit Proportion\") +\n",
    "scale_color_viridis(discrete=TRUE)"
   ]
  },
  {
   "cell_type": "code",
   "execution_count": null,
   "metadata": {
    "collapsed": false
   },
   "outputs": [],
   "source": [
    "ggplot(revisions_weighted_sums_and_page_views_2016_2017,\n",
    "       aes(expected_quality, color=agent_type, linetype=agent_type)) + geom_density() + ggtitle(\"2016-2017 Expected Quality Density\") +\n",
    "scale_color_viridis(discrete=TRUE)"
   ]
  },
  {
   "cell_type": "code",
   "execution_count": null,
   "metadata": {
    "collapsed": false
   },
   "outputs": [],
   "source": [
    "bot_edit_proportion_by_quantile =  by(revisions_weighted_sums_and_page_views_2016_2017, revisions_weighted_sums_and_page_views_2016_2017$group, function(quality_and_page_views){\n",
    "    \n",
    "    return(nrow(quality_and_page_views[quality_and_page_views$agent_type == 'bot_edit',])/nrow(revisions_weighted_sums_and_page_views_2016_2017[revisions_weighted_sums_and_page_views_2016_2017$agent_type == 'bot_edit',]))\n",
    "})\n",
    "\n",
    "human_bot_like_edit_proportion_by_quantile =  by(revisions_weighted_sums_and_page_views_2016_2017, revisions_weighted_sums_and_page_views_2016_2017$group, function(quality_and_page_views){\n",
    "    \n",
    "    return(nrow(quality_and_page_views[quality_and_page_views$agent_type == 'human_bot_like_edit',])/nrow(revisions_weighted_sums_and_page_views_2016_2017[revisions_weighted_sums_and_page_views_2016_2017$agent_type == 'human_bot_like_edit',]))\n",
    "})\n",
    "\n",
    "anon_bot_like_edit_proportion_by_quantile =  by(revisions_weighted_sums_and_page_views_2016_2017, revisions_weighted_sums_and_page_views_2016_2017$group, function(quality_and_page_views){\n",
    "    \n",
    "    return(nrow(quality_and_page_views[quality_and_page_views$agent_type == 'anon_bot_like_edit',])/nrow(revisions_weighted_sums_and_page_views_2016_2017[revisions_weighted_sums_and_page_views_2016_2017$agent_type == 'anon_bot_like_edit',]))\n",
    "})\n",
    "\n",
    "human_edit_proportion_by_quantile =  by(revisions_weighted_sums_and_page_views_2016_2017, revisions_weighted_sums_and_page_views_2016_2017$group, function(quality_and_page_views){\n",
    "    \n",
    "    return(nrow(quality_and_page_views[quality_and_page_views$agent_type == 'human_edit',])/nrow(revisions_weighted_sums_and_page_views_2016_2017[revisions_weighted_sums_and_page_views_2016_2017$agent_type == 'human_edit',]))\n",
    "})\n",
    "\n",
    "semi_automated_edit_proportion_by_quantile =  by(revisions_weighted_sums_and_page_views_2016_2017, revisions_weighted_sums_and_page_views_2016_2017$group, function(quality_and_page_views){\n",
    "    \n",
    "    return(nrow(quality_and_page_views[quality_and_page_views$agent_type == 'semi_automated_edit',])/nrow(revisions_weighted_sums_and_page_views_2016_2017[revisions_weighted_sums_and_page_views_2016_2017$agent_type == 'semi_automated_edit',]))\n",
    "})\n",
    "\n",
    "anon_edit_proportion_by_quantile =  by(revisions_weighted_sums_and_page_views_2016_2017, revisions_weighted_sums_and_page_views_2016_2017$group, function(quality_and_page_views){\n",
    "    \n",
    "    return(nrow(quality_and_page_views[quality_and_page_views$agent_type == 'anon_edit',])/nrow(revisions_weighted_sums_and_page_views_2016_2017[revisions_weighted_sums_and_page_views_2016_2017$agent_type == 'anon_edit',]))\n",
    "})"
   ]
  },
  {
   "cell_type": "code",
   "execution_count": null,
   "metadata": {
    "collapsed": false
   },
   "outputs": [],
   "source": [
    "\n",
    "page_view_quantile = c(\n",
    "              '0.05',\n",
    "              '0.1',\n",
    "              '0.15',\n",
    "              '0.2', \n",
    "              '0.25', \n",
    "              '0.3', \n",
    "              '0.35', \n",
    "              '0.4', \n",
    "              '0.45', \n",
    "              '0.5', \n",
    "              '0.55', \n",
    "              '0.6', \n",
    "              '0.65', \n",
    "              '0.7', \n",
    "              '0.75', \n",
    "              '0.8', \n",
    "              '0.85', \n",
    "              '0.9', \n",
    "              '0.95', \n",
    "              '1')\n",
    "\n",
    "bot_edit_proportion = c(\n",
    "         bot_edit_proportion_by_quantile[['0.05']],\n",
    "         bot_edit_proportion_by_quantile[['0.1']],\n",
    "         bot_edit_proportion_by_quantile[['0.15']],\n",
    "         bot_edit_proportion_by_quantile[['0.2']],\n",
    "         bot_edit_proportion_by_quantile[['0.25']],\n",
    "         bot_edit_proportion_by_quantile[['0.3']],\n",
    "         bot_edit_proportion_by_quantile[['0.35']],\n",
    "         bot_edit_proportion_by_quantile[['0.4']],\n",
    "         bot_edit_proportion_by_quantile[['0.45']],\n",
    "         bot_edit_proportion_by_quantile[['0.5']],\n",
    "         bot_edit_proportion_by_quantile[['0.55']],\n",
    "         bot_edit_proportion_by_quantile[['0.6']],\n",
    "         bot_edit_proportion_by_quantile[['0.65']],\n",
    "         bot_edit_proportion_by_quantile[['0.7']],\n",
    "         bot_edit_proportion_by_quantile[['0.75']],\n",
    "         bot_edit_proportion_by_quantile[['0.8']],\n",
    "         bot_edit_proportion_by_quantile[['0.85']],\n",
    "         bot_edit_proportion_by_quantile[['0.9']],\n",
    "         bot_edit_proportion_by_quantile[['0.95']],\n",
    "         bot_edit_proportion_by_quantile[['1']])\n",
    "\n",
    "\n",
    "page_view_quantiles_and_bot_edit_proportions = data.frame(page_view_quantile)\n",
    "page_view_quantiles_and_bot_edit_proportions$proportion = bot_edit_proportion\n",
    "page_view_quantiles_and_bot_edit_proportions$group = \"bot\"\n",
    "\n",
    "human_bot_like_edit_proportion = c(\n",
    "         human_bot_like_edit_proportion_by_quantile[['0.05']],\n",
    "         human_bot_like_edit_proportion_by_quantile[['0.1']],\n",
    "         human_bot_like_edit_proportion_by_quantile[['0.15']],\n",
    "         human_bot_like_edit_proportion_by_quantile[['0.2']],\n",
    "         human_bot_like_edit_proportion_by_quantile[['0.25']],\n",
    "         human_bot_like_edit_proportion_by_quantile[['0.3']],\n",
    "         human_bot_like_edit_proportion_by_quantile[['0.35']],\n",
    "         human_bot_like_edit_proportion_by_quantile[['0.4']],\n",
    "         human_bot_like_edit_proportion_by_quantile[['0.45']],\n",
    "         human_bot_like_edit_proportion_by_quantile[['0.5']],\n",
    "         human_bot_like_edit_proportion_by_quantile[['0.55']],\n",
    "         human_bot_like_edit_proportion_by_quantile[['0.6']],\n",
    "         human_bot_like_edit_proportion_by_quantile[['0.65']],\n",
    "         human_bot_like_edit_proportion_by_quantile[['0.7']],\n",
    "         human_bot_like_edit_proportion_by_quantile[['0.75']],\n",
    "         human_bot_like_edit_proportion_by_quantile[['0.8']],\n",
    "         human_bot_like_edit_proportion_by_quantile[['0.85']],\n",
    "         human_bot_like_edit_proportion_by_quantile[['0.9']],\n",
    "         human_bot_like_edit_proportion_by_quantile[['0.95']],\n",
    "         human_bot_like_edit_proportion_by_quantile[['1']])\n",
    "\n",
    "\n",
    "page_view_quantiles_and_human_bot_like_edit_proportions = data.frame(page_view_quantile)\n",
    "page_view_quantiles_and_human_bot_like_edit_proportions$proportion = human_bot_like_edit_proportion\n",
    "page_view_quantiles_and_human_bot_like_edit_proportions$group = \"human_bot_like\"\n",
    "\n",
    "anon_bot_like_edit_proportion = c(\n",
    "         anon_bot_like_edit_proportion_by_quantile[['0.05']],\n",
    "         anon_bot_like_edit_proportion_by_quantile[['0.1']],\n",
    "         anon_bot_like_edit_proportion_by_quantile[['0.15']],\n",
    "         anon_bot_like_edit_proportion_by_quantile[['0.2']],\n",
    "         anon_bot_like_edit_proportion_by_quantile[['0.25']],\n",
    "         anon_bot_like_edit_proportion_by_quantile[['0.3']],\n",
    "         anon_bot_like_edit_proportion_by_quantile[['0.35']],\n",
    "         anon_bot_like_edit_proportion_by_quantile[['0.4']],\n",
    "         anon_bot_like_edit_proportion_by_quantile[['0.45']],\n",
    "         anon_bot_like_edit_proportion_by_quantile[['0.5']],\n",
    "         anon_bot_like_edit_proportion_by_quantile[['0.55']],\n",
    "         anon_bot_like_edit_proportion_by_quantile[['0.6']],\n",
    "         anon_bot_like_edit_proportion_by_quantile[['0.65']],\n",
    "         anon_bot_like_edit_proportion_by_quantile[['0.7']],\n",
    "         anon_bot_like_edit_proportion_by_quantile[['0.75']],\n",
    "         anon_bot_like_edit_proportion_by_quantile[['0.8']],\n",
    "         anon_bot_like_edit_proportion_by_quantile[['0.85']],\n",
    "         anon_bot_like_edit_proportion_by_quantile[['0.9']],\n",
    "         anon_bot_like_edit_proportion_by_quantile[['0.95']],\n",
    "         anon_bot_like_edit_proportion_by_quantile[['1']])\n",
    "\n",
    "\n",
    "page_view_quantiles_and_anon_bot_like_edit_proportions = data.frame(page_view_quantile)\n",
    "page_view_quantiles_and_anon_bot_like_edit_proportions$proportion = anon_bot_like_edit_proportion\n",
    "page_view_quantiles_and_anon_bot_like_edit_proportions$group = \"anon_bot_like\"\n",
    "\n",
    "human_edit_proportion = c(  \n",
    "         human_edit_proportion_by_quantile[['0.05']],\n",
    "         human_edit_proportion_by_quantile[['0.1']],\n",
    "         human_edit_proportion_by_quantile[['0.15']],\n",
    "         human_edit_proportion_by_quantile[['0.2']],\n",
    "         human_edit_proportion_by_quantile[['0.25']],\n",
    "         human_edit_proportion_by_quantile[['0.3']],\n",
    "         human_edit_proportion_by_quantile[['0.35']],\n",
    "         human_edit_proportion_by_quantile[['0.4']],\n",
    "         human_edit_proportion_by_quantile[['0.45']],\n",
    "         human_edit_proportion_by_quantile[['0.5']],\n",
    "         human_edit_proportion_by_quantile[['0.55']],\n",
    "         human_edit_proportion_by_quantile[['0.6']],\n",
    "         human_edit_proportion_by_quantile[['0.65']],\n",
    "         human_edit_proportion_by_quantile[['0.7']],\n",
    "         human_edit_proportion_by_quantile[['0.75']],\n",
    "         human_edit_proportion_by_quantile[['0.8']],\n",
    "         human_edit_proportion_by_quantile[['0.85']],\n",
    "         human_edit_proportion_by_quantile[['0.9']],\n",
    "         human_edit_proportion_by_quantile[['0.95']],\n",
    "         human_edit_proportion_by_quantile[['1']])\n",
    "\n",
    "page_view_quantiles_and_human_edit_proportions = data.frame(page_view_quantile)\n",
    "page_view_quantiles_and_human_edit_proportions$proportion = human_edit_proportion\n",
    "page_view_quantiles_and_human_edit_proportions$group = \"human\"\n",
    "\n",
    "semi_automated_edit_proportion = c(  \n",
    "         semi_automated_edit_proportion_by_quantile[['0.05']],\n",
    "         semi_automated_edit_proportion_by_quantile[['0.1']],\n",
    "         semi_automated_edit_proportion_by_quantile[['0.15']],\n",
    "         semi_automated_edit_proportion_by_quantile[['0.2']],\n",
    "         semi_automated_edit_proportion_by_quantile[['0.25']],\n",
    "         semi_automated_edit_proportion_by_quantile[['0.3']],\n",
    "         semi_automated_edit_proportion_by_quantile[['0.35']],\n",
    "         semi_automated_edit_proportion_by_quantile[['0.4']],\n",
    "         semi_automated_edit_proportion_by_quantile[['0.45']],\n",
    "         semi_automated_edit_proportion_by_quantile[['0.5']],\n",
    "         semi_automated_edit_proportion_by_quantile[['0.55']],\n",
    "         semi_automated_edit_proportion_by_quantile[['0.6']],\n",
    "         semi_automated_edit_proportion_by_quantile[['0.65']],\n",
    "         semi_automated_edit_proportion_by_quantile[['0.7']],\n",
    "         semi_automated_edit_proportion_by_quantile[['0.75']],\n",
    "         semi_automated_edit_proportion_by_quantile[['0.8']],\n",
    "         semi_automated_edit_proportion_by_quantile[['0.85']],\n",
    "         semi_automated_edit_proportion_by_quantile[['0.9']],\n",
    "         semi_automated_edit_proportion_by_quantile[['0.95']],\n",
    "         semi_automated_edit_proportion_by_quantile[['1']])\n",
    "\n",
    "page_view_quantiles_and_semi_automated_edit_proportions = data.frame(page_view_quantile)\n",
    "page_view_quantiles_and_semi_automated_edit_proportions$proportion = semi_automated_edit_proportion\n",
    "page_view_quantiles_and_semi_automated_edit_proportions$group = \"semi_automated\"\n",
    "\n",
    "anon_edit_proportion = c(  \n",
    "         anon_edit_proportion_by_quantile[['0.05']],\n",
    "         anon_edit_proportion_by_quantile[['0.1']],\n",
    "         anon_edit_proportion_by_quantile[['0.15']],\n",
    "         anon_edit_proportion_by_quantile[['0.2']],\n",
    "         anon_edit_proportion_by_quantile[['0.25']],\n",
    "         anon_edit_proportion_by_quantile[['0.3']],\n",
    "         anon_edit_proportion_by_quantile[['0.35']],\n",
    "         anon_edit_proportion_by_quantile[['0.4']],\n",
    "         anon_edit_proportion_by_quantile[['0.45']],\n",
    "         anon_edit_proportion_by_quantile[['0.5']],\n",
    "         anon_edit_proportion_by_quantile[['0.55']],\n",
    "         anon_edit_proportion_by_quantile[['0.6']],\n",
    "         anon_edit_proportion_by_quantile[['0.65']],\n",
    "         anon_edit_proportion_by_quantile[['0.7']],\n",
    "         anon_edit_proportion_by_quantile[['0.75']],\n",
    "         anon_edit_proportion_by_quantile[['0.8']],\n",
    "         anon_edit_proportion_by_quantile[['0.85']],\n",
    "         anon_edit_proportion_by_quantile[['0.9']],\n",
    "         anon_edit_proportion_by_quantile[['0.95']],\n",
    "         anon_edit_proportion_by_quantile[['1']])\n",
    "\n",
    "\n",
    "page_view_quantiles_and_anon_edit_proportions = data.frame(page_view_quantile)\n",
    "page_view_quantiles_and_anon_edit_proportions$proportion = anon_edit_proportion\n",
    "page_view_quantiles_and_anon_edit_proportions$group = \"anon\"\n",
    "\n",
    "\n",
    "page_view_quantiles_and_proportions = rbind(rbind(rbind(rbind(\n",
    "    page_view_quantiles_and_bot_edit_proportions,\n",
    "    page_view_quantiles_and_human_bot_like_edit_proportions),\n",
    "    page_view_quantiles_and_human_edit_proportions),\n",
    "    page_view_quantiles_and_semi_automated_edit_proportions),\n",
    "    page_view_quantiles_and_anon_edit_proportions)\n",
    "\n",
    "#                                             page_view_quantiles_and_anon_bot_like_edit_proportions),"
   ]
  },
  {
   "cell_type": "code",
   "execution_count": null,
   "metadata": {
    "collapsed": false,
    "scrolled": false
   },
   "outputs": [],
   "source": [
    "ggplot(page_view_quantiles_and_proportions,\n",
    "       aes(x=page_view_quantile, y=proportion, color=group, linetype=group)) + geom_point() + \n",
    "ggtitle(\"2016-2017 Expected Quality Quantile versus Proportion of Agent Type Edits\") +\n",
    "scale_color_viridis(discrete=TRUE)\n",
    "\n",
    " "
   ]
  },
  {
   "cell_type": "code",
   "execution_count": null,
   "metadata": {
    "collapsed": false
   },
   "outputs": [],
   "source": [
    "bot_edit_proportion_by_quantile =  by(revisions_weighted_sums_and_page_views_2016_2017, revisions_weighted_sums_and_page_views_2016_2017$group, function(quality_and_page_views){\n",
    "    \n",
    "    return(mean(quality_and_page_views[quality_and_page_views$agent_type == 'bot_edit',]$quality_difference))\n",
    "})\n",
    "\n",
    "human_bot_like_edit_proportion_by_quantile =  by(revisions_weighted_sums_and_page_views_2016_2017, revisions_weighted_sums_and_page_views_2016_2017$group, function(quality_and_page_views){\n",
    "    \n",
    "    return(mean(quality_and_page_views[quality_and_page_views$agent_type == 'human_bot_like_edit',]$quality_difference))\n",
    "})\n",
    "\n",
    "anon_bot_like_edit_proportion_by_quantile =  by(revisions_weighted_sums_and_page_views_2016_2017, revisions_weighted_sums_and_page_views_2016_2017$group, function(quality_and_page_views){\n",
    "    \n",
    "    return(mean(quality_and_page_views[quality_and_page_views$agent_type == 'anon_bot_like_edit',]$quality_difference))\n",
    "})\n",
    "\n",
    "human_edit_proportion_by_quantile =  by(revisions_weighted_sums_and_page_views_2016_2017, revisions_weighted_sums_and_page_views_2016_2017$group, function(quality_and_page_views){\n",
    "    \n",
    "    return(mean(quality_and_page_views[quality_and_page_views$agent_type == 'human_edit',]$quality_difference))\n",
    "})\n",
    "\n",
    "semi_automated_edit_proportion_by_quantile =  by(revisions_weighted_sums_and_page_views_2016_2017, revisions_weighted_sums_and_page_views_2016_2017$group, function(quality_and_page_views){\n",
    "    \n",
    "    return(mean(quality_and_page_views[quality_and_page_views$agent_type == 'semi_automated_edit',]$quality_difference))\n",
    "})\n",
    "\n",
    "anon_edit_proportion_by_quantile =  by(revisions_weighted_sums_and_page_views_2016_2017, revisions_weighted_sums_and_page_views_2016_2017$group, function(quality_and_page_views){\n",
    "    \n",
    "    return(mean(quality_and_page_views[quality_and_page_views$agent_type == 'anon_edit',]$quality_difference))\n",
    "})"
   ]
  },
  {
   "cell_type": "code",
   "execution_count": null,
   "metadata": {
    "collapsed": false
   },
   "outputs": [],
   "source": [
    "\n",
    "page_view_quantile = c(\n",
    "              '0.05',\n",
    "              '0.1',\n",
    "              '0.15',\n",
    "              '0.2', \n",
    "              '0.25', \n",
    "              '0.3', \n",
    "              '0.35', \n",
    "              '0.4', \n",
    "              '0.45', \n",
    "              '0.5', \n",
    "              '0.55', \n",
    "              '0.6', \n",
    "              '0.65', \n",
    "              '0.7', \n",
    "              '0.75', \n",
    "              '0.8', \n",
    "              '0.85', \n",
    "              '0.9', \n",
    "              '0.95', \n",
    "              '1')\n",
    "\n",
    "bot_edit_proportion = c(\n",
    "         bot_edit_proportion_by_quantile[['0.05']],\n",
    "         bot_edit_proportion_by_quantile[['0.1']],\n",
    "         bot_edit_proportion_by_quantile[['0.15']],\n",
    "         bot_edit_proportion_by_quantile[['0.2']],\n",
    "         bot_edit_proportion_by_quantile[['0.25']],\n",
    "         bot_edit_proportion_by_quantile[['0.3']],\n",
    "         bot_edit_proportion_by_quantile[['0.35']],\n",
    "         bot_edit_proportion_by_quantile[['0.4']],\n",
    "         bot_edit_proportion_by_quantile[['0.45']],\n",
    "         bot_edit_proportion_by_quantile[['0.5']],\n",
    "         bot_edit_proportion_by_quantile[['0.55']],\n",
    "         bot_edit_proportion_by_quantile[['0.6']],\n",
    "         bot_edit_proportion_by_quantile[['0.65']],\n",
    "         bot_edit_proportion_by_quantile[['0.7']],\n",
    "         bot_edit_proportion_by_quantile[['0.75']],\n",
    "         bot_edit_proportion_by_quantile[['0.8']],\n",
    "         bot_edit_proportion_by_quantile[['0.85']],\n",
    "         bot_edit_proportion_by_quantile[['0.9']],\n",
    "         bot_edit_proportion_by_quantile[['0.95']],\n",
    "         bot_edit_proportion_by_quantile[['1']])\n",
    "\n",
    "\n",
    "page_view_quantiles_and_bot_edit_proportions = data.frame(page_view_quantile)\n",
    "page_view_quantiles_and_bot_edit_proportions$proportion = bot_edit_proportion\n",
    "page_view_quantiles_and_bot_edit_proportions$group = \"bot\"\n",
    "\n",
    "human_bot_like_edit_proportion = c(\n",
    "         human_bot_like_edit_proportion_by_quantile[['0.05']],\n",
    "         human_bot_like_edit_proportion_by_quantile[['0.1']],\n",
    "         human_bot_like_edit_proportion_by_quantile[['0.15']],\n",
    "         human_bot_like_edit_proportion_by_quantile[['0.2']],\n",
    "         human_bot_like_edit_proportion_by_quantile[['0.25']],\n",
    "         human_bot_like_edit_proportion_by_quantile[['0.3']],\n",
    "         human_bot_like_edit_proportion_by_quantile[['0.35']],\n",
    "         human_bot_like_edit_proportion_by_quantile[['0.4']],\n",
    "         human_bot_like_edit_proportion_by_quantile[['0.45']],\n",
    "         human_bot_like_edit_proportion_by_quantile[['0.5']],\n",
    "         human_bot_like_edit_proportion_by_quantile[['0.55']],\n",
    "         human_bot_like_edit_proportion_by_quantile[['0.6']],\n",
    "         human_bot_like_edit_proportion_by_quantile[['0.65']],\n",
    "         human_bot_like_edit_proportion_by_quantile[['0.7']],\n",
    "         human_bot_like_edit_proportion_by_quantile[['0.75']],\n",
    "         human_bot_like_edit_proportion_by_quantile[['0.8']],\n",
    "         human_bot_like_edit_proportion_by_quantile[['0.85']],\n",
    "         human_bot_like_edit_proportion_by_quantile[['0.9']],\n",
    "         human_bot_like_edit_proportion_by_quantile[['0.95']],\n",
    "         human_bot_like_edit_proportion_by_quantile[['1']])\n",
    "\n",
    "\n",
    "page_view_quantiles_and_human_bot_like_edit_proportions = data.frame(page_view_quantile)\n",
    "page_view_quantiles_and_human_bot_like_edit_proportions$proportion = human_bot_like_edit_proportion\n",
    "page_view_quantiles_and_human_bot_like_edit_proportions$group = \"human_bot_like\"\n",
    "\n",
    "anon_bot_like_edit_proportion = c(\n",
    "         anon_bot_like_edit_proportion_by_quantile[['0.05']],\n",
    "         anon_bot_like_edit_proportion_by_quantile[['0.1']],\n",
    "         anon_bot_like_edit_proportion_by_quantile[['0.15']],\n",
    "         anon_bot_like_edit_proportion_by_quantile[['0.2']],\n",
    "         anon_bot_like_edit_proportion_by_quantile[['0.25']],\n",
    "         anon_bot_like_edit_proportion_by_quantile[['0.3']],\n",
    "         anon_bot_like_edit_proportion_by_quantile[['0.35']],\n",
    "         anon_bot_like_edit_proportion_by_quantile[['0.4']],\n",
    "         anon_bot_like_edit_proportion_by_quantile[['0.45']],\n",
    "         anon_bot_like_edit_proportion_by_quantile[['0.5']],\n",
    "         anon_bot_like_edit_proportion_by_quantile[['0.55']],\n",
    "         anon_bot_like_edit_proportion_by_quantile[['0.6']],\n",
    "         anon_bot_like_edit_proportion_by_quantile[['0.65']],\n",
    "         anon_bot_like_edit_proportion_by_quantile[['0.7']],\n",
    "         anon_bot_like_edit_proportion_by_quantile[['0.75']],\n",
    "         anon_bot_like_edit_proportion_by_quantile[['0.8']],\n",
    "         anon_bot_like_edit_proportion_by_quantile[['0.85']],\n",
    "         anon_bot_like_edit_proportion_by_quantile[['0.9']],\n",
    "         anon_bot_like_edit_proportion_by_quantile[['0.95']],\n",
    "         anon_bot_like_edit_proportion_by_quantile[['1']])\n",
    "\n",
    "\n",
    "page_view_quantiles_and_anon_bot_like_edit_proportions = data.frame(page_view_quantile)\n",
    "page_view_quantiles_and_anon_bot_like_edit_proportions$proportion = anon_bot_like_edit_proportion\n",
    "page_view_quantiles_and_anon_bot_like_edit_proportions$group = \"anon_bot_like\"\n",
    "\n",
    "human_edit_proportion = c(  \n",
    "         human_edit_proportion_by_quantile[['0.05']],\n",
    "         human_edit_proportion_by_quantile[['0.1']],\n",
    "         human_edit_proportion_by_quantile[['0.15']],\n",
    "         human_edit_proportion_by_quantile[['0.2']],\n",
    "         human_edit_proportion_by_quantile[['0.25']],\n",
    "         human_edit_proportion_by_quantile[['0.3']],\n",
    "         human_edit_proportion_by_quantile[['0.35']],\n",
    "         human_edit_proportion_by_quantile[['0.4']],\n",
    "         human_edit_proportion_by_quantile[['0.45']],\n",
    "         human_edit_proportion_by_quantile[['0.5']],\n",
    "         human_edit_proportion_by_quantile[['0.55']],\n",
    "         human_edit_proportion_by_quantile[['0.6']],\n",
    "         human_edit_proportion_by_quantile[['0.65']],\n",
    "         human_edit_proportion_by_quantile[['0.7']],\n",
    "         human_edit_proportion_by_quantile[['0.75']],\n",
    "         human_edit_proportion_by_quantile[['0.8']],\n",
    "         human_edit_proportion_by_quantile[['0.85']],\n",
    "         human_edit_proportion_by_quantile[['0.9']],\n",
    "         human_edit_proportion_by_quantile[['0.95']],\n",
    "         human_edit_proportion_by_quantile[['1']])\n",
    "\n",
    "page_view_quantiles_and_human_edit_proportions = data.frame(page_view_quantile)\n",
    "page_view_quantiles_and_human_edit_proportions$proportion = human_edit_proportion\n",
    "page_view_quantiles_and_human_edit_proportions$group = \"human\"\n",
    "\n",
    "semi_automated_edit_proportion = c(  \n",
    "         semi_automated_edit_proportion_by_quantile[['0.05']],\n",
    "         semi_automated_edit_proportion_by_quantile[['0.1']],\n",
    "         semi_automated_edit_proportion_by_quantile[['0.15']],\n",
    "         semi_automated_edit_proportion_by_quantile[['0.2']],\n",
    "         semi_automated_edit_proportion_by_quantile[['0.25']],\n",
    "         semi_automated_edit_proportion_by_quantile[['0.3']],\n",
    "         semi_automated_edit_proportion_by_quantile[['0.35']],\n",
    "         semi_automated_edit_proportion_by_quantile[['0.4']],\n",
    "         semi_automated_edit_proportion_by_quantile[['0.45']],\n",
    "         semi_automated_edit_proportion_by_quantile[['0.5']],\n",
    "         semi_automated_edit_proportion_by_quantile[['0.55']],\n",
    "         semi_automated_edit_proportion_by_quantile[['0.6']],\n",
    "         semi_automated_edit_proportion_by_quantile[['0.65']],\n",
    "         semi_automated_edit_proportion_by_quantile[['0.7']],\n",
    "         semi_automated_edit_proportion_by_quantile[['0.75']],\n",
    "         semi_automated_edit_proportion_by_quantile[['0.8']],\n",
    "         semi_automated_edit_proportion_by_quantile[['0.85']],\n",
    "         semi_automated_edit_proportion_by_quantile[['0.9']],\n",
    "         semi_automated_edit_proportion_by_quantile[['0.95']],\n",
    "         semi_automated_edit_proportion_by_quantile[['1']])\n",
    "\n",
    "page_view_quantiles_and_semi_automated_edit_proportions = data.frame(page_view_quantile)\n",
    "page_view_quantiles_and_semi_automated_edit_proportions$proportion = semi_automated_edit_proportion\n",
    "page_view_quantiles_and_semi_automated_edit_proportions$group = \"semi_automated\"\n",
    "\n",
    "anon_edit_proportion = c(  \n",
    "         anon_edit_proportion_by_quantile[['0.05']],\n",
    "         anon_edit_proportion_by_quantile[['0.1']],\n",
    "         anon_edit_proportion_by_quantile[['0.15']],\n",
    "         anon_edit_proportion_by_quantile[['0.2']],\n",
    "         anon_edit_proportion_by_quantile[['0.25']],\n",
    "         anon_edit_proportion_by_quantile[['0.3']],\n",
    "         anon_edit_proportion_by_quantile[['0.35']],\n",
    "         anon_edit_proportion_by_quantile[['0.4']],\n",
    "         anon_edit_proportion_by_quantile[['0.45']],\n",
    "         anon_edit_proportion_by_quantile[['0.5']],\n",
    "         anon_edit_proportion_by_quantile[['0.55']],\n",
    "         anon_edit_proportion_by_quantile[['0.6']],\n",
    "         anon_edit_proportion_by_quantile[['0.65']],\n",
    "         anon_edit_proportion_by_quantile[['0.7']],\n",
    "         anon_edit_proportion_by_quantile[['0.75']],\n",
    "         anon_edit_proportion_by_quantile[['0.8']],\n",
    "         anon_edit_proportion_by_quantile[['0.85']],\n",
    "         anon_edit_proportion_by_quantile[['0.9']],\n",
    "         anon_edit_proportion_by_quantile[['0.95']],\n",
    "         anon_edit_proportion_by_quantile[['1']])\n",
    "\n",
    "\n",
    "page_view_quantiles_and_anon_edit_proportions = data.frame(page_view_quantile)\n",
    "page_view_quantiles_and_anon_edit_proportions$proportion = anon_edit_proportion\n",
    "page_view_quantiles_and_anon_edit_proportions$group = \"anon\"\n",
    "\n",
    "\n",
    "page_view_quantiles_and_proportions = rbind(rbind(rbind(rbind(\n",
    "    page_view_quantiles_and_bot_edit_proportions,\n",
    "    page_view_quantiles_and_human_bot_like_edit_proportions),\n",
    "    page_view_quantiles_and_human_edit_proportions),\n",
    "    page_view_quantiles_and_semi_automated_edit_proportions),\n",
    "    page_view_quantiles_and_anon_edit_proportions)\n",
    "\n",
    "#                                             page_view_quantiles_and_anon_bot_like_edit_proportions),"
   ]
  },
  {
   "cell_type": "code",
   "execution_count": null,
   "metadata": {
    "collapsed": false,
    "scrolled": true
   },
   "outputs": [],
   "source": [
    "ggplot(page_view_quantiles_and_proportions,\n",
    "       aes(x=page_view_quantile, y=proportion, color=group, linetype=group, group = group)) + geom_point() + \n",
    "ggtitle(\"2016-2017 Expected Quality Quantile versus Mean Quality Difference\") + geom_line() +\n",
    "scale_color_viridis(discrete=TRUE) + labs(y = \"mean quality difference (actual - expected)\")\n",
    "\n",
    " "
   ]
  },
  {
   "cell_type": "code",
   "execution_count": null,
   "metadata": {
    "collapsed": false,
    "scrolled": true
   },
   "outputs": [],
   "source": [
    "by(revisions_weighted_sums_and_page_views_2016_2017, revisions_weighted_sums_and_page_views_2016_2017$group, function(quality_and_page_views){\n",
    "    \n",
    "    return(nrow(quality_and_page_views))\n",
    "})"
   ]
  },
  {
   "cell_type": "code",
   "execution_count": null,
   "metadata": {
    "collapsed": true
   },
   "outputs": [],
   "source": []
  },
  {
   "cell_type": "code",
   "execution_count": null,
   "metadata": {
    "collapsed": true
   },
   "outputs": [],
   "source": []
  }
 ],
 "metadata": {
  "anaconda-cloud": {},
  "kernelspec": {
   "display_name": "R [r]",
   "language": "R",
   "name": "R [r]"
  },
  "language_info": {
   "codemirror_mode": "r",
   "file_extension": ".r",
   "mimetype": "text/x-r-source",
   "name": "R",
   "pygments_lexer": "r",
   "version": "3.3.2"
  }
 },
 "nbformat": 4,
 "nbformat_minor": 0
}
