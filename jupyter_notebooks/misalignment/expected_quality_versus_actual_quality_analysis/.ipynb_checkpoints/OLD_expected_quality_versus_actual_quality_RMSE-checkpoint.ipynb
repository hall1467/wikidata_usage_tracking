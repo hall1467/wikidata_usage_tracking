{
 "cells": [
  {
   "cell_type": "code",
   "execution_count": 57,
   "metadata": {
    "collapsed": true
   },
   "outputs": [],
   "source": [
    "library(data.table)"
   ]
  },
  {
   "cell_type": "code",
   "execution_count": 58,
   "metadata": {
    "collapsed": false
   },
   "outputs": [],
   "source": [
    "entity_weighted_sums_and_page_views <- read.table(\"~/Desktop/test_100000\", header=TRUE, sep=\"\\t\")"
   ]
  },
  {
   "cell_type": "code",
   "execution_count": 59,
   "metadata": {
    "collapsed": false
   },
   "outputs": [],
   "source": [
    "# entity_weighted_sums_and_page_views$pnorms = pnorm(entity_weighted_sums_and_page_views$page_views, quantile(entity_weighted_sums_and_page_views$page_views, probs=seq(0,1,.05)))\n",
    "\n",
    "entity_weighted_sums_and_page_views$expected_quality_quantile = ecdf(entity_weighted_sums_and_page_views$page_views)(entity_weighted_sums_and_page_views$page_views)\n",
    "weighted_sum_distribution = ecdf(entity_weighted_sums_and_page_views$weighted_sum)\n",
    "entity_weighted_sums_and_page_views$expected_quality = quantile(weighted_sum_distribution, probs=entity_weighted_sums_and_page_views$expected_quality_quantile)\n",
    "entity_weighted_sums_and_page_views$quality_difference = entity_weighted_sums_and_page_views$expected_quality - entity_weighted_sums_and_page_views$weighted_sum\n",
    "\n",
    "\n",
    "\n",
    "##andrew scratch:\n",
    "\n"
   ]
  },
  {
   "cell_type": "code",
   "execution_count": 60,
   "metadata": {
    "collapsed": false
   },
   "outputs": [],
   "source": [
    "quality_differences_added_up = sum(entity_weighted_sums_and_page_views$quality_difference);\n",
    "\n",
    "\n",
    "if (quality_differences_added_up < 0) {\n",
    "    RMSE_with_sign = -sqrt(quality_differences_added_up^2/nrow(entity_weighted_sums_and_page_views))\n",
    "} else {\n",
    "    RMSE_with_sign = sqrt(quality_differences_added_up^2/nrow(entity_weighted_sums_and_page_views)) \n",
    "};\n",
    "    \n",
    "output = data.frame(head(entity_weighted_sums_and_page_views, n=1)$year,\n",
    "                    head(entity_weighted_sums_and_page_views, n=1)$month,\n",
    "                    RMSE_with_sign);"
   ]
  },
  {
   "cell_type": "code",
   "execution_count": 61,
   "metadata": {
    "collapsed": false
   },
   "outputs": [
    {
     "name": "stderr",
     "output_type": "stream",
     "text": [
      "Warning message in file(file, ifelse(append, \"a\", \"w\")):\n",
      "“cannot open file '/export/scratch2/wmf/wbc_entity_usage/usage_results/misalignment_edit_types_tables_and_queries/rmse_with_sign.tsv': No such file or directory”"
     ]
    },
    {
     "ename": "ERROR",
     "evalue": "Error in file(file, ifelse(append, \"a\", \"w\")): cannot open the connection\n",
     "output_type": "error",
     "traceback": [
      "Error in file(file, ifelse(append, \"a\", \"w\")): cannot open the connection\nTraceback:\n",
      "1. write.table(output, \"/export/scratch2/wmf/wbc_entity_usage/usage_results/misalignment_edit_types_tables_and_queries/rmse_with_sign.tsv\", \n .     row.names = FALSE, col.names = FALSE, quote = FALSE, sep = \"\\t\", \n .     append = TRUE)",
      "2. file(file, ifelse(append, \"a\", \"w\"))"
     ]
    }
   ],
   "source": [
    "write.table(output,'/export/scratch2/wmf/wbc_entity_usage/usage_results/misalignment_edit_types_tables_and_queries/rmse_with_sign.tsv', row.names=FALSE, col.names=FALSE, quote=FALSE, sep='\\t', append = TRUE);"
   ]
  }
 ],
 "metadata": {
  "anaconda-cloud": {},
  "kernelspec": {
   "display_name": "R [r]",
   "language": "R",
   "name": "R [r]"
  },
  "language_info": {
   "codemirror_mode": "r",
   "file_extension": ".r",
   "mimetype": "text/x-r-source",
   "name": "R",
   "pygments_lexer": "r",
   "version": "3.3.2"
  }
 },
 "nbformat": 4,
 "nbformat_minor": 0
}
