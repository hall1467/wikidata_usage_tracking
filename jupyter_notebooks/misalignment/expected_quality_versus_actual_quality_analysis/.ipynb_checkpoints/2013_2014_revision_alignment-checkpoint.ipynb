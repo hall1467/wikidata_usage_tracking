{
 "cells": [
  {
   "cell_type": "code",
   "execution_count": 3,
   "metadata": {
    "collapsed": true
   },
   "outputs": [],
   "source": [
    "# library(data.table)"
   ]
  },
  {
   "cell_type": "code",
   "execution_count": 4,
   "metadata": {
    "collapsed": true
   },
   "outputs": [],
   "source": [
    "# library(plyr)"
   ]
  },
  {
   "cell_type": "code",
   "execution_count": 5,
   "metadata": {
    "collapsed": true
   },
   "outputs": [],
   "source": [
    "# library(ggplot2)"
   ]
  },
  {
   "cell_type": "code",
   "execution_count": 6,
   "metadata": {
    "collapsed": true
   },
   "outputs": [],
   "source": [
    "# revisions_weighted_sums_and_page_views_june_2013 <- read.table(\"/export/scratch2/wmf/wbc_entity_usage/usage_results/misalignment_edit_types_tables_and_queries/revisions_with_weighted_score_extracted_june_2013.tsv\", header=TRUE, sep=\"\\t\")\n",
    "# revisions_weighted_sums_and_page_views_july_2013 <- read.table(\"/export/scratch2/wmf/wbc_entity_usage/usage_results/misalignment_edit_types_tables_and_queries/revisions_with_weighted_score_extracted_july_2013.tsv\", header=TRUE, sep=\"\\t\")\n",
    "# revisions_weighted_sums_and_page_views_august_2013 <- read.table(\"/export/scratch2/wmf/wbc_entity_usage/usage_results/misalignment_edit_types_tables_and_queries/revisions_with_weighted_score_extracted_august_2013.tsv\", header=TRUE, sep=\"\\t\")\n",
    "# revisions_weighted_sums_and_page_views_september_2013 <- read.table(\"/export/scratch2/wmf/wbc_entity_usage/usage_results/misalignment_edit_types_tables_and_queries/revisions_with_weighted_score_extracted_september_2013.tsv\", header=TRUE, sep=\"\\t\")\n",
    "# revisions_weighted_sums_and_page_views_october_2013 <- read.table(\"/export/scratch2/wmf/wbc_entity_usage/usage_results/misalignment_edit_types_tables_and_queries/revisions_with_weighted_score_extracted_october_2013.tsv\", header=TRUE, sep=\"\\t\")\n",
    "# revisions_weighted_sums_and_page_views_november_2013 <- read.table(\"/export/scratch2/wmf/wbc_entity_usage/usage_results/misalignment_edit_types_tables_and_queries/revisions_with_weighted_score_extracted_november_2013.tsv\", header=TRUE, sep=\"\\t\")\n",
    "# revisions_weighted_sums_and_page_views_december_2013 <- read.table(\"/export/scratch2/wmf/wbc_entity_usage/usage_results/misalignment_edit_types_tables_and_queries/revisions_with_weighted_score_extracted_december_2013.tsv\", header=TRUE, sep=\"\\t\")\n",
    "# revisions_weighted_sums_and_page_views_january_2014 <- read.table(\"/export/scratch2/wmf/wbc_entity_usage/usage_results/misalignment_edit_types_tables_and_queries/revisions_with_weighted_score_extracted_january_2014.tsv\", header=TRUE, sep=\"\\t\")\n",
    "# revisions_weighted_sums_and_page_views_february_2014 <- read.table(\"/export/scratch2/wmf/wbc_entity_usage/usage_results/misalignment_edit_types_tables_and_queries/revisions_with_weighted_score_extracted_february_2014.tsv\", header=TRUE, sep=\"\\t\")\n",
    "# revisions_weighted_sums_and_page_views_march_2014 <- read.table(\"/export/scratch2/wmf/wbc_entity_usage/usage_results/misalignment_edit_types_tables_and_queries/revisions_with_weighted_score_extracted_march_2014.tsv\", header=TRUE, sep=\"\\t\")\n",
    "# revisions_weighted_sums_and_page_views_april_2014 <- read.table(\"/export/scratch2/wmf/wbc_entity_usage/usage_results/misalignment_edit_types_tables_and_queries/revisions_with_weighted_score_extracted_april_2014.tsv\", header=TRUE, sep=\"\\t\")\n",
    "# revisions_weighted_sums_and_page_views_may_2014 <- read.table(\"/export/scratch2/wmf/wbc_entity_usage/usage_results/misalignment_edit_types_tables_and_queries/revisions_with_weighted_score_extracted_may_2014.tsv\", header=TRUE, sep=\"\\t\")"
   ]
  },
  {
   "cell_type": "code",
   "execution_count": null,
   "metadata": {
    "collapsed": true
   },
   "outputs": [],
   "source": [
    "# quality_and_page_views_june_2014 <- read.table(\"/export/scratch2/wmf/wbc_entity_usage/usage_results/misalignment_edit_types_tables_and_queries/input_for_RMSE_sub_07\", header=FALSE, sep=\"\\t\")"
   ]
  },
  {
   "cell_type": "code",
   "execution_count": null,
   "metadata": {
    "collapsed": true
   },
   "outputs": [],
   "source": [
    "# colnames(quality_and_page_views_june_2014) <- c('page_title','yyyy','mm', 'weighted_sum', 'page_views')"
   ]
  },
  {
   "cell_type": "code",
   "execution_count": null,
   "metadata": {
    "collapsed": true
   },
   "outputs": [],
   "source": [
    "quality_and_page_views_june_2014$expected_quality_quantile = ecdf(quality_and_page_views_june_2014$page_views)(quality_and_page_views_june_2014$page_view)\n",
    "weighted_sum_distribution = ecdf(quality_and_page_views_may_2014$weighted_sum)\n",
    "quality_and_page_views_june_2014$expected_quality = quantile(weighted_sum_distribution, probs=quality_and_page_views_june_2014$expected_quality_quantile)\n",
    "\n",
    "revisions_weighted_sums_and_page_views_2013_2014 = merge(revisions_weighted_sums_and_page_views_2013_2014, quality_and_page_views_may_2014, by = \"page_title\")\n",
    "revisions_weighted_sums_and_page_views_2013_2014 = revisions_weighted_sums_and_page_views_2013_2014[c(\"page_title\", \"namespace\", \"edit_type\", \"agent_type\", \"rev_id\", \"weighted_sum.x\",\"expected_quality\",\"expected_quality_quantile\",\"page_views.y\",\"yyyy\",\"mm\")]\n",
    "colnames(revisions_weighted_sums_and_page_views_2013_2014) <- c(\"page_title\", \"namespace\", \"edit_type\", \"agent_type\", \"rev_id\", \"weighted_sum\",\"expected_quality\",\"expected_quality_quantile\",\"page_views\",\"yyyy\",\"mm\")\n",
    "revisions_weighted_sums_and_page_views_2013_2014$quality_difference = revisions_weighted_sums_and_page_views_2013_2014$weighted_sum - revisions_weighted_sums_and_page_views_2013_2014$expected_quality\n",
    "\n",
    "quality_and_page_views_june_2014 = NULL\n",
    "\n",
    "\n",
    "\n",
    "\n",
    "\n",
    "\n",
    "\n",
    "\n",
    "\n",
    "\n",
    "\n",
    "\n",
    "\n",
    "\n",
    "\n",
    "\n",
    "\n",
    "\n",
    "\n",
    "\n",
    "\n",
    "for (rmse_files in c(\n",
    "                    \n",
    "                    c('/export/scratch2/wmf/wbc_entity_usage/usage_results/misalignment_edit_types_tables_and_queries/input_for_rmse_split_directory/2013/input_for_RMSE_sub_07', 'test'),\n",
    "                    c('/export/scratch2/wmf/wbc_entity_usage/usage_results/misalignment_edit_types_tables_and_queries/input_for_rmse_split_directory/2013/input_for_RMSE_sub_08', 'test'),\n",
    "                    c('/export/scratch2/wmf/wbc_entity_usage/usage_results/misalignment_edit_types_tables_and_queries/input_for_rmse_split_directory/2013/input_for_RMSE_sub_09', 'test'),\n",
    "                    c('/export/scratch2/wmf/wbc_entity_usage/usage_results/misalignment_edit_types_tables_and_queries/input_for_rmse_split_directory/2013/input_for_RMSE_sub_10', 'test'),\n",
    "                    c('/export/scratch2/wmf/wbc_entity_usage/usage_results/misalignment_edit_types_tables_and_queries/input_for_rmse_split_directory/2013/input_for_RMSE_sub_11', 'test'),\n",
    "                    c('/export/scratch2/wmf/wbc_entity_usage/usage_results/misalignment_edit_types_tables_and_queries/input_for_rmse_split_directory/2013/input_for_RMSE_sub_12', 'test'),\n",
    "                    c('/export/scratch2/wmf/wbc_entity_usage/usage_results/misalignment_edit_types_tables_and_queries/input_for_rmse_split_directory/2013/input_for_RMSE_sub_13', 'test'),\n",
    "                    c('/export/scratch2/wmf/wbc_entity_usage/usage_results/misalignment_edit_types_tables_and_queries/input_for_rmse_split_directory/2014/input_for_RMSE_sub_14', 'test'),\n",
    "                    c('/export/scratch2/wmf/wbc_entity_usage/usage_results/misalignment_edit_types_tables_and_queries/input_for_rmse_split_directory/2014/input_for_RMSE_sub_15', 'test'),\n",
    "                    c('/export/scratch2/wmf/wbc_entity_usage/usage_results/misalignment_edit_types_tables_and_queries/input_for_rmse_split_directory/2014/input_for_RMSE_sub_16', 'test'),\n",
    "                    c('/export/scratch2/wmf/wbc_entity_usage/usage_results/misalignment_edit_types_tables_and_queries/input_for_rmse_split_directory/2014/input_for_RMSE_sub_17', 'test'),\n",
    "                    c('/export/scratch2/wmf/wbc_entity_usage/usage_results/misalignment_edit_types_tables_and_queries/input_for_rmse_split_directory/2014/input_for_RMSE_sub_18', 'test'),\n",
    "                    c('/export/scratch2/wmf/wbc_entity_usage/usage_results/misalignment_edit_types_tables_and_queries/input_for_rmse_split_directory/2014/input_for_RMSE_sub_19', 'test')\n",
    ")){\n",
    "  \n",
    "    print(rmse_files)\n",
    "#     quality_and_page_views <- read.table(rmse_file, header=FALSE, sep=\"\\t\")\n",
    "#     colnames(quality_and_page_views) <- c('page_title','yyyy','mm', 'weighted_sum', 'page_views')\n",
    "#     print(rmse_file)\n",
    "#     print(nrow(quality_and_page_views))\n",
    "    \n",
    "#     if \n",
    "\n",
    "#     quality_and_page_views$expected_quality_quantile = ecdf(quality_and_page_views$page_views)(quality_and_page_views$page_view)\n",
    "#     weighted_sum_distribution = ecdf(quality_and_page_views$weighted_sum)\n",
    "#     quality_and_page_views$expected_quality = quantile(weighted_sum_distribution, probs=quality_and_page_views$expected_quality_quantile)\n",
    "\n",
    "#     revisions_weighted_sums_and_page_views = merge(revisions_weighted_sums_and_page_views_2016_2017, quality_and_page_views, by = \"page_title\")\n",
    "#     revisions_weighted_sums_and_page_views_2016_2017 = revisions_weighted_sums_and_page_views_2016_2017[c(\"page_title\", \"namespace\", \"edit_type\", \"agent_type\", \"rev_id\", \"weighted_sum.x\",\"expected_quality\",\"expected_quality_quantile\",\"page_views.y\",\"yyyy\",\"mm\")]\n",
    "#     colnames(revisions_weighted_sums_and_page_views_2016_2017) <- c(\"page_title\", \"namespace\", \"edit_type\", \"agent_type\", \"rev_id\", \"weighted_sum\",\"expected_quality\",\"expected_quality_quantile\",\"page_views\",\"yyyy\",\"mm\")\n",
    "#     revisions_weighted_sums_and_page_views$quality_difference = revisions_weighted_sums_and_page_views$weighted_sum.x - revisions_weighted_sums_and_page_views$expected_quality\n",
    "\n",
    "\n",
    "    \n",
    "#     quality_and_page_views = NULL\n",
    "    \n",
    "}"
   ]
  }
 ],
 "metadata": {
  "anaconda-cloud": {},
  "kernelspec": {
   "display_name": "R [r]",
   "language": "R",
   "name": "R [r]"
  },
  "language_info": {
   "codemirror_mode": "r",
   "file_extension": ".r",
   "mimetype": "text/x-r-source",
   "name": "R",
   "pygments_lexer": "r",
   "version": "3.3.2"
  }
 },
 "nbformat": 4,
 "nbformat_minor": 0
}
