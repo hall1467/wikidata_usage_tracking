{
 "cells": [
  {
   "cell_type": "code",
   "execution_count": 77,
   "metadata": {
    "collapsed": false
   },
   "outputs": [],
   "source": [
    "entity_weighted_sums_and_page_views <- read.table(\"~/Desktop/test_100000\", header=TRUE, sep=\"\\t\")"
   ]
  },
  {
   "cell_type": "code",
   "execution_count": 78,
   "metadata": {
    "collapsed": false
   },
   "outputs": [],
   "source": [
    "# entity_weighted_sums_and_page_views$pnorms = pnorm(entity_weighted_sums_and_page_views$page_views, quantile(entity_weighted_sums_and_page_views$page_views, probs=seq(0,1,.05)))\n",
    "\n",
    "entity_weighted_sums_and_page_views$expected_quality_quantile = ecdf(entity_weighted_sums_and_page_views$page_views)(entity_weighted_sums_and_page_views$page_views)\n",
    "weighted_sum_distribution = ecdf(entity_weighted_sums_and_page_views$weighted_sum)\n",
    "entity_weighted_sums_and_page_views$expected_quality = quantile(weighted_sum_distribution, probs=entity_weighted_sums_and_page_views$expected_quality_quantile)\n",
    "entity_weighted_sums_and_page_views$quality_difference = entity_weighted_sums_and_page_views$expected_quality - entity_weighted_sums_and_page_views$weighted_sum\n",
    "\n",
    "\n",
    "\n",
    "##andrew scratch:\n",
    "\n"
   ]
  },
  {
   "cell_type": "code",
   "execution_count": 79,
   "metadata": {
    "collapsed": false
   },
   "outputs": [],
   "source": [
    "quality_differences_added_up = sum(entity_weighted_sums_and_page_views$quality_difference);\n",
    "\n",
    "\n",
    "if (quality_differences_added_up < 0) {\n",
    "    RMSE_with_sign = -sqrt(quality_differences_added_up^2/nrow(entity_weighted_sums_and_page_views))\n",
    "} else {\n",
    "    RMSE_with_sign = sqrt(quality_differences_added_up^2/nrow(entity_weighted_sums_and_page_views)) \n",
    "};\n",
    "    \n",
    "output = data.frame(head(entity_weighted_sums_and_page_views, n=1)$year,\n",
    "                    head(entity_weighted_sums_and_page_views, n=1)$month,\n",
    "                    RMSE_with_sign);\n"
   ]
  },
  {
   "cell_type": "code",
   "execution_count": 84,
   "metadata": {
    "collapsed": false
   },
   "outputs": [],
   "source": [
    "write.table(output,'~/Desktop/rmse_with_sign.tsv', row.names=FALSE, col.names=FALSE, quote=FALSE, sep='\\t', append = TRUE);"
   ]
  },
  {
   "cell_type": "code",
   "execution_count": 87,
   "metadata": {
    "collapsed": false
   },
   "outputs": [
    {
     "data": {
      "text/html": [
       "'/Users/andrewhall/Library/Jupyter/runtime/kernel-00cca7c0-73fd-41aa-9ff2-7c31f8d5017b.json'"
      ],
      "text/latex": [
       "'/Users/andrewhall/Library/Jupyter/runtime/kernel-00cca7c0-73fd-41aa-9ff2-7c31f8d5017b.json'"
      ],
      "text/markdown": [
       "'/Users/andrewhall/Library/Jupyter/runtime/kernel-00cca7c0-73fd-41aa-9ff2-7c31f8d5017b.json'"
      ],
      "text/plain": [
       "[1] \"/Users/andrewhall/Library/Jupyter/runtime/kernel-00cca7c0-73fd-41aa-9ff2-7c31f8d5017b.json\""
      ]
     },
     "metadata": {},
     "output_type": "display_data"
    }
   ],
   "source": [
    "commandArgs(trailingOnly=TRUE)"
   ]
  },
  {
   "cell_type": "code",
   "execution_count": 127,
   "metadata": {
    "collapsed": false
   },
   "outputs": [
    {
     "data": {
      "text/plain": [
       "     page_title       yyyy            mm      weighted_sum   page_views     \n",
       " Q10001841:  1   Min.   :2012   Min.   :11   Min.   :0     Min.   :      0  \n",
       " Q10077593:  1   1st Qu.:2012   1st Qu.:11   1st Qu.:0     1st Qu.:     11  \n",
       " Q10096186:  1   Median :2012   Median :11   Median :0     Median :    129  \n",
       " Q10127541:  1   Mean   :2012   Mean   :11   Mean   :0     Mean   :   8451  \n",
       " Q10176545:  1   3rd Qu.:2012   3rd Qu.:11   3rd Qu.:0     3rd Qu.:   1001  \n",
       " Q1024825 :  1   Max.   :2012   Max.   :11   Max.   :0     Max.   :2922948  \n",
       " (Other)  :994                                                              "
      ]
     },
     "metadata": {},
     "output_type": "display_data"
    },
    {
     "name": "stderr",
     "output_type": "stream",
     "text": [
      "Warning message in if (entity_weighted_sums_and_page_views$quality_difference < :\n",
      "“the condition has length > 1 and only the first element will be used”"
     ]
    },
    {
     "data": {
      "text/html": [],
      "text/latex": [],
      "text/markdown": [],
      "text/plain": [
       " \n",
       "1\n",
       "2\n",
       "3\n",
       "4\n",
       "5\n",
       "6"
      ]
     },
     "metadata": {},
     "output_type": "display_data"
    }
   ],
   "source": [
    "entity_weighted_sums_and_page_views <- read.table(\"~/Desktop/input_for_RMSE_sub_00_1000\", header=FALSE, sep=\"\\t\");\n",
    "colnames(entity_weighted_sums_and_page_views) <- c('page_title','yyyy','mm', 'weighted_sum', 'page_views')\n",
    "summary(entity_weighted_sums_and_page_views)\n",
    "entity_weighted_sums_and_page_views$expected_quality_quantile = ecdf(entity_weighted_sums_and_page_views$page_views)(entity_weighted_sums_and_page_views$page_views);\n",
    "weighted_sum_distribution = ecdf(entity_weighted_sums_and_page_views$weighted_sum);\n",
    "entity_weighted_sums_and_page_views$expected_quality = quantile(weighted_sum_distribution, probs=entity_weighted_sums_and_page_views$expected_quality_quantile);\n",
    "entity_weighted_sums_and_page_views$quality_difference = entity_weighted_sums_and_page_views$expected_quality - entity_weighted_sums_and_page_views$weighted_sum;\n",
    "entity_weighted_sums_and_page_views$quality_difference_sign = if (entity_weighted_sums_and_page_views$quality_difference < 0) -1 else 1;\n",
    "\n",
    "\n",
    "head(entity_weighted_sums_and_page_views[,entity_weighted_sums_and_page_views$quality_difference_sign < 1])\n",
    "quality_differences_added_up = sum(entity_weighted_sums_and_page_views$quality_difference);\n",
    "\n",
    "\n",
    "if (quality_differences_added_up < 0) {\n",
    "    RMSE_with_sign = -sqrt(quality_differences_added_up^2/nrow(entity_weighted_sums_and_page_views))\n",
    "} else {\n",
    "    RMSE_with_sign = sqrt(quality_differences_added_up^2/nrow(entity_weighted_sums_and_page_views)) \n",
    "};\n",
    "  \n",
    "output = data.frame()\n",
    "output = rbind(output, c(entity_weighted_sums_and_page_views[1,2], \n",
    "                         entity_weighted_sums_and_page_views[1,3], \n",
    "                         RMSE_with_sign))\n",
    "\n",
    "write.table(output[1,],'~/Desktop/rmse_with_sign.tsv', row.names=FALSE, col.names=FALSE, quote=FALSE, sep='\\t', append = TRUE);\n",
    "\n",
    "\n",
    "\n",
    "\n"
   ]
  },
  {
   "cell_type": "code",
   "execution_count": null,
   "metadata": {
    "collapsed": true
   },
   "outputs": [],
   "source": []
  },
  {
   "cell_type": "code",
   "execution_count": null,
   "metadata": {
    "collapsed": true
   },
   "outputs": [],
   "source": []
  }
 ],
 "metadata": {
  "anaconda-cloud": {},
  "kernelspec": {
   "display_name": "R [r]",
   "language": "R",
   "name": "R [r]"
  },
  "language_info": {
   "codemirror_mode": "r",
   "file_extension": ".r",
   "mimetype": "text/x-r-source",
   "name": "R",
   "pygments_lexer": "r",
   "version": "3.3.2"
  }
 },
 "nbformat": 4,
 "nbformat_minor": 0
}
