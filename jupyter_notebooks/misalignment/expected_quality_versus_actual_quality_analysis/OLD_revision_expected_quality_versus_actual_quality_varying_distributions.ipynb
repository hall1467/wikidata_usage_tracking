{
 "cells": [
  {
   "cell_type": "code",
   "execution_count": 1,
   "metadata": {
    "collapsed": true
   },
   "outputs": [],
   "source": [
    "library(data.table)"
   ]
  },
  {
   "cell_type": "code",
   "execution_count": 2,
   "metadata": {
    "collapsed": true
   },
   "outputs": [],
   "source": [
    "library(plyr)"
   ]
  },
  {
   "cell_type": "code",
   "execution_count": 3,
   "metadata": {
    "collapsed": true
   },
   "outputs": [],
   "source": [
    "library(ggplot2)"
   ]
  },
  {
   "cell_type": "code",
   "execution_count": 4,
   "metadata": {
    "collapsed": true
   },
   "outputs": [],
   "source": [
    "revisions_weighted_sums_and_page_views_2013_2014 <- read.table(\"../../../results/misalignment_edit_types_tables_and_queries/revision_edit_and_agent_type_may_2013_to_2014_million_sampled_with_weighted_score_extracted.tsv\", header=TRUE, sep=\"\\t\")"
   ]
  },
  {
   "cell_type": "code",
   "execution_count": 5,
   "metadata": {
    "collapsed": true
   },
   "outputs": [],
   "source": [
    "revisions_weighted_sums_and_page_views_2014_2015 <- read.table(\"../../../results/misalignment_edit_types_tables_and_queries/revision_edit_and_agent_type_may_2014_to_2015_million_sampled_with_weighted_score_extracted.tsv\", header=TRUE, sep=\"\\t\")"
   ]
  },
  {
   "cell_type": "code",
   "execution_count": 6,
   "metadata": {
    "collapsed": false
   },
   "outputs": [],
   "source": [
    "revisions_weighted_sums_and_page_views_2015_2016 <- read.table(\"../../../results/misalignment_edit_types_tables_and_queries/revision_edit_and_agent_type_may_2015_to_2016_million_sampled_with_weighted_score_extracted.tsv\", header=TRUE, sep=\"\\t\")"
   ]
  },
  {
   "cell_type": "code",
   "execution_count": 7,
   "metadata": {
    "collapsed": false
   },
   "outputs": [],
   "source": [
    "revisions_weighted_sums_and_page_views_2016_2017 <- read.table(\"../../../results/misalignment_edit_types_tables_and_queries/revision_edit_and_agent_type_may_2016_to_2017_million_sampled_with_weighted_score_extracted.tsv\", header=TRUE, sep=\"\\t\")"
   ]
  },
  {
   "cell_type": "code",
   "execution_count": 8,
   "metadata": {
    "collapsed": false
   },
   "outputs": [
    {
     "data": {
      "text/plain": [
       "   namespace            page_title           edit_type     \n",
       " Min.   :  0.00000   Q4115189:    53   claim      :396115  \n",
       " 1st Qu.:  0.00000   Q273461 :    15   reference  :236147  \n",
       " Median :  0.00000   Q183    :    14   NULL       :197499  \n",
       " Mean   :  0.05751   Q511968 :    14   label      : 74886  \n",
       " 3rd Qu.:  0.00000   Q40030  :    13   description: 59157  \n",
       " Max.   :120.00000   Q6714402:    11   sitelink   : 31155  \n",
       "                     (Other) :999302   (Other)    :  4463  \n",
       "               agent_type       page_views            rev_id         \n",
       " anon_bot_like_edit :   226   Min.   :0.000e+00   Min.   : 33066196  \n",
       " anon_edit          :  4812   1st Qu.:4.500e+01   1st Qu.: 56035193  \n",
       " bot_edit           :892580   Median :5.060e+02   Median : 78478398  \n",
       " human_bot_like_edit:   693   Mean   :3.769e+05   Mean   : 78624701  \n",
       " human_edit         : 89554   3rd Qu.:4.253e+03   3rd Qu.:101361246  \n",
       " semi_automated_edit: 11557   Max.   :1.253e+10   Max.   :124126530  \n",
       "                                                                     \n",
       "  weighted_sum  \n",
       " Min.   :1.003  \n",
       " 1st Qu.:1.083  \n",
       " Median :1.203  \n",
       " Mean   :1.534  \n",
       " 3rd Qu.:1.942  \n",
       " Max.   :4.759  \n",
       "                "
      ]
     },
     "metadata": {},
     "output_type": "display_data"
    },
    {
     "data": {
      "text/plain": [
       "   namespace             page_title           edit_type     \n",
       " Min.   :  0.00000   Q4115189 :    41   claim      :375088  \n",
       " 1st Qu.:  0.00000   Q16943273:    38   NULL       :274988  \n",
       " Median :  0.00000   Q12652   :    25   reference  :112439  \n",
       " Mean   :  0.04672   Q979470  :    25   label      :102093  \n",
       " 3rd Qu.:  0.00000   Q1270623 :    24   description: 92720  \n",
       " Max.   :120.00000   Q16987   :    22   sitelink   : 32229  \n",
       "                     (Other)  :998880   (Other)    :  9498  \n",
       "               agent_type       page_views            rev_id         \n",
       " anon_bot_like_edit :    36   Min.   :0.000e+00   Min.   :124126897  \n",
       " anon_edit          :  5518   1st Qu.:3.300e+01   1st Qu.:145026396  \n",
       " bot_edit           :728107   Median :3.900e+02   Median :167475330  \n",
       " human_bot_like_edit:  1332   Mean   :2.636e+05   Mean   :167704982  \n",
       " human_edit         : 92186   3rd Qu.:2.887e+03   3rd Qu.:189339311  \n",
       " semi_automated_edit:171876   Max.   :1.253e+10   Max.   :213661247  \n",
       "                                                                     \n",
       "  weighted_sum  \n",
       " Min.   :1.003  \n",
       " 1st Qu.:1.124  \n",
       " Median :1.481  \n",
       " Mean   :1.762  \n",
       " 3rd Qu.:2.220  \n",
       " Max.   :4.906  \n",
       "                "
      ]
     },
     "metadata": {},
     "output_type": "display_data"
    },
    {
     "data": {
      "text/plain": [
       "   namespace             page_title           edit_type     \n",
       " Min.   :  0.00000   Q21521425:    81   claim      :276336  \n",
       " 1st Qu.:  0.00000   Q21481859:    56   description:216577  \n",
       " Median :  0.00000   Q22676705:    46   NULL       :200075  \n",
       " Mean   :  0.06945   Q16943273:    33   reference  :151112  \n",
       " 3rd Qu.:  0.00000   Q4115189 :    30   label      : 96226  \n",
       " Max.   :120.00000   Q21521431:    17   sitelink   : 32201  \n",
       "                     (Other)  :998481   (Other)    : 26217  \n",
       "               agent_type       page_views            rev_id         \n",
       " anon_bot_like_edit :    49   Min.   :0.000e+00   Min.   :213661559  \n",
       " anon_edit          :  5282   1st Qu.:1.200e+01   1st Qu.:241158816  \n",
       " bot_edit           :684758   Median :1.900e+02   Median :269479266  \n",
       " human_bot_like_edit:  1614   Mean   :2.694e+05   Mean   :269996853  \n",
       " human_edit         : 93297   3rd Qu.:1.919e+03   3rd Qu.:298421725  \n",
       " semi_automated_edit:213744   Max.   :1.253e+10   Max.   :328006161  \n",
       "                                                                     \n",
       "  weighted_sum  \n",
       " Min.   :1.003  \n",
       " 1st Qu.:1.175  \n",
       " Median :1.976  \n",
       " Mean   :2.022  \n",
       " 3rd Qu.:2.950  \n",
       " Max.   :4.997  \n",
       "                "
      ]
     },
     "metadata": {},
     "output_type": "display_data"
    },
    {
     "data": {
      "text/plain": [
       "   namespace             page_title           edit_type     \n",
       " Min.   :  0.00000   Q4115189 :    73   claim      :286785  \n",
       " 1st Qu.:  0.00000   Q16943273:    35   NULL       :243932  \n",
       " Median :  0.00000   Q2289941 :    29   description:163555  \n",
       " Mean   :  0.09163   Q670933  :    28   reference  :121802  \n",
       " 3rd Qu.:  0.00000   Q707063  :    28   label      :107075  \n",
       " Max.   :120.00000   Q28564101:    27   qualifier  : 37773  \n",
       "                     (Other)  :997658   (Other)    : 36956  \n",
       "               agent_type       page_views            rev_id         \n",
       " anon_bot_like_edit :     2   Min.   :0.000e+00   Min.   :328006265  \n",
       " anon_edit          :  4733   1st Qu.:2.300e+01   1st Qu.:359403690  \n",
       " bot_edit           :553932   Median :3.220e+02   Median :395790002  \n",
       " human_bot_like_edit:  3078   Mean   :3.324e+05   Mean   :401584644  \n",
       " human_edit         :121040   3rd Qu.:2.965e+03   3rd Qu.:447017485  \n",
       " semi_automated_edit:315093   Max.   :1.253e+10   Max.   :480380485  \n",
       "                                                                     \n",
       "  weighted_sum  \n",
       " Min.   :1.003  \n",
       " 1st Qu.:1.195  \n",
       " Median :2.001  \n",
       " Mean   :2.113  \n",
       " 3rd Qu.:2.972  \n",
       " Max.   :4.997  \n",
       "                "
      ]
     },
     "metadata": {},
     "output_type": "display_data"
    }
   ],
   "source": [
    "# summary(revisions_weighted_sums_and_page_views_2013_2014)\n",
    "# summary(revisions_weighted_sums_and_page_views_2014_2015)\n",
    "# summary(revisions_weighted_sums_and_page_views_2015_2016)\n",
    "# summary(revisions_weighted_sums_and_page_views_2016_2017)\n"
   ]
  },
  {
   "cell_type": "code",
   "execution_count": 9,
   "metadata": {
    "collapsed": false
   },
   "outputs": [],
   "source": [
    "directory_2014 = '/export/scratch2/wmf/wbc_entity_usage/usage_results/misalignment_edit_types_tables_and_queries/input_for_rmse_split_directory/2014/'\n",
    "\n",
    "for (rmse_file in c('input_for_RMSE_sub_06',\n",
    "                    'input_for_RMSE_sub_07',\n",
    "                    'input_for_RMSE_sub_08',\n",
    "                    'input_for_RMSE_sub_09',\n",
    "                    'input_for_RMSE_sub_10',\n",
    "                    'input_for_RMSE_sub_11',\n",
    "                    'input_for_RMSE_sub_12',\n",
    "                    'input_for_RMSE_sub_13',\n",
    "                    'input_for_RMSE_sub_14',\n",
    "                    'input_for_RMSE_sub_15',\n",
    "                    'input_for_RMSE_sub_16',\n",
    "                    'input_for_RMSE_sub_17',\n",
    "                    'input_for_RMSE_sub_18'                     \n",
    ")){\n",
    "    rmse_full_path = directory_2014 + rmse_file;\n",
    "    quality_and_page_views <- read.table(rmse_full_path, header=FALSE, sep=\"\\t\")\n",
    "    colnames(quality_and_page_views) <- c('page_title','yyyy','mm', 'weighted_sum', 'page_views')\n",
    "    \n",
    "    # 2013-2014\n",
    "\n",
    "    quality_and_page_views$expected_quality_quantile = ecdf(quality_and_page_views$page_views)(quality_and_page_views$page_view)\n",
    "    weighted_sum_distribution = ecdf(quality_and_page_views$weighted_sum)\n",
    "    quality_and_page_views$expected_quality = quantile(weighted_sum_distribution, probs=quality_and_page_views$expected_quality_quantile)\n",
    "\n",
    "    revisions_weighted_sums_and_page_views_2013_2014 = merge(revisions_weighted_sums_and_page_views_2013_2014, quality_and_page_views, by = \"page_title\")\n",
    "    revisions_weighted_sums_and_page_views_2013_2014 = revisions_weighted_sums_and_page_views_2013_2014[c(\"page_title\", \"namespace\", \"edit_type\", \"agent_type\", \"rev_id\", \"weighted_sum.x\",\"expected_quality\",\"expected_quality_quantile\",\"page_views.y\",\"yyyy\",\"mm\")]\n",
    "    colnames(revisions_weighted_sums_and_page_views_2013_2014) <- c(\"page_title\", \"namespace\", \"edit_type\", \"agent_type\", \"rev_id\", \"weighted_sum\",\"expected_quality\",\"expected_quality_quantile\",\"page_views\",\"yyyy\",\"mm\")\n",
    "    revisions_weighted_sums_and_page_views_2013_2014$quality_difference = revisions_weighted_sums_and_page_views_2013_2014$weighted_sum - revisions_weighted_sums_and_page_views_2013_2014$expected_quality\n",
    "\n",
    "\n",
    "    \n",
    "    quality_and_page_views = NULL\n",
    "\n",
    "    output = data.frame()\n",
    "    output = rbind(output, c(quality_and_page_views[1,2], \n",
    "                             quality_and_page_views[1,3],\n",
    "                             mean(revisions_weighted_sums_and_page_views_2013_2014[revisions_weighted_sums_and_page_views_2013_2014$agent_type == 'bot_edit',]$quality_difference),\n",
    "                             median(revisions_weighted_sums_and_page_views_2013_2014[revisions_weighted_sums_and_page_views_2013_2014$agent_type == 'bot_edit',]$quality_difference),\n",
    "                             mean(revisions_weighted_sums_and_page_views_2013_2014[revisions_weighted_sums_and_page_views_2013_2014$agent_type == 'human_bot_like_edit',]$quality_difference),\n",
    "                             median(revisions_weighted_sums_and_page_views_2013_2014[revisions_weighted_sums_and_page_views_2013_2014$agent_type == 'human_bot_like_edit',]$quality_difference),\n",
    "                             mean(revisions_weighted_sums_and_page_views_2013_2014[revisions_weighted_sums_and_page_views_2013_2014$agent_type == 'anon_bot_like_edit',]$quality_difference),\n",
    "                             median(revisions_weighted_sums_and_page_views_2013_2014[revisions_weighted_sums_and_page_views_2013_2014$agent_type == 'anon_bot_like_edit',]$quality_difference),\n",
    "                             mean(revisions_weighted_sums_and_page_views_2013_2014[revisions_weighted_sums_and_page_views_2013_2014$agent_type == 'semi_automated_edit',]$quality_difference),\n",
    "                             median(revisions_weighted_sums_and_page_views_2013_2014[revisions_weighted_sums_and_page_views_2013_2014$agent_type == 'semi_automated_edit',]$quality_difference),\n",
    "                             mean(revisions_weighted_sums_and_page_views_2013_2014[revisions_weighted_sums_and_page_views_2013_2014$agent_type == 'human_edit',]$quality_difference),\n",
    "                             median(revisions_weighted_sums_and_page_views_2013_2014[revisions_weighted_sums_and_page_views_2013_2014$agent_type == 'human_edit',]$quality_difference),\n",
    "                             mean(revisions_weighted_sums_and_page_views_2013_2014[revisions_weighted_sums_and_page_views_2013_2014$agent_type == 'anon_edit',]$quality_difference),\n",
    "                             median(revisions_weighted_sums_and_page_views_2013_2014[revisions_weighted_sums_and_page_views_2013_2014$agent_type == 'anon_edit',]$quality_difference)))\n",
    "    \n",
    "    write.table(output[1,], '/export/scratch2/wmf/wbc_entity_usage/usage_results/misalignment_edit_types_tables_and_queries/revision_expected_quality_versus_actual_quality_varying_distributions_output.tsv', row.names=FALSE, col.names=FALSE, quote=FALSE, sep='\\t', append = TRUE);\n",
    "    \n",
    "}\n"
   ]
  },
  {
   "cell_type": "code",
   "execution_count": 10,
   "metadata": {
    "collapsed": true
   },
   "outputs": [],
   "source": [
    "directory_2015 = '/export/scratch2/wmf/wbc_entity_usage/usage_results/misalignment_edit_types_tables_and_queries/input_for_rmse_split_directory/2015/'\n",
    "\n",
    "for (rmse_file in c('input_for_RMSE_sub_18',\n",
    "                    'input_for_RMSE_sub_19',\n",
    "                    'input_for_RMSE_sub_20',\n",
    "                    'input_for_RMSE_sub_21',\n",
    "                    'input_for_RMSE_sub_22',\n",
    "                    'input_for_RMSE_sub_23',\n",
    "                    'input_for_RMSE_sub_24',\n",
    "                    'input_for_RMSE_sub_25',\n",
    "                    'input_for_RMSE_sub_26',\n",
    "                    'input_for_RMSE_sub_27',\n",
    "                    'input_for_RMSE_sub_28',\n",
    "                    'input_for_RMSE_sub_29',\n",
    "                    'input_for_RMSE_sub_30'                     \n",
    ")){\n",
    "    rmse_full_path = directory_2015 + rmse_file;\n",
    "    quality_and_page_views <- read.table(rmse_full_path, header=FALSE, sep=\"\\t\")\n",
    "    colnames(quality_and_page_views) <- c('page_title','yyyy','mm', 'weighted_sum', 'page_views')\n",
    "    \n",
    "    # 2013-2014\n",
    "\n",
    "    quality_and_page_views$expected_quality_quantile = ecdf(quality_and_page_views$page_views)(quality_and_page_views$page_view)\n",
    "    weighted_sum_distribution = ecdf(quality_and_page_views$weighted_sum)\n",
    "    quality_and_page_views$expected_quality = quantile(weighted_sum_distribution, probs=quality_and_page_views$expected_quality_quantile)\n",
    "\n",
    "    revisions_weighted_sums_and_page_views_2014_2015 = merge(revisions_weighted_sums_and_page_views_2014_2015, quality_and_page_views, by = \"page_title\")\n",
    "    revisions_weighted_sums_and_page_views_2014_2015 = revisions_weighted_sums_and_page_views_2014_2015[c(\"page_title\", \"namespace\", \"edit_type\", \"agent_type\", \"rev_id\", \"weighted_sum.x\",\"expected_quality\",\"expected_quality_quantile\",\"page_views.y\",\"yyyy\",\"mm\")]\n",
    "    colnames(revisions_weighted_sums_and_page_views_2014_2015) <- c(\"page_title\", \"namespace\", \"edit_type\", \"agent_type\", \"rev_id\", \"weighted_sum\",\"expected_quality\",\"expected_quality_quantile\",\"page_views\",\"yyyy\",\"mm\")\n",
    "    revisions_weighted_sums_and_page_views_2014_2015$quality_difference = revisions_weighted_sums_and_page_views_2014_2015$weighted_sum - revisions_weighted_sums_and_page_views_2014_2015$expected_quality\n",
    "\n",
    "\n",
    "    \n",
    "    quality_and_page_views = NULL\n",
    "\n",
    "    output = data.frame()\n",
    "    output = rbind(output, c(quality_and_page_views[1,2], \n",
    "                             quality_and_page_views[1,3],\n",
    "                             mean(revisions_weighted_sums_and_page_views_2014_2015[revisions_weighted_sums_and_page_views_2014_2015$agent_type == 'bot_edit',]$quality_difference),\n",
    "                             median(revisions_weighted_sums_and_page_views_2014_2015[revisions_weighted_sums_and_page_views_2014_2015$agent_type == 'bot_edit',]$quality_difference),\n",
    "                             mean(revisions_weighted_sums_and_page_views_2014_2015[revisions_weighted_sums_and_page_views_2014_2015$agent_type == 'human_bot_like_edit',]$quality_difference),\n",
    "                             median(revisions_weighted_sums_and_page_views_2014_2015[revisions_weighted_sums_and_page_views_2014_2015$agent_type == 'human_bot_like_edit',]$quality_difference),\n",
    "                             mean(revisions_weighted_sums_and_page_views_2014_2015[revisions_weighted_sums_and_page_views_2014_2015$agent_type == 'anon_bot_like_edit',]$quality_difference),\n",
    "                             median(revisions_weighted_sums_and_page_views_2014_2015[revisions_weighted_sums_and_page_views_2014_2015$agent_type == 'anon_bot_like_edit',]$quality_difference),\n",
    "                             mean(revisions_weighted_sums_and_page_views_2014_2015[revisions_weighted_sums_and_page_views_2014_2015$agent_type == 'semi_automated_edit',]$quality_difference),\n",
    "                             median(revisions_weighted_sums_and_page_views_2014_2015[revisions_weighted_sums_and_page_views_2014_2015$agent_type == 'semi_automated_edit',]$quality_difference),\n",
    "                             mean(revisions_weighted_sums_and_page_views_2014_2015[revisions_weighted_sums_and_page_views_2014_2015$agent_type == 'human_edit',]$quality_difference),\n",
    "                             median(revisions_weighted_sums_and_page_views_2014_2015[revisions_weighted_sums_and_page_views_2014_2015$agent_type == 'human_edit',]$quality_difference),\n",
    "                             mean(revisions_weighted_sums_and_page_views_2014_2015[revisions_weighted_sums_and_page_views_2014_2015$agent_type == 'anon_edit',]$quality_difference),\n",
    "                             median(revisions_weighted_sums_and_page_views_2014_2015[revisions_weighted_sums_and_page_views_2014_2015$agent_type == 'anon_edit',]$quality_difference)))\n",
    "    \n",
    "    write.table(output[1,], '/export/scratch2/wmf/wbc_entity_usage/usage_results/misalignment_edit_types_tables_and_queries/revision_expected_quality_versus_actual_quality_varying_distributions_output.tsv', row.names=FALSE, col.names=FALSE, quote=FALSE, sep='\\t', append = TRUE);\n",
    "    \n",
    "}"
   ]
  },
  {
   "cell_type": "code",
   "execution_count": 11,
   "metadata": {
    "collapsed": false
   },
   "outputs": [],
   "source": [
    "directory_2016 = '/export/scratch2/wmf/wbc_entity_usage/usage_results/misalignment_edit_types_tables_and_queries/input_for_rmse_split_directory/2016/'\n",
    "\n",
    "for (rmse_file in c('input_for_RMSE_sub_30',\n",
    "                    'input_for_RMSE_sub_31',\n",
    "                    'input_for_RMSE_sub_32',\n",
    "                    'input_for_RMSE_sub_33',\n",
    "                    'input_for_RMSE_sub_34',\n",
    "                    'input_for_RMSE_sub_35',\n",
    "                    'input_for_RMSE_sub_36',\n",
    "                    'input_for_RMSE_sub_37',\n",
    "                    'input_for_RMSE_sub_38',\n",
    "                    'input_for_RMSE_sub_39',\n",
    "                    'input_for_RMSE_sub_40',\n",
    "                    'input_for_RMSE_sub_41',\n",
    "                    'input_for_RMSE_sub_42'                     \n",
    ")){\n",
    "    rmse_full_path = directory_2016 + rmse_file;\n",
    "    quality_and_page_views <- read.table(rmse_full_path, header=FALSE, sep=\"\\t\")\n",
    "    colnames(quality_and_page_views) <- c('page_title','yyyy','mm', 'weighted_sum', 'page_views')\n",
    "    \n",
    "    # 2013-2014\n",
    "\n",
    "    quality_and_page_views$expected_quality_quantile = ecdf(quality_and_page_views$page_views)(quality_and_page_views$page_view)\n",
    "    weighted_sum_distribution = ecdf(quality_and_page_views$weighted_sum)\n",
    "    quality_and_page_views$expected_quality = quantile(weighted_sum_distribution, probs=quality_and_page_views$expected_quality_quantile)\n",
    "\n",
    "    revisions_weighted_sums_and_page_views_2015_2016 = merge(revisions_weighted_sums_and_page_views_2015_2016, quality_and_page_views, by = \"page_title\")\n",
    "    revisions_weighted_sums_and_page_views_2015_2016 = revisions_weighted_sums_and_page_views_2015_2016[c(\"page_title\", \"namespace\", \"edit_type\", \"agent_type\", \"rev_id\", \"weighted_sum.x\",\"expected_quality\",\"expected_quality_quantile\",\"page_views.y\",\"yyyy\",\"mm\")]\n",
    "    colnames(revisions_weighted_sums_and_page_views_2015_2016) <- c(\"page_title\", \"namespace\", \"edit_type\", \"agent_type\", \"rev_id\", \"weighted_sum\",\"expected_quality\",\"expected_quality_quantile\",\"page_views\",\"yyyy\",\"mm\")\n",
    "    revisions_weighted_sums_and_page_views_2015_2016$quality_difference = revisions_weighted_sums_and_page_views_2015_2016$weighted_sum - revisions_weighted_sums_and_page_views_2015_2016$expected_quality\n",
    "\n",
    "\n",
    "    \n",
    "    quality_and_page_views = NULL\n",
    "\n",
    "    output = data.frame()\n",
    "    output = rbind(output, c(quality_and_page_views[1,2], \n",
    "                             quality_and_page_views[1,3],\n",
    "                             mean(revisions_weighted_sums_and_page_views_2015_2016[revisions_weighted_sums_and_page_views_2015_2016$agent_type == 'bot_edit',]$quality_difference),\n",
    "                             median(revisions_weighted_sums_and_page_views_2015_2016[revisions_weighted_sums_and_page_views_2015_2016$agent_type == 'bot_edit',]$quality_difference),\n",
    "                             mean(revisions_weighted_sums_and_page_views_2015_2016[revisions_weighted_sums_and_page_views_2015_2016$agent_type == 'human_bot_like_edit',]$quality_difference),\n",
    "                             median(revisions_weighted_sums_and_page_views_2015_2016[revisions_weighted_sums_and_page_views_2015_2016$agent_type == 'human_bot_like_edit',]$quality_difference),\n",
    "                             mean(revisions_weighted_sums_and_page_views_2015_2016[revisions_weighted_sums_and_page_views_2015_2016$agent_type == 'anon_bot_like_edit',]$quality_difference),\n",
    "                             median(revisions_weighted_sums_and_page_views_2015_2016[revisions_weighted_sums_and_page_views_2015_2016$agent_type == 'anon_bot_like_edit',]$quality_difference),\n",
    "                             mean(revisions_weighted_sums_and_page_views_2015_2016[revisions_weighted_sums_and_page_views_2015_2016$agent_type == 'semi_automated_edit',]$quality_difference),\n",
    "                             median(revisions_weighted_sums_and_page_views_2015_2016[revisions_weighted_sums_and_page_views_2015_2016$agent_type == 'semi_automated_edit',]$quality_difference),\n",
    "                             mean(revisions_weighted_sums_and_page_views_2015_2016[revisions_weighted_sums_and_page_views_2015_2016$agent_type == 'human_edit',]$quality_difference),\n",
    "                             median(revisions_weighted_sums_and_page_views_2015_2016[revisions_weighted_sums_and_page_views_2015_2016$agent_type == 'human_edit',]$quality_difference),\n",
    "                             mean(revisions_weighted_sums_and_page_views_2015_2016[revisions_weighted_sums_and_page_views_2015_2016$agent_type == 'anon_edit',]$quality_difference),\n",
    "                             median(revisions_weighted_sums_and_page_views_2015_2016[revisions_weighted_sums_and_page_views_2015_2016$agent_type == 'anon_edit',]$quality_difference)))\n",
    "    \n",
    "    write.table(output[1,], '/export/scratch2/wmf/wbc_entity_usage/usage_results/misalignment_edit_types_tables_and_queries/revision_expected_quality_versus_actual_quality_varying_distributions_output.tsv', row.names=FALSE, col.names=FALSE, quote=FALSE, sep='\\t', append = TRUE);\n",
    "    \n",
    "}"
   ]
  },
  {
   "cell_type": "code",
   "execution_count": null,
   "metadata": {
    "collapsed": true
   },
   "outputs": [],
   "source": [
    "directory_2017 = '/export/scratch2/wmf/wbc_entity_usage/usage_results/misalignment_edit_types_tables_and_queries/input_for_rmse_split_directory/2017/'\n",
    "\n",
    "for (rmse_file in c('input_for_RMSE_sub_42',\n",
    "                    'input_for_RMSE_sub_43',\n",
    "                    'input_for_RMSE_sub_44',\n",
    "                    'input_for_RMSE_sub_45',\n",
    "                    'input_for_RMSE_sub_46',\n",
    "                    'input_for_RMSE_sub_47',\n",
    "                    'input_for_RMSE_sub_48',\n",
    "                    'input_for_RMSE_sub_49',\n",
    "                    'input_for_RMSE_sub_50',\n",
    "                    'input_for_RMSE_sub_51',\n",
    "                    'input_for_RMSE_sub_52',\n",
    "                    'input_for_RMSE_sub_53',\n",
    "                    'input_for_RMSE_sub_54'                     \n",
    ")){\n",
    "    rmse_full_path = directory_2017 + rmse_file;\n",
    "    quality_and_page_views <- read.table(rmse_full_path, header=FALSE, sep=\"\\t\")\n",
    "    colnames(quality_and_page_views) <- c('page_title','yyyy','mm', 'weighted_sum', 'page_views')\n",
    "    \n",
    "    # 2013-2014\n",
    "\n",
    "    quality_and_page_views$expected_quality_quantile = ecdf(quality_and_page_views$page_views)(quality_and_page_views$page_view)\n",
    "    weighted_sum_distribution = ecdf(quality_and_page_views$weighted_sum)\n",
    "    quality_and_page_views$expected_quality = quantile(weighted_sum_distribution, probs=quality_and_page_views$expected_quality_quantile)\n",
    "\n",
    "    revisions_weighted_sums_and_page_views_2016_2017 = merge(revisions_weighted_sums_and_page_views_2016_2017, quality_and_page_views, by = \"page_title\")\n",
    "    revisions_weighted_sums_and_page_views_2016_2017 = revisions_weighted_sums_and_page_views_2016_2017[c(\"page_title\", \"namespace\", \"edit_type\", \"agent_type\", \"rev_id\", \"weighted_sum.x\",\"expected_quality\",\"expected_quality_quantile\",\"page_views.y\",\"yyyy\",\"mm\")]\n",
    "    colnames(revisions_weighted_sums_and_page_views_2016_2017) <- c(\"page_title\", \"namespace\", \"edit_type\", \"agent_type\", \"rev_id\", \"weighted_sum\",\"expected_quality\",\"expected_quality_quantile\",\"page_views\",\"yyyy\",\"mm\")\n",
    "    revisions_weighted_sums_and_page_views_2016_2017$quality_difference = revisions_weighted_sums_and_page_views_2016_2017$weighted_sum - revisions_weighted_sums_and_page_views_2016_2017$expected_quality\n",
    "\n",
    "\n",
    "    \n",
    "    quality_and_page_views = NULL\n",
    "\n",
    "    output = data.frame()\n",
    "    output = rbind(output, c(quality_and_page_views[1,2], \n",
    "                             quality_and_page_views[1,3],\n",
    "                             mean(revisions_weighted_sums_and_page_views_2016_2017[revisions_weighted_sums_and_page_views_2016_2017$agent_type == 'bot_edit',]$quality_difference),\n",
    "                             median(revisions_weighted_sums_and_page_views_2016_2017[revisions_weighted_sums_and_page_views_2016_2017$agent_type == 'bot_edit',]$quality_difference),\n",
    "                             mean(revisions_weighted_sums_and_page_views_2016_2017[revisions_weighted_sums_and_page_views_2016_2017$agent_type == 'human_bot_like_edit',]$quality_difference),\n",
    "                             median(revisions_weighted_sums_and_page_views_2016_2017[revisions_weighted_sums_and_page_views_2016_2017$agent_type == 'human_bot_like_edit',]$quality_difference),\n",
    "                             mean(revisions_weighted_sums_and_page_views_2016_2017[revisions_weighted_sums_and_page_views_2016_2017$agent_type == 'anon_bot_like_edit',]$quality_difference),\n",
    "                             median(revisions_weighted_sums_and_page_views_2016_2017[revisions_weighted_sums_and_page_views_2016_2017$agent_type == 'anon_bot_like_edit',]$quality_difference),\n",
    "                             mean(revisions_weighted_sums_and_page_views_2016_2017[revisions_weighted_sums_and_page_views_2016_2017$agent_type == 'semi_automated_edit',]$quality_difference),\n",
    "                             median(revisions_weighted_sums_and_page_views_2016_2017[revisions_weighted_sums_and_page_views_2016_2017$agent_type == 'semi_automated_edit',]$quality_difference),\n",
    "                             mean(revisions_weighted_sums_and_page_views_2016_2017[revisions_weighted_sums_and_page_views_2016_2017$agent_type == 'human_edit',]$quality_difference),\n",
    "                             median(revisions_weighted_sums_and_page_views_2016_2017[revisions_weighted_sums_and_page_views_2016_2017$agent_type == 'human_edit',]$quality_difference),\n",
    "                             mean(revisions_weighted_sums_and_page_views_2016_2017[revisions_weighted_sums_and_page_views_2016_2017$agent_type == 'anon_edit',]$quality_difference),\n",
    "                             median(revisions_weighted_sums_and_page_views_2016_2017[revisions_weighted_sums_and_page_views_2016_2017$agent_type == 'anon_edit',]$quality_difference)))\n",
    "    \n",
    "    write.table(output[1,], '/export/scratch2/wmf/wbc_entity_usage/usage_results/misalignment_edit_types_tables_and_queries/revision_expected_quality_versus_actual_quality_varying_distributions_output.tsv', row.names=FALSE, col.names=FALSE, quote=FALSE, sep='\\t', append = TRUE);\n",
    "    \n",
    "}"
   ]
  },
  {
   "cell_type": "code",
   "execution_count": null,
   "metadata": {
    "collapsed": true
   },
   "outputs": [],
   "source": []
  }
 ],
 "metadata": {
  "anaconda-cloud": {},
  "kernelspec": {
   "display_name": "R [r]",
   "language": "R",
   "name": "R [r]"
  },
  "language_info": {
   "codemirror_mode": "r",
   "file_extension": ".r",
   "mimetype": "text/x-r-source",
   "name": "R",
   "pygments_lexer": "r",
   "version": "3.3.2"
  }
 },
 "nbformat": 4,
 "nbformat_minor": 0
}
