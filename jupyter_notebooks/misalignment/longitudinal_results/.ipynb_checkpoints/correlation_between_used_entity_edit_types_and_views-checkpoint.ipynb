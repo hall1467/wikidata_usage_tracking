{
 "cells": [
  {
   "cell_type": "code",
   "execution_count": null,
   "metadata": {
    "collapsed": true
   },
   "outputs": [],
   "source": [
    "library(dplyr)"
   ]
  },
  {
   "cell_type": "code",
   "execution_count": 1,
   "metadata": {
    "collapsed": true
   },
   "outputs": [],
   "source": [
    "used_entity_edit_types_and_views <- read.table(\"../../../results/sql_queries/wikidata_page_revisions_with_timestamp_editors/entity_edit_type_and_views.tsv\", header=TRUE, sep=\"\\t\")"
   ]
  },
  {
   "cell_type": "code",
   "execution_count": null,
   "metadata": {
    "collapsed": false
   },
   "outputs": [],
   "source": [
    "colnames(used_entity_edit_types_and_views) <- c('entity_id','bot_edits', 'semi_automated_edits', 'human_edits', 'anon_edits', 'all_edits', 'page_views')"
   ]
  },
  {
   "cell_type": "code",
   "execution_count": 8,
   "metadata": {
    "collapsed": false
   },
   "outputs": [
    {
     "data": {
      "text/plain": [
       "   entity_id          bot_edits       semi_automated_edits  human_edits       \n",
       " P10    :       1   Min.   :   0.00   Min.   :   0.00      Min.   :    0.000  \n",
       " P1000  :       1   1st Qu.:   3.00   1st Qu.:   0.00      1st Qu.:    0.000  \n",
       " P1001  :       1   Median :   8.00   Median :   1.00      Median :    0.000  \n",
       " P1002  :       1   Mean   :  12.95   Mean   :   3.04      Mean   :    1.817  \n",
       " P1003  :       1   3rd Qu.:  18.00   3rd Qu.:   4.00      3rd Qu.:    1.000  \n",
       " P1004  :       1   Max.   :4165.00   Max.   :6439.00      Max.   :13600.000  \n",
       " (Other):22229590                                                             \n",
       "   anon_edits         all_edits              NA           \n",
       " Min.   :   0.000   Min.   :    1.00   Min.   :0.000e+00  \n",
       " 1st Qu.:   0.000   1st Qu.:    6.00   1st Qu.:1.300e+01  \n",
       " Median :   0.000   Median :   13.00   Median :1.360e+02  \n",
       " Mean   :   0.071   Mean   :   17.88   Mean   :3.000e+04  \n",
       " 3rd Qu.:   0.000   3rd Qu.:   23.00   3rd Qu.:9.980e+02  \n",
       " Max.   :6094.000   Max.   :21863.00   Max.   :1.253e+10  \n",
       "                                                          "
      ]
     },
     "metadata": {},
     "output_type": "display_data"
    }
   ],
   "source": [
    "summary(used_entity_edit_types_and_views)"
   ]
  },
  {
   "cell_type": "code",
   "execution_count": 11,
   "metadata": {
    "collapsed": false
   },
   "outputs": [
    {
     "data": {
      "text/html": [
       "0.0593649614434352"
      ],
      "text/latex": [
       "0.0593649614434352"
      ],
      "text/markdown": [
       "0.0593649614434352"
      ],
      "text/plain": [
       "[1] 0.05936496"
      ]
     },
     "metadata": {},
     "output_type": "display_data"
    }
   ],
   "source": [
    "cor(used_entity_edit_types_and_views$bot_edits, used_entity_edit_types_and_views$page_views, method=\"spearman\")"
   ]
  },
  {
   "cell_type": "code",
   "execution_count": 16,
   "metadata": {
    "collapsed": false
   },
   "outputs": [],
   "source": [
    "used_entity_edit_types_and_views_each_month_has_some_edits <-filter(used_entity_edit_types_and_views, used_entity_edit_types_and_views$bot_edits > 0)"
   ]
  },
  {
   "cell_type": "code",
   "execution_count": null,
   "metadata": {
    "collapsed": true
   },
   "outputs": [],
   "source": []
  },
  {
   "cell_type": "code",
   "execution_count": 17,
   "metadata": {
    "collapsed": false
   },
   "outputs": [
    {
     "ename": "ERROR",
     "evalue": "Error in used_entity_edit_types_and_views_each_month_has_some_edits$page_views: $ operator is invalid for atomic vectors\n",
     "output_type": "error",
     "traceback": [
      "Error in used_entity_edit_types_and_views_each_month_has_some_edits$page_views: $ operator is invalid for atomic vectors\nTraceback:\n",
      "1. cor(used_entity_edit_types_and_views_each_month_has_some_edits$bot_edits, \n .     used_entity_edit_types_and_views_each_month_has_some_edits$page_views, \n .     method = \"spearman\")",
      "2. is.data.frame(y)"
     ]
    }
   ],
   "source": [
    "cor(used_entity_edit_types_and_views_each_month_has_some_edits$bot_edits, used_entity_edit_types_and_views_each_month_has_some_edits$page_views, method=\"spearman\")"
   ]
  },
  {
   "cell_type": "code",
   "execution_count": null,
   "metadata": {
    "collapsed": true
   },
   "outputs": [],
   "source": []
  }
 ],
 "metadata": {
  "anaconda-cloud": {},
  "kernelspec": {
   "display_name": "R [r]",
   "language": "R",
   "name": "R [r]"
  },
  "language_info": {
   "codemirror_mode": "r",
   "file_extension": ".r",
   "mimetype": "text/x-r-source",
   "name": "R",
   "pygments_lexer": "r",
   "version": "3.3.2"
  }
 },
 "nbformat": 4,
 "nbformat_minor": 0
}
