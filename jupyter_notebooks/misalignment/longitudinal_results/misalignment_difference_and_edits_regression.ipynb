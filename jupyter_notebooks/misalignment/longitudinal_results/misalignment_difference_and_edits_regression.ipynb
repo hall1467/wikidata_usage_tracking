{
 "cells": [
  {
   "cell_type": "code",
   "execution_count": 1,
   "metadata": {
    "collapsed": true
   },
   "outputs": [],
   "source": [
    "library(data.table)"
   ]
  },
  {
   "cell_type": "code",
   "execution_count": 2,
   "metadata": {
    "collapsed": false
   },
   "outputs": [],
   "source": [
    "library(fmsb)"
   ]
  },
  {
   "cell_type": "code",
   "execution_count": 3,
   "metadata": {
    "collapsed": false
   },
   "outputs": [],
   "source": [
    "library(ggplot2)"
   ]
  },
  {
   "cell_type": "code",
   "execution_count": 4,
   "metadata": {
    "collapsed": false
   },
   "outputs": [],
   "source": [
    "longitudinal_misalignment <- read.table(\"../../../results/misalignment_and_edits_11_8_17_post_processed.tsv\", header=TRUE, sep=\"\\t\")"
   ]
  },
  {
   "cell_type": "code",
   "execution_count": 5,
   "metadata": {
    "collapsed": false
   },
   "outputs": [
    {
     "data": {
      "text/plain": [
       "     yyyymm       aligned_entities difference_in_alignment_with_previous\n",
       " Min.   :201211   Min.   :0.4443   Min.   :-0.0510158                   \n",
       " 1st Qu.:201356   1st Qu.:0.4869   1st Qu.:-0.0141284                   \n",
       " Median :201502   Median :0.5656   Median :-0.0079630                   \n",
       " Mean   :201470   Mean   :0.6260   Mean   : 0.0080788                   \n",
       " 3rd Qu.:201604   3rd Qu.:0.7723   3rd Qu.:-0.0003932                   \n",
       " Max.   :201705   Max.   :0.9063   Max.   : 0.7595628                   \n",
       "   bot_edits        semi_automated_edits non_bot_edits       anon_edits   \n",
       " Min.   :     700   Min.   :      0      Min.   : 170871   Min.   :  517  \n",
       " 1st Qu.: 3282669   1st Qu.:  55931      1st Qu.: 605818   1st Qu.:30768  \n",
       " Median : 4779455   Median : 959002      Median : 696687   Median :34795  \n",
       " Mean   : 5224430   Mean   :1226118      Mean   : 719934   Mean   :36041  \n",
       " 3rd Qu.: 6549304   3rd Qu.:2047789      3rd Qu.: 890891   3rd Qu.:43092  \n",
       " Max.   :13948677   Max.   :3816710      Max.   :1117906   Max.   :81582  \n",
       " current_bot_edits_count current_semi_automated_edits_count\n",
       " Min.   :      700       Min.   :       0                  \n",
       " 1st Qu.: 80837934       1st Qu.:  176970                  \n",
       " Median :151697293       Median :11054806                  \n",
       " Mean   :148843235       Mean   :18611192                  \n",
       " 3rd Qu.:224092394       3rd Qu.:33153272                  \n",
       " Max.   :287343656       Max.   :67436512                  \n",
       " current_non_bot_edits_count current_anon_edits_count\n",
       " Min.   :  263987            Min.   :    517         \n",
       " 1st Qu.: 7856476            1st Qu.: 380527         \n",
       " Median :15700773            Median : 874932         \n",
       " Mean   :17157572            Mean   : 890219         \n",
       " 3rd Qu.:25873464            3rd Qu.:1392166         \n",
       " Max.   :39596342            Max.   :1982259         "
      ]
     },
     "metadata": {},
     "output_type": "display_data"
    }
   ],
   "source": [
    "summary(longitudinal_misalignment)"
   ]
  },
  {
   "cell_type": "code",
   "execution_count": 6,
   "metadata": {
    "collapsed": false
   },
   "outputs": [],
   "source": [
    "first_month_trimmed_longitudinal_misalignment <- longitudinal_misalignment[2:55,]"
   ]
  },
  {
   "cell_type": "code",
   "execution_count": 7,
   "metadata": {
    "collapsed": true
   },
   "outputs": [],
   "source": [
    "longitudinal_edit_frequencies <- read.table(\"~/Desktop/all_events_session_mean_frequencies.tsv\", header=TRUE, sep=\"\\t\")"
   ]
  },
  {
   "cell_type": "code",
   "execution_count": 8,
   "metadata": {
    "collapsed": false
   },
   "outputs": [],
   "source": [
    "colnames(longitudinal_edit_frequencies) <- c('yyyymm', 'under_five_seconds','five_to_ten_seconds', 'ten_to_twenty_seconds', 'twenty_to_one_hundred_seconds', 'over_one_hundred_seconds')"
   ]
  },
  {
   "cell_type": "code",
   "execution_count": 9,
   "metadata": {
    "collapsed": true
   },
   "outputs": [],
   "source": [
    "last_month_trimmed_longitudinal_edit_frequencies <- longitudinal_edit_frequencies[1:54,]"
   ]
  },
  {
   "cell_type": "code",
   "execution_count": 10,
   "metadata": {
    "collapsed": false
   },
   "outputs": [],
   "source": [
    "first_month_trimmed_longitudinal_misalignment$under_five_seconds = last_month_trimmed_longitudinal_edit_frequencies$under_five_seconds"
   ]
  },
  {
   "cell_type": "code",
   "execution_count": 11,
   "metadata": {
    "collapsed": true
   },
   "outputs": [],
   "source": [
    "first_month_trimmed_longitudinal_misalignment$five_to_ten_seconds = last_month_trimmed_longitudinal_edit_frequencies$five_to_ten_seconds"
   ]
  },
  {
   "cell_type": "code",
   "execution_count": 12,
   "metadata": {
    "collapsed": true
   },
   "outputs": [],
   "source": [
    "first_month_trimmed_longitudinal_misalignment$ten_to_twenty_seconds = last_month_trimmed_longitudinal_edit_frequencies$ten_to_twenty_seconds"
   ]
  },
  {
   "cell_type": "code",
   "execution_count": 13,
   "metadata": {
    "collapsed": true
   },
   "outputs": [],
   "source": [
    "first_month_trimmed_longitudinal_misalignment$twenty_to_one_hundred_seconds = last_month_trimmed_longitudinal_edit_frequencies$twenty_to_one_hundred_seconds"
   ]
  },
  {
   "cell_type": "code",
   "execution_count": 14,
   "metadata": {
    "collapsed": true
   },
   "outputs": [],
   "source": [
    "first_month_trimmed_longitudinal_misalignment$over_one_hundred_seconds = last_month_trimmed_longitudinal_edit_frequencies$over_one_hundred_seconds"
   ]
  },
  {
   "cell_type": "code",
   "execution_count": 15,
   "metadata": {
    "collapsed": true
   },
   "outputs": [],
   "source": [
    "first_month_trimmed_longitudinal_misalignment$all_edits = first_month_trimmed_longitudinal_misalignment$under_five_seconds +\n",
    "                                                          first_month_trimmed_longitudinal_misalignment$five_to_ten_seconds +\n",
    "                                                          first_month_trimmed_longitudinal_misalignment$ten_to_twenty_seconds +\n",
    "                                                          first_month_trimmed_longitudinal_misalignment$twenty_to_one_hundred_seconds +\n",
    "                                                          first_month_trimmed_longitudinal_misalignment$over_one_hundred_seconds"
   ]
  },
  {
   "cell_type": "code",
   "execution_count": 16,
   "metadata": {
    "collapsed": false
   },
   "outputs": [],
   "source": [
    "attach(first_month_trimmed_longitudinal_misalignment)"
   ]
  },
  {
   "cell_type": "code",
   "execution_count": 18,
   "metadata": {
    "collapsed": false
   },
   "outputs": [],
   "source": [
    "first_month_trimmed_longitudinal_misalignment$under_five_seconds_proportion = under_five_seconds/all_edits"
   ]
  },
  {
   "cell_type": "code",
   "execution_count": 19,
   "metadata": {
    "collapsed": true
   },
   "outputs": [],
   "source": [
    "first_month_trimmed_longitudinal_misalignment$five_to_ten_seconds_proportion = five_to_ten_seconds/all_edits"
   ]
  },
  {
   "cell_type": "code",
   "execution_count": 20,
   "metadata": {
    "collapsed": false
   },
   "outputs": [],
   "source": [
    "first_month_trimmed_longitudinal_misalignment$ten_to_twenty_proportion = ten_to_twenty_seconds/all_edits"
   ]
  },
  {
   "cell_type": "code",
   "execution_count": 21,
   "metadata": {
    "collapsed": true
   },
   "outputs": [],
   "source": [
    "first_month_trimmed_longitudinal_misalignment$twenty_to_one_hundred_seconds_proportion = twenty_to_one_hundred_seconds/all_edits"
   ]
  },
  {
   "cell_type": "code",
   "execution_count": 22,
   "metadata": {
    "collapsed": true
   },
   "outputs": [],
   "source": [
    "first_month_trimmed_longitudinal_misalignment$over_one_hundred_seconds_proportion =over_one_hundred_seconds/all_edits"
   ]
  },
  {
   "cell_type": "code",
   "execution_count": 23,
   "metadata": {
    "collapsed": false
   },
   "outputs": [
    {
     "data": {
      "text/html": [
       "<table>\n",
       "<thead><tr><th></th><th scope=col>yyyymm</th><th scope=col>aligned_entities</th><th scope=col>difference_in_alignment_with_previous</th><th scope=col>bot_edits</th><th scope=col>semi_automated_edits</th><th scope=col>non_bot_edits</th><th scope=col>anon_edits</th><th scope=col>current_bot_edits_count</th><th scope=col>current_semi_automated_edits_count</th><th scope=col>current_non_bot_edits_count</th><th scope=col>⋯</th><th scope=col>five_to_ten_seconds</th><th scope=col>ten_to_twenty_seconds</th><th scope=col>twenty_to_one_hundred_seconds</th><th scope=col>over_one_hundred_seconds</th><th scope=col>all_edits</th><th scope=col>under_five_seconds_proportion</th><th scope=col>five_to_ten_seconds_proportion</th><th scope=col>ten_to_twenty_proportion</th><th scope=col>twenty_to_one_hundred_seconds_proportion</th><th scope=col>over_one_hundred_seconds_proportion</th></tr></thead>\n",
       "<tbody>\n",
       "\t<tr><th scope=row>2</th><td>201212       </td><td>0.8462165    </td><td> 0.0866536670</td><td>  183629     </td><td>  26104      </td><td> 205214      </td><td> 2795        </td><td>   184329    </td><td>   26104     </td><td>  469201     </td><td>⋯            </td><td> 194857      </td><td> 59547       </td><td>165594       </td><td> 22567       </td><td>  445054     </td><td>0.00559258   </td><td>0.43782777   </td><td>0.13379725   </td><td>0.37207620   </td><td>0.050706206  </td></tr>\n",
       "\t<tr><th scope=row>3</th><td>201301       </td><td>0.9062631    </td><td> 0.0600465527</td><td> 1932349     </td><td>  23753      </td><td> 170871      </td><td> 2216        </td><td>  2116678    </td><td>   49857     </td><td>  640072     </td><td>⋯            </td><td> 175164      </td><td> 37403       </td><td>105278       </td><td> 14021       </td><td> 2461064     </td><td>0.86515345   </td><td>0.07117409   </td><td>0.01519790   </td><td>0.04277743   </td><td>0.005697129  </td></tr>\n",
       "\t<tr><th scope=row>4</th><td>201302       </td><td>0.8983001    </td><td>-0.0079629832</td><td> 2285161     </td><td>   7616      </td><td> 183930      </td><td> 2073        </td><td>  4401839    </td><td>   57473     </td><td>  824002     </td><td>⋯            </td><td> 382572      </td><td>261319       </td><td>220869       </td><td>117135       </td><td> 5121035     </td><td>0.80826239   </td><td>0.07470599   </td><td>0.05102855   </td><td>0.04312976   </td><td>0.022873306  </td></tr>\n",
       "\t<tr><th scope=row>5</th><td>201303       </td><td>0.9025090    </td><td> 0.0042089126</td><td> 2264112     </td><td>   5985      </td><td> 347630      </td><td> 8211        </td><td>  6665951    </td><td>   63458     </td><td> 1171632     </td><td>⋯            </td><td> 522664      </td><td>427469       </td><td>251525       </td><td>128767       </td><td>10257339     </td><td>0.87029531   </td><td>0.05095513   </td><td>0.04167445   </td><td>0.02452147   </td><td>0.012553646  </td></tr>\n",
       "\t<tr><th scope=row>6</th><td>201304       </td><td>0.8964184    </td><td>-0.0060905713</td><td> 8067371     </td><td>   8131      </td><td> 808967      </td><td>31878        </td><td> 14733322    </td><td>   71589     </td><td> 1980599     </td><td>⋯            </td><td> 533869      </td><td>189782       </td><td>275344       </td><td>124446       </td><td> 5761979     </td><td>0.80502515   </td><td>0.09265376   </td><td>0.03293695   </td><td>0.04778636   </td><td>0.021597788  </td></tr>\n",
       "\t<tr><th scope=row>7</th><td>201305       </td><td>0.8769229    </td><td>-0.0194954899</td><td>13276100     </td><td>      0      </td><td> 688847      </td><td>42922        </td><td> 28009422    </td><td>   71589     </td><td> 2669446     </td><td>⋯            </td><td> 474989      </td><td>140721       </td><td>108021       </td><td> 20737       </td><td> 2179801     </td><td>0.65846974   </td><td>0.21790475   </td><td>0.06455681   </td><td>0.04955544   </td><td>0.009513254  </td></tr>\n",
       "\t<tr><th scope=row>8</th><td>201306       </td><td>0.8388038    </td><td>-0.0381190921</td><td>13948677     </td><td>      0      </td><td> 833296      </td><td>42439        </td><td> 41958099    </td><td>   71589     </td><td> 3502742     </td><td>⋯            </td><td> 205945      </td><td>177873       </td><td>259245       </td><td> 60946       </td><td> 2669621     </td><td>0.73628878   </td><td>0.07714391   </td><td>0.06662856   </td><td>0.09710929   </td><td>0.022829458  </td></tr>\n",
       "\t<tr><th scope=row>9</th><td>201307       </td><td>0.8244444    </td><td>-0.0143594412</td><td> 3789628     </td><td>      0      </td><td> 748385      </td><td>55132        </td><td> 45747727    </td><td>   71589     </td><td> 4251127     </td><td>⋯            </td><td> 907861      </td><td>285301       </td><td>471498       </td><td>131105       </td><td>10132264     </td><td>0.82276765   </td><td>0.08960100   </td><td>0.02815768   </td><td>0.04653432   </td><td>0.012939359  </td></tr>\n",
       "\t<tr><th scope=row>10</th><td>201308       </td><td>0.8256896    </td><td> 0.0012452362</td><td> 8292060     </td><td>      0      </td><td> 645678      </td><td>37207        </td><td> 54039787    </td><td>   71589     </td><td> 4896805     </td><td>⋯            </td><td> 332906      </td><td>294349       </td><td>367991       </td><td>136368       </td><td>15042513     </td><td>0.92477228   </td><td>0.02213101   </td><td>0.01956781   </td><td>0.02446340   </td><td>0.009065507  </td></tr>\n",
       "\t<tr><th scope=row>11</th><td>201309       </td><td>0.8254115    </td><td>-0.0002781200</td><td> 4028693     </td><td>   5048      </td><td> 687998      </td><td>38753        </td><td> 58068480    </td><td>   76637     </td><td> 5584803     </td><td>⋯            </td><td> 189875      </td><td>230139       </td><td>396945       </td><td>137355       </td><td>12297131     </td><td>0.92239539   </td><td>0.01544059   </td><td>0.01871485   </td><td>0.03227948   </td><td>0.011169679  </td></tr>\n",
       "\t<tr><th scope=row>12</th><td>201310       </td><td>0.8053949    </td><td>-0.0200166201</td><td> 5075148     </td><td>  16388      </td><td> 676656      </td><td>35375        </td><td> 63143628    </td><td>   93025     </td><td> 6261459     </td><td>⋯            </td><td> 285067      </td><td>495693       </td><td>307387       </td><td>127338       </td><td> 4655292     </td><td>0.73890252   </td><td>0.06123504   </td><td>0.10647946   </td><td>0.06602959   </td><td>0.027353386  </td></tr>\n",
       "\t<tr><th scope=row>13</th><td>201311       </td><td>0.7880156    </td><td>-0.0173792434</td><td> 8359407     </td><td>  15911      </td><td> 466877      </td><td>33368        </td><td> 71503035    </td><td>  108936     </td><td> 6728336     </td><td>⋯            </td><td> 356463      </td><td>284148       </td><td>335702       </td><td>127908       </td><td> 8886007     </td><td>0.87573485   </td><td>0.04011509   </td><td>0.03197702   </td><td>0.03777872   </td><td>0.014394317  </td></tr>\n",
       "\t<tr><th scope=row>14</th><td>201312       </td><td>0.7777810    </td><td>-0.0102346760</td><td> 6546802     </td><td>  25155      </td><td> 795759      </td><td>34105        </td><td> 78049837    </td><td>  134091     </td><td> 7524095     </td><td>⋯            </td><td> 224031      </td><td>191175       </td><td>288087       </td><td>127767       </td><td> 4989847     </td><td>0.83344980   </td><td>0.04489737   </td><td>0.03831280   </td><td>0.05773464   </td><td>0.025605394  </td></tr>\n",
       "\t<tr><th scope=row>15</th><td>201401       </td><td>0.7743517    </td><td>-0.0034293020</td><td> 5576195     </td><td>  85758      </td><td> 664761      </td><td>27072        </td><td> 83626032    </td><td>  219849     </td><td> 8188856     </td><td>⋯            </td><td> 218899      </td><td> 84521       </td><td>335898       </td><td>125394       </td><td> 6547670     </td><td>0.88320853   </td><td>0.03343159   </td><td>0.01290856   </td><td>0.05130039   </td><td>0.019150935  </td></tr>\n",
       "\t<tr><th scope=row>16</th><td>201402       </td><td>0.7701717    </td><td>-0.0041799537</td><td> 8170379     </td><td> 119851      </td><td> 672378      </td><td>26428        </td><td> 91796411    </td><td>  339700     </td><td> 8861234     </td><td>⋯            </td><td> 715910      </td><td>300962       </td><td>364922       </td><td>132519       </td><td> 5313703     </td><td>0.71501738   </td><td>0.13472902   </td><td>0.05663884   </td><td>0.06867565   </td><td>0.024939106  </td></tr>\n",
       "\t<tr><th scope=row>17</th><td>201403       </td><td>0.7603903    </td><td>-0.0097813800</td><td> 4989090     </td><td> 148882      </td><td> 625245      </td><td>32945        </td><td> 96785501    </td><td>  488582     </td><td> 9486479     </td><td>⋯            </td><td> 415124      </td><td>302940       </td><td>321324       </td><td>151159       </td><td> 7299044     </td><td>0.83689001   </td><td>0.05687375   </td><td>0.04150407   </td><td>0.04402275   </td><td>0.020709424  </td></tr>\n",
       "\t<tr><th scope=row>18</th><td>201404       </td><td>0.7093746    </td><td>-0.0510157745</td><td> 4747388     </td><td> 158044      </td><td> 499862      </td><td>35156        </td><td>101532889    </td><td>  646626     </td><td> 9986341     </td><td>⋯            </td><td> 290488      </td><td>317137       </td><td>373478       </td><td>157953       </td><td> 8287008     </td><td>0.86254919   </td><td>0.03505342   </td><td>0.03826918   </td><td>0.04506789   </td><td>0.019060317  </td></tr>\n",
       "\t<tr><th scope=row>19</th><td>201405       </td><td>0.7128619    </td><td> 0.0034873677</td><td> 4263744     </td><td> 438632      </td><td> 510879      </td><td>34795        </td><td>105796633    </td><td> 1085258     </td><td>10497220     </td><td>⋯            </td><td> 141041      </td><td>177243       </td><td>361439       </td><td>144466       </td><td> 8903760     </td><td>0.90743360   </td><td>0.01584061   </td><td>0.01990653   </td><td>0.04059397   </td><td>0.016225280  </td></tr>\n",
       "\t<tr><th scope=row>20</th><td>201406       </td><td>0.6964598    </td><td>-0.0164021539</td><td> 9239076     </td><td> 979907      </td><td> 525297      </td><td>43263        </td><td>115035709    </td><td> 2065165     </td><td>11022517     </td><td>⋯            </td><td> 147745      </td><td>190072       </td><td>347931       </td><td>132886       </td><td> 5956416     </td><td>0.86256266   </td><td>0.02480435   </td><td>0.03191046   </td><td>0.05841281   </td><td>0.022309725  </td></tr>\n",
       "\t<tr><th scope=row>21</th><td>201407       </td><td>0.6910405    </td><td>-0.0054192489</td><td> 4174522     </td><td>1122534      </td><td> 506304      </td><td>33564        </td><td>119210231    </td><td> 3187699     </td><td>11528821     </td><td>⋯            </td><td> 273823      </td><td>386553       </td><td>355103       </td><td>134034       </td><td> 4498880     </td><td>0.74448907   </td><td>0.06086470   </td><td>0.08592205   </td><td>0.07893142   </td><td>0.029792748  </td></tr>\n",
       "\t<tr><th scope=row>22</th><td>201408       </td><td>0.6790128    </td><td>-0.0120276997</td><td> 3908321     </td><td>1542138      </td><td> 615231      </td><td>37155        </td><td>123118552    </td><td> 4729837     </td><td>12144052     </td><td>⋯            </td><td> 311029      </td><td>250598       </td><td>361112       </td><td>132163       </td><td> 5431902     </td><td>0.80579510   </td><td>0.05725969   </td><td>0.04613448   </td><td>0.06647984   </td><td>0.024330888  </td></tr>\n",
       "\t<tr><th scope=row>23</th><td>201409       </td><td>0.6425853    </td><td>-0.0364275219</td><td> 3313688     </td><td>1131216      </td><td> 596404      </td><td>33585        </td><td>126432240    </td><td> 5861053     </td><td>12740456     </td><td>⋯            </td><td>1653742      </td><td>320628       </td><td>422567       </td><td>148630       </td><td>11602361     </td><td>0.78059922   </td><td>0.14253495   </td><td>0.02763472   </td><td>0.03642078   </td><td>0.012810324  </td></tr>\n",
       "\t<tr><th scope=row>24</th><td>201410       </td><td>0.6196022    </td><td>-0.0229831481</td><td> 3244385     </td><td>1145370      </td><td> 624810      </td><td>41517        </td><td>129676625    </td><td> 7006423     </td><td>13365266     </td><td>⋯            </td><td> 359469      </td><td>444934       </td><td>473663       </td><td>143918       </td><td> 4529477     </td><td>0.68606000   </td><td>0.07936214   </td><td>0.09823077   </td><td>0.10457344   </td><td>0.031773646  </td></tr>\n",
       "\t<tr><th scope=row>25</th><td>201411       </td><td>0.6049853    </td><td>-0.0146168089</td><td> 6345968     </td><td>1393025      </td><td> 541998      </td><td>34137        </td><td>136022593    </td><td> 8399448     </td><td>13907264     </td><td>⋯            </td><td> 438993      </td><td>368258       </td><td>480286       </td><td>148388       </td><td> 5617397     </td><td>0.74437894   </td><td>0.07814883   </td><td>0.06555670   </td><td>0.08549974   </td><td>0.026415794  </td></tr>\n",
       "\t<tr><th scope=row>26</th><td>201412       </td><td>0.5866415    </td><td>-0.0183438434</td><td> 6551805     </td><td> 895267      </td><td> 555824      </td><td>53070        </td><td>142574398    </td><td> 9294715     </td><td>14463088     </td><td>⋯            </td><td> 808956      </td><td>338436       </td><td>410083       </td><td>148683       </td><td> 5177545     </td><td>0.67046969   </td><td>0.15624316   </td><td>0.06536611   </td><td>0.07920414   </td><td>0.028716892  </td></tr>\n",
       "\t<tr><th scope=row>27</th><td>201501       </td><td>0.5762690    </td><td>-0.0103724847</td><td> 4767293     </td><td> 809181      </td><td> 570956      </td><td>36572        </td><td>147341691    </td><td>10103896     </td><td>15034044     </td><td>⋯            </td><td> 273330      </td><td>304976       </td><td>378394       </td><td>158425       </td><td> 6298135     </td><td>0.82294362   </td><td>0.04339856   </td><td>0.04842322   </td><td>0.06008033   </td><td>0.025154272  </td></tr>\n",
       "\t<tr><th scope=row>28</th><td>201502       </td><td>0.5655679    </td><td>-0.0107011045</td><td> 4355602     </td><td> 950910      </td><td> 666729      </td><td>38682        </td><td>151697293    </td><td>11054806     </td><td>15700773     </td><td>⋯            </td><td> 312040      </td><td>419113       </td><td>470369       </td><td>192755       </td><td> 6152611     </td><td>0.77338450   </td><td>0.05071668   </td><td>0.06811953   </td><td>0.07645031   </td><td>0.031328976  </td></tr>\n",
       "\t<tr><th scope=row>29</th><td>201503       </td><td>0.5460412    </td><td>-0.0195267504</td><td> 3621741     </td><td> 856343      </td><td> 695072      </td><td>29874        </td><td>155319034    </td><td>11911149     </td><td>16395845     </td><td>⋯            </td><td> 573273      </td><td>649094       </td><td>569517       </td><td>211450       </td><td>11112909     </td><td>0.81972911   </td><td>0.05158622   </td><td>0.05840901   </td><td>0.05124824   </td><td>0.019027421  </td></tr>\n",
       "\t<tr><th scope=row>30</th><td>201504       </td><td>0.5321438    </td><td>-0.0138973476</td><td> 4906989     </td><td> 920678      </td><td> 696687      </td><td>33465        </td><td>160226023    </td><td>12831827     </td><td>17092532     </td><td>⋯            </td><td> 568012      </td><td>511494       </td><td>596211       </td><td>203592       </td><td> 9705986     </td><td>0.80637629   </td><td>0.05852182   </td><td>0.05269882   </td><td>0.06142714   </td><td>0.020975921  </td></tr>\n",
       "\t<tr><th scope=row>31</th><td>201505       </td><td>0.5210429    </td><td>-0.0111008906</td><td> 2495798     </td><td>1687490      </td><td> 635299      </td><td>25878        </td><td>162721821    </td><td>14519317     </td><td>17727831     </td><td>⋯            </td><td> 447149      </td><td>346460       </td><td>431440       </td><td>174113       </td><td> 5198158     </td><td>0.73083504   </td><td>0.08602066   </td><td>0.06665053   </td><td>0.08299863   </td><td>0.033495134  </td></tr>\n",
       "\t<tr><th scope=row>32</th><td>201506       </td><td>0.5164983    </td><td>-0.0045446150</td><td> 5026410     </td><td> 989433      </td><td> 647008      </td><td>32595        </td><td>167748231    </td><td>15508750     </td><td>18374839     </td><td>⋯            </td><td> 237283      </td><td>409574       </td><td>391754       </td><td>160845       </td><td> 5309349     </td><td>0.77408605   </td><td>0.04469154   </td><td>0.07714204   </td><td>0.07378569   </td><td>0.030294675  </td></tr>\n",
       "\t<tr><th scope=row>33</th><td>201507       </td><td>0.5284056    </td><td> 0.0119072841</td><td> 2376972     </td><td> 828451      </td><td> 760150      </td><td>24184        </td><td>170125203    </td><td>16337201     </td><td>19134989     </td><td>⋯            </td><td> 689950      </td><td>392280       </td><td>450559       </td><td>178642       </td><td> 6026233     </td><td>0.71600318   </td><td>0.11449109   </td><td>0.06509539   </td><td>0.07476628   </td><td>0.029644058  </td></tr>\n",
       "\t<tr><th scope=row>34</th><td>201508       </td><td>0.5119938    </td><td>-0.0164118156</td><td>10669860     </td><td> 633649      </td><td> 740463      </td><td>31662        </td><td>180795063    </td><td>16970850     </td><td>19875452     </td><td>⋯            </td><td> 656051      </td><td>358223       </td><td>362589       </td><td>164300       </td><td> 4715309     </td><td>0.67315758   </td><td>0.13913213   </td><td>0.07597021   </td><td>0.07689613   </td><td>0.034843952  </td></tr>\n",
       "\t<tr><th scope=row>35</th><td>201509       </td><td>0.5083907    </td><td>-0.0036030632</td><td> 6045863     </td><td> 959002      </td><td> 732233      </td><td>29454        </td><td>186840926    </td><td>17929852     </td><td>20607685     </td><td>⋯            </td><td> 320762      </td><td>271638       </td><td>381517       </td><td>171400       </td><td> 6387933     </td><td>0.82070617   </td><td>0.05021374   </td><td>0.04252361   </td><td>0.05972464   </td><td>0.026831841  </td></tr>\n",
       "\t<tr><th scope=row>36</th><td>201510       </td><td>0.4997726    </td><td>-0.0086181523</td><td> 4974810     </td><td> 744105      </td><td> 708230      </td><td>29215        </td><td>191815736    </td><td>18673957     </td><td>21315915     </td><td>⋯            </td><td> 368433      </td><td>345660       </td><td>457447       </td><td>169587       </td><td> 3804819     </td><td>0.64751884   </td><td>0.09683325   </td><td>0.09084795   </td><td>0.12022832   </td><td>0.044571634  </td></tr>\n",
       "\t<tr><th scope=row>37</th><td>201511       </td><td>0.4885873    </td><td>-0.0111852937</td><td> 8715522     </td><td>1600533      </td><td> 785510      </td><td>47051        </td><td>200531258    </td><td>20274490     </td><td>22101425     </td><td>⋯            </td><td> 256398      </td><td>303274       </td><td>443151       </td><td>180506       </td><td>11872882     </td><td>0.90033347   </td><td>0.02159526   </td><td>0.02554342   </td><td>0.03732464   </td><td>0.015203217  </td></tr>\n",
       "\t<tr><th scope=row>38</th><td>201512       </td><td>0.4832378    </td><td>-0.0053494605</td><td> 6908196     </td><td>2138604      </td><td> 880429      </td><td>49665        </td><td>207439454    </td><td>22413094     </td><td>22981854     </td><td>⋯            </td><td> 268178      </td><td>424125       </td><td>464894       </td><td>188025       </td><td> 7662956     </td><td>0.82445130   </td><td>0.03499668   </td><td>0.05534744   </td><td>0.06066771   </td><td>0.024536876  </td></tr>\n",
       "\t<tr><th scope=row>39</th><td>201601       </td><td>0.4830095    </td><td>-0.0002283539</td><td> 4779455     </td><td>2865238      </td><td> 762331      </td><td>56706        </td><td>212218909    </td><td>25278332     </td><td>23744185     </td><td>⋯            </td><td> 518080      </td><td>444578       </td><td>562291       </td><td>204710       </td><td> 8302597     </td><td>0.79167253   </td><td>0.06239975   </td><td>0.05354686   </td><td>0.06772471   </td><td>0.024656141  </td></tr>\n",
       "\t<tr><th scope=row>40</th><td>201602       </td><td>0.4844902    </td><td> 0.0014807863</td><td> 5065078     </td><td>3529393      </td><td> 901353      </td><td>44779        </td><td>217283987    </td><td>28807725     </td><td>24645538     </td><td>⋯            </td><td> 620981      </td><td>305391       </td><td>565656       </td><td>224336       </td><td> 7802901     </td><td>0.78003514   </td><td>0.07958335   </td><td>0.03913814   </td><td>0.07249304   </td><td>0.028750333  </td></tr>\n",
       "\t<tr><th scope=row>41</th><td>201603       </td><td>0.4945400    </td><td> 0.0100497119</td><td> 5160233     </td><td>3039607      </td><td> 796742      </td><td>51817        </td><td>222444220    </td><td>31847332     </td><td>25442280     </td><td>⋯            </td><td> 577616      </td><td>403975       </td><td>638478       </td><td>231225       </td><td> 9701709     </td><td>0.80917857   </td><td>0.05953755   </td><td>0.04163957   </td><td>0.06581088   </td><td>0.023833430  </td></tr>\n",
       "\t<tr><th scope=row>42</th><td>201604       </td><td>0.4929242    </td><td>-0.0016157865</td><td> 3296348     </td><td>2611880      </td><td> 862367      </td><td>61779        </td><td>225740568    </td><td>34459212     </td><td>26304647     </td><td>⋯            </td><td> 530522      </td><td>407392       </td><td>565829       </td><td>230701       </td><td> 5908282     </td><td>0.70643852   </td><td>0.08979294   </td><td>0.06895270   </td><td>0.09576879   </td><td>0.039047053  </td></tr>\n",
       "\t<tr><th scope=row>43</th><td>201605       </td><td>0.4836949    </td><td>-0.0092292472</td><td> 6506231     </td><td>1767218      </td><td>1055868      </td><td>81582        </td><td>232246799    </td><td>36226430     </td><td>27360515     </td><td>⋯            </td><td> 608069      </td><td>401881       </td><td>544384       </td><td>232972       </td><td>10651360     </td><td>0.83219927   </td><td>0.05708839   </td><td>0.03773049   </td><td>0.05110934   </td><td>0.021872512  </td></tr>\n",
       "\t<tr><th scope=row>44</th><td>201606       </td><td>0.4741030    </td><td>-0.0095919492</td><td> 8976199     </td><td>1962688      </td><td>1106816      </td><td>34803        </td><td>241222998    </td><td>38189118     </td><td>28467331     </td><td>⋯            </td><td> 508692      </td><td>316926       </td><td>551566       </td><td>217959       </td><td> 7978530     </td><td>0.80007056   </td><td>0.06375761   </td><td>0.03972235   </td><td>0.06913128   </td><td>0.027318190  </td></tr>\n",
       "\t<tr><th scope=row>45</th><td>201607       </td><td>0.4728511    </td><td>-0.0012519194</td><td> 3268990     </td><td>2711103      </td><td> 969551      </td><td>29018        </td><td>244491988    </td><td>40900221     </td><td>29436882     </td><td>⋯            </td><td> 850894      </td><td>293835       </td><td>583083       </td><td>233821       </td><td> 6633221     </td><td>0.70427142   </td><td>0.12827765   </td><td>0.04429748   </td><td>0.08790345   </td><td>0.035249994  </td></tr>\n",
       "\t<tr><th scope=row>46</th><td>201608       </td><td>0.4896451    </td><td> 0.0167940071</td><td> 4243115     </td><td>1946163      </td><td> 976565      </td><td>26142        </td><td>248735103    </td><td>42846384     </td><td>30413447     </td><td>⋯            </td><td> 447828      </td><td>336234       </td><td>616417       </td><td>217735       </td><td>10244081     </td><td>0.84203424   </td><td>0.04371578   </td><td>0.03282227   </td><td>0.06017299   </td><td>0.021254713  </td></tr>\n",
       "\t<tr><th scope=row>47</th><td>201609       </td><td>0.4864085    </td><td>-0.0032366075</td><td> 3664996     </td><td>2230161      </td><td> 958718      </td><td>53899        </td><td>252400099    </td><td>45076545     </td><td>31372165     </td><td>⋯            </td><td> 913589      </td><td>356830       </td><td>624617       </td><td>223533       </td><td>10279633     </td><td>0.79390616   </td><td>0.08887370   </td><td>0.03471233   </td><td>0.06076258   </td><td>0.021745232  </td></tr>\n",
       "\t<tr><th scope=row>48</th><td>201610       </td><td>0.4873130    </td><td> 0.0009045834</td><td> 3088833     </td><td>2951222      </td><td> 949816      </td><td>34745        </td><td>255488932    </td><td>48027767     </td><td>32321981     </td><td>⋯            </td><td> 652366      </td><td>314068       </td><td>506247       </td><td>210660       </td><td> 7220874     </td><td>0.76687850   </td><td>0.09034447   </td><td>0.04349446   </td><td>0.07010883   </td><td>0.029173754  </td></tr>\n",
       "\t<tr><th scope=row>49</th><td>201611       </td><td>0.4854145    </td><td>-0.0018985542</td><td> 6130768     </td><td>3816710      </td><td>1043648      </td><td>39777        </td><td>261619700    </td><td>51844477     </td><td>33365629     </td><td>⋯            </td><td> 359009      </td><td>242009       </td><td>637658       </td><td>218309       </td><td> 6429992     </td><td>0.77340796   </td><td>0.05583351   </td><td>0.03763753   </td><td>0.09916933   </td><td>0.033951675  </td></tr>\n",
       "\t<tr><th scope=row>50</th><td>201612       </td><td>0.4846416    </td><td>-0.0007728950</td><td> 2795140     </td><td>2262942      </td><td> 920984      </td><td>34581        </td><td>264414840    </td><td>54107419     </td><td>34286613     </td><td>⋯            </td><td> 561576      </td><td>376335       </td><td>600259       </td><td>229027       </td><td> 6758563     </td><td>0.73852474   </td><td>0.08309104   </td><td>0.05568269   </td><td>0.08881459   </td><td>0.033886937  </td></tr>\n",
       "\t<tr><th scope=row>51</th><td>201701       </td><td>0.4758655    </td><td>-0.0087760755</td><td> 2211807     </td><td>3164563      </td><td> 982597      </td><td>33846        </td><td>266626647    </td><td>57271982     </td><td>35269210     </td><td>⋯            </td><td> 339478      </td><td>365108       </td><td>685328       </td><td>243010       </td><td> 6087114     </td><td>0.73174085   </td><td>0.05576994   </td><td>0.05998048   </td><td>0.11258669   </td><td>0.039922039  </td></tr>\n",
       "\t<tr><th scope=row>52</th><td>201702       </td><td>0.4760932    </td><td> 0.0002276582</td><td> 2826225     </td><td>2132890      </td><td>1117906      </td><td>45776        </td><td>269452872    </td><td>59404872     </td><td>36387116     </td><td>⋯            </td><td> 350076      </td><td>340814       </td><td>736682       </td><td>275863       </td><td> 5806003     </td><td>0.70660797   </td><td>0.06029553   </td><td>0.05870028   </td><td>0.12688281   </td><td>0.047513410  </td></tr>\n",
       "\t<tr><th scope=row>53</th><td>201703       </td><td>0.4577122    </td><td>-0.0183809511</td><td> 7990982     </td><td>3756878      </td><td>1043388      </td><td>52092        </td><td>277443854    </td><td>63161750     </td><td>37430504     </td><td>⋯            </td><td> 395184      </td><td>312311       </td><td>711409       </td><td>256852       </td><td>15072219     </td><td>0.88881823   </td><td>0.02621936   </td><td>0.02072097   </td><td>0.04720002   </td><td>0.017041419  </td></tr>\n",
       "\t<tr><th scope=row>54</th><td>201704       </td><td>0.4572040    </td><td>-0.0005082078</td><td> 6926496     </td><td>2746637      </td><td>1088477      </td><td>51092        </td><td>284370350    </td><td>65908387     </td><td>38518981     </td><td>⋯            </td><td> 481495      </td><td>273441       </td><td>706639       </td><td>296597       </td><td> 8412514     </td><td>0.79100516   </td><td>0.05723557   </td><td>0.03250408   </td><td>0.08399855   </td><td>0.035256643  </td></tr>\n",
       "\t<tr><th scope=row>55</th><td>201705       </td><td>0.4443325    </td><td>-0.0128714966</td><td> 2973306     </td><td>1528125      </td><td>1077361      </td><td>41850        </td><td>287343656    </td><td>67436512     </td><td>39596342     </td><td>⋯            </td><td> 503135      </td><td>310276       </td><td>627207       </td><td>300202       </td><td> 5045203     </td><td>0.65495541   </td><td>0.09972542   </td><td>0.06149921   </td><td>0.12431750   </td><td>0.059502462  </td></tr>\n",
       "</tbody>\n",
       "</table>\n"
      ],
      "text/latex": [
       "\\begin{tabular}{r|llllllllllllllllllllll}\n",
       "  & yyyymm & aligned\\_entities & difference\\_in\\_alignment\\_with\\_previous & bot\\_edits & semi\\_automated\\_edits & non\\_bot\\_edits & anon\\_edits & current\\_bot\\_edits\\_count & current\\_semi\\_automated\\_edits\\_count & current\\_non\\_bot\\_edits\\_count & ⋯ & five\\_to\\_ten\\_seconds & ten\\_to\\_twenty\\_seconds & twenty\\_to\\_one\\_hundred\\_seconds & over\\_one\\_hundred\\_seconds & all\\_edits & under\\_five\\_seconds\\_proportion & five\\_to\\_ten\\_seconds\\_proportion & ten\\_to\\_twenty\\_proportion & twenty\\_to\\_one\\_hundred\\_seconds\\_proportion & over\\_one\\_hundred\\_seconds\\_proportion\\\\\n",
       "\\hline\n",
       "\t2 & 201212        & 0.8462165     &  0.0866536670 &   183629      &   26104       &  205214       &  2795         &    184329     &    26104      &   469201      & ⋯             &  194857       &  59547        & 165594        &  22567        &   445054      & 0.00559258    & 0.43782777    & 0.13379725    & 0.37207620    & 0.050706206  \\\\\n",
       "\t3 & 201301        & 0.9062631     &  0.0600465527 &  1932349      &   23753       &  170871       &  2216         &   2116678     &    49857      &   640072      & ⋯             &  175164       &  37403        & 105278        &  14021        &  2461064      & 0.86515345    & 0.07117409    & 0.01519790    & 0.04277743    & 0.005697129  \\\\\n",
       "\t4 & 201302        & 0.8983001     & -0.0079629832 &  2285161      &    7616       &  183930       &  2073         &   4401839     &    57473      &   824002      & ⋯             &  382572       & 261319        & 220869        & 117135        &  5121035      & 0.80826239    & 0.07470599    & 0.05102855    & 0.04312976    & 0.022873306  \\\\\n",
       "\t5 & 201303        & 0.9025090     &  0.0042089126 &  2264112      &    5985       &  347630       &  8211         &   6665951     &    63458      &  1171632      & ⋯             &  522664       & 427469        & 251525        & 128767        & 10257339      & 0.87029531    & 0.05095513    & 0.04167445    & 0.02452147    & 0.012553646  \\\\\n",
       "\t6 & 201304        & 0.8964184     & -0.0060905713 &  8067371      &    8131       &  808967       & 31878         &  14733322     &    71589      &  1980599      & ⋯             &  533869       & 189782        & 275344        & 124446        &  5761979      & 0.80502515    & 0.09265376    & 0.03293695    & 0.04778636    & 0.021597788  \\\\\n",
       "\t7 & 201305        & 0.8769229     & -0.0194954899 & 13276100      &       0       &  688847       & 42922         &  28009422     &    71589      &  2669446      & ⋯             &  474989       & 140721        & 108021        &  20737        &  2179801      & 0.65846974    & 0.21790475    & 0.06455681    & 0.04955544    & 0.009513254  \\\\\n",
       "\t8 & 201306        & 0.8388038     & -0.0381190921 & 13948677      &       0       &  833296       & 42439         &  41958099     &    71589      &  3502742      & ⋯             &  205945       & 177873        & 259245        &  60946        &  2669621      & 0.73628878    & 0.07714391    & 0.06662856    & 0.09710929    & 0.022829458  \\\\\n",
       "\t9 & 201307        & 0.8244444     & -0.0143594412 &  3789628      &       0       &  748385       & 55132         &  45747727     &    71589      &  4251127      & ⋯             &  907861       & 285301        & 471498        & 131105        & 10132264      & 0.82276765    & 0.08960100    & 0.02815768    & 0.04653432    & 0.012939359  \\\\\n",
       "\t10 & 201308        & 0.8256896     &  0.0012452362 &  8292060      &       0       &  645678       & 37207         &  54039787     &    71589      &  4896805      & ⋯             &  332906       & 294349        & 367991        & 136368        & 15042513      & 0.92477228    & 0.02213101    & 0.01956781    & 0.02446340    & 0.009065507  \\\\\n",
       "\t11 & 201309        & 0.8254115     & -0.0002781200 &  4028693      &    5048       &  687998       & 38753         &  58068480     &    76637      &  5584803      & ⋯             &  189875       & 230139        & 396945        & 137355        & 12297131      & 0.92239539    & 0.01544059    & 0.01871485    & 0.03227948    & 0.011169679  \\\\\n",
       "\t12 & 201310        & 0.8053949     & -0.0200166201 &  5075148      &   16388       &  676656       & 35375         &  63143628     &    93025      &  6261459      & ⋯             &  285067       & 495693        & 307387        & 127338        &  4655292      & 0.73890252    & 0.06123504    & 0.10647946    & 0.06602959    & 0.027353386  \\\\\n",
       "\t13 & 201311        & 0.7880156     & -0.0173792434 &  8359407      &   15911       &  466877       & 33368         &  71503035     &   108936      &  6728336      & ⋯             &  356463       & 284148        & 335702        & 127908        &  8886007      & 0.87573485    & 0.04011509    & 0.03197702    & 0.03777872    & 0.014394317  \\\\\n",
       "\t14 & 201312        & 0.7777810     & -0.0102346760 &  6546802      &   25155       &  795759       & 34105         &  78049837     &   134091      &  7524095      & ⋯             &  224031       & 191175        & 288087        & 127767        &  4989847      & 0.83344980    & 0.04489737    & 0.03831280    & 0.05773464    & 0.025605394  \\\\\n",
       "\t15 & 201401        & 0.7743517     & -0.0034293020 &  5576195      &   85758       &  664761       & 27072         &  83626032     &   219849      &  8188856      & ⋯             &  218899       &  84521        & 335898        & 125394        &  6547670      & 0.88320853    & 0.03343159    & 0.01290856    & 0.05130039    & 0.019150935  \\\\\n",
       "\t16 & 201402        & 0.7701717     & -0.0041799537 &  8170379      &  119851       &  672378       & 26428         &  91796411     &   339700      &  8861234      & ⋯             &  715910       & 300962        & 364922        & 132519        &  5313703      & 0.71501738    & 0.13472902    & 0.05663884    & 0.06867565    & 0.024939106  \\\\\n",
       "\t17 & 201403        & 0.7603903     & -0.0097813800 &  4989090      &  148882       &  625245       & 32945         &  96785501     &   488582      &  9486479      & ⋯             &  415124       & 302940        & 321324        & 151159        &  7299044      & 0.83689001    & 0.05687375    & 0.04150407    & 0.04402275    & 0.020709424  \\\\\n",
       "\t18 & 201404        & 0.7093746     & -0.0510157745 &  4747388      &  158044       &  499862       & 35156         & 101532889     &   646626      &  9986341      & ⋯             &  290488       & 317137        & 373478        & 157953        &  8287008      & 0.86254919    & 0.03505342    & 0.03826918    & 0.04506789    & 0.019060317  \\\\\n",
       "\t19 & 201405        & 0.7128619     &  0.0034873677 &  4263744      &  438632       &  510879       & 34795         & 105796633     &  1085258      & 10497220      & ⋯             &  141041       & 177243        & 361439        & 144466        &  8903760      & 0.90743360    & 0.01584061    & 0.01990653    & 0.04059397    & 0.016225280  \\\\\n",
       "\t20 & 201406        & 0.6964598     & -0.0164021539 &  9239076      &  979907       &  525297       & 43263         & 115035709     &  2065165      & 11022517      & ⋯             &  147745       & 190072        & 347931        & 132886        &  5956416      & 0.86256266    & 0.02480435    & 0.03191046    & 0.05841281    & 0.022309725  \\\\\n",
       "\t21 & 201407        & 0.6910405     & -0.0054192489 &  4174522      & 1122534       &  506304       & 33564         & 119210231     &  3187699      & 11528821      & ⋯             &  273823       & 386553        & 355103        & 134034        &  4498880      & 0.74448907    & 0.06086470    & 0.08592205    & 0.07893142    & 0.029792748  \\\\\n",
       "\t22 & 201408        & 0.6790128     & -0.0120276997 &  3908321      & 1542138       &  615231       & 37155         & 123118552     &  4729837      & 12144052      & ⋯             &  311029       & 250598        & 361112        & 132163        &  5431902      & 0.80579510    & 0.05725969    & 0.04613448    & 0.06647984    & 0.024330888  \\\\\n",
       "\t23 & 201409        & 0.6425853     & -0.0364275219 &  3313688      & 1131216       &  596404       & 33585         & 126432240     &  5861053      & 12740456      & ⋯             & 1653742       & 320628        & 422567        & 148630        & 11602361      & 0.78059922    & 0.14253495    & 0.02763472    & 0.03642078    & 0.012810324  \\\\\n",
       "\t24 & 201410        & 0.6196022     & -0.0229831481 &  3244385      & 1145370       &  624810       & 41517         & 129676625     &  7006423      & 13365266      & ⋯             &  359469       & 444934        & 473663        & 143918        &  4529477      & 0.68606000    & 0.07936214    & 0.09823077    & 0.10457344    & 0.031773646  \\\\\n",
       "\t25 & 201411        & 0.6049853     & -0.0146168089 &  6345968      & 1393025       &  541998       & 34137         & 136022593     &  8399448      & 13907264      & ⋯             &  438993       & 368258        & 480286        & 148388        &  5617397      & 0.74437894    & 0.07814883    & 0.06555670    & 0.08549974    & 0.026415794  \\\\\n",
       "\t26 & 201412        & 0.5866415     & -0.0183438434 &  6551805      &  895267       &  555824       & 53070         & 142574398     &  9294715      & 14463088      & ⋯             &  808956       & 338436        & 410083        & 148683        &  5177545      & 0.67046969    & 0.15624316    & 0.06536611    & 0.07920414    & 0.028716892  \\\\\n",
       "\t27 & 201501        & 0.5762690     & -0.0103724847 &  4767293      &  809181       &  570956       & 36572         & 147341691     & 10103896      & 15034044      & ⋯             &  273330       & 304976        & 378394        & 158425        &  6298135      & 0.82294362    & 0.04339856    & 0.04842322    & 0.06008033    & 0.025154272  \\\\\n",
       "\t28 & 201502        & 0.5655679     & -0.0107011045 &  4355602      &  950910       &  666729       & 38682         & 151697293     & 11054806      & 15700773      & ⋯             &  312040       & 419113        & 470369        & 192755        &  6152611      & 0.77338450    & 0.05071668    & 0.06811953    & 0.07645031    & 0.031328976  \\\\\n",
       "\t29 & 201503        & 0.5460412     & -0.0195267504 &  3621741      &  856343       &  695072       & 29874         & 155319034     & 11911149      & 16395845      & ⋯             &  573273       & 649094        & 569517        & 211450        & 11112909      & 0.81972911    & 0.05158622    & 0.05840901    & 0.05124824    & 0.019027421  \\\\\n",
       "\t30 & 201504        & 0.5321438     & -0.0138973476 &  4906989      &  920678       &  696687       & 33465         & 160226023     & 12831827      & 17092532      & ⋯             &  568012       & 511494        & 596211        & 203592        &  9705986      & 0.80637629    & 0.05852182    & 0.05269882    & 0.06142714    & 0.020975921  \\\\\n",
       "\t31 & 201505        & 0.5210429     & -0.0111008906 &  2495798      & 1687490       &  635299       & 25878         & 162721821     & 14519317      & 17727831      & ⋯             &  447149       & 346460        & 431440        & 174113        &  5198158      & 0.73083504    & 0.08602066    & 0.06665053    & 0.08299863    & 0.033495134  \\\\\n",
       "\t32 & 201506        & 0.5164983     & -0.0045446150 &  5026410      &  989433       &  647008       & 32595         & 167748231     & 15508750      & 18374839      & ⋯             &  237283       & 409574        & 391754        & 160845        &  5309349      & 0.77408605    & 0.04469154    & 0.07714204    & 0.07378569    & 0.030294675  \\\\\n",
       "\t33 & 201507        & 0.5284056     &  0.0119072841 &  2376972      &  828451       &  760150       & 24184         & 170125203     & 16337201      & 19134989      & ⋯             &  689950       & 392280        & 450559        & 178642        &  6026233      & 0.71600318    & 0.11449109    & 0.06509539    & 0.07476628    & 0.029644058  \\\\\n",
       "\t34 & 201508        & 0.5119938     & -0.0164118156 & 10669860      &  633649       &  740463       & 31662         & 180795063     & 16970850      & 19875452      & ⋯             &  656051       & 358223        & 362589        & 164300        &  4715309      & 0.67315758    & 0.13913213    & 0.07597021    & 0.07689613    & 0.034843952  \\\\\n",
       "\t35 & 201509        & 0.5083907     & -0.0036030632 &  6045863      &  959002       &  732233       & 29454         & 186840926     & 17929852      & 20607685      & ⋯             &  320762       & 271638        & 381517        & 171400        &  6387933      & 0.82070617    & 0.05021374    & 0.04252361    & 0.05972464    & 0.026831841  \\\\\n",
       "\t36 & 201510        & 0.4997726     & -0.0086181523 &  4974810      &  744105       &  708230       & 29215         & 191815736     & 18673957      & 21315915      & ⋯             &  368433       & 345660        & 457447        & 169587        &  3804819      & 0.64751884    & 0.09683325    & 0.09084795    & 0.12022832    & 0.044571634  \\\\\n",
       "\t37 & 201511        & 0.4885873     & -0.0111852937 &  8715522      & 1600533       &  785510       & 47051         & 200531258     & 20274490      & 22101425      & ⋯             &  256398       & 303274        & 443151        & 180506        & 11872882      & 0.90033347    & 0.02159526    & 0.02554342    & 0.03732464    & 0.015203217  \\\\\n",
       "\t38 & 201512        & 0.4832378     & -0.0053494605 &  6908196      & 2138604       &  880429       & 49665         & 207439454     & 22413094      & 22981854      & ⋯             &  268178       & 424125        & 464894        & 188025        &  7662956      & 0.82445130    & 0.03499668    & 0.05534744    & 0.06066771    & 0.024536876  \\\\\n",
       "\t39 & 201601        & 0.4830095     & -0.0002283539 &  4779455      & 2865238       &  762331       & 56706         & 212218909     & 25278332      & 23744185      & ⋯             &  518080       & 444578        & 562291        & 204710        &  8302597      & 0.79167253    & 0.06239975    & 0.05354686    & 0.06772471    & 0.024656141  \\\\\n",
       "\t40 & 201602        & 0.4844902     &  0.0014807863 &  5065078      & 3529393       &  901353       & 44779         & 217283987     & 28807725      & 24645538      & ⋯             &  620981       & 305391        & 565656        & 224336        &  7802901      & 0.78003514    & 0.07958335    & 0.03913814    & 0.07249304    & 0.028750333  \\\\\n",
       "\t41 & 201603        & 0.4945400     &  0.0100497119 &  5160233      & 3039607       &  796742       & 51817         & 222444220     & 31847332      & 25442280      & ⋯             &  577616       & 403975        & 638478        & 231225        &  9701709      & 0.80917857    & 0.05953755    & 0.04163957    & 0.06581088    & 0.023833430  \\\\\n",
       "\t42 & 201604        & 0.4929242     & -0.0016157865 &  3296348      & 2611880       &  862367       & 61779         & 225740568     & 34459212      & 26304647      & ⋯             &  530522       & 407392        & 565829        & 230701        &  5908282      & 0.70643852    & 0.08979294    & 0.06895270    & 0.09576879    & 0.039047053  \\\\\n",
       "\t43 & 201605        & 0.4836949     & -0.0092292472 &  6506231      & 1767218       & 1055868       & 81582         & 232246799     & 36226430      & 27360515      & ⋯             &  608069       & 401881        & 544384        & 232972        & 10651360      & 0.83219927    & 0.05708839    & 0.03773049    & 0.05110934    & 0.021872512  \\\\\n",
       "\t44 & 201606        & 0.4741030     & -0.0095919492 &  8976199      & 1962688       & 1106816       & 34803         & 241222998     & 38189118      & 28467331      & ⋯             &  508692       & 316926        & 551566        & 217959        &  7978530      & 0.80007056    & 0.06375761    & 0.03972235    & 0.06913128    & 0.027318190  \\\\\n",
       "\t45 & 201607        & 0.4728511     & -0.0012519194 &  3268990      & 2711103       &  969551       & 29018         & 244491988     & 40900221      & 29436882      & ⋯             &  850894       & 293835        & 583083        & 233821        &  6633221      & 0.70427142    & 0.12827765    & 0.04429748    & 0.08790345    & 0.035249994  \\\\\n",
       "\t46 & 201608        & 0.4896451     &  0.0167940071 &  4243115      & 1946163       &  976565       & 26142         & 248735103     & 42846384      & 30413447      & ⋯             &  447828       & 336234        & 616417        & 217735        & 10244081      & 0.84203424    & 0.04371578    & 0.03282227    & 0.06017299    & 0.021254713  \\\\\n",
       "\t47 & 201609        & 0.4864085     & -0.0032366075 &  3664996      & 2230161       &  958718       & 53899         & 252400099     & 45076545      & 31372165      & ⋯             &  913589       & 356830        & 624617        & 223533        & 10279633      & 0.79390616    & 0.08887370    & 0.03471233    & 0.06076258    & 0.021745232  \\\\\n",
       "\t48 & 201610        & 0.4873130     &  0.0009045834 &  3088833      & 2951222       &  949816       & 34745         & 255488932     & 48027767      & 32321981      & ⋯             &  652366       & 314068        & 506247        & 210660        &  7220874      & 0.76687850    & 0.09034447    & 0.04349446    & 0.07010883    & 0.029173754  \\\\\n",
       "\t49 & 201611        & 0.4854145     & -0.0018985542 &  6130768      & 3816710       & 1043648       & 39777         & 261619700     & 51844477      & 33365629      & ⋯             &  359009       & 242009        & 637658        & 218309        &  6429992      & 0.77340796    & 0.05583351    & 0.03763753    & 0.09916933    & 0.033951675  \\\\\n",
       "\t50 & 201612        & 0.4846416     & -0.0007728950 &  2795140      & 2262942       &  920984       & 34581         & 264414840     & 54107419      & 34286613      & ⋯             &  561576       & 376335        & 600259        & 229027        &  6758563      & 0.73852474    & 0.08309104    & 0.05568269    & 0.08881459    & 0.033886937  \\\\\n",
       "\t51 & 201701        & 0.4758655     & -0.0087760755 &  2211807      & 3164563       &  982597       & 33846         & 266626647     & 57271982      & 35269210      & ⋯             &  339478       & 365108        & 685328        & 243010        &  6087114      & 0.73174085    & 0.05576994    & 0.05998048    & 0.11258669    & 0.039922039  \\\\\n",
       "\t52 & 201702        & 0.4760932     &  0.0002276582 &  2826225      & 2132890       & 1117906       & 45776         & 269452872     & 59404872      & 36387116      & ⋯             &  350076       & 340814        & 736682        & 275863        &  5806003      & 0.70660797    & 0.06029553    & 0.05870028    & 0.12688281    & 0.047513410  \\\\\n",
       "\t53 & 201703        & 0.4577122     & -0.0183809511 &  7990982      & 3756878       & 1043388       & 52092         & 277443854     & 63161750      & 37430504      & ⋯             &  395184       & 312311        & 711409        & 256852        & 15072219      & 0.88881823    & 0.02621936    & 0.02072097    & 0.04720002    & 0.017041419  \\\\\n",
       "\t54 & 201704        & 0.4572040     & -0.0005082078 &  6926496      & 2746637       & 1088477       & 51092         & 284370350     & 65908387      & 38518981      & ⋯             &  481495       & 273441        & 706639        & 296597        &  8412514      & 0.79100516    & 0.05723557    & 0.03250408    & 0.08399855    & 0.035256643  \\\\\n",
       "\t55 & 201705        & 0.4443325     & -0.0128714966 &  2973306      & 1528125       & 1077361       & 41850         & 287343656     & 67436512      & 39596342      & ⋯             &  503135       & 310276        & 627207        & 300202        &  5045203      & 0.65495541    & 0.09972542    & 0.06149921    & 0.12431750    & 0.059502462  \\\\\n",
       "\\end{tabular}\n"
      ],
      "text/markdown": [
       "\n",
       "| <!--/--> | yyyymm | aligned_entities | difference_in_alignment_with_previous | bot_edits | semi_automated_edits | non_bot_edits | anon_edits | current_bot_edits_count | current_semi_automated_edits_count | current_non_bot_edits_count | ⋯ | five_to_ten_seconds | ten_to_twenty_seconds | twenty_to_one_hundred_seconds | over_one_hundred_seconds | all_edits | under_five_seconds_proportion | five_to_ten_seconds_proportion | ten_to_twenty_proportion | twenty_to_one_hundred_seconds_proportion | over_one_hundred_seconds_proportion | \n",
       "|---|---|---|---|---|---|---|---|---|---|---|---|---|---|---|---|---|---|---|---|---|---|---|---|---|---|---|---|---|---|---|---|---|---|---|---|---|---|---|---|---|---|---|---|---|---|---|---|---|---|---|---|---|---|\n",
       "| 2 | 201212        | 0.8462165     |  0.0866536670 |   183629      |   26104       |  205214       |  2795         |    184329     |    26104      |   469201      | ⋯             |  194857       |  59547        | 165594        |  22567        |   445054      | 0.00559258    | 0.43782777    | 0.13379725    | 0.37207620    | 0.050706206   | \n",
       "| 3 | 201301        | 0.9062631     |  0.0600465527 |  1932349      |   23753       |  170871       |  2216         |   2116678     |    49857      |   640072      | ⋯             |  175164       |  37403        | 105278        |  14021        |  2461064      | 0.86515345    | 0.07117409    | 0.01519790    | 0.04277743    | 0.005697129   | \n",
       "| 4 | 201302        | 0.8983001     | -0.0079629832 |  2285161      |    7616       |  183930       |  2073         |   4401839     |    57473      |   824002      | ⋯             |  382572       | 261319        | 220869        | 117135        |  5121035      | 0.80826239    | 0.07470599    | 0.05102855    | 0.04312976    | 0.022873306   | \n",
       "| 5 | 201303        | 0.9025090     |  0.0042089126 |  2264112      |    5985       |  347630       |  8211         |   6665951     |    63458      |  1171632      | ⋯             |  522664       | 427469        | 251525        | 128767        | 10257339      | 0.87029531    | 0.05095513    | 0.04167445    | 0.02452147    | 0.012553646   | \n",
       "| 6 | 201304        | 0.8964184     | -0.0060905713 |  8067371      |    8131       |  808967       | 31878         |  14733322     |    71589      |  1980599      | ⋯             |  533869       | 189782        | 275344        | 124446        |  5761979      | 0.80502515    | 0.09265376    | 0.03293695    | 0.04778636    | 0.021597788   | \n",
       "| 7 | 201305        | 0.8769229     | -0.0194954899 | 13276100      |       0       |  688847       | 42922         |  28009422     |    71589      |  2669446      | ⋯             |  474989       | 140721        | 108021        |  20737        |  2179801      | 0.65846974    | 0.21790475    | 0.06455681    | 0.04955544    | 0.009513254   | \n",
       "| 8 | 201306        | 0.8388038     | -0.0381190921 | 13948677      |       0       |  833296       | 42439         |  41958099     |    71589      |  3502742      | ⋯             |  205945       | 177873        | 259245        |  60946        |  2669621      | 0.73628878    | 0.07714391    | 0.06662856    | 0.09710929    | 0.022829458   | \n",
       "| 9 | 201307        | 0.8244444     | -0.0143594412 |  3789628      |       0       |  748385       | 55132         |  45747727     |    71589      |  4251127      | ⋯             |  907861       | 285301        | 471498        | 131105        | 10132264      | 0.82276765    | 0.08960100    | 0.02815768    | 0.04653432    | 0.012939359   | \n",
       "| 10 | 201308        | 0.8256896     |  0.0012452362 |  8292060      |       0       |  645678       | 37207         |  54039787     |    71589      |  4896805      | ⋯             |  332906       | 294349        | 367991        | 136368        | 15042513      | 0.92477228    | 0.02213101    | 0.01956781    | 0.02446340    | 0.009065507   | \n",
       "| 11 | 201309        | 0.8254115     | -0.0002781200 |  4028693      |    5048       |  687998       | 38753         |  58068480     |    76637      |  5584803      | ⋯             |  189875       | 230139        | 396945        | 137355        | 12297131      | 0.92239539    | 0.01544059    | 0.01871485    | 0.03227948    | 0.011169679   | \n",
       "| 12 | 201310        | 0.8053949     | -0.0200166201 |  5075148      |   16388       |  676656       | 35375         |  63143628     |    93025      |  6261459      | ⋯             |  285067       | 495693        | 307387        | 127338        |  4655292      | 0.73890252    | 0.06123504    | 0.10647946    | 0.06602959    | 0.027353386   | \n",
       "| 13 | 201311        | 0.7880156     | -0.0173792434 |  8359407      |   15911       |  466877       | 33368         |  71503035     |   108936      |  6728336      | ⋯             |  356463       | 284148        | 335702        | 127908        |  8886007      | 0.87573485    | 0.04011509    | 0.03197702    | 0.03777872    | 0.014394317   | \n",
       "| 14 | 201312        | 0.7777810     | -0.0102346760 |  6546802      |   25155       |  795759       | 34105         |  78049837     |   134091      |  7524095      | ⋯             |  224031       | 191175        | 288087        | 127767        |  4989847      | 0.83344980    | 0.04489737    | 0.03831280    | 0.05773464    | 0.025605394   | \n",
       "| 15 | 201401        | 0.7743517     | -0.0034293020 |  5576195      |   85758       |  664761       | 27072         |  83626032     |   219849      |  8188856      | ⋯             |  218899       |  84521        | 335898        | 125394        |  6547670      | 0.88320853    | 0.03343159    | 0.01290856    | 0.05130039    | 0.019150935   | \n",
       "| 16 | 201402        | 0.7701717     | -0.0041799537 |  8170379      |  119851       |  672378       | 26428         |  91796411     |   339700      |  8861234      | ⋯             |  715910       | 300962        | 364922        | 132519        |  5313703      | 0.71501738    | 0.13472902    | 0.05663884    | 0.06867565    | 0.024939106   | \n",
       "| 17 | 201403        | 0.7603903     | -0.0097813800 |  4989090      |  148882       |  625245       | 32945         |  96785501     |   488582      |  9486479      | ⋯             |  415124       | 302940        | 321324        | 151159        |  7299044      | 0.83689001    | 0.05687375    | 0.04150407    | 0.04402275    | 0.020709424   | \n",
       "| 18 | 201404        | 0.7093746     | -0.0510157745 |  4747388      |  158044       |  499862       | 35156         | 101532889     |   646626      |  9986341      | ⋯             |  290488       | 317137        | 373478        | 157953        |  8287008      | 0.86254919    | 0.03505342    | 0.03826918    | 0.04506789    | 0.019060317   | \n",
       "| 19 | 201405        | 0.7128619     |  0.0034873677 |  4263744      |  438632       |  510879       | 34795         | 105796633     |  1085258      | 10497220      | ⋯             |  141041       | 177243        | 361439        | 144466        |  8903760      | 0.90743360    | 0.01584061    | 0.01990653    | 0.04059397    | 0.016225280   | \n",
       "| 20 | 201406        | 0.6964598     | -0.0164021539 |  9239076      |  979907       |  525297       | 43263         | 115035709     |  2065165      | 11022517      | ⋯             |  147745       | 190072        | 347931        | 132886        |  5956416      | 0.86256266    | 0.02480435    | 0.03191046    | 0.05841281    | 0.022309725   | \n",
       "| 21 | 201407        | 0.6910405     | -0.0054192489 |  4174522      | 1122534       |  506304       | 33564         | 119210231     |  3187699      | 11528821      | ⋯             |  273823       | 386553        | 355103        | 134034        |  4498880      | 0.74448907    | 0.06086470    | 0.08592205    | 0.07893142    | 0.029792748   | \n",
       "| 22 | 201408        | 0.6790128     | -0.0120276997 |  3908321      | 1542138       |  615231       | 37155         | 123118552     |  4729837      | 12144052      | ⋯             |  311029       | 250598        | 361112        | 132163        |  5431902      | 0.80579510    | 0.05725969    | 0.04613448    | 0.06647984    | 0.024330888   | \n",
       "| 23 | 201409        | 0.6425853     | -0.0364275219 |  3313688      | 1131216       |  596404       | 33585         | 126432240     |  5861053      | 12740456      | ⋯             | 1653742       | 320628        | 422567        | 148630        | 11602361      | 0.78059922    | 0.14253495    | 0.02763472    | 0.03642078    | 0.012810324   | \n",
       "| 24 | 201410        | 0.6196022     | -0.0229831481 |  3244385      | 1145370       |  624810       | 41517         | 129676625     |  7006423      | 13365266      | ⋯             |  359469       | 444934        | 473663        | 143918        |  4529477      | 0.68606000    | 0.07936214    | 0.09823077    | 0.10457344    | 0.031773646   | \n",
       "| 25 | 201411        | 0.6049853     | -0.0146168089 |  6345968      | 1393025       |  541998       | 34137         | 136022593     |  8399448      | 13907264      | ⋯             |  438993       | 368258        | 480286        | 148388        |  5617397      | 0.74437894    | 0.07814883    | 0.06555670    | 0.08549974    | 0.026415794   | \n",
       "| 26 | 201412        | 0.5866415     | -0.0183438434 |  6551805      |  895267       |  555824       | 53070         | 142574398     |  9294715      | 14463088      | ⋯             |  808956       | 338436        | 410083        | 148683        |  5177545      | 0.67046969    | 0.15624316    | 0.06536611    | 0.07920414    | 0.028716892   | \n",
       "| 27 | 201501        | 0.5762690     | -0.0103724847 |  4767293      |  809181       |  570956       | 36572         | 147341691     | 10103896      | 15034044      | ⋯             |  273330       | 304976        | 378394        | 158425        |  6298135      | 0.82294362    | 0.04339856    | 0.04842322    | 0.06008033    | 0.025154272   | \n",
       "| 28 | 201502        | 0.5655679     | -0.0107011045 |  4355602      |  950910       |  666729       | 38682         | 151697293     | 11054806      | 15700773      | ⋯             |  312040       | 419113        | 470369        | 192755        |  6152611      | 0.77338450    | 0.05071668    | 0.06811953    | 0.07645031    | 0.031328976   | \n",
       "| 29 | 201503        | 0.5460412     | -0.0195267504 |  3621741      |  856343       |  695072       | 29874         | 155319034     | 11911149      | 16395845      | ⋯             |  573273       | 649094        | 569517        | 211450        | 11112909      | 0.81972911    | 0.05158622    | 0.05840901    | 0.05124824    | 0.019027421   | \n",
       "| 30 | 201504        | 0.5321438     | -0.0138973476 |  4906989      |  920678       |  696687       | 33465         | 160226023     | 12831827      | 17092532      | ⋯             |  568012       | 511494        | 596211        | 203592        |  9705986      | 0.80637629    | 0.05852182    | 0.05269882    | 0.06142714    | 0.020975921   | \n",
       "| 31 | 201505        | 0.5210429     | -0.0111008906 |  2495798      | 1687490       |  635299       | 25878         | 162721821     | 14519317      | 17727831      | ⋯             |  447149       | 346460        | 431440        | 174113        |  5198158      | 0.73083504    | 0.08602066    | 0.06665053    | 0.08299863    | 0.033495134   | \n",
       "| 32 | 201506        | 0.5164983     | -0.0045446150 |  5026410      |  989433       |  647008       | 32595         | 167748231     | 15508750      | 18374839      | ⋯             |  237283       | 409574        | 391754        | 160845        |  5309349      | 0.77408605    | 0.04469154    | 0.07714204    | 0.07378569    | 0.030294675   | \n",
       "| 33 | 201507        | 0.5284056     |  0.0119072841 |  2376972      |  828451       |  760150       | 24184         | 170125203     | 16337201      | 19134989      | ⋯             |  689950       | 392280        | 450559        | 178642        |  6026233      | 0.71600318    | 0.11449109    | 0.06509539    | 0.07476628    | 0.029644058   | \n",
       "| 34 | 201508        | 0.5119938     | -0.0164118156 | 10669860      |  633649       |  740463       | 31662         | 180795063     | 16970850      | 19875452      | ⋯             |  656051       | 358223        | 362589        | 164300        |  4715309      | 0.67315758    | 0.13913213    | 0.07597021    | 0.07689613    | 0.034843952   | \n",
       "| 35 | 201509        | 0.5083907     | -0.0036030632 |  6045863      |  959002       |  732233       | 29454         | 186840926     | 17929852      | 20607685      | ⋯             |  320762       | 271638        | 381517        | 171400        |  6387933      | 0.82070617    | 0.05021374    | 0.04252361    | 0.05972464    | 0.026831841   | \n",
       "| 36 | 201510        | 0.4997726     | -0.0086181523 |  4974810      |  744105       |  708230       | 29215         | 191815736     | 18673957      | 21315915      | ⋯             |  368433       | 345660        | 457447        | 169587        |  3804819      | 0.64751884    | 0.09683325    | 0.09084795    | 0.12022832    | 0.044571634   | \n",
       "| 37 | 201511        | 0.4885873     | -0.0111852937 |  8715522      | 1600533       |  785510       | 47051         | 200531258     | 20274490      | 22101425      | ⋯             |  256398       | 303274        | 443151        | 180506        | 11872882      | 0.90033347    | 0.02159526    | 0.02554342    | 0.03732464    | 0.015203217   | \n",
       "| 38 | 201512        | 0.4832378     | -0.0053494605 |  6908196      | 2138604       |  880429       | 49665         | 207439454     | 22413094      | 22981854      | ⋯             |  268178       | 424125        | 464894        | 188025        |  7662956      | 0.82445130    | 0.03499668    | 0.05534744    | 0.06066771    | 0.024536876   | \n",
       "| 39 | 201601        | 0.4830095     | -0.0002283539 |  4779455      | 2865238       |  762331       | 56706         | 212218909     | 25278332      | 23744185      | ⋯             |  518080       | 444578        | 562291        | 204710        |  8302597      | 0.79167253    | 0.06239975    | 0.05354686    | 0.06772471    | 0.024656141   | \n",
       "| 40 | 201602        | 0.4844902     |  0.0014807863 |  5065078      | 3529393       |  901353       | 44779         | 217283987     | 28807725      | 24645538      | ⋯             |  620981       | 305391        | 565656        | 224336        |  7802901      | 0.78003514    | 0.07958335    | 0.03913814    | 0.07249304    | 0.028750333   | \n",
       "| 41 | 201603        | 0.4945400     |  0.0100497119 |  5160233      | 3039607       |  796742       | 51817         | 222444220     | 31847332      | 25442280      | ⋯             |  577616       | 403975        | 638478        | 231225        |  9701709      | 0.80917857    | 0.05953755    | 0.04163957    | 0.06581088    | 0.023833430   | \n",
       "| 42 | 201604        | 0.4929242     | -0.0016157865 |  3296348      | 2611880       |  862367       | 61779         | 225740568     | 34459212      | 26304647      | ⋯             |  530522       | 407392        | 565829        | 230701        |  5908282      | 0.70643852    | 0.08979294    | 0.06895270    | 0.09576879    | 0.039047053   | \n",
       "| 43 | 201605        | 0.4836949     | -0.0092292472 |  6506231      | 1767218       | 1055868       | 81582         | 232246799     | 36226430      | 27360515      | ⋯             |  608069       | 401881        | 544384        | 232972        | 10651360      | 0.83219927    | 0.05708839    | 0.03773049    | 0.05110934    | 0.021872512   | \n",
       "| 44 | 201606        | 0.4741030     | -0.0095919492 |  8976199      | 1962688       | 1106816       | 34803         | 241222998     | 38189118      | 28467331      | ⋯             |  508692       | 316926        | 551566        | 217959        |  7978530      | 0.80007056    | 0.06375761    | 0.03972235    | 0.06913128    | 0.027318190   | \n",
       "| 45 | 201607        | 0.4728511     | -0.0012519194 |  3268990      | 2711103       |  969551       | 29018         | 244491988     | 40900221      | 29436882      | ⋯             |  850894       | 293835        | 583083        | 233821        |  6633221      | 0.70427142    | 0.12827765    | 0.04429748    | 0.08790345    | 0.035249994   | \n",
       "| 46 | 201608        | 0.4896451     |  0.0167940071 |  4243115      | 1946163       |  976565       | 26142         | 248735103     | 42846384      | 30413447      | ⋯             |  447828       | 336234        | 616417        | 217735        | 10244081      | 0.84203424    | 0.04371578    | 0.03282227    | 0.06017299    | 0.021254713   | \n",
       "| 47 | 201609        | 0.4864085     | -0.0032366075 |  3664996      | 2230161       |  958718       | 53899         | 252400099     | 45076545      | 31372165      | ⋯             |  913589       | 356830        | 624617        | 223533        | 10279633      | 0.79390616    | 0.08887370    | 0.03471233    | 0.06076258    | 0.021745232   | \n",
       "| 48 | 201610        | 0.4873130     |  0.0009045834 |  3088833      | 2951222       |  949816       | 34745         | 255488932     | 48027767      | 32321981      | ⋯             |  652366       | 314068        | 506247        | 210660        |  7220874      | 0.76687850    | 0.09034447    | 0.04349446    | 0.07010883    | 0.029173754   | \n",
       "| 49 | 201611        | 0.4854145     | -0.0018985542 |  6130768      | 3816710       | 1043648       | 39777         | 261619700     | 51844477      | 33365629      | ⋯             |  359009       | 242009        | 637658        | 218309        |  6429992      | 0.77340796    | 0.05583351    | 0.03763753    | 0.09916933    | 0.033951675   | \n",
       "| 50 | 201612        | 0.4846416     | -0.0007728950 |  2795140      | 2262942       |  920984       | 34581         | 264414840     | 54107419      | 34286613      | ⋯             |  561576       | 376335        | 600259        | 229027        |  6758563      | 0.73852474    | 0.08309104    | 0.05568269    | 0.08881459    | 0.033886937   | \n",
       "| 51 | 201701        | 0.4758655     | -0.0087760755 |  2211807      | 3164563       |  982597       | 33846         | 266626647     | 57271982      | 35269210      | ⋯             |  339478       | 365108        | 685328        | 243010        |  6087114      | 0.73174085    | 0.05576994    | 0.05998048    | 0.11258669    | 0.039922039   | \n",
       "| 52 | 201702        | 0.4760932     |  0.0002276582 |  2826225      | 2132890       | 1117906       | 45776         | 269452872     | 59404872      | 36387116      | ⋯             |  350076       | 340814        | 736682        | 275863        |  5806003      | 0.70660797    | 0.06029553    | 0.05870028    | 0.12688281    | 0.047513410   | \n",
       "| 53 | 201703        | 0.4577122     | -0.0183809511 |  7990982      | 3756878       | 1043388       | 52092         | 277443854     | 63161750      | 37430504      | ⋯             |  395184       | 312311        | 711409        | 256852        | 15072219      | 0.88881823    | 0.02621936    | 0.02072097    | 0.04720002    | 0.017041419   | \n",
       "| 54 | 201704        | 0.4572040     | -0.0005082078 |  6926496      | 2746637       | 1088477       | 51092         | 284370350     | 65908387      | 38518981      | ⋯             |  481495       | 273441        | 706639        | 296597        |  8412514      | 0.79100516    | 0.05723557    | 0.03250408    | 0.08399855    | 0.035256643   | \n",
       "| 55 | 201705        | 0.4443325     | -0.0128714966 |  2973306      | 1528125       | 1077361       | 41850         | 287343656     | 67436512      | 39596342      | ⋯             |  503135       | 310276        | 627207        | 300202        |  5045203      | 0.65495541    | 0.09972542    | 0.06149921    | 0.12431750    | 0.059502462   | \n",
       "\n",
       "\n"
      ],
      "text/plain": [
       "   yyyymm aligned_entities difference_in_alignment_with_previous bot_edits\n",
       "2  201212 0.8462165         0.0866536670                           183629 \n",
       "3  201301 0.9062631         0.0600465527                          1932349 \n",
       "4  201302 0.8983001        -0.0079629832                          2285161 \n",
       "5  201303 0.9025090         0.0042089126                          2264112 \n",
       "6  201304 0.8964184        -0.0060905713                          8067371 \n",
       "7  201305 0.8769229        -0.0194954899                         13276100 \n",
       "8  201306 0.8388038        -0.0381190921                         13948677 \n",
       "9  201307 0.8244444        -0.0143594412                          3789628 \n",
       "10 201308 0.8256896         0.0012452362                          8292060 \n",
       "11 201309 0.8254115        -0.0002781200                          4028693 \n",
       "12 201310 0.8053949        -0.0200166201                          5075148 \n",
       "13 201311 0.7880156        -0.0173792434                          8359407 \n",
       "14 201312 0.7777810        -0.0102346760                          6546802 \n",
       "15 201401 0.7743517        -0.0034293020                          5576195 \n",
       "16 201402 0.7701717        -0.0041799537                          8170379 \n",
       "17 201403 0.7603903        -0.0097813800                          4989090 \n",
       "18 201404 0.7093746        -0.0510157745                          4747388 \n",
       "19 201405 0.7128619         0.0034873677                          4263744 \n",
       "20 201406 0.6964598        -0.0164021539                          9239076 \n",
       "21 201407 0.6910405        -0.0054192489                          4174522 \n",
       "22 201408 0.6790128        -0.0120276997                          3908321 \n",
       "23 201409 0.6425853        -0.0364275219                          3313688 \n",
       "24 201410 0.6196022        -0.0229831481                          3244385 \n",
       "25 201411 0.6049853        -0.0146168089                          6345968 \n",
       "26 201412 0.5866415        -0.0183438434                          6551805 \n",
       "27 201501 0.5762690        -0.0103724847                          4767293 \n",
       "28 201502 0.5655679        -0.0107011045                          4355602 \n",
       "29 201503 0.5460412        -0.0195267504                          3621741 \n",
       "30 201504 0.5321438        -0.0138973476                          4906989 \n",
       "31 201505 0.5210429        -0.0111008906                          2495798 \n",
       "32 201506 0.5164983        -0.0045446150                          5026410 \n",
       "33 201507 0.5284056         0.0119072841                          2376972 \n",
       "34 201508 0.5119938        -0.0164118156                         10669860 \n",
       "35 201509 0.5083907        -0.0036030632                          6045863 \n",
       "36 201510 0.4997726        -0.0086181523                          4974810 \n",
       "37 201511 0.4885873        -0.0111852937                          8715522 \n",
       "38 201512 0.4832378        -0.0053494605                          6908196 \n",
       "39 201601 0.4830095        -0.0002283539                          4779455 \n",
       "40 201602 0.4844902         0.0014807863                          5065078 \n",
       "41 201603 0.4945400         0.0100497119                          5160233 \n",
       "42 201604 0.4929242        -0.0016157865                          3296348 \n",
       "43 201605 0.4836949        -0.0092292472                          6506231 \n",
       "44 201606 0.4741030        -0.0095919492                          8976199 \n",
       "45 201607 0.4728511        -0.0012519194                          3268990 \n",
       "46 201608 0.4896451         0.0167940071                          4243115 \n",
       "47 201609 0.4864085        -0.0032366075                          3664996 \n",
       "48 201610 0.4873130         0.0009045834                          3088833 \n",
       "49 201611 0.4854145        -0.0018985542                          6130768 \n",
       "50 201612 0.4846416        -0.0007728950                          2795140 \n",
       "51 201701 0.4758655        -0.0087760755                          2211807 \n",
       "52 201702 0.4760932         0.0002276582                          2826225 \n",
       "53 201703 0.4577122        -0.0183809511                          7990982 \n",
       "54 201704 0.4572040        -0.0005082078                          6926496 \n",
       "55 201705 0.4443325        -0.0128714966                          2973306 \n",
       "   semi_automated_edits non_bot_edits anon_edits current_bot_edits_count\n",
       "2    26104               205214        2795         184329              \n",
       "3    23753               170871        2216        2116678              \n",
       "4     7616               183930        2073        4401839              \n",
       "5     5985               347630        8211        6665951              \n",
       "6     8131               808967       31878       14733322              \n",
       "7        0               688847       42922       28009422              \n",
       "8        0               833296       42439       41958099              \n",
       "9        0               748385       55132       45747727              \n",
       "10       0               645678       37207       54039787              \n",
       "11    5048               687998       38753       58068480              \n",
       "12   16388               676656       35375       63143628              \n",
       "13   15911               466877       33368       71503035              \n",
       "14   25155               795759       34105       78049837              \n",
       "15   85758               664761       27072       83626032              \n",
       "16  119851               672378       26428       91796411              \n",
       "17  148882               625245       32945       96785501              \n",
       "18  158044               499862       35156      101532889              \n",
       "19  438632               510879       34795      105796633              \n",
       "20  979907               525297       43263      115035709              \n",
       "21 1122534               506304       33564      119210231              \n",
       "22 1542138               615231       37155      123118552              \n",
       "23 1131216               596404       33585      126432240              \n",
       "24 1145370               624810       41517      129676625              \n",
       "25 1393025               541998       34137      136022593              \n",
       "26  895267               555824       53070      142574398              \n",
       "27  809181               570956       36572      147341691              \n",
       "28  950910               666729       38682      151697293              \n",
       "29  856343               695072       29874      155319034              \n",
       "30  920678               696687       33465      160226023              \n",
       "31 1687490               635299       25878      162721821              \n",
       "32  989433               647008       32595      167748231              \n",
       "33  828451               760150       24184      170125203              \n",
       "34  633649               740463       31662      180795063              \n",
       "35  959002               732233       29454      186840926              \n",
       "36  744105               708230       29215      191815736              \n",
       "37 1600533               785510       47051      200531258              \n",
       "38 2138604               880429       49665      207439454              \n",
       "39 2865238               762331       56706      212218909              \n",
       "40 3529393               901353       44779      217283987              \n",
       "41 3039607               796742       51817      222444220              \n",
       "42 2611880               862367       61779      225740568              \n",
       "43 1767218              1055868       81582      232246799              \n",
       "44 1962688              1106816       34803      241222998              \n",
       "45 2711103               969551       29018      244491988              \n",
       "46 1946163               976565       26142      248735103              \n",
       "47 2230161               958718       53899      252400099              \n",
       "48 2951222               949816       34745      255488932              \n",
       "49 3816710              1043648       39777      261619700              \n",
       "50 2262942               920984       34581      264414840              \n",
       "51 3164563               982597       33846      266626647              \n",
       "52 2132890              1117906       45776      269452872              \n",
       "53 3756878              1043388       52092      277443854              \n",
       "54 2746637              1088477       51092      284370350              \n",
       "55 1528125              1077361       41850      287343656              \n",
       "   current_semi_automated_edits_count current_non_bot_edits_count ⋯\n",
       "2     26104                             469201                    ⋯\n",
       "3     49857                             640072                    ⋯\n",
       "4     57473                             824002                    ⋯\n",
       "5     63458                            1171632                    ⋯\n",
       "6     71589                            1980599                    ⋯\n",
       "7     71589                            2669446                    ⋯\n",
       "8     71589                            3502742                    ⋯\n",
       "9     71589                            4251127                    ⋯\n",
       "10    71589                            4896805                    ⋯\n",
       "11    76637                            5584803                    ⋯\n",
       "12    93025                            6261459                    ⋯\n",
       "13   108936                            6728336                    ⋯\n",
       "14   134091                            7524095                    ⋯\n",
       "15   219849                            8188856                    ⋯\n",
       "16   339700                            8861234                    ⋯\n",
       "17   488582                            9486479                    ⋯\n",
       "18   646626                            9986341                    ⋯\n",
       "19  1085258                           10497220                    ⋯\n",
       "20  2065165                           11022517                    ⋯\n",
       "21  3187699                           11528821                    ⋯\n",
       "22  4729837                           12144052                    ⋯\n",
       "23  5861053                           12740456                    ⋯\n",
       "24  7006423                           13365266                    ⋯\n",
       "25  8399448                           13907264                    ⋯\n",
       "26  9294715                           14463088                    ⋯\n",
       "27 10103896                           15034044                    ⋯\n",
       "28 11054806                           15700773                    ⋯\n",
       "29 11911149                           16395845                    ⋯\n",
       "30 12831827                           17092532                    ⋯\n",
       "31 14519317                           17727831                    ⋯\n",
       "32 15508750                           18374839                    ⋯\n",
       "33 16337201                           19134989                    ⋯\n",
       "34 16970850                           19875452                    ⋯\n",
       "35 17929852                           20607685                    ⋯\n",
       "36 18673957                           21315915                    ⋯\n",
       "37 20274490                           22101425                    ⋯\n",
       "38 22413094                           22981854                    ⋯\n",
       "39 25278332                           23744185                    ⋯\n",
       "40 28807725                           24645538                    ⋯\n",
       "41 31847332                           25442280                    ⋯\n",
       "42 34459212                           26304647                    ⋯\n",
       "43 36226430                           27360515                    ⋯\n",
       "44 38189118                           28467331                    ⋯\n",
       "45 40900221                           29436882                    ⋯\n",
       "46 42846384                           30413447                    ⋯\n",
       "47 45076545                           31372165                    ⋯\n",
       "48 48027767                           32321981                    ⋯\n",
       "49 51844477                           33365629                    ⋯\n",
       "50 54107419                           34286613                    ⋯\n",
       "51 57271982                           35269210                    ⋯\n",
       "52 59404872                           36387116                    ⋯\n",
       "53 63161750                           37430504                    ⋯\n",
       "54 65908387                           38518981                    ⋯\n",
       "55 67436512                           39596342                    ⋯\n",
       "   five_to_ten_seconds ten_to_twenty_seconds twenty_to_one_hundred_seconds\n",
       "2   194857              59547                165594                       \n",
       "3   175164              37403                105278                       \n",
       "4   382572             261319                220869                       \n",
       "5   522664             427469                251525                       \n",
       "6   533869             189782                275344                       \n",
       "7   474989             140721                108021                       \n",
       "8   205945             177873                259245                       \n",
       "9   907861             285301                471498                       \n",
       "10  332906             294349                367991                       \n",
       "11  189875             230139                396945                       \n",
       "12  285067             495693                307387                       \n",
       "13  356463             284148                335702                       \n",
       "14  224031             191175                288087                       \n",
       "15  218899              84521                335898                       \n",
       "16  715910             300962                364922                       \n",
       "17  415124             302940                321324                       \n",
       "18  290488             317137                373478                       \n",
       "19  141041             177243                361439                       \n",
       "20  147745             190072                347931                       \n",
       "21  273823             386553                355103                       \n",
       "22  311029             250598                361112                       \n",
       "23 1653742             320628                422567                       \n",
       "24  359469             444934                473663                       \n",
       "25  438993             368258                480286                       \n",
       "26  808956             338436                410083                       \n",
       "27  273330             304976                378394                       \n",
       "28  312040             419113                470369                       \n",
       "29  573273             649094                569517                       \n",
       "30  568012             511494                596211                       \n",
       "31  447149             346460                431440                       \n",
       "32  237283             409574                391754                       \n",
       "33  689950             392280                450559                       \n",
       "34  656051             358223                362589                       \n",
       "35  320762             271638                381517                       \n",
       "36  368433             345660                457447                       \n",
       "37  256398             303274                443151                       \n",
       "38  268178             424125                464894                       \n",
       "39  518080             444578                562291                       \n",
       "40  620981             305391                565656                       \n",
       "41  577616             403975                638478                       \n",
       "42  530522             407392                565829                       \n",
       "43  608069             401881                544384                       \n",
       "44  508692             316926                551566                       \n",
       "45  850894             293835                583083                       \n",
       "46  447828             336234                616417                       \n",
       "47  913589             356830                624617                       \n",
       "48  652366             314068                506247                       \n",
       "49  359009             242009                637658                       \n",
       "50  561576             376335                600259                       \n",
       "51  339478             365108                685328                       \n",
       "52  350076             340814                736682                       \n",
       "53  395184             312311                711409                       \n",
       "54  481495             273441                706639                       \n",
       "55  503135             310276                627207                       \n",
       "   over_one_hundred_seconds all_edits under_five_seconds_proportion\n",
       "2   22567                     445054  0.00559258                   \n",
       "3   14021                    2461064  0.86515345                   \n",
       "4  117135                    5121035  0.80826239                   \n",
       "5  128767                   10257339  0.87029531                   \n",
       "6  124446                    5761979  0.80502515                   \n",
       "7   20737                    2179801  0.65846974                   \n",
       "8   60946                    2669621  0.73628878                   \n",
       "9  131105                   10132264  0.82276765                   \n",
       "10 136368                   15042513  0.92477228                   \n",
       "11 137355                   12297131  0.92239539                   \n",
       "12 127338                    4655292  0.73890252                   \n",
       "13 127908                    8886007  0.87573485                   \n",
       "14 127767                    4989847  0.83344980                   \n",
       "15 125394                    6547670  0.88320853                   \n",
       "16 132519                    5313703  0.71501738                   \n",
       "17 151159                    7299044  0.83689001                   \n",
       "18 157953                    8287008  0.86254919                   \n",
       "19 144466                    8903760  0.90743360                   \n",
       "20 132886                    5956416  0.86256266                   \n",
       "21 134034                    4498880  0.74448907                   \n",
       "22 132163                    5431902  0.80579510                   \n",
       "23 148630                   11602361  0.78059922                   \n",
       "24 143918                    4529477  0.68606000                   \n",
       "25 148388                    5617397  0.74437894                   \n",
       "26 148683                    5177545  0.67046969                   \n",
       "27 158425                    6298135  0.82294362                   \n",
       "28 192755                    6152611  0.77338450                   \n",
       "29 211450                   11112909  0.81972911                   \n",
       "30 203592                    9705986  0.80637629                   \n",
       "31 174113                    5198158  0.73083504                   \n",
       "32 160845                    5309349  0.77408605                   \n",
       "33 178642                    6026233  0.71600318                   \n",
       "34 164300                    4715309  0.67315758                   \n",
       "35 171400                    6387933  0.82070617                   \n",
       "36 169587                    3804819  0.64751884                   \n",
       "37 180506                   11872882  0.90033347                   \n",
       "38 188025                    7662956  0.82445130                   \n",
       "39 204710                    8302597  0.79167253                   \n",
       "40 224336                    7802901  0.78003514                   \n",
       "41 231225                    9701709  0.80917857                   \n",
       "42 230701                    5908282  0.70643852                   \n",
       "43 232972                   10651360  0.83219927                   \n",
       "44 217959                    7978530  0.80007056                   \n",
       "45 233821                    6633221  0.70427142                   \n",
       "46 217735                   10244081  0.84203424                   \n",
       "47 223533                   10279633  0.79390616                   \n",
       "48 210660                    7220874  0.76687850                   \n",
       "49 218309                    6429992  0.77340796                   \n",
       "50 229027                    6758563  0.73852474                   \n",
       "51 243010                    6087114  0.73174085                   \n",
       "52 275863                    5806003  0.70660797                   \n",
       "53 256852                   15072219  0.88881823                   \n",
       "54 296597                    8412514  0.79100516                   \n",
       "55 300202                    5045203  0.65495541                   \n",
       "   five_to_ten_seconds_proportion ten_to_twenty_proportion\n",
       "2  0.43782777                     0.13379725              \n",
       "3  0.07117409                     0.01519790              \n",
       "4  0.07470599                     0.05102855              \n",
       "5  0.05095513                     0.04167445              \n",
       "6  0.09265376                     0.03293695              \n",
       "7  0.21790475                     0.06455681              \n",
       "8  0.07714391                     0.06662856              \n",
       "9  0.08960100                     0.02815768              \n",
       "10 0.02213101                     0.01956781              \n",
       "11 0.01544059                     0.01871485              \n",
       "12 0.06123504                     0.10647946              \n",
       "13 0.04011509                     0.03197702              \n",
       "14 0.04489737                     0.03831280              \n",
       "15 0.03343159                     0.01290856              \n",
       "16 0.13472902                     0.05663884              \n",
       "17 0.05687375                     0.04150407              \n",
       "18 0.03505342                     0.03826918              \n",
       "19 0.01584061                     0.01990653              \n",
       "20 0.02480435                     0.03191046              \n",
       "21 0.06086470                     0.08592205              \n",
       "22 0.05725969                     0.04613448              \n",
       "23 0.14253495                     0.02763472              \n",
       "24 0.07936214                     0.09823077              \n",
       "25 0.07814883                     0.06555670              \n",
       "26 0.15624316                     0.06536611              \n",
       "27 0.04339856                     0.04842322              \n",
       "28 0.05071668                     0.06811953              \n",
       "29 0.05158622                     0.05840901              \n",
       "30 0.05852182                     0.05269882              \n",
       "31 0.08602066                     0.06665053              \n",
       "32 0.04469154                     0.07714204              \n",
       "33 0.11449109                     0.06509539              \n",
       "34 0.13913213                     0.07597021              \n",
       "35 0.05021374                     0.04252361              \n",
       "36 0.09683325                     0.09084795              \n",
       "37 0.02159526                     0.02554342              \n",
       "38 0.03499668                     0.05534744              \n",
       "39 0.06239975                     0.05354686              \n",
       "40 0.07958335                     0.03913814              \n",
       "41 0.05953755                     0.04163957              \n",
       "42 0.08979294                     0.06895270              \n",
       "43 0.05708839                     0.03773049              \n",
       "44 0.06375761                     0.03972235              \n",
       "45 0.12827765                     0.04429748              \n",
       "46 0.04371578                     0.03282227              \n",
       "47 0.08887370                     0.03471233              \n",
       "48 0.09034447                     0.04349446              \n",
       "49 0.05583351                     0.03763753              \n",
       "50 0.08309104                     0.05568269              \n",
       "51 0.05576994                     0.05998048              \n",
       "52 0.06029553                     0.05870028              \n",
       "53 0.02621936                     0.02072097              \n",
       "54 0.05723557                     0.03250408              \n",
       "55 0.09972542                     0.06149921              \n",
       "   twenty_to_one_hundred_seconds_proportion over_one_hundred_seconds_proportion\n",
       "2  0.37207620                               0.050706206                        \n",
       "3  0.04277743                               0.005697129                        \n",
       "4  0.04312976                               0.022873306                        \n",
       "5  0.02452147                               0.012553646                        \n",
       "6  0.04778636                               0.021597788                        \n",
       "7  0.04955544                               0.009513254                        \n",
       "8  0.09710929                               0.022829458                        \n",
       "9  0.04653432                               0.012939359                        \n",
       "10 0.02446340                               0.009065507                        \n",
       "11 0.03227948                               0.011169679                        \n",
       "12 0.06602959                               0.027353386                        \n",
       "13 0.03777872                               0.014394317                        \n",
       "14 0.05773464                               0.025605394                        \n",
       "15 0.05130039                               0.019150935                        \n",
       "16 0.06867565                               0.024939106                        \n",
       "17 0.04402275                               0.020709424                        \n",
       "18 0.04506789                               0.019060317                        \n",
       "19 0.04059397                               0.016225280                        \n",
       "20 0.05841281                               0.022309725                        \n",
       "21 0.07893142                               0.029792748                        \n",
       "22 0.06647984                               0.024330888                        \n",
       "23 0.03642078                               0.012810324                        \n",
       "24 0.10457344                               0.031773646                        \n",
       "25 0.08549974                               0.026415794                        \n",
       "26 0.07920414                               0.028716892                        \n",
       "27 0.06008033                               0.025154272                        \n",
       "28 0.07645031                               0.031328976                        \n",
       "29 0.05124824                               0.019027421                        \n",
       "30 0.06142714                               0.020975921                        \n",
       "31 0.08299863                               0.033495134                        \n",
       "32 0.07378569                               0.030294675                        \n",
       "33 0.07476628                               0.029644058                        \n",
       "34 0.07689613                               0.034843952                        \n",
       "35 0.05972464                               0.026831841                        \n",
       "36 0.12022832                               0.044571634                        \n",
       "37 0.03732464                               0.015203217                        \n",
       "38 0.06066771                               0.024536876                        \n",
       "39 0.06772471                               0.024656141                        \n",
       "40 0.07249304                               0.028750333                        \n",
       "41 0.06581088                               0.023833430                        \n",
       "42 0.09576879                               0.039047053                        \n",
       "43 0.05110934                               0.021872512                        \n",
       "44 0.06913128                               0.027318190                        \n",
       "45 0.08790345                               0.035249994                        \n",
       "46 0.06017299                               0.021254713                        \n",
       "47 0.06076258                               0.021745232                        \n",
       "48 0.07010883                               0.029173754                        \n",
       "49 0.09916933                               0.033951675                        \n",
       "50 0.08881459                               0.033886937                        \n",
       "51 0.11258669                               0.039922039                        \n",
       "52 0.12688281                               0.047513410                        \n",
       "53 0.04720002                               0.017041419                        \n",
       "54 0.08399855                               0.035256643                        \n",
       "55 0.12431750                               0.059502462                        "
      ]
     },
     "metadata": {},
     "output_type": "display_data"
    }
   ],
   "source": [
    "head(first_month_trimmed_longitudinal_misalignment, n=60)"
   ]
  },
  {
   "cell_type": "code",
   "execution_count": 24,
   "metadata": {
    "collapsed": true
   },
   "outputs": [],
   "source": [
    "detach(first_month_trimmed_longitudinal_misalignment)\n",
    "attach(first_month_trimmed_longitudinal_misalignment)"
   ]
  },
  {
   "cell_type": "code",
   "execution_count": 25,
   "metadata": {
    "collapsed": false
   },
   "outputs": [],
   "source": [
    "edit_type_regression <- lm(difference_in_alignment_with_previous ~ scale(bot_edits) + \n",
    "                                                                   scale(semi_automated_edits) + \n",
    "                                                                   scale(non_bot_edits) + \n",
    "                                                                   scale(anon_edits)\n",
    "                           + \n",
    "#                                                                    scale(under_five_seconds_proportion) +\n",
    "                                                                   scale(five_to_ten_seconds_proportion) \n",
    "#                                                                    scale(ten_to_twenty_proportion) +\n",
    "#                                                                    scale(twenty_to_one_hundred_seconds_proportion) +\n",
    "#                                                                    scale(over_one_hundred_seconds_proportion)\n",
    "                          )"
   ]
  },
  {
   "cell_type": "code",
   "execution_count": 26,
   "metadata": {
    "collapsed": false
   },
   "outputs": [
    {
     "data": {
      "text/plain": [
       "\n",
       "Call:\n",
       "lm(formula = difference_in_alignment_with_previous ~ scale(bot_edits) + \n",
       "    scale(semi_automated_edits) + scale(non_bot_edits) + scale(anon_edits) + \n",
       "    scale(five_to_ten_seconds_proportion))\n",
       "\n",
       "Residuals:\n",
       "      Min        1Q    Median        3Q       Max \n",
       "-0.043257 -0.008450 -0.000201  0.006206  0.047658 \n",
       "\n",
       "Coefficients:\n",
       "                                       Estimate Std. Error t value Pr(>|t|)   \n",
       "(Intercept)                           -0.005838   0.002145  -2.722  0.00902 **\n",
       "scale(bot_edits)                      -0.004873   0.002522  -1.932  0.05922 . \n",
       "scale(semi_automated_edits)            0.004319   0.003234   1.336  0.18791   \n",
       "scale(non_bot_edits)                  -0.001345   0.003454  -0.389  0.69875   \n",
       "scale(anon_edits)                     -0.005814   0.002948  -1.972  0.05434 . \n",
       "scale(five_to_ten_seconds_proportion)  0.007216   0.002260   3.193  0.00249 **\n",
       "---\n",
       "Signif. codes:  0 ‘***’ 0.001 ‘**’ 0.01 ‘*’ 0.05 ‘.’ 0.1 ‘ ’ 1\n",
       "\n",
       "Residual standard error: 0.01576 on 48 degrees of freedom\n",
       "Multiple R-squared:  0.4208,\tAdjusted R-squared:  0.3604 \n",
       "F-statistic: 6.974 on 5 and 48 DF,  p-value: 5.745e-05\n"
      ]
     },
     "metadata": {},
     "output_type": "display_data"
    }
   ],
   "source": [
    "summary(edit_type_regression)"
   ]
  },
  {
   "cell_type": "code",
   "execution_count": null,
   "metadata": {
    "collapsed": false
   },
   "outputs": [],
   "source": [
    "summary(lm(bot_edits ~          \n",
    "                       scale(semi_automated_edits) + \n",
    "                       scale(non_bot_edits) + \n",
    "                       scale(anon_edits) + \n",
    "                       scale(under_five_seconds) +\n",
    "                       scale(five_to_ten_seconds) +\n",
    "                       scale(ten_to_twenty_seconds) +\n",
    "                       scale(twenty_to_one_hundred_seconds) +\n",
    "                       scale(over_one_hundred_seconds))\n",
    ")\n",
    "\n",
    "#VIF is 1.37"
   ]
  },
  {
   "cell_type": "code",
   "execution_count": null,
   "metadata": {
    "collapsed": false
   },
   "outputs": [],
   "source": [
    "summary(lm(semi_automated_edits ~ scale(bot_edits) +\n",
    "                                  scale(non_bot_edits) + \n",
    "                                  scale(anon_edits) + \n",
    "                                  scale(under_five_seconds) +\n",
    "                                  scale(five_to_ten_seconds) +\n",
    "                                  scale(ten_to_twenty_seconds) +\n",
    "                                  scale(twenty_to_one_hundred_seconds) +\n",
    "                                  scale(over_one_hundred_seconds))\n",
    ")\n",
    "\n",
    "#Vif is 2.22"
   ]
  },
  {
   "cell_type": "code",
   "execution_count": null,
   "metadata": {
    "collapsed": false
   },
   "outputs": [],
   "source": [
    "summary(lm(non_bot_edits ~ scale(bot_edits) +\n",
    "                           scale(semi_automated_edits) + \n",
    "                           scale(anon_edits) + \n",
    "                           scale(under_five_seconds) +\n",
    "                           scale(five_to_ten_seconds) +\n",
    "                           scale(ten_to_twenty_seconds) +\n",
    "                           scale(twenty_to_one_hundred_seconds) +\n",
    "                           scale(over_one_hundred_seconds))\n",
    ")\n",
    "\n",
    "#vif is 2.83"
   ]
  },
  {
   "cell_type": "code",
   "execution_count": null,
   "metadata": {
    "collapsed": false
   },
   "outputs": [],
   "source": [
    "summary(lm(anon_edits ~ scale(bot_edits) +\n",
    "                        scale(semi_automated_edits) + \n",
    "                        scale(non_bot_edits) +  \n",
    "                        scale(under_five_seconds) +\n",
    "                        scale(five_to_ten_seconds) +\n",
    "                        scale(ten_to_twenty_seconds) +\n",
    "                        scale(twenty_to_one_hundred_seconds) +\n",
    "                        scale(over_one_hundred_seconds))\n",
    ")\n",
    "\n",
    "#Vif is 1.31"
   ]
  },
  {
   "cell_type": "code",
   "execution_count": null,
   "metadata": {
    "collapsed": false
   },
   "outputs": [],
   "source": [
    "summary(lm(under_five_seconds ~ scale(bot_edits) +\n",
    "                                scale(semi_automated_edits) + \n",
    "                                scale(non_bot_edits) + \n",
    "                                scale(anon_edits) + \n",
    "                                scale(five_to_ten_seconds) +\n",
    "                                scale(ten_to_twenty_seconds) +\n",
    "                                scale(twenty_to_one_hundred_seconds) +\n",
    "                                scale(over_one_hundred_seconds))\n",
    ")\n",
    "\n",
    "#Vif is 1.05"
   ]
  },
  {
   "cell_type": "code",
   "execution_count": null,
   "metadata": {
    "collapsed": false
   },
   "outputs": [],
   "source": [
    "summary(lm(five_to_ten_seconds ~ scale(bot_edits) +\n",
    "                                 scale(semi_automated_edits) + \n",
    "                                 scale(non_bot_edits) + \n",
    "                                 scale(anon_edits) + \n",
    "                                 scale(under_five_seconds) +\n",
    "                                 scale(ten_to_twenty_seconds) +\n",
    "                                 scale(twenty_to_one_hundred_seconds) +\n",
    "                                 scale(over_one_hundred_seconds))\n",
    ")\n",
    "\n",
    "#Vif is 1.02"
   ]
  },
  {
   "cell_type": "code",
   "execution_count": null,
   "metadata": {
    "collapsed": false
   },
   "outputs": [],
   "source": [
    "summary(lm(ten_to_twenty_seconds ~ scale(bot_edits) +\n",
    "                                   scale(semi_automated_edits) + \n",
    "                                   scale(non_bot_edits) + \n",
    "                                   scale(anon_edits) + \n",
    "                                   scale(under_five_seconds) +\n",
    "                                   scale(five_to_ten_seconds) +\n",
    "                                   scale(twenty_to_one_hundred_seconds) +\n",
    "                                   scale(over_one_hundred_seconds))\n",
    ")\n",
    "\n",
    "#vif is 1.22"
   ]
  },
  {
   "cell_type": "code",
   "execution_count": null,
   "metadata": {
    "collapsed": false
   },
   "outputs": [],
   "source": [
    "summary(lm(twenty_to_one_hundred_seconds ~ scale(bot_edits) +\n",
    "                                           scale(semi_automated_edits) + \n",
    "                                           scale(non_bot_edits) + \n",
    "                                           scale(anon_edits) + \n",
    "                                           scale(under_five_seconds) +\n",
    "                                           scale(five_to_ten_seconds) +\n",
    "                                           scale(ten_to_twenty_seconds) +\n",
    "                                           scale(over_one_hundred_seconds))\n",
    ")\n",
    "\n",
    "#vif is 7.33"
   ]
  },
  {
   "cell_type": "code",
   "execution_count": null,
   "metadata": {
    "collapsed": false
   },
   "outputs": [],
   "source": [
    "summary(lm(over_one_hundred_seconds ~ scale(bot_edits) +\n",
    "                                      scale(semi_automated_edits) + \n",
    "                                      scale(non_bot_edits) + \n",
    "                                      scale(anon_edits) + \n",
    "                                      scale(under_five_seconds) +\n",
    "                                      scale(five_to_ten_seconds) +\n",
    "                                      scale(ten_to_twenty_seconds) +\n",
    "                                      scale(twenty_to_one_hundred_seconds))\n",
    ")\n",
    "\n",
    "# vif is 5.28"
   ]
  },
  {
   "cell_type": "code",
   "execution_count": null,
   "metadata": {
    "collapsed": false
   },
   "outputs": [],
   "source": []
  },
  {
   "cell_type": "code",
   "execution_count": null,
   "metadata": {
    "collapsed": false
   },
   "outputs": [],
   "source": [
    "independent_and_dependent_variables = data.table(bot_edits = bot_edits, semi_automated_edits = semi_automated_edits, non_bot_edits = non_bot_edits, anon_edits = anon_edits, difference_in_alignment_with_previous = difference_in_alignment_with_previous, under_five_seconds = under_five_seconds, five_to_ten_seconds_proportion = five_to_ten_seconds_proportion, ten_to_twenty_proportion = ten_to_twenty_proportion, twenty_to_one_hundred_seconds_proportion = twenty_to_one_hundred_seconds_proportion, over_one_hundred_seconds_proportion = over_one_hundred_seconds_proportion)"
   ]
  },
  {
   "cell_type": "code",
   "execution_count": null,
   "metadata": {
    "collapsed": true
   },
   "outputs": [],
   "source": [
    "edit_type_regression_without_anon <- lm(difference_in_alignment_with_previous ~ scale(bot_edits) + scale(semi_automated_edits) + scale(non_bot_edits))"
   ]
  },
  {
   "cell_type": "code",
   "execution_count": null,
   "metadata": {
    "collapsed": false
   },
   "outputs": [],
   "source": [
    "anon_residuals = data.frame(month=as.Date(paste(yyyymm, \"01\", sep=\"\"), format=\"%Y%m%d\"), anon_edits = anon_edits, residuals= edit_type_regression_without_anon$residuals)"
   ]
  },
  {
   "cell_type": "code",
   "execution_count": null,
   "metadata": {
    "collapsed": false
   },
   "outputs": [],
   "source": [
    "summary(anon_residuals)"
   ]
  },
  {
   "cell_type": "code",
   "execution_count": null,
   "metadata": {
    "collapsed": false
   },
   "outputs": [],
   "source": [
    "ggplot(anon_residuals, aes(x=month, y=scale(residuals))) + geom_bar(stat=\"identity\") + geom_line(aes(y=scale(anon_edits)))"
   ]
  },
  {
   "cell_type": "code",
   "execution_count": null,
   "metadata": {
    "collapsed": false
   },
   "outputs": [],
   "source": [
    "hist(scale(anon_residuals$residuals)- scale(anon_residuals$anon_edits))"
   ]
  },
  {
   "cell_type": "code",
   "execution_count": null,
   "metadata": {
    "collapsed": false
   },
   "outputs": [],
   "source": [
    "plot(scale(anon_residuals$residuals), scale(anon_residuals$anon_edits))"
   ]
  },
  {
   "cell_type": "code",
   "execution_count": null,
   "metadata": {
    "collapsed": false,
    "scrolled": false
   },
   "outputs": [],
   "source": [
    "cor(independent_and_dependent_variables, method=\"spearman\")"
   ]
  },
  {
   "cell_type": "code",
   "execution_count": null,
   "metadata": {
    "collapsed": false
   },
   "outputs": [],
   "source": [
    "VIF(edit_type_regression)"
   ]
  },
  {
   "cell_type": "code",
   "execution_count": null,
   "metadata": {
    "collapsed": false
   },
   "outputs": [],
   "source": [
    "qqnorm(edit_type_regression$residuals)"
   ]
  },
  {
   "cell_type": "code",
   "execution_count": null,
   "metadata": {
    "collapsed": true
   },
   "outputs": [],
   "source": []
  },
  {
   "cell_type": "code",
   "execution_count": null,
   "metadata": {
    "collapsed": true
   },
   "outputs": [],
   "source": []
  },
  {
   "cell_type": "code",
   "execution_count": null,
   "metadata": {
    "collapsed": true
   },
   "outputs": [],
   "source": []
  },
  {
   "cell_type": "code",
   "execution_count": null,
   "metadata": {
    "collapsed": false
   },
   "outputs": [],
   "source": [
    "names(edit_type_regression)"
   ]
  }
 ],
 "metadata": {
  "anaconda-cloud": {},
  "kernelspec": {
   "display_name": "R [r]",
   "language": "R",
   "name": "R [r]"
  },
  "language_info": {
   "codemirror_mode": "r",
   "file_extension": ".r",
   "mimetype": "text/x-r-source",
   "name": "R",
   "pygments_lexer": "r",
   "version": "3.3.2"
  }
 },
 "nbformat": 4,
 "nbformat_minor": 0
}
