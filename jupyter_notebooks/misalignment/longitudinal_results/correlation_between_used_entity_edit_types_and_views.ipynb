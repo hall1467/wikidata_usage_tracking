{
 "cells": [
  {
   "cell_type": "code",
   "execution_count": 19,
   "metadata": {
    "collapsed": false
   },
   "outputs": [
    {
     "name": "stderr",
     "output_type": "stream",
     "text": [
      "\n",
      "Attaching package: ‘dplyr’\n",
      "\n",
      "The following objects are masked from ‘package:stats’:\n",
      "\n",
      "    filter, lag\n",
      "\n",
      "The following objects are masked from ‘package:base’:\n",
      "\n",
      "    intersect, setdiff, setequal, union\n",
      "\n"
     ]
    }
   ],
   "source": [
    "library(dplyr)"
   ]
  },
  {
   "cell_type": "code",
   "execution_count": 1,
   "metadata": {
    "collapsed": true
   },
   "outputs": [],
   "source": [
    "used_entity_edit_types_and_views <- read.table(\"../../../results/sql_queries/wikidata_page_revisions_with_timestamp_editors/entity_edit_type_and_views.tsv\", header=TRUE, sep=\"\\t\")"
   ]
  },
  {
   "cell_type": "code",
   "execution_count": null,
   "metadata": {
    "collapsed": false
   },
   "outputs": [],
   "source": [
    "colnames(used_entity_edit_types_and_views) <- c('entity_id','bot_edits', 'semi_automated_edits', 'human_edits', 'anon_edits', 'all_edits', 'page_views')"
   ]
  },
  {
   "cell_type": "code",
   "execution_count": 8,
   "metadata": {
    "collapsed": false
   },
   "outputs": [
    {
     "data": {
      "text/plain": [
       "   entity_id          bot_edits       semi_automated_edits  human_edits       \n",
       " P10    :       1   Min.   :   0.00   Min.   :   0.00      Min.   :    0.000  \n",
       " P1000  :       1   1st Qu.:   3.00   1st Qu.:   0.00      1st Qu.:    0.000  \n",
       " P1001  :       1   Median :   8.00   Median :   1.00      Median :    0.000  \n",
       " P1002  :       1   Mean   :  12.95   Mean   :   3.04      Mean   :    1.817  \n",
       " P1003  :       1   3rd Qu.:  18.00   3rd Qu.:   4.00      3rd Qu.:    1.000  \n",
       " P1004  :       1   Max.   :4165.00   Max.   :6439.00      Max.   :13600.000  \n",
       " (Other):22229590                                                             \n",
       "   anon_edits         all_edits              NA           \n",
       " Min.   :   0.000   Min.   :    1.00   Min.   :0.000e+00  \n",
       " 1st Qu.:   0.000   1st Qu.:    6.00   1st Qu.:1.300e+01  \n",
       " Median :   0.000   Median :   13.00   Median :1.360e+02  \n",
       " Mean   :   0.071   Mean   :   17.88   Mean   :3.000e+04  \n",
       " 3rd Qu.:   0.000   3rd Qu.:   23.00   3rd Qu.:9.980e+02  \n",
       " Max.   :6094.000   Max.   :21863.00   Max.   :1.253e+10  \n",
       "                                                          "
      ]
     },
     "metadata": {},
     "output_type": "display_data"
    }
   ],
   "source": [
    "summary(used_entity_edit_types_and_views)"
   ]
  },
  {
   "cell_type": "code",
   "execution_count": 23,
   "metadata": {
    "collapsed": false
   },
   "outputs": [
    {
     "data": {
      "text/html": [
       "0.0593649614434352"
      ],
      "text/latex": [
       "0.0593649614434352"
      ],
      "text/markdown": [
       "0.0593649614434352"
      ],
      "text/plain": [
       "[1] 0.05936496"
      ]
     },
     "metadata": {},
     "output_type": "display_data"
    }
   ],
   "source": [
    "cor(used_entity_edit_types_and_views$bot_edits, used_entity_edit_types_and_views$page_views, method=\"spearman\")"
   ]
  },
  {
   "cell_type": "code",
   "execution_count": 24,
   "metadata": {
    "collapsed": false
   },
   "outputs": [],
   "source": [
    "used_entity_edit_types_and_views_each_month_has_some_edits <-filter(used_entity_edit_types_and_views, bot_edits > 0)"
   ]
  },
  {
   "cell_type": "code",
   "execution_count": 22,
   "metadata": {
    "collapsed": false
   },
   "outputs": [
    {
     "data": {
      "text/html": [
       "0.0527705852087718"
      ],
      "text/latex": [
       "0.0527705852087718"
      ],
      "text/markdown": [
       "0.0527705852087718"
      ],
      "text/plain": [
       "[1] 0.05277059"
      ]
     },
     "metadata": {},
     "output_type": "display_data"
    }
   ],
   "source": [
    "cor(used_entity_edit_types_and_views_each_month_has_some_edits$bot_edits, used_entity_edit_types_and_views_each_month_has_some_edits$page_views, method=\"spearman\")"
   ]
  },
  {
   "cell_type": "code",
   "execution_count": 26,
   "metadata": {
    "collapsed": false
   },
   "outputs": [
    {
     "data": {
      "text/html": [
       "0.260136965028169"
      ],
      "text/latex": [
       "0.260136965028169"
      ],
      "text/markdown": [
       "0.260136965028169"
      ],
      "text/plain": [
       "[1] 0.260137"
      ]
     },
     "metadata": {},
     "output_type": "display_data"
    }
   ],
   "source": [
    "cor(used_entity_edit_types_and_views$semi_automated_edits, used_entity_edit_types_and_views$page_views, method=\"spearman\")"
   ]
  },
  {
   "cell_type": "code",
   "execution_count": 27,
   "metadata": {
    "collapsed": false
   },
   "outputs": [],
   "source": [
    "used_entity_edit_types_and_views_each_month_has_some_edits <-filter(used_entity_edit_types_and_views, semi_automated_edits > 0)"
   ]
  },
  {
   "cell_type": "code",
   "execution_count": 28,
   "metadata": {
    "collapsed": false
   },
   "outputs": [
    {
     "data": {
      "text/html": [
       "0.327494688000149"
      ],
      "text/latex": [
       "0.327494688000149"
      ],
      "text/markdown": [
       "0.327494688000149"
      ],
      "text/plain": [
       "[1] 0.3274947"
      ]
     },
     "metadata": {},
     "output_type": "display_data"
    }
   ],
   "source": [
    "cor(used_entity_edit_types_and_views_each_month_has_some_edits$semi_automated_edits, used_entity_edit_types_and_views_each_month_has_some_edits$page_views, method=\"spearman\")"
   ]
  },
  {
   "cell_type": "code",
   "execution_count": 30,
   "metadata": {
    "collapsed": false
   },
   "outputs": [
    {
     "data": {
      "text/html": [
       "0.448241712489699"
      ],
      "text/latex": [
       "0.448241712489699"
      ],
      "text/markdown": [
       "0.448241712489699"
      ],
      "text/plain": [
       "[1] 0.4482417"
      ]
     },
     "metadata": {},
     "output_type": "display_data"
    }
   ],
   "source": [
    "cor(used_entity_edit_types_and_views$human_edits, used_entity_edit_types_and_views$page_views, method=\"spearman\")"
   ]
  },
  {
   "cell_type": "code",
   "execution_count": 31,
   "metadata": {
    "collapsed": false
   },
   "outputs": [],
   "source": [
    "used_entity_edit_types_and_views_each_month_has_some_edits <-filter(used_entity_edit_types_and_views, human_edits > 0)"
   ]
  },
  {
   "cell_type": "code",
   "execution_count": 32,
   "metadata": {
    "collapsed": false
   },
   "outputs": [
    {
     "data": {
      "text/html": [
       "0.350892928407873"
      ],
      "text/latex": [
       "0.350892928407873"
      ],
      "text/markdown": [
       "0.350892928407873"
      ],
      "text/plain": [
       "[1] 0.3508929"
      ]
     },
     "metadata": {},
     "output_type": "display_data"
    }
   ],
   "source": [
    "cor(used_entity_edit_types_and_views_each_month_has_some_edits$human_edits, used_entity_edit_types_and_views_each_month_has_some_edits$page_views, method=\"spearman\")"
   ]
  },
  {
   "cell_type": "code",
   "execution_count": 33,
   "metadata": {
    "collapsed": false
   },
   "outputs": [
    {
     "data": {
      "text/html": [
       "0.221862797975019"
      ],
      "text/latex": [
       "0.221862797975019"
      ],
      "text/markdown": [
       "0.221862797975019"
      ],
      "text/plain": [
       "[1] 0.2218628"
      ]
     },
     "metadata": {},
     "output_type": "display_data"
    }
   ],
   "source": [
    "cor(used_entity_edit_types_and_views$anon_edits, used_entity_edit_types_and_views$page_views, method=\"spearman\")"
   ]
  },
  {
   "cell_type": "code",
   "execution_count": 34,
   "metadata": {
    "collapsed": false
   },
   "outputs": [],
   "source": [
    "used_entity_edit_types_and_views_each_month_has_some_edits <-filter(used_entity_edit_types_and_views, anon_edits > 0)"
   ]
  },
  {
   "cell_type": "code",
   "execution_count": 35,
   "metadata": {
    "collapsed": false
   },
   "outputs": [
    {
     "data": {
      "text/html": [
       "0.230656539072178"
      ],
      "text/latex": [
       "0.230656539072178"
      ],
      "text/markdown": [
       "0.230656539072178"
      ],
      "text/plain": [
       "[1] 0.2306565"
      ]
     },
     "metadata": {},
     "output_type": "display_data"
    }
   ],
   "source": [
    "cor(used_entity_edit_types_and_views_each_month_has_some_edits$anon_edits, used_entity_edit_types_and_views_each_month_has_some_edits$page_views, method=\"spearman\")"
   ]
  },
  {
   "cell_type": "code",
   "execution_count": 36,
   "metadata": {
    "collapsed": false
   },
   "outputs": [
    {
     "data": {
      "text/html": [
       "0.184788754119592"
      ],
      "text/latex": [
       "0.184788754119592"
      ],
      "text/markdown": [
       "0.184788754119592"
      ],
      "text/plain": [
       "[1] 0.1847888"
      ]
     },
     "metadata": {},
     "output_type": "display_data"
    }
   ],
   "source": [
    "cor(used_entity_edit_types_and_views$all_edits, used_entity_edit_types_and_views$page_views, method=\"spearman\")"
   ]
  },
  {
   "cell_type": "code",
   "execution_count": 37,
   "metadata": {
    "collapsed": false
   },
   "outputs": [],
   "source": [
    "used_entity_edit_types_and_views_each_month_has_some_edits <-filter(used_entity_edit_types_and_views, all_edits > 0)"
   ]
  },
  {
   "cell_type": "code",
   "execution_count": 38,
   "metadata": {
    "collapsed": false
   },
   "outputs": [
    {
     "data": {
      "text/html": [
       "0.184788754119592"
      ],
      "text/latex": [
       "0.184788754119592"
      ],
      "text/markdown": [
       "0.184788754119592"
      ],
      "text/plain": [
       "[1] 0.1847888"
      ]
     },
     "metadata": {},
     "output_type": "display_data"
    }
   ],
   "source": [
    "cor(used_entity_edit_types_and_views_each_month_has_some_edits$all_edits, used_entity_edit_types_and_views_each_month_has_some_edits$page_views, method=\"spearman\")"
   ]
  },
  {
   "cell_type": "code",
   "execution_count": null,
   "metadata": {
    "collapsed": true
   },
   "outputs": [],
   "source": []
  }
 ],
 "metadata": {
  "anaconda-cloud": {},
  "kernelspec": {
   "display_name": "R [r]",
   "language": "R",
   "name": "R [r]"
  },
  "language_info": {
   "codemirror_mode": "r",
   "file_extension": ".r",
   "mimetype": "text/x-r-source",
   "name": "R",
   "pygments_lexer": "r",
   "version": "3.3.2"
  }
 },
 "nbformat": 4,
 "nbformat_minor": 0
}
