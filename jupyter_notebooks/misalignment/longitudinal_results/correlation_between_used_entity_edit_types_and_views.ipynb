{
 "cells": [
  {
   "cell_type": "code",
   "execution_count": 19,
   "metadata": {
    "collapsed": false
   },
   "outputs": [
    {
     "name": "stderr",
     "output_type": "stream",
     "text": [
      "\n",
      "Attaching package: ‘dplyr’\n",
      "\n",
      "The following objects are masked from ‘package:stats’:\n",
      "\n",
      "    filter, lag\n",
      "\n",
      "The following objects are masked from ‘package:base’:\n",
      "\n",
      "    intersect, setdiff, setequal, union\n",
      "\n"
     ]
    }
   ],
   "source": [
    "library(dplyr)"
   ]
  },
  {
   "cell_type": "code",
   "execution_count": 1,
   "metadata": {
    "collapsed": true
   },
   "outputs": [],
   "source": [
    "used_entity_edit_types_and_views <- read.table(\"../../../results/sql_queries/wikidata_page_revisions_with_timestamp_editors/entity_edit_type_and_views.tsv\", header=TRUE, sep=\"\\t\")"
   ]
  },
  {
   "cell_type": "code",
   "execution_count": null,
   "metadata": {
    "collapsed": false
   },
   "outputs": [],
   "source": [
    "colnames(used_entity_edit_types_and_views) <- c('entity_id','bot_edits', 'semi_automated_edits', 'human_edits', 'anon_edits', 'all_edits', 'page_views')"
   ]
  },
  {
   "cell_type": "code",
   "execution_count": 8,
   "metadata": {
    "collapsed": false
   },
   "outputs": [
    {
     "data": {
      "text/plain": [
       "   entity_id          bot_edits       semi_automated_edits  human_edits       \n",
       " P10    :       1   Min.   :   0.00   Min.   :   0.00      Min.   :    0.000  \n",
       " P1000  :       1   1st Qu.:   3.00   1st Qu.:   0.00      1st Qu.:    0.000  \n",
       " P1001  :       1   Median :   8.00   Median :   1.00      Median :    0.000  \n",
       " P1002  :       1   Mean   :  12.95   Mean   :   3.04      Mean   :    1.817  \n",
       " P1003  :       1   3rd Qu.:  18.00   3rd Qu.:   4.00      3rd Qu.:    1.000  \n",
       " P1004  :       1   Max.   :4165.00   Max.   :6439.00      Max.   :13600.000  \n",
       " (Other):22229590                                                             \n",
       "   anon_edits         all_edits              NA           \n",
       " Min.   :   0.000   Min.   :    1.00   Min.   :0.000e+00  \n",
       " 1st Qu.:   0.000   1st Qu.:    6.00   1st Qu.:1.300e+01  \n",
       " Median :   0.000   Median :   13.00   Median :1.360e+02  \n",
       " Mean   :   0.071   Mean   :   17.88   Mean   :3.000e+04  \n",
       " 3rd Qu.:   0.000   3rd Qu.:   23.00   3rd Qu.:9.980e+02  \n",
       " Max.   :6094.000   Max.   :21863.00   Max.   :1.253e+10  \n",
       "                                                          "
      ]
     },
     "metadata": {},
     "output_type": "display_data"
    }
   ],
   "source": [
    "summary(used_entity_edit_types_and_views)"
   ]
  },
  {
   "cell_type": "code",
   "execution_count": 23,
   "metadata": {
    "collapsed": false
   },
   "outputs": [
    {
     "data": {
      "text/html": [
       "0.0593649614434352"
      ],
      "text/latex": [
       "0.0593649614434352"
      ],
      "text/markdown": [
       "0.0593649614434352"
      ],
      "text/plain": [
       "[1] 0.05936496"
      ]
     },
     "metadata": {},
     "output_type": "display_data"
    }
   ],
   "source": [
    "cor(used_entity_edit_types_and_views$bot_edits, used_entity_edit_types_and_views$page_views, method=\"spearman\")"
   ]
  },
  {
   "cell_type": "code",
   "execution_count": 24,
   "metadata": {
    "collapsed": false
   },
   "outputs": [],
   "source": [
    "used_entity_edit_types_and_views_each_month_has_some_edits <-filter(used_entity_edit_types_and_views, bot_edits > 0)"
   ]
  },
  {
   "cell_type": "code",
   "execution_count": 22,
   "metadata": {
    "collapsed": false
   },
   "outputs": [
    {
     "data": {
      "text/html": [
       "0.0527705852087718"
      ],
      "text/latex": [
       "0.0527705852087718"
      ],
      "text/markdown": [
       "0.0527705852087718"
      ],
      "text/plain": [
       "[1] 0.05277059"
      ]
     },
     "metadata": {},
     "output_type": "display_data"
    }
   ],
   "source": [
    "cor(used_entity_edit_types_and_views_each_month_has_some_edits$bot_edits, used_entity_edit_types_and_views_each_month_has_some_edits$page_views, method=\"spearman\")"
   ]
  },
  {
   "cell_type": "code",
   "execution_count": 26,
   "metadata": {
    "collapsed": false
   },
   "outputs": [
    {
     "data": {
      "text/html": [
       "0.260136965028169"
      ],
      "text/latex": [
       "0.260136965028169"
      ],
      "text/markdown": [
       "0.260136965028169"
      ],
      "text/plain": [
       "[1] 0.260137"
      ]
     },
     "metadata": {},
     "output_type": "display_data"
    }
   ],
   "source": [
    "cor(used_entity_edit_types_and_views$semi_automated_edits, used_entity_edit_types_and_views$page_views, method=\"spearman\")"
   ]
  },
  {
   "cell_type": "code",
   "execution_count": 27,
   "metadata": {
    "collapsed": false
   },
   "outputs": [],
   "source": [
    "used_entity_edit_types_and_views_each_month_has_some_edits <-filter(used_entity_edit_types_and_views, semi_automated_edits > 0)"
   ]
  },
  {
   "cell_type": "code",
   "execution_count": 28,
   "metadata": {
    "collapsed": false
   },
   "outputs": [
    {
     "data": {
      "text/html": [
       "0.327494688000149"
      ],
      "text/latex": [
       "0.327494688000149"
      ],
      "text/markdown": [
       "0.327494688000149"
      ],
      "text/plain": [
       "[1] 0.3274947"
      ]
     },
     "metadata": {},
     "output_type": "display_data"
    }
   ],
   "source": [
    "cor(used_entity_edit_types_and_views_each_month_has_some_edits$semi_automated_edits, used_entity_edit_types_and_views_each_month_has_some_edits$page_views, method=\"spearman\")"
   ]
  },
  {
   "cell_type": "code",
   "execution_count": 30,
   "metadata": {
    "collapsed": false
   },
   "outputs": [
    {
     "data": {
      "text/html": [
       "0.448241712489699"
      ],
      "text/latex": [
       "0.448241712489699"
      ],
      "text/markdown": [
       "0.448241712489699"
      ],
      "text/plain": [
       "[1] 0.4482417"
      ]
     },
     "metadata": {},
     "output_type": "display_data"
    }
   ],
   "source": [
    "cor(used_entity_edit_types_and_views$human_edits, used_entity_edit_types_and_views$page_views, method=\"spearman\")"
   ]
  },
  {
   "cell_type": "code",
   "execution_count": 31,
   "metadata": {
    "collapsed": false
   },
   "outputs": [],
   "source": [
    "used_entity_edit_types_and_views_each_month_has_some_edits <-filter(used_entity_edit_types_and_views, human_edits > 0)"
   ]
  },
  {
   "cell_type": "code",
   "execution_count": 32,
   "metadata": {
    "collapsed": false
   },
   "outputs": [
    {
     "data": {
      "text/html": [
       "0.350892928407873"
      ],
      "text/latex": [
       "0.350892928407873"
      ],
      "text/markdown": [
       "0.350892928407873"
      ],
      "text/plain": [
       "[1] 0.3508929"
      ]
     },
     "metadata": {},
     "output_type": "display_data"
    }
   ],
   "source": [
    "cor(used_entity_edit_types_and_views_each_month_has_some_edits$human_edits, used_entity_edit_types_and_views_each_month_has_some_edits$page_views, method=\"spearman\")"
   ]
  },
  {
   "cell_type": "code",
   "execution_count": 33,
   "metadata": {
    "collapsed": false
   },
   "outputs": [
    {
     "data": {
      "text/html": [
       "0.221862797975019"
      ],
      "text/latex": [
       "0.221862797975019"
      ],
      "text/markdown": [
       "0.221862797975019"
      ],
      "text/plain": [
       "[1] 0.2218628"
      ]
     },
     "metadata": {},
     "output_type": "display_data"
    }
   ],
   "source": [
    "cor(used_entity_edit_types_and_views$anon_edits, used_entity_edit_types_and_views$page_views, method=\"spearman\")"
   ]
  },
  {
   "cell_type": "code",
   "execution_count": 34,
   "metadata": {
    "collapsed": false
   },
   "outputs": [],
   "source": [
    "used_entity_edit_types_and_views_each_month_has_some_edits <-filter(used_entity_edit_types_and_views, anon_edits > 0)"
   ]
  },
  {
   "cell_type": "code",
   "execution_count": 35,
   "metadata": {
    "collapsed": false
   },
   "outputs": [
    {
     "data": {
      "text/html": [
       "0.230656539072178"
      ],
      "text/latex": [
       "0.230656539072178"
      ],
      "text/markdown": [
       "0.230656539072178"
      ],
      "text/plain": [
       "[1] 0.2306565"
      ]
     },
     "metadata": {},
     "output_type": "display_data"
    }
   ],
   "source": [
    "cor(used_entity_edit_types_and_views_each_month_has_some_edits$anon_edits, used_entity_edit_types_and_views_each_month_has_some_edits$page_views, method=\"spearman\")"
   ]
  },
  {
   "cell_type": "code",
   "execution_count": 36,
   "metadata": {
    "collapsed": false
   },
   "outputs": [
    {
     "data": {
      "text/html": [
       "0.184788754119592"
      ],
      "text/latex": [
       "0.184788754119592"
      ],
      "text/markdown": [
       "0.184788754119592"
      ],
      "text/plain": [
       "[1] 0.1847888"
      ]
     },
     "metadata": {},
     "output_type": "display_data"
    }
   ],
   "source": [
    "cor(used_entity_edit_types_and_views$all_edits, used_entity_edit_types_and_views$page_views, method=\"spearman\")"
   ]
  },
  {
   "cell_type": "code",
   "execution_count": 37,
   "metadata": {
    "collapsed": false
   },
   "outputs": [],
   "source": [
    "used_entity_edit_types_and_views_each_month_has_some_edits <-filter(used_entity_edit_types_and_views, all_edits > 0)"
   ]
  },
  {
   "cell_type": "code",
   "execution_count": 38,
   "metadata": {
    "collapsed": false
   },
   "outputs": [
    {
     "data": {
      "text/html": [
       "0.184788754119592"
      ],
      "text/latex": [
       "0.184788754119592"
      ],
      "text/markdown": [
       "0.184788754119592"
      ],
      "text/plain": [
       "[1] 0.1847888"
      ]
     },
     "metadata": {},
     "output_type": "display_data"
    }
   ],
   "source": [
    "cor(used_entity_edit_types_and_views_each_month_has_some_edits$all_edits, used_entity_edit_types_and_views_each_month_has_some_edits$page_views, method=\"spearman\")"
   ]
  },
  {
   "cell_type": "code",
   "execution_count": null,
   "metadata": {
    "collapsed": true
   },
   "outputs": [],
   "source": []
  },
  {
   "cell_type": "code",
   "execution_count": 40,
   "metadata": {
    "collapsed": false
   },
   "outputs": [
    {
     "data": {
      "text/plain": [
       "\n",
       "Call:\n",
       "lm(formula = used_entity_edit_types_and_views$bot_edits ~ used_entity_edit_types_and_views$page_views)\n",
       "\n",
       "Residuals:\n",
       "   Min     1Q Median     3Q    Max \n",
       "-108.7  -10.0   -5.0    5.0 4152.0 \n",
       "\n",
       "Coefficients:\n",
       "                                             Estimate Std. Error t value\n",
       "(Intercept)                                 1.295e+01  3.314e-03 3908.36\n",
       "used_entity_edit_types_and_views$page_views 1.139e-08  5.165e-10   22.05\n",
       "                                            Pr(>|t|)    \n",
       "(Intercept)                                   <2e-16 ***\n",
       "used_entity_edit_types_and_views$page_views   <2e-16 ***\n",
       "---\n",
       "Signif. codes:  0 ‘***’ 0.001 ‘**’ 0.01 ‘*’ 0.05 ‘.’ 0.1 ‘ ’ 1\n",
       "\n",
       "Residual standard error: 15.62 on 22229594 degrees of freedom\n",
       "Multiple R-squared:  2.187e-05,\tAdjusted R-squared:  2.182e-05 \n",
       "F-statistic: 486.1 on 1 and 22229594 DF,  p-value: < 2.2e-16\n"
      ]
     },
     "metadata": {},
     "output_type": "display_data"
    }
   ],
   "source": [
    "summary(lm(used_entity_edit_types_and_views$bot_edits ~ used_entity_edit_types_and_views$page_views))"
   ]
  },
  {
   "cell_type": "code",
   "execution_count": 41,
   "metadata": {
    "collapsed": false
   },
   "outputs": [
    {
     "data": {
      "text/plain": [
       "\n",
       "Call:\n",
       "lm(formula = used_entity_edit_types_and_views$semi_automated_edits ~ \n",
       "    used_entity_edit_types_and_views$page_views)\n",
       "\n",
       "Residuals:\n",
       "   Min     1Q Median     3Q    Max \n",
       " -43.8   -3.0   -2.0    1.0 6436.0 \n",
       "\n",
       "Coefficients:\n",
       "                                             Estimate Std. Error t value\n",
       "(Intercept)                                 3.040e+00  1.531e-03 1986.07\n",
       "used_entity_edit_types_and_views$page_views 5.644e-09  2.386e-10   23.65\n",
       "                                            Pr(>|t|)    \n",
       "(Intercept)                                   <2e-16 ***\n",
       "used_entity_edit_types_and_views$page_views   <2e-16 ***\n",
       "---\n",
       "Signif. codes:  0 ‘***’ 0.001 ‘**’ 0.01 ‘*’ 0.05 ‘.’ 0.1 ‘ ’ 1\n",
       "\n",
       "Residual standard error: 7.217 on 22229594 degrees of freedom\n",
       "Multiple R-squared:  2.517e-05,\tAdjusted R-squared:  2.512e-05 \n",
       "F-statistic: 559.5 on 1 and 22229594 DF,  p-value: < 2.2e-16\n"
      ]
     },
     "metadata": {},
     "output_type": "display_data"
    }
   ],
   "source": [
    "summary(lm(used_entity_edit_types_and_views$semi_automated_edits ~ used_entity_edit_types_and_views$page_views))"
   ]
  },
  {
   "cell_type": "code",
   "execution_count": 42,
   "metadata": {
    "collapsed": false
   },
   "outputs": [
    {
     "data": {
      "text/plain": [
       "\n",
       "Call:\n",
       "lm(formula = used_entity_edit_types_and_views$human_edits ~ used_entity_edit_types_and_views$page_views)\n",
       "\n",
       "Residuals:\n",
       "    Min      1Q  Median      3Q     Max \n",
       " -251.4    -1.8    -1.8    -0.8 13598.2 \n",
       "\n",
       "Coefficients:\n",
       "                                             Estimate Std. Error t value\n",
       "(Intercept)                                 1.813e+00  1.509e-03  1201.3\n",
       "used_entity_edit_types_and_views$page_views 1.230e-07  2.352e-10   522.8\n",
       "                                            Pr(>|t|)    \n",
       "(Intercept)                                   <2e-16 ***\n",
       "used_entity_edit_types_and_views$page_views   <2e-16 ***\n",
       "---\n",
       "Signif. codes:  0 ‘***’ 0.001 ‘**’ 0.01 ‘*’ 0.05 ‘.’ 0.1 ‘ ’ 1\n",
       "\n",
       "Residual standard error: 7.115 on 22229594 degrees of freedom\n",
       "Multiple R-squared:  0.01215,\tAdjusted R-squared:  0.01215 \n",
       "F-statistic: 2.733e+05 on 1 and 22229594 DF,  p-value: < 2.2e-16\n"
      ]
     },
     "metadata": {},
     "output_type": "display_data"
    }
   ],
   "source": [
    "summary(lm(used_entity_edit_types_and_views$human_edits ~ used_entity_edit_types_and_views$page_views))"
   ]
  },
  {
   "cell_type": "code",
   "execution_count": 43,
   "metadata": {
    "collapsed": false
   },
   "outputs": [
    {
     "data": {
      "text/plain": [
       "\n",
       "Call:\n",
       "lm(formula = used_entity_edit_types_and_views$anon_edits ~ used_entity_edit_types_and_views$page_views)\n",
       "\n",
       "Residuals:\n",
       "   Min     1Q Median     3Q    Max \n",
       " -88.6   -0.1   -0.1   -0.1 6093.9 \n",
       "\n",
       "Coefficients:\n",
       "                                             Estimate Std. Error t value\n",
       "(Intercept)                                 7.038e-02  3.589e-04   196.1\n",
       "used_entity_edit_types_and_views$page_views 1.250e-08  5.594e-11   223.4\n",
       "                                            Pr(>|t|)    \n",
       "(Intercept)                                   <2e-16 ***\n",
       "used_entity_edit_types_and_views$page_views   <2e-16 ***\n",
       "---\n",
       "Signif. codes:  0 ‘***’ 0.001 ‘**’ 0.01 ‘*’ 0.05 ‘.’ 0.1 ‘ ’ 1\n",
       "\n",
       "Residual standard error: 1.692 on 22229594 degrees of freedom\n",
       "Multiple R-squared:  0.002239,\tAdjusted R-squared:  0.002239 \n",
       "F-statistic: 4.989e+04 on 1 and 22229594 DF,  p-value: < 2.2e-16\n"
      ]
     },
     "metadata": {},
     "output_type": "display_data"
    }
   ],
   "source": [
    "summary(lm(used_entity_edit_types_and_views$anon_edits ~ used_entity_edit_types_and_views$page_views))"
   ]
  },
  {
   "cell_type": "code",
   "execution_count": 44,
   "metadata": {
    "collapsed": false
   },
   "outputs": [
    {
     "data": {
      "text/plain": [
       "\n",
       "Call:\n",
       "lm(formula = used_entity_edit_types_and_views$all_edits ~ used_entity_edit_types_and_views$page_views)\n",
       "\n",
       "Residuals:\n",
       "    Min      1Q  Median      3Q     Max \n",
       " -332.8   -11.9    -4.9     5.1 21845.1 \n",
       "\n",
       "Coefficients:\n",
       "                                             Estimate Std. Error t value\n",
       "(Intercept)                                 1.787e+01  4.631e-03  3860.2\n",
       "used_entity_edit_types_and_views$page_views 1.525e-07  7.218e-10   211.3\n",
       "                                            Pr(>|t|)    \n",
       "(Intercept)                                   <2e-16 ***\n",
       "used_entity_edit_types_and_views$page_views   <2e-16 ***\n",
       "---\n",
       "Signif. codes:  0 ‘***’ 0.001 ‘**’ 0.01 ‘*’ 0.05 ‘.’ 0.1 ‘ ’ 1\n",
       "\n",
       "Residual standard error: 21.83 on 22229594 degrees of freedom\n",
       "Multiple R-squared:  0.002004,\tAdjusted R-squared:  0.002004 \n",
       "F-statistic: 4.464e+04 on 1 and 22229594 DF,  p-value: < 2.2e-16\n"
      ]
     },
     "metadata": {},
     "output_type": "display_data"
    }
   ],
   "source": [
    "summary(lm(used_entity_edit_types_and_views$all_edits ~ used_entity_edit_types_and_views$page_views))"
   ]
  },
  {
   "cell_type": "code",
   "execution_count": null,
   "metadata": {
    "collapsed": true
   },
   "outputs": [],
   "source": []
  }
 ],
 "metadata": {
  "anaconda-cloud": {},
  "kernelspec": {
   "display_name": "R [r]",
   "language": "R",
   "name": "R [r]"
  },
  "language_info": {
   "codemirror_mode": "r",
   "file_extension": ".r",
   "mimetype": "text/x-r-source",
   "name": "R",
   "pygments_lexer": "r",
   "version": "3.3.2"
  }
 },
 "nbformat": 4,
 "nbformat_minor": 0
}
