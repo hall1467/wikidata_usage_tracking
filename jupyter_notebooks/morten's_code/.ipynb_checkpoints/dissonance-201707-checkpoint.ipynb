{
 "cells": [
  {
   "cell_type": "code",
   "execution_count": 1,
   "metadata": {
    "collapsed": true
   },
   "outputs": [],
   "source": [
    "library(data.table)"
   ]
  },
  {
   "cell_type": "code",
   "execution_count": 2,
   "metadata": {
    "collapsed": true
   },
   "outputs": [],
   "source": [
    "## Using a table of article assessments and views, build tables\n",
    "## (matrices) that shows the number of dissonant articles per\n",
    "## assessment category based on sorting by popularity.\n",
    "##\n",
    "## The underlying assumption is that in an ideal system with a limited\n",
    "## and fixed amount of resources (in other words, popularity and high quality\n",
    "## artefacts does not increase the amount of resources in the system),\n",
    "## popularity ranking and assessment class follow a 1-to-1 relationship.\n",
    "## We can therefore sort by popularity and group articles that way\n",
    "## because work will be prioritised by popularity.\n",
    "\n",
    "## DATA ASSUMPTION: views_with_redirects from resolve-redirects.R\n",
    "## is loaded into memory.\n",
    "\n",
    "## 3: build a 2x2 matrix of assessment classes and popularity classes\n",
    "## \n",
    "\n",
    "## Assessment classes in ascending order of quality."
   ]
  },
  {
   "cell_type": "code",
   "execution_count": 3,
   "metadata": {
    "collapsed": true
   },
   "outputs": [],
   "source": [
    "assessment_classes = c('E', 'D', 'C', 'B', 'A');"
   ]
  },
  {
   "cell_type": "code",
   "execution_count": 4,
   "metadata": {
    "collapsed": false
   },
   "outputs": [],
   "source": [
    "quality_prediction_and_page_views <- read.table(\"../../results/sql_queries/entity_views_and_aggregated_revisions/entity_views_and_aggregated_revisions_and_quality_scoring_20170701.tsv\", header=FALSE, sep=\"\\t\")"
   ]
  },
  {
   "cell_type": "code",
   "execution_count": 5,
   "metadata": {
    "collapsed": true
   },
   "outputs": [],
   "source": [
    "quality_prediction_and_page_views <- data.table(quality_prediction_and_page_views)"
   ]
  },
  {
   "cell_type": "code",
   "execution_count": 6,
   "metadata": {
    "collapsed": false
   },
   "outputs": [],
   "source": [
    "colnames(quality_prediction_and_page_views) <- c('entity_id','number_of_revisions', 'page_views', 'prediction', 'ordinal_score')"
   ]
  },
  {
   "cell_type": "code",
   "execution_count": 7,
   "metadata": {
    "collapsed": false
   },
   "outputs": [
    {
     "data": {
      "text/plain": [
       "    entity_id        number_of_revisions   page_views        prediction  \n",
       " Q1      :       1   Min.   :    1.0     Min.   :0.000e+00   A:    3969  \n",
       " Q100    :       1   1st Qu.:    6.0     1st Qu.:1.300e+01   B:  500819  \n",
       " Q1000   :       1   Median :   13.0     Median :1.370e+02   C: 5429662  \n",
       " Q10000  :       1   Mean   :   17.9     Mean   :2.461e+04   D: 4472790  \n",
       " Q100000 :       1   3rd Qu.:   23.0     3rd Qu.:1.000e+03   E:11743883  \n",
       " Q1000000:       1   Max.   :21863.0     Max.   :1.253e+10               \n",
       " (Other) :22151117                                                       \n",
       " ordinal_score  \n",
       " Min.   :1.000  \n",
       " 1st Qu.:1.000  \n",
       " Median :1.000  \n",
       " Mean   :1.761  \n",
       " 3rd Qu.:3.000  \n",
       " Max.   :5.000  \n",
       "                "
      ]
     },
     "metadata": {},
     "output_type": "display_data"
    }
   ],
   "source": [
    "summary(quality_prediction_and_page_views)"
   ]
  },
  {
   "cell_type": "code",
   "execution_count": 8,
   "metadata": {
    "collapsed": false
   },
   "outputs": [],
   "source": [
    "## 0: calculate number of articles in each assessment class\n",
    "n_per_class = quality_prediction_and_page_views[, list(narticles=sum(.N)), by='prediction']"
   ]
  },
  {
   "cell_type": "code",
   "execution_count": 9,
   "metadata": {
    "collapsed": false
   },
   "outputs": [],
   "source": [
    "setkey(n_per_class, prediction);\n",
    "## NOTE: setkey allows us to do n_per_class['GA']$narticles to get counts"
   ]
  },
  {
   "cell_type": "code",
   "execution_count": 10,
   "metadata": {
    "collapsed": true
   },
   "outputs": [],
   "source": [
    "## 1: order articles by popularity\n",
    "articles_by_pop = quality_prediction_and_page_views[order(quality_prediction_and_page_views$page_views)][,list(entity_id, prediction, page_views)];\n",
    "\n"
   ]
  },
  {
   "cell_type": "code",
   "execution_count": 11,
   "metadata": {
    "collapsed": false
   },
   "outputs": [
    {
     "data": {
      "text/html": [
       "<table>\n",
       "<thead><tr><th scope=col>entity_id</th><th scope=col>prediction</th><th scope=col>page_views</th><th scope=col>pop_class</th></tr></thead>\n",
       "<tbody>\n",
       "\t<tr><td>Q10040378</td><td>E        </td><td>0        </td><td>         </td></tr>\n",
       "\t<tr><td>Q10069140</td><td>C        </td><td>0        </td><td>         </td></tr>\n",
       "\t<tr><td>Q10081695</td><td>C        </td><td>0        </td><td>         </td></tr>\n",
       "\t<tr><td>Q10092002</td><td>E        </td><td>0        </td><td>         </td></tr>\n",
       "\t<tr><td>Q10111267</td><td>E        </td><td>0        </td><td>         </td></tr>\n",
       "\t<tr><td>Q10149726</td><td>E        </td><td>0        </td><td>         </td></tr>\n",
       "\t<tr><td>Q10180230</td><td>E        </td><td>0        </td><td>         </td></tr>\n",
       "\t<tr><td>Q10185035</td><td>E        </td><td>0        </td><td>         </td></tr>\n",
       "\t<tr><td>Q10205202</td><td>E        </td><td>0        </td><td>         </td></tr>\n",
       "\t<tr><td>Q10252966</td><td>E        </td><td>0        </td><td>         </td></tr>\n",
       "\t<tr><td>Q10444494</td><td>C        </td><td>0        </td><td>         </td></tr>\n",
       "\t<tr><td>Q10624171</td><td>C        </td><td>0        </td><td>         </td></tr>\n",
       "\t<tr><td>Q10704108</td><td>C        </td><td>0        </td><td>         </td></tr>\n",
       "\t<tr><td>Q10750354</td><td>C        </td><td>0        </td><td>         </td></tr>\n",
       "\t<tr><td>Q10766855</td><td>D        </td><td>0        </td><td>         </td></tr>\n",
       "\t<tr><td>Q10827611</td><td>E        </td><td>0        </td><td>         </td></tr>\n",
       "\t<tr><td>Q11093044</td><td>E        </td><td>0        </td><td>         </td></tr>\n",
       "\t<tr><td>Q11934537</td><td>E        </td><td>0        </td><td>         </td></tr>\n",
       "\t<tr><td>Q12133466</td><td>E        </td><td>0        </td><td>         </td></tr>\n",
       "\t<tr><td>Q12264503</td><td>E        </td><td>0        </td><td>         </td></tr>\n",
       "\t<tr><td>Q12267516</td><td>E        </td><td>0        </td><td>         </td></tr>\n",
       "\t<tr><td>Q12304084</td><td>E        </td><td>0        </td><td>         </td></tr>\n",
       "\t<tr><td>Q12443525</td><td>D        </td><td>0        </td><td>         </td></tr>\n",
       "\t<tr><td>Q12543904</td><td>E        </td><td>0        </td><td>         </td></tr>\n",
       "\t<tr><td>Q12890205</td><td>E        </td><td>0        </td><td>         </td></tr>\n",
       "\t<tr><td>Q12891524</td><td>E        </td><td>0        </td><td>         </td></tr>\n",
       "\t<tr><td>Q12918202</td><td>E        </td><td>0        </td><td>         </td></tr>\n",
       "\t<tr><td>Q13005653</td><td>E        </td><td>0        </td><td>         </td></tr>\n",
       "\t<tr><td>Q13073896</td><td>E        </td><td>0        </td><td>         </td></tr>\n",
       "\t<tr><td>Q13163823</td><td>E        </td><td>0        </td><td>         </td></tr>\n",
       "\t<tr><td>⋮</td><td>⋮</td><td>⋮</td><td>⋮</td></tr>\n",
       "\t<tr><td>Q1048694   </td><td>C          </td><td> 2048095025</td><td>           </td></tr>\n",
       "\t<tr><td>Q31165     </td><td>B          </td><td> 2048330818</td><td>           </td></tr>\n",
       "\t<tr><td>Q40629     </td><td>C          </td><td> 2049755644</td><td>           </td></tr>\n",
       "\t<tr><td>Q105584    </td><td>C          </td><td> 2049926923</td><td>           </td></tr>\n",
       "\t<tr><td>Q4584301   </td><td>C          </td><td> 2052339927</td><td>           </td></tr>\n",
       "\t<tr><td>Q565       </td><td>C          </td><td> 2052996261</td><td>           </td></tr>\n",
       "\t<tr><td>Q1868372   </td><td>C          </td><td> 2056080224</td><td>           </td></tr>\n",
       "\t<tr><td>Q209330    </td><td>C          </td><td> 2060928966</td><td>           </td></tr>\n",
       "\t<tr><td>Q14005     </td><td>D          </td><td> 2063120071</td><td>           </td></tr>\n",
       "\t<tr><td>Q918       </td><td>A          </td><td> 2063217449</td><td>           </td></tr>\n",
       "\t<tr><td>Q150248    </td><td>C          </td><td> 2068796814</td><td>           </td></tr>\n",
       "\t<tr><td>Q866       </td><td>A          </td><td> 2079749157</td><td>           </td></tr>\n",
       "\t<tr><td>Q477675    </td><td>C          </td><td> 2080785713</td><td>           </td></tr>\n",
       "\t<tr><td>Q1967876   </td><td>C          </td><td> 2084215818</td><td>           </td></tr>\n",
       "\t<tr><td>Q750403    </td><td>B          </td><td> 2084693498</td><td>           </td></tr>\n",
       "\t<tr><td>Q355       </td><td>C          </td><td> 2093900731</td><td>           </td></tr>\n",
       "\t<tr><td>Q623578    </td><td>C          </td><td> 2097991400</td><td>           </td></tr>\n",
       "\t<tr><td>Q17299517  </td><td>D          </td><td> 2105487660</td><td>           </td></tr>\n",
       "\t<tr><td>Q33999     </td><td>C          </td><td> 2108672678</td><td>           </td></tr>\n",
       "\t<tr><td>Q2494649   </td><td>C          </td><td> 2114531894</td><td>           </td></tr>\n",
       "\t<tr><td>Q2597810   </td><td>C          </td><td> 2128920607</td><td>           </td></tr>\n",
       "\t<tr><td>Q193563    </td><td>B          </td><td> 2130725560</td><td>           </td></tr>\n",
       "\t<tr><td>Q423048    </td><td>C          </td><td> 2136131564</td><td>           </td></tr>\n",
       "\t<tr><td>Q37312     </td><td>C          </td><td> 2142913121</td><td>           </td></tr>\n",
       "\t<tr><td>Q54919     </td><td>C          </td><td> 2148531382</td><td>           </td></tr>\n",
       "\t<tr><td>Q36578     </td><td>B          </td><td> 2229315598</td><td>           </td></tr>\n",
       "\t<tr><td>Q30        </td><td>A          </td><td> 2277746226</td><td>           </td></tr>\n",
       "\t<tr><td>Q6581097   </td><td>D          </td><td> 3273952711</td><td>           </td></tr>\n",
       "\t<tr><td>Q5         </td><td>C          </td><td> 5668008721</td><td>           </td></tr>\n",
       "\t<tr><td>Q5296      </td><td>C          </td><td>12530369761</td><td>           </td></tr>\n",
       "</tbody>\n",
       "</table>\n"
      ],
      "text/latex": [
       "\\begin{tabular}{r|llll}\n",
       " entity\\_id & prediction & page\\_views & pop\\_class\\\\\n",
       "\\hline\n",
       "\t Q10040378 & E         & 0         &          \\\\\n",
       "\t Q10069140 & C         & 0         &          \\\\\n",
       "\t Q10081695 & C         & 0         &          \\\\\n",
       "\t Q10092002 & E         & 0         &          \\\\\n",
       "\t Q10111267 & E         & 0         &          \\\\\n",
       "\t Q10149726 & E         & 0         &          \\\\\n",
       "\t Q10180230 & E         & 0         &          \\\\\n",
       "\t Q10185035 & E         & 0         &          \\\\\n",
       "\t Q10205202 & E         & 0         &          \\\\\n",
       "\t Q10252966 & E         & 0         &          \\\\\n",
       "\t Q10444494 & C         & 0         &          \\\\\n",
       "\t Q10624171 & C         & 0         &          \\\\\n",
       "\t Q10704108 & C         & 0         &          \\\\\n",
       "\t Q10750354 & C         & 0         &          \\\\\n",
       "\t Q10766855 & D         & 0         &          \\\\\n",
       "\t Q10827611 & E         & 0         &          \\\\\n",
       "\t Q11093044 & E         & 0         &          \\\\\n",
       "\t Q11934537 & E         & 0         &          \\\\\n",
       "\t Q12133466 & E         & 0         &          \\\\\n",
       "\t Q12264503 & E         & 0         &          \\\\\n",
       "\t Q12267516 & E         & 0         &          \\\\\n",
       "\t Q12304084 & E         & 0         &          \\\\\n",
       "\t Q12443525 & D         & 0         &          \\\\\n",
       "\t Q12543904 & E         & 0         &          \\\\\n",
       "\t Q12890205 & E         & 0         &          \\\\\n",
       "\t Q12891524 & E         & 0         &          \\\\\n",
       "\t Q12918202 & E         & 0         &          \\\\\n",
       "\t Q13005653 & E         & 0         &          \\\\\n",
       "\t Q13073896 & E         & 0         &          \\\\\n",
       "\t Q13163823 & E         & 0         &          \\\\\n",
       "\t ⋮ & ⋮ & ⋮ & ⋮\\\\\n",
       "\t Q1048694    & C           &  2048095025 &            \\\\\n",
       "\t Q31165      & B           &  2048330818 &            \\\\\n",
       "\t Q40629      & C           &  2049755644 &            \\\\\n",
       "\t Q105584     & C           &  2049926923 &            \\\\\n",
       "\t Q4584301    & C           &  2052339927 &            \\\\\n",
       "\t Q565        & C           &  2052996261 &            \\\\\n",
       "\t Q1868372    & C           &  2056080224 &            \\\\\n",
       "\t Q209330     & C           &  2060928966 &            \\\\\n",
       "\t Q14005      & D           &  2063120071 &            \\\\\n",
       "\t Q918        & A           &  2063217449 &            \\\\\n",
       "\t Q150248     & C           &  2068796814 &            \\\\\n",
       "\t Q866        & A           &  2079749157 &            \\\\\n",
       "\t Q477675     & C           &  2080785713 &            \\\\\n",
       "\t Q1967876    & C           &  2084215818 &            \\\\\n",
       "\t Q750403     & B           &  2084693498 &            \\\\\n",
       "\t Q355        & C           &  2093900731 &            \\\\\n",
       "\t Q623578     & C           &  2097991400 &            \\\\\n",
       "\t Q17299517   & D           &  2105487660 &            \\\\\n",
       "\t Q33999      & C           &  2108672678 &            \\\\\n",
       "\t Q2494649    & C           &  2114531894 &            \\\\\n",
       "\t Q2597810    & C           &  2128920607 &            \\\\\n",
       "\t Q193563     & B           &  2130725560 &            \\\\\n",
       "\t Q423048     & C           &  2136131564 &            \\\\\n",
       "\t Q37312      & C           &  2142913121 &            \\\\\n",
       "\t Q54919      & C           &  2148531382 &            \\\\\n",
       "\t Q36578      & B           &  2229315598 &            \\\\\n",
       "\t Q30         & A           &  2277746226 &            \\\\\n",
       "\t Q6581097    & D           &  3273952711 &            \\\\\n",
       "\t Q5          & C           &  5668008721 &            \\\\\n",
       "\t Q5296       & C           & 12530369761 &            \\\\\n",
       "\\end{tabular}\n"
      ],
      "text/markdown": [
       "\n",
       "entity_id | prediction | page_views | pop_class | \n",
       "|---|---|---|---|---|---|---|---|---|---|---|---|---|---|---|---|---|---|---|---|---|---|---|---|---|---|---|---|---|---|---|---|---|---|---|---|---|---|---|---|---|---|---|---|---|---|---|---|---|---|---|---|---|---|---|---|---|---|---|---|---|\n",
       "| Q10040378 | E         | 0         |           | \n",
       "| Q10069140 | C         | 0         |           | \n",
       "| Q10081695 | C         | 0         |           | \n",
       "| Q10092002 | E         | 0         |           | \n",
       "| Q10111267 | E         | 0         |           | \n",
       "| Q10149726 | E         | 0         |           | \n",
       "| Q10180230 | E         | 0         |           | \n",
       "| Q10185035 | E         | 0         |           | \n",
       "| Q10205202 | E         | 0         |           | \n",
       "| Q10252966 | E         | 0         |           | \n",
       "| Q10444494 | C         | 0         |           | \n",
       "| Q10624171 | C         | 0         |           | \n",
       "| Q10704108 | C         | 0         |           | \n",
       "| Q10750354 | C         | 0         |           | \n",
       "| Q10766855 | D         | 0         |           | \n",
       "| Q10827611 | E         | 0         |           | \n",
       "| Q11093044 | E         | 0         |           | \n",
       "| Q11934537 | E         | 0         |           | \n",
       "| Q12133466 | E         | 0         |           | \n",
       "| Q12264503 | E         | 0         |           | \n",
       "| Q12267516 | E         | 0         |           | \n",
       "| Q12304084 | E         | 0         |           | \n",
       "| Q12443525 | D         | 0         |           | \n",
       "| Q12543904 | E         | 0         |           | \n",
       "| Q12890205 | E         | 0         |           | \n",
       "| Q12891524 | E         | 0         |           | \n",
       "| Q12918202 | E         | 0         |           | \n",
       "| Q13005653 | E         | 0         |           | \n",
       "| Q13073896 | E         | 0         |           | \n",
       "| Q13163823 | E         | 0         |           | \n",
       "| ⋮ | ⋮ | ⋮ | ⋮ | \n",
       "| Q1048694    | C           |  2048095025 |             | \n",
       "| Q31165      | B           |  2048330818 |             | \n",
       "| Q40629      | C           |  2049755644 |             | \n",
       "| Q105584     | C           |  2049926923 |             | \n",
       "| Q4584301    | C           |  2052339927 |             | \n",
       "| Q565        | C           |  2052996261 |             | \n",
       "| Q1868372    | C           |  2056080224 |             | \n",
       "| Q209330     | C           |  2060928966 |             | \n",
       "| Q14005      | D           |  2063120071 |             | \n",
       "| Q918        | A           |  2063217449 |             | \n",
       "| Q150248     | C           |  2068796814 |             | \n",
       "| Q866        | A           |  2079749157 |             | \n",
       "| Q477675     | C           |  2080785713 |             | \n",
       "| Q1967876    | C           |  2084215818 |             | \n",
       "| Q750403     | B           |  2084693498 |             | \n",
       "| Q355        | C           |  2093900731 |             | \n",
       "| Q623578     | C           |  2097991400 |             | \n",
       "| Q17299517   | D           |  2105487660 |             | \n",
       "| Q33999      | C           |  2108672678 |             | \n",
       "| Q2494649    | C           |  2114531894 |             | \n",
       "| Q2597810    | C           |  2128920607 |             | \n",
       "| Q193563     | B           |  2130725560 |             | \n",
       "| Q423048     | C           |  2136131564 |             | \n",
       "| Q37312      | C           |  2142913121 |             | \n",
       "| Q54919      | C           |  2148531382 |             | \n",
       "| Q36578      | B           |  2229315598 |             | \n",
       "| Q30         | A           |  2277746226 |             | \n",
       "| Q6581097    | D           |  3273952711 |             | \n",
       "| Q5          | C           |  5668008721 |             | \n",
       "| Q5296       | C           | 12530369761 |             | \n",
       "\n",
       "\n"
      ],
      "text/plain": [
       "         entity_id prediction page_views  pop_class\n",
       "1        Q10040378 E          0                    \n",
       "2        Q10069140 C          0                    \n",
       "3        Q10081695 C          0                    \n",
       "4        Q10092002 E          0                    \n",
       "5        Q10111267 E          0                    \n",
       "6        Q10149726 E          0                    \n",
       "7        Q10180230 E          0                    \n",
       "8        Q10185035 E          0                    \n",
       "9        Q10205202 E          0                    \n",
       "10       Q10252966 E          0                    \n",
       "11       Q10444494 C          0                    \n",
       "12       Q10624171 C          0                    \n",
       "13       Q10704108 C          0                    \n",
       "14       Q10750354 C          0                    \n",
       "15       Q10766855 D          0                    \n",
       "16       Q10827611 E          0                    \n",
       "17       Q11093044 E          0                    \n",
       "18       Q11934537 E          0                    \n",
       "19       Q12133466 E          0                    \n",
       "20       Q12264503 E          0                    \n",
       "21       Q12267516 E          0                    \n",
       "22       Q12304084 E          0                    \n",
       "23       Q12443525 D          0                    \n",
       "24       Q12543904 E          0                    \n",
       "25       Q12890205 E          0                    \n",
       "26       Q12891524 E          0                    \n",
       "27       Q12918202 E          0                    \n",
       "28       Q13005653 E          0                    \n",
       "29       Q13073896 E          0                    \n",
       "30       Q13163823 E          0                    \n",
       "⋮        ⋮         ⋮          ⋮           ⋮        \n",
       "22151094 Q1048694  C           2048095025          \n",
       "22151095 Q31165    B           2048330818          \n",
       "22151096 Q40629    C           2049755644          \n",
       "22151097 Q105584   C           2049926923          \n",
       "22151098 Q4584301  C           2052339927          \n",
       "22151099 Q565      C           2052996261          \n",
       "22151100 Q1868372  C           2056080224          \n",
       "22151101 Q209330   C           2060928966          \n",
       "22151102 Q14005    D           2063120071          \n",
       "22151103 Q918      A           2063217449          \n",
       "22151104 Q150248   C           2068796814          \n",
       "22151105 Q866      A           2079749157          \n",
       "22151106 Q477675   C           2080785713          \n",
       "22151107 Q1967876  C           2084215818          \n",
       "22151108 Q750403   B           2084693498          \n",
       "22151109 Q355      C           2093900731          \n",
       "22151110 Q623578   C           2097991400          \n",
       "22151111 Q17299517 D           2105487660          \n",
       "22151112 Q33999    C           2108672678          \n",
       "22151113 Q2494649  C           2114531894          \n",
       "22151114 Q2597810  C           2128920607          \n",
       "22151115 Q193563   B           2130725560          \n",
       "22151116 Q423048   C           2136131564          \n",
       "22151117 Q37312    C           2142913121          \n",
       "22151118 Q54919    C           2148531382          \n",
       "22151119 Q36578    B           2229315598          \n",
       "22151120 Q30       A           2277746226          \n",
       "22151121 Q6581097  D           3273952711          \n",
       "22151122 Q5        C           5668008721          \n",
       "22151123 Q5296     C          12530369761          "
      ]
     },
     "metadata": {},
     "output_type": "display_data"
    },
    {
     "data": {
      "text/html": [
       "<table>\n",
       "<thead><tr><th scope=col>entity_id</th><th scope=col>prediction</th><th scope=col>page_views</th><th scope=col>pop_class</th><th scope=col>seqNum</th></tr></thead>\n",
       "<tbody>\n",
       "\t<tr><td>Q10040378</td><td>E        </td><td>0        </td><td>         </td><td> 1       </td></tr>\n",
       "\t<tr><td>Q10069140</td><td>C        </td><td>0        </td><td>         </td><td> 2       </td></tr>\n",
       "\t<tr><td>Q10081695</td><td>C        </td><td>0        </td><td>         </td><td> 3       </td></tr>\n",
       "\t<tr><td>Q10092002</td><td>E        </td><td>0        </td><td>         </td><td> 4       </td></tr>\n",
       "\t<tr><td>Q10111267</td><td>E        </td><td>0        </td><td>         </td><td> 5       </td></tr>\n",
       "\t<tr><td>Q10149726</td><td>E        </td><td>0        </td><td>         </td><td> 6       </td></tr>\n",
       "\t<tr><td>Q10180230</td><td>E        </td><td>0        </td><td>         </td><td> 7       </td></tr>\n",
       "\t<tr><td>Q10185035</td><td>E        </td><td>0        </td><td>         </td><td> 8       </td></tr>\n",
       "\t<tr><td>Q10205202</td><td>E        </td><td>0        </td><td>         </td><td> 9       </td></tr>\n",
       "\t<tr><td>Q10252966</td><td>E        </td><td>0        </td><td>         </td><td>10       </td></tr>\n",
       "\t<tr><td>Q10444494</td><td>C        </td><td>0        </td><td>         </td><td>11       </td></tr>\n",
       "\t<tr><td>Q10624171</td><td>C        </td><td>0        </td><td>         </td><td>12       </td></tr>\n",
       "\t<tr><td>Q10704108</td><td>C        </td><td>0        </td><td>         </td><td>13       </td></tr>\n",
       "\t<tr><td>Q10750354</td><td>C        </td><td>0        </td><td>         </td><td>14       </td></tr>\n",
       "\t<tr><td>Q10766855</td><td>D        </td><td>0        </td><td>         </td><td>15       </td></tr>\n",
       "\t<tr><td>Q10827611</td><td>E        </td><td>0        </td><td>         </td><td>16       </td></tr>\n",
       "\t<tr><td>Q11093044</td><td>E        </td><td>0        </td><td>         </td><td>17       </td></tr>\n",
       "\t<tr><td>Q11934537</td><td>E        </td><td>0        </td><td>         </td><td>18       </td></tr>\n",
       "\t<tr><td>Q12133466</td><td>E        </td><td>0        </td><td>         </td><td>19       </td></tr>\n",
       "\t<tr><td>Q12264503</td><td>E        </td><td>0        </td><td>         </td><td>20       </td></tr>\n",
       "\t<tr><td>Q12267516</td><td>E        </td><td>0        </td><td>         </td><td>21       </td></tr>\n",
       "\t<tr><td>Q12304084</td><td>E        </td><td>0        </td><td>         </td><td>22       </td></tr>\n",
       "\t<tr><td>Q12443525</td><td>D        </td><td>0        </td><td>         </td><td>23       </td></tr>\n",
       "\t<tr><td>Q12543904</td><td>E        </td><td>0        </td><td>         </td><td>24       </td></tr>\n",
       "\t<tr><td>Q12890205</td><td>E        </td><td>0        </td><td>         </td><td>25       </td></tr>\n",
       "\t<tr><td>Q12891524</td><td>E        </td><td>0        </td><td>         </td><td>26       </td></tr>\n",
       "\t<tr><td>Q12918202</td><td>E        </td><td>0        </td><td>         </td><td>27       </td></tr>\n",
       "\t<tr><td>Q13005653</td><td>E        </td><td>0        </td><td>         </td><td>28       </td></tr>\n",
       "\t<tr><td>Q13073896</td><td>E        </td><td>0        </td><td>         </td><td>29       </td></tr>\n",
       "\t<tr><td>Q13163823</td><td>E        </td><td>0        </td><td>         </td><td>30       </td></tr>\n",
       "\t<tr><td>⋮</td><td>⋮</td><td>⋮</td><td>⋮</td><td>⋮</td></tr>\n",
       "\t<tr><td>Q1048694   </td><td>C          </td><td> 2048095025</td><td>           </td><td>22151094   </td></tr>\n",
       "\t<tr><td>Q31165     </td><td>B          </td><td> 2048330818</td><td>           </td><td>22151095   </td></tr>\n",
       "\t<tr><td>Q40629     </td><td>C          </td><td> 2049755644</td><td>           </td><td>22151096   </td></tr>\n",
       "\t<tr><td>Q105584    </td><td>C          </td><td> 2049926923</td><td>           </td><td>22151097   </td></tr>\n",
       "\t<tr><td>Q4584301   </td><td>C          </td><td> 2052339927</td><td>           </td><td>22151098   </td></tr>\n",
       "\t<tr><td>Q565       </td><td>C          </td><td> 2052996261</td><td>           </td><td>22151099   </td></tr>\n",
       "\t<tr><td>Q1868372   </td><td>C          </td><td> 2056080224</td><td>           </td><td>22151100   </td></tr>\n",
       "\t<tr><td>Q209330    </td><td>C          </td><td> 2060928966</td><td>           </td><td>22151101   </td></tr>\n",
       "\t<tr><td>Q14005     </td><td>D          </td><td> 2063120071</td><td>           </td><td>22151102   </td></tr>\n",
       "\t<tr><td>Q918       </td><td>A          </td><td> 2063217449</td><td>           </td><td>22151103   </td></tr>\n",
       "\t<tr><td>Q150248    </td><td>C          </td><td> 2068796814</td><td>           </td><td>22151104   </td></tr>\n",
       "\t<tr><td>Q866       </td><td>A          </td><td> 2079749157</td><td>           </td><td>22151105   </td></tr>\n",
       "\t<tr><td>Q477675    </td><td>C          </td><td> 2080785713</td><td>           </td><td>22151106   </td></tr>\n",
       "\t<tr><td>Q1967876   </td><td>C          </td><td> 2084215818</td><td>           </td><td>22151107   </td></tr>\n",
       "\t<tr><td>Q750403    </td><td>B          </td><td> 2084693498</td><td>           </td><td>22151108   </td></tr>\n",
       "\t<tr><td>Q355       </td><td>C          </td><td> 2093900731</td><td>           </td><td>22151109   </td></tr>\n",
       "\t<tr><td>Q623578    </td><td>C          </td><td> 2097991400</td><td>           </td><td>22151110   </td></tr>\n",
       "\t<tr><td>Q17299517  </td><td>D          </td><td> 2105487660</td><td>           </td><td>22151111   </td></tr>\n",
       "\t<tr><td>Q33999     </td><td>C          </td><td> 2108672678</td><td>           </td><td>22151112   </td></tr>\n",
       "\t<tr><td>Q2494649   </td><td>C          </td><td> 2114531894</td><td>           </td><td>22151113   </td></tr>\n",
       "\t<tr><td>Q2597810   </td><td>C          </td><td> 2128920607</td><td>           </td><td>22151114   </td></tr>\n",
       "\t<tr><td>Q193563    </td><td>B          </td><td> 2130725560</td><td>           </td><td>22151115   </td></tr>\n",
       "\t<tr><td>Q423048    </td><td>C          </td><td> 2136131564</td><td>           </td><td>22151116   </td></tr>\n",
       "\t<tr><td>Q37312     </td><td>C          </td><td> 2142913121</td><td>           </td><td>22151117   </td></tr>\n",
       "\t<tr><td>Q54919     </td><td>C          </td><td> 2148531382</td><td>           </td><td>22151118   </td></tr>\n",
       "\t<tr><td>Q36578     </td><td>B          </td><td> 2229315598</td><td>           </td><td>22151119   </td></tr>\n",
       "\t<tr><td>Q30        </td><td>A          </td><td> 2277746226</td><td>           </td><td>22151120   </td></tr>\n",
       "\t<tr><td>Q6581097   </td><td>D          </td><td> 3273952711</td><td>           </td><td>22151121   </td></tr>\n",
       "\t<tr><td>Q5         </td><td>C          </td><td> 5668008721</td><td>           </td><td>22151122   </td></tr>\n",
       "\t<tr><td>Q5296      </td><td>C          </td><td>12530369761</td><td>           </td><td>22151123   </td></tr>\n",
       "</tbody>\n",
       "</table>\n"
      ],
      "text/latex": [
       "\\begin{tabular}{r|lllll}\n",
       " entity\\_id & prediction & page\\_views & pop\\_class & seqNum\\\\\n",
       "\\hline\n",
       "\t Q10040378 & E         & 0         &           &  1       \\\\\n",
       "\t Q10069140 & C         & 0         &           &  2       \\\\\n",
       "\t Q10081695 & C         & 0         &           &  3       \\\\\n",
       "\t Q10092002 & E         & 0         &           &  4       \\\\\n",
       "\t Q10111267 & E         & 0         &           &  5       \\\\\n",
       "\t Q10149726 & E         & 0         &           &  6       \\\\\n",
       "\t Q10180230 & E         & 0         &           &  7       \\\\\n",
       "\t Q10185035 & E         & 0         &           &  8       \\\\\n",
       "\t Q10205202 & E         & 0         &           &  9       \\\\\n",
       "\t Q10252966 & E         & 0         &           & 10       \\\\\n",
       "\t Q10444494 & C         & 0         &           & 11       \\\\\n",
       "\t Q10624171 & C         & 0         &           & 12       \\\\\n",
       "\t Q10704108 & C         & 0         &           & 13       \\\\\n",
       "\t Q10750354 & C         & 0         &           & 14       \\\\\n",
       "\t Q10766855 & D         & 0         &           & 15       \\\\\n",
       "\t Q10827611 & E         & 0         &           & 16       \\\\\n",
       "\t Q11093044 & E         & 0         &           & 17       \\\\\n",
       "\t Q11934537 & E         & 0         &           & 18       \\\\\n",
       "\t Q12133466 & E         & 0         &           & 19       \\\\\n",
       "\t Q12264503 & E         & 0         &           & 20       \\\\\n",
       "\t Q12267516 & E         & 0         &           & 21       \\\\\n",
       "\t Q12304084 & E         & 0         &           & 22       \\\\\n",
       "\t Q12443525 & D         & 0         &           & 23       \\\\\n",
       "\t Q12543904 & E         & 0         &           & 24       \\\\\n",
       "\t Q12890205 & E         & 0         &           & 25       \\\\\n",
       "\t Q12891524 & E         & 0         &           & 26       \\\\\n",
       "\t Q12918202 & E         & 0         &           & 27       \\\\\n",
       "\t Q13005653 & E         & 0         &           & 28       \\\\\n",
       "\t Q13073896 & E         & 0         &           & 29       \\\\\n",
       "\t Q13163823 & E         & 0         &           & 30       \\\\\n",
       "\t ⋮ & ⋮ & ⋮ & ⋮ & ⋮\\\\\n",
       "\t Q1048694    & C           &  2048095025 &             & 22151094   \\\\\n",
       "\t Q31165      & B           &  2048330818 &             & 22151095   \\\\\n",
       "\t Q40629      & C           &  2049755644 &             & 22151096   \\\\\n",
       "\t Q105584     & C           &  2049926923 &             & 22151097   \\\\\n",
       "\t Q4584301    & C           &  2052339927 &             & 22151098   \\\\\n",
       "\t Q565        & C           &  2052996261 &             & 22151099   \\\\\n",
       "\t Q1868372    & C           &  2056080224 &             & 22151100   \\\\\n",
       "\t Q209330     & C           &  2060928966 &             & 22151101   \\\\\n",
       "\t Q14005      & D           &  2063120071 &             & 22151102   \\\\\n",
       "\t Q918        & A           &  2063217449 &             & 22151103   \\\\\n",
       "\t Q150248     & C           &  2068796814 &             & 22151104   \\\\\n",
       "\t Q866        & A           &  2079749157 &             & 22151105   \\\\\n",
       "\t Q477675     & C           &  2080785713 &             & 22151106   \\\\\n",
       "\t Q1967876    & C           &  2084215818 &             & 22151107   \\\\\n",
       "\t Q750403     & B           &  2084693498 &             & 22151108   \\\\\n",
       "\t Q355        & C           &  2093900731 &             & 22151109   \\\\\n",
       "\t Q623578     & C           &  2097991400 &             & 22151110   \\\\\n",
       "\t Q17299517   & D           &  2105487660 &             & 22151111   \\\\\n",
       "\t Q33999      & C           &  2108672678 &             & 22151112   \\\\\n",
       "\t Q2494649    & C           &  2114531894 &             & 22151113   \\\\\n",
       "\t Q2597810    & C           &  2128920607 &             & 22151114   \\\\\n",
       "\t Q193563     & B           &  2130725560 &             & 22151115   \\\\\n",
       "\t Q423048     & C           &  2136131564 &             & 22151116   \\\\\n",
       "\t Q37312      & C           &  2142913121 &             & 22151117   \\\\\n",
       "\t Q54919      & C           &  2148531382 &             & 22151118   \\\\\n",
       "\t Q36578      & B           &  2229315598 &             & 22151119   \\\\\n",
       "\t Q30         & A           &  2277746226 &             & 22151120   \\\\\n",
       "\t Q6581097    & D           &  3273952711 &             & 22151121   \\\\\n",
       "\t Q5          & C           &  5668008721 &             & 22151122   \\\\\n",
       "\t Q5296       & C           & 12530369761 &             & 22151123   \\\\\n",
       "\\end{tabular}\n"
      ],
      "text/markdown": [
       "\n",
       "entity_id | prediction | page_views | pop_class | seqNum | \n",
       "|---|---|---|---|---|---|---|---|---|---|---|---|---|---|---|---|---|---|---|---|---|---|---|---|---|---|---|---|---|---|---|---|---|---|---|---|---|---|---|---|---|---|---|---|---|---|---|---|---|---|---|---|---|---|---|---|---|---|---|---|---|\n",
       "| Q10040378 | E         | 0         |           |  1        | \n",
       "| Q10069140 | C         | 0         |           |  2        | \n",
       "| Q10081695 | C         | 0         |           |  3        | \n",
       "| Q10092002 | E         | 0         |           |  4        | \n",
       "| Q10111267 | E         | 0         |           |  5        | \n",
       "| Q10149726 | E         | 0         |           |  6        | \n",
       "| Q10180230 | E         | 0         |           |  7        | \n",
       "| Q10185035 | E         | 0         |           |  8        | \n",
       "| Q10205202 | E         | 0         |           |  9        | \n",
       "| Q10252966 | E         | 0         |           | 10        | \n",
       "| Q10444494 | C         | 0         |           | 11        | \n",
       "| Q10624171 | C         | 0         |           | 12        | \n",
       "| Q10704108 | C         | 0         |           | 13        | \n",
       "| Q10750354 | C         | 0         |           | 14        | \n",
       "| Q10766855 | D         | 0         |           | 15        | \n",
       "| Q10827611 | E         | 0         |           | 16        | \n",
       "| Q11093044 | E         | 0         |           | 17        | \n",
       "| Q11934537 | E         | 0         |           | 18        | \n",
       "| Q12133466 | E         | 0         |           | 19        | \n",
       "| Q12264503 | E         | 0         |           | 20        | \n",
       "| Q12267516 | E         | 0         |           | 21        | \n",
       "| Q12304084 | E         | 0         |           | 22        | \n",
       "| Q12443525 | D         | 0         |           | 23        | \n",
       "| Q12543904 | E         | 0         |           | 24        | \n",
       "| Q12890205 | E         | 0         |           | 25        | \n",
       "| Q12891524 | E         | 0         |           | 26        | \n",
       "| Q12918202 | E         | 0         |           | 27        | \n",
       "| Q13005653 | E         | 0         |           | 28        | \n",
       "| Q13073896 | E         | 0         |           | 29        | \n",
       "| Q13163823 | E         | 0         |           | 30        | \n",
       "| ⋮ | ⋮ | ⋮ | ⋮ | ⋮ | \n",
       "| Q1048694    | C           |  2048095025 |             | 22151094    | \n",
       "| Q31165      | B           |  2048330818 |             | 22151095    | \n",
       "| Q40629      | C           |  2049755644 |             | 22151096    | \n",
       "| Q105584     | C           |  2049926923 |             | 22151097    | \n",
       "| Q4584301    | C           |  2052339927 |             | 22151098    | \n",
       "| Q565        | C           |  2052996261 |             | 22151099    | \n",
       "| Q1868372    | C           |  2056080224 |             | 22151100    | \n",
       "| Q209330     | C           |  2060928966 |             | 22151101    | \n",
       "| Q14005      | D           |  2063120071 |             | 22151102    | \n",
       "| Q918        | A           |  2063217449 |             | 22151103    | \n",
       "| Q150248     | C           |  2068796814 |             | 22151104    | \n",
       "| Q866        | A           |  2079749157 |             | 22151105    | \n",
       "| Q477675     | C           |  2080785713 |             | 22151106    | \n",
       "| Q1967876    | C           |  2084215818 |             | 22151107    | \n",
       "| Q750403     | B           |  2084693498 |             | 22151108    | \n",
       "| Q355        | C           |  2093900731 |             | 22151109    | \n",
       "| Q623578     | C           |  2097991400 |             | 22151110    | \n",
       "| Q17299517   | D           |  2105487660 |             | 22151111    | \n",
       "| Q33999      | C           |  2108672678 |             | 22151112    | \n",
       "| Q2494649    | C           |  2114531894 |             | 22151113    | \n",
       "| Q2597810    | C           |  2128920607 |             | 22151114    | \n",
       "| Q193563     | B           |  2130725560 |             | 22151115    | \n",
       "| Q423048     | C           |  2136131564 |             | 22151116    | \n",
       "| Q37312      | C           |  2142913121 |             | 22151117    | \n",
       "| Q54919      | C           |  2148531382 |             | 22151118    | \n",
       "| Q36578      | B           |  2229315598 |             | 22151119    | \n",
       "| Q30         | A           |  2277746226 |             | 22151120    | \n",
       "| Q6581097    | D           |  3273952711 |             | 22151121    | \n",
       "| Q5          | C           |  5668008721 |             | 22151122    | \n",
       "| Q5296       | C           | 12530369761 |             | 22151123    | \n",
       "\n",
       "\n"
      ],
      "text/plain": [
       "         entity_id prediction page_views  pop_class seqNum  \n",
       "1        Q10040378 E          0                      1      \n",
       "2        Q10069140 C          0                      2      \n",
       "3        Q10081695 C          0                      3      \n",
       "4        Q10092002 E          0                      4      \n",
       "5        Q10111267 E          0                      5      \n",
       "6        Q10149726 E          0                      6      \n",
       "7        Q10180230 E          0                      7      \n",
       "8        Q10185035 E          0                      8      \n",
       "9        Q10205202 E          0                      9      \n",
       "10       Q10252966 E          0                     10      \n",
       "11       Q10444494 C          0                     11      \n",
       "12       Q10624171 C          0                     12      \n",
       "13       Q10704108 C          0                     13      \n",
       "14       Q10750354 C          0                     14      \n",
       "15       Q10766855 D          0                     15      \n",
       "16       Q10827611 E          0                     16      \n",
       "17       Q11093044 E          0                     17      \n",
       "18       Q11934537 E          0                     18      \n",
       "19       Q12133466 E          0                     19      \n",
       "20       Q12264503 E          0                     20      \n",
       "21       Q12267516 E          0                     21      \n",
       "22       Q12304084 E          0                     22      \n",
       "23       Q12443525 D          0                     23      \n",
       "24       Q12543904 E          0                     24      \n",
       "25       Q12890205 E          0                     25      \n",
       "26       Q12891524 E          0                     26      \n",
       "27       Q12918202 E          0                     27      \n",
       "28       Q13005653 E          0                     28      \n",
       "29       Q13073896 E          0                     29      \n",
       "30       Q13163823 E          0                     30      \n",
       "⋮        ⋮         ⋮          ⋮           ⋮         ⋮       \n",
       "22151094 Q1048694  C           2048095025           22151094\n",
       "22151095 Q31165    B           2048330818           22151095\n",
       "22151096 Q40629    C           2049755644           22151096\n",
       "22151097 Q105584   C           2049926923           22151097\n",
       "22151098 Q4584301  C           2052339927           22151098\n",
       "22151099 Q565      C           2052996261           22151099\n",
       "22151100 Q1868372  C           2056080224           22151100\n",
       "22151101 Q209330   C           2060928966           22151101\n",
       "22151102 Q14005    D           2063120071           22151102\n",
       "22151103 Q918      A           2063217449           22151103\n",
       "22151104 Q150248   C           2068796814           22151104\n",
       "22151105 Q866      A           2079749157           22151105\n",
       "22151106 Q477675   C           2080785713           22151106\n",
       "22151107 Q1967876  C           2084215818           22151107\n",
       "22151108 Q750403   B           2084693498           22151108\n",
       "22151109 Q355      C           2093900731           22151109\n",
       "22151110 Q623578   C           2097991400           22151110\n",
       "22151111 Q17299517 D           2105487660           22151111\n",
       "22151112 Q33999    C           2108672678           22151112\n",
       "22151113 Q2494649  C           2114531894           22151113\n",
       "22151114 Q2597810  C           2128920607           22151114\n",
       "22151115 Q193563   B           2130725560           22151115\n",
       "22151116 Q423048   C           2136131564           22151116\n",
       "22151117 Q37312    C           2142913121           22151117\n",
       "22151118 Q54919    C           2148531382           22151118\n",
       "22151119 Q36578    B           2229315598           22151119\n",
       "22151120 Q30       A           2277746226           22151120\n",
       "22151121 Q6581097  D           3273952711           22151121\n",
       "22151122 Q5        C           5668008721           22151122\n",
       "22151123 Q5296     C          12530369761           22151123"
      ]
     },
     "metadata": {},
     "output_type": "display_data"
    }
   ],
   "source": [
    "## 2: assign popularity assessment class based on rank\n",
    "##   (buckets based on number of articles in each class)\n",
    "articles_by_pop[, pop_class := ''];\n",
    "articles_by_pop[, seqNum := seq_len(nrow(articles_by_pop))];"
   ]
  },
  {
   "cell_type": "code",
   "execution_count": 12,
   "metadata": {
    "collapsed": true
   },
   "outputs": [],
   "source": [
    "assign_pop_class = function(dataset, classes, class_n) {\n",
    "  ## Based on the per-class number of articles in class_n\n",
    "  ## assign popularity based on classes to dataset.\n",
    "  prev_idx = 0;\n",
    "  for(rating in classes) {\n",
    "    start_idx = prev_idx + 1;\n",
    "    end_idx = start_idx + class_n[prediction == rating]$narticles;\n",
    "    print(paste('start_idx =', start_idx, ', end_idx = ', end_idx));\n",
    "    dataset[seqNum >= start_idx & seqNum <= end_idx, pop_class := rating];\n",
    "    prev_idx = end_idx -1;\n",
    "  }\n",
    "  dataset;\n",
    "}"
   ]
  },
  {
   "cell_type": "code",
   "execution_count": 13,
   "metadata": {
    "collapsed": false
   },
   "outputs": [
    {
     "name": "stdout",
     "output_type": "stream",
     "text": [
      "[1] \"start_idx = 1 , end_idx =  11743884\"\n",
      "[1] \"start_idx = 11743884 , end_idx =  16216674\"\n",
      "[1] \"start_idx = 16216674 , end_idx =  21646336\"\n",
      "[1] \"start_idx = 21646336 , end_idx =  22147155\"\n",
      "[1] \"start_idx = 22147155 , end_idx =  22151124\"\n"
     ]
    }
   ],
   "source": [
    "articles_by_pop = assign_pop_class(articles_by_pop,\n",
    "  assessment_classes, n_per_class);"
   ]
  },
  {
   "cell_type": "code",
   "execution_count": 14,
   "metadata": {
    "collapsed": true
   },
   "outputs": [],
   "source": [
    "create_dissonance_matrix = function(articledata, classes) {\n",
    "  d_mtrx = matrix(0, nrow=length(classes), ncol=length(classes));\n",
    "  rownames(d_mtrx) = classes;\n",
    "  colnames(d_mtrx) = classes;\n",
    "\n",
    "  for(real_rating in classes) {\n",
    "    for(pop_rating in classes) {\n",
    "      d_mtrx[real_rating, pop_rating] = length(articledata[prediction == real_rating & pop_class == pop_rating]$entity_id);\n",
    "    }\n",
    "  }\n",
    "  d_mtrx;\n",
    "}\n"
   ]
  },
  {
   "cell_type": "code",
   "execution_count": null,
   "metadata": {
    "collapsed": false
   },
   "outputs": [],
   "source": [
    "## Based on direct hits to articles:\n",
    "create_dissonance_matrix(articles_by_pop, assessment_classes)"
   ]
  },
  {
   "cell_type": "code",
   "execution_count": null,
   "metadata": {
    "collapsed": true
   },
   "outputs": [],
   "source": [
    "dissonance_matrix = create_dissonance_matrix(articles_by_pop,\n",
    "  assessment_classes);"
   ]
  },
  {
   "cell_type": "code",
   "execution_count": null,
   "metadata": {
    "collapsed": false
   },
   "outputs": [],
   "source": [
    "prediction_e_pop_class_a <- merge(articles_by_pop[prediction == 'E' & pop_class == 'A'],quality_prediction_and_page_views, by='entity_id')[, c(\"entity_id\",\"page_views.x\", \"number_of_revisions\")]"
   ]
  },
  {
   "cell_type": "code",
   "execution_count": null,
   "metadata": {
    "collapsed": false
   },
   "outputs": [],
   "source": [
    "head(prediction_e_pop_class_a)"
   ]
  },
  {
   "cell_type": "code",
   "execution_count": null,
   "metadata": {
    "collapsed": false
   },
   "outputs": [],
   "source": [
    "## Let's write the stubs out to a file\n",
    "# write.table(views_with_redirects[articles_by_pop[assessment_class == 'Stub' & pop_class == 'FA']][,list(pageid, pagetitle, loghits, logmeanhits)],\n",
    "#            '../datasets/assessments/stubs-fa-by-rank.txt');"
   ]
  },
  {
   "cell_type": "code",
   "execution_count": null,
   "metadata": {
    "collapsed": true
   },
   "outputs": [],
   "source": [
    "## Q: why do I get _two_ pageid columns?  Solution is to do the selection\n",
    "## on the joined table, not as a select _in_ the join.\n",
    "\n",
    "## Dissonance matrix proportions by row (..., 1) and column (..., 2)\n",
    "## rounded to 1 decimal places."
   ]
  },
  {
   "cell_type": "code",
   "execution_count": null,
   "metadata": {
    "collapsed": false
   },
   "outputs": [],
   "source": [
    "round(100*prop.table(dissonance_matrix, 1), 1);"
   ]
  },
  {
   "cell_type": "code",
   "execution_count": null,
   "metadata": {
    "collapsed": false
   },
   "outputs": [],
   "source": [
    "round(100*prop.table(dissonance_matrix, 2), 1);"
   ]
  },
  {
   "cell_type": "markdown",
   "metadata": {},
   "source": [
    "# Dissonance Measures (was seperate file)"
   ]
  },
  {
   "cell_type": "code",
   "execution_count": null,
   "metadata": {
    "collapsed": true
   },
   "outputs": [],
   "source": [
    "## Various ways of measuring dissonance.\n",
    "\n",
    "## DATA ASSUMPTION: articles_by_pop from build-dissonance-table.R\n",
    "## is loaded into memory.\n",
    "\n",
    "## None/Moderate/High measure of dissonance"
   ]
  },
  {
   "cell_type": "code",
   "execution_count": null,
   "metadata": {
    "collapsed": false
   },
   "outputs": [],
   "source": [
    "articles_by_pop[, pop_class := ordered(pop_class, assessment_classes)];"
   ]
  },
  {
   "cell_type": "code",
   "execution_count": null,
   "metadata": {
    "collapsed": true
   },
   "outputs": [],
   "source": [
    "dissonance_metric = c('High negative', 'Moderate negative',\n",
    "  'None', 'Moderate positive', 'High positive');"
   ]
  },
  {
   "cell_type": "code",
   "execution_count": null,
   "metadata": {
    "collapsed": false
   },
   "outputs": [],
   "source": [
    "articles_by_pop[, dissonance := factor(NA, dissonance_metric)];"
   ]
  },
  {
   "cell_type": "code",
   "execution_count": null,
   "metadata": {
    "collapsed": true
   },
   "outputs": [],
   "source": [
    "## NOTE: because pop_class is of class ordered, we can use\n",
    "##       expressions like \"pop_class < 'C'\" as expected"
   ]
  },
  {
   "cell_type": "code",
   "execution_count": null,
   "metadata": {
    "collapsed": false
   },
   "outputs": [],
   "source": [
    "## A: None if A, Moderate if A, High elsewhere\n",
    "articles_by_pop[prediction == 'A' & pop_class <= 'C',\n",
    "                dissonance := 'High negative'];\n",
    "articles_by_pop[prediction == 'A' & pop_class == 'B',\n",
    "                dissonance := 'Moderate negative'];\n",
    "articles_by_pop[prediction == 'A' & pop_class == 'A',\n",
    "                dissonance := 'None'];\n"
   ]
  },
  {
   "cell_type": "code",
   "execution_count": null,
   "metadata": {
    "collapsed": false
   },
   "outputs": [],
   "source": [
    "## B: \n",
    "articles_by_pop[prediction == 'B' & pop_class <= 'D',\n",
    "                dissonance := 'High negative'];\n",
    "articles_by_pop[prediction == 'B' & pop_class == 'C',\n",
    "                dissonance := 'Moderate negative'];\n",
    "articles_by_pop[prediction == 'B' & pop_class == 'B',\n",
    "                dissonance := 'None'];\n",
    "articles_by_pop[prediction == 'B' & pop_class == 'A',\n",
    "                dissonance := 'Moderate positive'];"
   ]
  },
  {
   "cell_type": "code",
   "execution_count": null,
   "metadata": {
    "collapsed": false
   },
   "outputs": [],
   "source": [
    "## C: \n",
    "articles_by_pop[prediction == 'C' & pop_class == 'E',\n",
    "                dissonance := 'High negative'];\n",
    "articles_by_pop[prediction == 'C' & pop_class == 'D',\n",
    "                dissonance := 'Moderate negative'];\n",
    "articles_by_pop[prediction == 'C' & pop_class == 'C',\n",
    "                dissonance := 'None'];\n",
    "articles_by_pop[prediction == 'C' & pop_class == 'B',\n",
    "                dissonance := 'Moderate positive'];\n",
    "articles_by_pop[prediction == 'C' & pop_class == 'A',\n",
    "                dissonance := 'High positive'];"
   ]
  },
  {
   "cell_type": "code",
   "execution_count": null,
   "metadata": {
    "collapsed": false
   },
   "outputs": [],
   "source": [
    "## D\n",
    "articles_by_pop[prediction == 'D' & pop_class == 'E',\n",
    "                dissonance := 'Moderate negative'];\n",
    "articles_by_pop[prediction == 'D' & pop_class == 'D',\n",
    "                dissonance := 'None'];\n",
    "articles_by_pop[prediction == 'D' & pop_class == 'C',\n",
    "                dissonance := 'Moderate positive'];\n",
    "articles_by_pop[prediction == 'D' & pop_class >= 'B',\n",
    "                dissonance := 'High positive'];"
   ]
  },
  {
   "cell_type": "code",
   "execution_count": null,
   "metadata": {
    "collapsed": false
   },
   "outputs": [],
   "source": [
    "## E\n",
    "articles_by_pop[prediction == 'E' & pop_class == 'E',\n",
    "                dissonance := 'None'];\n",
    "articles_by_pop[prediction == 'E' & pop_class == 'D',\n",
    "                dissonance := 'Moderate positive'];\n",
    "articles_by_pop[prediction == 'E' & pop_class >= 'C',\n",
    "                dissonance := 'High positive'];"
   ]
  },
  {
   "cell_type": "code",
   "execution_count": null,
   "metadata": {
    "collapsed": false
   },
   "outputs": [],
   "source": [
    "## Build a matrix where columns are the metric and rows are classes\n",
    "create_alt_diss_matrix = function(articledata, metric, classes) {\n",
    "  d_mtrx = matrix(0, nrow=length(classes), ncol=length(metric));\n",
    "  rownames(d_mtrx) = classes;\n",
    "  colnames(d_mtrx) = metric;\n",
    "\n",
    "  ## NOTE: R matrix values are [row,col] dimensions\n",
    "  for(real_rating in classes) {\n",
    "    for(diss_rating in metric) {\n",
    "      d_mtrx[real_rating, diss_rating] = length(articledata[prediction == real_rating & dissonance == diss_rating]$entity_id);\n",
    "    }\n",
    "  }\n",
    "  d_mtrx;\n",
    "}\n",
    "\n",
    "alternative_dissonance_matrix.1 = create_alt_diss_matrix(articles_by_pop,\n",
    "  dissonance_metric, assessment_classes);\n",
    "\n",
    "\n"
   ]
  },
  {
   "cell_type": "code",
   "execution_count": null,
   "metadata": {
    "collapsed": false
   },
   "outputs": [],
   "source": [
    "## Normalise by row\n",
    "round(100*prop.table(alternative_dissonance_matrix.1, 1), 1);\n",
    "\n",
    "\n"
   ]
  },
  {
   "cell_type": "code",
   "execution_count": null,
   "metadata": {
    "collapsed": false
   },
   "outputs": [],
   "source": [
    "## Number of dissonant views per assessment class and amount of dissonance\n",
    "articles_by_pop[, list(dissonant_views=sum(page_views)), by=list(prediction, dissonance)];\n",
    "\n"
   ]
  },
  {
   "cell_type": "code",
   "execution_count": null,
   "metadata": {
    "collapsed": false
   },
   "outputs": [],
   "source": [
    "## Calculations of total number of dissonant views per dissonance\n",
    "articles_by_pop[, list(dissonant_views=sum(page_views)), by=list(dissonance)];"
   ]
  },
  {
   "cell_type": "code",
   "execution_count": null,
   "metadata": {
    "collapsed": false
   },
   "outputs": [],
   "source": [
    "articles_by_pop[,sum(as.numeric(page_views))];"
   ]
  },
  {
   "cell_type": "code",
   "execution_count": null,
   "metadata": {
    "collapsed": false
   },
   "outputs": [],
   "source": [
    "## Proportions\n",
    "100*65938379920/545180810059;\n",
    "100*125047198/545180810059;\n",
    "100*6713682043/545180810059;\n",
    "100*120523625541/545180810059;\n",
    "100*351880075357/545180810059;"
   ]
  },
  {
   "cell_type": "code",
   "execution_count": null,
   "metadata": {
    "collapsed": true
   },
   "outputs": [],
   "source": [
    "# 87% of views are high positive"
   ]
  },
  {
   "cell_type": "code",
   "execution_count": null,
   "metadata": {
    "collapsed": false
   },
   "outputs": [],
   "source": [
    "100*(articles_by_pop[, list(dissonant_views=sum(page_views)), by=list(dissonance)][1][,c('dissonant_views')]/articles_by_pop[,sum(as.numeric(page_views))])"
   ]
  },
  {
   "cell_type": "code",
   "execution_count": null,
   "metadata": {
    "collapsed": false
   },
   "outputs": [],
   "source": [
    "100*(articles_by_pop[, list(dissonant_views=sum(page_views)), by=list(dissonance)][2][,c('dissonant_views')]/articles_by_pop[,sum(as.numeric(page_views))])"
   ]
  },
  {
   "cell_type": "code",
   "execution_count": null,
   "metadata": {
    "collapsed": false
   },
   "outputs": [],
   "source": [
    "100*(articles_by_pop[, list(dissonant_views=sum(page_views)), by=list(dissonance)][3][,c('dissonant_views')]/articles_by_pop[,sum(as.numeric(page_views))])"
   ]
  },
  {
   "cell_type": "code",
   "execution_count": null,
   "metadata": {
    "collapsed": false
   },
   "outputs": [],
   "source": [
    "100*(articles_by_pop[, list(dissonant_views=sum(page_views)), by=list(dissonance)][4][,c('dissonant_views')]/articles_by_pop[,sum(as.numeric(page_views))])"
   ]
  },
  {
   "cell_type": "code",
   "execution_count": null,
   "metadata": {
    "collapsed": false
   },
   "outputs": [],
   "source": [
    "100*(articles_by_pop[, list(dissonant_views=sum(page_views)), by=list(dissonance)][5][,c('dissonant_views')]/articles_by_pop[,sum(as.numeric(page_views))])"
   ]
  },
  {
   "cell_type": "code",
   "execution_count": null,
   "metadata": {
    "collapsed": true
   },
   "outputs": [],
   "source": []
  }
 ],
 "metadata": {
  "anaconda-cloud": {},
  "kernelspec": {
   "display_name": "R [r]",
   "language": "R",
   "name": "R [r]"
  },
  "language_info": {
   "codemirror_mode": "r",
   "file_extension": ".r",
   "mimetype": "text/x-r-source",
   "name": "R",
   "pygments_lexer": "r",
   "version": "3.3.2"
  }
 },
 "nbformat": 4,
 "nbformat_minor": 0
}
