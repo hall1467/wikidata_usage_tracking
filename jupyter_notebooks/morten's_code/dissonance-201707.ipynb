{
 "cells": [
  {
   "cell_type": "code",
   "execution_count": 1,
   "metadata": {
    "collapsed": true
   },
   "outputs": [],
   "source": [
    "library(data.table)"
   ]
  },
  {
   "cell_type": "code",
   "execution_count": 2,
   "metadata": {
    "collapsed": true
   },
   "outputs": [],
   "source": [
    "## Using a table of article assessments and views, build tables\n",
    "## (matrices) that shows the number of dissonant articles per\n",
    "## assessment category based on sorting by popularity.\n",
    "##\n",
    "## The underlying assumption is that in an ideal system with a limited\n",
    "## and fixed amount of resources (in other words, popularity and high quality\n",
    "## artefacts does not increase the amount of resources in the system),\n",
    "## popularity ranking and assessment class follow a 1-to-1 relationship.\n",
    "## We can therefore sort by popularity and group articles that way\n",
    "## because work will be prioritised by popularity.\n",
    "\n",
    "## DATA ASSUMPTION: views_with_redirects from resolve-redirects.R\n",
    "## is loaded into memory.\n",
    "\n",
    "## 3: build a 2x2 matrix of assessment classes and popularity classes\n",
    "## \n",
    "\n",
    "## Assessment classes in ascending order of quality."
   ]
  },
  {
   "cell_type": "code",
   "execution_count": 3,
   "metadata": {
    "collapsed": true
   },
   "outputs": [],
   "source": [
    "assessment_classes = c('E', 'D', 'C', 'B', 'A');"
   ]
  },
  {
   "cell_type": "code",
   "execution_count": null,
   "metadata": {
    "collapsed": false
   },
   "outputs": [],
   "source": [
    "quality_prediction_and_page_views <- read.table(\"../../results/sql_queries/entity_views_and_aggregated_revisions/entity_views_and_aggregated_revisions_and_quality_scoring_20170701.tsv\", header=FALSE, sep=\"\\t\")"
   ]
  },
  {
   "cell_type": "code",
   "execution_count": null,
   "metadata": {
    "collapsed": true
   },
   "outputs": [],
   "source": [
    "quality_prediction_and_page_views <- data.table(quality_prediction_and_page_views)"
   ]
  },
  {
   "cell_type": "code",
   "execution_count": null,
   "metadata": {
    "collapsed": false
   },
   "outputs": [],
   "source": [
    "colnames(quality_prediction_and_page_views) <- c('entity_id','number_of_revisions', 'page_views', 'prediction', 'ordinal_score')"
   ]
  },
  {
   "cell_type": "code",
   "execution_count": null,
   "metadata": {
    "collapsed": false
   },
   "outputs": [],
   "source": [
    "summary(quality_prediction_and_page_views)"
   ]
  },
  {
   "cell_type": "code",
   "execution_count": null,
   "metadata": {
    "collapsed": false
   },
   "outputs": [],
   "source": [
    "## 0: calculate number of articles in each assessment class\n",
    "n_per_class = quality_prediction_and_page_views[, list(narticles=sum(.N)), by='prediction']"
   ]
  },
  {
   "cell_type": "code",
   "execution_count": null,
   "metadata": {
    "collapsed": false
   },
   "outputs": [],
   "source": [
    "setkey(n_per_class, prediction);\n",
    "## NOTE: setkey allows us to do n_per_class['GA']$narticles to get counts"
   ]
  },
  {
   "cell_type": "code",
   "execution_count": null,
   "metadata": {
    "collapsed": true
   },
   "outputs": [],
   "source": [
    "## 1: order articles by popularity\n",
    "articles_by_pop = quality_prediction_and_page_views[order(quality_prediction_and_page_views$page_views)][,list(entity_id, prediction, page_views)];\n",
    "\n"
   ]
  },
  {
   "cell_type": "code",
   "execution_count": null,
   "metadata": {
    "collapsed": false
   },
   "outputs": [],
   "source": [
    "## 2: assign popularity assessment class based on rank\n",
    "##   (buckets based on number of articles in each class)\n",
    "articles_by_pop[, pop_class := ''];\n",
    "articles_by_pop[, seqNum := seq_len(nrow(articles_by_pop))];"
   ]
  },
  {
   "cell_type": "code",
   "execution_count": null,
   "metadata": {
    "collapsed": true
   },
   "outputs": [],
   "source": [
    "assign_pop_class = function(dataset, classes, class_n) {\n",
    "  ## Based on the per-class number of articles in class_n\n",
    "  ## assign popularity based on classes to dataset.\n",
    "  prev_idx = 0;\n",
    "  for(rating in classes) {\n",
    "    start_idx = prev_idx + 1;\n",
    "    end_idx = start_idx + class_n[prediction == rating]$narticles;\n",
    "    print(paste('start_idx =', start_idx, ', end_idx = ', end_idx));\n",
    "    dataset[seqNum >= start_idx & seqNum <= end_idx, pop_class := rating];\n",
    "    prev_idx = end_idx -1;\n",
    "  }\n",
    "  dataset;\n",
    "}"
   ]
  },
  {
   "cell_type": "code",
   "execution_count": null,
   "metadata": {
    "collapsed": false
   },
   "outputs": [],
   "source": [
    "articles_by_pop = assign_pop_class(articles_by_pop,\n",
    "  assessment_classes, n_per_class);"
   ]
  },
  {
   "cell_type": "code",
   "execution_count": null,
   "metadata": {
    "collapsed": true
   },
   "outputs": [],
   "source": [
    "create_dissonance_matrix = function(articledata, classes) {\n",
    "  d_mtrx = matrix(0, nrow=length(classes), ncol=length(classes));\n",
    "  rownames(d_mtrx) = classes;\n",
    "  colnames(d_mtrx) = classes;\n",
    "\n",
    "  for(real_rating in classes) {\n",
    "    for(pop_rating in classes) {\n",
    "      d_mtrx[real_rating, pop_rating] = length(articledata[prediction == real_rating & pop_class == pop_rating]$entity_id);\n",
    "    }\n",
    "  }\n",
    "  d_mtrx;\n",
    "}\n"
   ]
  },
  {
   "cell_type": "code",
   "execution_count": null,
   "metadata": {
    "collapsed": false
   },
   "outputs": [],
   "source": [
    "## Based on direct hits to articles:\n",
    "create_dissonance_matrix(articles_by_pop, assessment_classes)"
   ]
  },
  {
   "cell_type": "code",
   "execution_count": null,
   "metadata": {
    "collapsed": true
   },
   "outputs": [],
   "source": [
    "dissonance_matrix = create_dissonance_matrix(articles_by_pop,\n",
    "  assessment_classes);"
   ]
  },
  {
   "cell_type": "code",
   "execution_count": null,
   "metadata": {
    "collapsed": false
   },
   "outputs": [],
   "source": [
    "prediction_e_pop_class_a <- merge(articles_by_pop[prediction == 'E' & pop_class == 'A'],quality_prediction_and_page_views, by='entity_id')[, c(\"entity_id\",\"page_views.x\", \"number_of_revisions\")]"
   ]
  },
  {
   "cell_type": "code",
   "execution_count": null,
   "metadata": {
    "collapsed": false
   },
   "outputs": [],
   "source": [
    "head(prediction_e_pop_class_a)"
   ]
  },
  {
   "cell_type": "code",
   "execution_count": null,
   "metadata": {
    "collapsed": true
   },
   "outputs": [],
   "source": [
    "## Q: why do I get _two_ pageid columns?  Solution is to do the selection\n",
    "## on the joined table, not as a select _in_ the join.\n",
    "\n",
    "## Dissonance matrix proportions by row (..., 1) and column (..., 2)\n",
    "## rounded to 1 decimal places."
   ]
  },
  {
   "cell_type": "code",
   "execution_count": null,
   "metadata": {
    "collapsed": false
   },
   "outputs": [],
   "source": [
    "round(100*prop.table(dissonance_matrix, 1), 1);"
   ]
  },
  {
   "cell_type": "code",
   "execution_count": null,
   "metadata": {
    "collapsed": false
   },
   "outputs": [],
   "source": [
    "round(100*prop.table(dissonance_matrix, 2), 1);"
   ]
  },
  {
   "cell_type": "code",
   "execution_count": null,
   "metadata": {
    "collapsed": true
   },
   "outputs": [],
   "source": [
    "## Let's write the stubs out to a file\n",
    "# write.table(views_with_redirects[articles_by_pop[assessment_class == 'Stub' & pop_class == 'FA']][,list(pageid, pagetitle, loghits, logmeanhits)],\n",
    "#            '../datasets/assessments/stubs-fa-by-rank.txt');"
   ]
  },
  {
   "cell_type": "markdown",
   "metadata": {},
   "source": [
    "# Dissonance Measures (was seperate file)"
   ]
  },
  {
   "cell_type": "code",
   "execution_count": null,
   "metadata": {
    "collapsed": true
   },
   "outputs": [],
   "source": [
    "## Various ways of measuring dissonance.\n",
    "\n",
    "## DATA ASSUMPTION: articles_by_pop from build-dissonance-table.R\n",
    "## is loaded into memory.\n",
    "\n",
    "## None/Moderate/High measure of dissonance"
   ]
  },
  {
   "cell_type": "code",
   "execution_count": null,
   "metadata": {
    "collapsed": false
   },
   "outputs": [],
   "source": [
    "articles_by_pop[, pop_class := ordered(pop_class, assessment_classes)];"
   ]
  },
  {
   "cell_type": "code",
   "execution_count": null,
   "metadata": {
    "collapsed": true
   },
   "outputs": [],
   "source": [
    "dissonance_metric = c('High negative', 'Moderate negative',\n",
    "  'None', 'Moderate positive', 'High positive');"
   ]
  },
  {
   "cell_type": "code",
   "execution_count": null,
   "metadata": {
    "collapsed": false
   },
   "outputs": [],
   "source": [
    "articles_by_pop[, dissonance := factor(NA, dissonance_metric)];"
   ]
  },
  {
   "cell_type": "code",
   "execution_count": null,
   "metadata": {
    "collapsed": true
   },
   "outputs": [],
   "source": [
    "## NOTE: because pop_class is of class ordered, we can use\n",
    "##       expressions like \"pop_class < 'C'\" as expected"
   ]
  },
  {
   "cell_type": "code",
   "execution_count": null,
   "metadata": {
    "collapsed": false
   },
   "outputs": [],
   "source": [
    "## A: None if A, Moderate if A, High elsewhere\n",
    "articles_by_pop[prediction == 'A' & pop_class <= 'C',\n",
    "                dissonance := 'High negative'];\n",
    "articles_by_pop[prediction == 'A' & pop_class == 'B',\n",
    "                dissonance := 'Moderate negative'];\n",
    "articles_by_pop[prediction == 'A' & pop_class == 'A',\n",
    "                dissonance := 'None'];\n"
   ]
  },
  {
   "cell_type": "code",
   "execution_count": null,
   "metadata": {
    "collapsed": false
   },
   "outputs": [],
   "source": [
    "## B: \n",
    "articles_by_pop[prediction == 'B' & pop_class <= 'D',\n",
    "                dissonance := 'High negative'];\n",
    "articles_by_pop[prediction == 'B' & pop_class == 'C',\n",
    "                dissonance := 'Moderate negative'];\n",
    "articles_by_pop[prediction == 'B' & pop_class == 'B',\n",
    "                dissonance := 'None'];\n",
    "articles_by_pop[prediction == 'B' & pop_class == 'A',\n",
    "                dissonance := 'Moderate positive'];"
   ]
  },
  {
   "cell_type": "code",
   "execution_count": null,
   "metadata": {
    "collapsed": false
   },
   "outputs": [],
   "source": [
    "## C: \n",
    "articles_by_pop[prediction == 'C' & pop_class == 'E',\n",
    "                dissonance := 'High negative'];\n",
    "articles_by_pop[prediction == 'C' & pop_class == 'D',\n",
    "                dissonance := 'Moderate negative'];\n",
    "articles_by_pop[prediction == 'C' & pop_class == 'C',\n",
    "                dissonance := 'None'];\n",
    "articles_by_pop[prediction == 'C' & pop_class == 'B',\n",
    "                dissonance := 'Moderate positive'];\n",
    "articles_by_pop[prediction == 'C' & pop_class == 'A',\n",
    "                dissonance := 'High positive'];"
   ]
  },
  {
   "cell_type": "code",
   "execution_count": null,
   "metadata": {
    "collapsed": false
   },
   "outputs": [],
   "source": [
    "## D\n",
    "articles_by_pop[prediction == 'D' & pop_class == 'E',\n",
    "                dissonance := 'Moderate negative'];\n",
    "articles_by_pop[prediction == 'D' & pop_class == 'D',\n",
    "                dissonance := 'None'];\n",
    "articles_by_pop[prediction == 'D' & pop_class == 'C',\n",
    "                dissonance := 'Moderate positive'];\n",
    "articles_by_pop[prediction == 'D' & pop_class >= 'B',\n",
    "                dissonance := 'High positive'];"
   ]
  },
  {
   "cell_type": "code",
   "execution_count": null,
   "metadata": {
    "collapsed": false
   },
   "outputs": [],
   "source": [
    "## E\n",
    "articles_by_pop[prediction == 'E' & pop_class == 'E',\n",
    "                dissonance := 'None'];\n",
    "articles_by_pop[prediction == 'E' & pop_class == 'D',\n",
    "                dissonance := 'Moderate positive'];\n",
    "articles_by_pop[prediction == 'E' & pop_class >= 'C',\n",
    "                dissonance := 'High positive'];"
   ]
  },
  {
   "cell_type": "code",
   "execution_count": null,
   "metadata": {
    "collapsed": false
   },
   "outputs": [],
   "source": [
    "## Build a matrix where columns are the metric and rows are classes\n",
    "create_alt_diss_matrix = function(articledata, metric, classes) {\n",
    "  d_mtrx = matrix(0, nrow=length(classes), ncol=length(metric));\n",
    "  rownames(d_mtrx) = classes;\n",
    "  colnames(d_mtrx) = metric;\n",
    "\n",
    "  ## NOTE: R matrix values are [row,col] dimensions\n",
    "  for(real_rating in classes) {\n",
    "    for(diss_rating in metric) {\n",
    "      d_mtrx[real_rating, diss_rating] = length(articledata[prediction == real_rating & dissonance == diss_rating]$entity_id);\n",
    "    }\n",
    "  }\n",
    "  d_mtrx;\n",
    "}\n",
    "\n",
    "alternative_dissonance_matrix.1 = create_alt_diss_matrix(articles_by_pop,\n",
    "  dissonance_metric, assessment_classes);\n",
    "\n",
    "\n"
   ]
  },
  {
   "cell_type": "code",
   "execution_count": null,
   "metadata": {
    "collapsed": false
   },
   "outputs": [],
   "source": [
    "## Normalise by row\n",
    "round(100*prop.table(alternative_dissonance_matrix.1, 1), 1);\n",
    "\n",
    "\n"
   ]
  },
  {
   "cell_type": "code",
   "execution_count": null,
   "metadata": {
    "collapsed": false
   },
   "outputs": [],
   "source": [
    "## Number of dissonant views per assessment class and amount of dissonance\n",
    "articles_by_pop[, list(dissonant_views=sum(page_views)), by=list(prediction, dissonance)];\n",
    "\n"
   ]
  },
  {
   "cell_type": "code",
   "execution_count": null,
   "metadata": {
    "collapsed": false
   },
   "outputs": [],
   "source": [
    "## Calculations of total number of dissonant views per dissonance\n",
    "articles_by_pop[, list(dissonant_views=sum(page_views)), by=list(dissonance)];"
   ]
  },
  {
   "cell_type": "code",
   "execution_count": null,
   "metadata": {
    "collapsed": false
   },
   "outputs": [],
   "source": [
    "articles_by_pop[,sum(as.numeric(page_views))];"
   ]
  },
  {
   "cell_type": "code",
   "execution_count": null,
   "metadata": {
    "collapsed": false
   },
   "outputs": [],
   "source": [
    "## Proportions\n",
    "100*65938379920/545180810059;\n",
    "100*125047198/545180810059;\n",
    "100*6713682043/545180810059;\n",
    "100*120523625541/545180810059;\n",
    "100*351880075357/545180810059;"
   ]
  },
  {
   "cell_type": "code",
   "execution_count": null,
   "metadata": {
    "collapsed": true
   },
   "outputs": [],
   "source": [
    "# 87% of views are high positive"
   ]
  },
  {
   "cell_type": "code",
   "execution_count": null,
   "metadata": {
    "collapsed": false
   },
   "outputs": [],
   "source": [
    "100*(articles_by_pop[, list(dissonant_views=sum(page_views)), by=list(dissonance)][1][,c('dissonant_views')]/articles_by_pop[,sum(as.numeric(page_views))])"
   ]
  },
  {
   "cell_type": "code",
   "execution_count": null,
   "metadata": {
    "collapsed": false
   },
   "outputs": [],
   "source": [
    "100*(articles_by_pop[, list(dissonant_views=sum(page_views)), by=list(dissonance)][2][,c('dissonant_views')]/articles_by_pop[,sum(as.numeric(page_views))])"
   ]
  },
  {
   "cell_type": "code",
   "execution_count": null,
   "metadata": {
    "collapsed": false
   },
   "outputs": [],
   "source": [
    "100*(articles_by_pop[, list(dissonant_views=sum(page_views)), by=list(dissonance)][3][,c('dissonant_views')]/articles_by_pop[,sum(as.numeric(page_views))])"
   ]
  },
  {
   "cell_type": "code",
   "execution_count": null,
   "metadata": {
    "collapsed": false
   },
   "outputs": [],
   "source": [
    "100*(articles_by_pop[, list(dissonant_views=sum(page_views)), by=list(dissonance)][4][,c('dissonant_views')]/articles_by_pop[,sum(as.numeric(page_views))])"
   ]
  },
  {
   "cell_type": "code",
   "execution_count": null,
   "metadata": {
    "collapsed": false
   },
   "outputs": [],
   "source": [
    "100*(articles_by_pop[, list(dissonant_views=sum(page_views)), by=list(dissonance)][5][,c('dissonant_views')]/articles_by_pop[,sum(as.numeric(page_views))])"
   ]
  }
 ],
 "metadata": {
  "anaconda-cloud": {},
  "kernelspec": {
   "display_name": "R [r]",
   "language": "R",
   "name": "R [r]"
  },
  "language_info": {
   "codemirror_mode": "r",
   "file_extension": ".r",
   "mimetype": "text/x-r-source",
   "name": "R",
   "pygments_lexer": "r",
   "version": "3.3.2"
  }
 },
 "nbformat": 4,
 "nbformat_minor": 0
}
