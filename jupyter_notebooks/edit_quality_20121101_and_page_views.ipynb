{
 "cells": [
  {
   "cell_type": "code",
   "execution_count": 11,
   "metadata": {
    "collapsed": false,
    "scrolled": true
   },
   "outputs": [],
   "source": [
    "library(dplyr)"
   ]
  },
  {
   "cell_type": "code",
   "execution_count": 12,
   "metadata": {
    "collapsed": false
   },
   "outputs": [],
   "source": [
    "quality_prediction_and_page_views <- read.table(\"../results/sql_queries/entity_views_and_aggregated_revisions/entity_views_and_aggregated_revisions_and_quality_scoring_prediction_converted_20121101.tsv\", header=FALSE, sep=\"\\t\")"
   ]
  },
  {
   "cell_type": "code",
   "execution_count": 13,
   "metadata": {
    "collapsed": false
   },
   "outputs": [],
   "source": [
    "colnames(quality_prediction_and_page_views) <- c('entity_id','number_of_revisions', 'page_views', 'prediction', 'ordinal_score')"
   ]
  },
  {
   "cell_type": "code",
   "execution_count": 14,
   "metadata": {
    "collapsed": false
   },
   "outputs": [
    {
     "data": {
      "text/html": [
       "<table>\n",
       "<thead><tr><th scope=col>entity_id</th><th scope=col>number_of_revisions</th><th scope=col>page_views</th><th scope=col>prediction</th><th scope=col>ordinal_score</th></tr></thead>\n",
       "<tbody>\n",
       "\t<tr><td>Q1      </td><td>1118    </td><td> 5925113</td><td>D       </td><td>2       </td></tr>\n",
       "\t<tr><td>Q100    </td><td> 491    </td><td>17385277</td><td>D       </td><td>2       </td></tr>\n",
       "\t<tr><td>Q1000   </td><td> 596    </td><td> 4903348</td><td>D       </td><td>2       </td></tr>\n",
       "\t<tr><td>Q1001   </td><td> 973    </td><td>16341176</td><td>E       </td><td>1       </td></tr>\n",
       "\t<tr><td>Q1002   </td><td> 143    </td><td>  160651</td><td>E       </td><td>1       </td></tr>\n",
       "\t<tr><td>Q1003   </td><td> 128    </td><td>  820789</td><td>E       </td><td>1       </td></tr>\n",
       "</tbody>\n",
       "</table>\n"
      ],
      "text/latex": [
       "\\begin{tabular}{r|lllll}\n",
       " entity\\_id & number\\_of\\_revisions & page\\_views & prediction & ordinal\\_score\\\\\n",
       "\\hline\n",
       "\t Q1       & 1118     &  5925113 & D        & 2       \\\\\n",
       "\t Q100     &  491     & 17385277 & D        & 2       \\\\\n",
       "\t Q1000    &  596     &  4903348 & D        & 2       \\\\\n",
       "\t Q1001    &  973     & 16341176 & E        & 1       \\\\\n",
       "\t Q1002    &  143     &   160651 & E        & 1       \\\\\n",
       "\t Q1003    &  128     &   820789 & E        & 1       \\\\\n",
       "\\end{tabular}\n"
      ],
      "text/markdown": [
       "\n",
       "entity_id | number_of_revisions | page_views | prediction | ordinal_score | \n",
       "|---|---|---|---|---|---|\n",
       "| Q1       | 1118     |  5925113 | D        | 2        | \n",
       "| Q100     |  491     | 17385277 | D        | 2        | \n",
       "| Q1000    |  596     |  4903348 | D        | 2        | \n",
       "| Q1001    |  973     | 16341176 | E        | 1        | \n",
       "| Q1002    |  143     |   160651 | E        | 1        | \n",
       "| Q1003    |  128     |   820789 | E        | 1        | \n",
       "\n",
       "\n"
      ],
      "text/plain": [
       "  entity_id number_of_revisions page_views prediction ordinal_score\n",
       "1 Q1        1118                 5925113   D          2            \n",
       "2 Q100       491                17385277   D          2            \n",
       "3 Q1000      596                 4903348   D          2            \n",
       "4 Q1001      973                16341176   E          1            \n",
       "5 Q1002      143                  160651   E          1            \n",
       "6 Q1003      128                  820789   E          1            "
      ]
     },
     "metadata": {},
     "output_type": "display_data"
    }
   ],
   "source": [
    "head(quality_prediction_and_page_views)"
   ]
  },
  {
   "cell_type": "code",
   "execution_count": 15,
   "metadata": {
    "collapsed": false
   },
   "outputs": [
    {
     "data": {
      "text/html": [
       "0.40610963522853"
      ],
      "text/latex": [
       "0.40610963522853"
      ],
      "text/markdown": [
       "0.40610963522853"
      ],
      "text/plain": [
       "[1] 0.4061096"
      ]
     },
     "metadata": {},
     "output_type": "display_data"
    }
   ],
   "source": [
    "correlation_output <- cor(quality_prediction_and_page_views$page_views,quality_prediction_and_page_views$ordinal_score, method=\"spearman\")"
   ]
  },
  {
   "cell_type": "code",
   "execution_count": 29,
   "metadata": {
    "collapsed": false
   },
   "outputs": [
    {
     "data": {
      "text/html": [
       "0.40610963522853"
      ],
      "text/latex": [
       "0.40610963522853"
      ],
      "text/markdown": [
       "0.40610963522853"
      ],
      "text/plain": [
       "[1] 0.4061096"
      ]
     },
     "metadata": {},
     "output_type": "display_data"
    }
   ],
   "source": [
    "correlation_output"
   ]
  },
  {
   "cell_type": "code",
   "execution_count": 16,
   "metadata": {
    "collapsed": false
   },
   "outputs": [],
   "source": [
    "quality_prediction_and_page_views_model <- lm(quality_prediction_and_page_views$page_views ~ quality_prediction_and_page_views$ordinal_score)"
   ]
  },
  {
   "cell_type": "code",
   "execution_count": 17,
   "metadata": {
    "collapsed": false
   },
   "outputs": [
    {
     "data": {
      "text/plain": [
       "\n",
       "Call:\n",
       "lm(formula = quality_prediction_and_page_views$page_views ~ quality_prediction_and_page_views$ordinal_score)\n",
       "\n",
       "Residuals:\n",
       "       Min         1Q     Median         3Q        Max \n",
       " -24419800   -3697762   -3591400   -2879327 5643588634 \n",
       "\n",
       "Coefficients:\n",
       "                                                 Estimate Std. Error t value\n",
       "(Intercept)                                     -17022962    5500204  -3.095\n",
       "quality_prediction_and_page_views$ordinal_score  20721525    4129651   5.018\n",
       "                                                Pr(>|t|)    \n",
       "(Intercept)                                      0.00198 ** \n",
       "quality_prediction_and_page_views$ordinal_score 5.43e-07 ***\n",
       "---\n",
       "Signif. codes:  0 ‘***’ 0.001 ‘**’ 0.01 ‘*’ 0.05 ‘.’ 0.1 ‘ ’ 1\n",
       "\n",
       "Residual standard error: 119700000 on 4390 degrees of freedom\n",
       "Multiple R-squared:  0.005703,\tAdjusted R-squared:  0.005476 \n",
       "F-statistic: 25.18 on 1 and 4390 DF,  p-value: 5.435e-07\n"
      ]
     },
     "metadata": {},
     "output_type": "display_data"
    }
   ],
   "source": [
    "summary(quality_prediction_and_page_views_model)"
   ]
  },
  {
   "cell_type": "markdown",
   "metadata": {
    "collapsed": true
   },
   "source": [
    "## Class A Items with Least Pages Views"
   ]
  },
  {
   "cell_type": "code",
   "execution_count": 18,
   "metadata": {
    "collapsed": false
   },
   "outputs": [],
   "source": [
    "class_a_quality_prediction_and_page_views <- filter(quality_prediction_and_page_views, prediction==\"A\")"
   ]
  },
  {
   "cell_type": "code",
   "execution_count": 19,
   "metadata": {
    "collapsed": false
   },
   "outputs": [],
   "source": [
    "sorted_ascend_class_a_quality_prediction_and_page_views <- dplyr::arrange(class_a_quality_prediction_and_page_views, page_views)"
   ]
  },
  {
   "cell_type": "code",
   "execution_count": 20,
   "metadata": {
    "collapsed": false
   },
   "outputs": [
    {
     "data": {
      "text/html": [
       "<table>\n",
       "<thead><tr><th scope=col>entity_id</th><th scope=col>number_of_revisions</th><th scope=col>page_views</th><th scope=col>prediction</th><th scope=col>ordinal_score</th></tr></thead>\n",
       "<tbody>\n",
       "</tbody>\n",
       "</table>\n"
      ],
      "text/latex": [
       "\\begin{tabular}{r|lllll}\n",
       " entity\\_id & number\\_of\\_revisions & page\\_views & prediction & ordinal\\_score\\\\\n",
       "\\hline\n",
       "\\end{tabular}\n"
      ],
      "text/markdown": [
       "\n",
       "entity_id | number_of_revisions | page_views | prediction | ordinal_score | \n",
       "||\n",
       "\n",
       "\n"
      ],
      "text/plain": [
       "     entity_id number_of_revisions page_views prediction ordinal_score"
      ]
     },
     "metadata": {},
     "output_type": "display_data"
    }
   ],
   "source": [
    "head(sorted_ascend_class_a_quality_prediction_and_page_views, n=10)"
   ]
  },
  {
   "cell_type": "markdown",
   "metadata": {},
   "source": [
    "## Class E Items with Most Pages Views"
   ]
  },
  {
   "cell_type": "code",
   "execution_count": null,
   "metadata": {
    "collapsed": true
   },
   "outputs": [],
   "source": []
  },
  {
   "cell_type": "code",
   "execution_count": 21,
   "metadata": {
    "collapsed": false
   },
   "outputs": [],
   "source": [
    "class_e_quality_prediction_and_page_views <- filter(quality_prediction_and_page_views, prediction==\"E\")"
   ]
  },
  {
   "cell_type": "code",
   "execution_count": 22,
   "metadata": {
    "collapsed": false
   },
   "outputs": [],
   "source": [
    "sorted_desc_class_e_quality_prediction_and_page_views <- dplyr::arrange(class_e_quality_prediction_and_page_views, desc(page_views))"
   ]
  },
  {
   "cell_type": "code",
   "execution_count": 23,
   "metadata": {
    "collapsed": false
   },
   "outputs": [
    {
     "data": {
      "text/html": [
       "<table>\n",
       "<thead><tr><th scope=col>entity_id</th><th scope=col>number_of_revisions</th><th scope=col>page_views</th><th scope=col>prediction</th><th scope=col>ordinal_score</th></tr></thead>\n",
       "<tbody>\n",
       "\t<tr><td>Q866      </td><td> 621      </td><td>2079749157</td><td>E         </td><td>1         </td></tr>\n",
       "\t<tr><td>Q918      </td><td> 438      </td><td>2063217449</td><td>E         </td><td>1         </td></tr>\n",
       "\t<tr><td>Q1860     </td><td>1050      </td><td>1419981073</td><td>E         </td><td>1         </td></tr>\n",
       "\t<tr><td>Q328      </td><td> 643      </td><td> 378666601</td><td>E         </td><td>1         </td></tr>\n",
       "\t<tr><td>Q2736     </td><td> 702      </td><td> 270665514</td><td>E         </td><td>1         </td></tr>\n",
       "\t<tr><td>Q515      </td><td> 617      </td><td> 233190433</td><td>E         </td><td>1         </td></tr>\n",
       "\t<tr><td>Q2184     </td><td> 315      </td><td> 226793302</td><td>E         </td><td>1         </td></tr>\n",
       "\t<tr><td>Q432      </td><td> 562      </td><td>  67870906</td><td>E         </td><td>1         </td></tr>\n",
       "\t<tr><td>Q2807     </td><td> 881      </td><td>  64656434</td><td>E         </td><td>1         </td></tr>\n",
       "\t<tr><td>Q1065     </td><td> 882      </td><td>  62315605</td><td>E         </td><td>1         </td></tr>\n",
       "</tbody>\n",
       "</table>\n"
      ],
      "text/latex": [
       "\\begin{tabular}{r|lllll}\n",
       " entity\\_id & number\\_of\\_revisions & page\\_views & prediction & ordinal\\_score\\\\\n",
       "\\hline\n",
       "\t Q866       &  621       & 2079749157 & E          & 1         \\\\\n",
       "\t Q918       &  438       & 2063217449 & E          & 1         \\\\\n",
       "\t Q1860      & 1050       & 1419981073 & E          & 1         \\\\\n",
       "\t Q328       &  643       &  378666601 & E          & 1         \\\\\n",
       "\t Q2736      &  702       &  270665514 & E          & 1         \\\\\n",
       "\t Q515       &  617       &  233190433 & E          & 1         \\\\\n",
       "\t Q2184      &  315       &  226793302 & E          & 1         \\\\\n",
       "\t Q432       &  562       &   67870906 & E          & 1         \\\\\n",
       "\t Q2807      &  881       &   64656434 & E          & 1         \\\\\n",
       "\t Q1065      &  882       &   62315605 & E          & 1         \\\\\n",
       "\\end{tabular}\n"
      ],
      "text/markdown": [
       "\n",
       "entity_id | number_of_revisions | page_views | prediction | ordinal_score | \n",
       "|---|---|---|---|---|---|---|---|---|---|\n",
       "| Q866       |  621       | 2079749157 | E          | 1          | \n",
       "| Q918       |  438       | 2063217449 | E          | 1          | \n",
       "| Q1860      | 1050       | 1419981073 | E          | 1          | \n",
       "| Q328       |  643       |  378666601 | E          | 1          | \n",
       "| Q2736      |  702       |  270665514 | E          | 1          | \n",
       "| Q515       |  617       |  233190433 | E          | 1          | \n",
       "| Q2184      |  315       |  226793302 | E          | 1          | \n",
       "| Q432       |  562       |   67870906 | E          | 1          | \n",
       "| Q2807      |  881       |   64656434 | E          | 1          | \n",
       "| Q1065      |  882       |   62315605 | E          | 1          | \n",
       "\n",
       "\n"
      ],
      "text/plain": [
       "   entity_id number_of_revisions page_views prediction ordinal_score\n",
       "1  Q866       621                2079749157 E          1            \n",
       "2  Q918       438                2063217449 E          1            \n",
       "3  Q1860     1050                1419981073 E          1            \n",
       "4  Q328       643                 378666601 E          1            \n",
       "5  Q2736      702                 270665514 E          1            \n",
       "6  Q515       617                 233190433 E          1            \n",
       "7  Q2184      315                 226793302 E          1            \n",
       "8  Q432       562                  67870906 E          1            \n",
       "9  Q2807      881                  64656434 E          1            \n",
       "10 Q1065      882                  62315605 E          1            "
      ]
     },
     "metadata": {},
     "output_type": "display_data"
    }
   ],
   "source": [
    "head(sorted_desc_class_e_quality_prediction_and_page_views, n=10)"
   ]
  },
  {
   "cell_type": "code",
   "execution_count": 24,
   "metadata": {
    "collapsed": false
   },
   "outputs": [
    {
     "data": {
      "text/html": [
       "3259"
      ],
      "text/latex": [
       "3259"
      ],
      "text/markdown": [
       "3259"
      ],
      "text/plain": [
       "[1] 3259"
      ]
     },
     "metadata": {},
     "output_type": "display_data"
    }
   ],
   "source": [
    "nrow(class_e_quality_prediction_and_page_views)"
   ]
  },
  {
   "cell_type": "code",
   "execution_count": 25,
   "metadata": {
    "collapsed": false
   },
   "outputs": [
    {
     "data": {
      "text/html": [
       "1133"
      ],
      "text/latex": [
       "1133"
      ],
      "text/markdown": [
       "1133"
      ],
      "text/plain": [
       "[1] 1133"
      ]
     },
     "metadata": {},
     "output_type": "display_data"
    }
   ],
   "source": [
    "nrow(filter(quality_prediction_and_page_views, prediction==\"D\"))"
   ]
  },
  {
   "cell_type": "code",
   "execution_count": 26,
   "metadata": {
    "collapsed": false
   },
   "outputs": [
    {
     "data": {
      "text/html": [
       "0"
      ],
      "text/latex": [
       "0"
      ],
      "text/markdown": [
       "0"
      ],
      "text/plain": [
       "[1] 0"
      ]
     },
     "metadata": {},
     "output_type": "display_data"
    }
   ],
   "source": [
    "nrow(filter(quality_prediction_and_page_views, prediction==\"C\"))"
   ]
  },
  {
   "cell_type": "code",
   "execution_count": 27,
   "metadata": {
    "collapsed": false
   },
   "outputs": [
    {
     "data": {
      "text/html": [
       "0"
      ],
      "text/latex": [
       "0"
      ],
      "text/markdown": [
       "0"
      ],
      "text/plain": [
       "[1] 0"
      ]
     },
     "metadata": {},
     "output_type": "display_data"
    }
   ],
   "source": [
    "nrow(filter(quality_prediction_and_page_views, prediction==\"B\"))"
   ]
  },
  {
   "cell_type": "code",
   "execution_count": 28,
   "metadata": {
    "collapsed": false
   },
   "outputs": [
    {
     "data": {
      "text/html": [
       "0"
      ],
      "text/latex": [
       "0"
      ],
      "text/markdown": [
       "0"
      ],
      "text/plain": [
       "[1] 0"
      ]
     },
     "metadata": {},
     "output_type": "display_data"
    }
   ],
   "source": [
    "nrow(filter(quality_prediction_and_page_views, prediction==\"A\"))"
   ]
  },
  {
   "cell_type": "code",
   "execution_count": null,
   "metadata": {
    "collapsed": true
   },
   "outputs": [],
   "source": []
  }
 ],
 "metadata": {
  "anaconda-cloud": {},
  "kernelspec": {
   "display_name": "R [r]",
   "language": "R",
   "name": "R [r]"
  },
  "language_info": {
   "codemirror_mode": "r",
   "file_extension": ".r",
   "mimetype": "text/x-r-source",
   "name": "R",
   "pygments_lexer": "r",
   "version": "3.3.2"
  }
 },
 "nbformat": 4,
 "nbformat_minor": 0
}
